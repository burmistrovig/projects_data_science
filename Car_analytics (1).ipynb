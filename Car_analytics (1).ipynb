{
 "cells": [
  {
   "cell_type": "markdown",
   "metadata": {},
   "source": [
    "## Условия проекта"
   ]
  },
  {
   "cell_type": "markdown",
   "metadata": {},
   "source": [
    "Сервис по продаже автомобилей «Не бит, не крашен» разрабатывает приложение для привлечения новых клиентов. В нём можно быстро узнать рыночную стоимость своего автомобиля. В вашем распоряжении исторические данные: технические характеристики , комплектации и цены автомобилей. Требуется построить модель для определения стоимости. \n",
    "\n",
    "Заказчику важны:\n",
    "\n",
    "- качество предсказания;\n",
    "- скорость предсказания;\n",
    "- время обучения."
   ]
  },
  {
   "cell_type": "markdown",
   "metadata": {},
   "source": [
    "## Содержание проекта:\n",
    "* [1. Подготовка данных.](#1-bullet)\n",
    "* [2. Создание моделей.](#2-bullet)\n",
    "* [3. Анализ моделей.](#3-bullet)\n"
   ]
  },
  {
   "cell_type": "markdown",
   "metadata": {},
   "source": [
    "<a id='1-bullet'></a>"
   ]
  },
  {
   "cell_type": "markdown",
   "metadata": {},
   "source": [
    "# 1. Подготовка данных"
   ]
  },
  {
   "cell_type": "markdown",
   "metadata": {},
   "source": [
    "Первый шаг всегда один - портирование нужных на впоследствии библиотек!"
   ]
  },
  {
   "cell_type": "code",
   "execution_count": 1,
   "metadata": {},
   "outputs": [],
   "source": [
    "import warnings\n",
    "warnings.filterwarnings('ignore')"
   ]
  },
  {
   "cell_type": "code",
   "execution_count": 2,
   "metadata": {},
   "outputs": [
    {
     "name": "stdout",
     "output_type": "stream",
     "text": [
      "Wall time: 5.07 s\n"
     ]
    }
   ],
   "source": [
    "%%time\n",
    "import pandas as pd\n",
    "from catboost import CatBoostRegressor\n",
    "\n",
    "import lightgbm as lgb\n",
    "from sklearn import linear_model\n",
    "import numpy as np\n",
    "from sklearn.impute import SimpleImputer\n",
    "\n",
    "import seaborn as sns\n",
    "from sklearn.preprocessing import OrdinalEncoder\n",
    "\n",
    "\n",
    "from sklearn.preprocessing import StandardScaler\n",
    "from sklearn.model_selection import train_test_split\n",
    "from sklearn.metrics import mean_squared_error\n",
    "import sklearn.metrics\n",
    "from sklearn.model_selection import cross_val_score\n"
   ]
  },
  {
   "cell_type": "markdown",
   "metadata": {},
   "source": [
    "Параллельно был введен показатель времени, затраченного на выполнение этого блока кода. Очень, очень долгие 1.3 секунды были потрачены не впустую..."
   ]
  },
  {
   "cell_type": "markdown",
   "metadata": {},
   "source": [
    "Теперь взглянем на данные:"
   ]
  },
  {
   "cell_type": "code",
   "execution_count": 3,
   "metadata": {
    "scrolled": true
   },
   "outputs": [
    {
     "data": {
      "text/html": [
       "<div>\n",
       "<style scoped>\n",
       "    .dataframe tbody tr th:only-of-type {\n",
       "        vertical-align: middle;\n",
       "    }\n",
       "\n",
       "    .dataframe tbody tr th {\n",
       "        vertical-align: top;\n",
       "    }\n",
       "\n",
       "    .dataframe thead th {\n",
       "        text-align: right;\n",
       "    }\n",
       "</style>\n",
       "<table border=\"1\" class=\"dataframe\">\n",
       "  <thead>\n",
       "    <tr style=\"text-align: right;\">\n",
       "      <th></th>\n",
       "      <th>DateCrawled</th>\n",
       "      <th>Price</th>\n",
       "      <th>VehicleType</th>\n",
       "      <th>RegistrationYear</th>\n",
       "      <th>Gearbox</th>\n",
       "      <th>Power</th>\n",
       "      <th>Model</th>\n",
       "      <th>Kilometer</th>\n",
       "      <th>RegistrationMonth</th>\n",
       "      <th>FuelType</th>\n",
       "      <th>Brand</th>\n",
       "      <th>NotRepaired</th>\n",
       "      <th>DateCreated</th>\n",
       "      <th>NumberOfPictures</th>\n",
       "      <th>PostalCode</th>\n",
       "      <th>LastSeen</th>\n",
       "    </tr>\n",
       "  </thead>\n",
       "  <tbody>\n",
       "    <tr>\n",
       "      <th>0</th>\n",
       "      <td>2016-03-24 11:52:17</td>\n",
       "      <td>480</td>\n",
       "      <td>NaN</td>\n",
       "      <td>1993</td>\n",
       "      <td>manual</td>\n",
       "      <td>0</td>\n",
       "      <td>golf</td>\n",
       "      <td>150000</td>\n",
       "      <td>0</td>\n",
       "      <td>petrol</td>\n",
       "      <td>volkswagen</td>\n",
       "      <td>NaN</td>\n",
       "      <td>2016-03-24 00:00:00</td>\n",
       "      <td>0</td>\n",
       "      <td>70435</td>\n",
       "      <td>2016-04-07 03:16:57</td>\n",
       "    </tr>\n",
       "    <tr>\n",
       "      <th>1</th>\n",
       "      <td>2016-03-24 10:58:45</td>\n",
       "      <td>18300</td>\n",
       "      <td>coupe</td>\n",
       "      <td>2011</td>\n",
       "      <td>manual</td>\n",
       "      <td>190</td>\n",
       "      <td>NaN</td>\n",
       "      <td>125000</td>\n",
       "      <td>5</td>\n",
       "      <td>gasoline</td>\n",
       "      <td>audi</td>\n",
       "      <td>yes</td>\n",
       "      <td>2016-03-24 00:00:00</td>\n",
       "      <td>0</td>\n",
       "      <td>66954</td>\n",
       "      <td>2016-04-07 01:46:50</td>\n",
       "    </tr>\n",
       "    <tr>\n",
       "      <th>2</th>\n",
       "      <td>2016-03-14 12:52:21</td>\n",
       "      <td>9800</td>\n",
       "      <td>suv</td>\n",
       "      <td>2004</td>\n",
       "      <td>auto</td>\n",
       "      <td>163</td>\n",
       "      <td>grand</td>\n",
       "      <td>125000</td>\n",
       "      <td>8</td>\n",
       "      <td>gasoline</td>\n",
       "      <td>jeep</td>\n",
       "      <td>NaN</td>\n",
       "      <td>2016-03-14 00:00:00</td>\n",
       "      <td>0</td>\n",
       "      <td>90480</td>\n",
       "      <td>2016-04-05 12:47:46</td>\n",
       "    </tr>\n",
       "    <tr>\n",
       "      <th>3</th>\n",
       "      <td>2016-03-17 16:54:04</td>\n",
       "      <td>1500</td>\n",
       "      <td>small</td>\n",
       "      <td>2001</td>\n",
       "      <td>manual</td>\n",
       "      <td>75</td>\n",
       "      <td>golf</td>\n",
       "      <td>150000</td>\n",
       "      <td>6</td>\n",
       "      <td>petrol</td>\n",
       "      <td>volkswagen</td>\n",
       "      <td>no</td>\n",
       "      <td>2016-03-17 00:00:00</td>\n",
       "      <td>0</td>\n",
       "      <td>91074</td>\n",
       "      <td>2016-03-17 17:40:17</td>\n",
       "    </tr>\n",
       "    <tr>\n",
       "      <th>4</th>\n",
       "      <td>2016-03-31 17:25:20</td>\n",
       "      <td>3600</td>\n",
       "      <td>small</td>\n",
       "      <td>2008</td>\n",
       "      <td>manual</td>\n",
       "      <td>69</td>\n",
       "      <td>fabia</td>\n",
       "      <td>90000</td>\n",
       "      <td>7</td>\n",
       "      <td>gasoline</td>\n",
       "      <td>skoda</td>\n",
       "      <td>no</td>\n",
       "      <td>2016-03-31 00:00:00</td>\n",
       "      <td>0</td>\n",
       "      <td>60437</td>\n",
       "      <td>2016-04-06 10:17:21</td>\n",
       "    </tr>\n",
       "  </tbody>\n",
       "</table>\n",
       "</div>"
      ],
      "text/plain": [
       "           DateCrawled  Price VehicleType  RegistrationYear Gearbox  Power  \\\n",
       "0  2016-03-24 11:52:17    480         NaN              1993  manual      0   \n",
       "1  2016-03-24 10:58:45  18300       coupe              2011  manual    190   \n",
       "2  2016-03-14 12:52:21   9800         suv              2004    auto    163   \n",
       "3  2016-03-17 16:54:04   1500       small              2001  manual     75   \n",
       "4  2016-03-31 17:25:20   3600       small              2008  manual     69   \n",
       "\n",
       "   Model  Kilometer  RegistrationMonth  FuelType       Brand NotRepaired  \\\n",
       "0   golf     150000                  0    petrol  volkswagen         NaN   \n",
       "1    NaN     125000                  5  gasoline        audi         yes   \n",
       "2  grand     125000                  8  gasoline        jeep         NaN   \n",
       "3   golf     150000                  6    petrol  volkswagen          no   \n",
       "4  fabia      90000                  7  gasoline       skoda          no   \n",
       "\n",
       "           DateCreated  NumberOfPictures  PostalCode             LastSeen  \n",
       "0  2016-03-24 00:00:00                 0       70435  2016-04-07 03:16:57  \n",
       "1  2016-03-24 00:00:00                 0       66954  2016-04-07 01:46:50  \n",
       "2  2016-03-14 00:00:00                 0       90480  2016-04-05 12:47:46  \n",
       "3  2016-03-17 00:00:00                 0       91074  2016-03-17 17:40:17  \n",
       "4  2016-03-31 00:00:00                 0       60437  2016-04-06 10:17:21  "
      ]
     },
     "execution_count": 3,
     "metadata": {},
     "output_type": "execute_result"
    }
   ],
   "source": [
    "df_autos = pd.read_csv('C:/Users/mi/Downloads/autos.csv')\n",
    "df_autos.head()"
   ]
  },
  {
   "cell_type": "markdown",
   "metadata": {},
   "source": [
    "С первого же взгляда бросается в глаза пара пропусков в различных столбцах. С ними разберемся по-умному - с помощью SimpleImputer, но об этом позже, сначала посмотрим сколько пропусков всего"
   ]
  },
  {
   "cell_type": "code",
   "execution_count": 4,
   "metadata": {},
   "outputs": [
    {
     "data": {
      "text/plain": [
       "DateCrawled              0\n",
       "Price                    0\n",
       "VehicleType          37490\n",
       "RegistrationYear         0\n",
       "Gearbox              19833\n",
       "Power                    0\n",
       "Model                19705\n",
       "Kilometer                0\n",
       "RegistrationMonth        0\n",
       "FuelType             32895\n",
       "Brand                    0\n",
       "NotRepaired          71154\n",
       "DateCreated              0\n",
       "NumberOfPictures         0\n",
       "PostalCode               0\n",
       "LastSeen                 0\n",
       "dtype: int64"
      ]
     },
     "execution_count": 4,
     "metadata": {},
     "output_type": "execute_result"
    }
   ],
   "source": [
    "df_autos.isna().sum()"
   ]
  },
  {
   "cell_type": "markdown",
   "metadata": {},
   "source": [
    "71 тысяча пропусков в столбце с ремонтом... Это очень плохо. Без заполнения пропусков никак. "
   ]
  },
  {
   "cell_type": "code",
   "execution_count": 5,
   "metadata": {},
   "outputs": [
    {
     "name": "stdout",
     "output_type": "stream",
     "text": [
      "<class 'pandas.core.frame.DataFrame'>\n",
      "RangeIndex: 354369 entries, 0 to 354368\n",
      "Data columns (total 16 columns):\n",
      " #   Column             Non-Null Count   Dtype \n",
      "---  ------             --------------   ----- \n",
      " 0   DateCrawled        354369 non-null  object\n",
      " 1   Price              354369 non-null  int64 \n",
      " 2   VehicleType        316879 non-null  object\n",
      " 3   RegistrationYear   354369 non-null  int64 \n",
      " 4   Gearbox            334536 non-null  object\n",
      " 5   Power              354369 non-null  int64 \n",
      " 6   Model              334664 non-null  object\n",
      " 7   Kilometer          354369 non-null  int64 \n",
      " 8   RegistrationMonth  354369 non-null  int64 \n",
      " 9   FuelType           321474 non-null  object\n",
      " 10  Brand              354369 non-null  object\n",
      " 11  NotRepaired        283215 non-null  object\n",
      " 12  DateCreated        354369 non-null  object\n",
      " 13  NumberOfPictures   354369 non-null  int64 \n",
      " 14  PostalCode         354369 non-null  int64 \n",
      " 15  LastSeen           354369 non-null  object\n",
      "dtypes: int64(7), object(9)\n",
      "memory usage: 43.3+ MB\n"
     ]
    }
   ],
   "source": [
    "df_autos.info()"
   ]
  },
  {
   "cell_type": "markdown",
   "metadata": {},
   "source": [
    "Еще нужно заметить, что некоторые даты приведены в типе \"обджекта\". Переведем их в нужный нам формат даты."
   ]
  },
  {
   "cell_type": "code",
   "execution_count": 6,
   "metadata": {},
   "outputs": [],
   "source": [
    "def to_datetime(series):\n",
    "    series = pd.to_datetime(series)\n",
    "    return series\n",
    "\n",
    "date = ['DateCrawled','DateCreated','LastSeen']\n",
    "\n",
    "for series in date:\n",
    "    df_autos[series] = to_datetime(df_autos[series])"
   ]
  },
  {
   "cell_type": "markdown",
   "metadata": {},
   "source": [
    "А теперь, ради разумной вставки пропусков разделим данные на категориальные и численые"
   ]
  },
  {
   "cell_type": "code",
   "execution_count": 7,
   "metadata": {},
   "outputs": [
    {
     "data": {
      "text/plain": [
       "array([0], dtype=int64)"
      ]
     },
     "execution_count": 7,
     "metadata": {},
     "output_type": "execute_result"
    }
   ],
   "source": [
    "df_autos['NumberOfPictures'].unique()"
   ]
  },
  {
   "cell_type": "markdown",
   "metadata": {},
   "source": [
    "Еще один признак NumberOfPictures был удален"
   ]
  },
  {
   "cell_type": "code",
   "execution_count": 8,
   "metadata": {},
   "outputs": [
    {
     "name": "stdout",
     "output_type": "stream",
     "text": [
      "Wall time: 95.8 ms\n"
     ]
    }
   ],
   "source": [
    "%%time\n",
    "categorical_features = df_autos.select_dtypes(include=\"object\").columns\n",
    "integer_features = df_autos.select_dtypes(exclude=\"object\").columns\n",
    "integer_features = integer_features.drop(['DateCrawled','LastSeen','Price', 'DateCreated', \n",
    "                                          'RegistrationMonth', 'PostalCode','NumberOfPictures'])"
   ]
  },
  {
   "cell_type": "markdown",
   "metadata": {},
   "source": [
    "Некоторые признаки нам не понадобятся при анализе модели, и их участь предрешена: удалить."
   ]
  },
  {
   "cell_type": "markdown",
   "metadata": {},
   "source": [
    "Начнем же издеваться над категориальными данными! Нaчнем преображение с заполнения пропусков(как я и заспойлерил выше - с помощью SimpleImputer)"
   ]
  },
  {
   "cell_type": "code",
   "execution_count": 9,
   "metadata": {},
   "outputs": [
    {
     "name": "stdout",
     "output_type": "stream",
     "text": [
      "Wall time: 8min 48s\n"
     ]
    },
    {
     "data": {
      "text/html": [
       "<div>\n",
       "<style scoped>\n",
       "    .dataframe tbody tr th:only-of-type {\n",
       "        vertical-align: middle;\n",
       "    }\n",
       "\n",
       "    .dataframe tbody tr th {\n",
       "        vertical-align: top;\n",
       "    }\n",
       "\n",
       "    .dataframe thead th {\n",
       "        text-align: right;\n",
       "    }\n",
       "</style>\n",
       "<table border=\"1\" class=\"dataframe\">\n",
       "  <thead>\n",
       "    <tr style=\"text-align: right;\">\n",
       "      <th></th>\n",
       "      <th>VehicleType</th>\n",
       "      <th>Gearbox</th>\n",
       "      <th>Model</th>\n",
       "      <th>FuelType</th>\n",
       "      <th>Brand</th>\n",
       "      <th>NotRepaired</th>\n",
       "    </tr>\n",
       "  </thead>\n",
       "  <tbody>\n",
       "    <tr>\n",
       "      <th>0</th>\n",
       "      <td>sedan</td>\n",
       "      <td>manual</td>\n",
       "      <td>golf</td>\n",
       "      <td>petrol</td>\n",
       "      <td>volkswagen</td>\n",
       "      <td>no</td>\n",
       "    </tr>\n",
       "    <tr>\n",
       "      <th>1</th>\n",
       "      <td>coupe</td>\n",
       "      <td>manual</td>\n",
       "      <td>golf</td>\n",
       "      <td>gasoline</td>\n",
       "      <td>audi</td>\n",
       "      <td>yes</td>\n",
       "    </tr>\n",
       "    <tr>\n",
       "      <th>2</th>\n",
       "      <td>suv</td>\n",
       "      <td>auto</td>\n",
       "      <td>grand</td>\n",
       "      <td>gasoline</td>\n",
       "      <td>jeep</td>\n",
       "      <td>no</td>\n",
       "    </tr>\n",
       "    <tr>\n",
       "      <th>3</th>\n",
       "      <td>small</td>\n",
       "      <td>manual</td>\n",
       "      <td>golf</td>\n",
       "      <td>petrol</td>\n",
       "      <td>volkswagen</td>\n",
       "      <td>no</td>\n",
       "    </tr>\n",
       "    <tr>\n",
       "      <th>4</th>\n",
       "      <td>small</td>\n",
       "      <td>manual</td>\n",
       "      <td>fabia</td>\n",
       "      <td>gasoline</td>\n",
       "      <td>skoda</td>\n",
       "      <td>no</td>\n",
       "    </tr>\n",
       "    <tr>\n",
       "      <th>...</th>\n",
       "      <td>...</td>\n",
       "      <td>...</td>\n",
       "      <td>...</td>\n",
       "      <td>...</td>\n",
       "      <td>...</td>\n",
       "      <td>...</td>\n",
       "    </tr>\n",
       "    <tr>\n",
       "      <th>354364</th>\n",
       "      <td>sedan</td>\n",
       "      <td>manual</td>\n",
       "      <td>colt</td>\n",
       "      <td>petrol</td>\n",
       "      <td>mitsubishi</td>\n",
       "      <td>yes</td>\n",
       "    </tr>\n",
       "    <tr>\n",
       "      <th>354365</th>\n",
       "      <td>sedan</td>\n",
       "      <td>manual</td>\n",
       "      <td>golf</td>\n",
       "      <td>petrol</td>\n",
       "      <td>sonstige_autos</td>\n",
       "      <td>no</td>\n",
       "    </tr>\n",
       "    <tr>\n",
       "      <th>354366</th>\n",
       "      <td>convertible</td>\n",
       "      <td>auto</td>\n",
       "      <td>fortwo</td>\n",
       "      <td>petrol</td>\n",
       "      <td>smart</td>\n",
       "      <td>no</td>\n",
       "    </tr>\n",
       "    <tr>\n",
       "      <th>354367</th>\n",
       "      <td>bus</td>\n",
       "      <td>manual</td>\n",
       "      <td>transporter</td>\n",
       "      <td>gasoline</td>\n",
       "      <td>volkswagen</td>\n",
       "      <td>no</td>\n",
       "    </tr>\n",
       "    <tr>\n",
       "      <th>354368</th>\n",
       "      <td>wagon</td>\n",
       "      <td>manual</td>\n",
       "      <td>golf</td>\n",
       "      <td>gasoline</td>\n",
       "      <td>volkswagen</td>\n",
       "      <td>no</td>\n",
       "    </tr>\n",
       "  </tbody>\n",
       "</table>\n",
       "<p>354369 rows × 6 columns</p>\n",
       "</div>"
      ],
      "text/plain": [
       "        VehicleType Gearbox        Model  FuelType           Brand NotRepaired\n",
       "0             sedan  manual         golf    petrol      volkswagen          no\n",
       "1             coupe  manual         golf  gasoline            audi         yes\n",
       "2               suv    auto        grand  gasoline            jeep          no\n",
       "3             small  manual         golf    petrol      volkswagen          no\n",
       "4             small  manual        fabia  gasoline           skoda          no\n",
       "...             ...     ...          ...       ...             ...         ...\n",
       "354364        sedan  manual         colt    petrol      mitsubishi         yes\n",
       "354365        sedan  manual         golf    petrol  sonstige_autos          no\n",
       "354366  convertible    auto       fortwo    petrol           smart          no\n",
       "354367          bus  manual  transporter  gasoline      volkswagen          no\n",
       "354368        wagon  manual         golf  gasoline      volkswagen          no\n",
       "\n",
       "[354369 rows x 6 columns]"
      ]
     },
     "execution_count": 9,
     "metadata": {},
     "output_type": "execute_result"
    }
   ],
   "source": [
    "%%time\n",
    "imputer = SimpleImputer(strategy = 'most_frequent')\n",
    "imputer.fit(df_autos[categorical_features])\n",
    "df_autos[categorical_features] = imputer.transform(df_autos[categorical_features])\n",
    "df_autos[categorical_features]"
   ]
  },
  {
   "cell_type": "code",
   "execution_count": 10,
   "metadata": {},
   "outputs": [],
   "source": [
    "categorical_cols_without_encoding = df_autos[categorical_features]"
   ]
  },
  {
   "cell_type": "markdown",
   "metadata": {},
   "source": [
    "Тут я решил провести эксперимент: как лучше работает с категориальными дыннами модели бустинга - с преобразоваными или с \"сырыми\"."
   ]
  },
  {
   "cell_type": "markdown",
   "metadata": {},
   "source": [
    "Теперь это выглядит чуть-чуть красивее. Но душа требует чисел. И преобразования в OrdinalEncoder. "
   ]
  },
  {
   "cell_type": "code",
   "execution_count": 11,
   "metadata": {},
   "outputs": [
    {
     "name": "stdout",
     "output_type": "stream",
     "text": [
      "Wall time: 753 ms\n"
     ]
    }
   ],
   "source": [
    "%%time\n",
    "encoder = OrdinalEncoder()\n",
    "category_cols_for_encoding = pd.DataFrame(encoder.fit_transform(df_autos[categorical_features]),\n",
    "                            columns=df_autos[categorical_features].columns)"
   ]
  },
  {
   "cell_type": "markdown",
   "metadata": {},
   "source": [
    "А теперь чуть поиздеваемся над численными данными. Заполним пропуски, а потом применим масштабирование."
   ]
  },
  {
   "cell_type": "code",
   "execution_count": 12,
   "metadata": {},
   "outputs": [
    {
     "data": {
      "text/plain": [
       "RegistrationYear    0\n",
       "Power               0\n",
       "Kilometer           0\n",
       "dtype: int64"
      ]
     },
     "execution_count": 12,
     "metadata": {},
     "output_type": "execute_result"
    }
   ],
   "source": [
    "df_autos[integer_features].isna().sum()"
   ]
  },
  {
   "cell_type": "markdown",
   "metadata": {},
   "source": [
    "Пропусков в числовых признаках нет"
   ]
  },
  {
   "cell_type": "code",
   "execution_count": 13,
   "metadata": {},
   "outputs": [
    {
     "data": {
      "text/html": [
       "<div>\n",
       "<style scoped>\n",
       "    .dataframe tbody tr th:only-of-type {\n",
       "        vertical-align: middle;\n",
       "    }\n",
       "\n",
       "    .dataframe tbody tr th {\n",
       "        vertical-align: top;\n",
       "    }\n",
       "\n",
       "    .dataframe thead th {\n",
       "        text-align: right;\n",
       "    }\n",
       "</style>\n",
       "<table border=\"1\" class=\"dataframe\">\n",
       "  <thead>\n",
       "    <tr style=\"text-align: right;\">\n",
       "      <th></th>\n",
       "      <th>VehicleType</th>\n",
       "      <th>Gearbox</th>\n",
       "      <th>Model</th>\n",
       "      <th>FuelType</th>\n",
       "      <th>Brand</th>\n",
       "      <th>NotRepaired</th>\n",
       "    </tr>\n",
       "  </thead>\n",
       "  <tbody>\n",
       "    <tr>\n",
       "      <th>0</th>\n",
       "      <td>4.0</td>\n",
       "      <td>1.0</td>\n",
       "      <td>116.0</td>\n",
       "      <td>6.0</td>\n",
       "      <td>38.0</td>\n",
       "      <td>0.0</td>\n",
       "    </tr>\n",
       "    <tr>\n",
       "      <th>1</th>\n",
       "      <td>2.0</td>\n",
       "      <td>1.0</td>\n",
       "      <td>116.0</td>\n",
       "      <td>2.0</td>\n",
       "      <td>1.0</td>\n",
       "      <td>1.0</td>\n",
       "    </tr>\n",
       "    <tr>\n",
       "      <th>2</th>\n",
       "      <td>6.0</td>\n",
       "      <td>0.0</td>\n",
       "      <td>117.0</td>\n",
       "      <td>2.0</td>\n",
       "      <td>14.0</td>\n",
       "      <td>0.0</td>\n",
       "    </tr>\n",
       "    <tr>\n",
       "      <th>3</th>\n",
       "      <td>5.0</td>\n",
       "      <td>1.0</td>\n",
       "      <td>116.0</td>\n",
       "      <td>6.0</td>\n",
       "      <td>38.0</td>\n",
       "      <td>0.0</td>\n",
       "    </tr>\n",
       "    <tr>\n",
       "      <th>4</th>\n",
       "      <td>5.0</td>\n",
       "      <td>1.0</td>\n",
       "      <td>101.0</td>\n",
       "      <td>2.0</td>\n",
       "      <td>31.0</td>\n",
       "      <td>0.0</td>\n",
       "    </tr>\n",
       "  </tbody>\n",
       "</table>\n",
       "</div>"
      ],
      "text/plain": [
       "   VehicleType  Gearbox  Model  FuelType  Brand  NotRepaired\n",
       "0          4.0      1.0  116.0       6.0   38.0          0.0\n",
       "1          2.0      1.0  116.0       2.0    1.0          1.0\n",
       "2          6.0      0.0  117.0       2.0   14.0          0.0\n",
       "3          5.0      1.0  116.0       6.0   38.0          0.0\n",
       "4          5.0      1.0  101.0       2.0   31.0          0.0"
      ]
     },
     "execution_count": 13,
     "metadata": {},
     "output_type": "execute_result"
    }
   ],
   "source": [
    "category_cols_for_encoding.head()"
   ]
  },
  {
   "cell_type": "code",
   "execution_count": 14,
   "metadata": {},
   "outputs": [
    {
     "data": {
      "text/html": [
       "<div>\n",
       "<style scoped>\n",
       "    .dataframe tbody tr th:only-of-type {\n",
       "        vertical-align: middle;\n",
       "    }\n",
       "\n",
       "    .dataframe tbody tr th {\n",
       "        vertical-align: top;\n",
       "    }\n",
       "\n",
       "    .dataframe thead th {\n",
       "        text-align: right;\n",
       "    }\n",
       "</style>\n",
       "<table border=\"1\" class=\"dataframe\">\n",
       "  <thead>\n",
       "    <tr style=\"text-align: right;\">\n",
       "      <th></th>\n",
       "      <th>VehicleType</th>\n",
       "      <th>Gearbox</th>\n",
       "      <th>Model</th>\n",
       "      <th>FuelType</th>\n",
       "      <th>Brand</th>\n",
       "      <th>NotRepaired</th>\n",
       "    </tr>\n",
       "  </thead>\n",
       "  <tbody>\n",
       "    <tr>\n",
       "      <th>0</th>\n",
       "      <td>sedan</td>\n",
       "      <td>manual</td>\n",
       "      <td>golf</td>\n",
       "      <td>petrol</td>\n",
       "      <td>volkswagen</td>\n",
       "      <td>no</td>\n",
       "    </tr>\n",
       "    <tr>\n",
       "      <th>1</th>\n",
       "      <td>coupe</td>\n",
       "      <td>manual</td>\n",
       "      <td>golf</td>\n",
       "      <td>gasoline</td>\n",
       "      <td>audi</td>\n",
       "      <td>yes</td>\n",
       "    </tr>\n",
       "    <tr>\n",
       "      <th>2</th>\n",
       "      <td>suv</td>\n",
       "      <td>auto</td>\n",
       "      <td>grand</td>\n",
       "      <td>gasoline</td>\n",
       "      <td>jeep</td>\n",
       "      <td>no</td>\n",
       "    </tr>\n",
       "    <tr>\n",
       "      <th>3</th>\n",
       "      <td>small</td>\n",
       "      <td>manual</td>\n",
       "      <td>golf</td>\n",
       "      <td>petrol</td>\n",
       "      <td>volkswagen</td>\n",
       "      <td>no</td>\n",
       "    </tr>\n",
       "    <tr>\n",
       "      <th>4</th>\n",
       "      <td>small</td>\n",
       "      <td>manual</td>\n",
       "      <td>fabia</td>\n",
       "      <td>gasoline</td>\n",
       "      <td>skoda</td>\n",
       "      <td>no</td>\n",
       "    </tr>\n",
       "  </tbody>\n",
       "</table>\n",
       "</div>"
      ],
      "text/plain": [
       "  VehicleType Gearbox  Model  FuelType       Brand NotRepaired\n",
       "0       sedan  manual   golf    petrol  volkswagen          no\n",
       "1       coupe  manual   golf  gasoline        audi         yes\n",
       "2         suv    auto  grand  gasoline        jeep          no\n",
       "3       small  manual   golf    petrol  volkswagen          no\n",
       "4       small  manual  fabia  gasoline       skoda          no"
      ]
     },
     "execution_count": 14,
     "metadata": {},
     "output_type": "execute_result"
    }
   ],
   "source": [
    "categorical_cols_without_encoding.head()"
   ]
  },
  {
   "cell_type": "markdown",
   "metadata": {},
   "source": [
    "Готово! Теперь данные почти готовы для взаимодействия с моделями. Только сделать один маленький шаг"
   ]
  },
  {
   "cell_type": "code",
   "execution_count": 15,
   "metadata": {},
   "outputs": [],
   "source": [
    "integer_cols = df_autos[integer_features]"
   ]
  },
  {
   "cell_type": "code",
   "execution_count": 16,
   "metadata": {},
   "outputs": [
    {
     "data": {
      "text/html": [
       "<div>\n",
       "<style scoped>\n",
       "    .dataframe tbody tr th:only-of-type {\n",
       "        vertical-align: middle;\n",
       "    }\n",
       "\n",
       "    .dataframe tbody tr th {\n",
       "        vertical-align: top;\n",
       "    }\n",
       "\n",
       "    .dataframe thead th {\n",
       "        text-align: right;\n",
       "    }\n",
       "</style>\n",
       "<table border=\"1\" class=\"dataframe\">\n",
       "  <thead>\n",
       "    <tr style=\"text-align: right;\">\n",
       "      <th></th>\n",
       "      <th>VehicleType</th>\n",
       "      <th>Gearbox</th>\n",
       "      <th>Model</th>\n",
       "      <th>FuelType</th>\n",
       "      <th>Brand</th>\n",
       "      <th>NotRepaired</th>\n",
       "      <th>RegistrationYear</th>\n",
       "      <th>Power</th>\n",
       "      <th>Kilometer</th>\n",
       "      <th>Price</th>\n",
       "    </tr>\n",
       "  </thead>\n",
       "  <tbody>\n",
       "    <tr>\n",
       "      <th>0</th>\n",
       "      <td>4.0</td>\n",
       "      <td>1.0</td>\n",
       "      <td>116.0</td>\n",
       "      <td>6.0</td>\n",
       "      <td>38.0</td>\n",
       "      <td>0.0</td>\n",
       "      <td>1993</td>\n",
       "      <td>0</td>\n",
       "      <td>150000</td>\n",
       "      <td>480</td>\n",
       "    </tr>\n",
       "    <tr>\n",
       "      <th>1</th>\n",
       "      <td>2.0</td>\n",
       "      <td>1.0</td>\n",
       "      <td>116.0</td>\n",
       "      <td>2.0</td>\n",
       "      <td>1.0</td>\n",
       "      <td>1.0</td>\n",
       "      <td>2011</td>\n",
       "      <td>190</td>\n",
       "      <td>125000</td>\n",
       "      <td>18300</td>\n",
       "    </tr>\n",
       "    <tr>\n",
       "      <th>2</th>\n",
       "      <td>6.0</td>\n",
       "      <td>0.0</td>\n",
       "      <td>117.0</td>\n",
       "      <td>2.0</td>\n",
       "      <td>14.0</td>\n",
       "      <td>0.0</td>\n",
       "      <td>2004</td>\n",
       "      <td>163</td>\n",
       "      <td>125000</td>\n",
       "      <td>9800</td>\n",
       "    </tr>\n",
       "    <tr>\n",
       "      <th>3</th>\n",
       "      <td>5.0</td>\n",
       "      <td>1.0</td>\n",
       "      <td>116.0</td>\n",
       "      <td>6.0</td>\n",
       "      <td>38.0</td>\n",
       "      <td>0.0</td>\n",
       "      <td>2001</td>\n",
       "      <td>75</td>\n",
       "      <td>150000</td>\n",
       "      <td>1500</td>\n",
       "    </tr>\n",
       "    <tr>\n",
       "      <th>4</th>\n",
       "      <td>5.0</td>\n",
       "      <td>1.0</td>\n",
       "      <td>101.0</td>\n",
       "      <td>2.0</td>\n",
       "      <td>31.0</td>\n",
       "      <td>0.0</td>\n",
       "      <td>2008</td>\n",
       "      <td>69</td>\n",
       "      <td>90000</td>\n",
       "      <td>3600</td>\n",
       "    </tr>\n",
       "  </tbody>\n",
       "</table>\n",
       "</div>"
      ],
      "text/plain": [
       "   VehicleType  Gearbox  Model  FuelType  Brand  NotRepaired  \\\n",
       "0          4.0      1.0  116.0       6.0   38.0          0.0   \n",
       "1          2.0      1.0  116.0       2.0    1.0          1.0   \n",
       "2          6.0      0.0  117.0       2.0   14.0          0.0   \n",
       "3          5.0      1.0  116.0       6.0   38.0          0.0   \n",
       "4          5.0      1.0  101.0       2.0   31.0          0.0   \n",
       "\n",
       "   RegistrationYear  Power  Kilometer  Price  \n",
       "0              1993      0     150000    480  \n",
       "1              2011    190     125000  18300  \n",
       "2              2004    163     125000   9800  \n",
       "3              2001     75     150000   1500  \n",
       "4              2008     69      90000   3600  "
      ]
     },
     "execution_count": 16,
     "metadata": {},
     "output_type": "execute_result"
    }
   ],
   "source": [
    "df_for_boosting_with_encode = category_cols_for_encoding.merge(integer_cols, \n",
    "                                                               on = category_cols_for_encoding.index).drop('key_0', axis = 1)\n",
    "df_for_boosting_with_encode =  df_for_boosting_with_encode.merge(df_autos['Price'],\n",
    "                                                                 on = df_for_boosting_with_encode.index).drop('key_0', axis = 1)\n",
    "df_for_boosting_with_encode.head()"
   ]
  },
  {
   "cell_type": "code",
   "execution_count": 17,
   "metadata": {},
   "outputs": [
    {
     "data": {
      "text/html": [
       "<div>\n",
       "<style scoped>\n",
       "    .dataframe tbody tr th:only-of-type {\n",
       "        vertical-align: middle;\n",
       "    }\n",
       "\n",
       "    .dataframe tbody tr th {\n",
       "        vertical-align: top;\n",
       "    }\n",
       "\n",
       "    .dataframe thead th {\n",
       "        text-align: right;\n",
       "    }\n",
       "</style>\n",
       "<table border=\"1\" class=\"dataframe\">\n",
       "  <thead>\n",
       "    <tr style=\"text-align: right;\">\n",
       "      <th></th>\n",
       "      <th>VehicleType</th>\n",
       "      <th>Gearbox</th>\n",
       "      <th>Model</th>\n",
       "      <th>FuelType</th>\n",
       "      <th>Brand</th>\n",
       "      <th>NotRepaired</th>\n",
       "      <th>RegistrationYear</th>\n",
       "      <th>Power</th>\n",
       "      <th>Kilometer</th>\n",
       "      <th>Price</th>\n",
       "    </tr>\n",
       "  </thead>\n",
       "  <tbody>\n",
       "    <tr>\n",
       "      <th>0</th>\n",
       "      <td>sedan</td>\n",
       "      <td>manual</td>\n",
       "      <td>golf</td>\n",
       "      <td>petrol</td>\n",
       "      <td>volkswagen</td>\n",
       "      <td>no</td>\n",
       "      <td>1993</td>\n",
       "      <td>0</td>\n",
       "      <td>150000</td>\n",
       "      <td>480</td>\n",
       "    </tr>\n",
       "    <tr>\n",
       "      <th>1</th>\n",
       "      <td>coupe</td>\n",
       "      <td>manual</td>\n",
       "      <td>golf</td>\n",
       "      <td>gasoline</td>\n",
       "      <td>audi</td>\n",
       "      <td>yes</td>\n",
       "      <td>2011</td>\n",
       "      <td>190</td>\n",
       "      <td>125000</td>\n",
       "      <td>18300</td>\n",
       "    </tr>\n",
       "    <tr>\n",
       "      <th>2</th>\n",
       "      <td>suv</td>\n",
       "      <td>auto</td>\n",
       "      <td>grand</td>\n",
       "      <td>gasoline</td>\n",
       "      <td>jeep</td>\n",
       "      <td>no</td>\n",
       "      <td>2004</td>\n",
       "      <td>163</td>\n",
       "      <td>125000</td>\n",
       "      <td>9800</td>\n",
       "    </tr>\n",
       "    <tr>\n",
       "      <th>3</th>\n",
       "      <td>small</td>\n",
       "      <td>manual</td>\n",
       "      <td>golf</td>\n",
       "      <td>petrol</td>\n",
       "      <td>volkswagen</td>\n",
       "      <td>no</td>\n",
       "      <td>2001</td>\n",
       "      <td>75</td>\n",
       "      <td>150000</td>\n",
       "      <td>1500</td>\n",
       "    </tr>\n",
       "    <tr>\n",
       "      <th>4</th>\n",
       "      <td>small</td>\n",
       "      <td>manual</td>\n",
       "      <td>fabia</td>\n",
       "      <td>gasoline</td>\n",
       "      <td>skoda</td>\n",
       "      <td>no</td>\n",
       "      <td>2008</td>\n",
       "      <td>69</td>\n",
       "      <td>90000</td>\n",
       "      <td>3600</td>\n",
       "    </tr>\n",
       "  </tbody>\n",
       "</table>\n",
       "</div>"
      ],
      "text/plain": [
       "  VehicleType Gearbox  Model  FuelType       Brand NotRepaired  \\\n",
       "0       sedan  manual   golf    petrol  volkswagen          no   \n",
       "1       coupe  manual   golf  gasoline        audi         yes   \n",
       "2         suv    auto  grand  gasoline        jeep          no   \n",
       "3       small  manual   golf    petrol  volkswagen          no   \n",
       "4       small  manual  fabia  gasoline       skoda          no   \n",
       "\n",
       "   RegistrationYear  Power  Kilometer  Price  \n",
       "0              1993      0     150000    480  \n",
       "1              2011    190     125000  18300  \n",
       "2              2004    163     125000   9800  \n",
       "3              2001     75     150000   1500  \n",
       "4              2008     69      90000   3600  "
      ]
     },
     "execution_count": 17,
     "metadata": {},
     "output_type": "execute_result"
    }
   ],
   "source": [
    "df_for_boosting_without_encoding = categorical_cols_without_encoding.merge(integer_cols, \n",
    "                                                                           on = categorical_cols_without_encoding.index).drop('key_0', axis = 1)\n",
    "df_for_boosting_without_encoding =  df_for_boosting_without_encoding.merge(df_autos['Price'], \n",
    "                                                                           on = df_for_boosting_without_encoding.index).drop('key_0', axis = 1)\n",
    "df_for_boosting_without_encoding.head()"
   ]
  },
  {
   "cell_type": "markdown",
   "metadata": {},
   "source": [
    "Франкеншейны готов! Осталось только опять их расчленить, на этот раз на признаки факторы и признаки результаты. А потом пускаем в город!"
   ]
  },
  {
   "cell_type": "code",
   "execution_count": 18,
   "metadata": {},
   "outputs": [],
   "source": [
    "features_auto = df_for_boosting_with_encode.drop('Price', axis = 1)\n",
    "target_auto = df_for_boosting_with_encode['Price']\n",
    "\n",
    "features_train, features_test, target_train, target_test = train_test_split(\n",
    "    features_auto, target_auto , test_size=0.25, random_state=12345)"
   ]
  },
  {
   "cell_type": "code",
   "execution_count": 19,
   "metadata": {},
   "outputs": [],
   "source": [
    "features_auto_1 = df_for_boosting_without_encoding.drop('Price', axis = 1)\n",
    "target_auto_1 = df_for_boosting_without_encoding['Price']\n",
    "\n",
    "features_train_1, features_test_1, target_train_1, target_test_1 = train_test_split(\n",
    "    features_auto_1, target_auto_1 , test_size=0.25, random_state=12345)"
   ]
  },
  {
   "cell_type": "code",
   "execution_count": 20,
   "metadata": {},
   "outputs": [
    {
     "name": "stdout",
     "output_type": "stream",
     "text": [
      "Wall time: 250 ms\n"
     ]
    }
   ],
   "source": [
    "%%time\n",
    "scaler = StandardScaler()\n",
    "scaler.fit(features_train[integer_features])\n",
    "\n",
    "features_train[integer_features] = scaler.transform(features_train[integer_features])\n",
    "features_test[integer_features] = scaler.transform(features_test[integer_features])"
   ]
  },
  {
   "cell_type": "code",
   "execution_count": 21,
   "metadata": {},
   "outputs": [
    {
     "name": "stdout",
     "output_type": "stream",
     "text": [
      "Wall time: 263 ms\n"
     ]
    }
   ],
   "source": [
    "%%time\n",
    "scaler = StandardScaler()\n",
    "scaler.fit(features_train_1[integer_features])\n",
    "\n",
    "features_train_1[integer_features]= scaler.transform(features_train_1[integer_features])\n",
    "features_test_1[integer_features]= scaler.transform(features_test_1[integer_features])"
   ]
  },
  {
   "cell_type": "markdown",
   "metadata": {},
   "source": [
    "<a id='2-bullet'></a>"
   ]
  },
  {
   "cell_type": "markdown",
   "metadata": {},
   "source": [
    "# 2. Обучение моделей"
   ]
  },
  {
   "cell_type": "markdown",
   "metadata": {},
   "source": [
    "Начнем с обучения модели CatBoost. Сначала спонтанная модель, а потом начнем играться с скоростью обучения)"
   ]
  },
  {
   "cell_type": "code",
   "execution_count": 22,
   "metadata": {},
   "outputs": [
    {
     "name": "stdout",
     "output_type": "stream",
     "text": [
      "Learning rate set to 0.5\n",
      "0:\tlearn: 3271.0558946\ttotal: 215ms\tremaining: 10.5s\n",
      "10:\tlearn: 2097.3272661\ttotal: 643ms\tremaining: 2.28s\n",
      "20:\tlearn: 1994.2054436\ttotal: 1.13s\tremaining: 1.57s\n",
      "30:\tlearn: 1945.6550064\ttotal: 1.64s\tremaining: 1s\n",
      "40:\tlearn: 1911.0637789\ttotal: 2.16s\tremaining: 474ms\n",
      "49:\tlearn: 1883.0373601\ttotal: 2.66s\tremaining: 0us\n",
      "Wall time: 3.06 s\n"
     ]
    },
    {
     "data": {
      "text/plain": [
       "<catboost.core.CatBoostRegressor at 0x26181b52e08>"
      ]
     },
     "execution_count": 22,
     "metadata": {},
     "output_type": "execute_result"
    }
   ],
   "source": [
    "%%time\n",
    "model_cat_classic = CatBoostRegressor(iterations = 50)\n",
    "model_cat_classic.fit(features_train, target_train, verbose=10)"
   ]
  },
  {
   "cell_type": "code",
   "execution_count": 23,
   "metadata": {},
   "outputs": [
    {
     "name": "stdout",
     "output_type": "stream",
     "text": [
      "Learning rate set to 0.5\n",
      "0:\tlearn: 3287.1983593\ttotal: 132ms\tremaining: 6.48s\n",
      "10:\tlearn: 2043.1935484\ttotal: 1.43s\tremaining: 5.06s\n",
      "20:\tlearn: 1958.7595897\ttotal: 2.67s\tremaining: 3.68s\n",
      "30:\tlearn: 1919.5529672\ttotal: 3.88s\tremaining: 2.38s\n",
      "40:\tlearn: 1888.1804600\ttotal: 5.09s\tremaining: 1.12s\n",
      "49:\tlearn: 1870.0882217\ttotal: 6.18s\tremaining: 0us\n",
      "Wall time: 7.38 s\n"
     ]
    },
    {
     "data": {
      "text/plain": [
       "<catboost.core.CatBoostRegressor at 0x26181b453c8>"
      ]
     },
     "execution_count": 23,
     "metadata": {},
     "output_type": "execute_result"
    }
   ],
   "source": [
    "%%time\n",
    "model_cat_classic_1 = CatBoostRegressor(iterations = 50)\n",
    "model_cat_classic_1.fit(features_train_1, target_train_1, \n",
    "                        cat_features = categorical_cols_without_encoding.columns, verbose=10)"
   ]
  },
  {
   "cell_type": "code",
   "execution_count": 24,
   "metadata": {},
   "outputs": [
    {
     "data": {
      "text/plain": [
       "Index(['VehicleType', 'Gearbox', 'Model', 'FuelType', 'Brand', 'NotRepaired'], dtype='object')"
      ]
     },
     "execution_count": 24,
     "metadata": {},
     "output_type": "execute_result"
    }
   ],
   "source": [
    "cat_features = categorical_cols_without_encoding.columns\n",
    "cat_features"
   ]
  },
  {
   "cell_type": "markdown",
   "metadata": {},
   "source": [
    "Надо признать, пока кэтбуст лучше справляется с сырыми категориальными данными. Немного, но точнее их предсказывает, хоть и почти двукратно медленнее"
   ]
  },
  {
   "cell_type": "code",
   "execution_count": 25,
   "metadata": {},
   "outputs": [
    {
     "name": "stdout",
     "output_type": "stream",
     "text": [
      "0:\tlearn: 3964.6447766\ttotal: 63.6ms\tremaining: 3.12s\n",
      "10:\tlearn: 2347.1484525\ttotal: 641ms\tremaining: 2.27s\n",
      "20:\tlearn: 2139.9928747\ttotal: 1.2s\tremaining: 1.65s\n",
      "30:\tlearn: 2050.4325904\ttotal: 1.7s\tremaining: 1.04s\n",
      "40:\tlearn: 2005.6992659\ttotal: 2.24s\tremaining: 491ms\n",
      "49:\tlearn: 1975.1347034\ttotal: 2.72s\tremaining: 0us\n",
      "Wall time: 3 s\n"
     ]
    },
    {
     "data": {
      "text/plain": [
       "<catboost.core.CatBoostRegressor at 0x26181b63688>"
      ]
     },
     "execution_count": 25,
     "metadata": {},
     "output_type": "execute_result"
    }
   ],
   "source": [
    "%%time\n",
    "model_cat = CatBoostRegressor(iterations = 50, learning_rate = 0.2)\n",
    "model_cat.fit(features_train, target_train, verbose=10)\n"
   ]
  },
  {
   "cell_type": "code",
   "execution_count": 26,
   "metadata": {},
   "outputs": [
    {
     "name": "stdout",
     "output_type": "stream",
     "text": [
      "0:\tlearn: 3971.0071308\ttotal: 167ms\tremaining: 8.18s\n",
      "10:\tlearn: 2287.7796526\ttotal: 1.36s\tremaining: 4.81s\n",
      "20:\tlearn: 2075.5786181\ttotal: 2.53s\tremaining: 3.49s\n",
      "30:\tlearn: 2010.4034569\ttotal: 3.73s\tremaining: 2.28s\n",
      "40:\tlearn: 1970.2826258\ttotal: 4.92s\tremaining: 1.08s\n",
      "49:\tlearn: 1948.3853710\ttotal: 6s\tremaining: 0us\n",
      "Wall time: 7.22 s\n"
     ]
    },
    {
     "data": {
      "text/plain": [
       "<catboost.core.CatBoostRegressor at 0x26181b65dc8>"
      ]
     },
     "execution_count": 26,
     "metadata": {},
     "output_type": "execute_result"
    }
   ],
   "source": [
    "%%time\n",
    "model_cat_1 = CatBoostRegressor(iterations = 50, learning_rate = 0.2)\n",
    "model_cat_1.fit(features_train_1, target_train_1,\n",
    "                cat_features = categorical_features, verbose=10)"
   ]
  },
  {
   "cell_type": "markdown",
   "metadata": {},
   "source": [
    "Вообще значение скорости обучения в 0.3 оптимальное с точки зрения точности (и метрики rmse)"
   ]
  },
  {
   "cell_type": "markdown",
   "metadata": {},
   "source": [
    "А уж время-то какое! 9-18 секунд, в зависимости от входных данных, думаю, заказчик будет доволен!"
   ]
  },
  {
   "cell_type": "markdown",
   "metadata": {},
   "source": [
    "А теперь проведем кросс валидацию"
   ]
  },
  {
   "cell_type": "code",
   "execution_count": 27,
   "metadata": {},
   "outputs": [],
   "source": [
    "from sklearn.metrics import  make_scorer\n",
    "def rmse_for_cv(y_true, y_pred):\n",
    "    return  mean_squared_error(y_true, y_pred) **0.5\n",
    "\n",
    "rMSE = make_scorer(rmse_for_cv, greater_is_better = False)"
   ]
  },
  {
   "cell_type": "code",
   "execution_count": 28,
   "metadata": {},
   "outputs": [
    {
     "name": "stdout",
     "output_type": "stream",
     "text": [
      "0:\tlearn: 4852.1742726\ttest: 4853.0280584\tbest: 4853.0280584 (0)\ttotal: 1.24s\tremaining: 1m\n",
      "10:\tlearn: 2144.0577603\ttest: 2146.0384871\tbest: 2146.0384871 (10)\ttotal: 8.65s\tremaining: 30.7s\n",
      "20:\tlearn: 2017.9794464\ttest: 2024.0531725\tbest: 2024.0531725 (20)\ttotal: 14.8s\tremaining: 20.4s\n",
      "30:\tlearn: 1967.1487957\ttest: 1976.1249549\tbest: 1976.1249549 (30)\ttotal: 20.8s\tremaining: 12.8s\n",
      "40:\tlearn: 1933.5965262\ttest: 1945.6903111\tbest: 1945.6903111 (40)\ttotal: 27.3s\tremaining: 6s\n",
      "49:\tlearn: 1909.4297651\ttest: 1924.0676067\tbest: 1924.0676067 (49)\ttotal: 32.8s\tremaining: 0us\n",
      "Wall time: 34 s\n"
     ]
    }
   ],
   "source": [
    "%%time\n",
    "from catboost import Pool, cv\n",
    "cv_dataset = Pool(data=features_train_1,\n",
    "                  label=target_train_1,\n",
    "                  cat_features=categorical_features)\n",
    "\n",
    "params = {\"iterations\": 50,\n",
    "          \"verbose\": 10,\n",
    "          \"learning_rate\" : 0.3,\n",
    "         \"loss_function\" : \"RMSE\"}\n",
    "\n",
    "scores = cv(cv_dataset,\n",
    "            params,\n",
    "            fold_count=5)\n"
   ]
  },
  {
   "cell_type": "code",
   "execution_count": 29,
   "metadata": {},
   "outputs": [
    {
     "data": {
      "text/plain": [
       "iterations           24.500000\n",
       "test-RMSE-mean     2173.805804\n",
       "test-RMSE-std        17.190263\n",
       "train-RMSE-mean    2166.582628\n",
       "train-RMSE-std        8.512543\n",
       "dtype: float64"
      ]
     },
     "execution_count": 29,
     "metadata": {},
     "output_type": "execute_result"
    }
   ],
   "source": [
    "mean_scores = scores.mean()\n",
    "mean_scores "
   ]
  },
  {
   "cell_type": "code",
   "execution_count": 30,
   "metadata": {},
   "outputs": [
    {
     "name": "stdout",
     "output_type": "stream",
     "text": [
      "0:\tlearn: 6156.8007920\ttest: 6156.7922636\tbest: 6156.7922636 (0)\ttotal: 528ms\tremaining: 25.9s\n",
      "10:\tlearn: 4897.6425149\ttest: 4897.9323895\tbest: 4897.9323895 (10)\ttotal: 4.11s\tremaining: 14.6s\n",
      "20:\tlearn: 4018.7737812\ttest: 4019.2891713\tbest: 4019.2891713 (20)\ttotal: 7.46s\tremaining: 10.3s\n",
      "30:\tlearn: 3416.4297881\ttest: 3417.3616376\tbest: 3417.3616376 (30)\ttotal: 10.8s\tremaining: 6.6s\n",
      "40:\tlearn: 3009.9156972\ttest: 3010.9829269\tbest: 3010.9829269 (40)\ttotal: 14.4s\tremaining: 3.16s\n",
      "49:\tlearn: 2763.3856170\ttest: 2764.7833186\tbest: 2764.7833186 (49)\ttotal: 17.4s\tremaining: 0us\n",
      "Wall time: 17.7 s\n"
     ]
    }
   ],
   "source": [
    "%%time\n",
    "cv_dataset_1 = Pool(data=features_train,\n",
    "                  label=target_train,\n",
    "                  )\n",
    "\n",
    "params_1 = {\"iterations\": 50,\n",
    "          \"verbose\": 10,\n",
    "         \"loss_function\" : \"RMSE\"}\n",
    "\n",
    "scores_1 = cv(cv_dataset_1,\n",
    "            params_1,\n",
    "            fold_count=5)\n",
    "\n",
    "score_mean_1 = scores_1.mean()"
   ]
  },
  {
   "cell_type": "code",
   "execution_count": 31,
   "metadata": {},
   "outputs": [
    {
     "name": "stdout",
     "output_type": "stream",
     "text": [
      "0:\tlearn: 6159.6023736\ttest: 6159.6728246\tbest: 6159.6728246 (0)\ttotal: 1.12s\tremaining: 55.1s\n",
      "10:\tlearn: 4899.6632508\ttest: 4899.6574800\tbest: 4899.6574800 (10)\ttotal: 7.58s\tremaining: 26.9s\n",
      "20:\tlearn: 4019.6242773\ttest: 4019.9621061\tbest: 4019.9621061 (20)\ttotal: 13.7s\tremaining: 19s\n",
      "30:\tlearn: 3415.7151036\ttest: 3416.5437601\tbest: 3416.5437601 (30)\ttotal: 19.9s\tremaining: 12.2s\n",
      "40:\tlearn: 3006.2375555\ttest: 3006.6409153\tbest: 3006.6409153 (40)\ttotal: 26.3s\tremaining: 5.78s\n",
      "49:\tlearn: 2750.9375094\ttest: 2751.0970660\tbest: 2751.0970660 (49)\ttotal: 31.9s\tremaining: 0us\n",
      "Wall time: 32.2 s\n"
     ]
    }
   ],
   "source": [
    "%%time\n",
    "scores_2 = cv(cv_dataset,\n",
    "            params_1,\n",
    "            fold_count=5)\n",
    "score_mean_2 = scores_2.mean()"
   ]
  },
  {
   "cell_type": "code",
   "execution_count": 32,
   "metadata": {},
   "outputs": [
    {
     "name": "stdout",
     "output_type": "stream",
     "text": [
      "0:\tlearn: 4821.4628523\ttest: 4821.5223976\tbest: 4821.5223976 (0)\ttotal: 492ms\tremaining: 24.1s\n",
      "10:\tlearn: 2216.3170190\ttest: 2220.0556564\tbest: 2220.0556564 (10)\ttotal: 3.84s\tremaining: 13.6s\n",
      "20:\tlearn: 2059.5448971\ttest: 2064.5432260\tbest: 2064.5432260 (20)\ttotal: 7.83s\tremaining: 10.8s\n",
      "30:\tlearn: 1995.4765468\ttest: 2004.2011311\tbest: 2004.2011311 (30)\ttotal: 13.5s\tremaining: 8.27s\n",
      "40:\tlearn: 1957.8892921\ttest: 1969.1384738\tbest: 1969.1384738 (40)\ttotal: 16.8s\tremaining: 3.68s\n",
      "49:\tlearn: 1931.7642723\ttest: 1946.0324585\tbest: 1946.0324585 (49)\ttotal: 19.7s\tremaining: 0us\n",
      "Wall time: 20 s\n"
     ]
    }
   ],
   "source": [
    "%%time\n",
    "scores_3 = cv(cv_dataset_1,\n",
    "            params,\n",
    "            fold_count=5)\n",
    "score_mean_3 = scores_2.mean()"
   ]
  },
  {
   "cell_type": "code",
   "execution_count": 33,
   "metadata": {},
   "outputs": [
    {
     "data": {
      "text/plain": [
       "iterations           24.500000\n",
       "test-RMSE-mean     3972.391836\n",
       "test-RMSE-std        14.646398\n",
       "train-RMSE-mean    3971.723598\n",
       "train-RMSE-std        4.165810\n",
       "dtype: float64"
      ]
     },
     "execution_count": 33,
     "metadata": {},
     "output_type": "execute_result"
    }
   ],
   "source": [
    "score_mean_1"
   ]
  },
  {
   "cell_type": "code",
   "execution_count": 34,
   "metadata": {},
   "outputs": [
    {
     "data": {
      "text/plain": [
       "iterations           24.500000\n",
       "test-RMSE-mean     3971.605204\n",
       "test-RMSE-std        15.607540\n",
       "train-RMSE-mean    3971.264805\n",
       "train-RMSE-std        4.157375\n",
       "dtype: float64"
      ]
     },
     "execution_count": 34,
     "metadata": {},
     "output_type": "execute_result"
    }
   ],
   "source": [
    "score_mean_2"
   ]
  },
  {
   "cell_type": "markdown",
   "metadata": {},
   "source": [
    "Кросс-валидация дала примерно такие же результаты как и простое обучение(значения метрик похожи в схожих итерациях)"
   ]
  },
  {
   "cell_type": "markdown",
   "metadata": {},
   "source": [
    "<a id='3-bullet'></a>"
   ]
  },
  {
   "cell_type": "markdown",
   "metadata": {},
   "source": [
    "# 3. Анализ моделей"
   ]
  },
  {
   "cell_type": "code",
   "execution_count": 43,
   "metadata": {},
   "outputs": [],
   "source": [
    "def rmse(model,features_test, test_target):\n",
    "    predictions = model.predict(features_test)\n",
    "    \n",
    "    return (mean_squared_error(predictions, test_target) **0.5).round(2)"
   ]
  },
  {
   "cell_type": "code",
   "execution_count": 44,
   "metadata": {},
   "outputs": [
    {
     "name": "stdout",
     "output_type": "stream",
     "text": [
      "Wall time: 16 ms\n"
     ]
    },
    {
     "data": {
      "text/plain": [
       "1987.36"
      ]
     },
     "execution_count": 44,
     "metadata": {},
     "output_type": "execute_result"
    }
   ],
   "source": [
    "%%time\n",
    "rmse_cat = rmse(model_cat, features_test, target_test)\n",
    "rmse_cat"
   ]
  },
  {
   "cell_type": "code",
   "execution_count": 46,
   "metadata": {},
   "outputs": [
    {
     "name": "stdout",
     "output_type": "stream",
     "text": [
      "Wall time: 172 ms\n"
     ]
    },
    {
     "data": {
      "text/plain": [
       "1954.56"
      ]
     },
     "execution_count": 46,
     "metadata": {},
     "output_type": "execute_result"
    }
   ],
   "source": [
    "%%time\n",
    "rmse_cat1 = rmse(model_cat_1, features_test_1, target_test_1)\n",
    "rmse_cat1"
   ]
  },
  {
   "cell_type": "code",
   "execution_count": 47,
   "metadata": {},
   "outputs": [
    {
     "name": "stdout",
     "output_type": "stream",
     "text": [
      "Wall time: 17 ms\n"
     ]
    },
    {
     "data": {
      "text/plain": [
       "1906.17"
      ]
     },
     "execution_count": 47,
     "metadata": {},
     "output_type": "execute_result"
    }
   ],
   "source": [
    "%%time\n",
    "rmse_cat_classic = rmse(model_cat_classic, features_test, target_test)\n",
    "rmse_cat_classic"
   ]
  },
  {
   "cell_type": "code",
   "execution_count": 48,
   "metadata": {},
   "outputs": [
    {
     "name": "stdout",
     "output_type": "stream",
     "text": [
      "Wall time: 182 ms\n"
     ]
    },
    {
     "data": {
      "text/plain": [
       "1884.82"
      ]
     },
     "execution_count": 48,
     "metadata": {},
     "output_type": "execute_result"
    }
   ],
   "source": [
    "%%time\n",
    "rmse_cat_calssic_1 = rmse(model_cat_classic_1, features_test_1, target_test_1)\n",
    "rmse_cat_calssic_1"
   ]
  },
  {
   "cell_type": "code",
   "execution_count": 41,
   "metadata": {},
   "outputs": [],
   "source": [
    "total_results = pd.DataFrame(columns = ['model_name','cv_rmse','test_rmse','train_time','test_time'])\n",
    "total_results = total_results.append({'model_name' : \"model_cat_1\", 'cv_rmse': mean_scores['test-RMSE-mean'], 'test_rmse' : rmse_cat1,'train_time' : '18 s', 'test_time' : '268 ms'}, ignore_index = True)\n",
    "total_results = total_results.append({'model_name' : \"model_cat_classic\", 'cv_rmse': score_mean_1['test-RMSE-mean'],'test_rmse' : rmse_cat_classic,'train_time' : '10.2 s', 'test_time': '32.5 ms'}, ignore_index = True)\n",
    "total_results = total_results.append({'model_name' : \"model_cat_classic_1\", 'cv_rmse': score_mean_2['test-RMSE-mean'],'test_rmse' :rmse_cat_calssic_1,'train_time' : '19.6 s','test_time' :'256 ms'}, ignore_index = True)\n",
    "total_results = total_results.append({'model_name' : \"model_cat\", 'cv_rmse': score_mean_3['test-RMSE-mean'],'test_rmse' : rmse_cat,'train_time' : '9.62 s', 'test_time' :'32 ms'}, ignore_index = True)"
   ]
  },
  {
   "cell_type": "code",
   "execution_count": 42,
   "metadata": {},
   "outputs": [
    {
     "data": {
      "text/html": [
       "<div>\n",
       "<style scoped>\n",
       "    .dataframe tbody tr th:only-of-type {\n",
       "        vertical-align: middle;\n",
       "    }\n",
       "\n",
       "    .dataframe tbody tr th {\n",
       "        vertical-align: top;\n",
       "    }\n",
       "\n",
       "    .dataframe thead th {\n",
       "        text-align: right;\n",
       "    }\n",
       "</style>\n",
       "<table border=\"1\" class=\"dataframe\">\n",
       "  <thead>\n",
       "    <tr style=\"text-align: right;\">\n",
       "      <th></th>\n",
       "      <th>model_name</th>\n",
       "      <th>cv_rmse</th>\n",
       "      <th>test_rmse</th>\n",
       "      <th>train_time</th>\n",
       "      <th>test_time</th>\n",
       "    </tr>\n",
       "  </thead>\n",
       "  <tbody>\n",
       "    <tr>\n",
       "      <th>0</th>\n",
       "      <td>model_cat_1</td>\n",
       "      <td>2173.805804</td>\n",
       "      <td>1954.560725</td>\n",
       "      <td>18 s</td>\n",
       "      <td>268 ms</td>\n",
       "    </tr>\n",
       "    <tr>\n",
       "      <th>1</th>\n",
       "      <td>model_cat_classic</td>\n",
       "      <td>3972.391836</td>\n",
       "      <td>1906.166576</td>\n",
       "      <td>10.2 s</td>\n",
       "      <td>32.5 ms</td>\n",
       "    </tr>\n",
       "    <tr>\n",
       "      <th>2</th>\n",
       "      <td>model_cat_classic_1</td>\n",
       "      <td>3971.605204</td>\n",
       "      <td>1884.818097</td>\n",
       "      <td>19.6 s</td>\n",
       "      <td>256 ms</td>\n",
       "    </tr>\n",
       "    <tr>\n",
       "      <th>3</th>\n",
       "      <td>model_cat</td>\n",
       "      <td>3971.605204</td>\n",
       "      <td>1987.356353</td>\n",
       "      <td>9.62 s</td>\n",
       "      <td>32 ms</td>\n",
       "    </tr>\n",
       "  </tbody>\n",
       "</table>\n",
       "</div>"
      ],
      "text/plain": [
       "            model_name      cv_rmse    test_rmse train_time test_time\n",
       "0          model_cat_1  2173.805804  1954.560725       18 s    268 ms\n",
       "1    model_cat_classic  3972.391836  1906.166576     10.2 s   32.5 ms\n",
       "2  model_cat_classic_1  3971.605204  1884.818097     19.6 s    256 ms\n",
       "3            model_cat  3971.605204  1987.356353     9.62 s     32 ms"
      ]
     },
     "execution_count": 42,
     "metadata": {},
     "output_type": "execute_result"
    }
   ],
   "source": [
    "total_results"
   ]
  },
  {
   "cell_type": "markdown",
   "metadata": {},
   "source": [
    "Не все модели смогли дать результат RMSE менее 2500, но тем не менее, есть те кто прошли к финишу с эдакой \"победой\". ЛУчше всех себя показала модель LGBM, как по скорости обучения почти лучший результат, а по точности лучший результат. Аве ЛГБМ!"
   ]
  }
 ],
 "metadata": {
  "kernelspec": {
   "display_name": "Python 3",
   "language": "python",
   "name": "python3"
  },
  "language_info": {
   "codemirror_mode": {
    "name": "ipython",
    "version": 3
   },
   "file_extension": ".py",
   "mimetype": "text/x-python",
   "name": "python",
   "nbconvert_exporter": "python",
   "pygments_lexer": "ipython3",
   "version": "3.7.6"
  },
  "toc": {
   "base_numbering": 1,
   "nav_menu": {},
   "number_sections": true,
   "sideBar": true,
   "skip_h1_title": true,
   "title_cell": "Table of Contents",
   "title_sidebar": "Contents",
   "toc_cell": false,
   "toc_position": {},
   "toc_section_display": true,
   "toc_window_display": false
  }
 },
 "nbformat": 4,
 "nbformat_minor": 2
}
