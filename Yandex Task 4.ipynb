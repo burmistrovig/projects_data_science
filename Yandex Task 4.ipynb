{
 "cells": [
  {
   "cell_type": "markdown",
   "id": "62a2b971",
   "metadata": {},
   "source": [
    "# Task 4."
   ]
  },
  {
   "cell_type": "markdown",
   "id": "20e02e25",
   "metadata": {},
   "source": [
    "You are given two random variables X and Y.\n",
    "E(X) = 0.5, Var(X) = 2\n",
    "E(Y) = 7, Var(Y) = 3.5\n",
    "cov (X, Y) = -0.8"
   ]
  },
  {
   "cell_type": "markdown",
   "id": "53087850",
   "metadata": {},
   "source": [
    "Find the variance of the random variable Z = 2X - 3Y"
   ]
  },
  {
   "cell_type": "code",
   "execution_count": 10,
   "id": "9af86f36",
   "metadata": {},
   "outputs": [],
   "source": [
    "import numpy as np"
   ]
  },
  {
   "cell_type": "code",
   "execution_count": 2,
   "id": "3f59720c",
   "metadata": {},
   "outputs": [],
   "source": [
    "x = round(np.random.rand(),4)\n",
    "y = round(np.random.rand(),4)"
   ]
  },
  {
   "cell_type": "code",
   "execution_count": 3,
   "id": "8bac23ed",
   "metadata": {},
   "outputs": [
    {
     "name": "stdout",
     "output_type": "stream",
     "text": [
      "0.7512 0.6607\n"
     ]
    }
   ],
   "source": [
    "print(x,y)"
   ]
  },
  {
   "cell_type": "code",
   "execution_count": 4,
   "id": "ca952a7e",
   "metadata": {},
   "outputs": [],
   "source": [
    "expectation_x = 0.5\n",
    "expectation_y = 7"
   ]
  },
  {
   "cell_type": "code",
   "execution_count": 5,
   "id": "b9779958",
   "metadata": {},
   "outputs": [],
   "source": [
    "var_x = 2\n",
    "var_y = 3.5"
   ]
  },
  {
   "cell_type": "code",
   "execution_count": 6,
   "id": "feeb7443",
   "metadata": {},
   "outputs": [],
   "source": [
    "cov_x_y = -0.8"
   ]
  },
  {
   "cell_type": "markdown",
   "id": "3a3dc628",
   "metadata": {},
   "source": [
    "V(aX−bY)=a2V(X)+b2V(Y)−2abCov(X,Y)"
   ]
  },
  {
   "cell_type": "code",
   "execution_count": 7,
   "id": "6e74e1ca",
   "metadata": {},
   "outputs": [],
   "source": [
    "first_element = 2**2*var_x\n",
    "second_element = 3**2*var_y\n",
    "third_element = 2*2*3*cov_x_y"
   ]
  },
  {
   "cell_type": "code",
   "execution_count": 8,
   "id": "c6173d55",
   "metadata": {},
   "outputs": [],
   "source": [
    "result = first_element + second_element - third_element"
   ]
  },
  {
   "cell_type": "code",
   "execution_count": 9,
   "id": "658ba0d5",
   "metadata": {},
   "outputs": [
    {
     "data": {
      "text/plain": [
       "49.1"
      ]
     },
     "execution_count": 9,
     "metadata": {},
     "output_type": "execute_result"
    }
   ],
   "source": [
    "result"
   ]
  },
  {
   "cell_type": "markdown",
   "id": "fba3bbca",
   "metadata": {},
   "source": [
    "Our result is 49.1 according to all formulas of basic statistics."
   ]
  }
 ],
 "metadata": {
  "kernelspec": {
   "display_name": "Python 3",
   "language": "python",
   "name": "python3"
  },
  "language_info": {
   "codemirror_mode": {
    "name": "ipython",
    "version": 3
   },
   "file_extension": ".py",
   "mimetype": "text/x-python",
   "name": "python",
   "nbconvert_exporter": "python",
   "pygments_lexer": "ipython3",
   "version": "3.8.8"
  }
 },
 "nbformat": 4,
 "nbformat_minor": 5
}
