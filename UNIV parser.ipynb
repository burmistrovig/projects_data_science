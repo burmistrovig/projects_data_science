{
 "cells": [
  {
   "cell_type": "markdown",
   "id": "c066a15a",
   "metadata": {
    "pycharm": {
     "name": "#%% md\n"
    },
    "toc": true
   },
   "source": [
    "<h1>Table of Contents<span class=\"tocSkip\"></span></h1>\n",
    "<div class=\"toc\"><ul class=\"toc-item\"></ul></div>"
   ]
  },
  {
   "cell_type": "code",
   "execution_count": 71,
   "id": "d8671d4c",
   "metadata": {
    "pycharm": {
     "name": "#%%\n"
    }
   },
   "outputs": [],
   "source": [
    "import pandas as pd\n",
    "import selenium\n",
    "from selenium import webdriver\n",
    "from bs4 import BeautifulSoup\n",
    "import requests\n",
    "import time\n",
    "from selenium.webdriver.common.action_chains import ActionChains\n",
    "import random as rnd\n",
    "from tqdm.notebook import tqdm\n",
    "from selenium.webdriver.common.keys import Keys\n",
    "from selenium.webdriver.common.by import By\n",
    "from selenium.webdriver.support.relative_locator import locate_with"
   ]
  },
  {
   "cell_type": "code",
   "execution_count": 72,
   "id": "fbdbf55e",
   "metadata": {
    "pycharm": {
     "name": "#%%\n"
    }
   },
   "outputs": [],
   "source": [
    "url = 'https://tabiturient.ru/slivlist/'"
   ]
  },
  {
   "cell_type": "code",
   "execution_count": 73,
   "id": "f51f0332",
   "metadata": {
    "pycharm": {
     "name": "#%%\n"
    }
   },
   "outputs": [],
   "source": [
    "xpath_choose_vuz = '/html/body/div[1]/div[2]/div[1]/div/div[1]/div/table/tbody/tr/td[1]/table[1]/tbody/tr/td[2]'"
   ]
  },
  {
   "cell_type": "code",
   "execution_count": 74,
   "id": "a94a2a5f",
   "metadata": {
    "pycharm": {
     "name": "#%%\n"
    }
   },
   "outputs": [],
   "source": [
    "month_dict = {'января': '01',\n",
    "             'февраля': '02',\n",
    "'марта': '03',\n",
    "'апреля': '04',\n",
    "'мая': '05',\n",
    "'июня': '06',\n",
    "'июля': '07',\n",
    "'августа': '08',\n",
    "'сентября': '09',\n",
    "'октября': '10',\n",
    "'ноября': '11',\n",
    "'декабря': '12'\n",
    "}"
   ]
  },
  {
   "cell_type": "code",
   "execution_count": 75,
   "id": "d8f172e3",
   "metadata": {
    "pycharm": {
     "name": "#%%\n"
    }
   },
   "outputs": [],
   "source": [
    "def get_uni_names_with_selenium(url: str):\n",
    "    ser_uni = []\n",
    "    ser_dates = []\n",
    "    ser_advise = []\n",
    "\n",
    "    options = webdriver.FirefoxOptions()\n",
    "    options.set_preference(\"general.useragent.override\", \"Mozilla/5.0 (X11; Linux x86_64) AppleWebKit/537.36 (KHTML, like Gecko) Chrome/89.0.4389.90 Safari/537.36\")\n",
    "\n",
    "    try:\n",
    "        driver = webdriver.Firefox(\n",
    "            executable_path=\"C:/Users/Iljam/PycharmProjects/parser_python_/geckodriver.exe\",\n",
    "            options=options\n",
    "        )\n",
    "        driver.get(url=url)\n",
    "        driver.maximize_window()\n",
    "        choose_vuz  = driver.find_element(by='xpath', value = xpath_choose_vuz)\n",
    "        choose_vuz.click()\n",
    "\n",
    "        with open(\"index_selenium.html\", \"w\", encoding=\"utf-8\") as file:\n",
    "            file.write(driver.page_source)\n",
    "\n",
    "        with open(\"index_selenium.html\", encoding=\"utf-8\") as file:\n",
    "            src = file.read()\n",
    "\n",
    "        soup = BeautifulSoup(src, \"lxml\")\n",
    "        time.sleep(1)\n",
    "        popup = soup.find_all('td', class_ = 'p10lm')\n",
    "        for uni in popup:\n",
    "            ser_uni.append(uni.b.text)\n",
    "        return ser_uni\n",
    "\n",
    "    except Exception as ex:\n",
    "        print(ex)\n",
    "\n",
    "    finally:\n",
    "        driver.close()\n",
    "        driver.quit()"
   ]
  },
  {
   "cell_type": "code",
   "execution_count": 6,
   "id": "b76c70d8",
   "metadata": {
    "pycharm": {
     "name": "#%%\n"
    }
   },
   "outputs": [],
   "source": [
    "def get_data_with_selenium(url: str,list_uni : list,  excel_file_name: str):\n",
    "    ser_dates = []\n",
    "    ser_advise = []\n",
    "    df_list = []\n",
    "    options = webdriver.FirefoxOptions()\n",
    "    options.set_preference(\"general.useragent.override\", \"Mozilla/5.0 (X11; Linux x86_64) AppleWebKit/537.36 (KHTML, like Gecko) Chrome/89.0.4389.90 Safari/537.36\")\n",
    "    df_total = pd.DataFrame(columns = ['Отзыв','День','Месяц','Год','Университет'])\n",
    "    for name in tqdm(list_uni):\n",
    "        time.sleep(rnd.randint(1,2))\n",
    "        try:\n",
    "            driver = webdriver.Firefox(\n",
    "                executable_path=\"C:/Users/Iljam/PycharmProjects/parser_python_/geckodriver.exe\",\n",
    "                options=options\n",
    "            )\n",
    "            driver.get(url=url)\n",
    "            driver.maximize_window()\n",
    "            choose_vuz  = driver.find_element(by='xpath', value = xpath_choose_vuz)\n",
    "            choose_vuz.click()\n",
    "\n",
    "            search_input = driver.find_element(by='xpath', value = xpath_search)\n",
    "            search_input.click()\n",
    "            time.sleep(2)\n",
    "            search_input.send_keys(name)\n",
    "            time.sleep(2)\n",
    "            search_input.send_keys(Keys.ENTER)\n",
    "            time.sleep(3)\n",
    "            result = driver.find_elements(By.CLASS_NAME, 'img5')[0]\n",
    "            result.click()\n",
    "            time.sleep(3)\n",
    "\n",
    "            #Заставляем селениум скроллить окно, чтобы потом подгрузить данные\n",
    "            for scroller in tqdm(range(100)):\n",
    "                print('Scrolling page')\n",
    "                for i in range(5):\n",
    "                    driver.execute_script(\"window.scrollBy(0 , 100000);\", \"\")\n",
    "                print('Clicked')\n",
    "                try:\n",
    "                    download_window = driver.find_element(By.CLASS_NAME, 'mobpadd10 ')\n",
    "                    download_window.click()\n",
    "                except Exception:\n",
    "                    break\n",
    "                time.sleep(rnd.randint(2,4))\n",
    "\n",
    "            time.sleep(rnd.randint(1,3))\n",
    "\n",
    "            with open(\"index_selenium_uni.html\", \"w\", encoding=\"utf-8\") as file:\n",
    "                file.write(driver.page_source)\n",
    "\n",
    "            with open(\"index_selenium_uni.html\", encoding=\"utf-8\") as file:\n",
    "                src_uni = file.read()\n",
    "\n",
    "            soup = BeautifulSoup(src_uni, \"lxml\")\n",
    "            time.sleep(3)\n",
    "            advises = soup.find_all('div', style = 'text-align:justify;', class_ = 'font2')\n",
    "            print('Parsing advises')\n",
    "\n",
    "            for advise in advises:\n",
    "                ser_advise.append(advise.text)\n",
    "\n",
    "            days = []\n",
    "            months = []\n",
    "            years = []\n",
    "            uni = []\n",
    "            print('Parsing dates')\n",
    "            for i in tqdm(range(len(ser_advise))):\n",
    "                try:\n",
    "                    date = driver.find_element(by = 'xpath', value = f'//*[@id=\"resultsliv\"]/div[{i+1}]/div[1]/div[1]/div/div[1]/table/tbody/tr/td[2]/table/tbody/tr/td[5]/span[2]').text.split(' ')\n",
    "                    days.append(date[0])\n",
    "                    months.append(month_dict[date[1]])\n",
    "                    years.append(date[2])\n",
    "                    uni.append(name)\n",
    "                except Exception:\n",
    "                    pass\n",
    "            print('Writing')\n",
    "            df = pd.DataFrame(zip(ser_advise, days, months, years, uni), columns = ['Отзыв','День','Месяц','Год','Университет'])\n",
    "            with pd.ExcelWriter(excel_file_name) as writer:\n",
    "                df.to_excel(writer, sheet_name=f'DataFrame_{name}')\n",
    "            df_list.append(df)\n",
    "\n",
    "        except Exception as ex:\n",
    "             print(ex)\n",
    "        finally:\n",
    "            driver.close()\n",
    "            driver.quit()\n",
    "    return df_list"
   ]
  },
  {
   "cell_type": "code",
   "execution_count": 76,
   "id": "f0b738a6",
   "metadata": {
    "pycharm": {
     "name": "#%%\n"
    }
   },
   "outputs": [
    {
     "name": "stderr",
     "output_type": "stream",
     "text": [
      "C:\\Users\\Iljam\\AppData\\Local\\Temp\\ipykernel_8104\\2796171620.py:10: DeprecationWarning: executable_path has been deprecated, please pass in a Service object\n",
      "  driver = webdriver.Firefox(\n"
     ]
    },
    {
     "name": "stdout",
     "output_type": "stream",
     "text": [
      "Message: Process unexpectedly closed with status 0\n",
      "\n"
     ]
    },
    {
     "ename": "UnboundLocalError",
     "evalue": "local variable 'driver' referenced before assignment",
     "output_type": "error",
     "traceback": [
      "\u001b[1;31m---------------------------------------------------------------------------\u001b[0m",
      "\u001b[1;31mUnboundLocalError\u001b[0m                         Traceback (most recent call last)",
      "Cell \u001b[1;32mIn[76], line 1\u001b[0m\n\u001b[1;32m----> 1\u001b[0m ser_uni \u001b[38;5;241m=\u001b[39m \u001b[43mget_uni_names_with_selenium\u001b[49m\u001b[43m(\u001b[49m\u001b[43murl\u001b[49m\u001b[43m)\u001b[49m\n",
      "Cell \u001b[1;32mIn[75], line 36\u001b[0m, in \u001b[0;36mget_uni_names_with_selenium\u001b[1;34m(url)\u001b[0m\n\u001b[0;32m     33\u001b[0m     \u001b[38;5;28mprint\u001b[39m(ex)\n\u001b[0;32m     35\u001b[0m \u001b[38;5;28;01mfinally\u001b[39;00m:\n\u001b[1;32m---> 36\u001b[0m     \u001b[43mdriver\u001b[49m\u001b[38;5;241m.\u001b[39mclose()\n\u001b[0;32m     37\u001b[0m     driver\u001b[38;5;241m.\u001b[39mquit()\n",
      "\u001b[1;31mUnboundLocalError\u001b[0m: local variable 'driver' referenced before assignment"
     ]
    }
   ],
   "source": [
    "ser_uni = get_uni_names_with_selenium(url)"
   ]
  },
  {
   "cell_type": "code",
   "execution_count": 10,
   "id": "d2e6a528",
   "metadata": {
    "pycharm": {
     "name": "#%%\n"
    }
   },
   "outputs": [
    {
     "data": {
      "text/plain": [
       "['АГАТУ',\n",
       " 'АГГПУ им. В.М. Шукшина',\n",
       " 'АГИК',\n",
       " 'АГИКИ',\n",
       " 'АГМУ',\n",
       " 'АГНИ',\n",
       " 'АГПУ',\n",
       " 'АГТУ',\n",
       " 'АГУ',\n",
       " 'АГУ',\n",
       " 'АСОУ',\n",
       " 'АлтГПУ',\n",
       " 'АлтГТУ им. И.И. Ползунова',\n",
       " 'АлтГУ',\n",
       " 'Алтайский ГАУ',\n",
       " 'Алтайский филиал РАНХиГС',\n",
       " 'Алтайский филиал ФУ при Правительстве РФ',\n",
       " 'Алфёровский университет',\n",
       " 'АмГМА',\n",
       " 'АмГПГУ',\n",
       " 'АнГТУ',\n",
       " 'Анапский филиал МПГУ',\n",
       " 'Арзамасский филиал ННГУ',\n",
       " 'Астраханский ГМУ',\n",
       " 'Астраханский филиал РАНХиГС',\n",
       " 'БАГСУ',\n",
       " 'БГАУ',\n",
       " 'БГИИК',\n",
       " 'БГИТУ',\n",
       " 'БГМУ',\n",
       " 'БГПУ',\n",
       " 'БГПУ им. М. Акмуллы',\n",
       " 'БГТУ',\n",
       " 'БГТУ им. В.Г. Шухова',\n",
       " 'БГТУ им. Д. Ф. Устинова (Военмех)',\n",
       " 'БГУ ',\n",
       " 'БГУ',\n",
       " 'БГУ им. Доржи Банзарова',\n",
       " 'БИТИ НИЯУ МИФИ',\n",
       " 'БФ ПНИПУ',\n",
       " 'БФУ им. И. Канта',\n",
       " 'Балаковский филиал РАНХиГС',\n",
       " 'Балахнинский филиал ННГУ',\n",
       " 'БашГАУ',\n",
       " 'БашГУ',\n",
       " 'Башкирский институт технологий и управления МГУТУ',\n",
       " 'БелГУ',\n",
       " 'Белгородский ГАУ',\n",
       " 'БрГУ',\n",
       " 'Брянский филиал РАНХиГС',\n",
       " 'Брянский филиал РЭУ им. Плеханова',\n",
       " 'Бурятская ГСХА',\n",
       " 'ВАВТ Минэкономразвития России',\n",
       " 'ВВГУ',\n",
       " 'ВВФ МТУСИ',\n",
       " 'ВГАУ им. Петра I',\n",
       " 'ВГАФК',\n",
       " 'ВГИИК',\n",
       " 'ВГИК',\n",
       " 'ВГИФК',\n",
       " 'ВГЛТУ им. Г.Ф. Морозова',\n",
       " 'ВГМУ им. Н.Н. Бурденко',\n",
       " 'ВГПУ',\n",
       " 'ВГСПУ',\n",
       " 'ВГТУ',\n",
       " 'ВГУ',\n",
       " 'ВГУВТ',\n",
       " 'ВГУИТ',\n",
       " 'ВГУЮ',\n",
       " 'ВИТИ НИЯУ МИФИ',\n",
       " 'ВЛГАФК',\n",
       " 'ВСГИК',\n",
       " 'ВСГУТУ',\n",
       " 'ВСФ ФГБОУВО «РГУП»',\n",
       " 'Великолукская ГСХА',\n",
       " 'Великолукский филиал ПГУПС ',\n",
       " 'ВлГУ им. А. Г. и Н. Г. Столетовых ',\n",
       " 'Владикавказский филиал ФУ при Правительстве РФ',\n",
       " 'Владимирский филиал РАНХиГС',\n",
       " 'Владимирский филиал ФУ при Правительстве РФ',\n",
       " 'ВоГУ',\n",
       " 'ВолГАУ',\n",
       " 'ВолГУ',\n",
       " 'ВолгГМУ',\n",
       " 'ВолгГТУ',\n",
       " 'Волго-Вятский филиал Университета им. Кутафина',\n",
       " 'Волгоградский институт управления РАНХиГС',\n",
       " 'Волгоградский филиал РЭУ им. Плеханова',\n",
       " 'Вологодская ГМХА',\n",
       " 'Вологодский филиал РАНХиГС',\n",
       " 'Воронежский филиал РАНХиГС',\n",
       " 'Воронежский филиал РЭУ им. Плеханова',\n",
       " 'Выборгский филиал РАНХиГС',\n",
       " 'ВятГУ',\n",
       " 'Вятский ГАТУ',\n",
       " 'ГАГУ',\n",
       " 'ГАУГН',\n",
       " 'ГАУСЗ',\n",
       " 'ГГАУ',\n",
       " 'ГГНТУ им. ак. М.Д. Миллионщикова',\n",
       " 'ГГПИ',\n",
       " 'ГИТИС',\n",
       " 'ГИЭФПТ',\n",
       " 'ГМПИ им. М.М. Ипполитова-Иванова',\n",
       " 'ГМУ им. адмирала Ф.Ф. Ушакова',\n",
       " 'ГУАП',\n",
       " 'ГУЗ',\n",
       " 'ГУУ',\n",
       " 'Горный университет (СПГУ)',\n",
       " 'Гос. ИРЯ им. А.С. Пушкина',\n",
       " 'ДА МИД России',\n",
       " 'ДВГАФК',\n",
       " 'ДВГИИ',\n",
       " 'ДВГМУ',\n",
       " 'ДВГУПС',\n",
       " 'ДВФ ФГБОУВО «РГУП»',\n",
       " 'ДВФУ',\n",
       " 'ДГАУ',\n",
       " 'ДГМУ',\n",
       " 'ДГТУ',\n",
       " 'ДГТУ',\n",
       " 'ДГУ',\n",
       " 'ДГУНХ',\n",
       " 'ДИТИ НИЯУ МИФИ',\n",
       " 'ДагГАУ им. М.М.Джамбулатова',\n",
       " 'ДальГАУ',\n",
       " 'Дальневосточный институт управления РАНХиГС',\n",
       " 'Дальневосточный филиал ВАВТ Минэкономразвития РФ',\n",
       " 'Дальрыбвтуз',\n",
       " 'Дербентский филиал МПГУ',\n",
       " 'Дзержинский филиал ННГУ',\n",
       " 'Дзержинский филиал РАНХиГС',\n",
       " 'Донской казачий институт пищевых технологий и бизнеса МГУТУ',\n",
       " 'ЕАСИ',\n",
       " 'ЕГТИ',\n",
       " 'ЕГУ им. И.А. Бунина',\n",
       " 'Елабужский институт КФУ',\n",
       " 'ЗГУ имени Н. М. Федоровского',\n",
       " 'ЗСФ ФГБОУВО «РГУП»',\n",
       " 'ЗабГУ',\n",
       " 'Западный филиал РАНХиГС',\n",
       " 'ИАТЭ НИЯУ МИФИ',\n",
       " 'ИВГПУ',\n",
       " 'ИГМА',\n",
       " 'ИГМУ',\n",
       " 'ИГУ',\n",
       " 'ИГХТУ',\n",
       " 'ИГЭУ',\n",
       " 'ИРНИТУ',\n",
       " 'ИТМО',\n",
       " 'ИФ ГУАП',\n",
       " 'ИвГМА',\n",
       " 'ИвГСХА им. Д.К. Беляева',\n",
       " 'ИвГУ',\n",
       " 'Ивановский филиал РАНХиГС',\n",
       " 'Ивановский филиал РЭУ им. Плеханова',\n",
       " 'ИжГСХА',\n",
       " 'ИжГТУ им. М.Т. Калашникова',\n",
       " 'ИнгГУ',\n",
       " 'ИрГУПС',\n",
       " 'Иркутский ГАУ',\n",
       " 'Иркутский филиал РУС «ГЦОЛИФК»',\n",
       " 'КАГМС',\n",
       " 'КБГУ им. Х. М. Бербекова',\n",
       " 'КГАВМ им. Н.Э. Баумана',\n",
       " 'КГАСУ',\n",
       " 'КГАУ',\n",
       " 'КГК им. Н. Г. Жиганова',\n",
       " 'КГМТУ',\n",
       " 'КГМУ',\n",
       " 'КГМУ',\n",
       " 'КГПУ им. В.П. Астафьева',\n",
       " 'КГСХА им. И. И. Иванова',\n",
       " 'КГТА им. В.А. Дегтярева',\n",
       " 'КГТУ',\n",
       " 'КГУ',\n",
       " 'КГУ',\n",
       " 'КГУ',\n",
       " 'КГУ им. К.Э. Циолковского',\n",
       " 'КГУФКСТ',\n",
       " 'КГЭУ',\n",
       " 'КИПУ им. Якубова',\n",
       " 'КНИТУ',\n",
       " 'КНИТУ-КАИ',\n",
       " 'КРАГСиУ',\n",
       " 'КУКИиТ',\n",
       " 'КФ ФГБОУВО «РГУП»',\n",
       " 'КФУ',\n",
       " 'КФУ им. Вернадского',\n",
       " 'КЧГУ им. У.Д. Алиева',\n",
       " 'Кабардино-Балкарский ГАУ',\n",
       " 'КазГИК',\n",
       " 'Казанский филиал РАНХиГС',\n",
       " 'КалмГУ',\n",
       " 'Калужский филиал МГТУ им. Баумана',\n",
       " 'Калужский филиал РАНХиГС',\n",
       " 'Калужский филиал ФУ при Правительстве РФ',\n",
       " 'КамГУ им. Витуса Беринга',\n",
       " 'КамчатГТУ',\n",
       " 'Карельский филиал РАНХиГС',\n",
       " 'КемГИК ',\n",
       " 'КемГМУ',\n",
       " 'КемГУ',\n",
       " 'Кировский ГМУ',\n",
       " 'Кировский филиал РАНХиГС',\n",
       " 'КнАГУ',\n",
       " 'Княгининский университет',\n",
       " 'Костромская ГСХА',\n",
       " 'КрФ ФГБОУВО «РГУП»',\n",
       " 'КрасГАУ',\n",
       " 'КрасГМУ',\n",
       " 'Краснодарский филиал РЭУ им. Плеханова',\n",
       " 'Краснодарский филиал ФУ при Правительстве РФ',\n",
       " 'КубГАУ',\n",
       " 'КубГМУ',\n",
       " 'КубГТУ',\n",
       " 'КубГУ',\n",
       " 'Кубанский казачий институт пищевой индустрии и бизнеса МГУТУ ',\n",
       " 'КузГТУ им. Т.Ф. Горбачева',\n",
       " 'Кузбасская ГСХА',\n",
       " 'Курганская ГСХА им. Т.С. Мальцева',\n",
       " 'Курганский филиал РАНХиГС',\n",
       " 'Курский филиал ФУ при Правительстве РФ',\n",
       " 'ЛГПУ',\n",
       " 'ЛГТУ',\n",
       " 'ЛГУ им. А.С. Пушкина',\n",
       " 'ЛИ им. А.М. Горького',\n",
       " 'ЛПИ - филиал СФУ',\n",
       " 'ЛФ ПНИПУ',\n",
       " 'Липецкий казачий институт технологий и управления',\n",
       " 'Липецкий филиал РАНХиГС',\n",
       " 'Липецкий филиал ФУ при Правительстве РФ',\n",
       " 'МАГУ',\n",
       " 'МАДИ',\n",
       " 'МАИ',\n",
       " 'МАРХИ',\n",
       " 'МГАВМиБ-МВА имени К.И. Скрябина',\n",
       " 'МГИК',\n",
       " 'МГИМО',\n",
       " 'МГИМО Одинцово',\n",
       " 'МГК им. П.И. Чайковского',\n",
       " 'МГЛУ',\n",
       " 'МГМСУ',\n",
       " 'МГМУ им. Сеченова',\n",
       " 'МГОТУ им. А.А. Леонова',\n",
       " 'МГОУ',\n",
       " 'МГППУ',\n",
       " 'МГПУ',\n",
       " 'МГПУ им. М.Е. Евсевьева',\n",
       " 'МГРИ',\n",
       " 'МГТУ',\n",
       " 'МГТУ',\n",
       " 'МГТУ «СТАНКИН»',\n",
       " 'МГТУ ГА',\n",
       " 'МГТУ им. Баумана',\n",
       " 'МГТУ им. Г.И. Носова',\n",
       " 'МГУ им. Ломоносова',\n",
       " 'МГУ им. Ломоносова в Севастополе',\n",
       " 'МГУ им. адм. Г.И. Невельского',\n",
       " 'МГУ имени Н.П. Огарева',\n",
       " 'МГУТУ им. К.Г. Разумовского',\n",
       " 'МГУУ Правительства Москвы им. Ю.М. Лужкова',\n",
       " 'МГХПА им. С.Г. Строганова',\n",
       " 'МГЮА им. Кутафина',\n",
       " 'МИИГАиК',\n",
       " 'МИЭТ',\n",
       " 'МПГУ',\n",
       " 'МТУСИ',\n",
       " 'МФТИ',\n",
       " 'МЭИ',\n",
       " 'МаГК им. М.И. Глинки',\n",
       " 'МарГУ',\n",
       " 'МичГАУ',\n",
       " 'Московский Политех',\n",
       " 'Московский областной казачий институт технологий и управления МГУТУ',\n",
       " 'Московский областной филиал РАНХиГС',\n",
       " 'Мурманский филиал РАНХиГС',\n",
       " 'Мытищинский филиал МГТУ им. Баумана',\n",
       " 'НВГУ',\n",
       " 'НГАСУ',\n",
       " 'НГАУ',\n",
       " 'НГГТИ',\n",
       " 'НГЛУ им. Н.А. Добролюбова',\n",
       " 'НГМУ',\n",
       " 'НГПУ',\n",
       " 'НГПУ',\n",
       " 'НГПУ им. К. Минина',\n",
       " 'НГСХА',\n",
       " 'НГТУ НЭТИ',\n",
       " 'НГТУ им. Р.Е. Алексеева',\n",
       " 'НГУ',\n",
       " 'НГУ им. П. Ф. Лесгафта',\n",
       " 'НГУАДИ',\n",
       " 'НГУЭУ',\n",
       " 'НИУ ВШЭ',\n",
       " 'НИУ ВШЭ НН',\n",
       " 'НИУ ВШЭ Пермь',\n",
       " 'НИУ ВШЭ СПБ',\n",
       " 'НИУ МГСУ',\n",
       " 'НИУ РАНХиГС',\n",
       " 'НИЯУ МИФИ',\n",
       " 'НМИЦ им. В. А. Алмазова',\n",
       " 'ННГАСУ',\n",
       " 'ННГУ им. Лобачевского',\n",
       " 'НТИ НИЯУ МИФИ',\n",
       " 'Набережночелнинский институт КФУ',\n",
       " 'Нижегородский институт управления РАНХиГС',\n",
       " 'Нижнетагильский технологический институт (филиал) УрФУ',\n",
       " 'НовГУ',\n",
       " 'Новгородский филиал РАНХиГС',\n",
       " 'Новомосковский институт РХТУ им. Д.И. Менделеева',\n",
       " 'Новороссийский филиал ФУ при Правительстве РФ',\n",
       " 'Новосибирский юридический институт (филиал) ТГУ',\n",
       " 'ОГАУ',\n",
       " 'ОГИК',\n",
       " 'ОГПУ',\n",
       " 'ОГУ',\n",
       " 'ОГУ им. И.С. Тургенева',\n",
       " 'ОГУЭТ',\n",
       " 'ОТИ НИЯУ МИФИ',\n",
       " 'ОмГАУ им. П.А.Столыпина',\n",
       " 'ОмГМУ',\n",
       " 'ОмГПУ',\n",
       " 'ОмГТУ',\n",
       " 'ОмГУ им. Ф.М. Достоевского',\n",
       " 'ОмГУПС',\n",
       " 'Омский филиал РАНХиГС',\n",
       " 'Омский филиал ФУ при Правительстве РФ',\n",
       " 'ОрГМУ',\n",
       " 'Оренбургский филиал РАНХиГС',\n",
       " 'Оренбургский филиал Университета им. Кутафина (МГЮА)',\n",
       " 'Орловский ГАУ',\n",
       " 'Орловский филиал ФУ при Правительстве РФ',\n",
       " 'ПВГУС',\n",
       " 'ПГАТУ',\n",
       " 'ПГГПУ',\n",
       " 'ПГК им. А.К. Глазунова',\n",
       " 'ПГМУ им. академика Е.А. Вагнера',\n",
       " 'ПГНИУ',\n",
       " 'ПГТУ (Волгатех)',\n",
       " 'ПГУ',\n",
       " 'ПГУ',\n",
       " 'ПГУ им. Шолом-Алейхема',\n",
       " 'ПГУПС',\n",
       " 'ПГУТИ',\n",
       " 'ПГФА',\n",
       " 'ПИМУ',\n",
       " 'ПНИПУ',\n",
       " 'ПСПбГМУ им. И. П. Павлова',\n",
       " 'ПФ ФГБОУВО «РГУП»',\n",
       " 'Павловский филиал ННГУ',\n",
       " 'ПензГТУ',\n",
       " 'Пензенский ГАУ',\n",
       " 'Пензенский казачий институт технологий - филиал МГУТУ им. Разумовского',\n",
       " 'Пензенский филиал ФУ при Правительстве РФ',\n",
       " 'Пермский филиал РАНХиГС',\n",
       " 'ПетрГУ',\n",
       " 'Петропавловский филиал РАНХиГС',\n",
       " 'Поволжский ГУФКСиТ',\n",
       " 'Поволжский институт управления РАНХиГС',\n",
       " 'Поволжский казачий институт управления и пищевых технологий МГУТУ',\n",
       " 'Покровский филиал МПГУ',\n",
       " 'Политехнический институт (филиал) УрФУ в Каменске-Уральском',\n",
       " 'Приморская ГСХА',\n",
       " 'Приморский филиал РАНХиГС',\n",
       " 'ПсковГУ',\n",
       " 'РАНХиГС',\n",
       " 'РГАИС',\n",
       " 'РГАТУ им. П.А. Костычева',\n",
       " 'РГАТУ им. П.А. Соловьева',\n",
       " 'РГАУ-МСХА имени К. А. Тимирязева',\n",
       " 'РГГМУ',\n",
       " 'РГГУ',\n",
       " 'РГК им. С.В. Рахманинова',\n",
       " 'РГППУ',\n",
       " 'РГПУ им. Герцена',\n",
       " 'РГРТУ',\n",
       " 'РГСУ',\n",
       " 'РГУ им. А.Н. Косыгина',\n",
       " 'РГУ им. С.А. Есенина',\n",
       " 'РГУНГ им. Губкина',\n",
       " 'РГУП',\n",
       " 'РГУПС',\n",
       " 'РГУТИС',\n",
       " 'РГЭУ (РИНХ)',\n",
       " 'РНИМУ им. Пирогова',\n",
       " 'РОСБИОТЕХ',\n",
       " 'РТА',\n",
       " 'РТУ МИРЭА',\n",
       " 'РУДН',\n",
       " 'РУС «ГЦОЛИФК» ',\n",
       " 'РУТ (МИИТ)',\n",
       " 'РФ ФГБОУВО «РГУП»',\n",
       " 'РХТУ им. Д. И. Менделеева',\n",
       " 'РЭУ им. Г.В. Плеханова',\n",
       " 'РЭШ',\n",
       " 'РостГМУ',\n",
       " 'РязГМУ им. И.П. Павлова',\n",
       " 'САФУ им. М.В. Ломоносова',\n",
       " 'СВГУ',\n",
       " 'СВФУ им. Аммосова',\n",
       " 'СГАУ им. Н.И. Вавилова',\n",
       " 'СГИИ',\n",
       " 'СГИК',\n",
       " 'СГК им. Л. В. Собинова',\n",
       " 'СГМУ',\n",
       " 'СГМУ им. В.И. Разумовского',\n",
       " 'СГПИ',\n",
       " 'СГСПУ',\n",
       " 'СГТУ им. Ю.А. Гагарина',\n",
       " 'СГУ',\n",
       " 'СГУ им. Н. Г. Чернышевского',\n",
       " 'СГУ им. Питирима Сорокина',\n",
       " 'СГУВТ',\n",
       " 'СГУГиТ',\n",
       " 'СГУПС',\n",
       " 'СГУС',\n",
       " 'СГЭУ',\n",
       " 'СГЮА',\n",
       " 'СЗГМУ им. И.И. Мечникова',\n",
       " 'СЗИУ РАНХиГС',\n",
       " 'СЗФ ФГБОУВО «РГУП»',\n",
       " 'СКГМИ (ГТУ)',\n",
       " 'СКФ МТУСИ',\n",
       " 'СКФ ФГБОУВО «РГУП»',\n",
       " 'СКФУ',\n",
       " 'СОГМА',\n",
       " 'СОГПИ',\n",
       " 'СОГУ',\n",
       " 'СПХФУ',\n",
       " 'СПбГАСУ',\n",
       " 'СПбГИК',\n",
       " 'СПбГИПСР',\n",
       " 'СПбГЛТУ им. С.М. Кирова',\n",
       " 'СПбГМТУ',\n",
       " 'СПбГПМУ',\n",
       " 'СПбГТИ(ТУ)',\n",
       " 'СПбГУ',\n",
       " 'СПбГУВМ',\n",
       " 'СПбГУГА',\n",
       " 'СПбГУПТД',\n",
       " 'СПбГУТ',\n",
       " 'СПбГЭТУ «ЛЭТИ»',\n",
       " 'СПбГЭУ',\n",
       " 'СПбПУ им Петра Великого',\n",
       " 'СТИ НИЯУ МИФИ',\n",
       " 'СФТИ НИЯУ МИФИ',\n",
       " 'СФУ',\n",
       " 'СамГМУ',\n",
       " 'СамГТУ',\n",
       " 'СамГУПС',\n",
       " 'Самарский ГАУ',\n",
       " 'Самарский университет (СНИУ)',\n",
       " 'Самарский филиал МГПУ',\n",
       " 'Санкт-Петербургский филиал ФУ при Правительстве РФ',\n",
       " 'СарФТИ НИЯУ МИФИ',\n",
       " 'СахГУ',\n",
       " 'СевГУ',\n",
       " 'Северо-Западный филиал Университета им. Кутафина (МГЮА)',\n",
       " 'Северо-Кавказский институт РАНХиГС',\n",
       " 'СибАДИ',\n",
       " 'СибГИУ',\n",
       " 'СибГМУ',\n",
       " 'СибГУ им. М.Ф. Решетнева',\n",
       " 'СибГУТИ',\n",
       " 'СибГУФК',\n",
       " 'Сибирский институт управления РАНХиГС',\n",
       " 'Сибирский казачий институт технологий и управления',\n",
       " 'СмолГМУ',\n",
       " 'СмолГУ',\n",
       " 'Смоленская ГСХА',\n",
       " 'Смоленский казачий институт промышленных технологий и бизнеса МГУТУ',\n",
       " 'Смоленский филиал РАНХиГС',\n",
       " 'Смоленский филиал ФУ при Правительстве РФ',\n",
       " 'Сочинский институт РУДН',\n",
       " 'Среднерусский институт управления РАНХиГС',\n",
       " 'СтГАУ',\n",
       " 'СтГМУ',\n",
       " 'Ставропольский филиал МПГУ',\n",
       " 'Ставропольский филиал РАНХиГС',\n",
       " 'Старооскольский филиал БелГУ',\n",
       " 'Ступинский филиал МАИ',\n",
       " 'СурГПУ',\n",
       " 'СурГУ',\n",
       " 'ТГАСУ',\n",
       " 'ТГИК',\n",
       " 'ТГМПИ им. С.В. Рахманинова',\n",
       " 'ТГМУ',\n",
       " 'ТГПУ',\n",
       " 'ТГПУ им. Л.Н. Толстого',\n",
       " 'ТГСХА',\n",
       " 'ТГТУ',\n",
       " 'ТГУ',\n",
       " 'ТГУ им. Г.Р. Державина',\n",
       " 'ТИ НИЯУ МИФИ',\n",
       " 'ТИУ',\n",
       " 'ТОГУ',\n",
       " 'ТПУ',\n",
       " 'ТТИ НИЯУ МИФИ',\n",
       " 'ТУСУР',\n",
       " 'Тамбовский филиал РАНХиГС',\n",
       " 'ТвГТУ',\n",
       " 'ТвГУ',\n",
       " 'Тверской ГМУ',\n",
       " 'Тверской филиал РАНХиГС',\n",
       " 'ТлттГУ',\n",
       " 'Тобольский индустриальный институт (филиал) ТИУ',\n",
       " 'ТувГУ',\n",
       " 'ТулГУ',\n",
       " 'Тульский филиал ФУ при Правительстве РФ',\n",
       " 'ТюмГУ',\n",
       " 'Тюменский ГМУ',\n",
       " 'УГАТУ',\n",
       " 'УГГУ',\n",
       " 'УГК им. Мусоргского',\n",
       " 'УГЛТУ',\n",
       " 'УГМУ',\n",
       " 'УГНТУ',\n",
       " 'УГТУ',\n",
       " 'УИ ГА',\n",
       " 'УП РФ',\n",
       " 'УФ ФГБОУВО «РГУП»',\n",
       " 'УдГУ',\n",
       " 'УлГПУ им. И.Н. Ульянова',\n",
       " 'УлГТУ',\n",
       " 'УлГУ',\n",
       " 'Ульяновский ГАУ им. П.А. Столыпина',\n",
       " 'Ульяновский филиал РАНХиГС',\n",
       " 'Университет «Дубна»',\n",
       " 'Университет МИСИС',\n",
       " 'УрГАХУ',\n",
       " 'УрГПУ',\n",
       " 'УрГУПС',\n",
       " 'УрГЭУ',\n",
       " 'УрГЮУ имени В.Ф. Яковлева',\n",
       " 'УрФУ',\n",
       " 'УралГУФК',\n",
       " 'Уральский ГАУ',\n",
       " 'Уральский институт управления РАНХиГС',\n",
       " 'Уральский филиал ФУ при Правительстве РФ',\n",
       " 'Уфимский филиал ФУ при Правительстве РФ',\n",
       " 'ФУ при Правительстве РФ',\n",
       " 'Филиал «Взлёт» МАИ',\n",
       " 'Филиал «Стрела» МАИ',\n",
       " 'Филиал МПГУ в г. Черняховске',\n",
       " 'Филиал РГГУ в г. Домодедово',\n",
       " 'Филиал РГСУ в г. Анапа',\n",
       " 'Филиал РГСУ в г. Клин',\n",
       " 'Филиал РГСУ в г. Павловский Посад',\n",
       " 'Филиал РГСУ в г. Пятигорск',\n",
       " 'Филиал РГСУ в г. Сочи',\n",
       " 'Филиал РГУНГ им. И.М. Губкина в г. Оренбурге',\n",
       " 'Филиал ТИУ в г. Нижневартовске',\n",
       " 'Филиал ТИУ в г. Сургуте',\n",
       " 'Филиал УрФУ в Верхней Салде',\n",
       " 'Филиал УрФУ в Краснотурьинске',\n",
       " 'Филиал УрФУ в г. Невьянск',\n",
       " 'ХГИК',\n",
       " 'ХГУ им. Н.Ф. Катанова',\n",
       " 'ХГУЭП ',\n",
       " 'ХМГМА',\n",
       " 'ХТИ - филиал СФУ',\n",
       " 'ЦФ ФГБОУВО «РГУП»',\n",
       " 'ЧГИК',\n",
       " 'ЧГИКИ',\n",
       " 'ЧГИФК',\n",
       " 'ЧГИФКИС',\n",
       " 'ЧГМА',\n",
       " 'ЧГПУ',\n",
       " 'ЧГПУ им. И. Я. Яковлева',\n",
       " 'ЧГУ  ',\n",
       " 'ЧГУ им. А.А. Кадырова',\n",
       " 'ЧГУ им. И.Н. Ульянова',\n",
       " 'ЧФ ПНИПУ',\n",
       " 'Чебоксарский филиал РАНХиГС',\n",
       " 'ЧелГУ',\n",
       " 'Челябинский филиал РАНХиГС',\n",
       " 'Чувашский ГАУ',\n",
       " 'ШГПУ',\n",
       " 'ЮГУ',\n",
       " 'ЮЗГУ',\n",
       " 'ЮРГПУ (НПИ)',\n",
       " 'ЮУГМУ',\n",
       " 'ЮУрГАУ',\n",
       " 'ЮУрГГПУ',\n",
       " 'ЮУрГУ',\n",
       " 'ЮФУ',\n",
       " 'Южно-Российский институт управления РАНХиГС',\n",
       " 'ЯГМУ',\n",
       " 'ЯГПУ им. Ушинского',\n",
       " 'ЯГСХА',\n",
       " 'ЯГТИ',\n",
       " 'ЯГТУ',\n",
       " 'ЯрГУ',\n",
       " 'Ярославский филиал ПГУПС',\n",
       " 'Ярославский филиал ФУ при Правительстве РФ']"
      ]
     },
     "execution_count": 10,
     "metadata": {},
     "output_type": "execute_result"
    }
   ],
   "source": [
    "ser_uni"
   ]
  },
  {
   "cell_type": "code",
   "execution_count": 12,
   "id": "bb936a04",
   "metadata": {
    "pycharm": {
     "name": "#%%\n"
    }
   },
   "outputs": [
    {
     "data": {
      "application/vnd.jupyter.widget-view+json": {
       "model_id": "50eac94a8bf240abb3e76d5c6651fa8b",
       "version_major": 2,
       "version_minor": 0
      },
      "text/plain": [
       "  0%|          | 0/167 [00:00<?, ?it/s]"
      ]
     },
     "metadata": {},
     "output_type": "display_data"
    },
    {
     "name": "stderr",
     "output_type": "stream",
     "text": [
      "C:\\Users\\Iljam\\AppData\\Local\\Temp\\ipykernel_12212\\670770284.py:11: DeprecationWarning: executable_path has been deprecated, please pass in a Service object\n",
      "  driver = webdriver.Firefox(\n"
     ]
    },
    {
     "data": {
      "application/vnd.jupyter.widget-view+json": {
       "model_id": "8a6bbdf37a474e1bb2bd54ef7a432924",
       "version_major": 2,
       "version_minor": 0
      },
      "text/plain": [
       "  0%|          | 0/100 [00:00<?, ?it/s]"
      ]
     },
     "metadata": {},
     "output_type": "display_data"
    },
    {
     "name": "stdout",
     "output_type": "stream",
     "text": [
      "Scrolling page\n",
      "Clicked\n",
      "Parsing advises\n",
      "Parsing dates\n"
     ]
    },
    {
     "data": {
      "application/vnd.jupyter.widget-view+json": {
       "model_id": "c70f3a1591a343bd9f8403a849012eea",
       "version_major": 2,
       "version_minor": 0
      },
      "text/plain": [
       "  0%|          | 0/1 [00:00<?, ?it/s]"
      ]
     },
     "metadata": {},
     "output_type": "display_data"
    },
    {
     "name": "stdout",
     "output_type": "stream",
     "text": [
      "Writing\n"
     ]
    },
    {
     "name": "stderr",
     "output_type": "stream",
     "text": [
      "C:\\Users\\Iljam\\AppData\\Local\\Temp\\ipykernel_12212\\670770284.py:11: DeprecationWarning: executable_path has been deprecated, please pass in a Service object\n",
      "  driver = webdriver.Firefox(\n"
     ]
    },
    {
     "data": {
      "application/vnd.jupyter.widget-view+json": {
       "model_id": "e3c0fbe4e3c84080be553cd3ad9ef332",
       "version_major": 2,
       "version_minor": 0
      },
      "text/plain": [
       "  0%|          | 0/100 [00:00<?, ?it/s]"
      ]
     },
     "metadata": {},
     "output_type": "display_data"
    },
    {
     "name": "stdout",
     "output_type": "stream",
     "text": [
      "Scrolling page\n",
      "Clicked\n",
      "Parsing advises\n",
      "Parsing dates\n"
     ]
    },
    {
     "data": {
      "application/vnd.jupyter.widget-view+json": {
       "model_id": "71b7a1d5a55747fc9229704d9daf839d",
       "version_major": 2,
       "version_minor": 0
      },
      "text/plain": [
       "  0%|          | 0/2 [00:00<?, ?it/s]"
      ]
     },
     "metadata": {},
     "output_type": "display_data"
    },
    {
     "name": "stdout",
     "output_type": "stream",
     "text": [
      "Writing\n"
     ]
    },
    {
     "name": "stderr",
     "output_type": "stream",
     "text": [
      "C:\\Users\\Iljam\\AppData\\Local\\Temp\\ipykernel_12212\\670770284.py:11: DeprecationWarning: executable_path has been deprecated, please pass in a Service object\n",
      "  driver = webdriver.Firefox(\n"
     ]
    },
    {
     "data": {
      "application/vnd.jupyter.widget-view+json": {
       "model_id": "f439967274c642de88d8ad2b7d5e701f",
       "version_major": 2,
       "version_minor": 0
      },
      "text/plain": [
       "  0%|          | 0/100 [00:00<?, ?it/s]"
      ]
     },
     "metadata": {},
     "output_type": "display_data"
    },
    {
     "name": "stdout",
     "output_type": "stream",
     "text": [
      "Scrolling page\n",
      "Clicked\n",
      "Parsing advises\n",
      "Parsing dates\n"
     ]
    },
    {
     "data": {
      "application/vnd.jupyter.widget-view+json": {
       "model_id": "b3faeb7b2d9842f9aacfc12e6b697447",
       "version_major": 2,
       "version_minor": 0
      },
      "text/plain": [
       "  0%|          | 0/4 [00:00<?, ?it/s]"
      ]
     },
     "metadata": {},
     "output_type": "display_data"
    },
    {
     "name": "stdout",
     "output_type": "stream",
     "text": [
      "Writing\n"
     ]
    },
    {
     "name": "stderr",
     "output_type": "stream",
     "text": [
      "C:\\Users\\Iljam\\YandexDisk\\ML_projects\\venv\\lib\\site-packages\\openpyxl\\workbook\\child.py:99: UserWarning: Title is more than 31 characters. Some applications may not be able to read the file\n",
      "  warnings.warn(\"Title is more than 31 characters. Some applications may not be able to read the file\")\n",
      "C:\\Users\\Iljam\\AppData\\Local\\Temp\\ipykernel_12212\\670770284.py:11: DeprecationWarning: executable_path has been deprecated, please pass in a Service object\n",
      "  driver = webdriver.Firefox(\n"
     ]
    },
    {
     "data": {
      "application/vnd.jupyter.widget-view+json": {
       "model_id": "1b377be12c7244c4a417ae151f66f335",
       "version_major": 2,
       "version_minor": 0
      },
      "text/plain": [
       "  0%|          | 0/100 [00:00<?, ?it/s]"
      ]
     },
     "metadata": {},
     "output_type": "display_data"
    },
    {
     "name": "stdout",
     "output_type": "stream",
     "text": [
      "Scrolling page\n",
      "Clicked\n",
      "Parsing advises\n",
      "Parsing dates\n"
     ]
    },
    {
     "data": {
      "application/vnd.jupyter.widget-view+json": {
       "model_id": "1d6759473cea4d1bae990474e3a792f1",
       "version_major": 2,
       "version_minor": 0
      },
      "text/plain": [
       "  0%|          | 0/5 [00:00<?, ?it/s]"
      ]
     },
     "metadata": {},
     "output_type": "display_data"
    },
    {
     "name": "stdout",
     "output_type": "stream",
     "text": [
      "Writing\n"
     ]
    },
    {
     "name": "stderr",
     "output_type": "stream",
     "text": [
      "C:\\Users\\Iljam\\AppData\\Local\\Temp\\ipykernel_12212\\670770284.py:11: DeprecationWarning: executable_path has been deprecated, please pass in a Service object\n",
      "  driver = webdriver.Firefox(\n"
     ]
    },
    {
     "data": {
      "application/vnd.jupyter.widget-view+json": {
       "model_id": "52039861313841268f7cb42524aec154",
       "version_major": 2,
       "version_minor": 0
      },
      "text/plain": [
       "  0%|          | 0/100 [00:00<?, ?it/s]"
      ]
     },
     "metadata": {},
     "output_type": "display_data"
    },
    {
     "name": "stdout",
     "output_type": "stream",
     "text": [
      "Scrolling page\n",
      "Clicked\n",
      "Parsing advises\n",
      "Parsing dates\n"
     ]
    },
    {
     "data": {
      "application/vnd.jupyter.widget-view+json": {
       "model_id": "da0b6fa5c6444cb7af201ad583549ce3",
       "version_major": 2,
       "version_minor": 0
      },
      "text/plain": [
       "  0%|          | 0/6 [00:00<?, ?it/s]"
      ]
     },
     "metadata": {},
     "output_type": "display_data"
    },
    {
     "name": "stdout",
     "output_type": "stream",
     "text": [
      "Writing\n"
     ]
    },
    {
     "name": "stderr",
     "output_type": "stream",
     "text": [
      "C:\\Users\\Iljam\\AppData\\Local\\Temp\\ipykernel_12212\\670770284.py:11: DeprecationWarning: executable_path has been deprecated, please pass in a Service object\n",
      "  driver = webdriver.Firefox(\n"
     ]
    },
    {
     "data": {
      "application/vnd.jupyter.widget-view+json": {
       "model_id": "8e09a53f381f4d32aa776f48dabae964",
       "version_major": 2,
       "version_minor": 0
      },
      "text/plain": [
       "  0%|          | 0/100 [00:00<?, ?it/s]"
      ]
     },
     "metadata": {},
     "output_type": "display_data"
    },
    {
     "name": "stdout",
     "output_type": "stream",
     "text": [
      "Scrolling page\n",
      "Clicked\n",
      "Parsing advises\n",
      "Parsing dates\n"
     ]
    },
    {
     "data": {
      "application/vnd.jupyter.widget-view+json": {
       "model_id": "685d0555ce9c494fb7e00878b2298a5c",
       "version_major": 2,
       "version_minor": 0
      },
      "text/plain": [
       "  0%|          | 0/8 [00:00<?, ?it/s]"
      ]
     },
     "metadata": {},
     "output_type": "display_data"
    },
    {
     "name": "stdout",
     "output_type": "stream",
     "text": [
      "Writing\n"
     ]
    },
    {
     "name": "stderr",
     "output_type": "stream",
     "text": [
      "C:\\Users\\Iljam\\AppData\\Local\\Temp\\ipykernel_12212\\670770284.py:11: DeprecationWarning: executable_path has been deprecated, please pass in a Service object\n",
      "  driver = webdriver.Firefox(\n"
     ]
    },
    {
     "data": {
      "application/vnd.jupyter.widget-view+json": {
       "model_id": "a2ca0d4b85c6451fac477f1a0378ca0b",
       "version_major": 2,
       "version_minor": 0
      },
      "text/plain": [
       "  0%|          | 0/100 [00:00<?, ?it/s]"
      ]
     },
     "metadata": {},
     "output_type": "display_data"
    },
    {
     "name": "stdout",
     "output_type": "stream",
     "text": [
      "Scrolling page\n",
      "Clicked\n",
      "Parsing advises\n",
      "Parsing dates\n"
     ]
    },
    {
     "data": {
      "application/vnd.jupyter.widget-view+json": {
       "model_id": "b042d0e7b9c8443f9b400bcd1b306797",
       "version_major": 2,
       "version_minor": 0
      },
      "text/plain": [
       "  0%|          | 0/19 [00:00<?, ?it/s]"
      ]
     },
     "metadata": {},
     "output_type": "display_data"
    },
    {
     "name": "stdout",
     "output_type": "stream",
     "text": [
      "Writing\n"
     ]
    },
    {
     "name": "stderr",
     "output_type": "stream",
     "text": [
      "C:\\Users\\Iljam\\YandexDisk\\ML_projects\\venv\\lib\\site-packages\\openpyxl\\workbook\\child.py:99: UserWarning: Title is more than 31 characters. Some applications may not be able to read the file\n",
      "  warnings.warn(\"Title is more than 31 characters. Some applications may not be able to read the file\")\n",
      "C:\\Users\\Iljam\\AppData\\Local\\Temp\\ipykernel_12212\\670770284.py:11: DeprecationWarning: executable_path has been deprecated, please pass in a Service object\n",
      "  driver = webdriver.Firefox(\n"
     ]
    },
    {
     "data": {
      "application/vnd.jupyter.widget-view+json": {
       "model_id": "94a91be62a0b4b94b161e018fe14f30e",
       "version_major": 2,
       "version_minor": 0
      },
      "text/plain": [
       "  0%|          | 0/100 [00:00<?, ?it/s]"
      ]
     },
     "metadata": {},
     "output_type": "display_data"
    },
    {
     "name": "stdout",
     "output_type": "stream",
     "text": [
      "Scrolling page\n",
      "Clicked\n",
      "Parsing advises\n",
      "Parsing dates\n"
     ]
    },
    {
     "data": {
      "application/vnd.jupyter.widget-view+json": {
       "model_id": "4ee4a61143c44bca952f1f4514540ebf",
       "version_major": 2,
       "version_minor": 0
      },
      "text/plain": [
       "  0%|          | 0/39 [00:00<?, ?it/s]"
      ]
     },
     "metadata": {},
     "output_type": "display_data"
    },
    {
     "name": "stdout",
     "output_type": "stream",
     "text": [
      "Writing\n"
     ]
    },
    {
     "name": "stderr",
     "output_type": "stream",
     "text": [
      "C:\\Users\\Iljam\\AppData\\Local\\Temp\\ipykernel_12212\\670770284.py:11: DeprecationWarning: executable_path has been deprecated, please pass in a Service object\n",
      "  driver = webdriver.Firefox(\n"
     ]
    },
    {
     "data": {
      "application/vnd.jupyter.widget-view+json": {
       "model_id": "c9d4822659f94f43abd4c085e5ff60d5",
       "version_major": 2,
       "version_minor": 0
      },
      "text/plain": [
       "  0%|          | 0/100 [00:00<?, ?it/s]"
      ]
     },
     "metadata": {},
     "output_type": "display_data"
    },
    {
     "name": "stdout",
     "output_type": "stream",
     "text": [
      "Scrolling page\n",
      "Clicked\n",
      "Parsing advises\n",
      "Parsing dates\n"
     ]
    },
    {
     "data": {
      "application/vnd.jupyter.widget-view+json": {
       "model_id": "5d446a3333a04012bb1ae02778a30a1e",
       "version_major": 2,
       "version_minor": 0
      },
      "text/plain": [
       "  0%|          | 0/42 [00:00<?, ?it/s]"
      ]
     },
     "metadata": {},
     "output_type": "display_data"
    },
    {
     "name": "stdout",
     "output_type": "stream",
     "text": [
      "Writing\n"
     ]
    },
    {
     "name": "stderr",
     "output_type": "stream",
     "text": [
      "C:\\Users\\Iljam\\AppData\\Local\\Temp\\ipykernel_12212\\670770284.py:11: DeprecationWarning: executable_path has been deprecated, please pass in a Service object\n",
      "  driver = webdriver.Firefox(\n"
     ]
    },
    {
     "name": "stdout",
     "output_type": "stream",
     "text": [
      "Message: Reached error page: about:neterror?e=fileNotFound&u=file%3A///C%3A/Users/Iljam/AppData/Local/Temp/7zE4C1BC83C/%25D0%2594%25D0%25BE%25D0%25BA%25D1%2583%25D0%25BC%25D0%25B5%25D0%25BD%25D1%2582%25D1%258B%2520%25D0%25BD%25D0%25B0%2520%25D0%25BE%25D1%2582%25D0%25BF%25D1%2580%25D0%25B0%25D0%25B2%25D0%25BA%25D1%2583%2520%25D0%25BF%25D0%25BE%2520%25D0%25BF%25D0%25BE%25D1%2587%25D1%2582%25D0%25B5&c=UTF-8&d=Firefox%20%D0%BD%D0%B5%20%D0%BC%D0%BE%D0%B6%D0%B5%D1%82%20%D0%BD%D0%B0%D0%B9%D1%82%D0%B8%20%D1%84%D0%B0%D0%B9%D0%BB%20/C%3A/Users/Iljam/AppData/Local/Temp/7zE4C1BC83C/%D0%94%D0%BE%D0%BA%D1%83%D0%BC%D0%B5%D0%BD%D1%82%D1%8B%20%D0%BD%D0%B0%20%D0%BE%D1%82%D0%BF%D1%80%D0%B0%D0%B2%D0%BA%D1%83%20%D0%BF%D0%BE%20%D0%BF%D0%BE%D1%87%D1%82%D0%B5.\n",
      "Stacktrace:\n",
      "RemoteError@chrome://remote/content/shared/RemoteError.sys.mjs:8:8\n",
      "WebDriverError@chrome://remote/content/shared/webdriver/Errors.sys.mjs:180:5\n",
      "UnknownError@chrome://remote/content/shared/webdriver/Errors.sys.mjs:507:5\n",
      "checkReadyState@chrome://remote/content/marionette/navigate.sys.mjs:61:24\n",
      "onNavigation@chrome://remote/content/marionette/navigate.sys.mjs:329:39\n",
      "emit@resource://gre/modules/EventEmitter.sys.mjs:154:20\n",
      "receiveMessage@chrome://remote/content/marionette/actors/MarionetteEventsParent.sys.mjs:35:25\n",
      "\n"
     ]
    },
    {
     "data": {
      "application/vnd.jupyter.widget-view+json": {
       "model_id": "b68b28f8db104cbb95290b7e189bbab0",
       "version_major": 2,
       "version_minor": 0
      },
      "text/plain": [
       "  0%|          | 0/100 [00:00<?, ?it/s]"
      ]
     },
     "metadata": {},
     "output_type": "display_data"
    },
    {
     "name": "stdout",
     "output_type": "stream",
     "text": [
      "Scrolling page\n",
      "Clicked\n",
      "Parsing advises\n",
      "Parsing dates\n"
     ]
    },
    {
     "data": {
      "application/vnd.jupyter.widget-view+json": {
       "model_id": "949d9421323f40c2ba484e24ad701ed8",
       "version_major": 2,
       "version_minor": 0
      },
      "text/plain": [
       "  0%|          | 0/48 [00:00<?, ?it/s]"
      ]
     },
     "metadata": {},
     "output_type": "display_data"
    },
    {
     "name": "stdout",
     "output_type": "stream",
     "text": [
      "Writing\n"
     ]
    },
    {
     "name": "stderr",
     "output_type": "stream",
     "text": [
      "C:\\Users\\Iljam\\AppData\\Local\\Temp\\ipykernel_12212\\670770284.py:11: DeprecationWarning: executable_path has been deprecated, please pass in a Service object\n",
      "  driver = webdriver.Firefox(\n"
     ]
    },
    {
     "data": {
      "application/vnd.jupyter.widget-view+json": {
       "model_id": "c44f4af383bb4c8787eb6e0226597eaa",
       "version_major": 2,
       "version_minor": 0
      },
      "text/plain": [
       "  0%|          | 0/100 [00:00<?, ?it/s]"
      ]
     },
     "metadata": {},
     "output_type": "display_data"
    },
    {
     "name": "stdout",
     "output_type": "stream",
     "text": [
      "Scrolling page\n",
      "Clicked\n",
      "Parsing advises\n",
      "Parsing dates\n"
     ]
    },
    {
     "data": {
      "application/vnd.jupyter.widget-view+json": {
       "model_id": "2671b5ae865143469b8d87d16afe819d",
       "version_major": 2,
       "version_minor": 0
      },
      "text/plain": [
       "  0%|          | 0/50 [00:00<?, ?it/s]"
      ]
     },
     "metadata": {},
     "output_type": "display_data"
    },
    {
     "name": "stdout",
     "output_type": "stream",
     "text": [
      "Writing\n"
     ]
    },
    {
     "name": "stderr",
     "output_type": "stream",
     "text": [
      "C:\\Users\\Iljam\\AppData\\Local\\Temp\\ipykernel_12212\\670770284.py:11: DeprecationWarning: executable_path has been deprecated, please pass in a Service object\n",
      "  driver = webdriver.Firefox(\n"
     ]
    },
    {
     "data": {
      "application/vnd.jupyter.widget-view+json": {
       "model_id": "d516ad448f324ec591ba3665a6cf9816",
       "version_major": 2,
       "version_minor": 0
      },
      "text/plain": [
       "  0%|          | 0/100 [00:00<?, ?it/s]"
      ]
     },
     "metadata": {},
     "output_type": "display_data"
    },
    {
     "name": "stdout",
     "output_type": "stream",
     "text": [
      "Scrolling page\n",
      "Clicked\n",
      "Parsing advises\n",
      "Parsing dates\n"
     ]
    },
    {
     "data": {
      "application/vnd.jupyter.widget-view+json": {
       "model_id": "364a60c1578443d79e3f0f301ec5abc6",
       "version_major": 2,
       "version_minor": 0
      },
      "text/plain": [
       "  0%|          | 0/51 [00:00<?, ?it/s]"
      ]
     },
     "metadata": {},
     "output_type": "display_data"
    },
    {
     "name": "stdout",
     "output_type": "stream",
     "text": [
      "Writing\n"
     ]
    },
    {
     "name": "stderr",
     "output_type": "stream",
     "text": [
      "C:\\Users\\Iljam\\AppData\\Local\\Temp\\ipykernel_12212\\670770284.py:11: DeprecationWarning: executable_path has been deprecated, please pass in a Service object\n",
      "  driver = webdriver.Firefox(\n"
     ]
    },
    {
     "data": {
      "application/vnd.jupyter.widget-view+json": {
       "model_id": "b04b36bc427a40bdbf149a50cddd25cd",
       "version_major": 2,
       "version_minor": 0
      },
      "text/plain": [
       "  0%|          | 0/100 [00:00<?, ?it/s]"
      ]
     },
     "metadata": {},
     "output_type": "display_data"
    },
    {
     "name": "stdout",
     "output_type": "stream",
     "text": [
      "Scrolling page\n",
      "Clicked\n",
      "Parsing advises\n",
      "Parsing dates\n"
     ]
    },
    {
     "data": {
      "application/vnd.jupyter.widget-view+json": {
       "model_id": "c779ddd95edc4514b0d5bf60feae6841",
       "version_major": 2,
       "version_minor": 0
      },
      "text/plain": [
       "  0%|          | 0/70 [00:00<?, ?it/s]"
      ]
     },
     "metadata": {},
     "output_type": "display_data"
    },
    {
     "name": "stdout",
     "output_type": "stream",
     "text": [
      "Writing\n"
     ]
    },
    {
     "name": "stderr",
     "output_type": "stream",
     "text": [
      "C:\\Users\\Iljam\\AppData\\Local\\Temp\\ipykernel_12212\\670770284.py:11: DeprecationWarning: executable_path has been deprecated, please pass in a Service object\n",
      "  driver = webdriver.Firefox(\n"
     ]
    },
    {
     "data": {
      "application/vnd.jupyter.widget-view+json": {
       "model_id": "212566f605aa4a1dafc8b36c60bb3861",
       "version_major": 2,
       "version_minor": 0
      },
      "text/plain": [
       "  0%|          | 0/100 [00:00<?, ?it/s]"
      ]
     },
     "metadata": {},
     "output_type": "display_data"
    },
    {
     "name": "stdout",
     "output_type": "stream",
     "text": [
      "Scrolling page\n",
      "Clicked\n",
      "Parsing advises\n",
      "Parsing dates\n"
     ]
    },
    {
     "data": {
      "application/vnd.jupyter.widget-view+json": {
       "model_id": "afbf4ca4e2c649c8845a5296d270f03e",
       "version_major": 2,
       "version_minor": 0
      },
      "text/plain": [
       "  0%|          | 0/71 [00:00<?, ?it/s]"
      ]
     },
     "metadata": {},
     "output_type": "display_data"
    },
    {
     "name": "stdout",
     "output_type": "stream",
     "text": [
      "Writing\n"
     ]
    },
    {
     "name": "stderr",
     "output_type": "stream",
     "text": [
      "C:\\Users\\Iljam\\AppData\\Local\\Temp\\ipykernel_12212\\670770284.py:11: DeprecationWarning: executable_path has been deprecated, please pass in a Service object\n",
      "  driver = webdriver.Firefox(\n"
     ]
    },
    {
     "data": {
      "application/vnd.jupyter.widget-view+json": {
       "model_id": "6a3d72c9136543b786e6839b0e5d7fe0",
       "version_major": 2,
       "version_minor": 0
      },
      "text/plain": [
       "  0%|          | 0/100 [00:00<?, ?it/s]"
      ]
     },
     "metadata": {},
     "output_type": "display_data"
    },
    {
     "name": "stdout",
     "output_type": "stream",
     "text": [
      "Scrolling page\n",
      "Clicked\n",
      "Parsing advises\n",
      "Parsing dates\n"
     ]
    },
    {
     "data": {
      "application/vnd.jupyter.widget-view+json": {
       "model_id": "0abc0adc63f34b78a26cd4ab873d64ef",
       "version_major": 2,
       "version_minor": 0
      },
      "text/plain": [
       "  0%|          | 0/72 [00:00<?, ?it/s]"
      ]
     },
     "metadata": {},
     "output_type": "display_data"
    },
    {
     "name": "stdout",
     "output_type": "stream",
     "text": [
      "Writing\n"
     ]
    },
    {
     "name": "stderr",
     "output_type": "stream",
     "text": [
      "C:\\Users\\Iljam\\YandexDisk\\ML_projects\\venv\\lib\\site-packages\\openpyxl\\workbook\\child.py:99: UserWarning: Title is more than 31 characters. Some applications may not be able to read the file\n",
      "  warnings.warn(\"Title is more than 31 characters. Some applications may not be able to read the file\")\n",
      "C:\\Users\\Iljam\\AppData\\Local\\Temp\\ipykernel_12212\\670770284.py:11: DeprecationWarning: executable_path has been deprecated, please pass in a Service object\n",
      "  driver = webdriver.Firefox(\n"
     ]
    },
    {
     "data": {
      "application/vnd.jupyter.widget-view+json": {
       "model_id": "e18c8bd66bf941288f9176fc0e491451",
       "version_major": 2,
       "version_minor": 0
      },
      "text/plain": [
       "  0%|          | 0/100 [00:00<?, ?it/s]"
      ]
     },
     "metadata": {},
     "output_type": "display_data"
    },
    {
     "name": "stdout",
     "output_type": "stream",
     "text": [
      "Scrolling page\n",
      "Clicked\n",
      "Parsing advises\n",
      "Parsing dates\n"
     ]
    },
    {
     "data": {
      "application/vnd.jupyter.widget-view+json": {
       "model_id": "10400d194d554f2fa77d371d46de1988",
       "version_major": 2,
       "version_minor": 0
      },
      "text/plain": [
       "  0%|          | 0/73 [00:00<?, ?it/s]"
      ]
     },
     "metadata": {},
     "output_type": "display_data"
    },
    {
     "name": "stdout",
     "output_type": "stream",
     "text": [
      "Writing\n"
     ]
    },
    {
     "name": "stderr",
     "output_type": "stream",
     "text": [
      "C:\\Users\\Iljam\\AppData\\Local\\Temp\\ipykernel_12212\\670770284.py:11: DeprecationWarning: executable_path has been deprecated, please pass in a Service object\n",
      "  driver = webdriver.Firefox(\n"
     ]
    },
    {
     "data": {
      "application/vnd.jupyter.widget-view+json": {
       "model_id": "2fd14db761a046fa9ef67fae1dfa536e",
       "version_major": 2,
       "version_minor": 0
      },
      "text/plain": [
       "  0%|          | 0/100 [00:00<?, ?it/s]"
      ]
     },
     "metadata": {},
     "output_type": "display_data"
    },
    {
     "name": "stdout",
     "output_type": "stream",
     "text": [
      "Scrolling page\n",
      "Clicked\n",
      "Parsing advises\n",
      "Parsing dates\n"
     ]
    },
    {
     "data": {
      "application/vnd.jupyter.widget-view+json": {
       "model_id": "12632f6889e5403cb7c7b58eae98a074",
       "version_major": 2,
       "version_minor": 0
      },
      "text/plain": [
       "  0%|          | 0/74 [00:00<?, ?it/s]"
      ]
     },
     "metadata": {},
     "output_type": "display_data"
    },
    {
     "name": "stdout",
     "output_type": "stream",
     "text": [
      "Writing\n"
     ]
    },
    {
     "name": "stderr",
     "output_type": "stream",
     "text": [
      "C:\\Users\\Iljam\\AppData\\Local\\Temp\\ipykernel_12212\\670770284.py:11: DeprecationWarning: executable_path has been deprecated, please pass in a Service object\n",
      "  driver = webdriver.Firefox(\n"
     ]
    },
    {
     "data": {
      "application/vnd.jupyter.widget-view+json": {
       "model_id": "e7c1c4d37a4543ccb96d9f1a71c3eb93",
       "version_major": 2,
       "version_minor": 0
      },
      "text/plain": [
       "  0%|          | 0/100 [00:00<?, ?it/s]"
      ]
     },
     "metadata": {},
     "output_type": "display_data"
    },
    {
     "name": "stdout",
     "output_type": "stream",
     "text": [
      "Scrolling page\n",
      "Clicked\n",
      "Parsing advises\n",
      "Parsing dates\n"
     ]
    },
    {
     "data": {
      "application/vnd.jupyter.widget-view+json": {
       "model_id": "74e7dbf216ec4fb0aec901a3da07840f",
       "version_major": 2,
       "version_minor": 0
      },
      "text/plain": [
       "  0%|          | 0/77 [00:00<?, ?it/s]"
      ]
     },
     "metadata": {},
     "output_type": "display_data"
    },
    {
     "name": "stdout",
     "output_type": "stream",
     "text": [
      "Writing\n"
     ]
    },
    {
     "name": "stderr",
     "output_type": "stream",
     "text": [
      "C:\\Users\\Iljam\\AppData\\Local\\Temp\\ipykernel_12212\\670770284.py:11: DeprecationWarning: executable_path has been deprecated, please pass in a Service object\n",
      "  driver = webdriver.Firefox(\n"
     ]
    },
    {
     "data": {
      "application/vnd.jupyter.widget-view+json": {
       "model_id": "dac2364a60304e6f90c41ff8845ea5f8",
       "version_major": 2,
       "version_minor": 0
      },
      "text/plain": [
       "  0%|          | 0/100 [00:00<?, ?it/s]"
      ]
     },
     "metadata": {},
     "output_type": "display_data"
    },
    {
     "name": "stdout",
     "output_type": "stream",
     "text": [
      "Scrolling page\n",
      "Clicked\n",
      "Scrolling page\n",
      "Clicked\n",
      "Parsing advises\n",
      "Parsing dates\n"
     ]
    },
    {
     "data": {
      "application/vnd.jupyter.widget-view+json": {
       "model_id": "49db6be10f854b07a508e9534cc3e4bd",
       "version_major": 2,
       "version_minor": 0
      },
      "text/plain": [
       "  0%|          | 0/110 [00:00<?, ?it/s]"
      ]
     },
     "metadata": {},
     "output_type": "display_data"
    },
    {
     "name": "stdout",
     "output_type": "stream",
     "text": [
      "Writing\n"
     ]
    },
    {
     "name": "stderr",
     "output_type": "stream",
     "text": [
      "C:\\Users\\Iljam\\AppData\\Local\\Temp\\ipykernel_12212\\670770284.py:11: DeprecationWarning: executable_path has been deprecated, please pass in a Service object\n",
      "  driver = webdriver.Firefox(\n"
     ]
    },
    {
     "data": {
      "application/vnd.jupyter.widget-view+json": {
       "model_id": "fee5a4ef117d4cb2b62b6e4acf4a6d10",
       "version_major": 2,
       "version_minor": 0
      },
      "text/plain": [
       "  0%|          | 0/100 [00:00<?, ?it/s]"
      ]
     },
     "metadata": {},
     "output_type": "display_data"
    },
    {
     "name": "stdout",
     "output_type": "stream",
     "text": [
      "Scrolling page\n",
      "Clicked\n",
      "Parsing advises\n",
      "Parsing dates\n"
     ]
    },
    {
     "data": {
      "application/vnd.jupyter.widget-view+json": {
       "model_id": "55a521a1ba9047c883ea7af773bb66ad",
       "version_major": 2,
       "version_minor": 0
      },
      "text/plain": [
       "  0%|          | 0/111 [00:00<?, ?it/s]"
      ]
     },
     "metadata": {},
     "output_type": "display_data"
    },
    {
     "name": "stdout",
     "output_type": "stream",
     "text": [
      "Writing\n"
     ]
    },
    {
     "name": "stderr",
     "output_type": "stream",
     "text": [
      "C:\\Users\\Iljam\\AppData\\Local\\Temp\\ipykernel_12212\\670770284.py:11: DeprecationWarning: executable_path has been deprecated, please pass in a Service object\n",
      "  driver = webdriver.Firefox(\n"
     ]
    },
    {
     "data": {
      "application/vnd.jupyter.widget-view+json": {
       "model_id": "659a83da0638464cbb94ea73bfb4a448",
       "version_major": 2,
       "version_minor": 0
      },
      "text/plain": [
       "  0%|          | 0/100 [00:00<?, ?it/s]"
      ]
     },
     "metadata": {},
     "output_type": "display_data"
    },
    {
     "name": "stdout",
     "output_type": "stream",
     "text": [
      "Scrolling page\n",
      "Clicked\n",
      "Parsing advises\n",
      "Parsing dates\n"
     ]
    },
    {
     "data": {
      "application/vnd.jupyter.widget-view+json": {
       "model_id": "2fd12c51d6954e47b952ea7700281b90",
       "version_major": 2,
       "version_minor": 0
      },
      "text/plain": [
       "  0%|          | 0/112 [00:00<?, ?it/s]"
      ]
     },
     "metadata": {},
     "output_type": "display_data"
    },
    {
     "name": "stdout",
     "output_type": "stream",
     "text": [
      "Writing\n"
     ]
    },
    {
     "name": "stderr",
     "output_type": "stream",
     "text": [
      "C:\\Users\\Iljam\\YandexDisk\\ML_projects\\venv\\lib\\site-packages\\openpyxl\\workbook\\child.py:99: UserWarning: Title is more than 31 characters. Some applications may not be able to read the file\n",
      "  warnings.warn(\"Title is more than 31 characters. Some applications may not be able to read the file\")\n",
      "C:\\Users\\Iljam\\AppData\\Local\\Temp\\ipykernel_12212\\670770284.py:11: DeprecationWarning: executable_path has been deprecated, please pass in a Service object\n",
      "  driver = webdriver.Firefox(\n"
     ]
    },
    {
     "data": {
      "application/vnd.jupyter.widget-view+json": {
       "model_id": "0f8f2443e8d8478d9c9c849b3332e7ab",
       "version_major": 2,
       "version_minor": 0
      },
      "text/plain": [
       "  0%|          | 0/100 [00:00<?, ?it/s]"
      ]
     },
     "metadata": {},
     "output_type": "display_data"
    },
    {
     "name": "stdout",
     "output_type": "stream",
     "text": [
      "Scrolling page\n",
      "Clicked\n",
      "Parsing advises\n",
      "Parsing dates\n"
     ]
    },
    {
     "data": {
      "application/vnd.jupyter.widget-view+json": {
       "model_id": "f79a7d220f9e43f6afbe03253c0856bd",
       "version_major": 2,
       "version_minor": 0
      },
      "text/plain": [
       "  0%|          | 0/113 [00:00<?, ?it/s]"
      ]
     },
     "metadata": {},
     "output_type": "display_data"
    },
    {
     "name": "stdout",
     "output_type": "stream",
     "text": [
      "Writing\n"
     ]
    },
    {
     "name": "stderr",
     "output_type": "stream",
     "text": [
      "C:\\Users\\Iljam\\YandexDisk\\ML_projects\\venv\\lib\\site-packages\\openpyxl\\workbook\\child.py:99: UserWarning: Title is more than 31 characters. Some applications may not be able to read the file\n",
      "  warnings.warn(\"Title is more than 31 characters. Some applications may not be able to read the file\")\n",
      "C:\\Users\\Iljam\\AppData\\Local\\Temp\\ipykernel_12212\\670770284.py:11: DeprecationWarning: executable_path has been deprecated, please pass in a Service object\n",
      "  driver = webdriver.Firefox(\n"
     ]
    },
    {
     "data": {
      "application/vnd.jupyter.widget-view+json": {
       "model_id": "e0e25b8aec754dcea75839d8307dff17",
       "version_major": 2,
       "version_minor": 0
      },
      "text/plain": [
       "  0%|          | 0/100 [00:00<?, ?it/s]"
      ]
     },
     "metadata": {},
     "output_type": "display_data"
    },
    {
     "name": "stdout",
     "output_type": "stream",
     "text": [
      "Scrolling page\n",
      "Clicked\n",
      "Parsing advises\n",
      "Parsing dates\n"
     ]
    },
    {
     "data": {
      "application/vnd.jupyter.widget-view+json": {
       "model_id": "ec48f4fc71d84973bc6b0aaed7abaa44",
       "version_major": 2,
       "version_minor": 0
      },
      "text/plain": [
       "  0%|          | 0/117 [00:00<?, ?it/s]"
      ]
     },
     "metadata": {},
     "output_type": "display_data"
    },
    {
     "name": "stdout",
     "output_type": "stream",
     "text": [
      "Writing\n"
     ]
    },
    {
     "name": "stderr",
     "output_type": "stream",
     "text": [
      "C:\\Users\\Iljam\\AppData\\Local\\Temp\\ipykernel_12212\\670770284.py:11: DeprecationWarning: executable_path has been deprecated, please pass in a Service object\n",
      "  driver = webdriver.Firefox(\n"
     ]
    },
    {
     "data": {
      "application/vnd.jupyter.widget-view+json": {
       "model_id": "7a053afbfc5442a3ac95f8dda17fbbbb",
       "version_major": 2,
       "version_minor": 0
      },
      "text/plain": [
       "  0%|          | 0/100 [00:00<?, ?it/s]"
      ]
     },
     "metadata": {},
     "output_type": "display_data"
    },
    {
     "name": "stdout",
     "output_type": "stream",
     "text": [
      "Scrolling page\n",
      "Clicked\n",
      "Scrolling page\n",
      "Clicked\n",
      "Scrolling page\n",
      "Clicked\n",
      "Parsing advises\n",
      "Parsing dates\n"
     ]
    },
    {
     "data": {
      "application/vnd.jupyter.widget-view+json": {
       "model_id": "cc6da41af6f54dff9dd6e3b46fd40455",
       "version_major": 2,
       "version_minor": 0
      },
      "text/plain": [
       "  0%|          | 0/170 [00:00<?, ?it/s]"
      ]
     },
     "metadata": {},
     "output_type": "display_data"
    },
    {
     "name": "stdout",
     "output_type": "stream",
     "text": [
      "Writing\n"
     ]
    },
    {
     "name": "stderr",
     "output_type": "stream",
     "text": [
      "C:\\Users\\Iljam\\AppData\\Local\\Temp\\ipykernel_12212\\670770284.py:11: DeprecationWarning: executable_path has been deprecated, please pass in a Service object\n",
      "  driver = webdriver.Firefox(\n"
     ]
    },
    {
     "data": {
      "application/vnd.jupyter.widget-view+json": {
       "model_id": "eea76c9249f647b4b26c0e80a9b5ee3b",
       "version_major": 2,
       "version_minor": 0
      },
      "text/plain": [
       "  0%|          | 0/100 [00:00<?, ?it/s]"
      ]
     },
     "metadata": {},
     "output_type": "display_data"
    },
    {
     "name": "stdout",
     "output_type": "stream",
     "text": [
      "Scrolling page\n",
      "Clicked\n",
      "Parsing advises\n",
      "Parsing dates\n"
     ]
    },
    {
     "data": {
      "application/vnd.jupyter.widget-view+json": {
       "model_id": "fa64e85fedd944ce900013aaea16e213",
       "version_major": 2,
       "version_minor": 0
      },
      "text/plain": [
       "  0%|          | 0/191 [00:00<?, ?it/s]"
      ]
     },
     "metadata": {},
     "output_type": "display_data"
    },
    {
     "name": "stdout",
     "output_type": "stream",
     "text": [
      "Writing\n"
     ]
    },
    {
     "name": "stderr",
     "output_type": "stream",
     "text": [
      "C:\\Users\\Iljam\\YandexDisk\\ML_projects\\venv\\lib\\site-packages\\openpyxl\\workbook\\child.py:99: UserWarning: Title is more than 31 characters. Some applications may not be able to read the file\n",
      "  warnings.warn(\"Title is more than 31 characters. Some applications may not be able to read the file\")\n",
      "C:\\Users\\Iljam\\AppData\\Local\\Temp\\ipykernel_12212\\670770284.py:11: DeprecationWarning: executable_path has been deprecated, please pass in a Service object\n",
      "  driver = webdriver.Firefox(\n"
     ]
    },
    {
     "data": {
      "application/vnd.jupyter.widget-view+json": {
       "model_id": "fce315a8f34c412991ffc59435e43c14",
       "version_major": 2,
       "version_minor": 0
      },
      "text/plain": [
       "  0%|          | 0/100 [00:00<?, ?it/s]"
      ]
     },
     "metadata": {},
     "output_type": "display_data"
    },
    {
     "name": "stdout",
     "output_type": "stream",
     "text": [
      "Scrolling page\n",
      "Clicked\n",
      "Parsing advises\n",
      "Parsing dates\n"
     ]
    },
    {
     "data": {
      "application/vnd.jupyter.widget-view+json": {
       "model_id": "b53dc675982047228d8abade36578a46",
       "version_major": 2,
       "version_minor": 0
      },
      "text/plain": [
       "  0%|          | 0/195 [00:00<?, ?it/s]"
      ]
     },
     "metadata": {},
     "output_type": "display_data"
    },
    {
     "name": "stdout",
     "output_type": "stream",
     "text": [
      "Writing\n"
     ]
    },
    {
     "name": "stderr",
     "output_type": "stream",
     "text": [
      "C:\\Users\\Iljam\\YandexDisk\\ML_projects\\venv\\lib\\site-packages\\openpyxl\\workbook\\child.py:99: UserWarning: Title is more than 31 characters. Some applications may not be able to read the file\n",
      "  warnings.warn(\"Title is more than 31 characters. Some applications may not be able to read the file\")\n",
      "C:\\Users\\Iljam\\AppData\\Local\\Temp\\ipykernel_12212\\670770284.py:11: DeprecationWarning: executable_path has been deprecated, please pass in a Service object\n",
      "  driver = webdriver.Firefox(\n"
     ]
    },
    {
     "data": {
      "application/vnd.jupyter.widget-view+json": {
       "model_id": "7bd8d19bd18846ceb9cbc38b82dfe291",
       "version_major": 2,
       "version_minor": 0
      },
      "text/plain": [
       "  0%|          | 0/100 [00:00<?, ?it/s]"
      ]
     },
     "metadata": {},
     "output_type": "display_data"
    },
    {
     "name": "stdout",
     "output_type": "stream",
     "text": [
      "Scrolling page\n",
      "Clicked\n",
      "Parsing advises\n",
      "Parsing dates\n"
     ]
    },
    {
     "data": {
      "application/vnd.jupyter.widget-view+json": {
       "model_id": "e5840020c21948e3a14c6f90ce1ffe0d",
       "version_major": 2,
       "version_minor": 0
      },
      "text/plain": [
       "  0%|          | 0/197 [00:00<?, ?it/s]"
      ]
     },
     "metadata": {},
     "output_type": "display_data"
    },
    {
     "name": "stdout",
     "output_type": "stream",
     "text": [
      "Writing\n"
     ]
    },
    {
     "name": "stderr",
     "output_type": "stream",
     "text": [
      "C:\\Users\\Iljam\\AppData\\Local\\Temp\\ipykernel_12212\\670770284.py:11: DeprecationWarning: executable_path has been deprecated, please pass in a Service object\n",
      "  driver = webdriver.Firefox(\n"
     ]
    },
    {
     "data": {
      "application/vnd.jupyter.widget-view+json": {
       "model_id": "7f835ba4137b4e68b7a6d13ecb240f39",
       "version_major": 2,
       "version_minor": 0
      },
      "text/plain": [
       "  0%|          | 0/100 [00:00<?, ?it/s]"
      ]
     },
     "metadata": {},
     "output_type": "display_data"
    },
    {
     "name": "stdout",
     "output_type": "stream",
     "text": [
      "Scrolling page\n",
      "Clicked\n",
      "Parsing advises\n",
      "Parsing dates\n"
     ]
    },
    {
     "data": {
      "application/vnd.jupyter.widget-view+json": {
       "model_id": "0636fd60af8a4d32b311b279c9df7eaf",
       "version_major": 2,
       "version_minor": 0
      },
      "text/plain": [
       "  0%|          | 0/198 [00:00<?, ?it/s]"
      ]
     },
     "metadata": {},
     "output_type": "display_data"
    },
    {
     "name": "stdout",
     "output_type": "stream",
     "text": [
      "Writing\n"
     ]
    },
    {
     "name": "stderr",
     "output_type": "stream",
     "text": [
      "C:\\Users\\Iljam\\AppData\\Local\\Temp\\ipykernel_12212\\670770284.py:11: DeprecationWarning: executable_path has been deprecated, please pass in a Service object\n",
      "  driver = webdriver.Firefox(\n"
     ]
    },
    {
     "data": {
      "application/vnd.jupyter.widget-view+json": {
       "model_id": "08fc7b30ab844491b838e6fa83ec0270",
       "version_major": 2,
       "version_minor": 0
      },
      "text/plain": [
       "  0%|          | 0/100 [00:00<?, ?it/s]"
      ]
     },
     "metadata": {},
     "output_type": "display_data"
    },
    {
     "name": "stdout",
     "output_type": "stream",
     "text": [
      "Scrolling page\n",
      "Clicked\n",
      "Scrolling page\n",
      "Clicked\n",
      "Parsing advises\n",
      "Parsing dates\n"
     ]
    },
    {
     "data": {
      "application/vnd.jupyter.widget-view+json": {
       "model_id": "f35796b4337e493ebd29f5b9c3fe7a54",
       "version_major": 2,
       "version_minor": 0
      },
      "text/plain": [
       "  0%|          | 0/233 [00:00<?, ?it/s]"
      ]
     },
     "metadata": {},
     "output_type": "display_data"
    },
    {
     "name": "stdout",
     "output_type": "stream",
     "text": [
      "Writing\n"
     ]
    },
    {
     "name": "stderr",
     "output_type": "stream",
     "text": [
      "C:\\Users\\Iljam\\AppData\\Local\\Temp\\ipykernel_12212\\670770284.py:11: DeprecationWarning: executable_path has been deprecated, please pass in a Service object\n",
      "  driver = webdriver.Firefox(\n"
     ]
    },
    {
     "data": {
      "application/vnd.jupyter.widget-view+json": {
       "model_id": "04bf7f96a1fb43ab84deb057a38a62d2",
       "version_major": 2,
       "version_minor": 0
      },
      "text/plain": [
       "  0%|          | 0/100 [00:00<?, ?it/s]"
      ]
     },
     "metadata": {},
     "output_type": "display_data"
    },
    {
     "name": "stdout",
     "output_type": "stream",
     "text": [
      "Scrolling page\n",
      "Clicked\n",
      "Parsing advises\n",
      "Parsing dates\n"
     ]
    },
    {
     "data": {
      "application/vnd.jupyter.widget-view+json": {
       "model_id": "dc2e3ba27bb2417885bbca3ac37a7354",
       "version_major": 2,
       "version_minor": 0
      },
      "text/plain": [
       "  0%|          | 0/237 [00:00<?, ?it/s]"
      ]
     },
     "metadata": {},
     "output_type": "display_data"
    },
    {
     "name": "stdout",
     "output_type": "stream",
     "text": [
      "Writing\n"
     ]
    },
    {
     "name": "stderr",
     "output_type": "stream",
     "text": [
      "C:\\Users\\Iljam\\AppData\\Local\\Temp\\ipykernel_12212\\670770284.py:11: DeprecationWarning: executable_path has been deprecated, please pass in a Service object\n",
      "  driver = webdriver.Firefox(\n"
     ]
    },
    {
     "data": {
      "application/vnd.jupyter.widget-view+json": {
       "model_id": "5db8459493504ab9b26f017e9079bd36",
       "version_major": 2,
       "version_minor": 0
      },
      "text/plain": [
       "  0%|          | 0/100 [00:00<?, ?it/s]"
      ]
     },
     "metadata": {},
     "output_type": "display_data"
    },
    {
     "name": "stdout",
     "output_type": "stream",
     "text": [
      "Scrolling page\n",
      "Clicked\n",
      "Parsing advises\n",
      "Parsing dates\n"
     ]
    },
    {
     "data": {
      "application/vnd.jupyter.widget-view+json": {
       "model_id": "07bdf42730ec47f18e02371f7072eb61",
       "version_major": 2,
       "version_minor": 0
      },
      "text/plain": [
       "  0%|          | 0/238 [00:00<?, ?it/s]"
      ]
     },
     "metadata": {},
     "output_type": "display_data"
    },
    {
     "name": "stdout",
     "output_type": "stream",
     "text": [
      "Writing\n"
     ]
    },
    {
     "name": "stderr",
     "output_type": "stream",
     "text": [
      "C:\\Users\\Iljam\\AppData\\Local\\Temp\\ipykernel_12212\\670770284.py:11: DeprecationWarning: executable_path has been deprecated, please pass in a Service object\n",
      "  driver = webdriver.Firefox(\n"
     ]
    },
    {
     "data": {
      "application/vnd.jupyter.widget-view+json": {
       "model_id": "bcd6a91fe90c44ebac96c6c28ef83d60",
       "version_major": 2,
       "version_minor": 0
      },
      "text/plain": [
       "  0%|          | 0/100 [00:00<?, ?it/s]"
      ]
     },
     "metadata": {},
     "output_type": "display_data"
    },
    {
     "name": "stdout",
     "output_type": "stream",
     "text": [
      "Scrolling page\n",
      "Clicked\n",
      "Parsing advises\n",
      "Parsing dates\n"
     ]
    },
    {
     "data": {
      "application/vnd.jupyter.widget-view+json": {
       "model_id": "fb0236ac45264dbab35a2a208409de8c",
       "version_major": 2,
       "version_minor": 0
      },
      "text/plain": [
       "  0%|          | 0/241 [00:00<?, ?it/s]"
      ]
     },
     "metadata": {},
     "output_type": "display_data"
    },
    {
     "name": "stdout",
     "output_type": "stream",
     "text": [
      "Writing\n"
     ]
    },
    {
     "name": "stderr",
     "output_type": "stream",
     "text": [
      "C:\\Users\\Iljam\\AppData\\Local\\Temp\\ipykernel_12212\\670770284.py:11: DeprecationWarning: executable_path has been deprecated, please pass in a Service object\n",
      "  driver = webdriver.Firefox(\n"
     ]
    },
    {
     "data": {
      "application/vnd.jupyter.widget-view+json": {
       "model_id": "8f85affc55b94411a456dcabf02c5eff",
       "version_major": 2,
       "version_minor": 0
      },
      "text/plain": [
       "  0%|          | 0/100 [00:00<?, ?it/s]"
      ]
     },
     "metadata": {},
     "output_type": "display_data"
    },
    {
     "name": "stdout",
     "output_type": "stream",
     "text": [
      "Scrolling page\n",
      "Clicked\n",
      "Parsing advises\n",
      "Parsing dates\n"
     ]
    },
    {
     "data": {
      "application/vnd.jupyter.widget-view+json": {
       "model_id": "eed8b43a80c343a8800e5f3c4fed912b",
       "version_major": 2,
       "version_minor": 0
      },
      "text/plain": [
       "  0%|          | 0/246 [00:00<?, ?it/s]"
      ]
     },
     "metadata": {},
     "output_type": "display_data"
    },
    {
     "name": "stdout",
     "output_type": "stream",
     "text": [
      "Writing\n"
     ]
    },
    {
     "name": "stderr",
     "output_type": "stream",
     "text": [
      "C:\\Users\\Iljam\\AppData\\Local\\Temp\\ipykernel_12212\\670770284.py:11: DeprecationWarning: executable_path has been deprecated, please pass in a Service object\n",
      "  driver = webdriver.Firefox(\n"
     ]
    },
    {
     "data": {
      "application/vnd.jupyter.widget-view+json": {
       "model_id": "6906951a364f4ac5a6f786e36fceb51f",
       "version_major": 2,
       "version_minor": 0
      },
      "text/plain": [
       "  0%|          | 0/100 [00:00<?, ?it/s]"
      ]
     },
     "metadata": {},
     "output_type": "display_data"
    },
    {
     "name": "stdout",
     "output_type": "stream",
     "text": [
      "Scrolling page\n",
      "Clicked\n",
      "Parsing advises\n",
      "Parsing dates\n"
     ]
    },
    {
     "data": {
      "application/vnd.jupyter.widget-view+json": {
       "model_id": "b7a57d8dca4547b1bb3f80a0dcea5150",
       "version_major": 2,
       "version_minor": 0
      },
      "text/plain": [
       "  0%|          | 0/247 [00:00<?, ?it/s]"
      ]
     },
     "metadata": {},
     "output_type": "display_data"
    },
    {
     "name": "stdout",
     "output_type": "stream",
     "text": [
      "Writing\n"
     ]
    },
    {
     "name": "stderr",
     "output_type": "stream",
     "text": [
      "C:\\Users\\Iljam\\AppData\\Local\\Temp\\ipykernel_12212\\670770284.py:11: DeprecationWarning: executable_path has been deprecated, please pass in a Service object\n",
      "  driver = webdriver.Firefox(\n"
     ]
    },
    {
     "data": {
      "application/vnd.jupyter.widget-view+json": {
       "model_id": "33afbebd9fec4f608ef21efa5e448790",
       "version_major": 2,
       "version_minor": 0
      },
      "text/plain": [
       "  0%|          | 0/100 [00:00<?, ?it/s]"
      ]
     },
     "metadata": {},
     "output_type": "display_data"
    },
    {
     "name": "stdout",
     "output_type": "stream",
     "text": [
      "Scrolling page\n",
      "Clicked\n",
      "Scrolling page\n",
      "Clicked\n",
      "Parsing advises\n",
      "Parsing dates\n"
     ]
    },
    {
     "data": {
      "application/vnd.jupyter.widget-view+json": {
       "model_id": "ffd5b4dba7f2416b9e5527477c3502ac",
       "version_major": 2,
       "version_minor": 0
      },
      "text/plain": [
       "  0%|          | 0/287 [00:00<?, ?it/s]"
      ]
     },
     "metadata": {},
     "output_type": "display_data"
    },
    {
     "name": "stdout",
     "output_type": "stream",
     "text": [
      "Writing\n"
     ]
    },
    {
     "name": "stderr",
     "output_type": "stream",
     "text": [
      "C:\\Users\\Iljam\\AppData\\Local\\Temp\\ipykernel_12212\\670770284.py:11: DeprecationWarning: executable_path has been deprecated, please pass in a Service object\n",
      "  driver = webdriver.Firefox(\n"
     ]
    },
    {
     "data": {
      "application/vnd.jupyter.widget-view+json": {
       "model_id": "dedfa75bc2cb4641a6502d89db10337d",
       "version_major": 2,
       "version_minor": 0
      },
      "text/plain": [
       "  0%|          | 0/100 [00:00<?, ?it/s]"
      ]
     },
     "metadata": {},
     "output_type": "display_data"
    },
    {
     "name": "stdout",
     "output_type": "stream",
     "text": [
      "Scrolling page\n",
      "Clicked\n",
      "Parsing advises\n",
      "Parsing dates\n"
     ]
    },
    {
     "data": {
      "application/vnd.jupyter.widget-view+json": {
       "model_id": "866dd2555f814f80a217843d07c0963e",
       "version_major": 2,
       "version_minor": 0
      },
      "text/plain": [
       "  0%|          | 0/288 [00:00<?, ?it/s]"
      ]
     },
     "metadata": {},
     "output_type": "display_data"
    },
    {
     "name": "stdout",
     "output_type": "stream",
     "text": [
      "Writing\n"
     ]
    },
    {
     "name": "stderr",
     "output_type": "stream",
     "text": [
      "C:\\Users\\Iljam\\AppData\\Local\\Temp\\ipykernel_12212\\670770284.py:11: DeprecationWarning: executable_path has been deprecated, please pass in a Service object\n",
      "  driver = webdriver.Firefox(\n"
     ]
    },
    {
     "data": {
      "application/vnd.jupyter.widget-view+json": {
       "model_id": "0a936fae5ee44cc58e60655d65476f43",
       "version_major": 2,
       "version_minor": 0
      },
      "text/plain": [
       "  0%|          | 0/100 [00:00<?, ?it/s]"
      ]
     },
     "metadata": {},
     "output_type": "display_data"
    },
    {
     "name": "stdout",
     "output_type": "stream",
     "text": [
      "Scrolling page\n",
      "Clicked\n",
      "Parsing advises\n",
      "Parsing dates\n"
     ]
    },
    {
     "data": {
      "application/vnd.jupyter.widget-view+json": {
       "model_id": "30417d5e34994d7097628d3185c0a128",
       "version_major": 2,
       "version_minor": 0
      },
      "text/plain": [
       "  0%|          | 0/290 [00:00<?, ?it/s]"
      ]
     },
     "metadata": {},
     "output_type": "display_data"
    },
    {
     "name": "stdout",
     "output_type": "stream",
     "text": [
      "Writing\n"
     ]
    },
    {
     "name": "stderr",
     "output_type": "stream",
     "text": [
      "C:\\Users\\Iljam\\AppData\\Local\\Temp\\ipykernel_12212\\670770284.py:11: DeprecationWarning: executable_path has been deprecated, please pass in a Service object\n",
      "  driver = webdriver.Firefox(\n"
     ]
    },
    {
     "data": {
      "application/vnd.jupyter.widget-view+json": {
       "model_id": "69ba206043a847f7952e5a4fecf30ef6",
       "version_major": 2,
       "version_minor": 0
      },
      "text/plain": [
       "  0%|          | 0/100 [00:00<?, ?it/s]"
      ]
     },
     "metadata": {},
     "output_type": "display_data"
    },
    {
     "name": "stdout",
     "output_type": "stream",
     "text": [
      "Scrolling page\n",
      "Clicked\n",
      "Parsing advises\n",
      "Parsing dates\n"
     ]
    },
    {
     "data": {
      "application/vnd.jupyter.widget-view+json": {
       "model_id": "52787cfba15e4990ab2623a4271fe959",
       "version_major": 2,
       "version_minor": 0
      },
      "text/plain": [
       "  0%|          | 0/291 [00:00<?, ?it/s]"
      ]
     },
     "metadata": {},
     "output_type": "display_data"
    },
    {
     "name": "stdout",
     "output_type": "stream",
     "text": [
      "Writing\n"
     ]
    },
    {
     "name": "stderr",
     "output_type": "stream",
     "text": [
      "C:\\Users\\Iljam\\YandexDisk\\ML_projects\\venv\\lib\\site-packages\\openpyxl\\workbook\\child.py:99: UserWarning: Title is more than 31 characters. Some applications may not be able to read the file\n",
      "  warnings.warn(\"Title is more than 31 characters. Some applications may not be able to read the file\")\n",
      "C:\\Users\\Iljam\\AppData\\Local\\Temp\\ipykernel_12212\\670770284.py:11: DeprecationWarning: executable_path has been deprecated, please pass in a Service object\n",
      "  driver = webdriver.Firefox(\n"
     ]
    },
    {
     "name": "stdout",
     "output_type": "stream",
     "text": [
      "Message: The element with the reference 1d082303-bd9d-48c0-91d6-c157e0bfc18d is stale; either its node document is not the active document, or it is no longer connected to the DOM\n",
      "Stacktrace:\n",
      "RemoteError@chrome://remote/content/shared/RemoteError.sys.mjs:8:8\n",
      "WebDriverError@chrome://remote/content/shared/webdriver/Errors.sys.mjs:180:5\n",
      "StaleElementReferenceError@chrome://remote/content/shared/webdriver/Errors.sys.mjs:461:5\n",
      "element.getKnownElement@chrome://remote/content/marionette/element.sys.mjs:488:11\n",
      "deserializeJSON@chrome://remote/content/marionette/json.sys.mjs:233:33\n",
      "cloneObject@chrome://remote/content/marionette/json.sys.mjs:56:24\n",
      "deserializeJSON@chrome://remote/content/marionette/json.sys.mjs:244:16\n",
      "json.deserialize@chrome://remote/content/marionette/json.sys.mjs:248:10\n",
      "receiveMessage@chrome://remote/content/marionette/actors/MarionetteCommandsChild.sys.mjs:85:30\n",
      "\n"
     ]
    },
    {
     "data": {
      "application/vnd.jupyter.widget-view+json": {
       "model_id": "b9c38d5c327842259ec034c261426ebc",
       "version_major": 2,
       "version_minor": 0
      },
      "text/plain": [
       "  0%|          | 0/100 [00:00<?, ?it/s]"
      ]
     },
     "metadata": {},
     "output_type": "display_data"
    },
    {
     "name": "stdout",
     "output_type": "stream",
     "text": [
      "Scrolling page\n",
      "Clicked\n",
      "Parsing advises\n",
      "Parsing dates\n"
     ]
    },
    {
     "data": {
      "application/vnd.jupyter.widget-view+json": {
       "model_id": "8ea45cfae9624717ba1e8d29eacb7639",
       "version_major": 2,
       "version_minor": 0
      },
      "text/plain": [
       "  0%|          | 0/294 [00:00<?, ?it/s]"
      ]
     },
     "metadata": {},
     "output_type": "display_data"
    },
    {
     "name": "stdout",
     "output_type": "stream",
     "text": [
      "Writing\n"
     ]
    },
    {
     "name": "stderr",
     "output_type": "stream",
     "text": [
      "C:\\Users\\Iljam\\AppData\\Local\\Temp\\ipykernel_12212\\670770284.py:11: DeprecationWarning: executable_path has been deprecated, please pass in a Service object\n",
      "  driver = webdriver.Firefox(\n"
     ]
    },
    {
     "data": {
      "application/vnd.jupyter.widget-view+json": {
       "model_id": "52f451531ee94e9095722e5e9a046428",
       "version_major": 2,
       "version_minor": 0
      },
      "text/plain": [
       "  0%|          | 0/100 [00:00<?, ?it/s]"
      ]
     },
     "metadata": {},
     "output_type": "display_data"
    },
    {
     "name": "stdout",
     "output_type": "stream",
     "text": [
      "Scrolling page\n",
      "Clicked\n",
      "Parsing advises\n",
      "Parsing dates\n"
     ]
    },
    {
     "data": {
      "application/vnd.jupyter.widget-view+json": {
       "model_id": "0bc5d06a04d7404e8bf969269c73a868",
       "version_major": 2,
       "version_minor": 0
      },
      "text/plain": [
       "  0%|          | 0/296 [00:00<?, ?it/s]"
      ]
     },
     "metadata": {},
     "output_type": "display_data"
    },
    {
     "name": "stdout",
     "output_type": "stream",
     "text": [
      "Writing\n"
     ]
    },
    {
     "name": "stderr",
     "output_type": "stream",
     "text": [
      "C:\\Users\\Iljam\\AppData\\Local\\Temp\\ipykernel_12212\\670770284.py:11: DeprecationWarning: executable_path has been deprecated, please pass in a Service object\n",
      "  driver = webdriver.Firefox(\n"
     ]
    },
    {
     "data": {
      "application/vnd.jupyter.widget-view+json": {
       "model_id": "287e968e0b634ea9893a27c27426d2a5",
       "version_major": 2,
       "version_minor": 0
      },
      "text/plain": [
       "  0%|          | 0/100 [00:00<?, ?it/s]"
      ]
     },
     "metadata": {},
     "output_type": "display_data"
    },
    {
     "name": "stdout",
     "output_type": "stream",
     "text": [
      "Scrolling page\n",
      "Clicked\n",
      "Parsing advises\n",
      "Parsing dates\n"
     ]
    },
    {
     "data": {
      "application/vnd.jupyter.widget-view+json": {
       "model_id": "c28ca6b41cb84e00bc6781ceaeb54918",
       "version_major": 2,
       "version_minor": 0
      },
      "text/plain": [
       "  0%|          | 0/299 [00:00<?, ?it/s]"
      ]
     },
     "metadata": {},
     "output_type": "display_data"
    },
    {
     "name": "stdout",
     "output_type": "stream",
     "text": [
      "Writing\n"
     ]
    },
    {
     "name": "stderr",
     "output_type": "stream",
     "text": [
      "C:\\Users\\Iljam\\AppData\\Local\\Temp\\ipykernel_12212\\670770284.py:11: DeprecationWarning: executable_path has been deprecated, please pass in a Service object\n",
      "  driver = webdriver.Firefox(\n"
     ]
    },
    {
     "data": {
      "application/vnd.jupyter.widget-view+json": {
       "model_id": "3d62ed4245074b0e9dc502ae98c9bc93",
       "version_major": 2,
       "version_minor": 0
      },
      "text/plain": [
       "  0%|          | 0/100 [00:00<?, ?it/s]"
      ]
     },
     "metadata": {},
     "output_type": "display_data"
    },
    {
     "name": "stdout",
     "output_type": "stream",
     "text": [
      "Scrolling page\n",
      "Clicked\n",
      "Parsing advises\n",
      "Parsing dates\n"
     ]
    },
    {
     "data": {
      "application/vnd.jupyter.widget-view+json": {
       "model_id": "04d84dccd14e4253ae773c8dc2107243",
       "version_major": 2,
       "version_minor": 0
      },
      "text/plain": [
       "  0%|          | 0/300 [00:00<?, ?it/s]"
      ]
     },
     "metadata": {},
     "output_type": "display_data"
    },
    {
     "name": "stdout",
     "output_type": "stream",
     "text": [
      "Writing\n"
     ]
    },
    {
     "name": "stderr",
     "output_type": "stream",
     "text": [
      "C:\\Users\\Iljam\\AppData\\Local\\Temp\\ipykernel_12212\\670770284.py:11: DeprecationWarning: executable_path has been deprecated, please pass in a Service object\n",
      "  driver = webdriver.Firefox(\n"
     ]
    },
    {
     "data": {
      "application/vnd.jupyter.widget-view+json": {
       "model_id": "24c0aa7728d34cea88f31e0859bb4749",
       "version_major": 2,
       "version_minor": 0
      },
      "text/plain": [
       "  0%|          | 0/100 [00:00<?, ?it/s]"
      ]
     },
     "metadata": {},
     "output_type": "display_data"
    },
    {
     "name": "stdout",
     "output_type": "stream",
     "text": [
      "Scrolling page\n",
      "Clicked\n",
      "Parsing advises\n",
      "Parsing dates\n"
     ]
    },
    {
     "data": {
      "application/vnd.jupyter.widget-view+json": {
       "model_id": "82fb0144e8c44ed3a8fad6ff71eaf8bc",
       "version_major": 2,
       "version_minor": 0
      },
      "text/plain": [
       "  0%|          | 0/301 [00:00<?, ?it/s]"
      ]
     },
     "metadata": {},
     "output_type": "display_data"
    },
    {
     "name": "stdout",
     "output_type": "stream",
     "text": [
      "Writing\n"
     ]
    },
    {
     "name": "stderr",
     "output_type": "stream",
     "text": [
      "C:\\Users\\Iljam\\AppData\\Local\\Temp\\ipykernel_12212\\670770284.py:11: DeprecationWarning: executable_path has been deprecated, please pass in a Service object\n",
      "  driver = webdriver.Firefox(\n"
     ]
    },
    {
     "data": {
      "application/vnd.jupyter.widget-view+json": {
       "model_id": "594f7aba8831407491f3ed001ccb0b18",
       "version_major": 2,
       "version_minor": 0
      },
      "text/plain": [
       "  0%|          | 0/100 [00:00<?, ?it/s]"
      ]
     },
     "metadata": {},
     "output_type": "display_data"
    },
    {
     "name": "stdout",
     "output_type": "stream",
     "text": [
      "Scrolling page\n",
      "Clicked\n",
      "Parsing advises\n",
      "Parsing dates\n"
     ]
    },
    {
     "data": {
      "application/vnd.jupyter.widget-view+json": {
       "model_id": "a52a4846adb34481954166ce38a0aad2",
       "version_major": 2,
       "version_minor": 0
      },
      "text/plain": [
       "  0%|          | 0/302 [00:00<?, ?it/s]"
      ]
     },
     "metadata": {},
     "output_type": "display_data"
    },
    {
     "name": "stdout",
     "output_type": "stream",
     "text": [
      "Writing\n"
     ]
    },
    {
     "name": "stderr",
     "output_type": "stream",
     "text": [
      "C:\\Users\\Iljam\\AppData\\Local\\Temp\\ipykernel_12212\\670770284.py:11: DeprecationWarning: executable_path has been deprecated, please pass in a Service object\n",
      "  driver = webdriver.Firefox(\n"
     ]
    },
    {
     "data": {
      "application/vnd.jupyter.widget-view+json": {
       "model_id": "f3c0e6c0a31f44d789ac51c7aa0239e1",
       "version_major": 2,
       "version_minor": 0
      },
      "text/plain": [
       "  0%|          | 0/100 [00:00<?, ?it/s]"
      ]
     },
     "metadata": {},
     "output_type": "display_data"
    },
    {
     "name": "stdout",
     "output_type": "stream",
     "text": [
      "Scrolling page\n",
      "Clicked\n",
      "Parsing advises\n",
      "Parsing dates\n"
     ]
    },
    {
     "data": {
      "application/vnd.jupyter.widget-view+json": {
       "model_id": "99e2a45b47c04747849598a1e681aa16",
       "version_major": 2,
       "version_minor": 0
      },
      "text/plain": [
       "  0%|          | 0/309 [00:00<?, ?it/s]"
      ]
     },
     "metadata": {},
     "output_type": "display_data"
    },
    {
     "name": "stdout",
     "output_type": "stream",
     "text": [
      "Writing\n"
     ]
    },
    {
     "name": "stderr",
     "output_type": "stream",
     "text": [
      "C:\\Users\\Iljam\\AppData\\Local\\Temp\\ipykernel_12212\\670770284.py:11: DeprecationWarning: executable_path has been deprecated, please pass in a Service object\n",
      "  driver = webdriver.Firefox(\n"
     ]
    },
    {
     "data": {
      "application/vnd.jupyter.widget-view+json": {
       "model_id": "8d265290d6bf49389fdc910ced77d2cf",
       "version_major": 2,
       "version_minor": 0
      },
      "text/plain": [
       "  0%|          | 0/100 [00:00<?, ?it/s]"
      ]
     },
     "metadata": {},
     "output_type": "display_data"
    },
    {
     "name": "stdout",
     "output_type": "stream",
     "text": [
      "Scrolling page\n",
      "Clicked\n",
      "Parsing advises\n",
      "Parsing dates\n"
     ]
    },
    {
     "data": {
      "application/vnd.jupyter.widget-view+json": {
       "model_id": "e15f1f0b298f4578b772943eab5f8d9c",
       "version_major": 2,
       "version_minor": 0
      },
      "text/plain": [
       "  0%|          | 0/311 [00:00<?, ?it/s]"
      ]
     },
     "metadata": {},
     "output_type": "display_data"
    },
    {
     "name": "stdout",
     "output_type": "stream",
     "text": [
      "Writing\n"
     ]
    },
    {
     "name": "stderr",
     "output_type": "stream",
     "text": [
      "C:\\Users\\Iljam\\AppData\\Local\\Temp\\ipykernel_12212\\670770284.py:11: DeprecationWarning: executable_path has been deprecated, please pass in a Service object\n",
      "  driver = webdriver.Firefox(\n"
     ]
    },
    {
     "data": {
      "application/vnd.jupyter.widget-view+json": {
       "model_id": "e97912dde27b4e558b90c934cefe8a98",
       "version_major": 2,
       "version_minor": 0
      },
      "text/plain": [
       "  0%|          | 0/100 [00:00<?, ?it/s]"
      ]
     },
     "metadata": {},
     "output_type": "display_data"
    },
    {
     "name": "stdout",
     "output_type": "stream",
     "text": [
      "Scrolling page\n",
      "Clicked\n",
      "Parsing advises\n",
      "Parsing dates\n"
     ]
    },
    {
     "data": {
      "application/vnd.jupyter.widget-view+json": {
       "model_id": "241ee9c8bc4a489ab3ad23317eb125b5",
       "version_major": 2,
       "version_minor": 0
      },
      "text/plain": [
       "  0%|          | 0/313 [00:00<?, ?it/s]"
      ]
     },
     "metadata": {},
     "output_type": "display_data"
    },
    {
     "name": "stdout",
     "output_type": "stream",
     "text": [
      "Writing\n"
     ]
    },
    {
     "name": "stderr",
     "output_type": "stream",
     "text": [
      "C:\\Users\\Iljam\\AppData\\Local\\Temp\\ipykernel_12212\\670770284.py:11: DeprecationWarning: executable_path has been deprecated, please pass in a Service object\n",
      "  driver = webdriver.Firefox(\n"
     ]
    },
    {
     "data": {
      "application/vnd.jupyter.widget-view+json": {
       "model_id": "d097276bf50b41efbf2483b21abfa2be",
       "version_major": 2,
       "version_minor": 0
      },
      "text/plain": [
       "  0%|          | 0/100 [00:00<?, ?it/s]"
      ]
     },
     "metadata": {},
     "output_type": "display_data"
    },
    {
     "name": "stdout",
     "output_type": "stream",
     "text": [
      "Scrolling page\n",
      "Clicked\n",
      "Parsing advises\n",
      "Parsing dates\n"
     ]
    },
    {
     "data": {
      "application/vnd.jupyter.widget-view+json": {
       "model_id": "9ff590f4caff4186b48bb5462c30de7b",
       "version_major": 2,
       "version_minor": 0
      },
      "text/plain": [
       "  0%|          | 0/328 [00:00<?, ?it/s]"
      ]
     },
     "metadata": {},
     "output_type": "display_data"
    },
    {
     "name": "stdout",
     "output_type": "stream",
     "text": [
      "Writing\n"
     ]
    },
    {
     "name": "stderr",
     "output_type": "stream",
     "text": [
      "C:\\Users\\Iljam\\AppData\\Local\\Temp\\ipykernel_12212\\670770284.py:11: DeprecationWarning: executable_path has been deprecated, please pass in a Service object\n",
      "  driver = webdriver.Firefox(\n"
     ]
    },
    {
     "data": {
      "application/vnd.jupyter.widget-view+json": {
       "model_id": "ab20038902bf4394bde45ea6a4c06a2d",
       "version_major": 2,
       "version_minor": 0
      },
      "text/plain": [
       "  0%|          | 0/100 [00:00<?, ?it/s]"
      ]
     },
     "metadata": {},
     "output_type": "display_data"
    },
    {
     "name": "stdout",
     "output_type": "stream",
     "text": [
      "Scrolling page\n",
      "Clicked\n",
      "Parsing advises\n",
      "Parsing dates\n"
     ]
    },
    {
     "data": {
      "application/vnd.jupyter.widget-view+json": {
       "model_id": "d813e8e875784350b8994fc6633259b7",
       "version_major": 2,
       "version_minor": 0
      },
      "text/plain": [
       "  0%|          | 0/329 [00:00<?, ?it/s]"
      ]
     },
     "metadata": {},
     "output_type": "display_data"
    },
    {
     "name": "stdout",
     "output_type": "stream",
     "text": [
      "Writing\n"
     ]
    },
    {
     "name": "stderr",
     "output_type": "stream",
     "text": [
      "C:\\Users\\Iljam\\AppData\\Local\\Temp\\ipykernel_12212\\670770284.py:11: DeprecationWarning: executable_path has been deprecated, please pass in a Service object\n",
      "  driver = webdriver.Firefox(\n"
     ]
    },
    {
     "data": {
      "application/vnd.jupyter.widget-view+json": {
       "model_id": "ec28b6f35fc342ddb1967aacc9adc9d6",
       "version_major": 2,
       "version_minor": 0
      },
      "text/plain": [
       "  0%|          | 0/100 [00:00<?, ?it/s]"
      ]
     },
     "metadata": {},
     "output_type": "display_data"
    },
    {
     "name": "stdout",
     "output_type": "stream",
     "text": [
      "Scrolling page\n",
      "Clicked\n",
      "Parsing advises\n",
      "Parsing dates\n"
     ]
    },
    {
     "data": {
      "application/vnd.jupyter.widget-view+json": {
       "model_id": "8084835eea414e87be732c25f5c959e0",
       "version_major": 2,
       "version_minor": 0
      },
      "text/plain": [
       "  0%|          | 0/329 [00:00<?, ?it/s]"
      ]
     },
     "metadata": {},
     "output_type": "display_data"
    },
    {
     "name": "stdout",
     "output_type": "stream",
     "text": [
      "Writing\n"
     ]
    },
    {
     "name": "stderr",
     "output_type": "stream",
     "text": [
      "C:\\Users\\Iljam\\AppData\\Local\\Temp\\ipykernel_12212\\670770284.py:11: DeprecationWarning: executable_path has been deprecated, please pass in a Service object\n",
      "  driver = webdriver.Firefox(\n"
     ]
    },
    {
     "data": {
      "application/vnd.jupyter.widget-view+json": {
       "model_id": "37dd27137ab84537b16be4cf8e3b07a9",
       "version_major": 2,
       "version_minor": 0
      },
      "text/plain": [
       "  0%|          | 0/100 [00:00<?, ?it/s]"
      ]
     },
     "metadata": {},
     "output_type": "display_data"
    },
    {
     "name": "stdout",
     "output_type": "stream",
     "text": [
      "Scrolling page\n",
      "Clicked\n",
      "Parsing advises\n",
      "Parsing dates\n"
     ]
    },
    {
     "data": {
      "application/vnd.jupyter.widget-view+json": {
       "model_id": "156066c7436649b09bc9dba7a4b5b169",
       "version_major": 2,
       "version_minor": 0
      },
      "text/plain": [
       "  0%|          | 0/330 [00:00<?, ?it/s]"
      ]
     },
     "metadata": {},
     "output_type": "display_data"
    },
    {
     "name": "stdout",
     "output_type": "stream",
     "text": [
      "Writing\n"
     ]
    },
    {
     "name": "stderr",
     "output_type": "stream",
     "text": [
      "C:\\Users\\Iljam\\AppData\\Local\\Temp\\ipykernel_12212\\670770284.py:11: DeprecationWarning: executable_path has been deprecated, please pass in a Service object\n",
      "  driver = webdriver.Firefox(\n"
     ]
    },
    {
     "data": {
      "application/vnd.jupyter.widget-view+json": {
       "model_id": "e3b9b635ee45400fbfc9f151e06ade68",
       "version_major": 2,
       "version_minor": 0
      },
      "text/plain": [
       "  0%|          | 0/100 [00:00<?, ?it/s]"
      ]
     },
     "metadata": {},
     "output_type": "display_data"
    },
    {
     "name": "stdout",
     "output_type": "stream",
     "text": [
      "Scrolling page\n",
      "Clicked\n",
      "Parsing advises\n",
      "Parsing dates\n"
     ]
    },
    {
     "data": {
      "application/vnd.jupyter.widget-view+json": {
       "model_id": "38953efb015645158c0bc81cb78ab2e1",
       "version_major": 2,
       "version_minor": 0
      },
      "text/plain": [
       "  0%|          | 0/337 [00:00<?, ?it/s]"
      ]
     },
     "metadata": {},
     "output_type": "display_data"
    },
    {
     "name": "stdout",
     "output_type": "stream",
     "text": [
      "Writing\n"
     ]
    },
    {
     "name": "stderr",
     "output_type": "stream",
     "text": [
      "C:\\Users\\Iljam\\YandexDisk\\ML_projects\\venv\\lib\\site-packages\\openpyxl\\workbook\\child.py:99: UserWarning: Title is more than 31 characters. Some applications may not be able to read the file\n",
      "  warnings.warn(\"Title is more than 31 characters. Some applications may not be able to read the file\")\n",
      "C:\\Users\\Iljam\\AppData\\Local\\Temp\\ipykernel_12212\\670770284.py:11: DeprecationWarning: executable_path has been deprecated, please pass in a Service object\n",
      "  driver = webdriver.Firefox(\n"
     ]
    },
    {
     "data": {
      "application/vnd.jupyter.widget-view+json": {
       "model_id": "682739ac10344841b48d4383042210df",
       "version_major": 2,
       "version_minor": 0
      },
      "text/plain": [
       "  0%|          | 0/100 [00:00<?, ?it/s]"
      ]
     },
     "metadata": {},
     "output_type": "display_data"
    },
    {
     "name": "stdout",
     "output_type": "stream",
     "text": [
      "Scrolling page\n",
      "Clicked\n",
      "Parsing advises\n",
      "Parsing dates\n"
     ]
    },
    {
     "data": {
      "application/vnd.jupyter.widget-view+json": {
       "model_id": "03c14b906dfb40e4b8bbf964595518cc",
       "version_major": 2,
       "version_minor": 0
      },
      "text/plain": [
       "  0%|          | 0/355 [00:00<?, ?it/s]"
      ]
     },
     "metadata": {},
     "output_type": "display_data"
    },
    {
     "name": "stdout",
     "output_type": "stream",
     "text": [
      "Writing\n"
     ]
    },
    {
     "name": "stderr",
     "output_type": "stream",
     "text": [
      "C:\\Users\\Iljam\\AppData\\Local\\Temp\\ipykernel_12212\\670770284.py:11: DeprecationWarning: executable_path has been deprecated, please pass in a Service object\n",
      "  driver = webdriver.Firefox(\n"
     ]
    },
    {
     "data": {
      "application/vnd.jupyter.widget-view+json": {
       "model_id": "6967c8adf3ef4e6290a733b2393140de",
       "version_major": 2,
       "version_minor": 0
      },
      "text/plain": [
       "  0%|          | 0/100 [00:00<?, ?it/s]"
      ]
     },
     "metadata": {},
     "output_type": "display_data"
    },
    {
     "name": "stdout",
     "output_type": "stream",
     "text": [
      "Scrolling page\n",
      "Clicked\n",
      "Parsing advises\n",
      "Parsing dates\n"
     ]
    },
    {
     "data": {
      "application/vnd.jupyter.widget-view+json": {
       "model_id": "3fbde25730a94ca697fcd344fb1ed98b",
       "version_major": 2,
       "version_minor": 0
      },
      "text/plain": [
       "  0%|          | 0/373 [00:00<?, ?it/s]"
      ]
     },
     "metadata": {},
     "output_type": "display_data"
    },
    {
     "name": "stdout",
     "output_type": "stream",
     "text": [
      "Writing\n"
     ]
    },
    {
     "name": "stderr",
     "output_type": "stream",
     "text": [
      "C:\\Users\\Iljam\\AppData\\Local\\Temp\\ipykernel_12212\\670770284.py:11: DeprecationWarning: executable_path has been deprecated, please pass in a Service object\n",
      "  driver = webdriver.Firefox(\n"
     ]
    },
    {
     "data": {
      "application/vnd.jupyter.widget-view+json": {
       "model_id": "1ff7c8de3734477196c5561bbd03cd96",
       "version_major": 2,
       "version_minor": 0
      },
      "text/plain": [
       "  0%|          | 0/100 [00:00<?, ?it/s]"
      ]
     },
     "metadata": {},
     "output_type": "display_data"
    },
    {
     "name": "stdout",
     "output_type": "stream",
     "text": [
      "Scrolling page\n",
      "Clicked\n",
      "Parsing advises\n",
      "Parsing dates\n"
     ]
    },
    {
     "data": {
      "application/vnd.jupyter.widget-view+json": {
       "model_id": "7544ce1913474ef0b9926723f7d85c70",
       "version_major": 2,
       "version_minor": 0
      },
      "text/plain": [
       "  0%|          | 0/374 [00:00<?, ?it/s]"
      ]
     },
     "metadata": {},
     "output_type": "display_data"
    },
    {
     "name": "stdout",
     "output_type": "stream",
     "text": [
      "Writing\n"
     ]
    },
    {
     "name": "stderr",
     "output_type": "stream",
     "text": [
      "C:\\Users\\Iljam\\YandexDisk\\ML_projects\\venv\\lib\\site-packages\\openpyxl\\workbook\\child.py:99: UserWarning: Title is more than 31 characters. Some applications may not be able to read the file\n",
      "  warnings.warn(\"Title is more than 31 characters. Some applications may not be able to read the file\")\n",
      "C:\\Users\\Iljam\\AppData\\Local\\Temp\\ipykernel_12212\\670770284.py:11: DeprecationWarning: executable_path has been deprecated, please pass in a Service object\n",
      "  driver = webdriver.Firefox(\n"
     ]
    },
    {
     "data": {
      "application/vnd.jupyter.widget-view+json": {
       "model_id": "0ee3d7ae6bdb4826afee5bf63fdbff68",
       "version_major": 2,
       "version_minor": 0
      },
      "text/plain": [
       "  0%|          | 0/100 [00:00<?, ?it/s]"
      ]
     },
     "metadata": {},
     "output_type": "display_data"
    },
    {
     "name": "stdout",
     "output_type": "stream",
     "text": [
      "Scrolling page\n",
      "Clicked\n",
      "Scrolling page\n",
      "Clicked\n",
      "Scrolling page\n",
      "Clicked\n",
      "Parsing advises\n",
      "Parsing dates\n"
     ]
    },
    {
     "data": {
      "application/vnd.jupyter.widget-view+json": {
       "model_id": "829989028c914317a4ff3bbdf368e9ce",
       "version_major": 2,
       "version_minor": 0
      },
      "text/plain": [
       "  0%|          | 0/425 [00:00<?, ?it/s]"
      ]
     },
     "metadata": {},
     "output_type": "display_data"
    },
    {
     "name": "stdout",
     "output_type": "stream",
     "text": [
      "Writing\n"
     ]
    },
    {
     "name": "stderr",
     "output_type": "stream",
     "text": [
      "C:\\Users\\Iljam\\AppData\\Local\\Temp\\ipykernel_12212\\670770284.py:11: DeprecationWarning: executable_path has been deprecated, please pass in a Service object\n",
      "  driver = webdriver.Firefox(\n"
     ]
    },
    {
     "data": {
      "application/vnd.jupyter.widget-view+json": {
       "model_id": "0296ac2c62b64834bae7aaa29e5b9f47",
       "version_major": 2,
       "version_minor": 0
      },
      "text/plain": [
       "  0%|          | 0/100 [00:00<?, ?it/s]"
      ]
     },
     "metadata": {},
     "output_type": "display_data"
    },
    {
     "name": "stdout",
     "output_type": "stream",
     "text": [
      "Scrolling page\n",
      "Clicked\n",
      "Parsing advises\n",
      "Parsing dates\n"
     ]
    },
    {
     "data": {
      "application/vnd.jupyter.widget-view+json": {
       "model_id": "5695523ac819427b8faa0ba3811460d2",
       "version_major": 2,
       "version_minor": 0
      },
      "text/plain": [
       "  0%|          | 0/425 [00:00<?, ?it/s]"
      ]
     },
     "metadata": {},
     "output_type": "display_data"
    },
    {
     "name": "stdout",
     "output_type": "stream",
     "text": [
      "Writing\n"
     ]
    },
    {
     "name": "stderr",
     "output_type": "stream",
     "text": [
      "C:\\Users\\Iljam\\AppData\\Local\\Temp\\ipykernel_12212\\670770284.py:11: DeprecationWarning: executable_path has been deprecated, please pass in a Service object\n",
      "  driver = webdriver.Firefox(\n"
     ]
    },
    {
     "data": {
      "application/vnd.jupyter.widget-view+json": {
       "model_id": "f5ba31aee7754d078e7dab2b76b3ead4",
       "version_major": 2,
       "version_minor": 0
      },
      "text/plain": [
       "  0%|          | 0/100 [00:00<?, ?it/s]"
      ]
     },
     "metadata": {},
     "output_type": "display_data"
    },
    {
     "name": "stdout",
     "output_type": "stream",
     "text": [
      "Scrolling page\n",
      "Clicked\n",
      "Scrolling page\n",
      "Clicked\n",
      "Parsing advises\n",
      "Parsing dates\n"
     ]
    },
    {
     "data": {
      "application/vnd.jupyter.widget-view+json": {
       "model_id": "32e0219ade1c4b2fa3c2a669039e7bdb",
       "version_major": 2,
       "version_minor": 0
      },
      "text/plain": [
       "  0%|          | 0/458 [00:00<?, ?it/s]"
      ]
     },
     "metadata": {},
     "output_type": "display_data"
    },
    {
     "name": "stdout",
     "output_type": "stream",
     "text": [
      "Writing\n"
     ]
    },
    {
     "name": "stderr",
     "output_type": "stream",
     "text": [
      "C:\\Users\\Iljam\\AppData\\Local\\Temp\\ipykernel_12212\\670770284.py:11: DeprecationWarning: executable_path has been deprecated, please pass in a Service object\n",
      "  driver = webdriver.Firefox(\n"
     ]
    },
    {
     "data": {
      "application/vnd.jupyter.widget-view+json": {
       "model_id": "de32c733ec5b45ecaf1db888037bc299",
       "version_major": 2,
       "version_minor": 0
      },
      "text/plain": [
       "  0%|          | 0/100 [00:00<?, ?it/s]"
      ]
     },
     "metadata": {},
     "output_type": "display_data"
    },
    {
     "name": "stdout",
     "output_type": "stream",
     "text": [
      "Scrolling page\n",
      "Clicked\n",
      "Scrolling page\n",
      "Clicked\n",
      "Parsing advises\n",
      "Parsing dates\n"
     ]
    },
    {
     "data": {
      "application/vnd.jupyter.widget-view+json": {
       "model_id": "9bd89ed7eb494e5bbca9dca80c00f974",
       "version_major": 2,
       "version_minor": 0
      },
      "text/plain": [
       "  0%|          | 0/488 [00:00<?, ?it/s]"
      ]
     },
     "metadata": {},
     "output_type": "display_data"
    },
    {
     "name": "stdout",
     "output_type": "stream",
     "text": [
      "Writing\n"
     ]
    },
    {
     "name": "stderr",
     "output_type": "stream",
     "text": [
      "C:\\Users\\Iljam\\AppData\\Local\\Temp\\ipykernel_12212\\670770284.py:11: DeprecationWarning: executable_path has been deprecated, please pass in a Service object\n",
      "  driver = webdriver.Firefox(\n"
     ]
    },
    {
     "data": {
      "application/vnd.jupyter.widget-view+json": {
       "model_id": "631eb8baa84f48e9a5f5c65f33e12de3",
       "version_major": 2,
       "version_minor": 0
      },
      "text/plain": [
       "  0%|          | 0/100 [00:00<?, ?it/s]"
      ]
     },
     "metadata": {},
     "output_type": "display_data"
    },
    {
     "name": "stdout",
     "output_type": "stream",
     "text": [
      "Scrolling page\n",
      "Clicked\n",
      "Parsing advises\n",
      "Parsing dates\n"
     ]
    },
    {
     "data": {
      "application/vnd.jupyter.widget-view+json": {
       "model_id": "012bac5ae92a46aba91bf9eefc594f34",
       "version_major": 2,
       "version_minor": 0
      },
      "text/plain": [
       "  0%|          | 0/501 [00:00<?, ?it/s]"
      ]
     },
     "metadata": {},
     "output_type": "display_data"
    },
    {
     "name": "stdout",
     "output_type": "stream",
     "text": [
      "Writing\n"
     ]
    },
    {
     "name": "stderr",
     "output_type": "stream",
     "text": [
      "C:\\Users\\Iljam\\AppData\\Local\\Temp\\ipykernel_12212\\670770284.py:11: DeprecationWarning: executable_path has been deprecated, please pass in a Service object\n",
      "  driver = webdriver.Firefox(\n"
     ]
    },
    {
     "data": {
      "application/vnd.jupyter.widget-view+json": {
       "model_id": "01417254c7e64a55ae5a7142c3609e59",
       "version_major": 2,
       "version_minor": 0
      },
      "text/plain": [
       "  0%|          | 0/100 [00:00<?, ?it/s]"
      ]
     },
     "metadata": {},
     "output_type": "display_data"
    },
    {
     "name": "stdout",
     "output_type": "stream",
     "text": [
      "Scrolling page\n",
      "Clicked\n",
      "Scrolling page\n",
      "Clicked\n",
      "Scrolling page\n",
      "Clicked\n",
      "Parsing advises\n",
      "Parsing dates\n"
     ]
    },
    {
     "data": {
      "application/vnd.jupyter.widget-view+json": {
       "model_id": "a4b8d3f0f1cd45dfb7683964c9922e65",
       "version_major": 2,
       "version_minor": 0
      },
      "text/plain": [
       "  0%|          | 0/562 [00:00<?, ?it/s]"
      ]
     },
     "metadata": {},
     "output_type": "display_data"
    },
    {
     "name": "stdout",
     "output_type": "stream",
     "text": [
      "Writing\n"
     ]
    },
    {
     "name": "stderr",
     "output_type": "stream",
     "text": [
      "C:\\Users\\Iljam\\AppData\\Local\\Temp\\ipykernel_12212\\670770284.py:11: DeprecationWarning: executable_path has been deprecated, please pass in a Service object\n",
      "  driver = webdriver.Firefox(\n"
     ]
    },
    {
     "data": {
      "application/vnd.jupyter.widget-view+json": {
       "model_id": "4bb74040687146f8913dc7d548ca9973",
       "version_major": 2,
       "version_minor": 0
      },
      "text/plain": [
       "  0%|          | 0/100 [00:00<?, ?it/s]"
      ]
     },
     "metadata": {},
     "output_type": "display_data"
    },
    {
     "name": "stdout",
     "output_type": "stream",
     "text": [
      "Scrolling page\n",
      "Clicked\n",
      "Parsing advises\n",
      "Parsing dates\n"
     ]
    },
    {
     "data": {
      "application/vnd.jupyter.widget-view+json": {
       "model_id": "2a5091ad43b8489197cd43a819df2751",
       "version_major": 2,
       "version_minor": 0
      },
      "text/plain": [
       "  0%|          | 0/563 [00:00<?, ?it/s]"
      ]
     },
     "metadata": {},
     "output_type": "display_data"
    },
    {
     "name": "stdout",
     "output_type": "stream",
     "text": [
      "Writing\n"
     ]
    },
    {
     "name": "stderr",
     "output_type": "stream",
     "text": [
      "C:\\Users\\Iljam\\YandexDisk\\ML_projects\\venv\\lib\\site-packages\\openpyxl\\workbook\\child.py:99: UserWarning: Title is more than 31 characters. Some applications may not be able to read the file\n",
      "  warnings.warn(\"Title is more than 31 characters. Some applications may not be able to read the file\")\n",
      "C:\\Users\\Iljam\\AppData\\Local\\Temp\\ipykernel_12212\\670770284.py:11: DeprecationWarning: executable_path has been deprecated, please pass in a Service object\n",
      "  driver = webdriver.Firefox(\n"
     ]
    },
    {
     "data": {
      "application/vnd.jupyter.widget-view+json": {
       "model_id": "38caf99739be44f4856cb80e5df29888",
       "version_major": 2,
       "version_minor": 0
      },
      "text/plain": [
       "  0%|          | 0/100 [00:00<?, ?it/s]"
      ]
     },
     "metadata": {},
     "output_type": "display_data"
    },
    {
     "name": "stdout",
     "output_type": "stream",
     "text": [
      "Scrolling page\n",
      "Clicked\n",
      "Parsing advises\n",
      "Parsing dates\n"
     ]
    },
    {
     "data": {
      "application/vnd.jupyter.widget-view+json": {
       "model_id": "c39e88c5f4c64f41929ad5b464572025",
       "version_major": 2,
       "version_minor": 0
      },
      "text/plain": [
       "  0%|          | 0/565 [00:00<?, ?it/s]"
      ]
     },
     "metadata": {},
     "output_type": "display_data"
    },
    {
     "name": "stdout",
     "output_type": "stream",
     "text": [
      "Writing\n"
     ]
    },
    {
     "name": "stderr",
     "output_type": "stream",
     "text": [
      "C:\\Users\\Iljam\\AppData\\Local\\Temp\\ipykernel_12212\\670770284.py:11: DeprecationWarning: executable_path has been deprecated, please pass in a Service object\n",
      "  driver = webdriver.Firefox(\n"
     ]
    },
    {
     "data": {
      "application/vnd.jupyter.widget-view+json": {
       "model_id": "421a134590804036bf6926ac33841c99",
       "version_major": 2,
       "version_minor": 0
      },
      "text/plain": [
       "  0%|          | 0/100 [00:00<?, ?it/s]"
      ]
     },
     "metadata": {},
     "output_type": "display_data"
    },
    {
     "name": "stdout",
     "output_type": "stream",
     "text": [
      "Scrolling page\n",
      "Clicked\n",
      "Parsing advises\n",
      "Parsing dates\n"
     ]
    },
    {
     "data": {
      "application/vnd.jupyter.widget-view+json": {
       "model_id": "d337f45cc41f4a1b8f011290f182c0b9",
       "version_major": 2,
       "version_minor": 0
      },
      "text/plain": [
       "  0%|          | 0/565 [00:00<?, ?it/s]"
      ]
     },
     "metadata": {},
     "output_type": "display_data"
    },
    {
     "name": "stdout",
     "output_type": "stream",
     "text": [
      "Writing\n"
     ]
    },
    {
     "name": "stderr",
     "output_type": "stream",
     "text": [
      "C:\\Users\\Iljam\\AppData\\Local\\Temp\\ipykernel_12212\\670770284.py:11: DeprecationWarning: executable_path has been deprecated, please pass in a Service object\n",
      "  driver = webdriver.Firefox(\n"
     ]
    },
    {
     "data": {
      "application/vnd.jupyter.widget-view+json": {
       "model_id": "818d9e45906b432bbdd8913c75ff6431",
       "version_major": 2,
       "version_minor": 0
      },
      "text/plain": [
       "  0%|          | 0/100 [00:00<?, ?it/s]"
      ]
     },
     "metadata": {},
     "output_type": "display_data"
    },
    {
     "name": "stdout",
     "output_type": "stream",
     "text": [
      "Scrolling page\n",
      "Clicked\n",
      "Parsing advises\n",
      "Parsing dates\n"
     ]
    },
    {
     "data": {
      "application/vnd.jupyter.widget-view+json": {
       "model_id": "2beeddae4efe4759be8f4e50fa743b9f",
       "version_major": 2,
       "version_minor": 0
      },
      "text/plain": [
       "  0%|          | 0/575 [00:00<?, ?it/s]"
      ]
     },
     "metadata": {},
     "output_type": "display_data"
    },
    {
     "name": "stdout",
     "output_type": "stream",
     "text": [
      "Writing\n"
     ]
    },
    {
     "name": "stderr",
     "output_type": "stream",
     "text": [
      "C:\\Users\\Iljam\\AppData\\Local\\Temp\\ipykernel_12212\\670770284.py:11: DeprecationWarning: executable_path has been deprecated, please pass in a Service object\n",
      "  driver = webdriver.Firefox(\n"
     ]
    },
    {
     "data": {
      "application/vnd.jupyter.widget-view+json": {
       "model_id": "81f723167b4a4f00b8c7a2db3f119b8f",
       "version_major": 2,
       "version_minor": 0
      },
      "text/plain": [
       "  0%|          | 0/100 [00:00<?, ?it/s]"
      ]
     },
     "metadata": {},
     "output_type": "display_data"
    },
    {
     "name": "stdout",
     "output_type": "stream",
     "text": [
      "Scrolling page\n",
      "Clicked\n",
      "Scrolling page\n",
      "Clicked\n",
      "Scrolling page\n",
      "Clicked\n",
      "Scrolling page\n",
      "Clicked\n",
      "Parsing advises\n",
      "Parsing dates\n"
     ]
    },
    {
     "data": {
      "application/vnd.jupyter.widget-view+json": {
       "model_id": "8c80f0fc034648739079dc5b1ecda2f8",
       "version_major": 2,
       "version_minor": 0
      },
      "text/plain": [
       "  0%|          | 0/666 [00:00<?, ?it/s]"
      ]
     },
     "metadata": {},
     "output_type": "display_data"
    },
    {
     "name": "stdout",
     "output_type": "stream",
     "text": [
      "Writing\n"
     ]
    },
    {
     "name": "stderr",
     "output_type": "stream",
     "text": [
      "C:\\Users\\Iljam\\AppData\\Local\\Temp\\ipykernel_12212\\670770284.py:11: DeprecationWarning: executable_path has been deprecated, please pass in a Service object\n",
      "  driver = webdriver.Firefox(\n"
     ]
    },
    {
     "data": {
      "application/vnd.jupyter.widget-view+json": {
       "model_id": "1332ee7eb3e94a67a3f0774380505e9d",
       "version_major": 2,
       "version_minor": 0
      },
      "text/plain": [
       "  0%|          | 0/100 [00:00<?, ?it/s]"
      ]
     },
     "metadata": {},
     "output_type": "display_data"
    },
    {
     "name": "stdout",
     "output_type": "stream",
     "text": [
      "Scrolling page\n",
      "Clicked\n",
      "Parsing advises\n",
      "Parsing dates\n"
     ]
    },
    {
     "data": {
      "application/vnd.jupyter.widget-view+json": {
       "model_id": "4fd749953b56491f8ca14f4365793e85",
       "version_major": 2,
       "version_minor": 0
      },
      "text/plain": [
       "  0%|          | 0/667 [00:00<?, ?it/s]"
      ]
     },
     "metadata": {},
     "output_type": "display_data"
    },
    {
     "name": "stdout",
     "output_type": "stream",
     "text": [
      "Writing\n"
     ]
    },
    {
     "name": "stderr",
     "output_type": "stream",
     "text": [
      "C:\\Users\\Iljam\\YandexDisk\\ML_projects\\venv\\lib\\site-packages\\openpyxl\\workbook\\child.py:99: UserWarning: Title is more than 31 characters. Some applications may not be able to read the file\n",
      "  warnings.warn(\"Title is more than 31 characters. Some applications may not be able to read the file\")\n",
      "C:\\Users\\Iljam\\AppData\\Local\\Temp\\ipykernel_12212\\670770284.py:11: DeprecationWarning: executable_path has been deprecated, please pass in a Service object\n",
      "  driver = webdriver.Firefox(\n"
     ]
    },
    {
     "data": {
      "application/vnd.jupyter.widget-view+json": {
       "model_id": "70188778862f4d78a2aa04d16b724495",
       "version_major": 2,
       "version_minor": 0
      },
      "text/plain": [
       "  0%|          | 0/100 [00:00<?, ?it/s]"
      ]
     },
     "metadata": {},
     "output_type": "display_data"
    },
    {
     "name": "stdout",
     "output_type": "stream",
     "text": [
      "Scrolling page\n",
      "Clicked\n",
      "Parsing advises\n",
      "Parsing dates\n"
     ]
    },
    {
     "data": {
      "application/vnd.jupyter.widget-view+json": {
       "model_id": "d81f66f4c02049c5aac75d5a187fa4a9",
       "version_major": 2,
       "version_minor": 0
      },
      "text/plain": [
       "  0%|          | 0/668 [00:00<?, ?it/s]"
      ]
     },
     "metadata": {},
     "output_type": "display_data"
    },
    {
     "name": "stdout",
     "output_type": "stream",
     "text": [
      "Writing\n"
     ]
    },
    {
     "name": "stderr",
     "output_type": "stream",
     "text": [
      "C:\\Users\\Iljam\\YandexDisk\\ML_projects\\venv\\lib\\site-packages\\openpyxl\\workbook\\child.py:99: UserWarning: Title is more than 31 characters. Some applications may not be able to read the file\n",
      "  warnings.warn(\"Title is more than 31 characters. Some applications may not be able to read the file\")\n",
      "C:\\Users\\Iljam\\AppData\\Local\\Temp\\ipykernel_12212\\670770284.py:11: DeprecationWarning: executable_path has been deprecated, please pass in a Service object\n",
      "  driver = webdriver.Firefox(\n"
     ]
    },
    {
     "data": {
      "application/vnd.jupyter.widget-view+json": {
       "model_id": "89b981391cc649a0a9683af3e51223a2",
       "version_major": 2,
       "version_minor": 0
      },
      "text/plain": [
       "  0%|          | 0/100 [00:00<?, ?it/s]"
      ]
     },
     "metadata": {},
     "output_type": "display_data"
    },
    {
     "name": "stdout",
     "output_type": "stream",
     "text": [
      "Scrolling page\n",
      "Clicked\n",
      "Parsing advises\n",
      "Parsing dates\n"
     ]
    },
    {
     "data": {
      "application/vnd.jupyter.widget-view+json": {
       "model_id": "b0c09f5261d6497b864269a18fc99315",
       "version_major": 2,
       "version_minor": 0
      },
      "text/plain": [
       "  0%|          | 0/669 [00:00<?, ?it/s]"
      ]
     },
     "metadata": {},
     "output_type": "display_data"
    },
    {
     "name": "stdout",
     "output_type": "stream",
     "text": [
      "Writing\n"
     ]
    },
    {
     "name": "stderr",
     "output_type": "stream",
     "text": [
      "C:\\Users\\Iljam\\YandexDisk\\ML_projects\\venv\\lib\\site-packages\\openpyxl\\workbook\\child.py:99: UserWarning: Title is more than 31 characters. Some applications may not be able to read the file\n",
      "  warnings.warn(\"Title is more than 31 characters. Some applications may not be able to read the file\")\n",
      "C:\\Users\\Iljam\\AppData\\Local\\Temp\\ipykernel_12212\\670770284.py:11: DeprecationWarning: executable_path has been deprecated, please pass in a Service object\n",
      "  driver = webdriver.Firefox(\n"
     ]
    },
    {
     "data": {
      "application/vnd.jupyter.widget-view+json": {
       "model_id": "926ddfd513364d3682250043b9ffe796",
       "version_major": 2,
       "version_minor": 0
      },
      "text/plain": [
       "  0%|          | 0/100 [00:00<?, ?it/s]"
      ]
     },
     "metadata": {},
     "output_type": "display_data"
    },
    {
     "name": "stdout",
     "output_type": "stream",
     "text": [
      "Scrolling page\n",
      "Clicked\n",
      "Parsing advises\n",
      "Parsing dates\n"
     ]
    },
    {
     "data": {
      "application/vnd.jupyter.widget-view+json": {
       "model_id": "23acffd9593b4897b81013e805a93aba",
       "version_major": 2,
       "version_minor": 0
      },
      "text/plain": [
       "  0%|          | 0/670 [00:00<?, ?it/s]"
      ]
     },
     "metadata": {},
     "output_type": "display_data"
    },
    {
     "name": "stdout",
     "output_type": "stream",
     "text": [
      "Writing\n"
     ]
    },
    {
     "name": "stderr",
     "output_type": "stream",
     "text": [
      "C:\\Users\\Iljam\\YandexDisk\\ML_projects\\venv\\lib\\site-packages\\openpyxl\\workbook\\child.py:99: UserWarning: Title is more than 31 characters. Some applications may not be able to read the file\n",
      "  warnings.warn(\"Title is more than 31 characters. Some applications may not be able to read the file\")\n",
      "C:\\Users\\Iljam\\AppData\\Local\\Temp\\ipykernel_12212\\670770284.py:11: DeprecationWarning: executable_path has been deprecated, please pass in a Service object\n",
      "  driver = webdriver.Firefox(\n"
     ]
    },
    {
     "name": "stdout",
     "output_type": "stream",
     "text": [
      "Message: The element with the reference f4cae7a2-66df-44e5-8dc4-3652d0fdb37b is stale; either its node document is not the active document, or it is no longer connected to the DOM\n",
      "Stacktrace:\n",
      "RemoteError@chrome://remote/content/shared/RemoteError.sys.mjs:8:8\n",
      "WebDriverError@chrome://remote/content/shared/webdriver/Errors.sys.mjs:180:5\n",
      "StaleElementReferenceError@chrome://remote/content/shared/webdriver/Errors.sys.mjs:461:5\n",
      "element.getKnownElement@chrome://remote/content/marionette/element.sys.mjs:488:11\n",
      "deserializeJSON@chrome://remote/content/marionette/json.sys.mjs:233:33\n",
      "cloneObject@chrome://remote/content/marionette/json.sys.mjs:56:24\n",
      "deserializeJSON@chrome://remote/content/marionette/json.sys.mjs:244:16\n",
      "json.deserialize@chrome://remote/content/marionette/json.sys.mjs:248:10\n",
      "receiveMessage@chrome://remote/content/marionette/actors/MarionetteCommandsChild.sys.mjs:85:30\n",
      "\n"
     ]
    },
    {
     "data": {
      "application/vnd.jupyter.widget-view+json": {
       "model_id": "365766e52d4c4c6a8324db7c28cf8024",
       "version_major": 2,
       "version_minor": 0
      },
      "text/plain": [
       "  0%|          | 0/100 [00:00<?, ?it/s]"
      ]
     },
     "metadata": {},
     "output_type": "display_data"
    },
    {
     "name": "stdout",
     "output_type": "stream",
     "text": [
      "Scrolling page\n",
      "Clicked\n",
      "Parsing advises\n",
      "Parsing dates\n"
     ]
    },
    {
     "data": {
      "application/vnd.jupyter.widget-view+json": {
       "model_id": "edf647fb767f4caea04272e327c6e48a",
       "version_major": 2,
       "version_minor": 0
      },
      "text/plain": [
       "  0%|          | 0/680 [00:00<?, ?it/s]"
      ]
     },
     "metadata": {},
     "output_type": "display_data"
    },
    {
     "name": "stdout",
     "output_type": "stream",
     "text": [
      "Writing\n"
     ]
    },
    {
     "name": "stderr",
     "output_type": "stream",
     "text": [
      "C:\\Users\\Iljam\\AppData\\Local\\Temp\\ipykernel_12212\\670770284.py:11: DeprecationWarning: executable_path has been deprecated, please pass in a Service object\n",
      "  driver = webdriver.Firefox(\n"
     ]
    },
    {
     "data": {
      "application/vnd.jupyter.widget-view+json": {
       "model_id": "ea01db6a80ea428e91321d4531bf4dec",
       "version_major": 2,
       "version_minor": 0
      },
      "text/plain": [
       "  0%|          | 0/100 [00:00<?, ?it/s]"
      ]
     },
     "metadata": {},
     "output_type": "display_data"
    },
    {
     "name": "stdout",
     "output_type": "stream",
     "text": [
      "Scrolling page\n",
      "Clicked\n",
      "Parsing advises\n",
      "Parsing dates\n"
     ]
    },
    {
     "data": {
      "application/vnd.jupyter.widget-view+json": {
       "model_id": "1309c132d5994f0c95c65f8bdbbd6890",
       "version_major": 2,
       "version_minor": 0
      },
      "text/plain": [
       "  0%|          | 0/690 [00:00<?, ?it/s]"
      ]
     },
     "metadata": {},
     "output_type": "display_data"
    },
    {
     "name": "stdout",
     "output_type": "stream",
     "text": [
      "Writing\n"
     ]
    },
    {
     "name": "stderr",
     "output_type": "stream",
     "text": [
      "C:\\Users\\Iljam\\AppData\\Local\\Temp\\ipykernel_12212\\670770284.py:11: DeprecationWarning: executable_path has been deprecated, please pass in a Service object\n",
      "  driver = webdriver.Firefox(\n"
     ]
    },
    {
     "data": {
      "application/vnd.jupyter.widget-view+json": {
       "model_id": "2a6ca734ac5d482f8baa6373d919e9c4",
       "version_major": 2,
       "version_minor": 0
      },
      "text/plain": [
       "  0%|          | 0/100 [00:00<?, ?it/s]"
      ]
     },
     "metadata": {},
     "output_type": "display_data"
    },
    {
     "name": "stdout",
     "output_type": "stream",
     "text": [
      "Scrolling page\n",
      "Clicked\n",
      "Parsing advises\n",
      "Parsing dates\n"
     ]
    },
    {
     "data": {
      "application/vnd.jupyter.widget-view+json": {
       "model_id": "bf343834a65443d4939b558bf1f76544",
       "version_major": 2,
       "version_minor": 0
      },
      "text/plain": [
       "  0%|          | 0/712 [00:00<?, ?it/s]"
      ]
     },
     "metadata": {},
     "output_type": "display_data"
    },
    {
     "name": "stdout",
     "output_type": "stream",
     "text": [
      "Writing\n"
     ]
    },
    {
     "name": "stderr",
     "output_type": "stream",
     "text": [
      "C:\\Users\\Iljam\\AppData\\Local\\Temp\\ipykernel_12212\\670770284.py:11: DeprecationWarning: executable_path has been deprecated, please pass in a Service object\n",
      "  driver = webdriver.Firefox(\n"
     ]
    },
    {
     "data": {
      "application/vnd.jupyter.widget-view+json": {
       "model_id": "d2fca22bb08145a78695349d4bc0cd82",
       "version_major": 2,
       "version_minor": 0
      },
      "text/plain": [
       "  0%|          | 0/100 [00:00<?, ?it/s]"
      ]
     },
     "metadata": {},
     "output_type": "display_data"
    },
    {
     "name": "stdout",
     "output_type": "stream",
     "text": [
      "Scrolling page\n",
      "Clicked\n",
      "Scrolling page\n",
      "Clicked\n",
      "Parsing advises\n",
      "Parsing dates\n"
     ]
    },
    {
     "data": {
      "application/vnd.jupyter.widget-view+json": {
       "model_id": "8323605e3a584a41a7a7d76bc8245e29",
       "version_major": 2,
       "version_minor": 0
      },
      "text/plain": [
       "  0%|          | 0/749 [00:00<?, ?it/s]"
      ]
     },
     "metadata": {},
     "output_type": "display_data"
    },
    {
     "name": "stdout",
     "output_type": "stream",
     "text": [
      "Writing\n"
     ]
    },
    {
     "name": "stderr",
     "output_type": "stream",
     "text": [
      "C:\\Users\\Iljam\\AppData\\Local\\Temp\\ipykernel_12212\\670770284.py:11: DeprecationWarning: executable_path has been deprecated, please pass in a Service object\n",
      "  driver = webdriver.Firefox(\n"
     ]
    },
    {
     "data": {
      "application/vnd.jupyter.widget-view+json": {
       "model_id": "f429d1ca9e8047f195c021b206e46f69",
       "version_major": 2,
       "version_minor": 0
      },
      "text/plain": [
       "  0%|          | 0/100 [00:00<?, ?it/s]"
      ]
     },
     "metadata": {},
     "output_type": "display_data"
    },
    {
     "name": "stdout",
     "output_type": "stream",
     "text": [
      "Scrolling page\n",
      "Clicked\n",
      "Parsing advises\n",
      "Parsing dates\n"
     ]
    },
    {
     "data": {
      "application/vnd.jupyter.widget-view+json": {
       "model_id": "fb3d6bc4b9954a1da8eb6861dcec3967",
       "version_major": 2,
       "version_minor": 0
      },
      "text/plain": [
       "  0%|          | 0/751 [00:00<?, ?it/s]"
      ]
     },
     "metadata": {},
     "output_type": "display_data"
    },
    {
     "name": "stdout",
     "output_type": "stream",
     "text": [
      "Writing\n"
     ]
    },
    {
     "name": "stderr",
     "output_type": "stream",
     "text": [
      "C:\\Users\\Iljam\\YandexDisk\\ML_projects\\venv\\lib\\site-packages\\openpyxl\\workbook\\child.py:99: UserWarning: Title is more than 31 characters. Some applications may not be able to read the file\n",
      "  warnings.warn(\"Title is more than 31 characters. Some applications may not be able to read the file\")\n",
      "C:\\Users\\Iljam\\AppData\\Local\\Temp\\ipykernel_12212\\670770284.py:11: DeprecationWarning: executable_path has been deprecated, please pass in a Service object\n",
      "  driver = webdriver.Firefox(\n"
     ]
    },
    {
     "data": {
      "application/vnd.jupyter.widget-view+json": {
       "model_id": "8b5a7a0f588d48dcb505a7cca9b735eb",
       "version_major": 2,
       "version_minor": 0
      },
      "text/plain": [
       "  0%|          | 0/100 [00:00<?, ?it/s]"
      ]
     },
     "metadata": {},
     "output_type": "display_data"
    },
    {
     "name": "stdout",
     "output_type": "stream",
     "text": [
      "Scrolling page\n",
      "Clicked\n",
      "Parsing advises\n",
      "Parsing dates\n"
     ]
    },
    {
     "data": {
      "application/vnd.jupyter.widget-view+json": {
       "model_id": "c8e2bc5a2def4501b4098d5ec813ab65",
       "version_major": 2,
       "version_minor": 0
      },
      "text/plain": [
       "  0%|          | 0/753 [00:00<?, ?it/s]"
      ]
     },
     "metadata": {},
     "output_type": "display_data"
    },
    {
     "name": "stdout",
     "output_type": "stream",
     "text": [
      "Writing\n"
     ]
    },
    {
     "name": "stderr",
     "output_type": "stream",
     "text": [
      "C:\\Users\\Iljam\\AppData\\Local\\Temp\\ipykernel_12212\\670770284.py:11: DeprecationWarning: executable_path has been deprecated, please pass in a Service object\n",
      "  driver = webdriver.Firefox(\n"
     ]
    },
    {
     "data": {
      "application/vnd.jupyter.widget-view+json": {
       "model_id": "539fda4abfa9464f87b011b107dfefd1",
       "version_major": 2,
       "version_minor": 0
      },
      "text/plain": [
       "  0%|          | 0/100 [00:00<?, ?it/s]"
      ]
     },
     "metadata": {},
     "output_type": "display_data"
    },
    {
     "name": "stdout",
     "output_type": "stream",
     "text": [
      "Scrolling page\n",
      "Clicked\n",
      "Parsing advises\n",
      "Parsing dates\n"
     ]
    },
    {
     "data": {
      "application/vnd.jupyter.widget-view+json": {
       "model_id": "361a03e515f14c52bac83983c3014d70",
       "version_major": 2,
       "version_minor": 0
      },
      "text/plain": [
       "  0%|          | 0/754 [00:00<?, ?it/s]"
      ]
     },
     "metadata": {},
     "output_type": "display_data"
    },
    {
     "name": "stdout",
     "output_type": "stream",
     "text": [
      "Writing\n"
     ]
    },
    {
     "name": "stderr",
     "output_type": "stream",
     "text": [
      "C:\\Users\\Iljam\\AppData\\Local\\Temp\\ipykernel_12212\\670770284.py:11: DeprecationWarning: executable_path has been deprecated, please pass in a Service object\n",
      "  driver = webdriver.Firefox(\n"
     ]
    },
    {
     "data": {
      "application/vnd.jupyter.widget-view+json": {
       "model_id": "fb57eaa3bdb04da68f3ec081150fe406",
       "version_major": 2,
       "version_minor": 0
      },
      "text/plain": [
       "  0%|          | 0/100 [00:00<?, ?it/s]"
      ]
     },
     "metadata": {},
     "output_type": "display_data"
    },
    {
     "name": "stdout",
     "output_type": "stream",
     "text": [
      "Scrolling page\n",
      "Clicked\n",
      "Scrolling page\n",
      "Clicked\n",
      "Scrolling page\n",
      "Clicked\n",
      "Scrolling page\n",
      "Clicked\n",
      "Parsing advises\n",
      "Parsing dates\n"
     ]
    },
    {
     "data": {
      "application/vnd.jupyter.widget-view+json": {
       "model_id": "54345baf4ec348508a8e10c291e821ed",
       "version_major": 2,
       "version_minor": 0
      },
      "text/plain": [
       "  0%|          | 0/852 [00:00<?, ?it/s]"
      ]
     },
     "metadata": {},
     "output_type": "display_data"
    },
    {
     "name": "stdout",
     "output_type": "stream",
     "text": [
      "Writing\n"
     ]
    },
    {
     "name": "stderr",
     "output_type": "stream",
     "text": [
      "C:\\Users\\Iljam\\AppData\\Local\\Temp\\ipykernel_12212\\670770284.py:11: DeprecationWarning: executable_path has been deprecated, please pass in a Service object\n",
      "  driver = webdriver.Firefox(\n"
     ]
    },
    {
     "data": {
      "application/vnd.jupyter.widget-view+json": {
       "model_id": "5a8228715eb24e01885d9da71d19bca0",
       "version_major": 2,
       "version_minor": 0
      },
      "text/plain": [
       "  0%|          | 0/100 [00:00<?, ?it/s]"
      ]
     },
     "metadata": {},
     "output_type": "display_data"
    },
    {
     "name": "stdout",
     "output_type": "stream",
     "text": [
      "Scrolling page\n",
      "Clicked\n",
      "Parsing advises\n",
      "Parsing dates\n"
     ]
    },
    {
     "data": {
      "application/vnd.jupyter.widget-view+json": {
       "model_id": "4a60778dd2e341beb48cf3e0bdde8fd7",
       "version_major": 2,
       "version_minor": 0
      },
      "text/plain": [
       "  0%|          | 0/856 [00:00<?, ?it/s]"
      ]
     },
     "metadata": {},
     "output_type": "display_data"
    },
    {
     "name": "stdout",
     "output_type": "stream",
     "text": [
      "Writing\n"
     ]
    },
    {
     "name": "stderr",
     "output_type": "stream",
     "text": [
      "C:\\Users\\Iljam\\AppData\\Local\\Temp\\ipykernel_12212\\670770284.py:11: DeprecationWarning: executable_path has been deprecated, please pass in a Service object\n",
      "  driver = webdriver.Firefox(\n"
     ]
    },
    {
     "name": "stdout",
     "output_type": "stream",
     "text": [
      "Message: The element with the reference aa8c8345-4302-4ac9-a9c3-421cc1abd7fa is stale; either its node document is not the active document, or it is no longer connected to the DOM\n",
      "Stacktrace:\n",
      "RemoteError@chrome://remote/content/shared/RemoteError.sys.mjs:8:8\n",
      "WebDriverError@chrome://remote/content/shared/webdriver/Errors.sys.mjs:180:5\n",
      "StaleElementReferenceError@chrome://remote/content/shared/webdriver/Errors.sys.mjs:461:5\n",
      "element.getKnownElement@chrome://remote/content/marionette/element.sys.mjs:488:11\n",
      "deserializeJSON@chrome://remote/content/marionette/json.sys.mjs:233:33\n",
      "cloneObject@chrome://remote/content/marionette/json.sys.mjs:56:24\n",
      "deserializeJSON@chrome://remote/content/marionette/json.sys.mjs:244:16\n",
      "json.deserialize@chrome://remote/content/marionette/json.sys.mjs:248:10\n",
      "receiveMessage@chrome://remote/content/marionette/actors/MarionetteCommandsChild.sys.mjs:85:30\n",
      "\n"
     ]
    },
    {
     "data": {
      "application/vnd.jupyter.widget-view+json": {
       "model_id": "390d0fdfcdcc4c6fb20fa765ae9694fc",
       "version_major": 2,
       "version_minor": 0
      },
      "text/plain": [
       "  0%|          | 0/100 [00:00<?, ?it/s]"
      ]
     },
     "metadata": {},
     "output_type": "display_data"
    },
    {
     "name": "stdout",
     "output_type": "stream",
     "text": [
      "Scrolling page\n",
      "Clicked\n",
      "Parsing advises\n",
      "Parsing dates\n"
     ]
    },
    {
     "data": {
      "application/vnd.jupyter.widget-view+json": {
       "model_id": "a66dc3af804643eca770fae24c6c53e5",
       "version_major": 2,
       "version_minor": 0
      },
      "text/plain": [
       "  0%|          | 0/864 [00:00<?, ?it/s]"
      ]
     },
     "metadata": {},
     "output_type": "display_data"
    },
    {
     "name": "stdout",
     "output_type": "stream",
     "text": [
      "Writing\n"
     ]
    },
    {
     "name": "stderr",
     "output_type": "stream",
     "text": [
      "C:\\Users\\Iljam\\AppData\\Local\\Temp\\ipykernel_12212\\670770284.py:11: DeprecationWarning: executable_path has been deprecated, please pass in a Service object\n",
      "  driver = webdriver.Firefox(\n"
     ]
    },
    {
     "data": {
      "application/vnd.jupyter.widget-view+json": {
       "model_id": "3c8c1b29946b4270825066a33000b48c",
       "version_major": 2,
       "version_minor": 0
      },
      "text/plain": [
       "  0%|          | 0/100 [00:00<?, ?it/s]"
      ]
     },
     "metadata": {},
     "output_type": "display_data"
    },
    {
     "name": "stdout",
     "output_type": "stream",
     "text": [
      "Scrolling page\n",
      "Clicked\n",
      "Parsing advises\n",
      "Parsing dates\n"
     ]
    },
    {
     "data": {
      "application/vnd.jupyter.widget-view+json": {
       "model_id": "4b91c4f45be24fe2919c4fcd8541fe6a",
       "version_major": 2,
       "version_minor": 0
      },
      "text/plain": [
       "  0%|          | 0/865 [00:00<?, ?it/s]"
      ]
     },
     "metadata": {},
     "output_type": "display_data"
    },
    {
     "name": "stdout",
     "output_type": "stream",
     "text": [
      "Writing\n"
     ]
    },
    {
     "name": "stderr",
     "output_type": "stream",
     "text": [
      "C:\\Users\\Iljam\\AppData\\Local\\Temp\\ipykernel_12212\\670770284.py:11: DeprecationWarning: executable_path has been deprecated, please pass in a Service object\n",
      "  driver = webdriver.Firefox(\n"
     ]
    },
    {
     "data": {
      "application/vnd.jupyter.widget-view+json": {
       "model_id": "a935c4461461462fb327c8df9a356111",
       "version_major": 2,
       "version_minor": 0
      },
      "text/plain": [
       "  0%|          | 0/100 [00:00<?, ?it/s]"
      ]
     },
     "metadata": {},
     "output_type": "display_data"
    },
    {
     "name": "stdout",
     "output_type": "stream",
     "text": [
      "Scrolling page\n",
      "Clicked\n",
      "Parsing advises\n",
      "Parsing dates\n"
     ]
    },
    {
     "data": {
      "application/vnd.jupyter.widget-view+json": {
       "model_id": "52ffeb0cc57f4c8e99ceab35e0c8e907",
       "version_major": 2,
       "version_minor": 0
      },
      "text/plain": [
       "  0%|          | 0/866 [00:00<?, ?it/s]"
      ]
     },
     "metadata": {},
     "output_type": "display_data"
    },
    {
     "name": "stdout",
     "output_type": "stream",
     "text": [
      "Writing\n"
     ]
    },
    {
     "name": "stderr",
     "output_type": "stream",
     "text": [
      "C:\\Users\\Iljam\\AppData\\Local\\Temp\\ipykernel_12212\\670770284.py:11: DeprecationWarning: executable_path has been deprecated, please pass in a Service object\n",
      "  driver = webdriver.Firefox(\n"
     ]
    },
    {
     "data": {
      "application/vnd.jupyter.widget-view+json": {
       "model_id": "4a4dc75db07f48318a304dd0f46f5065",
       "version_major": 2,
       "version_minor": 0
      },
      "text/plain": [
       "  0%|          | 0/100 [00:00<?, ?it/s]"
      ]
     },
     "metadata": {},
     "output_type": "display_data"
    },
    {
     "name": "stdout",
     "output_type": "stream",
     "text": [
      "Scrolling page\n",
      "Clicked\n",
      "Parsing advises\n",
      "Parsing dates\n"
     ]
    },
    {
     "data": {
      "application/vnd.jupyter.widget-view+json": {
       "model_id": "2c1b30688641409ead85820efd8e8024",
       "version_major": 2,
       "version_minor": 0
      },
      "text/plain": [
       "  0%|          | 0/873 [00:00<?, ?it/s]"
      ]
     },
     "metadata": {},
     "output_type": "display_data"
    },
    {
     "name": "stdout",
     "output_type": "stream",
     "text": [
      "Writing\n"
     ]
    },
    {
     "name": "stderr",
     "output_type": "stream",
     "text": [
      "C:\\Users\\Iljam\\AppData\\Local\\Temp\\ipykernel_12212\\670770284.py:11: DeprecationWarning: executable_path has been deprecated, please pass in a Service object\n",
      "  driver = webdriver.Firefox(\n"
     ]
    },
    {
     "data": {
      "application/vnd.jupyter.widget-view+json": {
       "model_id": "a6056a3e1ada4483adea17169e0211f6",
       "version_major": 2,
       "version_minor": 0
      },
      "text/plain": [
       "  0%|          | 0/100 [00:00<?, ?it/s]"
      ]
     },
     "metadata": {},
     "output_type": "display_data"
    },
    {
     "name": "stdout",
     "output_type": "stream",
     "text": [
      "Scrolling page\n",
      "Clicked\n",
      "Parsing advises\n",
      "Parsing dates\n"
     ]
    },
    {
     "data": {
      "application/vnd.jupyter.widget-view+json": {
       "model_id": "f6e2000283f14bb58374573f172be985",
       "version_major": 2,
       "version_minor": 0
      },
      "text/plain": [
       "  0%|          | 0/874 [00:00<?, ?it/s]"
      ]
     },
     "metadata": {},
     "output_type": "display_data"
    },
    {
     "name": "stdout",
     "output_type": "stream",
     "text": [
      "Writing\n"
     ]
    },
    {
     "name": "stderr",
     "output_type": "stream",
     "text": [
      "C:\\Users\\Iljam\\YandexDisk\\ML_projects\\venv\\lib\\site-packages\\openpyxl\\workbook\\child.py:99: UserWarning: Title is more than 31 characters. Some applications may not be able to read the file\n",
      "  warnings.warn(\"Title is more than 31 characters. Some applications may not be able to read the file\")\n",
      "C:\\Users\\Iljam\\AppData\\Local\\Temp\\ipykernel_12212\\670770284.py:11: DeprecationWarning: executable_path has been deprecated, please pass in a Service object\n",
      "  driver = webdriver.Firefox(\n"
     ]
    },
    {
     "data": {
      "application/vnd.jupyter.widget-view+json": {
       "model_id": "e788602ecac543e09a6eb9effc963040",
       "version_major": 2,
       "version_minor": 0
      },
      "text/plain": [
       "  0%|          | 0/100 [00:00<?, ?it/s]"
      ]
     },
     "metadata": {},
     "output_type": "display_data"
    },
    {
     "name": "stdout",
     "output_type": "stream",
     "text": [
      "Scrolling page\n",
      "Clicked\n",
      "Parsing advises\n",
      "Parsing dates\n"
     ]
    },
    {
     "data": {
      "application/vnd.jupyter.widget-view+json": {
       "model_id": "3f6f7e99471c43518d6da11a653217bc",
       "version_major": 2,
       "version_minor": 0
      },
      "text/plain": [
       "  0%|          | 0/875 [00:00<?, ?it/s]"
      ]
     },
     "metadata": {},
     "output_type": "display_data"
    },
    {
     "name": "stdout",
     "output_type": "stream",
     "text": [
      "Writing\n"
     ]
    },
    {
     "name": "stderr",
     "output_type": "stream",
     "text": [
      "C:\\Users\\Iljam\\AppData\\Local\\Temp\\ipykernel_12212\\670770284.py:11: DeprecationWarning: executable_path has been deprecated, please pass in a Service object\n",
      "  driver = webdriver.Firefox(\n"
     ]
    },
    {
     "data": {
      "application/vnd.jupyter.widget-view+json": {
       "model_id": "245a2878b37e4fea8cbe5a29dfc3a42c",
       "version_major": 2,
       "version_minor": 0
      },
      "text/plain": [
       "  0%|          | 0/100 [00:00<?, ?it/s]"
      ]
     },
     "metadata": {},
     "output_type": "display_data"
    },
    {
     "name": "stdout",
     "output_type": "stream",
     "text": [
      "Scrolling page\n",
      "Clicked\n",
      "Parsing advises\n",
      "Parsing dates\n"
     ]
    },
    {
     "data": {
      "application/vnd.jupyter.widget-view+json": {
       "model_id": "3c9de026b46f4bf1b4a87c66ab1a9c98",
       "version_major": 2,
       "version_minor": 0
      },
      "text/plain": [
       "  0%|          | 0/877 [00:00<?, ?it/s]"
      ]
     },
     "metadata": {},
     "output_type": "display_data"
    },
    {
     "name": "stdout",
     "output_type": "stream",
     "text": [
      "Writing\n"
     ]
    },
    {
     "name": "stderr",
     "output_type": "stream",
     "text": [
      "C:\\Users\\Iljam\\AppData\\Local\\Temp\\ipykernel_12212\\670770284.py:11: DeprecationWarning: executable_path has been deprecated, please pass in a Service object\n",
      "  driver = webdriver.Firefox(\n"
     ]
    },
    {
     "data": {
      "application/vnd.jupyter.widget-view+json": {
       "model_id": "6b43600d86574a91b74397bd02507264",
       "version_major": 2,
       "version_minor": 0
      },
      "text/plain": [
       "  0%|          | 0/100 [00:00<?, ?it/s]"
      ]
     },
     "metadata": {},
     "output_type": "display_data"
    },
    {
     "name": "stdout",
     "output_type": "stream",
     "text": [
      "Scrolling page\n",
      "Clicked\n",
      "Parsing advises\n",
      "Parsing dates\n"
     ]
    },
    {
     "data": {
      "application/vnd.jupyter.widget-view+json": {
       "model_id": "d70afbf4840f488d83efd7607efbb876",
       "version_major": 2,
       "version_minor": 0
      },
      "text/plain": [
       "  0%|          | 0/878 [00:00<?, ?it/s]"
      ]
     },
     "metadata": {},
     "output_type": "display_data"
    },
    {
     "name": "stdout",
     "output_type": "stream",
     "text": [
      "Writing\n"
     ]
    },
    {
     "name": "stderr",
     "output_type": "stream",
     "text": [
      "C:\\Users\\Iljam\\AppData\\Local\\Temp\\ipykernel_12212\\670770284.py:11: DeprecationWarning: executable_path has been deprecated, please pass in a Service object\n",
      "  driver = webdriver.Firefox(\n"
     ]
    },
    {
     "data": {
      "application/vnd.jupyter.widget-view+json": {
       "model_id": "00fd6dea137442c6b9668c3025083259",
       "version_major": 2,
       "version_minor": 0
      },
      "text/plain": [
       "  0%|          | 0/100 [00:00<?, ?it/s]"
      ]
     },
     "metadata": {},
     "output_type": "display_data"
    },
    {
     "name": "stdout",
     "output_type": "stream",
     "text": [
      "Scrolling page\n",
      "Clicked\n",
      "Parsing advises\n",
      "Parsing dates\n"
     ]
    },
    {
     "data": {
      "application/vnd.jupyter.widget-view+json": {
       "model_id": "d791bb399e694b92a6766345187661a4",
       "version_major": 2,
       "version_minor": 0
      },
      "text/plain": [
       "  0%|          | 0/880 [00:00<?, ?it/s]"
      ]
     },
     "metadata": {},
     "output_type": "display_data"
    },
    {
     "name": "stdout",
     "output_type": "stream",
     "text": [
      "Writing\n"
     ]
    },
    {
     "name": "stderr",
     "output_type": "stream",
     "text": [
      "C:\\Users\\Iljam\\AppData\\Local\\Temp\\ipykernel_12212\\670770284.py:11: DeprecationWarning: executable_path has been deprecated, please pass in a Service object\n",
      "  driver = webdriver.Firefox(\n"
     ]
    },
    {
     "data": {
      "application/vnd.jupyter.widget-view+json": {
       "model_id": "65c8eb0d735145fc96438417c05e96aa",
       "version_major": 2,
       "version_minor": 0
      },
      "text/plain": [
       "  0%|          | 0/100 [00:00<?, ?it/s]"
      ]
     },
     "metadata": {},
     "output_type": "display_data"
    },
    {
     "name": "stdout",
     "output_type": "stream",
     "text": [
      "Scrolling page\n",
      "Clicked\n",
      "Parsing advises\n",
      "Parsing dates\n"
     ]
    },
    {
     "data": {
      "application/vnd.jupyter.widget-view+json": {
       "model_id": "76dba07256ea42b492952c56a779c00f",
       "version_major": 2,
       "version_minor": 0
      },
      "text/plain": [
       "  0%|          | 0/882 [00:00<?, ?it/s]"
      ]
     },
     "metadata": {},
     "output_type": "display_data"
    },
    {
     "name": "stdout",
     "output_type": "stream",
     "text": [
      "Writing\n"
     ]
    },
    {
     "name": "stderr",
     "output_type": "stream",
     "text": [
      "C:\\Users\\Iljam\\YandexDisk\\ML_projects\\venv\\lib\\site-packages\\openpyxl\\workbook\\child.py:99: UserWarning: Title is more than 31 characters. Some applications may not be able to read the file\n",
      "  warnings.warn(\"Title is more than 31 characters. Some applications may not be able to read the file\")\n",
      "C:\\Users\\Iljam\\AppData\\Local\\Temp\\ipykernel_12212\\670770284.py:11: DeprecationWarning: executable_path has been deprecated, please pass in a Service object\n",
      "  driver = webdriver.Firefox(\n"
     ]
    },
    {
     "data": {
      "application/vnd.jupyter.widget-view+json": {
       "model_id": "acb1a13f32434c509c8df7fff61f7ab8",
       "version_major": 2,
       "version_minor": 0
      },
      "text/plain": [
       "  0%|          | 0/100 [00:00<?, ?it/s]"
      ]
     },
     "metadata": {},
     "output_type": "display_data"
    },
    {
     "name": "stdout",
     "output_type": "stream",
     "text": [
      "Scrolling page\n",
      "Clicked\n",
      "Parsing advises\n",
      "Parsing dates\n"
     ]
    },
    {
     "data": {
      "application/vnd.jupyter.widget-view+json": {
       "model_id": "e65621cf324d42a0901c7d68a4ab13ad",
       "version_major": 2,
       "version_minor": 0
      },
      "text/plain": [
       "  0%|          | 0/883 [00:00<?, ?it/s]"
      ]
     },
     "metadata": {},
     "output_type": "display_data"
    },
    {
     "name": "stdout",
     "output_type": "stream",
     "text": [
      "Writing\n"
     ]
    },
    {
     "name": "stderr",
     "output_type": "stream",
     "text": [
      "C:\\Users\\Iljam\\AppData\\Local\\Temp\\ipykernel_12212\\670770284.py:11: DeprecationWarning: executable_path has been deprecated, please pass in a Service object\n",
      "  driver = webdriver.Firefox(\n"
     ]
    },
    {
     "data": {
      "application/vnd.jupyter.widget-view+json": {
       "model_id": "cab781458fab4d6c9509f1175456aac5",
       "version_major": 2,
       "version_minor": 0
      },
      "text/plain": [
       "  0%|          | 0/100 [00:00<?, ?it/s]"
      ]
     },
     "metadata": {},
     "output_type": "display_data"
    },
    {
     "name": "stdout",
     "output_type": "stream",
     "text": [
      "Scrolling page\n",
      "Clicked\n",
      "Parsing advises\n",
      "Parsing dates\n"
     ]
    },
    {
     "data": {
      "application/vnd.jupyter.widget-view+json": {
       "model_id": "bc36934165344bd1add52baeb0c687f0",
       "version_major": 2,
       "version_minor": 0
      },
      "text/plain": [
       "  0%|          | 0/886 [00:00<?, ?it/s]"
      ]
     },
     "metadata": {},
     "output_type": "display_data"
    },
    {
     "name": "stdout",
     "output_type": "stream",
     "text": [
      "Writing\n"
     ]
    },
    {
     "name": "stderr",
     "output_type": "stream",
     "text": [
      "C:\\Users\\Iljam\\AppData\\Local\\Temp\\ipykernel_12212\\670770284.py:11: DeprecationWarning: executable_path has been deprecated, please pass in a Service object\n",
      "  driver = webdriver.Firefox(\n"
     ]
    },
    {
     "data": {
      "application/vnd.jupyter.widget-view+json": {
       "model_id": "37d42e161a914ec0a18674ec8b8750b7",
       "version_major": 2,
       "version_minor": 0
      },
      "text/plain": [
       "  0%|          | 0/100 [00:00<?, ?it/s]"
      ]
     },
     "metadata": {},
     "output_type": "display_data"
    },
    {
     "name": "stdout",
     "output_type": "stream",
     "text": [
      "Scrolling page\n",
      "Clicked\n",
      "Parsing advises\n",
      "Parsing dates\n"
     ]
    },
    {
     "data": {
      "application/vnd.jupyter.widget-view+json": {
       "model_id": "e4d6711fd51f4ea4825a5c588879b4af",
       "version_major": 2,
       "version_minor": 0
      },
      "text/plain": [
       "  0%|          | 0/887 [00:00<?, ?it/s]"
      ]
     },
     "metadata": {},
     "output_type": "display_data"
    },
    {
     "name": "stdout",
     "output_type": "stream",
     "text": [
      "Writing\n"
     ]
    },
    {
     "name": "stderr",
     "output_type": "stream",
     "text": [
      "C:\\Users\\Iljam\\AppData\\Local\\Temp\\ipykernel_12212\\670770284.py:11: DeprecationWarning: executable_path has been deprecated, please pass in a Service object\n",
      "  driver = webdriver.Firefox(\n"
     ]
    },
    {
     "data": {
      "application/vnd.jupyter.widget-view+json": {
       "model_id": "353acd9fac8642d8b5a2a2a4657a90c9",
       "version_major": 2,
       "version_minor": 0
      },
      "text/plain": [
       "  0%|          | 0/100 [00:00<?, ?it/s]"
      ]
     },
     "metadata": {},
     "output_type": "display_data"
    },
    {
     "name": "stdout",
     "output_type": "stream",
     "text": [
      "Scrolling page\n",
      "Clicked\n",
      "Parsing advises\n",
      "Parsing dates\n"
     ]
    },
    {
     "data": {
      "application/vnd.jupyter.widget-view+json": {
       "model_id": "e24902a63a424fc691632bea698977b3",
       "version_major": 2,
       "version_minor": 0
      },
      "text/plain": [
       "  0%|          | 0/887 [00:00<?, ?it/s]"
      ]
     },
     "metadata": {},
     "output_type": "display_data"
    },
    {
     "name": "stdout",
     "output_type": "stream",
     "text": [
      "Writing\n"
     ]
    },
    {
     "name": "stderr",
     "output_type": "stream",
     "text": [
      "C:\\Users\\Iljam\\AppData\\Local\\Temp\\ipykernel_12212\\670770284.py:11: DeprecationWarning: executable_path has been deprecated, please pass in a Service object\n",
      "  driver = webdriver.Firefox(\n"
     ]
    },
    {
     "data": {
      "application/vnd.jupyter.widget-view+json": {
       "model_id": "4bbe09b0aea04d3f9e71ab8f0711f89b",
       "version_major": 2,
       "version_minor": 0
      },
      "text/plain": [
       "  0%|          | 0/100 [00:00<?, ?it/s]"
      ]
     },
     "metadata": {},
     "output_type": "display_data"
    },
    {
     "name": "stdout",
     "output_type": "stream",
     "text": [
      "Scrolling page\n",
      "Clicked\n",
      "Scrolling page\n",
      "Clicked\n",
      "Parsing advises\n",
      "Parsing dates\n"
     ]
    },
    {
     "data": {
      "application/vnd.jupyter.widget-view+json": {
       "model_id": "499d3bdd1c66403dafa437782888d1bd",
       "version_major": 2,
       "version_minor": 0
      },
      "text/plain": [
       "  0%|          | 0/912 [00:00<?, ?it/s]"
      ]
     },
     "metadata": {},
     "output_type": "display_data"
    },
    {
     "name": "stdout",
     "output_type": "stream",
     "text": [
      "Writing\n"
     ]
    },
    {
     "name": "stderr",
     "output_type": "stream",
     "text": [
      "C:\\Users\\Iljam\\YandexDisk\\ML_projects\\venv\\lib\\site-packages\\openpyxl\\workbook\\child.py:99: UserWarning: Title is more than 31 characters. Some applications may not be able to read the file\n",
      "  warnings.warn(\"Title is more than 31 characters. Some applications may not be able to read the file\")\n",
      "C:\\Users\\Iljam\\AppData\\Local\\Temp\\ipykernel_12212\\670770284.py:11: DeprecationWarning: executable_path has been deprecated, please pass in a Service object\n",
      "  driver = webdriver.Firefox(\n"
     ]
    },
    {
     "data": {
      "application/vnd.jupyter.widget-view+json": {
       "model_id": "bd4549fe1e1742cfadce98fd6f06c8ff",
       "version_major": 2,
       "version_minor": 0
      },
      "text/plain": [
       "  0%|          | 0/100 [00:00<?, ?it/s]"
      ]
     },
     "metadata": {},
     "output_type": "display_data"
    },
    {
     "name": "stdout",
     "output_type": "stream",
     "text": [
      "Scrolling page\n",
      "Clicked\n",
      "Parsing advises\n",
      "Parsing dates\n"
     ]
    },
    {
     "data": {
      "application/vnd.jupyter.widget-view+json": {
       "model_id": "b3eb2b9232d447a4a70e337e97137778",
       "version_major": 2,
       "version_minor": 0
      },
      "text/plain": [
       "  0%|          | 0/913 [00:00<?, ?it/s]"
      ]
     },
     "metadata": {},
     "output_type": "display_data"
    },
    {
     "name": "stdout",
     "output_type": "stream",
     "text": [
      "Writing\n"
     ]
    },
    {
     "name": "stderr",
     "output_type": "stream",
     "text": [
      "C:\\Users\\Iljam\\AppData\\Local\\Temp\\ipykernel_12212\\670770284.py:11: DeprecationWarning: executable_path has been deprecated, please pass in a Service object\n",
      "  driver = webdriver.Firefox(\n"
     ]
    },
    {
     "data": {
      "application/vnd.jupyter.widget-view+json": {
       "model_id": "efeffcf67802496aa8de3972a93b02b6",
       "version_major": 2,
       "version_minor": 0
      },
      "text/plain": [
       "  0%|          | 0/100 [00:00<?, ?it/s]"
      ]
     },
     "metadata": {},
     "output_type": "display_data"
    },
    {
     "name": "stdout",
     "output_type": "stream",
     "text": [
      "Scrolling page\n",
      "Clicked\n",
      "Parsing advises\n",
      "Parsing dates\n"
     ]
    },
    {
     "data": {
      "application/vnd.jupyter.widget-view+json": {
       "model_id": "c6319eadfcee40869b22bc5f80780eb8",
       "version_major": 2,
       "version_minor": 0
      },
      "text/plain": [
       "  0%|          | 0/914 [00:00<?, ?it/s]"
      ]
     },
     "metadata": {},
     "output_type": "display_data"
    },
    {
     "name": "stdout",
     "output_type": "stream",
     "text": [
      "Writing\n"
     ]
    },
    {
     "name": "stderr",
     "output_type": "stream",
     "text": [
      "C:\\Users\\Iljam\\AppData\\Local\\Temp\\ipykernel_12212\\670770284.py:11: DeprecationWarning: executable_path has been deprecated, please pass in a Service object\n",
      "  driver = webdriver.Firefox(\n"
     ]
    },
    {
     "name": "stdout",
     "output_type": "stream",
     "text": [
      "Message: The element with the reference 49ec11ca-2ddf-4f56-9196-2022e6830242 is stale; either its node document is not the active document, or it is no longer connected to the DOM\n",
      "Stacktrace:\n",
      "RemoteError@chrome://remote/content/shared/RemoteError.sys.mjs:8:8\n",
      "WebDriverError@chrome://remote/content/shared/webdriver/Errors.sys.mjs:180:5\n",
      "StaleElementReferenceError@chrome://remote/content/shared/webdriver/Errors.sys.mjs:461:5\n",
      "element.getKnownElement@chrome://remote/content/marionette/element.sys.mjs:488:11\n",
      "deserializeJSON@chrome://remote/content/marionette/json.sys.mjs:233:33\n",
      "cloneObject@chrome://remote/content/marionette/json.sys.mjs:56:24\n",
      "deserializeJSON@chrome://remote/content/marionette/json.sys.mjs:244:16\n",
      "json.deserialize@chrome://remote/content/marionette/json.sys.mjs:248:10\n",
      "receiveMessage@chrome://remote/content/marionette/actors/MarionetteCommandsChild.sys.mjs:85:30\n",
      "\n",
      "Message: The element with the reference 990bde5b-35fc-48fd-86a2-eebc2e882ee9 is stale; either its node document is not the active document, or it is no longer connected to the DOM\n",
      "Stacktrace:\n",
      "RemoteError@chrome://remote/content/shared/RemoteError.sys.mjs:8:8\n",
      "WebDriverError@chrome://remote/content/shared/webdriver/Errors.sys.mjs:180:5\n",
      "StaleElementReferenceError@chrome://remote/content/shared/webdriver/Errors.sys.mjs:461:5\n",
      "element.getKnownElement@chrome://remote/content/marionette/element.sys.mjs:488:11\n",
      "deserializeJSON@chrome://remote/content/marionette/json.sys.mjs:233:33\n",
      "cloneObject@chrome://remote/content/marionette/json.sys.mjs:56:24\n",
      "deserializeJSON@chrome://remote/content/marionette/json.sys.mjs:244:16\n",
      "json.deserialize@chrome://remote/content/marionette/json.sys.mjs:248:10\n",
      "receiveMessage@chrome://remote/content/marionette/actors/MarionetteCommandsChild.sys.mjs:85:30\n",
      "\n"
     ]
    },
    {
     "data": {
      "application/vnd.jupyter.widget-view+json": {
       "model_id": "2fe77c9e37284f668f8ce9b348b01b2e",
       "version_major": 2,
       "version_minor": 0
      },
      "text/plain": [
       "  0%|          | 0/100 [00:00<?, ?it/s]"
      ]
     },
     "metadata": {},
     "output_type": "display_data"
    },
    {
     "name": "stdout",
     "output_type": "stream",
     "text": [
      "Scrolling page\n",
      "Clicked\n",
      "Scrolling page\n",
      "Clicked\n",
      "Scrolling page\n",
      "Clicked\n",
      "Parsing advises\n",
      "Parsing dates\n"
     ]
    },
    {
     "data": {
      "application/vnd.jupyter.widget-view+json": {
       "model_id": "d4f1b43d661f4e2484fd5f4101717fb2",
       "version_major": 2,
       "version_minor": 0
      },
      "text/plain": [
       "  0%|          | 0/975 [00:00<?, ?it/s]"
      ]
     },
     "metadata": {},
     "output_type": "display_data"
    },
    {
     "name": "stdout",
     "output_type": "stream",
     "text": [
      "Writing\n"
     ]
    },
    {
     "name": "stderr",
     "output_type": "stream",
     "text": [
      "C:\\Users\\Iljam\\AppData\\Local\\Temp\\ipykernel_12212\\670770284.py:11: DeprecationWarning: executable_path has been deprecated, please pass in a Service object\n",
      "  driver = webdriver.Firefox(\n"
     ]
    },
    {
     "data": {
      "application/vnd.jupyter.widget-view+json": {
       "model_id": "b840a9c09b2b44b5ab085e3a231e563f",
       "version_major": 2,
       "version_minor": 0
      },
      "text/plain": [
       "  0%|          | 0/100 [00:00<?, ?it/s]"
      ]
     },
     "metadata": {},
     "output_type": "display_data"
    },
    {
     "name": "stdout",
     "output_type": "stream",
     "text": [
      "Scrolling page\n",
      "Clicked\n",
      "Scrolling page\n",
      "Clicked\n",
      "Scrolling page\n",
      "Clicked\n",
      "Parsing advises\n",
      "Parsing dates\n"
     ]
    },
    {
     "data": {
      "application/vnd.jupyter.widget-view+json": {
       "model_id": "189e5045ca0c4b638fcadf882853e4c7",
       "version_major": 2,
       "version_minor": 0
      },
      "text/plain": [
       "  0%|          | 0/1026 [00:00<?, ?it/s]"
      ]
     },
     "metadata": {},
     "output_type": "display_data"
    },
    {
     "name": "stdout",
     "output_type": "stream",
     "text": [
      "Writing\n"
     ]
    },
    {
     "name": "stderr",
     "output_type": "stream",
     "text": [
      "C:\\Users\\Iljam\\AppData\\Local\\Temp\\ipykernel_12212\\670770284.py:11: DeprecationWarning: executable_path has been deprecated, please pass in a Service object\n",
      "  driver = webdriver.Firefox(\n"
     ]
    },
    {
     "data": {
      "application/vnd.jupyter.widget-view+json": {
       "model_id": "f39f597c54064479952e51c2144c525a",
       "version_major": 2,
       "version_minor": 0
      },
      "text/plain": [
       "  0%|          | 0/100 [00:00<?, ?it/s]"
      ]
     },
     "metadata": {},
     "output_type": "display_data"
    },
    {
     "name": "stdout",
     "output_type": "stream",
     "text": [
      "Scrolling page\n",
      "Clicked\n",
      "Scrolling page\n",
      "Clicked\n",
      "Parsing advises\n",
      "Parsing dates\n"
     ]
    },
    {
     "data": {
      "application/vnd.jupyter.widget-view+json": {
       "model_id": "7bd0a8e8fb1241a6ac3433467e295678",
       "version_major": 2,
       "version_minor": 0
      },
      "text/plain": [
       "  0%|          | 0/1066 [00:00<?, ?it/s]"
      ]
     },
     "metadata": {},
     "output_type": "display_data"
    },
    {
     "name": "stdout",
     "output_type": "stream",
     "text": [
      "Writing\n"
     ]
    },
    {
     "name": "stderr",
     "output_type": "stream",
     "text": [
      "C:\\Users\\Iljam\\AppData\\Local\\Temp\\ipykernel_12212\\670770284.py:11: DeprecationWarning: executable_path has been deprecated, please pass in a Service object\n",
      "  driver = webdriver.Firefox(\n"
     ]
    },
    {
     "data": {
      "application/vnd.jupyter.widget-view+json": {
       "model_id": "8ff73318ba474cb3b6ce017a6c83bfbd",
       "version_major": 2,
       "version_minor": 0
      },
      "text/plain": [
       "  0%|          | 0/100 [00:00<?, ?it/s]"
      ]
     },
     "metadata": {},
     "output_type": "display_data"
    },
    {
     "name": "stdout",
     "output_type": "stream",
     "text": [
      "Scrolling page\n",
      "Clicked\n",
      "Parsing advises\n",
      "Parsing dates\n"
     ]
    },
    {
     "data": {
      "application/vnd.jupyter.widget-view+json": {
       "model_id": "e465ce5f48474dad851a8c5364aa2d25",
       "version_major": 2,
       "version_minor": 0
      },
      "text/plain": [
       "  0%|          | 0/1066 [00:00<?, ?it/s]"
      ]
     },
     "metadata": {},
     "output_type": "display_data"
    },
    {
     "name": "stdout",
     "output_type": "stream",
     "text": [
      "Writing\n"
     ]
    },
    {
     "name": "stderr",
     "output_type": "stream",
     "text": [
      "C:\\Users\\Iljam\\AppData\\Local\\Temp\\ipykernel_12212\\670770284.py:11: DeprecationWarning: executable_path has been deprecated, please pass in a Service object\n",
      "  driver = webdriver.Firefox(\n"
     ]
    },
    {
     "name": "stdout",
     "output_type": "stream",
     "text": [
      "Message: The element with the reference d1788c4e-33e8-42f6-98b4-e87c37532596 is stale; either its node document is not the active document, or it is no longer connected to the DOM\n",
      "Stacktrace:\n",
      "RemoteError@chrome://remote/content/shared/RemoteError.sys.mjs:8:8\n",
      "WebDriverError@chrome://remote/content/shared/webdriver/Errors.sys.mjs:180:5\n",
      "StaleElementReferenceError@chrome://remote/content/shared/webdriver/Errors.sys.mjs:461:5\n",
      "element.getKnownElement@chrome://remote/content/marionette/element.sys.mjs:488:11\n",
      "deserializeJSON@chrome://remote/content/marionette/json.sys.mjs:233:33\n",
      "cloneObject@chrome://remote/content/marionette/json.sys.mjs:56:24\n",
      "deserializeJSON@chrome://remote/content/marionette/json.sys.mjs:244:16\n",
      "json.deserialize@chrome://remote/content/marionette/json.sys.mjs:248:10\n",
      "receiveMessage@chrome://remote/content/marionette/actors/MarionetteCommandsChild.sys.mjs:85:30\n",
      "\n",
      "Message: The element with the reference a3758008-85b3-4e01-8a30-9e03890178b9 is stale; either its node document is not the active document, or it is no longer connected to the DOM\n",
      "Stacktrace:\n",
      "RemoteError@chrome://remote/content/shared/RemoteError.sys.mjs:8:8\n",
      "WebDriverError@chrome://remote/content/shared/webdriver/Errors.sys.mjs:180:5\n",
      "StaleElementReferenceError@chrome://remote/content/shared/webdriver/Errors.sys.mjs:461:5\n",
      "element.getKnownElement@chrome://remote/content/marionette/element.sys.mjs:488:11\n",
      "deserializeJSON@chrome://remote/content/marionette/json.sys.mjs:233:33\n",
      "cloneObject@chrome://remote/content/marionette/json.sys.mjs:56:24\n",
      "deserializeJSON@chrome://remote/content/marionette/json.sys.mjs:244:16\n",
      "json.deserialize@chrome://remote/content/marionette/json.sys.mjs:248:10\n",
      "receiveMessage@chrome://remote/content/marionette/actors/MarionetteCommandsChild.sys.mjs:85:30\n",
      "\n",
      "list index out of range\n",
      "Message: The element with the reference 7194a60c-72d2-483a-a2a2-6554ba3cc00a is stale; either its node document is not the active document, or it is no longer connected to the DOM\n",
      "Stacktrace:\n",
      "RemoteError@chrome://remote/content/shared/RemoteError.sys.mjs:8:8\n",
      "WebDriverError@chrome://remote/content/shared/webdriver/Errors.sys.mjs:180:5\n",
      "StaleElementReferenceError@chrome://remote/content/shared/webdriver/Errors.sys.mjs:461:5\n",
      "element.getKnownElement@chrome://remote/content/marionette/element.sys.mjs:488:11\n",
      "deserializeJSON@chrome://remote/content/marionette/json.sys.mjs:233:33\n",
      "cloneObject@chrome://remote/content/marionette/json.sys.mjs:56:24\n",
      "deserializeJSON@chrome://remote/content/marionette/json.sys.mjs:244:16\n",
      "json.deserialize@chrome://remote/content/marionette/json.sys.mjs:248:10\n",
      "receiveMessage@chrome://remote/content/marionette/actors/MarionetteCommandsChild.sys.mjs:85:30\n",
      "\n"
     ]
    },
    {
     "data": {
      "application/vnd.jupyter.widget-view+json": {
       "model_id": "79feb1b4c4d14a31b0cc2f5a0d433a2f",
       "version_major": 2,
       "version_minor": 0
      },
      "text/plain": [
       "  0%|          | 0/100 [00:00<?, ?it/s]"
      ]
     },
     "metadata": {},
     "output_type": "display_data"
    },
    {
     "name": "stdout",
     "output_type": "stream",
     "text": [
      "Scrolling page\n",
      "Clicked\n",
      "Scrolling page\n",
      "Clicked\n",
      "Parsing advises\n",
      "Parsing dates\n"
     ]
    },
    {
     "data": {
      "application/vnd.jupyter.widget-view+json": {
       "model_id": "c8d53472bd794f8fb833e7fde9a80944",
       "version_major": 2,
       "version_minor": 0
      },
      "text/plain": [
       "  0%|          | 0/1111 [00:00<?, ?it/s]"
      ]
     },
     "metadata": {},
     "output_type": "display_data"
    },
    {
     "name": "stdout",
     "output_type": "stream",
     "text": [
      "Writing\n"
     ]
    },
    {
     "name": "stderr",
     "output_type": "stream",
     "text": [
      "C:\\Users\\Iljam\\AppData\\Local\\Temp\\ipykernel_12212\\670770284.py:11: DeprecationWarning: executable_path has been deprecated, please pass in a Service object\n",
      "  driver = webdriver.Firefox(\n"
     ]
    },
    {
     "name": "stdout",
     "output_type": "stream",
     "text": [
      "Message: Element <img class=\"img5\" src=\"https://tabiturient.ru/logovuz/mgupp.png\"> could not be scrolled into view\n",
      "Stacktrace:\n",
      "RemoteError@chrome://remote/content/shared/RemoteError.sys.mjs:8:8\n",
      "WebDriverError@chrome://remote/content/shared/webdriver/Errors.sys.mjs:180:5\n",
      "ElementNotInteractableError@chrome://remote/content/shared/webdriver/Errors.sys.mjs:290:5\n",
      "webdriverClickElement@chrome://remote/content/marionette/interaction.sys.mjs:150:11\n",
      "interaction.clickElement@chrome://remote/content/marionette/interaction.sys.mjs:119:11\n",
      "clickElement@chrome://remote/content/marionette/actors/MarionetteCommandsChild.sys.mjs:208:29\n",
      "receiveMessage@chrome://remote/content/marionette/actors/MarionetteCommandsChild.sys.mjs:97:31\n",
      "\n"
     ]
    },
    {
     "data": {
      "application/vnd.jupyter.widget-view+json": {
       "model_id": "04338d8cd5b84d7ea80a2288ce94a362",
       "version_major": 2,
       "version_minor": 0
      },
      "text/plain": [
       "  0%|          | 0/100 [00:04<?, ?it/s]"
      ]
     },
     "metadata": {},
     "output_type": "display_data"
    },
    {
     "name": "stdout",
     "output_type": "stream",
     "text": [
      "Scrolling page\n",
      "Clicked\n",
      "Parsing advises\n",
      "Parsing dates\n"
     ]
    },
    {
     "data": {
      "application/vnd.jupyter.widget-view+json": {
       "model_id": "a6e5fcd9038f476a8718a25370ddf661",
       "version_major": 2,
       "version_minor": 0
      },
      "text/plain": [
       "  0%|          | 0/1113 [00:00<?, ?it/s]"
      ]
     },
     "metadata": {},
     "output_type": "display_data"
    },
    {
     "name": "stdout",
     "output_type": "stream",
     "text": [
      "Writing\n"
     ]
    },
    {
     "name": "stderr",
     "output_type": "stream",
     "text": [
      "C:\\Users\\Iljam\\AppData\\Local\\Temp\\ipykernel_12212\\670770284.py:11: DeprecationWarning: executable_path has been deprecated, please pass in a Service object\n",
      "  driver = webdriver.Firefox(\n"
     ]
    },
    {
     "data": {
      "application/vnd.jupyter.widget-view+json": {
       "model_id": "1acd9a1180a144cf8769fb3e2491e535",
       "version_major": 2,
       "version_minor": 0
      },
      "text/plain": [
       "  0%|          | 0/100 [00:00<?, ?it/s]"
      ]
     },
     "metadata": {},
     "output_type": "display_data"
    },
    {
     "name": "stdout",
     "output_type": "stream",
     "text": [
      "Scrolling page\n",
      "Clicked\n",
      "Scrolling page\n",
      "Clicked\n",
      "Scrolling page\n",
      "Clicked\n",
      "Parsing advises\n",
      "Parsing dates\n"
     ]
    },
    {
     "data": {
      "application/vnd.jupyter.widget-view+json": {
       "model_id": "08000d8bbaab46d8a3f05f97fd1725eb",
       "version_major": 2,
       "version_minor": 0
      },
      "text/plain": [
       "  0%|          | 0/1163 [00:00<?, ?it/s]"
      ]
     },
     "metadata": {},
     "output_type": "display_data"
    },
    {
     "name": "stdout",
     "output_type": "stream",
     "text": [
      "Writing\n"
     ]
    },
    {
     "name": "stderr",
     "output_type": "stream",
     "text": [
      "C:\\Users\\Iljam\\AppData\\Local\\Temp\\ipykernel_12212\\670770284.py:11: DeprecationWarning: executable_path has been deprecated, please pass in a Service object\n",
      "  driver = webdriver.Firefox(\n"
     ]
    },
    {
     "data": {
      "application/vnd.jupyter.widget-view+json": {
       "model_id": "ca028a4ad2bc46d69ea684511f1a6d10",
       "version_major": 2,
       "version_minor": 0
      },
      "text/plain": [
       "  0%|          | 0/100 [00:00<?, ?it/s]"
      ]
     },
     "metadata": {},
     "output_type": "display_data"
    },
    {
     "name": "stdout",
     "output_type": "stream",
     "text": [
      "Scrolling page\n",
      "Clicked\n",
      "Parsing advises\n",
      "Parsing dates\n"
     ]
    },
    {
     "data": {
      "application/vnd.jupyter.widget-view+json": {
       "model_id": "0ba996f0aef04f0fb66f6be52b65d46e",
       "version_major": 2,
       "version_minor": 0
      },
      "text/plain": [
       "  0%|          | 0/1163 [00:00<?, ?it/s]"
      ]
     },
     "metadata": {},
     "output_type": "display_data"
    },
    {
     "name": "stdout",
     "output_type": "stream",
     "text": [
      "Writing\n"
     ]
    },
    {
     "name": "stderr",
     "output_type": "stream",
     "text": [
      "C:\\Users\\Iljam\\AppData\\Local\\Temp\\ipykernel_12212\\670770284.py:11: DeprecationWarning: executable_path has been deprecated, please pass in a Service object\n",
      "  driver = webdriver.Firefox(\n"
     ]
    },
    {
     "data": {
      "application/vnd.jupyter.widget-view+json": {
       "model_id": "4c0c64ab94cc4a37aab996a36dff8dd2",
       "version_major": 2,
       "version_minor": 0
      },
      "text/plain": [
       "  0%|          | 0/100 [00:00<?, ?it/s]"
      ]
     },
     "metadata": {},
     "output_type": "display_data"
    },
    {
     "name": "stdout",
     "output_type": "stream",
     "text": [
      "Scrolling page\n",
      "Clicked\n",
      "Parsing advises\n",
      "Parsing dates\n"
     ]
    },
    {
     "data": {
      "application/vnd.jupyter.widget-view+json": {
       "model_id": "4afde39b318a4e0393be4dd014c3e355",
       "version_major": 2,
       "version_minor": 0
      },
      "text/plain": [
       "  0%|          | 0/1165 [00:00<?, ?it/s]"
      ]
     },
     "metadata": {},
     "output_type": "display_data"
    },
    {
     "name": "stdout",
     "output_type": "stream",
     "text": [
      "Writing\n"
     ]
    },
    {
     "name": "stderr",
     "output_type": "stream",
     "text": [
      "C:\\Users\\Iljam\\AppData\\Local\\Temp\\ipykernel_12212\\670770284.py:11: DeprecationWarning: executable_path has been deprecated, please pass in a Service object\n",
      "  driver = webdriver.Firefox(\n"
     ]
    },
    {
     "data": {
      "application/vnd.jupyter.widget-view+json": {
       "model_id": "a278b32008214184a6f783151a83f3b8",
       "version_major": 2,
       "version_minor": 0
      },
      "text/plain": [
       "  0%|          | 0/100 [00:00<?, ?it/s]"
      ]
     },
     "metadata": {},
     "output_type": "display_data"
    },
    {
     "name": "stdout",
     "output_type": "stream",
     "text": [
      "Scrolling page\n",
      "Clicked\n",
      "Scrolling page\n",
      "Clicked\n",
      "Parsing advises\n",
      "Parsing dates\n"
     ]
    },
    {
     "data": {
      "application/vnd.jupyter.widget-view+json": {
       "model_id": "2fc44865ac6e4a5e9985f6c879358575",
       "version_major": 2,
       "version_minor": 0
      },
      "text/plain": [
       "  0%|          | 0/1196 [00:00<?, ?it/s]"
      ]
     },
     "metadata": {},
     "output_type": "display_data"
    },
    {
     "name": "stdout",
     "output_type": "stream",
     "text": [
      "Writing\n"
     ]
    },
    {
     "name": "stderr",
     "output_type": "stream",
     "text": [
      "C:\\Users\\Iljam\\YandexDisk\\ML_projects\\venv\\lib\\site-packages\\openpyxl\\workbook\\child.py:99: UserWarning: Title is more than 31 characters. Some applications may not be able to read the file\n",
      "  warnings.warn(\"Title is more than 31 characters. Some applications may not be able to read the file\")\n",
      "C:\\Users\\Iljam\\AppData\\Local\\Temp\\ipykernel_12212\\670770284.py:11: DeprecationWarning: executable_path has been deprecated, please pass in a Service object\n",
      "  driver = webdriver.Firefox(\n"
     ]
    },
    {
     "data": {
      "application/vnd.jupyter.widget-view+json": {
       "model_id": "befe65f15fad4a1495e2e38d97e45204",
       "version_major": 2,
       "version_minor": 0
      },
      "text/plain": [
       "  0%|          | 0/100 [00:00<?, ?it/s]"
      ]
     },
     "metadata": {},
     "output_type": "display_data"
    },
    {
     "name": "stdout",
     "output_type": "stream",
     "text": [
      "Scrolling page\n",
      "Clicked\n",
      "Scrolling page\n",
      "Clicked\n",
      "Scrolling page\n",
      "Clicked\n",
      "Parsing advises\n",
      "Parsing dates\n"
     ]
    },
    {
     "data": {
      "application/vnd.jupyter.widget-view+json": {
       "model_id": "9f351b2a084641efa7088cc911c1207d",
       "version_major": 2,
       "version_minor": 0
      },
      "text/plain": [
       "  0%|          | 0/1267 [00:00<?, ?it/s]"
      ]
     },
     "metadata": {},
     "output_type": "display_data"
    },
    {
     "name": "stdout",
     "output_type": "stream",
     "text": [
      "Writing\n"
     ]
    },
    {
     "name": "stderr",
     "output_type": "stream",
     "text": [
      "C:\\Users\\Iljam\\YandexDisk\\ML_projects\\venv\\lib\\site-packages\\openpyxl\\workbook\\child.py:99: UserWarning: Title is more than 31 characters. Some applications may not be able to read the file\n",
      "  warnings.warn(\"Title is more than 31 characters. Some applications may not be able to read the file\")\n",
      "C:\\Users\\Iljam\\AppData\\Local\\Temp\\ipykernel_12212\\670770284.py:11: DeprecationWarning: executable_path has been deprecated, please pass in a Service object\n",
      "  driver = webdriver.Firefox(\n"
     ]
    },
    {
     "data": {
      "application/vnd.jupyter.widget-view+json": {
       "model_id": "f806ecd0d4144d70896ec86b0c0f5077",
       "version_major": 2,
       "version_minor": 0
      },
      "text/plain": [
       "  0%|          | 0/100 [00:00<?, ?it/s]"
      ]
     },
     "metadata": {},
     "output_type": "display_data"
    },
    {
     "name": "stdout",
     "output_type": "stream",
     "text": [
      "Scrolling page\n",
      "Clicked\n",
      "Parsing advises\n",
      "Parsing dates\n"
     ]
    },
    {
     "data": {
      "application/vnd.jupyter.widget-view+json": {
       "model_id": "c330a8663b7644f096a5a27e34c43fd8",
       "version_major": 2,
       "version_minor": 0
      },
      "text/plain": [
       "  0%|          | 0/1268 [00:00<?, ?it/s]"
      ]
     },
     "metadata": {},
     "output_type": "display_data"
    },
    {
     "name": "stdout",
     "output_type": "stream",
     "text": [
      "Writing\n"
     ]
    },
    {
     "name": "stderr",
     "output_type": "stream",
     "text": [
      "C:\\Users\\Iljam\\YandexDisk\\ML_projects\\venv\\lib\\site-packages\\openpyxl\\workbook\\child.py:99: UserWarning: Title is more than 31 characters. Some applications may not be able to read the file\n",
      "  warnings.warn(\"Title is more than 31 characters. Some applications may not be able to read the file\")\n",
      "C:\\Users\\Iljam\\AppData\\Local\\Temp\\ipykernel_12212\\670770284.py:11: DeprecationWarning: executable_path has been deprecated, please pass in a Service object\n",
      "  driver = webdriver.Firefox(\n"
     ]
    },
    {
     "data": {
      "application/vnd.jupyter.widget-view+json": {
       "model_id": "8b905279a86b49cf9a6f4b1ad764d38b",
       "version_major": 2,
       "version_minor": 0
      },
      "text/plain": [
       "  0%|          | 0/100 [00:00<?, ?it/s]"
      ]
     },
     "metadata": {},
     "output_type": "display_data"
    },
    {
     "name": "stdout",
     "output_type": "stream",
     "text": [
      "Scrolling page\n",
      "Clicked\n",
      "Parsing advises\n",
      "Parsing dates\n"
     ]
    },
    {
     "data": {
      "application/vnd.jupyter.widget-view+json": {
       "model_id": "00901c5e42534092a22a6421f46f5f09",
       "version_major": 2,
       "version_minor": 0
      },
      "text/plain": [
       "  0%|          | 0/1269 [00:00<?, ?it/s]"
      ]
     },
     "metadata": {},
     "output_type": "display_data"
    },
    {
     "name": "stdout",
     "output_type": "stream",
     "text": [
      "Writing\n"
     ]
    },
    {
     "name": "stderr",
     "output_type": "stream",
     "text": [
      "C:\\Users\\Iljam\\AppData\\Local\\Temp\\ipykernel_12212\\670770284.py:11: DeprecationWarning: executable_path has been deprecated, please pass in a Service object\n",
      "  driver = webdriver.Firefox(\n"
     ]
    },
    {
     "data": {
      "application/vnd.jupyter.widget-view+json": {
       "model_id": "03cc555b49144bdaae7ce29e70a3276b",
       "version_major": 2,
       "version_minor": 0
      },
      "text/plain": [
       "  0%|          | 0/100 [00:00<?, ?it/s]"
      ]
     },
     "metadata": {},
     "output_type": "display_data"
    },
    {
     "name": "stdout",
     "output_type": "stream",
     "text": [
      "Scrolling page\n",
      "Clicked\n",
      "Parsing advises\n",
      "Parsing dates\n"
     ]
    },
    {
     "data": {
      "application/vnd.jupyter.widget-view+json": {
       "model_id": "2cc9df8a0c2b4cb98b529c8f3f850199",
       "version_major": 2,
       "version_minor": 0
      },
      "text/plain": [
       "  0%|          | 0/1272 [00:00<?, ?it/s]"
      ]
     },
     "metadata": {},
     "output_type": "display_data"
    },
    {
     "name": "stdout",
     "output_type": "stream",
     "text": [
      "Writing\n"
     ]
    },
    {
     "name": "stderr",
     "output_type": "stream",
     "text": [
      "C:\\Users\\Iljam\\YandexDisk\\ML_projects\\venv\\lib\\site-packages\\openpyxl\\workbook\\child.py:99: UserWarning: Title is more than 31 characters. Some applications may not be able to read the file\n",
      "  warnings.warn(\"Title is more than 31 characters. Some applications may not be able to read the file\")\n",
      "C:\\Users\\Iljam\\AppData\\Local\\Temp\\ipykernel_12212\\670770284.py:11: DeprecationWarning: executable_path has been deprecated, please pass in a Service object\n",
      "  driver = webdriver.Firefox(\n"
     ]
    },
    {
     "data": {
      "application/vnd.jupyter.widget-view+json": {
       "model_id": "c3d44a0127d54da6a44d86bf8af7c0fb",
       "version_major": 2,
       "version_minor": 0
      },
      "text/plain": [
       "  0%|          | 0/100 [00:00<?, ?it/s]"
      ]
     },
     "metadata": {},
     "output_type": "display_data"
    },
    {
     "name": "stdout",
     "output_type": "stream",
     "text": [
      "Scrolling page\n",
      "Clicked\n",
      "Parsing advises\n",
      "Parsing dates\n"
     ]
    },
    {
     "data": {
      "application/vnd.jupyter.widget-view+json": {
       "model_id": "87a13b711c0642e9aad25d8a745d5b22",
       "version_major": 2,
       "version_minor": 0
      },
      "text/plain": [
       "  0%|          | 0/1278 [00:00<?, ?it/s]"
      ]
     },
     "metadata": {},
     "output_type": "display_data"
    },
    {
     "name": "stdout",
     "output_type": "stream",
     "text": [
      "Writing\n"
     ]
    },
    {
     "name": "stderr",
     "output_type": "stream",
     "text": [
      "C:\\Users\\Iljam\\YandexDisk\\ML_projects\\venv\\lib\\site-packages\\openpyxl\\workbook\\child.py:99: UserWarning: Title is more than 31 characters. Some applications may not be able to read the file\n",
      "  warnings.warn(\"Title is more than 31 characters. Some applications may not be able to read the file\")\n",
      "C:\\Users\\Iljam\\AppData\\Local\\Temp\\ipykernel_12212\\670770284.py:11: DeprecationWarning: executable_path has been deprecated, please pass in a Service object\n",
      "  driver = webdriver.Firefox(\n"
     ]
    },
    {
     "data": {
      "application/vnd.jupyter.widget-view+json": {
       "model_id": "c4066562623c4d4987b2289019b00b09",
       "version_major": 2,
       "version_minor": 0
      },
      "text/plain": [
       "  0%|          | 0/100 [00:00<?, ?it/s]"
      ]
     },
     "metadata": {},
     "output_type": "display_data"
    },
    {
     "name": "stdout",
     "output_type": "stream",
     "text": [
      "Scrolling page\n",
      "Clicked\n",
      "Parsing advises\n",
      "Parsing dates\n"
     ]
    },
    {
     "data": {
      "application/vnd.jupyter.widget-view+json": {
       "model_id": "7ba28bc591c34a18b4eb8244b7f04df5",
       "version_major": 2,
       "version_minor": 0
      },
      "text/plain": [
       "  0%|          | 0/1298 [00:00<?, ?it/s]"
      ]
     },
     "metadata": {},
     "output_type": "display_data"
    },
    {
     "name": "stdout",
     "output_type": "stream",
     "text": [
      "Writing\n"
     ]
    },
    {
     "name": "stderr",
     "output_type": "stream",
     "text": [
      "C:\\Users\\Iljam\\AppData\\Local\\Temp\\ipykernel_12212\\670770284.py:11: DeprecationWarning: executable_path has been deprecated, please pass in a Service object\n",
      "  driver = webdriver.Firefox(\n"
     ]
    },
    {
     "data": {
      "application/vnd.jupyter.widget-view+json": {
       "model_id": "40fde0b1f77b4aeabe3f67fa07b0f777",
       "version_major": 2,
       "version_minor": 0
      },
      "text/plain": [
       "  0%|          | 0/100 [00:00<?, ?it/s]"
      ]
     },
     "metadata": {},
     "output_type": "display_data"
    },
    {
     "name": "stdout",
     "output_type": "stream",
     "text": [
      "Scrolling page\n",
      "Clicked\n",
      "Parsing advises\n",
      "Parsing dates\n"
     ]
    },
    {
     "data": {
      "application/vnd.jupyter.widget-view+json": {
       "model_id": "d3190708684a4b318ab3c5f66f7615b1",
       "version_major": 2,
       "version_minor": 0
      },
      "text/plain": [
       "  0%|          | 0/1306 [00:00<?, ?it/s]"
      ]
     },
     "metadata": {},
     "output_type": "display_data"
    },
    {
     "name": "stdout",
     "output_type": "stream",
     "text": [
      "Writing\n"
     ]
    },
    {
     "name": "stderr",
     "output_type": "stream",
     "text": [
      "C:\\Users\\Iljam\\AppData\\Local\\Temp\\ipykernel_12212\\670770284.py:11: DeprecationWarning: executable_path has been deprecated, please pass in a Service object\n",
      "  driver = webdriver.Firefox(\n"
     ]
    },
    {
     "data": {
      "application/vnd.jupyter.widget-view+json": {
       "model_id": "60b7922ac7714f3589ddd6d07e3d9b2d",
       "version_major": 2,
       "version_minor": 0
      },
      "text/plain": [
       "  0%|          | 0/100 [00:00<?, ?it/s]"
      ]
     },
     "metadata": {},
     "output_type": "display_data"
    },
    {
     "name": "stdout",
     "output_type": "stream",
     "text": [
      "Scrolling page\n",
      "Clicked\n",
      "Parsing advises\n",
      "Parsing dates\n"
     ]
    },
    {
     "data": {
      "application/vnd.jupyter.widget-view+json": {
       "model_id": "be67505fea5049939b1ff792feb92a96",
       "version_major": 2,
       "version_minor": 0
      },
      "text/plain": [
       "  0%|          | 0/1309 [00:00<?, ?it/s]"
      ]
     },
     "metadata": {},
     "output_type": "display_data"
    },
    {
     "name": "stdout",
     "output_type": "stream",
     "text": [
      "Writing\n"
     ]
    },
    {
     "name": "stderr",
     "output_type": "stream",
     "text": [
      "C:\\Users\\Iljam\\AppData\\Local\\Temp\\ipykernel_12212\\670770284.py:11: DeprecationWarning: executable_path has been deprecated, please pass in a Service object\n",
      "  driver = webdriver.Firefox(\n"
     ]
    },
    {
     "data": {
      "application/vnd.jupyter.widget-view+json": {
       "model_id": "c75bfd7a5e8444afa7c9170be970fb05",
       "version_major": 2,
       "version_minor": 0
      },
      "text/plain": [
       "  0%|          | 0/100 [00:00<?, ?it/s]"
      ]
     },
     "metadata": {},
     "output_type": "display_data"
    },
    {
     "name": "stdout",
     "output_type": "stream",
     "text": [
      "Scrolling page\n",
      "Clicked\n",
      "Parsing advises\n",
      "Parsing dates\n"
     ]
    },
    {
     "data": {
      "application/vnd.jupyter.widget-view+json": {
       "model_id": "8c9be1a97ffd481fa0002b0aaf7cc3c8",
       "version_major": 2,
       "version_minor": 0
      },
      "text/plain": [
       "  0%|          | 0/1310 [00:00<?, ?it/s]"
      ]
     },
     "metadata": {},
     "output_type": "display_data"
    },
    {
     "name": "stdout",
     "output_type": "stream",
     "text": [
      "Writing\n"
     ]
    },
    {
     "name": "stderr",
     "output_type": "stream",
     "text": [
      "C:\\Users\\Iljam\\YandexDisk\\ML_projects\\venv\\lib\\site-packages\\openpyxl\\workbook\\child.py:99: UserWarning: Title is more than 31 characters. Some applications may not be able to read the file\n",
      "  warnings.warn(\"Title is more than 31 characters. Some applications may not be able to read the file\")\n",
      "C:\\Users\\Iljam\\AppData\\Local\\Temp\\ipykernel_12212\\670770284.py:11: DeprecationWarning: executable_path has been deprecated, please pass in a Service object\n",
      "  driver = webdriver.Firefox(\n"
     ]
    },
    {
     "data": {
      "application/vnd.jupyter.widget-view+json": {
       "model_id": "8d6b88153d98466384c9aa41b639e696",
       "version_major": 2,
       "version_minor": 0
      },
      "text/plain": [
       "  0%|          | 0/100 [00:00<?, ?it/s]"
      ]
     },
     "metadata": {},
     "output_type": "display_data"
    },
    {
     "name": "stdout",
     "output_type": "stream",
     "text": [
      "Scrolling page\n",
      "Clicked\n",
      "Parsing advises\n",
      "Parsing dates\n"
     ]
    },
    {
     "data": {
      "application/vnd.jupyter.widget-view+json": {
       "model_id": "89b31e8055e44bbcafc96384a23971fd",
       "version_major": 2,
       "version_minor": 0
      },
      "text/plain": [
       "  0%|          | 0/1311 [00:00<?, ?it/s]"
      ]
     },
     "metadata": {},
     "output_type": "display_data"
    },
    {
     "name": "stdout",
     "output_type": "stream",
     "text": [
      "Writing\n"
     ]
    },
    {
     "name": "stderr",
     "output_type": "stream",
     "text": [
      "C:\\Users\\Iljam\\AppData\\Local\\Temp\\ipykernel_12212\\670770284.py:11: DeprecationWarning: executable_path has been deprecated, please pass in a Service object\n",
      "  driver = webdriver.Firefox(\n"
     ]
    },
    {
     "data": {
      "application/vnd.jupyter.widget-view+json": {
       "model_id": "27df7c3d26694e4baa906eaf84dbd363",
       "version_major": 2,
       "version_minor": 0
      },
      "text/plain": [
       "  0%|          | 0/100 [00:00<?, ?it/s]"
      ]
     },
     "metadata": {},
     "output_type": "display_data"
    },
    {
     "name": "stdout",
     "output_type": "stream",
     "text": [
      "Scrolling page\n",
      "Clicked\n",
      "Parsing advises\n",
      "Parsing dates\n"
     ]
    },
    {
     "data": {
      "application/vnd.jupyter.widget-view+json": {
       "model_id": "140d967eb17244e08da01d67c9faa2f2",
       "version_major": 2,
       "version_minor": 0
      },
      "text/plain": [
       "  0%|          | 0/1314 [00:00<?, ?it/s]"
      ]
     },
     "metadata": {},
     "output_type": "display_data"
    },
    {
     "name": "stdout",
     "output_type": "stream",
     "text": [
      "Writing\n"
     ]
    },
    {
     "name": "stderr",
     "output_type": "stream",
     "text": [
      "C:\\Users\\Iljam\\AppData\\Local\\Temp\\ipykernel_12212\\670770284.py:11: DeprecationWarning: executable_path has been deprecated, please pass in a Service object\n",
      "  driver = webdriver.Firefox(\n"
     ]
    },
    {
     "data": {
      "application/vnd.jupyter.widget-view+json": {
       "model_id": "d0c9dd71414745309344b55769d3d98d",
       "version_major": 2,
       "version_minor": 0
      },
      "text/plain": [
       "  0%|          | 0/100 [00:00<?, ?it/s]"
      ]
     },
     "metadata": {},
     "output_type": "display_data"
    },
    {
     "name": "stdout",
     "output_type": "stream",
     "text": [
      "Scrolling page\n",
      "Clicked\n",
      "Parsing advises\n",
      "Parsing dates\n"
     ]
    },
    {
     "data": {
      "application/vnd.jupyter.widget-view+json": {
       "model_id": "cfee5da63725474fa32e6764ae4ebce0",
       "version_major": 2,
       "version_minor": 0
      },
      "text/plain": [
       "  0%|          | 0/1316 [00:00<?, ?it/s]"
      ]
     },
     "metadata": {},
     "output_type": "display_data"
    },
    {
     "name": "stdout",
     "output_type": "stream",
     "text": [
      "Writing\n"
     ]
    },
    {
     "name": "stderr",
     "output_type": "stream",
     "text": [
      "C:\\Users\\Iljam\\AppData\\Local\\Temp\\ipykernel_12212\\670770284.py:11: DeprecationWarning: executable_path has been deprecated, please pass in a Service object\n",
      "  driver = webdriver.Firefox(\n"
     ]
    },
    {
     "data": {
      "application/vnd.jupyter.widget-view+json": {
       "model_id": "2ffca475c970407dae2e3d8b02ab6edf",
       "version_major": 2,
       "version_minor": 0
      },
      "text/plain": [
       "  0%|          | 0/100 [00:00<?, ?it/s]"
      ]
     },
     "metadata": {},
     "output_type": "display_data"
    },
    {
     "name": "stdout",
     "output_type": "stream",
     "text": [
      "Scrolling page\n",
      "Clicked\n",
      "Scrolling page\n",
      "Clicked\n",
      "Scrolling page\n",
      "Clicked\n",
      "Scrolling page\n",
      "Clicked\n",
      "Parsing advises\n",
      "Parsing dates\n"
     ]
    },
    {
     "data": {
      "application/vnd.jupyter.widget-view+json": {
       "model_id": "cf14d29450194b5ba34c74028e61f8ba",
       "version_major": 2,
       "version_minor": 0
      },
      "text/plain": [
       "  0%|          | 0/1391 [00:00<?, ?it/s]"
      ]
     },
     "metadata": {},
     "output_type": "display_data"
    },
    {
     "name": "stdout",
     "output_type": "stream",
     "text": [
      "Writing\n"
     ]
    },
    {
     "name": "stderr",
     "output_type": "stream",
     "text": [
      "C:\\Users\\Iljam\\AppData\\Local\\Temp\\ipykernel_12212\\670770284.py:11: DeprecationWarning: executable_path has been deprecated, please pass in a Service object\n",
      "  driver = webdriver.Firefox(\n"
     ]
    },
    {
     "data": {
      "application/vnd.jupyter.widget-view+json": {
       "model_id": "30b50987f44b4d928826c20f9246a679",
       "version_major": 2,
       "version_minor": 0
      },
      "text/plain": [
       "  0%|          | 0/100 [00:00<?, ?it/s]"
      ]
     },
     "metadata": {},
     "output_type": "display_data"
    },
    {
     "name": "stdout",
     "output_type": "stream",
     "text": [
      "Scrolling page\n",
      "Clicked\n",
      "Parsing advises\n",
      "Parsing dates\n"
     ]
    },
    {
     "data": {
      "application/vnd.jupyter.widget-view+json": {
       "model_id": "eb0c946b9a43468ab37c1738da2e06ea",
       "version_major": 2,
       "version_minor": 0
      },
      "text/plain": [
       "  0%|          | 0/1393 [00:00<?, ?it/s]"
      ]
     },
     "metadata": {},
     "output_type": "display_data"
    },
    {
     "name": "stdout",
     "output_type": "stream",
     "text": [
      "Writing\n"
     ]
    },
    {
     "name": "stderr",
     "output_type": "stream",
     "text": [
      "C:\\Users\\Iljam\\AppData\\Local\\Temp\\ipykernel_12212\\670770284.py:11: DeprecationWarning: executable_path has been deprecated, please pass in a Service object\n",
      "  driver = webdriver.Firefox(\n"
     ]
    },
    {
     "data": {
      "application/vnd.jupyter.widget-view+json": {
       "model_id": "a985a1096b944e24a0e31072526b13d2",
       "version_major": 2,
       "version_minor": 0
      },
      "text/plain": [
       "  0%|          | 0/100 [00:00<?, ?it/s]"
      ]
     },
     "metadata": {},
     "output_type": "display_data"
    },
    {
     "name": "stdout",
     "output_type": "stream",
     "text": [
      "Scrolling page\n",
      "Clicked\n",
      "Parsing advises\n",
      "Parsing dates\n"
     ]
    },
    {
     "data": {
      "application/vnd.jupyter.widget-view+json": {
       "model_id": "58f04c82784c440ab6778a7d5f665e59",
       "version_major": 2,
       "version_minor": 0
      },
      "text/plain": [
       "  0%|          | 0/1399 [00:00<?, ?it/s]"
      ]
     },
     "metadata": {},
     "output_type": "display_data"
    },
    {
     "name": "stdout",
     "output_type": "stream",
     "text": [
      "Writing\n"
     ]
    },
    {
     "name": "stderr",
     "output_type": "stream",
     "text": [
      "C:\\Users\\Iljam\\AppData\\Local\\Temp\\ipykernel_12212\\670770284.py:11: DeprecationWarning: executable_path has been deprecated, please pass in a Service object\n",
      "  driver = webdriver.Firefox(\n"
     ]
    },
    {
     "data": {
      "application/vnd.jupyter.widget-view+json": {
       "model_id": "75a8ee5a49d64c9ba0b30b1ae0fc1fb0",
       "version_major": 2,
       "version_minor": 0
      },
      "text/plain": [
       "  0%|          | 0/100 [00:00<?, ?it/s]"
      ]
     },
     "metadata": {},
     "output_type": "display_data"
    },
    {
     "name": "stdout",
     "output_type": "stream",
     "text": [
      "Scrolling page\n",
      "Clicked\n",
      "Parsing advises\n",
      "Parsing dates\n"
     ]
    },
    {
     "data": {
      "application/vnd.jupyter.widget-view+json": {
       "model_id": "07208bcc96324b1a806f0c6b38d3002d",
       "version_major": 2,
       "version_minor": 0
      },
      "text/plain": [
       "  0%|          | 0/1409 [00:00<?, ?it/s]"
      ]
     },
     "metadata": {},
     "output_type": "display_data"
    },
    {
     "name": "stdout",
     "output_type": "stream",
     "text": [
      "Writing\n"
     ]
    },
    {
     "name": "stderr",
     "output_type": "stream",
     "text": [
      "C:\\Users\\Iljam\\AppData\\Local\\Temp\\ipykernel_12212\\670770284.py:11: DeprecationWarning: executable_path has been deprecated, please pass in a Service object\n",
      "  driver = webdriver.Firefox(\n"
     ]
    },
    {
     "data": {
      "application/vnd.jupyter.widget-view+json": {
       "model_id": "a855c6cc153e461d9c5beb303f2ddbaa",
       "version_major": 2,
       "version_minor": 0
      },
      "text/plain": [
       "  0%|          | 0/100 [00:00<?, ?it/s]"
      ]
     },
     "metadata": {},
     "output_type": "display_data"
    },
    {
     "name": "stdout",
     "output_type": "stream",
     "text": [
      "Scrolling page\n",
      "Clicked\n",
      "Scrolling page\n",
      "Clicked\n",
      "Parsing advises\n",
      "Parsing dates\n"
     ]
    },
    {
     "data": {
      "application/vnd.jupyter.widget-view+json": {
       "model_id": "1c90b8fff1974637a5ad679f11334555",
       "version_major": 2,
       "version_minor": 0
      },
      "text/plain": [
       "  0%|          | 0/1438 [00:00<?, ?it/s]"
      ]
     },
     "metadata": {},
     "output_type": "display_data"
    },
    {
     "name": "stdout",
     "output_type": "stream",
     "text": [
      "Writing\n"
     ]
    },
    {
     "name": "stderr",
     "output_type": "stream",
     "text": [
      "C:\\Users\\Iljam\\AppData\\Local\\Temp\\ipykernel_12212\\670770284.py:11: DeprecationWarning: executable_path has been deprecated, please pass in a Service object\n",
      "  driver = webdriver.Firefox(\n"
     ]
    },
    {
     "data": {
      "application/vnd.jupyter.widget-view+json": {
       "model_id": "5a180090077347d788f019c7e13fe223",
       "version_major": 2,
       "version_minor": 0
      },
      "text/plain": [
       "  0%|          | 0/100 [00:00<?, ?it/s]"
      ]
     },
     "metadata": {},
     "output_type": "display_data"
    },
    {
     "name": "stdout",
     "output_type": "stream",
     "text": [
      "Scrolling page\n",
      "Clicked\n",
      "Scrolling page\n",
      "Clicked\n",
      "Scrolling page\n",
      "Clicked\n",
      "Parsing advises\n",
      "Parsing dates\n"
     ]
    },
    {
     "data": {
      "application/vnd.jupyter.widget-view+json": {
       "model_id": "02ba5f474fbb47b28c461e68322ae35a",
       "version_major": 2,
       "version_minor": 0
      },
      "text/plain": [
       "  0%|          | 0/1493 [00:00<?, ?it/s]"
      ]
     },
     "metadata": {},
     "output_type": "display_data"
    },
    {
     "name": "stdout",
     "output_type": "stream",
     "text": [
      "Writing\n"
     ]
    },
    {
     "name": "stderr",
     "output_type": "stream",
     "text": [
      "C:\\Users\\Iljam\\AppData\\Local\\Temp\\ipykernel_12212\\670770284.py:11: DeprecationWarning: executable_path has been deprecated, please pass in a Service object\n",
      "  driver = webdriver.Firefox(\n"
     ]
    },
    {
     "data": {
      "application/vnd.jupyter.widget-view+json": {
       "model_id": "a6e756fc52de46959d211301f9ecfd01",
       "version_major": 2,
       "version_minor": 0
      },
      "text/plain": [
       "  0%|          | 0/100 [00:00<?, ?it/s]"
      ]
     },
     "metadata": {},
     "output_type": "display_data"
    },
    {
     "name": "stdout",
     "output_type": "stream",
     "text": [
      "Scrolling page\n",
      "Clicked\n",
      "Scrolling page\n",
      "Clicked\n",
      "Scrolling page\n",
      "Clicked\n",
      "Parsing advises\n",
      "Parsing dates\n"
     ]
    },
    {
     "data": {
      "application/vnd.jupyter.widget-view+json": {
       "model_id": "80828efb3611475a80e19a14722ffc68",
       "version_major": 2,
       "version_minor": 0
      },
      "text/plain": [
       "  0%|          | 0/1564 [00:00<?, ?it/s]"
      ]
     },
     "metadata": {},
     "output_type": "display_data"
    },
    {
     "name": "stdout",
     "output_type": "stream",
     "text": [
      "Writing\n"
     ]
    },
    {
     "name": "stderr",
     "output_type": "stream",
     "text": [
      "C:\\Users\\Iljam\\YandexDisk\\ML_projects\\venv\\lib\\site-packages\\openpyxl\\workbook\\child.py:99: UserWarning: Title is more than 31 characters. Some applications may not be able to read the file\n",
      "  warnings.warn(\"Title is more than 31 characters. Some applications may not be able to read the file\")\n",
      "C:\\Users\\Iljam\\AppData\\Local\\Temp\\ipykernel_12212\\670770284.py:11: DeprecationWarning: executable_path has been deprecated, please pass in a Service object\n",
      "  driver = webdriver.Firefox(\n"
     ]
    },
    {
     "data": {
      "application/vnd.jupyter.widget-view+json": {
       "model_id": "c8a6f36a555048e3aefa0d3237d648b0",
       "version_major": 2,
       "version_minor": 0
      },
      "text/plain": [
       "  0%|          | 0/100 [00:00<?, ?it/s]"
      ]
     },
     "metadata": {},
     "output_type": "display_data"
    },
    {
     "name": "stdout",
     "output_type": "stream",
     "text": [
      "Scrolling page\n",
      "Clicked\n",
      "Parsing advises\n",
      "Parsing dates\n"
     ]
    },
    {
     "data": {
      "application/vnd.jupyter.widget-view+json": {
       "model_id": "326ad592fad64306ad02a6ad21e02733",
       "version_major": 2,
       "version_minor": 0
      },
      "text/plain": [
       "  0%|          | 0/1565 [00:00<?, ?it/s]"
      ]
     },
     "metadata": {},
     "output_type": "display_data"
    },
    {
     "name": "stdout",
     "output_type": "stream",
     "text": [
      "Writing\n"
     ]
    },
    {
     "name": "stderr",
     "output_type": "stream",
     "text": [
      "C:\\Users\\Iljam\\AppData\\Local\\Temp\\ipykernel_12212\\670770284.py:11: DeprecationWarning: executable_path has been deprecated, please pass in a Service object\n",
      "  driver = webdriver.Firefox(\n"
     ]
    },
    {
     "data": {
      "application/vnd.jupyter.widget-view+json": {
       "model_id": "59f049edefb240b49f2a836bd62d7258",
       "version_major": 2,
       "version_minor": 0
      },
      "text/plain": [
       "  0%|          | 0/100 [00:00<?, ?it/s]"
      ]
     },
     "metadata": {},
     "output_type": "display_data"
    },
    {
     "name": "stdout",
     "output_type": "stream",
     "text": [
      "Scrolling page\n",
      "Clicked\n",
      "Parsing advises\n",
      "Parsing dates\n"
     ]
    },
    {
     "data": {
      "application/vnd.jupyter.widget-view+json": {
       "model_id": "0da82ab3e4b04a4ba99ccd400f474559",
       "version_major": 2,
       "version_minor": 0
      },
      "text/plain": [
       "  0%|          | 0/1567 [00:00<?, ?it/s]"
      ]
     },
     "metadata": {},
     "output_type": "display_data"
    },
    {
     "name": "stdout",
     "output_type": "stream",
     "text": [
      "Writing\n"
     ]
    },
    {
     "name": "stderr",
     "output_type": "stream",
     "text": [
      "C:\\Users\\Iljam\\AppData\\Local\\Temp\\ipykernel_12212\\670770284.py:11: DeprecationWarning: executable_path has been deprecated, please pass in a Service object\n",
      "  driver = webdriver.Firefox(\n"
     ]
    },
    {
     "data": {
      "application/vnd.jupyter.widget-view+json": {
       "model_id": "c58ce9ac462544d5ad7dea888b60777a",
       "version_major": 2,
       "version_minor": 0
      },
      "text/plain": [
       "  0%|          | 0/100 [00:00<?, ?it/s]"
      ]
     },
     "metadata": {},
     "output_type": "display_data"
    },
    {
     "name": "stdout",
     "output_type": "stream",
     "text": [
      "Scrolling page\n",
      "Clicked\n",
      "Parsing advises\n",
      "Parsing dates\n"
     ]
    },
    {
     "data": {
      "application/vnd.jupyter.widget-view+json": {
       "model_id": "2932eb09dafc460eaaf02e030ff88626",
       "version_major": 2,
       "version_minor": 0
      },
      "text/plain": [
       "  0%|          | 0/1570 [00:00<?, ?it/s]"
      ]
     },
     "metadata": {},
     "output_type": "display_data"
    },
    {
     "name": "stdout",
     "output_type": "stream",
     "text": [
      "Writing\n"
     ]
    },
    {
     "name": "stderr",
     "output_type": "stream",
     "text": [
      "C:\\Users\\Iljam\\YandexDisk\\ML_projects\\venv\\lib\\site-packages\\openpyxl\\workbook\\child.py:99: UserWarning: Title is more than 31 characters. Some applications may not be able to read the file\n",
      "  warnings.warn(\"Title is more than 31 characters. Some applications may not be able to read the file\")\n",
      "C:\\Users\\Iljam\\AppData\\Local\\Temp\\ipykernel_12212\\670770284.py:11: DeprecationWarning: executable_path has been deprecated, please pass in a Service object\n",
      "  driver = webdriver.Firefox(\n"
     ]
    },
    {
     "data": {
      "application/vnd.jupyter.widget-view+json": {
       "model_id": "6d557524816c43519ada8069880eb73a",
       "version_major": 2,
       "version_minor": 0
      },
      "text/plain": [
       "  0%|          | 0/100 [00:00<?, ?it/s]"
      ]
     },
     "metadata": {},
     "output_type": "display_data"
    },
    {
     "name": "stdout",
     "output_type": "stream",
     "text": [
      "Scrolling page\n",
      "Clicked\n",
      "Parsing advises\n",
      "Parsing dates\n"
     ]
    },
    {
     "data": {
      "application/vnd.jupyter.widget-view+json": {
       "model_id": "9f9190c5d1d6420486b41e7d9f6f495a",
       "version_major": 2,
       "version_minor": 0
      },
      "text/plain": [
       "  0%|          | 0/1580 [00:00<?, ?it/s]"
      ]
     },
     "metadata": {},
     "output_type": "display_data"
    },
    {
     "name": "stdout",
     "output_type": "stream",
     "text": [
      "Writing\n"
     ]
    },
    {
     "name": "stderr",
     "output_type": "stream",
     "text": [
      "C:\\Users\\Iljam\\AppData\\Local\\Temp\\ipykernel_12212\\670770284.py:11: DeprecationWarning: executable_path has been deprecated, please pass in a Service object\n",
      "  driver = webdriver.Firefox(\n"
     ]
    },
    {
     "data": {
      "application/vnd.jupyter.widget-view+json": {
       "model_id": "e2a40f44d66543b99b1cfc4bf49d7c69",
       "version_major": 2,
       "version_minor": 0
      },
      "text/plain": [
       "  0%|          | 0/100 [00:00<?, ?it/s]"
      ]
     },
     "metadata": {},
     "output_type": "display_data"
    },
    {
     "name": "stdout",
     "output_type": "stream",
     "text": [
      "Scrolling page\n",
      "Clicked\n",
      "Parsing advises\n",
      "Parsing dates\n"
     ]
    },
    {
     "data": {
      "application/vnd.jupyter.widget-view+json": {
       "model_id": "759c6ecb7f74498a8e0eff528d5d83eb",
       "version_major": 2,
       "version_minor": 0
      },
      "text/plain": [
       "  0%|          | 0/1581 [00:00<?, ?it/s]"
      ]
     },
     "metadata": {},
     "output_type": "display_data"
    },
    {
     "name": "stdout",
     "output_type": "stream",
     "text": [
      "Writing\n"
     ]
    },
    {
     "name": "stderr",
     "output_type": "stream",
     "text": [
      "C:\\Users\\Iljam\\AppData\\Local\\Temp\\ipykernel_12212\\670770284.py:11: DeprecationWarning: executable_path has been deprecated, please pass in a Service object\n",
      "  driver = webdriver.Firefox(\n"
     ]
    },
    {
     "data": {
      "application/vnd.jupyter.widget-view+json": {
       "model_id": "f1a8df7e2e98412ab10e2a1ff538eb17",
       "version_major": 2,
       "version_minor": 0
      },
      "text/plain": [
       "  0%|          | 0/100 [00:00<?, ?it/s]"
      ]
     },
     "metadata": {},
     "output_type": "display_data"
    },
    {
     "name": "stdout",
     "output_type": "stream",
     "text": [
      "Scrolling page\n",
      "Clicked\n",
      "Parsing advises\n",
      "Parsing dates\n"
     ]
    },
    {
     "data": {
      "application/vnd.jupyter.widget-view+json": {
       "model_id": "1d39587dede444168833ddec3c89c1e6",
       "version_major": 2,
       "version_minor": 0
      },
      "text/plain": [
       "  0%|          | 0/1582 [00:00<?, ?it/s]"
      ]
     },
     "metadata": {},
     "output_type": "display_data"
    },
    {
     "name": "stdout",
     "output_type": "stream",
     "text": [
      "Writing\n"
     ]
    },
    {
     "name": "stderr",
     "output_type": "stream",
     "text": [
      "C:\\Users\\Iljam\\AppData\\Local\\Temp\\ipykernel_12212\\670770284.py:11: DeprecationWarning: executable_path has been deprecated, please pass in a Service object\n",
      "  driver = webdriver.Firefox(\n"
     ]
    },
    {
     "data": {
      "application/vnd.jupyter.widget-view+json": {
       "model_id": "a7a82bda567c44619ba1d1089080cc2f",
       "version_major": 2,
       "version_minor": 0
      },
      "text/plain": [
       "  0%|          | 0/100 [00:00<?, ?it/s]"
      ]
     },
     "metadata": {},
     "output_type": "display_data"
    },
    {
     "name": "stdout",
     "output_type": "stream",
     "text": [
      "Scrolling page\n",
      "Clicked\n",
      "Parsing advises\n",
      "Parsing dates\n"
     ]
    },
    {
     "data": {
      "application/vnd.jupyter.widget-view+json": {
       "model_id": "c51d70eea43945458005c4b8917d3eea",
       "version_major": 2,
       "version_minor": 0
      },
      "text/plain": [
       "  0%|          | 0/1596 [00:00<?, ?it/s]"
      ]
     },
     "metadata": {},
     "output_type": "display_data"
    },
    {
     "name": "stdout",
     "output_type": "stream",
     "text": [
      "Writing\n"
     ]
    },
    {
     "name": "stderr",
     "output_type": "stream",
     "text": [
      "C:\\Users\\Iljam\\AppData\\Local\\Temp\\ipykernel_12212\\670770284.py:11: DeprecationWarning: executable_path has been deprecated, please pass in a Service object\n",
      "  driver = webdriver.Firefox(\n"
     ]
    },
    {
     "data": {
      "application/vnd.jupyter.widget-view+json": {
       "model_id": "e2ddc59f867744a3811c684fc1d755e9",
       "version_major": 2,
       "version_minor": 0
      },
      "text/plain": [
       "  0%|          | 0/100 [00:00<?, ?it/s]"
      ]
     },
     "metadata": {},
     "output_type": "display_data"
    },
    {
     "name": "stdout",
     "output_type": "stream",
     "text": [
      "Scrolling page\n",
      "Clicked\n",
      "Parsing advises\n",
      "Parsing dates\n"
     ]
    },
    {
     "data": {
      "application/vnd.jupyter.widget-view+json": {
       "model_id": "be6c1f76ad374ebaa03e1bf7723abf3d",
       "version_major": 2,
       "version_minor": 0
      },
      "text/plain": [
       "  0%|          | 0/1597 [00:00<?, ?it/s]"
      ]
     },
     "metadata": {},
     "output_type": "display_data"
    },
    {
     "name": "stdout",
     "output_type": "stream",
     "text": [
      "Writing\n"
     ]
    },
    {
     "name": "stderr",
     "output_type": "stream",
     "text": [
      "C:\\Users\\Iljam\\AppData\\Local\\Temp\\ipykernel_12212\\670770284.py:11: DeprecationWarning: executable_path has been deprecated, please pass in a Service object\n",
      "  driver = webdriver.Firefox(\n"
     ]
    },
    {
     "data": {
      "application/vnd.jupyter.widget-view+json": {
       "model_id": "0ae19ed868cf44e5bbb3c365b9e05c53",
       "version_major": 2,
       "version_minor": 0
      },
      "text/plain": [
       "  0%|          | 0/100 [00:00<?, ?it/s]"
      ]
     },
     "metadata": {},
     "output_type": "display_data"
    },
    {
     "name": "stdout",
     "output_type": "stream",
     "text": [
      "Scrolling page\n",
      "Clicked\n",
      "Parsing advises\n",
      "Parsing dates\n"
     ]
    },
    {
     "data": {
      "application/vnd.jupyter.widget-view+json": {
       "model_id": "94b5ee0094994a75b6edf1fc705aa8bf",
       "version_major": 2,
       "version_minor": 0
      },
      "text/plain": [
       "  0%|          | 0/1599 [00:00<?, ?it/s]"
      ]
     },
     "metadata": {},
     "output_type": "display_data"
    },
    {
     "name": "stdout",
     "output_type": "stream",
     "text": [
      "Writing\n"
     ]
    },
    {
     "name": "stderr",
     "output_type": "stream",
     "text": [
      "C:\\Users\\Iljam\\YandexDisk\\ML_projects\\venv\\lib\\site-packages\\openpyxl\\workbook\\child.py:99: UserWarning: Title is more than 31 characters. Some applications may not be able to read the file\n",
      "  warnings.warn(\"Title is more than 31 characters. Some applications may not be able to read the file\")\n",
      "C:\\Users\\Iljam\\AppData\\Local\\Temp\\ipykernel_12212\\670770284.py:11: DeprecationWarning: executable_path has been deprecated, please pass in a Service object\n",
      "  driver = webdriver.Firefox(\n"
     ]
    },
    {
     "data": {
      "application/vnd.jupyter.widget-view+json": {
       "model_id": "45cbf0399f0043c9924f67f2b9557d08",
       "version_major": 2,
       "version_minor": 0
      },
      "text/plain": [
       "  0%|          | 0/100 [00:00<?, ?it/s]"
      ]
     },
     "metadata": {},
     "output_type": "display_data"
    },
    {
     "name": "stdout",
     "output_type": "stream",
     "text": [
      "Scrolling page\n",
      "Clicked\n",
      "Parsing advises\n",
      "Parsing dates\n"
     ]
    },
    {
     "data": {
      "application/vnd.jupyter.widget-view+json": {
       "model_id": "e6f1a95a579344f0bafaf7b28a78a829",
       "version_major": 2,
       "version_minor": 0
      },
      "text/plain": [
       "  0%|          | 0/1600 [00:00<?, ?it/s]"
      ]
     },
     "metadata": {},
     "output_type": "display_data"
    },
    {
     "name": "stdout",
     "output_type": "stream",
     "text": [
      "Writing\n"
     ]
    },
    {
     "name": "stderr",
     "output_type": "stream",
     "text": [
      "C:\\Users\\Iljam\\AppData\\Local\\Temp\\ipykernel_12212\\670770284.py:11: DeprecationWarning: executable_path has been deprecated, please pass in a Service object\n",
      "  driver = webdriver.Firefox(\n"
     ]
    },
    {
     "data": {
      "application/vnd.jupyter.widget-view+json": {
       "model_id": "90199457826d4459af2bd1b2938971d1",
       "version_major": 2,
       "version_minor": 0
      },
      "text/plain": [
       "  0%|          | 0/100 [00:00<?, ?it/s]"
      ]
     },
     "metadata": {},
     "output_type": "display_data"
    },
    {
     "name": "stdout",
     "output_type": "stream",
     "text": [
      "Scrolling page\n",
      "Clicked\n",
      "Parsing advises\n",
      "Parsing dates\n"
     ]
    },
    {
     "data": {
      "application/vnd.jupyter.widget-view+json": {
       "model_id": "4a2cd19f28d5411a9930d99111b84c4c",
       "version_major": 2,
       "version_minor": 0
      },
      "text/plain": [
       "  0%|          | 0/1603 [00:00<?, ?it/s]"
      ]
     },
     "metadata": {},
     "output_type": "display_data"
    },
    {
     "name": "stdout",
     "output_type": "stream",
     "text": [
      "Writing\n"
     ]
    },
    {
     "name": "stderr",
     "output_type": "stream",
     "text": [
      "C:\\Users\\Iljam\\AppData\\Local\\Temp\\ipykernel_12212\\670770284.py:11: DeprecationWarning: executable_path has been deprecated, please pass in a Service object\n",
      "  driver = webdriver.Firefox(\n"
     ]
    },
    {
     "data": {
      "application/vnd.jupyter.widget-view+json": {
       "model_id": "2eaf8a3702d9430b9f7571eb0923799f",
       "version_major": 2,
       "version_minor": 0
      },
      "text/plain": [
       "  0%|          | 0/100 [00:00<?, ?it/s]"
      ]
     },
     "metadata": {},
     "output_type": "display_data"
    },
    {
     "name": "stdout",
     "output_type": "stream",
     "text": [
      "Scrolling page\n",
      "Clicked\n",
      "Parsing advises\n",
      "Parsing dates\n"
     ]
    },
    {
     "data": {
      "application/vnd.jupyter.widget-view+json": {
       "model_id": "0b56318e7d9a40cdad5d778691771c7b",
       "version_major": 2,
       "version_minor": 0
      },
      "text/plain": [
       "  0%|          | 0/1609 [00:00<?, ?it/s]"
      ]
     },
     "metadata": {},
     "output_type": "display_data"
    },
    {
     "name": "stdout",
     "output_type": "stream",
     "text": [
      "Writing\n"
     ]
    },
    {
     "name": "stderr",
     "output_type": "stream",
     "text": [
      "C:\\Users\\Iljam\\AppData\\Local\\Temp\\ipykernel_12212\\670770284.py:11: DeprecationWarning: executable_path has been deprecated, please pass in a Service object\n",
      "  driver = webdriver.Firefox(\n"
     ]
    },
    {
     "data": {
      "application/vnd.jupyter.widget-view+json": {
       "model_id": "c4363816dc344b2e9e71ed6b705783c4",
       "version_major": 2,
       "version_minor": 0
      },
      "text/plain": [
       "  0%|          | 0/100 [00:00<?, ?it/s]"
      ]
     },
     "metadata": {},
     "output_type": "display_data"
    },
    {
     "name": "stdout",
     "output_type": "stream",
     "text": [
      "Scrolling page\n",
      "Clicked\n",
      "Parsing advises\n",
      "Parsing dates\n"
     ]
    },
    {
     "data": {
      "application/vnd.jupyter.widget-view+json": {
       "model_id": "bc9b303de34848daa5b6f0a2678e02da",
       "version_major": 2,
       "version_minor": 0
      },
      "text/plain": [
       "  0%|          | 0/1618 [00:00<?, ?it/s]"
      ]
     },
     "metadata": {},
     "output_type": "display_data"
    },
    {
     "name": "stdout",
     "output_type": "stream",
     "text": [
      "Writing\n"
     ]
    },
    {
     "name": "stderr",
     "output_type": "stream",
     "text": [
      "C:\\Users\\Iljam\\AppData\\Local\\Temp\\ipykernel_12212\\670770284.py:11: DeprecationWarning: executable_path has been deprecated, please pass in a Service object\n",
      "  driver = webdriver.Firefox(\n"
     ]
    },
    {
     "data": {
      "application/vnd.jupyter.widget-view+json": {
       "model_id": "4b84e69560984f139580e8ea8fa095a8",
       "version_major": 2,
       "version_minor": 0
      },
      "text/plain": [
       "  0%|          | 0/100 [00:00<?, ?it/s]"
      ]
     },
     "metadata": {},
     "output_type": "display_data"
    },
    {
     "name": "stdout",
     "output_type": "stream",
     "text": [
      "Scrolling page\n",
      "Clicked\n",
      "Parsing advises\n",
      "Parsing dates\n"
     ]
    },
    {
     "data": {
      "application/vnd.jupyter.widget-view+json": {
       "model_id": "f6fc6a1c80ae48fb9326b961b27f5675",
       "version_major": 2,
       "version_minor": 0
      },
      "text/plain": [
       "  0%|          | 0/1620 [00:00<?, ?it/s]"
      ]
     },
     "metadata": {},
     "output_type": "display_data"
    },
    {
     "name": "stdout",
     "output_type": "stream",
     "text": [
      "Writing\n"
     ]
    },
    {
     "name": "stderr",
     "output_type": "stream",
     "text": [
      "C:\\Users\\Iljam\\AppData\\Local\\Temp\\ipykernel_12212\\670770284.py:11: DeprecationWarning: executable_path has been deprecated, please pass in a Service object\n",
      "  driver = webdriver.Firefox(\n"
     ]
    },
    {
     "data": {
      "application/vnd.jupyter.widget-view+json": {
       "model_id": "c750ecaeb1bd4b68b7bbd7f70495f867",
       "version_major": 2,
       "version_minor": 0
      },
      "text/plain": [
       "  0%|          | 0/100 [00:00<?, ?it/s]"
      ]
     },
     "metadata": {},
     "output_type": "display_data"
    },
    {
     "name": "stdout",
     "output_type": "stream",
     "text": [
      "Scrolling page\n",
      "Clicked\n",
      "Parsing advises\n",
      "Parsing dates\n"
     ]
    },
    {
     "data": {
      "application/vnd.jupyter.widget-view+json": {
       "model_id": "f0b3f560c4d74f80a5c2f77f46035afb",
       "version_major": 2,
       "version_minor": 0
      },
      "text/plain": [
       "  0%|          | 0/1638 [00:00<?, ?it/s]"
      ]
     },
     "metadata": {},
     "output_type": "display_data"
    },
    {
     "name": "stdout",
     "output_type": "stream",
     "text": [
      "Writing\n"
     ]
    },
    {
     "name": "stderr",
     "output_type": "stream",
     "text": [
      "C:\\Users\\Iljam\\AppData\\Local\\Temp\\ipykernel_12212\\670770284.py:11: DeprecationWarning: executable_path has been deprecated, please pass in a Service object\n",
      "  driver = webdriver.Firefox(\n"
     ]
    },
    {
     "data": {
      "application/vnd.jupyter.widget-view+json": {
       "model_id": "1e85e1be4f9a4adfaaa688008454f242",
       "version_major": 2,
       "version_minor": 0
      },
      "text/plain": [
       "  0%|          | 0/100 [00:00<?, ?it/s]"
      ]
     },
     "metadata": {},
     "output_type": "display_data"
    },
    {
     "name": "stdout",
     "output_type": "stream",
     "text": [
      "Scrolling page\n",
      "Clicked\n",
      "Parsing advises\n",
      "Parsing dates\n"
     ]
    },
    {
     "data": {
      "application/vnd.jupyter.widget-view+json": {
       "model_id": "b4300be540b2439bbe14e391e0f32e54",
       "version_major": 2,
       "version_minor": 0
      },
      "text/plain": [
       "  0%|          | 0/1641 [00:00<?, ?it/s]"
      ]
     },
     "metadata": {},
     "output_type": "display_data"
    },
    {
     "name": "stdout",
     "output_type": "stream",
     "text": [
      "Writing\n"
     ]
    },
    {
     "name": "stderr",
     "output_type": "stream",
     "text": [
      "C:\\Users\\Iljam\\AppData\\Local\\Temp\\ipykernel_12212\\670770284.py:11: DeprecationWarning: executable_path has been deprecated, please pass in a Service object\n",
      "  driver = webdriver.Firefox(\n"
     ]
    },
    {
     "data": {
      "application/vnd.jupyter.widget-view+json": {
       "model_id": "1fbd9404c49542d8ae6c34c880393dcb",
       "version_major": 2,
       "version_minor": 0
      },
      "text/plain": [
       "  0%|          | 0/100 [00:00<?, ?it/s]"
      ]
     },
     "metadata": {},
     "output_type": "display_data"
    },
    {
     "name": "stdout",
     "output_type": "stream",
     "text": [
      "Scrolling page\n",
      "Clicked\n",
      "Parsing advises\n",
      "Parsing dates\n"
     ]
    },
    {
     "data": {
      "application/vnd.jupyter.widget-view+json": {
       "model_id": "993e96c6af674a12aa6f52fefc09a89a",
       "version_major": 2,
       "version_minor": 0
      },
      "text/plain": [
       "  0%|          | 0/1642 [00:00<?, ?it/s]"
      ]
     },
     "metadata": {},
     "output_type": "display_data"
    },
    {
     "name": "stdout",
     "output_type": "stream",
     "text": [
      "Writing\n"
     ]
    },
    {
     "name": "stderr",
     "output_type": "stream",
     "text": [
      "C:\\Users\\Iljam\\AppData\\Local\\Temp\\ipykernel_12212\\670770284.py:11: DeprecationWarning: executable_path has been deprecated, please pass in a Service object\n",
      "  driver = webdriver.Firefox(\n"
     ]
    },
    {
     "data": {
      "application/vnd.jupyter.widget-view+json": {
       "model_id": "ded1b8296df64393b2356ba9bc810b99",
       "version_major": 2,
       "version_minor": 0
      },
      "text/plain": [
       "  0%|          | 0/100 [00:00<?, ?it/s]"
      ]
     },
     "metadata": {},
     "output_type": "display_data"
    },
    {
     "name": "stdout",
     "output_type": "stream",
     "text": [
      "Scrolling page\n",
      "Clicked\n",
      "Parsing advises\n",
      "Parsing dates\n"
     ]
    },
    {
     "data": {
      "application/vnd.jupyter.widget-view+json": {
       "model_id": "f2ba1fca704b4735b48d7dda2d0edb15",
       "version_major": 2,
       "version_minor": 0
      },
      "text/plain": [
       "  0%|          | 0/1645 [00:00<?, ?it/s]"
      ]
     },
     "metadata": {},
     "output_type": "display_data"
    },
    {
     "name": "stdout",
     "output_type": "stream",
     "text": [
      "Writing\n"
     ]
    },
    {
     "name": "stderr",
     "output_type": "stream",
     "text": [
      "C:\\Users\\Iljam\\AppData\\Local\\Temp\\ipykernel_12212\\670770284.py:11: DeprecationWarning: executable_path has been deprecated, please pass in a Service object\n",
      "  driver = webdriver.Firefox(\n"
     ]
    },
    {
     "data": {
      "application/vnd.jupyter.widget-view+json": {
       "model_id": "8a14fe92ba564951ae34adcb2a4e75c7",
       "version_major": 2,
       "version_minor": 0
      },
      "text/plain": [
       "  0%|          | 0/100 [00:00<?, ?it/s]"
      ]
     },
     "metadata": {},
     "output_type": "display_data"
    },
    {
     "name": "stdout",
     "output_type": "stream",
     "text": [
      "Scrolling page\n",
      "Clicked\n",
      "Parsing advises\n",
      "Parsing dates\n"
     ]
    },
    {
     "data": {
      "application/vnd.jupyter.widget-view+json": {
       "model_id": "e7f0eddcfa2f49e1aeee5c5febbb2961",
       "version_major": 2,
       "version_minor": 0
      },
      "text/plain": [
       "  0%|          | 0/1650 [00:00<?, ?it/s]"
      ]
     },
     "metadata": {},
     "output_type": "display_data"
    },
    {
     "name": "stdout",
     "output_type": "stream",
     "text": [
      "Writing\n"
     ]
    },
    {
     "name": "stderr",
     "output_type": "stream",
     "text": [
      "C:\\Users\\Iljam\\YandexDisk\\ML_projects\\venv\\lib\\site-packages\\openpyxl\\workbook\\child.py:99: UserWarning: Title is more than 31 characters. Some applications may not be able to read the file\n",
      "  warnings.warn(\"Title is more than 31 characters. Some applications may not be able to read the file\")\n",
      "C:\\Users\\Iljam\\AppData\\Local\\Temp\\ipykernel_12212\\670770284.py:11: DeprecationWarning: executable_path has been deprecated, please pass in a Service object\n",
      "  driver = webdriver.Firefox(\n"
     ]
    },
    {
     "data": {
      "application/vnd.jupyter.widget-view+json": {
       "model_id": "d99ea7ce31c343b3910e208b92c9ca34",
       "version_major": 2,
       "version_minor": 0
      },
      "text/plain": [
       "  0%|          | 0/100 [00:00<?, ?it/s]"
      ]
     },
     "metadata": {},
     "output_type": "display_data"
    },
    {
     "name": "stdout",
     "output_type": "stream",
     "text": [
      "Scrolling page\n",
      "Clicked\n",
      "Parsing advises\n",
      "Parsing dates\n"
     ]
    },
    {
     "data": {
      "application/vnd.jupyter.widget-view+json": {
       "model_id": "8c1778b146014daca680c75c0772f9fa",
       "version_major": 2,
       "version_minor": 0
      },
      "text/plain": [
       "  0%|          | 0/1658 [00:00<?, ?it/s]"
      ]
     },
     "metadata": {},
     "output_type": "display_data"
    },
    {
     "name": "stdout",
     "output_type": "stream",
     "text": [
      "Writing\n"
     ]
    },
    {
     "name": "stderr",
     "output_type": "stream",
     "text": [
      "C:\\Users\\Iljam\\AppData\\Local\\Temp\\ipykernel_12212\\670770284.py:11: DeprecationWarning: executable_path has been deprecated, please pass in a Service object\n",
      "  driver = webdriver.Firefox(\n"
     ]
    },
    {
     "data": {
      "application/vnd.jupyter.widget-view+json": {
       "model_id": "06e35860cd434b10ba56205c9ef194c6",
       "version_major": 2,
       "version_minor": 0
      },
      "text/plain": [
       "  0%|          | 0/100 [00:00<?, ?it/s]"
      ]
     },
     "metadata": {},
     "output_type": "display_data"
    },
    {
     "name": "stdout",
     "output_type": "stream",
     "text": [
      "Scrolling page\n",
      "Clicked\n",
      "Parsing advises\n",
      "Parsing dates\n"
     ]
    },
    {
     "data": {
      "application/vnd.jupyter.widget-view+json": {
       "model_id": "692cb0df1f5149d59a04101c4c7b3fbf",
       "version_major": 2,
       "version_minor": 0
      },
      "text/plain": [
       "  0%|          | 0/1672 [00:00<?, ?it/s]"
      ]
     },
     "metadata": {},
     "output_type": "display_data"
    },
    {
     "name": "stdout",
     "output_type": "stream",
     "text": [
      "Writing\n"
     ]
    },
    {
     "name": "stderr",
     "output_type": "stream",
     "text": [
      "C:\\Users\\Iljam\\AppData\\Local\\Temp\\ipykernel_12212\\670770284.py:11: DeprecationWarning: executable_path has been deprecated, please pass in a Service object\n",
      "  driver = webdriver.Firefox(\n"
     ]
    },
    {
     "data": {
      "application/vnd.jupyter.widget-view+json": {
       "model_id": "3ce867434fde4b62a8b3bddf75158881",
       "version_major": 2,
       "version_minor": 0
      },
      "text/plain": [
       "  0%|          | 0/100 [00:00<?, ?it/s]"
      ]
     },
     "metadata": {},
     "output_type": "display_data"
    },
    {
     "name": "stdout",
     "output_type": "stream",
     "text": [
      "Scrolling page\n",
      "Clicked\n",
      "Parsing advises\n",
      "Parsing dates\n"
     ]
    },
    {
     "data": {
      "application/vnd.jupyter.widget-view+json": {
       "model_id": "b05528486d2f43898fb9098cbf20b03a",
       "version_major": 2,
       "version_minor": 0
      },
      "text/plain": [
       "  0%|          | 0/1673 [00:00<?, ?it/s]"
      ]
     },
     "metadata": {},
     "output_type": "display_data"
    },
    {
     "name": "stdout",
     "output_type": "stream",
     "text": [
      "Writing\n"
     ]
    },
    {
     "name": "stderr",
     "output_type": "stream",
     "text": [
      "C:\\Users\\Iljam\\YandexDisk\\ML_projects\\venv\\lib\\site-packages\\openpyxl\\workbook\\child.py:99: UserWarning: Title is more than 31 characters. Some applications may not be able to read the file\n",
      "  warnings.warn(\"Title is more than 31 characters. Some applications may not be able to read the file\")\n",
      "C:\\Users\\Iljam\\AppData\\Local\\Temp\\ipykernel_12212\\670770284.py:11: DeprecationWarning: executable_path has been deprecated, please pass in a Service object\n",
      "  driver = webdriver.Firefox(\n"
     ]
    },
    {
     "data": {
      "application/vnd.jupyter.widget-view+json": {
       "model_id": "b159bcdb8d2247eba2aa5d2e6c947cf4",
       "version_major": 2,
       "version_minor": 0
      },
      "text/plain": [
       "  0%|          | 0/100 [00:00<?, ?it/s]"
      ]
     },
     "metadata": {},
     "output_type": "display_data"
    },
    {
     "name": "stdout",
     "output_type": "stream",
     "text": [
      "Scrolling page\n",
      "Clicked\n",
      "Parsing advises\n",
      "Parsing dates\n"
     ]
    },
    {
     "data": {
      "application/vnd.jupyter.widget-view+json": {
       "model_id": "d2faeb215bdb4421b17cdb6060f1bba2",
       "version_major": 2,
       "version_minor": 0
      },
      "text/plain": [
       "  0%|          | 0/1675 [00:00<?, ?it/s]"
      ]
     },
     "metadata": {},
     "output_type": "display_data"
    },
    {
     "name": "stdout",
     "output_type": "stream",
     "text": [
      "Writing\n"
     ]
    },
    {
     "name": "stderr",
     "output_type": "stream",
     "text": [
      "C:\\Users\\Iljam\\YandexDisk\\ML_projects\\venv\\lib\\site-packages\\openpyxl\\workbook\\child.py:99: UserWarning: Title is more than 31 characters. Some applications may not be able to read the file\n",
      "  warnings.warn(\"Title is more than 31 characters. Some applications may not be able to read the file\")\n",
      "C:\\Users\\Iljam\\AppData\\Local\\Temp\\ipykernel_12212\\670770284.py:11: DeprecationWarning: executable_path has been deprecated, please pass in a Service object\n",
      "  driver = webdriver.Firefox(\n"
     ]
    },
    {
     "data": {
      "application/vnd.jupyter.widget-view+json": {
       "model_id": "f0bd019f9c0c4f7f9bac5798af9ad293",
       "version_major": 2,
       "version_minor": 0
      },
      "text/plain": [
       "  0%|          | 0/100 [00:00<?, ?it/s]"
      ]
     },
     "metadata": {},
     "output_type": "display_data"
    },
    {
     "name": "stdout",
     "output_type": "stream",
     "text": [
      "Scrolling page\n",
      "Clicked\n",
      "Parsing advises\n",
      "Parsing dates\n"
     ]
    },
    {
     "data": {
      "application/vnd.jupyter.widget-view+json": {
       "model_id": "bbb415e596564242969f7e7983339ec4",
       "version_major": 2,
       "version_minor": 0
      },
      "text/plain": [
       "  0%|          | 0/1676 [00:00<?, ?it/s]"
      ]
     },
     "metadata": {},
     "output_type": "display_data"
    },
    {
     "name": "stdout",
     "output_type": "stream",
     "text": [
      "Writing\n"
     ]
    },
    {
     "name": "stderr",
     "output_type": "stream",
     "text": [
      "C:\\Users\\Iljam\\AppData\\Local\\Temp\\ipykernel_12212\\670770284.py:11: DeprecationWarning: executable_path has been deprecated, please pass in a Service object\n",
      "  driver = webdriver.Firefox(\n"
     ]
    },
    {
     "data": {
      "application/vnd.jupyter.widget-view+json": {
       "model_id": "7cf85429251d486f9b282850398ba313",
       "version_major": 2,
       "version_minor": 0
      },
      "text/plain": [
       "  0%|          | 0/100 [00:00<?, ?it/s]"
      ]
     },
     "metadata": {},
     "output_type": "display_data"
    },
    {
     "name": "stdout",
     "output_type": "stream",
     "text": [
      "Scrolling page\n",
      "Clicked\n",
      "Parsing advises\n",
      "Parsing dates\n"
     ]
    },
    {
     "data": {
      "application/vnd.jupyter.widget-view+json": {
       "model_id": "f04f5deacef84dcaa3b76f84fffb4f58",
       "version_major": 2,
       "version_minor": 0
      },
      "text/plain": [
       "  0%|          | 0/1680 [00:00<?, ?it/s]"
      ]
     },
     "metadata": {},
     "output_type": "display_data"
    },
    {
     "name": "stdout",
     "output_type": "stream",
     "text": [
      "Writing\n"
     ]
    },
    {
     "name": "stderr",
     "output_type": "stream",
     "text": [
      "C:\\Users\\Iljam\\AppData\\Local\\Temp\\ipykernel_12212\\670770284.py:11: DeprecationWarning: executable_path has been deprecated, please pass in a Service object\n",
      "  driver = webdriver.Firefox(\n"
     ]
    },
    {
     "data": {
      "application/vnd.jupyter.widget-view+json": {
       "model_id": "a3911fe65faa428cb24e4c0b6c7bc403",
       "version_major": 2,
       "version_minor": 0
      },
      "text/plain": [
       "  0%|          | 0/100 [00:00<?, ?it/s]"
      ]
     },
     "metadata": {},
     "output_type": "display_data"
    },
    {
     "name": "stdout",
     "output_type": "stream",
     "text": [
      "Scrolling page\n",
      "Clicked\n",
      "Parsing advises\n",
      "Parsing dates\n"
     ]
    },
    {
     "data": {
      "application/vnd.jupyter.widget-view+json": {
       "model_id": "a910493e5d464549b16f14a8c83d6d44",
       "version_major": 2,
       "version_minor": 0
      },
      "text/plain": [
       "  0%|          | 0/1685 [00:00<?, ?it/s]"
      ]
     },
     "metadata": {},
     "output_type": "display_data"
    },
    {
     "name": "stdout",
     "output_type": "stream",
     "text": [
      "Writing\n"
     ]
    },
    {
     "name": "stderr",
     "output_type": "stream",
     "text": [
      "C:\\Users\\Iljam\\AppData\\Local\\Temp\\ipykernel_12212\\670770284.py:11: DeprecationWarning: executable_path has been deprecated, please pass in a Service object\n",
      "  driver = webdriver.Firefox(\n"
     ]
    },
    {
     "data": {
      "application/vnd.jupyter.widget-view+json": {
       "model_id": "668d758047d041868fcd169ab772f284",
       "version_major": 2,
       "version_minor": 0
      },
      "text/plain": [
       "  0%|          | 0/100 [00:00<?, ?it/s]"
      ]
     },
     "metadata": {},
     "output_type": "display_data"
    },
    {
     "name": "stdout",
     "output_type": "stream",
     "text": [
      "Scrolling page\n",
      "Clicked\n",
      "Parsing advises\n",
      "Parsing dates\n"
     ]
    },
    {
     "data": {
      "application/vnd.jupyter.widget-view+json": {
       "model_id": "5093b8ac5b0e4d09805b9d13b6dda096",
       "version_major": 2,
       "version_minor": 0
      },
      "text/plain": [
       "  0%|          | 0/1687 [00:00<?, ?it/s]"
      ]
     },
     "metadata": {},
     "output_type": "display_data"
    },
    {
     "name": "stdout",
     "output_type": "stream",
     "text": [
      "Writing\n"
     ]
    },
    {
     "name": "stderr",
     "output_type": "stream",
     "text": [
      "C:\\Users\\Iljam\\AppData\\Local\\Temp\\ipykernel_12212\\670770284.py:11: DeprecationWarning: executable_path has been deprecated, please pass in a Service object\n",
      "  driver = webdriver.Firefox(\n"
     ]
    },
    {
     "data": {
      "application/vnd.jupyter.widget-view+json": {
       "model_id": "feb56bb2800d445b8cb31aabed4ecb5c",
       "version_major": 2,
       "version_minor": 0
      },
      "text/plain": [
       "  0%|          | 0/100 [00:00<?, ?it/s]"
      ]
     },
     "metadata": {},
     "output_type": "display_data"
    },
    {
     "name": "stdout",
     "output_type": "stream",
     "text": [
      "Scrolling page\n",
      "Clicked\n",
      "Parsing advises\n",
      "Parsing dates\n"
     ]
    },
    {
     "data": {
      "application/vnd.jupyter.widget-view+json": {
       "model_id": "8cd95bf4f7284a1da3219e647d2bec58",
       "version_major": 2,
       "version_minor": 0
      },
      "text/plain": [
       "  0%|          | 0/1691 [00:00<?, ?it/s]"
      ]
     },
     "metadata": {},
     "output_type": "display_data"
    },
    {
     "name": "stdout",
     "output_type": "stream",
     "text": [
      "Writing\n"
     ]
    },
    {
     "name": "stderr",
     "output_type": "stream",
     "text": [
      "C:\\Users\\Iljam\\AppData\\Local\\Temp\\ipykernel_12212\\670770284.py:11: DeprecationWarning: executable_path has been deprecated, please pass in a Service object\n",
      "  driver = webdriver.Firefox(\n"
     ]
    },
    {
     "data": {
      "application/vnd.jupyter.widget-view+json": {
       "model_id": "f54a4ec1722240469292aad4537ed49d",
       "version_major": 2,
       "version_minor": 0
      },
      "text/plain": [
       "  0%|          | 0/100 [00:00<?, ?it/s]"
      ]
     },
     "metadata": {},
     "output_type": "display_data"
    },
    {
     "name": "stdout",
     "output_type": "stream",
     "text": [
      "Scrolling page\n",
      "Clicked\n",
      "Parsing advises\n",
      "Parsing dates\n"
     ]
    },
    {
     "data": {
      "application/vnd.jupyter.widget-view+json": {
       "model_id": "9a9e2b8291ca4158bf7e3bac2fb3700c",
       "version_major": 2,
       "version_minor": 0
      },
      "text/plain": [
       "  0%|          | 0/1697 [00:00<?, ?it/s]"
      ]
     },
     "metadata": {},
     "output_type": "display_data"
    },
    {
     "name": "stdout",
     "output_type": "stream",
     "text": [
      "Writing\n"
     ]
    },
    {
     "name": "stderr",
     "output_type": "stream",
     "text": [
      "C:\\Users\\Iljam\\AppData\\Local\\Temp\\ipykernel_12212\\670770284.py:11: DeprecationWarning: executable_path has been deprecated, please pass in a Service object\n",
      "  driver = webdriver.Firefox(\n"
     ]
    },
    {
     "data": {
      "application/vnd.jupyter.widget-view+json": {
       "model_id": "36519bf161a048589c3362c1608963e3",
       "version_major": 2,
       "version_minor": 0
      },
      "text/plain": [
       "  0%|          | 0/100 [00:00<?, ?it/s]"
      ]
     },
     "metadata": {},
     "output_type": "display_data"
    },
    {
     "name": "stdout",
     "output_type": "stream",
     "text": [
      "Scrolling page\n",
      "Clicked\n",
      "Parsing advises\n",
      "Parsing dates\n"
     ]
    },
    {
     "data": {
      "application/vnd.jupyter.widget-view+json": {
       "model_id": "bb2436522f104744b2379cdc8d27a052",
       "version_major": 2,
       "version_minor": 0
      },
      "text/plain": [
       "  0%|          | 0/1700 [00:00<?, ?it/s]"
      ]
     },
     "metadata": {},
     "output_type": "display_data"
    },
    {
     "name": "stdout",
     "output_type": "stream",
     "text": [
      "Writing\n"
     ]
    },
    {
     "name": "stderr",
     "output_type": "stream",
     "text": [
      "C:\\Users\\Iljam\\AppData\\Local\\Temp\\ipykernel_12212\\670770284.py:11: DeprecationWarning: executable_path has been deprecated, please pass in a Service object\n",
      "  driver = webdriver.Firefox(\n"
     ]
    },
    {
     "data": {
      "application/vnd.jupyter.widget-view+json": {
       "model_id": "2a3f75a7e0294f3f905a3348ce61f3ff",
       "version_major": 2,
       "version_minor": 0
      },
      "text/plain": [
       "  0%|          | 0/100 [00:00<?, ?it/s]"
      ]
     },
     "metadata": {},
     "output_type": "display_data"
    },
    {
     "name": "stdout",
     "output_type": "stream",
     "text": [
      "Scrolling page\n",
      "Clicked\n",
      "Parsing advises\n",
      "Parsing dates\n"
     ]
    },
    {
     "data": {
      "application/vnd.jupyter.widget-view+json": {
       "model_id": "042e223fc51f462ab7af51b54b97d011",
       "version_major": 2,
       "version_minor": 0
      },
      "text/plain": [
       "  0%|          | 0/1701 [00:00<?, ?it/s]"
      ]
     },
     "metadata": {},
     "output_type": "display_data"
    },
    {
     "name": "stdout",
     "output_type": "stream",
     "text": [
      "Writing\n"
     ]
    }
   ],
   "source": [
    "list_data = get_data_with_selenium(url,list_uni, \"Educational_parder.xlsx\")"
   ]
  },
  {
   "cell_type": "code",
   "execution_count": 7,
   "id": "f8a015fc",
   "metadata": {
    "pycharm": {
     "name": "#%%\n"
    }
   },
   "outputs": [],
   "source": [
    "xpath_search = '//*[@id=\"popupcontent1\"]/div[1]/div/table/tbody/tr/td[1]/input'"
   ]
  },
  {
   "cell_type": "code",
   "execution_count": 8,
   "id": "ae944ce8",
   "metadata": {
    "pycharm": {
     "name": "#%%\n"
    }
   },
   "outputs": [],
   "source": [
    "post_content = {'tag' : 'div',\n",
    "               'class' : 'mobpadd20-2'}"
   ]
  },
  {
   "cell_type": "code",
   "execution_count": 25,
   "id": "c20425ba",
   "metadata": {
    "pycharm": {
     "name": "#%%\n"
    }
   },
   "outputs": [],
   "source": [
    "non_na = []"
   ]
  },
  {
   "cell_type": "code",
   "execution_count": 26,
   "id": "2b92e0e7",
   "metadata": {
    "pycharm": {
     "name": "#%%\n"
    }
   },
   "outputs": [],
   "source": [
    "for i in range(len(list_data)):\n",
    "    if len(list_data[i]) !=0:\n",
    "        non_na.append(i)"
   ]
  },
  {
   "cell_type": "code",
   "execution_count": 27,
   "id": "a744747c",
   "metadata": {
    "pycharm": {
     "name": "#%%\n"
    }
   },
   "outputs": [],
   "source": [
    "df_total = pd.DataFrame(list_data[non_na[0]], columns = [list_data[non_na[0]].columns])"
   ]
  },
  {
   "cell_type": "code",
   "execution_count": 45,
   "id": "09e18d36",
   "metadata": {
    "pycharm": {
     "name": "#%%\n"
    }
   },
   "outputs": [],
   "source": [
    "ads = []\n",
    "days = []\n",
    "months = []\n",
    "years = []\n",
    "uni = []\n",
    "\n",
    "for i in range(len(non_na)):\n",
    "    for row in range(len(list_data[non_na[i]])):\n",
    "        ads.append(list_data[non_na[i]].loc[row]['Отзыв'])\n",
    "        days.append(list_data[non_na[i]].loc[row]['День'])\n",
    "        months.append(list_data[non_na[i]].loc[row]['Месяц'])\n",
    "        years.append(list_data[non_na[i]].loc[row]['Год'])\n",
    "        uni.append(list_data[non_na[i]].loc[row]['Университет'])"
   ]
  },
  {
   "cell_type": "code",
   "execution_count": 48,
   "id": "6bc486ad",
   "metadata": {
    "pycharm": {
     "name": "#%%\n"
    }
   },
   "outputs": [],
   "source": [
    "df_total = pd.DataFrame(zip(ads, days,months,years,uni),  columns = list_data[non_na[0]].columns)"
   ]
  },
  {
   "cell_type": "code",
   "execution_count": 49,
   "id": "703579d4",
   "metadata": {
    "pycharm": {
     "name": "#%%\n"
    }
   },
   "outputs": [],
   "source": [
    "\n",
    "df_total.index = [i for i in range(len(df_total))]"
   ]
  },
  {
   "cell_type": "code",
   "execution_count": 50,
   "id": "f8611e5b",
   "metadata": {
    "pycharm": {
     "name": "#%%\n"
    }
   },
   "outputs": [
    {
     "data": {
      "text/html": [
       "<div>\n",
       "<style scoped>\n",
       "    .dataframe tbody tr th:only-of-type {\n",
       "        vertical-align: middle;\n",
       "    }\n",
       "\n",
       "    .dataframe tbody tr th {\n",
       "        vertical-align: top;\n",
       "    }\n",
       "\n",
       "    .dataframe thead th {\n",
       "        text-align: right;\n",
       "    }\n",
       "</style>\n",
       "<table border=\"1\" class=\"dataframe\">\n",
       "  <thead>\n",
       "    <tr style=\"text-align: right;\">\n",
       "      <th></th>\n",
       "      <th>Отзыв</th>\n",
       "      <th>День</th>\n",
       "      <th>Месяц</th>\n",
       "      <th>Год</th>\n",
       "      <th>Университет</th>\n",
       "    </tr>\n",
       "  </thead>\n",
       "  <tbody>\n",
       "    <tr>\n",
       "      <th>0</th>\n",
       "      <td>\\n\\n\\nИнформации о этом ВУЗе в интернете нет (...</td>\n",
       "      <td>21</td>\n",
       "      <td>08</td>\n",
       "      <td>2021</td>\n",
       "      <td>АГУ</td>\n",
       "    </tr>\n",
       "    <tr>\n",
       "      <th>1</th>\n",
       "      <td>\\n\\n\\nИнформации о этом ВУЗе в интернете нет (...</td>\n",
       "      <td>12</td>\n",
       "      <td>02</td>\n",
       "      <td>2017</td>\n",
       "      <td>АлтГУ</td>\n",
       "    </tr>\n",
       "    <tr>\n",
       "      <th>2</th>\n",
       "      <td>\\n\\n\\nИнформации о этом ВУЗе в интернете нет (...</td>\n",
       "      <td>02</td>\n",
       "      <td>08</td>\n",
       "      <td>2022</td>\n",
       "      <td>Алфёровский университет</td>\n",
       "    </tr>\n",
       "    <tr>\n",
       "      <th>3</th>\n",
       "      <td>\\n\\n\\nЗдравствуйте! Меня зовут Александр. Я жи...</td>\n",
       "      <td>01</td>\n",
       "      <td>11</td>\n",
       "      <td>2016</td>\n",
       "      <td>Алфёровский университет</td>\n",
       "    </tr>\n",
       "    <tr>\n",
       "      <th>4</th>\n",
       "      <td>\\n\\n\\nИнформации о этом ВУЗе в интернете нет (...</td>\n",
       "      <td>08</td>\n",
       "      <td>06</td>\n",
       "      <td>2022</td>\n",
       "      <td>АмГМА</td>\n",
       "    </tr>\n",
       "    <tr>\n",
       "      <th>...</th>\n",
       "      <td>...</td>\n",
       "      <td>...</td>\n",
       "      <td>...</td>\n",
       "      <td>...</td>\n",
       "      <td>...</td>\n",
       "    </tr>\n",
       "    <tr>\n",
       "      <th>1696</th>\n",
       "      <td>\\n\\n\\nЗа 5 лет повидала многого, но по порядку...</td>\n",
       "      <td>08</td>\n",
       "      <td>11</td>\n",
       "      <td>2017</td>\n",
       "      <td>ЮФУ</td>\n",
       "    </tr>\n",
       "    <tr>\n",
       "      <th>1697</th>\n",
       "      <td>\\n\\n\\nИнформации о этом ВУЗе в интернете нет (...</td>\n",
       "      <td>23</td>\n",
       "      <td>06</td>\n",
       "      <td>2021</td>\n",
       "      <td>ЯГПУ им. Ушинского</td>\n",
       "    </tr>\n",
       "    <tr>\n",
       "      <th>1698</th>\n",
       "      <td>\\n\\n\\nЗдравствуйте! Меня зовут Александр. Я жи...</td>\n",
       "      <td>01</td>\n",
       "      <td>03</td>\n",
       "      <td>2021</td>\n",
       "      <td>ЯГПУ им. Ушинского</td>\n",
       "    </tr>\n",
       "    <tr>\n",
       "      <th>1699</th>\n",
       "      <td>\\n\\n\\nС удивлением для себя обнаружил, что про...</td>\n",
       "      <td>16</td>\n",
       "      <td>02</td>\n",
       "      <td>2021</td>\n",
       "      <td>ЯГПУ им. Ушинского</td>\n",
       "    </tr>\n",
       "    <tr>\n",
       "      <th>1700</th>\n",
       "      <td>\\n\\n\\nИнформации о этом ВУЗе в интернете нет (...</td>\n",
       "      <td>20</td>\n",
       "      <td>02</td>\n",
       "      <td>2023</td>\n",
       "      <td>ЯрГУ</td>\n",
       "    </tr>\n",
       "  </tbody>\n",
       "</table>\n",
       "<p>1701 rows × 5 columns</p>\n",
       "</div>"
      ],
      "text/plain": [
       "                                                  Отзыв День Месяц   Год  \\\n",
       "0     \\n\\n\\nИнформации о этом ВУЗе в интернете нет (...   21    08  2021   \n",
       "1     \\n\\n\\nИнформации о этом ВУЗе в интернете нет (...   12    02  2017   \n",
       "2     \\n\\n\\nИнформации о этом ВУЗе в интернете нет (...   02    08  2022   \n",
       "3     \\n\\n\\nЗдравствуйте! Меня зовут Александр. Я жи...   01    11  2016   \n",
       "4     \\n\\n\\nИнформации о этом ВУЗе в интернете нет (...   08    06  2022   \n",
       "...                                                 ...  ...   ...   ...   \n",
       "1696  \\n\\n\\nЗа 5 лет повидала многого, но по порядку...   08    11  2017   \n",
       "1697  \\n\\n\\nИнформации о этом ВУЗе в интернете нет (...   23    06  2021   \n",
       "1698  \\n\\n\\nЗдравствуйте! Меня зовут Александр. Я жи...   01    03  2021   \n",
       "1699  \\n\\n\\nС удивлением для себя обнаружил, что про...   16    02  2021   \n",
       "1700  \\n\\n\\nИнформации о этом ВУЗе в интернете нет (...   20    02  2023   \n",
       "\n",
       "                  Университет  \n",
       "0                         АГУ  \n",
       "1                       АлтГУ  \n",
       "2     Алфёровский университет  \n",
       "3     Алфёровский университет  \n",
       "4                       АмГМА  \n",
       "...                       ...  \n",
       "1696                      ЮФУ  \n",
       "1697       ЯГПУ им. Ушинского  \n",
       "1698       ЯГПУ им. Ушинского  \n",
       "1699       ЯГПУ им. Ушинского  \n",
       "1700                     ЯрГУ  \n",
       "\n",
       "[1701 rows x 5 columns]"
      ]
     },
     "execution_count": 50,
     "metadata": {},
     "output_type": "execute_result"
    }
   ],
   "source": [
    "df_total"
   ]
  },
  {
   "cell_type": "code",
   "execution_count": 51,
   "id": "7910c285",
   "metadata": {
    "pycharm": {
     "name": "#%%\n"
    }
   },
   "outputs": [],
   "source": [
    "df_total.to_excel('Univercities.xlsx')"
   ]
  },
  {
   "cell_type": "code",
   "execution_count": 10,
   "id": "7383ff86",
   "metadata": {
    "pycharm": {
     "name": "#%%\n"
    }
   },
   "outputs": [],
   "source": [
    "df_uni = pd.read_excel('Univercities.xlsx')"
   ]
  },
  {
   "cell_type": "code",
   "execution_count": 11,
   "id": "984d4208",
   "metadata": {
    "pycharm": {
     "name": "#%%\n"
    }
   },
   "outputs": [],
   "source": [
    "list_uni = list(df_uni['Университет'].unique())"
   ]
  },
  {
   "cell_type": "code",
   "execution_count": 20,
   "id": "3d7a837a",
   "metadata": {
    "pycharm": {
     "name": "#%%\n"
    }
   },
   "outputs": [
    {
     "name": "stdout",
     "output_type": "stream",
     "text": [
      "                                               Отзыв День Месяц   Год  \\\n",
      "0  \\n\\n\\nИнформации о этом ВУЗе в интернете нет (...   15    07  2022   \n",
      "\n",
      "                        Университет  \n",
      "0  ГМПИ им. М.М. Ипполитова-Иванова  \n"
     ]
    }
   ],
   "source": [
    "print(list_data[non_na[20]])"
   ]
  },
  {
   "cell_type": "code",
   "execution_count": 39,
   "id": "fc04977e",
   "metadata": {
    "pycharm": {
     "name": "#%%\n"
    }
   },
   "outputs": [
    {
     "ename": "KeyError",
     "evalue": "2",
     "output_type": "error",
     "traceback": [
      "\u001b[1;31m---------------------------------------------------------------------------\u001b[0m",
      "\u001b[1;31mValueError\u001b[0m                                Traceback (most recent call last)",
      "File \u001b[1;32m~\\YandexDisk\\ML_projects\\venv\\lib\\site-packages\\pandas\\core\\indexes\\range.py:391\u001b[0m, in \u001b[0;36mRangeIndex.get_loc\u001b[1;34m(self, key, method, tolerance)\u001b[0m\n\u001b[0;32m    390\u001b[0m \u001b[38;5;28;01mtry\u001b[39;00m:\n\u001b[1;32m--> 391\u001b[0m     \u001b[38;5;28;01mreturn\u001b[39;00m \u001b[38;5;28;43mself\u001b[39;49m\u001b[38;5;241;43m.\u001b[39;49m\u001b[43m_range\u001b[49m\u001b[38;5;241;43m.\u001b[39;49m\u001b[43mindex\u001b[49m\u001b[43m(\u001b[49m\u001b[43mnew_key\u001b[49m\u001b[43m)\u001b[49m\n\u001b[0;32m    392\u001b[0m \u001b[38;5;28;01mexcept\u001b[39;00m \u001b[38;5;167;01mValueError\u001b[39;00m \u001b[38;5;28;01mas\u001b[39;00m err:\n",
      "\u001b[1;31mValueError\u001b[0m: 2 is not in range",
      "\nThe above exception was the direct cause of the following exception:\n",
      "\u001b[1;31mKeyError\u001b[0m                                  Traceback (most recent call last)",
      "Cell \u001b[1;32mIn[39], line 1\u001b[0m\n\u001b[1;32m----> 1\u001b[0m df_total\u001b[38;5;241m.\u001b[39mappend(\u001b[43mlist_data\u001b[49m\u001b[43m[\u001b[49m\u001b[43mnon_na\u001b[49m\u001b[43m[\u001b[49m\u001b[38;5;241;43m2\u001b[39;49m\u001b[43m]\u001b[49m\u001b[43m]\u001b[49m\u001b[38;5;241;43m.\u001b[39;49m\u001b[43mloc\u001b[49m\u001b[43m[\u001b[49m\u001b[38;5;241;43m2\u001b[39;49m\u001b[43m]\u001b[49m)\n",
      "File \u001b[1;32m~\\YandexDisk\\ML_projects\\venv\\lib\\site-packages\\pandas\\core\\indexing.py:1073\u001b[0m, in \u001b[0;36m_LocationIndexer.__getitem__\u001b[1;34m(self, key)\u001b[0m\n\u001b[0;32m   1070\u001b[0m axis \u001b[38;5;241m=\u001b[39m \u001b[38;5;28mself\u001b[39m\u001b[38;5;241m.\u001b[39maxis \u001b[38;5;129;01mor\u001b[39;00m \u001b[38;5;241m0\u001b[39m\n\u001b[0;32m   1072\u001b[0m maybe_callable \u001b[38;5;241m=\u001b[39m com\u001b[38;5;241m.\u001b[39mapply_if_callable(key, \u001b[38;5;28mself\u001b[39m\u001b[38;5;241m.\u001b[39mobj)\n\u001b[1;32m-> 1073\u001b[0m \u001b[38;5;28;01mreturn\u001b[39;00m \u001b[38;5;28;43mself\u001b[39;49m\u001b[38;5;241;43m.\u001b[39;49m\u001b[43m_getitem_axis\u001b[49m\u001b[43m(\u001b[49m\u001b[43mmaybe_callable\u001b[49m\u001b[43m,\u001b[49m\u001b[43m \u001b[49m\u001b[43maxis\u001b[49m\u001b[38;5;241;43m=\u001b[39;49m\u001b[43maxis\u001b[49m\u001b[43m)\u001b[49m\n",
      "File \u001b[1;32m~\\YandexDisk\\ML_projects\\venv\\lib\\site-packages\\pandas\\core\\indexing.py:1312\u001b[0m, in \u001b[0;36m_LocIndexer._getitem_axis\u001b[1;34m(self, key, axis)\u001b[0m\n\u001b[0;32m   1310\u001b[0m \u001b[38;5;66;03m# fall thru to straight lookup\u001b[39;00m\n\u001b[0;32m   1311\u001b[0m \u001b[38;5;28mself\u001b[39m\u001b[38;5;241m.\u001b[39m_validate_key(key, axis)\n\u001b[1;32m-> 1312\u001b[0m \u001b[38;5;28;01mreturn\u001b[39;00m \u001b[38;5;28;43mself\u001b[39;49m\u001b[38;5;241;43m.\u001b[39;49m\u001b[43m_get_label\u001b[49m\u001b[43m(\u001b[49m\u001b[43mkey\u001b[49m\u001b[43m,\u001b[49m\u001b[43m \u001b[49m\u001b[43maxis\u001b[49m\u001b[38;5;241;43m=\u001b[39;49m\u001b[43maxis\u001b[49m\u001b[43m)\u001b[49m\n",
      "File \u001b[1;32m~\\YandexDisk\\ML_projects\\venv\\lib\\site-packages\\pandas\\core\\indexing.py:1260\u001b[0m, in \u001b[0;36m_LocIndexer._get_label\u001b[1;34m(self, label, axis)\u001b[0m\n\u001b[0;32m   1258\u001b[0m \u001b[38;5;28;01mdef\u001b[39;00m \u001b[38;5;21m_get_label\u001b[39m(\u001b[38;5;28mself\u001b[39m, label, axis: \u001b[38;5;28mint\u001b[39m):\n\u001b[0;32m   1259\u001b[0m     \u001b[38;5;66;03m# GH#5567 this will fail if the label is not present in the axis.\u001b[39;00m\n\u001b[1;32m-> 1260\u001b[0m     \u001b[38;5;28;01mreturn\u001b[39;00m \u001b[38;5;28;43mself\u001b[39;49m\u001b[38;5;241;43m.\u001b[39;49m\u001b[43mobj\u001b[49m\u001b[38;5;241;43m.\u001b[39;49m\u001b[43mxs\u001b[49m\u001b[43m(\u001b[49m\u001b[43mlabel\u001b[49m\u001b[43m,\u001b[49m\u001b[43m \u001b[49m\u001b[43maxis\u001b[49m\u001b[38;5;241;43m=\u001b[39;49m\u001b[43maxis\u001b[49m\u001b[43m)\u001b[49m\n",
      "File \u001b[1;32m~\\YandexDisk\\ML_projects\\venv\\lib\\site-packages\\pandas\\core\\generic.py:4056\u001b[0m, in \u001b[0;36mNDFrame.xs\u001b[1;34m(self, key, axis, level, drop_level)\u001b[0m\n\u001b[0;32m   4054\u001b[0m             new_index \u001b[38;5;241m=\u001b[39m index[loc]\n\u001b[0;32m   4055\u001b[0m \u001b[38;5;28;01melse\u001b[39;00m:\n\u001b[1;32m-> 4056\u001b[0m     loc \u001b[38;5;241m=\u001b[39m \u001b[43mindex\u001b[49m\u001b[38;5;241;43m.\u001b[39;49m\u001b[43mget_loc\u001b[49m\u001b[43m(\u001b[49m\u001b[43mkey\u001b[49m\u001b[43m)\u001b[49m\n\u001b[0;32m   4058\u001b[0m     \u001b[38;5;28;01mif\u001b[39;00m \u001b[38;5;28misinstance\u001b[39m(loc, np\u001b[38;5;241m.\u001b[39mndarray):\n\u001b[0;32m   4059\u001b[0m         \u001b[38;5;28;01mif\u001b[39;00m loc\u001b[38;5;241m.\u001b[39mdtype \u001b[38;5;241m==\u001b[39m np\u001b[38;5;241m.\u001b[39mbool_:\n",
      "File \u001b[1;32m~\\YandexDisk\\ML_projects\\venv\\lib\\site-packages\\pandas\\core\\indexes\\range.py:393\u001b[0m, in \u001b[0;36mRangeIndex.get_loc\u001b[1;34m(self, key, method, tolerance)\u001b[0m\n\u001b[0;32m    391\u001b[0m         \u001b[38;5;28;01mreturn\u001b[39;00m \u001b[38;5;28mself\u001b[39m\u001b[38;5;241m.\u001b[39m_range\u001b[38;5;241m.\u001b[39mindex(new_key)\n\u001b[0;32m    392\u001b[0m     \u001b[38;5;28;01mexcept\u001b[39;00m \u001b[38;5;167;01mValueError\u001b[39;00m \u001b[38;5;28;01mas\u001b[39;00m err:\n\u001b[1;32m--> 393\u001b[0m         \u001b[38;5;28;01mraise\u001b[39;00m \u001b[38;5;167;01mKeyError\u001b[39;00m(key) \u001b[38;5;28;01mfrom\u001b[39;00m \u001b[38;5;21;01merr\u001b[39;00m\n\u001b[0;32m    394\u001b[0m \u001b[38;5;28mself\u001b[39m\u001b[38;5;241m.\u001b[39m_check_indexing_error(key)\n\u001b[0;32m    395\u001b[0m \u001b[38;5;28;01mraise\u001b[39;00m \u001b[38;5;167;01mKeyError\u001b[39;00m(key)\n",
      "\u001b[1;31mKeyError\u001b[0m: 2"
     ]
    }
   ],
   "source": [
    "df_total.append(list_data[non_na[2]].loc[2])"
   ]
  },
  {
   "cell_type": "code",
   "execution_count": 33,
   "id": "9673d139",
   "metadata": {
    "pycharm": {
     "name": "#%%\n"
    }
   },
   "outputs": [
    {
     "ename": "ValueError",
     "evalue": "no types given",
     "output_type": "error",
     "traceback": [
      "\u001b[1;31m---------------------------------------------------------------------------\u001b[0m",
      "\u001b[1;31mValueError\u001b[0m                                Traceback (most recent call last)",
      "Cell \u001b[1;32mIn[33], line 1\u001b[0m\n\u001b[1;32m----> 1\u001b[0m \u001b[43mpd\u001b[49m\u001b[38;5;241;43m.\u001b[39;49m\u001b[43mconcat\u001b[49m\u001b[43m(\u001b[49m\u001b[43m[\u001b[49m\u001b[43mdf_total\u001b[49m\u001b[43m,\u001b[49m\u001b[43m \u001b[49m\u001b[43mlist_data\u001b[49m\u001b[43m[\u001b[49m\u001b[43mnon_na\u001b[49m\u001b[43m[\u001b[49m\u001b[38;5;241;43m2\u001b[39;49m\u001b[43m]\u001b[49m\u001b[43m]\u001b[49m\u001b[43m]\u001b[49m\u001b[43m)\u001b[49m\n",
      "File \u001b[1;32m~\\YandexDisk\\ML_projects\\venv\\lib\\site-packages\\pandas\\util\\_decorators.py:331\u001b[0m, in \u001b[0;36mdeprecate_nonkeyword_arguments.<locals>.decorate.<locals>.wrapper\u001b[1;34m(*args, **kwargs)\u001b[0m\n\u001b[0;32m    325\u001b[0m \u001b[38;5;28;01mif\u001b[39;00m \u001b[38;5;28mlen\u001b[39m(args) \u001b[38;5;241m>\u001b[39m num_allow_args:\n\u001b[0;32m    326\u001b[0m     warnings\u001b[38;5;241m.\u001b[39mwarn(\n\u001b[0;32m    327\u001b[0m         msg\u001b[38;5;241m.\u001b[39mformat(arguments\u001b[38;5;241m=\u001b[39m_format_argument_list(allow_args)),\n\u001b[0;32m    328\u001b[0m         \u001b[38;5;167;01mFutureWarning\u001b[39;00m,\n\u001b[0;32m    329\u001b[0m         stacklevel\u001b[38;5;241m=\u001b[39mfind_stack_level(),\n\u001b[0;32m    330\u001b[0m     )\n\u001b[1;32m--> 331\u001b[0m \u001b[38;5;28;01mreturn\u001b[39;00m func(\u001b[38;5;241m*\u001b[39margs, \u001b[38;5;241m*\u001b[39m\u001b[38;5;241m*\u001b[39mkwargs)\n",
      "File \u001b[1;32m~\\YandexDisk\\ML_projects\\venv\\lib\\site-packages\\pandas\\core\\reshape\\concat.py:381\u001b[0m, in \u001b[0;36mconcat\u001b[1;34m(objs, axis, join, ignore_index, keys, levels, names, verify_integrity, sort, copy)\u001b[0m\n\u001b[0;32m    159\u001b[0m \u001b[38;5;250m\u001b[39m\u001b[38;5;124;03m\"\"\"\u001b[39;00m\n\u001b[0;32m    160\u001b[0m \u001b[38;5;124;03mConcatenate pandas objects along a particular axis.\u001b[39;00m\n\u001b[0;32m    161\u001b[0m \n\u001b[1;32m   (...)\u001b[0m\n\u001b[0;32m    366\u001b[0m \u001b[38;5;124;03m1   3   4\u001b[39;00m\n\u001b[0;32m    367\u001b[0m \u001b[38;5;124;03m\"\"\"\u001b[39;00m\n\u001b[0;32m    368\u001b[0m op \u001b[38;5;241m=\u001b[39m _Concatenator(\n\u001b[0;32m    369\u001b[0m     objs,\n\u001b[0;32m    370\u001b[0m     axis\u001b[38;5;241m=\u001b[39maxis,\n\u001b[1;32m   (...)\u001b[0m\n\u001b[0;32m    378\u001b[0m     sort\u001b[38;5;241m=\u001b[39msort,\n\u001b[0;32m    379\u001b[0m )\n\u001b[1;32m--> 381\u001b[0m \u001b[38;5;28;01mreturn\u001b[39;00m \u001b[43mop\u001b[49m\u001b[38;5;241;43m.\u001b[39;49m\u001b[43mget_result\u001b[49m\u001b[43m(\u001b[49m\u001b[43m)\u001b[49m\n",
      "File \u001b[1;32m~\\YandexDisk\\ML_projects\\venv\\lib\\site-packages\\pandas\\core\\reshape\\concat.py:616\u001b[0m, in \u001b[0;36m_Concatenator.get_result\u001b[1;34m(self)\u001b[0m\n\u001b[0;32m    612\u001b[0m             indexers[ax] \u001b[38;5;241m=\u001b[39m obj_labels\u001b[38;5;241m.\u001b[39mget_indexer(new_labels)\n\u001b[0;32m    614\u001b[0m     mgrs_indexers\u001b[38;5;241m.\u001b[39mappend((obj\u001b[38;5;241m.\u001b[39m_mgr, indexers))\n\u001b[1;32m--> 616\u001b[0m new_data \u001b[38;5;241m=\u001b[39m \u001b[43mconcatenate_managers\u001b[49m\u001b[43m(\u001b[49m\n\u001b[0;32m    617\u001b[0m \u001b[43m    \u001b[49m\u001b[43mmgrs_indexers\u001b[49m\u001b[43m,\u001b[49m\u001b[43m \u001b[49m\u001b[38;5;28;43mself\u001b[39;49m\u001b[38;5;241;43m.\u001b[39;49m\u001b[43mnew_axes\u001b[49m\u001b[43m,\u001b[49m\u001b[43m \u001b[49m\u001b[43mconcat_axis\u001b[49m\u001b[38;5;241;43m=\u001b[39;49m\u001b[38;5;28;43mself\u001b[39;49m\u001b[38;5;241;43m.\u001b[39;49m\u001b[43mbm_axis\u001b[49m\u001b[43m,\u001b[49m\u001b[43m \u001b[49m\u001b[43mcopy\u001b[49m\u001b[38;5;241;43m=\u001b[39;49m\u001b[38;5;28;43mself\u001b[39;49m\u001b[38;5;241;43m.\u001b[39;49m\u001b[43mcopy\u001b[49m\n\u001b[0;32m    618\u001b[0m \u001b[43m\u001b[49m\u001b[43m)\u001b[49m\n\u001b[0;32m    619\u001b[0m \u001b[38;5;28;01mif\u001b[39;00m \u001b[38;5;129;01mnot\u001b[39;00m \u001b[38;5;28mself\u001b[39m\u001b[38;5;241m.\u001b[39mcopy:\n\u001b[0;32m    620\u001b[0m     new_data\u001b[38;5;241m.\u001b[39m_consolidate_inplace()\n",
      "File \u001b[1;32m~\\YandexDisk\\ML_projects\\venv\\lib\\site-packages\\pandas\\core\\internals\\concat.py:233\u001b[0m, in \u001b[0;36mconcatenate_managers\u001b[1;34m(mgrs_indexers, axes, concat_axis, copy)\u001b[0m\n\u001b[0;32m    231\u001b[0m     fastpath \u001b[38;5;241m=\u001b[39m blk\u001b[38;5;241m.\u001b[39mvalues\u001b[38;5;241m.\u001b[39mdtype \u001b[38;5;241m==\u001b[39m values\u001b[38;5;241m.\u001b[39mdtype\n\u001b[0;32m    232\u001b[0m \u001b[38;5;28;01melse\u001b[39;00m:\n\u001b[1;32m--> 233\u001b[0m     values \u001b[38;5;241m=\u001b[39m \u001b[43m_concatenate_join_units\u001b[49m\u001b[43m(\u001b[49m\u001b[43mjoin_units\u001b[49m\u001b[43m,\u001b[49m\u001b[43m \u001b[49m\u001b[43mconcat_axis\u001b[49m\u001b[43m,\u001b[49m\u001b[43m \u001b[49m\u001b[43mcopy\u001b[49m\u001b[38;5;241;43m=\u001b[39;49m\u001b[43mcopy\u001b[49m\u001b[43m)\u001b[49m\n\u001b[0;32m    234\u001b[0m     fastpath \u001b[38;5;241m=\u001b[39m \u001b[38;5;28;01mFalse\u001b[39;00m\n\u001b[0;32m    236\u001b[0m \u001b[38;5;28;01mif\u001b[39;00m fastpath:\n",
      "File \u001b[1;32m~\\YandexDisk\\ML_projects\\venv\\lib\\site-packages\\pandas\\core\\internals\\concat.py:537\u001b[0m, in \u001b[0;36m_concatenate_join_units\u001b[1;34m(join_units, concat_axis, copy)\u001b[0m\n\u001b[0;32m    533\u001b[0m \u001b[38;5;28;01mif\u001b[39;00m concat_axis \u001b[38;5;241m==\u001b[39m \u001b[38;5;241m0\u001b[39m \u001b[38;5;129;01mand\u001b[39;00m \u001b[38;5;28mlen\u001b[39m(join_units) \u001b[38;5;241m>\u001b[39m \u001b[38;5;241m1\u001b[39m:\n\u001b[0;32m    534\u001b[0m     \u001b[38;5;66;03m# Concatenating join units along ax0 is handled in _merge_blocks.\u001b[39;00m\n\u001b[0;32m    535\u001b[0m     \u001b[38;5;28;01mraise\u001b[39;00m \u001b[38;5;167;01mAssertionError\u001b[39;00m(\u001b[38;5;124m\"\u001b[39m\u001b[38;5;124mConcatenating join units along axis0\u001b[39m\u001b[38;5;124m\"\u001b[39m)\n\u001b[1;32m--> 537\u001b[0m empty_dtype \u001b[38;5;241m=\u001b[39m \u001b[43m_get_empty_dtype\u001b[49m\u001b[43m(\u001b[49m\u001b[43mjoin_units\u001b[49m\u001b[43m)\u001b[49m\n\u001b[0;32m    539\u001b[0m has_none_blocks \u001b[38;5;241m=\u001b[39m \u001b[38;5;28many\u001b[39m(unit\u001b[38;5;241m.\u001b[39mblock\u001b[38;5;241m.\u001b[39mdtype\u001b[38;5;241m.\u001b[39mkind \u001b[38;5;241m==\u001b[39m \u001b[38;5;124m\"\u001b[39m\u001b[38;5;124mV\u001b[39m\u001b[38;5;124m\"\u001b[39m \u001b[38;5;28;01mfor\u001b[39;00m unit \u001b[38;5;129;01min\u001b[39;00m join_units)\n\u001b[0;32m    540\u001b[0m upcasted_na \u001b[38;5;241m=\u001b[39m _dtype_to_na_value(empty_dtype, has_none_blocks)\n",
      "File \u001b[1;32m~\\YandexDisk\\ML_projects\\venv\\lib\\site-packages\\pandas\\core\\internals\\concat.py:629\u001b[0m, in \u001b[0;36m_get_empty_dtype\u001b[1;34m(join_units)\u001b[0m\n\u001b[0;32m    626\u001b[0m \u001b[38;5;28;01mif\u001b[39;00m \u001b[38;5;129;01mnot\u001b[39;00m \u001b[38;5;28mlen\u001b[39m(dtypes):\n\u001b[0;32m    627\u001b[0m     dtypes \u001b[38;5;241m=\u001b[39m [unit\u001b[38;5;241m.\u001b[39mdtype \u001b[38;5;28;01mfor\u001b[39;00m unit \u001b[38;5;129;01min\u001b[39;00m join_units \u001b[38;5;28;01mif\u001b[39;00m unit\u001b[38;5;241m.\u001b[39mblock\u001b[38;5;241m.\u001b[39mdtype\u001b[38;5;241m.\u001b[39mkind \u001b[38;5;241m!=\u001b[39m \u001b[38;5;124m\"\u001b[39m\u001b[38;5;124mV\u001b[39m\u001b[38;5;124m\"\u001b[39m]\n\u001b[1;32m--> 629\u001b[0m dtype \u001b[38;5;241m=\u001b[39m \u001b[43mfind_common_type\u001b[49m\u001b[43m(\u001b[49m\u001b[43mdtypes\u001b[49m\u001b[43m)\u001b[49m\n\u001b[0;32m    630\u001b[0m \u001b[38;5;28;01mif\u001b[39;00m has_none_blocks:\n\u001b[0;32m    631\u001b[0m     dtype \u001b[38;5;241m=\u001b[39m ensure_dtype_can_hold_na(dtype)\n",
      "File \u001b[1;32m~\\YandexDisk\\ML_projects\\venv\\lib\\site-packages\\pandas\\core\\dtypes\\cast.py:1607\u001b[0m, in \u001b[0;36mfind_common_type\u001b[1;34m(types)\u001b[0m\n\u001b[0;32m   1590\u001b[0m \u001b[38;5;250m\u001b[39m\u001b[38;5;124;03m\"\"\"\u001b[39;00m\n\u001b[0;32m   1591\u001b[0m \u001b[38;5;124;03mFind a common data type among the given dtypes.\u001b[39;00m\n\u001b[0;32m   1592\u001b[0m \n\u001b[1;32m   (...)\u001b[0m\n\u001b[0;32m   1604\u001b[0m \n\u001b[0;32m   1605\u001b[0m \u001b[38;5;124;03m\"\"\"\u001b[39;00m\n\u001b[0;32m   1606\u001b[0m \u001b[38;5;28;01mif\u001b[39;00m \u001b[38;5;129;01mnot\u001b[39;00m types:\n\u001b[1;32m-> 1607\u001b[0m     \u001b[38;5;28;01mraise\u001b[39;00m \u001b[38;5;167;01mValueError\u001b[39;00m(\u001b[38;5;124m\"\u001b[39m\u001b[38;5;124mno types given\u001b[39m\u001b[38;5;124m\"\u001b[39m)\n\u001b[0;32m   1609\u001b[0m first \u001b[38;5;241m=\u001b[39m types[\u001b[38;5;241m0\u001b[39m]\n\u001b[0;32m   1611\u001b[0m \u001b[38;5;66;03m# workaround for find_common_type([np.dtype('datetime64[ns]')] * 2)\u001b[39;00m\n\u001b[0;32m   1612\u001b[0m \u001b[38;5;66;03m# => object\u001b[39;00m\n",
      "\u001b[1;31mValueError\u001b[0m: no types given"
     ]
    }
   ],
   "source": [
    "pd.concat([df_total, list_data[non_na[2]]])"
   ]
  },
  {
   "cell_type": "code",
   "execution_count": 44,
   "id": "4e48aaba",
   "metadata": {
    "pycharm": {
     "name": "#%%\n"
    }
   },
   "outputs": [
    {
     "data": {
      "text/plain": [
       "Отзыв          \\n\\n\\nИнформации о этом ВУЗе в интернете нет (...\n",
       "День                                                          02\n",
       "Месяц                                                         08\n",
       "Год                                                         2022\n",
       "Университет                              Алфёровский университет\n",
       "Name: 0, dtype: object"
      ]
     },
     "execution_count": 44,
     "metadata": {},
     "output_type": "execute_result"
    }
   ],
   "source": [
    "list_data[non_na[2]].loc[0]"
   ]
  },
  {
   "cell_type": "code",
   "execution_count": 52,
   "id": "6c27b7ec",
   "metadata": {
    "pycharm": {
     "name": "#%%\n"
    }
   },
   "outputs": [],
   "source": [
    "df_uni = pd.read_excel('Univercities.xlsx')"
   ]
  },
  {
   "cell_type": "code",
   "execution_count": 54,
   "id": "403383a9",
   "metadata": {
    "pycharm": {
     "name": "#%%\n"
    }
   },
   "outputs": [
    {
     "data": {
      "text/html": [
       "<div>\n",
       "<style scoped>\n",
       "    .dataframe tbody tr th:only-of-type {\n",
       "        vertical-align: middle;\n",
       "    }\n",
       "\n",
       "    .dataframe tbody tr th {\n",
       "        vertical-align: top;\n",
       "    }\n",
       "\n",
       "    .dataframe thead th {\n",
       "        text-align: right;\n",
       "    }\n",
       "</style>\n",
       "<table border=\"1\" class=\"dataframe\">\n",
       "  <thead>\n",
       "    <tr style=\"text-align: right;\">\n",
       "      <th></th>\n",
       "      <th>Отзыв</th>\n",
       "      <th>День</th>\n",
       "      <th>Месяц</th>\n",
       "      <th>Год</th>\n",
       "      <th>Университет</th>\n",
       "    </tr>\n",
       "  </thead>\n",
       "  <tbody>\n",
       "    <tr>\n",
       "      <th>0</th>\n",
       "      <td>\\n\\n\\nИнформации о этом ВУЗе в интернете нет (...</td>\n",
       "      <td>21</td>\n",
       "      <td>8</td>\n",
       "      <td>2021</td>\n",
       "      <td>АГУ</td>\n",
       "    </tr>\n",
       "    <tr>\n",
       "      <th>1</th>\n",
       "      <td>\\n\\n\\nИнформации о этом ВУЗе в интернете нет (...</td>\n",
       "      <td>12</td>\n",
       "      <td>2</td>\n",
       "      <td>2017</td>\n",
       "      <td>АлтГУ</td>\n",
       "    </tr>\n",
       "    <tr>\n",
       "      <th>2</th>\n",
       "      <td>\\n\\n\\nИнформации о этом ВУЗе в интернете нет (...</td>\n",
       "      <td>2</td>\n",
       "      <td>8</td>\n",
       "      <td>2022</td>\n",
       "      <td>Алфёровский университет</td>\n",
       "    </tr>\n",
       "    <tr>\n",
       "      <th>3</th>\n",
       "      <td>\\n\\n\\nЗдравствуйте! Меня зовут Александр. Я жи...</td>\n",
       "      <td>1</td>\n",
       "      <td>11</td>\n",
       "      <td>2016</td>\n",
       "      <td>Алфёровский университет</td>\n",
       "    </tr>\n",
       "    <tr>\n",
       "      <th>4</th>\n",
       "      <td>\\n\\n\\nИнформации о этом ВУЗе в интернете нет (...</td>\n",
       "      <td>8</td>\n",
       "      <td>6</td>\n",
       "      <td>2022</td>\n",
       "      <td>АмГМА</td>\n",
       "    </tr>\n",
       "    <tr>\n",
       "      <th>...</th>\n",
       "      <td>...</td>\n",
       "      <td>...</td>\n",
       "      <td>...</td>\n",
       "      <td>...</td>\n",
       "      <td>...</td>\n",
       "    </tr>\n",
       "    <tr>\n",
       "      <th>1696</th>\n",
       "      <td>\\n\\n\\nЗа 5 лет повидала многого, но по порядку...</td>\n",
       "      <td>8</td>\n",
       "      <td>11</td>\n",
       "      <td>2017</td>\n",
       "      <td>ЮФУ</td>\n",
       "    </tr>\n",
       "    <tr>\n",
       "      <th>1697</th>\n",
       "      <td>\\n\\n\\nИнформации о этом ВУЗе в интернете нет (...</td>\n",
       "      <td>23</td>\n",
       "      <td>6</td>\n",
       "      <td>2021</td>\n",
       "      <td>ЯГПУ им. Ушинского</td>\n",
       "    </tr>\n",
       "    <tr>\n",
       "      <th>1698</th>\n",
       "      <td>\\n\\n\\nЗдравствуйте! Меня зовут Александр. Я жи...</td>\n",
       "      <td>1</td>\n",
       "      <td>3</td>\n",
       "      <td>2021</td>\n",
       "      <td>ЯГПУ им. Ушинского</td>\n",
       "    </tr>\n",
       "    <tr>\n",
       "      <th>1699</th>\n",
       "      <td>\\n\\n\\nС удивлением для себя обнаружил, что про...</td>\n",
       "      <td>16</td>\n",
       "      <td>2</td>\n",
       "      <td>2021</td>\n",
       "      <td>ЯГПУ им. Ушинского</td>\n",
       "    </tr>\n",
       "    <tr>\n",
       "      <th>1700</th>\n",
       "      <td>\\n\\n\\nИнформации о этом ВУЗе в интернете нет (...</td>\n",
       "      <td>20</td>\n",
       "      <td>2</td>\n",
       "      <td>2023</td>\n",
       "      <td>ЯрГУ</td>\n",
       "    </tr>\n",
       "  </tbody>\n",
       "</table>\n",
       "<p>1701 rows × 5 columns</p>\n",
       "</div>"
      ],
      "text/plain": [
       "                                                  Отзыв  День  Месяц   Год  \\\n",
       "0     \\n\\n\\nИнформации о этом ВУЗе в интернете нет (...    21      8  2021   \n",
       "1     \\n\\n\\nИнформации о этом ВУЗе в интернете нет (...    12      2  2017   \n",
       "2     \\n\\n\\nИнформации о этом ВУЗе в интернете нет (...     2      8  2022   \n",
       "3     \\n\\n\\nЗдравствуйте! Меня зовут Александр. Я жи...     1     11  2016   \n",
       "4     \\n\\n\\nИнформации о этом ВУЗе в интернете нет (...     8      6  2022   \n",
       "...                                                 ...   ...    ...   ...   \n",
       "1696  \\n\\n\\nЗа 5 лет повидала многого, но по порядку...     8     11  2017   \n",
       "1697  \\n\\n\\nИнформации о этом ВУЗе в интернете нет (...    23      6  2021   \n",
       "1698  \\n\\n\\nЗдравствуйте! Меня зовут Александр. Я жи...     1      3  2021   \n",
       "1699  \\n\\n\\nС удивлением для себя обнаружил, что про...    16      2  2021   \n",
       "1700  \\n\\n\\nИнформации о этом ВУЗе в интернете нет (...    20      2  2023   \n",
       "\n",
       "                  Университет  \n",
       "0                         АГУ  \n",
       "1                       АлтГУ  \n",
       "2     Алфёровский университет  \n",
       "3     Алфёровский университет  \n",
       "4                       АмГМА  \n",
       "...                       ...  \n",
       "1696                      ЮФУ  \n",
       "1697       ЯГПУ им. Ушинского  \n",
       "1698       ЯГПУ им. Ушинского  \n",
       "1699       ЯГПУ им. Ушинского  \n",
       "1700                     ЯрГУ  \n",
       "\n",
       "[1701 rows x 5 columns]"
      ]
     },
     "execution_count": 54,
     "metadata": {},
     "output_type": "execute_result"
    }
   ],
   "source": [
    "df_uni = df_uni.drop('Unnamed: 0', axis = 1)\n",
    "df_uni"
   ]
  },
  {
   "cell_type": "code",
   "execution_count": 66,
   "id": "81c6d9fd",
   "metadata": {
    "pycharm": {
     "name": "#%%\n"
    }
   },
   "outputs": [],
   "source": [
    "import nltk\n",
    "import re"
   ]
  },
  {
   "cell_type": "code",
   "execution_count": 71,
   "id": "ba75ecef",
   "metadata": {
    "pycharm": {
     "name": "#%%\n"
    }
   },
   "outputs": [
    {
     "name": "stderr",
     "output_type": "stream",
     "text": [
      "[nltk_data] Downloading package wordnet to\n",
      "[nltk_data]     C:\\Users\\Iljam\\AppData\\Roaming\\nltk_data...\n"
     ]
    },
    {
     "data": {
      "text/plain": [
       "True"
      ]
     },
     "execution_count": 71,
     "metadata": {},
     "output_type": "execute_result"
    }
   ],
   "source": [
    "nltk.download('wordnet')"
   ]
  },
  {
   "cell_type": "code",
   "execution_count": 63,
   "id": "93a5f378",
   "metadata": {
    "pycharm": {
     "name": "#%%\n"
    }
   },
   "outputs": [
    {
     "data": {
      "application/vnd.jupyter.widget-view+json": {
       "model_id": "6d0bfc2c0a8744dba8d313c77100fab3",
       "version_major": 2,
       "version_minor": 0
      },
      "text/plain": [
       "  0%|          | 0/1701 [00:00<?, ?it/s]"
      ]
     },
     "metadata": {},
     "output_type": "display_data"
    }
   ],
   "source": [
    "for text in tqdm(df_uni['Отзыв']):\n",
    "    tokens_list = nltk.word_tokenize(text)\n",
    "    tokens_lsit_1 = []"
   ]
  },
  {
   "cell_type": "code",
   "execution_count": 64,
   "id": "589b868b",
   "metadata": {
    "pycharm": {
     "name": "#%%\n"
    }
   },
   "outputs": [
    {
     "data": {
      "application/vnd.jupyter.widget-view+json": {
       "model_id": "2bb717489eb64699a7fbdf111095998a",
       "version_major": 2,
       "version_minor": 0
      },
      "text/plain": [
       "  0%|          | 0/424 [00:00<?, ?it/s]"
      ]
     },
     "metadata": {},
     "output_type": "display_data"
    }
   ],
   "source": [
    "for token in tqdm(tokens_list):\n",
    "    tokens_lsit_1.append(token.lower())"
   ]
  },
  {
   "cell_type": "code",
   "execution_count": 67,
   "id": "a10476b4",
   "metadata": {
    "pycharm": {
     "name": "#%%\n"
    }
   },
   "outputs": [
    {
     "data": {
      "application/vnd.jupyter.widget-view+json": {
       "model_id": "2a287df199f241afa9d51208b7829aaa",
       "version_major": 2,
       "version_minor": 0
      },
      "text/plain": [
       "  0%|          | 0/424 [00:00<?, ?it/s]"
      ]
     },
     "metadata": {},
     "output_type": "display_data"
    }
   ],
   "source": [
    "token_list_2 = []\n",
    "for token in tqdm(tokens_lsit_1):\n",
    "    if re.search('\\w', token ) != None:\n",
    "        token_list_2.append(token)"
   ]
  },
  {
   "cell_type": "code",
   "execution_count": 72,
   "id": "e8f8417a",
   "metadata": {
    "pycharm": {
     "name": "#%%\n"
    }
   },
   "outputs": [],
   "source": [
    "from nltk.stem import WordNetLemmatizer\n",
    "tag_list = ['JJ', 'JJR','JJS','NN','NNS','NNP','NNPS','VB','VBD','VBG','VBN','VBZ']\n",
    "token_list_3 = []\n",
    "\n",
    "for x in nltk.pos_tag(token_list_2):\n",
    "    if x[1] in tag_list:\n",
    "        if x[1] in ['JJ', 'JJR','JJS']:\n",
    "            token_list_3.append(WordNetLemmatizer().lemmatize(x[0] , pos = 'a'))\n",
    "        elif x[1] in ['NN','NNS','NNP','NNPS']:\n",
    "            token_list_3.append(WordNetLemmatizer().lemmatize(x[0] , pos = 'n'))\n",
    "        elif x[1] in  ['VB','VBD','VBG','VBN','VBZ']:\n",
    "            token_list_3.append(WordNetLemmatizer().lemmatize(x[0] , pos = 'v'))"
   ]
  },
  {
   "cell_type": "code",
   "execution_count": 73,
   "id": "53fabd8d",
   "metadata": {
    "pycharm": {
     "name": "#%%\n"
    }
   },
   "outputs": [],
   "source": [
    "text_lem_list = []\n",
    "text_lem_list.append(' '.join(token_list_3))"
   ]
  },
  {
   "cell_type": "code",
   "execution_count": 74,
   "id": "0a301ad7",
   "metadata": {
    "pycharm": {
     "name": "#%%\n"
    }
   },
   "outputs": [
    {
     "data": {
      "text/plain": [
       "['информации о этом вузе в интернете нет помимо официальной пора это исправить пишу со слов бывшего первокурсника пми о экзаменационных предметах алгебра дают и требуют матанализ вы его полюбите программирование за него сказать не могу будет новый препод во втором семестре появляется пара новых дискретная математика тяжёлый предмет дают его нудно но при желании его можно понять архитектура эвм благодаря этому предмету вы привыкните к самообразованию о неосновных предметах история семестр для того чтобы получить зачёт вам нужно будет подготовить минимум реферата и быть на парах преподаватель своеобразный.3 английский тут уж как повезёт если попадёте в сильную группу то ваши знания будут зависеть только от вас иначе ждёт куча домашки привет школа и желание учить english в универе отпадёт совсем русский семестр фразеололгизмов anki в помощь и будь на парах и зачёт в кармане физкультура пары в неделю если не пропускать то всё будет ок основы современной математики интересный но проходной предмет в целом если вы действительно хотите учится вас здесь не бросят а если оболтуз забь показать полностью ют болт совмещать работу и учебу можно только получить 4-5 будет сложно город норм особого криминала нет далее скромное мнение автора отзыва дорогой абитур если ты хочешь стать мегасуперкрутым прогером и грести в наносекунду знай сабж не может дать тебе этого как и никакой другой вуз лучше езжай в столицы и пытайся пробиться там но если у тебя в почёте математика и чилл а егэ пошло н то это место для тебя часа до моря и игорных домов сочи горы и весёлый местный народ сделают твою молодость незабываемой а если ты ещё уроженец юфо то советую пресмотреться к сабжу вдвойне внимательно совместная туса с физтехом в которую вливаются студенты с курса выглядет многообещающе в плане образования p.s спонсором данного отзыва является фонд агу автор выражает личную благодарность за подаренную ему шаурму']"
      ]
     },
     "execution_count": 74,
     "metadata": {},
     "output_type": "execute_result"
    }
   ],
   "source": [
    "text_lem_list"
   ]
  },
  {
   "cell_type": "code",
   "execution_count": 77,
   "id": "160f5ad1",
   "metadata": {
    "pycharm": {
     "name": "#%%\n"
    }
   },
   "outputs": [
    {
     "name": "stdout",
     "output_type": "stream",
     "text": [
      "Collecting transformers\n",
      "  Downloading transformers-4.27.4-py3-none-any.whl (6.8 MB)\n",
      "Requirement already satisfied: filelock in c:\\users\\iljam\\yandexdisk\\ml_projects\\venv\\lib\\site-packages (from transformers) (3.11.0)\n",
      "Collecting huggingface-hub<1.0,>=0.11.0\n",
      "  Downloading huggingface_hub-0.13.4-py3-none-any.whl (200 kB)\n",
      "Requirement already satisfied: regex!=2019.12.17 in c:\\users\\iljam\\yandexdisk\\ml_projects\\venv\\lib\\site-packages (from transformers) (2023.3.23)\n",
      "Collecting tokenizers!=0.11.3,<0.14,>=0.11.1\n",
      "  Downloading tokenizers-0.13.3-cp39-cp39-win_amd64.whl (3.5 MB)\n",
      "Requirement already satisfied: requests in c:\\users\\iljam\\yandexdisk\\ml_projects\\venv\\lib\\site-packages (from transformers) (2.28.2)\n",
      "Requirement already satisfied: packaging>=20.0 in c:\\users\\iljam\\yandexdisk\\ml_projects\\venv\\lib\\site-packages (from transformers) (23.0)\n",
      "Requirement already satisfied: pyyaml>=5.1 in c:\\users\\iljam\\yandexdisk\\ml_projects\\venv\\lib\\site-packages (from transformers) (6.0)\n",
      "Requirement already satisfied: numpy>=1.17 in c:\\users\\iljam\\yandexdisk\\ml_projects\\venv\\lib\\site-packages (from transformers) (1.24.2)\n",
      "Requirement already satisfied: tqdm>=4.27 in c:\\users\\iljam\\yandexdisk\\ml_projects\\venv\\lib\\site-packages (from transformers) (4.64.1)\n",
      "Requirement already satisfied: typing-extensions>=3.7.4.3 in c:\\users\\iljam\\yandexdisk\\ml_projects\\venv\\lib\\site-packages (from huggingface-hub<1.0,>=0.11.0->transformers) (4.5.0)\n",
      "Requirement already satisfied: colorama in c:\\users\\iljam\\yandexdisk\\ml_projects\\venv\\lib\\site-packages (from tqdm>=4.27->transformers) (0.4.6)\n",
      "Requirement already satisfied: idna<4,>=2.5 in c:\\users\\iljam\\yandexdisk\\ml_projects\\venv\\lib\\site-packages (from requests->transformers) (3.4)\n",
      "Requirement already satisfied: certifi>=2017.4.17 in c:\\users\\iljam\\yandexdisk\\ml_projects\\venv\\lib\\site-packages (from requests->transformers) (2022.12.7)\n",
      "Requirement already satisfied: urllib3<1.27,>=1.21.1 in c:\\users\\iljam\\yandexdisk\\ml_projects\\venv\\lib\\site-packages (from requests->transformers) (1.26.14)\n",
      "Requirement already satisfied: charset-normalizer<4,>=2 in c:\\users\\iljam\\yandexdisk\\ml_projects\\venv\\lib\\site-packages (from requests->transformers) (3.0.1)\n",
      "Installing collected packages: tokenizers, huggingface-hub, transformers\n",
      "Successfully installed huggingface-hub-0.13.4 tokenizers-0.13.3 transformers-4.27.4\n"
     ]
    },
    {
     "name": "stderr",
     "output_type": "stream",
     "text": [
      "WARNING: You are using pip version 21.3.1; however, version 23.0.1 is available.\n",
      "You should consider upgrading via the 'C:\\Users\\Iljam\\YandexDisk\\ML_projects\\venv\\Scripts\\python.exe -m pip install --upgrade pip' command.\n"
     ]
    }
   ],
   "source": [
    "!pip install transformers"
   ]
  },
  {
   "cell_type": "code",
   "execution_count": 78,
   "id": "0954b85d",
   "metadata": {
    "pycharm": {
     "name": "#%%\n"
    }
   },
   "outputs": [
    {
     "data": {
      "application/vnd.jupyter.widget-view+json": {
       "model_id": "754429f1aaab4028820e60c208f2efbc",
       "version_major": 2,
       "version_minor": 0
      },
      "text/plain": [
       "Downloading (…)okenizer_config.json:   0%|          | 0.00/377 [00:00<?, ?B/s]"
      ]
     },
     "metadata": {},
     "output_type": "display_data"
    },
    {
     "name": "stderr",
     "output_type": "stream",
     "text": [
      "C:\\Users\\Iljam\\YandexDisk\\ML_projects\\venv\\lib\\site-packages\\huggingface_hub\\file_download.py:133: UserWarning: `huggingface_hub` cache-system uses symlinks by default to efficiently store duplicated files but your machine does not support them in C:\\Users\\Iljam\\.cache\\huggingface\\hub. Caching files will still work but in a degraded version that might require more space on your disk. This warning can be disabled by setting the `HF_HUB_DISABLE_SYMLINKS_WARNING` environment variable. For more details, see https://huggingface.co/docs/huggingface_hub/how-to-cache#limitations.\n",
      "To support symlinks on Windows, you either need to activate Developer Mode or to run Python as an administrator. In order to see activate developer mode, see this article: https://docs.microsoft.com/en-us/windows/apps/get-started/enable-your-device-for-development\n",
      "  warnings.warn(message)\n"
     ]
    },
    {
     "data": {
      "application/vnd.jupyter.widget-view+json": {
       "model_id": "c4a7884807994231af035be8d6dbe095",
       "version_major": 2,
       "version_minor": 0
      },
      "text/plain": [
       "Downloading (…)solve/main/vocab.txt:   0%|          | 0.00/241k [00:00<?, ?B/s]"
      ]
     },
     "metadata": {},
     "output_type": "display_data"
    },
    {
     "data": {
      "application/vnd.jupyter.widget-view+json": {
       "model_id": "a58cc2aece814cfa9fa25b3f0e16ea2c",
       "version_major": 2,
       "version_minor": 0
      },
      "text/plain": [
       "Downloading (…)/main/tokenizer.json:   0%|          | 0.00/468k [00:00<?, ?B/s]"
      ]
     },
     "metadata": {},
     "output_type": "display_data"
    },
    {
     "data": {
      "application/vnd.jupyter.widget-view+json": {
       "model_id": "0553109a7ee9447da58e5a0fca30160b",
       "version_major": 2,
       "version_minor": 0
      },
      "text/plain": [
       "Downloading (…)cial_tokens_map.json:   0%|          | 0.00/112 [00:00<?, ?B/s]"
      ]
     },
     "metadata": {},
     "output_type": "display_data"
    },
    {
     "data": {
      "application/vnd.jupyter.widget-view+json": {
       "model_id": "6b05add0fc7f4e4b8a9283d47204304f",
       "version_major": 2,
       "version_minor": 0
      },
      "text/plain": [
       "Downloading (…)lve/main/config.json:   0%|          | 0.00/884 [00:00<?, ?B/s]"
      ]
     },
     "metadata": {},
     "output_type": "display_data"
    },
    {
     "data": {
      "application/vnd.jupyter.widget-view+json": {
       "model_id": "6d8aa54e27fa47b88a0203a01c43d875",
       "version_major": 2,
       "version_minor": 0
      },
      "text/plain": [
       "Downloading pytorch_model.bin:   0%|          | 0.00/47.2M [00:00<?, ?B/s]"
      ]
     },
     "metadata": {},
     "output_type": "display_data"
    }
   ],
   "source": [
    "import torch\n",
    "from transformers import AutoTokenizer, AutoModelForSequenceClassification\n",
    "\n",
    "model_checkpoint = 'cointegrated/rubert-tiny-sentiment-balanced'\n",
    "tokenizer = AutoTokenizer.from_pretrained(model_checkpoint)\n",
    "model = AutoModelForSequenceClassification.from_pretrained(model_checkpoint)\n",
    "if torch.cuda.is_available():\n",
    "    model.cuda()\n",
    "\n",
    "def get_sentiment(text, return_type='label'):\n",
    "    \"\"\" Calculate sentiment of a text. `return_type` can be 'label', 'score' or 'proba' \"\"\"\n",
    "    with torch.no_grad():\n",
    "        inputs = tokenizer(text, return_tensors='pt', truncation=True, padding=True).to(model.device)\n",
    "        proba = torch.sigmoid(model(**inputs).logits).cpu().numpy()[0]\n",
    "    if return_type == 'label':\n",
    "        return model.config.id2label[proba.argmax()]\n",
    "    elif return_type == 'score':\n",
    "        return proba.dot([-1, 0, 1])\n",
    "    return proba"
   ]
  },
  {
   "cell_type": "code",
   "execution_count": 79,
   "id": "81ac8394",
   "metadata": {
    "pycharm": {
     "name": "#%%\n"
    }
   },
   "outputs": [],
   "source": [
    "sentiment_list = []\n",
    "for text in df_uni['Отзыв']:\n",
    "    sentiment_list.append(get_sentiment(text, 'score'))"
   ]
  },
  {
   "cell_type": "code",
   "execution_count": 81,
   "id": "c03d8dc0",
   "metadata": {
    "pycharm": {
     "name": "#%%\n"
    }
   },
   "outputs": [
    {
     "data": {
      "text/plain": [
       "1701"
      ]
     },
     "execution_count": 81,
     "metadata": {},
     "output_type": "execute_result"
    }
   ],
   "source": [
    "len(sentiment_list)"
   ]
  },
  {
   "cell_type": "code",
   "execution_count": 82,
   "id": "b59efba1",
   "metadata": {
    "pycharm": {
     "name": "#%%\n"
    }
   },
   "outputs": [],
   "source": [
    "df_uni['Тональность'] = sentiment_list"
   ]
  },
  {
   "cell_type": "code",
   "execution_count": 83,
   "id": "c3de3cc6",
   "metadata": {
    "pycharm": {
     "name": "#%%\n"
    }
   },
   "outputs": [
    {
     "data": {
      "application/vnd.jupyter.widget-view+json": {
       "model_id": "c29bfe2881394635a13146fa572090e8",
       "version_major": 2,
       "version_minor": 0
      },
      "text/plain": [
       "Downloading (…)okenizer_config.json:   0%|          | 0.00/550 [00:00<?, ?B/s]"
      ]
     },
     "metadata": {},
     "output_type": "display_data"
    },
    {
     "data": {
      "application/vnd.jupyter.widget-view+json": {
       "model_id": "f953e593f3b644c6a361a67df4b2f8cc",
       "version_major": 2,
       "version_minor": 0
      },
      "text/plain": [
       "Downloading (…)solve/main/vocab.txt:   0%|          | 0.00/1.40M [00:00<?, ?B/s]"
      ]
     },
     "metadata": {},
     "output_type": "display_data"
    },
    {
     "data": {
      "application/vnd.jupyter.widget-view+json": {
       "model_id": "8fdb47e3fff54399a12c9438829aa8b7",
       "version_major": 2,
       "version_minor": 0
      },
      "text/plain": [
       "Downloading (…)/main/tokenizer.json:   0%|          | 0.00/3.01M [00:00<?, ?B/s]"
      ]
     },
     "metadata": {},
     "output_type": "display_data"
    },
    {
     "data": {
      "application/vnd.jupyter.widget-view+json": {
       "model_id": "d05a2bc2ff474111b972ea6f6cb49ea4",
       "version_major": 2,
       "version_minor": 0
      },
      "text/plain": [
       "Downloading (…)in/added_tokens.json:   0%|          | 0.00/28.0 [00:00<?, ?B/s]"
      ]
     },
     "metadata": {},
     "output_type": "display_data"
    },
    {
     "data": {
      "application/vnd.jupyter.widget-view+json": {
       "model_id": "a8207039ed6942b68231c4bd7fb8caf6",
       "version_major": 2,
       "version_minor": 0
      },
      "text/plain": [
       "Downloading (…)cial_tokens_map.json:   0%|          | 0.00/163 [00:00<?, ?B/s]"
      ]
     },
     "metadata": {},
     "output_type": "display_data"
    },
    {
     "data": {
      "application/vnd.jupyter.widget-view+json": {
       "model_id": "ce533e4050de4546ad6517dd8294096c",
       "version_major": 2,
       "version_minor": 0
      },
      "text/plain": [
       "Downloading (…)lve/main/config.json:   0%|          | 0.00/1.15k [00:00<?, ?B/s]"
      ]
     },
     "metadata": {},
     "output_type": "display_data"
    },
    {
     "data": {
      "application/vnd.jupyter.widget-view+json": {
       "model_id": "eb946867243040bebe21a1367029dcfc",
       "version_major": 2,
       "version_minor": 0
      },
      "text/plain": [
       "Downloading pytorch_model.bin:   0%|          | 0.00/654M [00:00<?, ?B/s]"
      ]
     },
     "metadata": {},
     "output_type": "display_data"
    }
   ],
   "source": [
    "import torch\n",
    "from transformers import AutoTokenizer, AutoModelForSequenceClassification\n",
    "tokenizer = AutoTokenizer.from_pretrained('tinkoff-ai/response-toxicity-classifier-base')\n",
    "model = AutoModelForSequenceClassification.from_pretrained('tinkoff-ai/response-toxicity-classifier-base')"
   ]
  },
  {
   "cell_type": "code",
   "execution_count": 84,
   "id": "e142a666",
   "metadata": {
    "pycharm": {
     "name": "#%%\n"
    }
   },
   "outputs": [
    {
     "data": {
      "application/vnd.jupyter.widget-view+json": {
       "model_id": "393cad9635ee4342a0b6bdf0199a1002",
       "version_major": 2,
       "version_minor": 0
      },
      "text/plain": [
       "  0%|          | 0/1701 [00:00<?, ?it/s]"
      ]
     },
     "metadata": {},
     "output_type": "display_data"
    },
    {
     "name": "stderr",
     "output_type": "stream",
     "text": [
      "Truncation was not explicitly activated but `max_length` is provided a specific value, please use `truncation=True` to explicitly truncate examples to max length. Defaulting to 'longest_first' truncation strategy. If you encode pairs of sequences (GLUE-style) with the tokenizer you can select this strategy more precisely by providing a specific strategy to `truncation`.\n"
     ]
    }
   ],
   "source": [
    "sentiment_list = []\n",
    "for text in tqdm(df_uni['Отзыв']):\n",
    "    inputs = tokenizer(text, max_length=512, add_special_tokens=False, return_tensors='pt')\n",
    "    with torch.inference_mode():\n",
    "        logits = model(**inputs).logits\n",
    "        probas = torch.softmax(logits, dim=-1)[0].cpu().detach().numpy()\n",
    "        sentiment_list.append(probas)"
   ]
  },
  {
   "cell_type": "code",
   "execution_count": 85,
   "id": "66230b57",
   "metadata": {
    "pycharm": {
     "name": "#%%\n"
    }
   },
   "outputs": [
    {
     "data": {
      "text/plain": [
       "1701"
      ]
     },
     "execution_count": 85,
     "metadata": {},
     "output_type": "execute_result"
    }
   ],
   "source": [
    "len(sentiment_list)"
   ]
  },
  {
   "cell_type": "code",
   "execution_count": 86,
   "id": "a8332a3d",
   "metadata": {
    "pycharm": {
     "name": "#%%\n"
    }
   },
   "outputs": [],
   "source": [
    "df_uni['Токсичность_1'] = sentiment_list"
   ]
  },
  {
   "cell_type": "code",
   "execution_count": 87,
   "id": "ef69b641",
   "metadata": {
    "pycharm": {
     "name": "#%%\n"
    }
   },
   "outputs": [
    {
     "data": {
      "application/vnd.jupyter.widget-view+json": {
       "model_id": "49e92d02d89e4ac89e4216c21066724b",
       "version_major": 2,
       "version_minor": 0
      },
      "text/plain": [
       "Downloading (…)okenizer_config.json:   0%|          | 0.00/379 [00:00<?, ?B/s]"
      ]
     },
     "metadata": {},
     "output_type": "display_data"
    },
    {
     "data": {
      "application/vnd.jupyter.widget-view+json": {
       "model_id": "5e060439bf96454c9df92000ded2f227",
       "version_major": 2,
       "version_minor": 0
      },
      "text/plain": [
       "Downloading (…)solve/main/vocab.txt:   0%|          | 0.00/1.08M [00:00<?, ?B/s]"
      ]
     },
     "metadata": {},
     "output_type": "display_data"
    },
    {
     "data": {
      "application/vnd.jupyter.widget-view+json": {
       "model_id": "2565b28336f04e2eb4f56f2b04b67490",
       "version_major": 2,
       "version_minor": 0
      },
      "text/plain": [
       "Downloading (…)/main/tokenizer.json:   0%|          | 0.00/2.41M [00:00<?, ?B/s]"
      ]
     },
     "metadata": {},
     "output_type": "display_data"
    },
    {
     "data": {
      "application/vnd.jupyter.widget-view+json": {
       "model_id": "263cc2df3b234b78913683a34e772d35",
       "version_major": 2,
       "version_minor": 0
      },
      "text/plain": [
       "Downloading (…)cial_tokens_map.json:   0%|          | 0.00/112 [00:00<?, ?B/s]"
      ]
     },
     "metadata": {},
     "output_type": "display_data"
    },
    {
     "data": {
      "application/vnd.jupyter.widget-view+json": {
       "model_id": "5af785ffa636451e980e3a503612c799",
       "version_major": 2,
       "version_minor": 0
      },
      "text/plain": [
       "Downloading (…)lve/main/config.json:   0%|          | 0.00/1.06k [00:00<?, ?B/s]"
      ]
     },
     "metadata": {},
     "output_type": "display_data"
    },
    {
     "data": {
      "application/vnd.jupyter.widget-view+json": {
       "model_id": "d8fba9ea8f804a08a3e55c53764e4c5b",
       "version_major": 2,
       "version_minor": 0
      },
      "text/plain": [
       "Downloading pytorch_model.bin:   0%|          | 0.00/117M [00:00<?, ?B/s]"
      ]
     },
     "metadata": {},
     "output_type": "display_data"
    }
   ],
   "source": [
    "from transformers import BertForSequenceClassification\n",
    "\n",
    "LABELS = ['neutral', 'happiness', 'sadness', 'enthusiasm', 'fear', 'anger', 'disgust']\n",
    "tokenizer = AutoTokenizer.from_pretrained('Aniemore/rubert-tiny2-russian-emotion-detection')\n",
    "model = BertForSequenceClassification.from_pretrained('Aniemore/rubert-tiny2-russian-emotion-detection')\n",
    "\n",
    "@torch.no_grad()\n",
    "def predict_emotion(text: str) -> str:\n",
    "    \"\"\"\n",
    "        We take the input text, tokenize it, pass it through the model, and then return the predicted label\n",
    "        :param text: The text to be classified\n",
    "        :type text: str\n",
    "        :return: The predicted emotion\n",
    "    \"\"\"\n",
    "    inputs = tokenizer(text, max_length=512, padding=True, truncation=True, return_tensors='pt')\n",
    "    outputs = model(**inputs)\n",
    "    predicted = torch.nn.functional.softmax(outputs.logits, dim=1)\n",
    "    predicted = torch.argmax(predicted, dim=1).numpy()\n",
    "\n",
    "    return LABELS[predicted[0]]\n",
    "\n",
    "@torch.no_grad()\n",
    "def predict_emotions(text: str) -> list:\n",
    "    \"\"\"\n",
    "        It takes a string of text, tokenizes it, feeds it to the model, and returns a dictionary of emotions and their\n",
    "        probabilities\n",
    "        :param text: The text you want to classify\n",
    "        :type text: str\n",
    "        :return: A dictionary of emotions and their probabilities.\n",
    "    \"\"\"\n",
    "    inputs = tokenizer(text, max_length=512, padding=True, truncation=True, return_tensors='pt')\n",
    "    outputs = model(**inputs)\n",
    "    predicted = torch.nn.functional.softmax(outputs.logits, dim=1)\n",
    "    emotions_list = {}\n",
    "    for i in range(len(predicted.numpy()[0].tolist())):\n",
    "        emotions_list[LABELS[i]] = predicted.numpy()[0].tolist()[i]\n",
    "    return emotions_list"
   ]
  },
  {
   "cell_type": "code",
   "execution_count": 88,
   "id": "5f5f82a7",
   "metadata": {
    "pycharm": {
     "name": "#%%\n"
    }
   },
   "outputs": [
    {
     "data": {
      "application/vnd.jupyter.widget-view+json": {
       "model_id": "3978fe1aba6b43429b61dafac7fc80b8",
       "version_major": 2,
       "version_minor": 0
      },
      "text/plain": [
       "  0%|          | 0/1701 [00:00<?, ?it/s]"
      ]
     },
     "metadata": {},
     "output_type": "display_data"
    }
   ],
   "source": [
    "sentiment_list = []\n",
    "tqdm.pandas(desc='Processing Dataframe')\n",
    "for text in tqdm(df_uni['Отзыв']):\n",
    "    sentiment_list.append(predict_emotions(text))"
   ]
  },
  {
   "cell_type": "code",
   "execution_count": 89,
   "id": "14f74b13",
   "metadata": {
    "pycharm": {
     "name": "#%%\n"
    }
   },
   "outputs": [
    {
     "data": {
      "text/plain": [
       "[{'neutral': 0.0632552057504654,\n",
       "  'happiness': 0.007993282750248909,\n",
       "  'sadness': 0.07387907058000565,\n",
       "  'enthusiasm': 0.07502827048301697,\n",
       "  'fear': 0.3409048914909363,\n",
       "  'anger': 0.4268500804901123,\n",
       "  'disgust': 0.01208913791924715},\n",
       " {'neutral': 0.05574873834848404,\n",
       "  'happiness': 0.008815949782729149,\n",
       "  'sadness': 0.055222101509571075,\n",
       "  'enthusiasm': 0.0739891305565834,\n",
       "  'fear': 0.4189966917037964,\n",
       "  'anger': 0.3756764233112335,\n",
       "  'disgust': 0.011550898663699627},\n",
       " {'neutral': 0.05574873834848404,\n",
       "  'happiness': 0.008815949782729149,\n",
       "  'sadness': 0.055222101509571075,\n",
       "  'enthusiasm': 0.0739891305565834,\n",
       "  'fear': 0.4189966917037964,\n",
       "  'anger': 0.3756764233112335,\n",
       "  'disgust': 0.011550898663699627},\n",
       " {'neutral': 0.0005717346793971956,\n",
       "  'happiness': 0.9970797896385193,\n",
       "  'sadness': 0.0003491798706818372,\n",
       "  'enthusiasm': 0.0005371652077883482,\n",
       "  'fear': 0.0006938545266166329,\n",
       "  'anger': 0.0005797261255793273,\n",
       "  'disgust': 0.00018845629529096186},\n",
       " {'neutral': 0.05574873834848404,\n",
       "  'happiness': 0.008815949782729149,\n",
       "  'sadness': 0.055222101509571075,\n",
       "  'enthusiasm': 0.0739891305565834,\n",
       "  'fear': 0.4189966917037964,\n",
       "  'anger': 0.3756764233112335,\n",
       "  'disgust': 0.011550898663699627},\n",
       " {'neutral': 0.9995328187942505,\n",
       "  'happiness': 7.9876568634063e-05,\n",
       "  'sadness': 0.00010978995851473883,\n",
       "  'enthusiasm': 8.596843690611422e-05,\n",
       "  'fear': 7.608976738993078e-05,\n",
       "  'anger': 7.184350397437811e-05,\n",
       "  'disgust': 4.3781936255982146e-05},\n",
       " {'neutral': 0.13309262692928314,\n",
       "  'happiness': 0.004132977221161127,\n",
       "  'sadness': 0.12265632301568985,\n",
       "  'enthusiasm': 0.06178214028477669,\n",
       "  'fear': 0.07634252309799194,\n",
       "  'anger': 0.5901777744293213,\n",
       "  'disgust': 0.01181564200669527},\n",
       " {'neutral': 0.0005717346793971956,\n",
       "  'happiness': 0.9970797896385193,\n",
       "  'sadness': 0.0003491798706818372,\n",
       "  'enthusiasm': 0.0005371652077883482,\n",
       "  'fear': 0.0006938545266166329,\n",
       "  'anger': 0.0005797261255793273,\n",
       "  'disgust': 0.00018845629529096186},\n",
       " {'neutral': 0.05574873834848404,\n",
       "  'happiness': 0.008815949782729149,\n",
       "  'sadness': 0.055222101509571075,\n",
       "  'enthusiasm': 0.0739891305565834,\n",
       "  'fear': 0.4189966917037964,\n",
       "  'anger': 0.3756764233112335,\n",
       "  'disgust': 0.011550898663699627},\n",
       " {'neutral': 0.014429319649934769,\n",
       "  'happiness': 0.36041954159736633,\n",
       "  'sadness': 0.005207500886172056,\n",
       "  'enthusiasm': 0.5097196102142334,\n",
       "  'fear': 0.008329525589942932,\n",
       "  'anger': 0.09381017088890076,\n",
       "  'disgust': 0.008084367960691452},\n",
       " {'neutral': 0.0025021086912602186,\n",
       "  'happiness': 0.9337539076805115,\n",
       "  'sadness': 0.0009163402137346566,\n",
       "  'enthusiasm': 0.05650760605931282,\n",
       "  'fear': 0.002896333346143365,\n",
       "  'anger': 0.0020732637494802475,\n",
       "  'disgust': 0.0013504424132406712},\n",
       " {'neutral': 0.0027997286524623632,\n",
       "  'happiness': 0.9564735889434814,\n",
       "  'sadness': 0.0022042677737772465,\n",
       "  'enthusiasm': 0.0027398683596402407,\n",
       "  'fear': 0.023736029863357544,\n",
       "  'anger': 0.010580161586403847,\n",
       "  'disgust': 0.0014663109323009849},\n",
       " {'neutral': 0.03140454366803169,\n",
       "  'happiness': 0.02027008682489395,\n",
       "  'sadness': 0.011714738793671131,\n",
       "  'enthusiasm': 0.031730569899082184,\n",
       "  'fear': 0.2819522023200989,\n",
       "  'anger': 0.6126235127449036,\n",
       "  'disgust': 0.010304393246769905},\n",
       " {'neutral': 0.007361436728388071,\n",
       "  'happiness': 0.580092191696167,\n",
       "  'sadness': 0.011097799055278301,\n",
       "  'enthusiasm': 0.2884688973426819,\n",
       "  'fear': 0.027845464646816254,\n",
       "  'anger': 0.07690625637769699,\n",
       "  'disgust': 0.008228087797760963},\n",
       " {'neutral': 0.006283406168222427,\n",
       "  'happiness': 0.028633970767259598,\n",
       "  'sadness': 0.8369617462158203,\n",
       "  'enthusiasm': 0.003746070433408022,\n",
       "  'fear': 0.011709574609994888,\n",
       "  'anger': 0.10665030032396317,\n",
       "  'disgust': 0.006014928221702576},\n",
       " {'neutral': 0.5688719749450684,\n",
       "  'happiness': 0.015690334141254425,\n",
       "  'sadness': 0.014444202184677124,\n",
       "  'enthusiasm': 0.016817787662148476,\n",
       "  'fear': 0.10110554844141006,\n",
       "  'anger': 0.27494826912879944,\n",
       "  'disgust': 0.008121827617287636},\n",
       " {'neutral': 0.11176832020282745,\n",
       "  'happiness': 0.014997115358710289,\n",
       "  'sadness': 0.022426731884479523,\n",
       "  'enthusiasm': 0.0061431690119206905,\n",
       "  'fear': 0.12604118883609772,\n",
       "  'anger': 0.7081441283226013,\n",
       "  'disgust': 0.010479304008185863},\n",
       " {'neutral': 0.0005747018731199205,\n",
       "  'happiness': 0.9958945512771606,\n",
       "  'sadness': 0.0002774338936433196,\n",
       "  'enthusiasm': 0.0013054226292297244,\n",
       "  'fear': 0.0009828975889831781,\n",
       "  'anger': 0.0007124667754396796,\n",
       "  'disgust': 0.0002525592572055757},\n",
       " {'neutral': 0.997623860836029,\n",
       "  'happiness': 0.0002980851859319955,\n",
       "  'sadness': 0.00013968041457701474,\n",
       "  'enthusiasm': 0.0008577247499488294,\n",
       "  'fear': 0.00031835728441365063,\n",
       "  'anger': 0.0006063987384550273,\n",
       "  'disgust': 0.00015597045421600342},\n",
       " {'neutral': 0.05574873834848404,\n",
       "  'happiness': 0.008815949782729149,\n",
       "  'sadness': 0.055222101509571075,\n",
       "  'enthusiasm': 0.0739891305565834,\n",
       "  'fear': 0.4189966917037964,\n",
       "  'anger': 0.3756764233112335,\n",
       "  'disgust': 0.011550898663699627},\n",
       " {'neutral': 0.0005717346793971956,\n",
       "  'happiness': 0.9970797896385193,\n",
       "  'sadness': 0.0003491798706818372,\n",
       "  'enthusiasm': 0.0005371652077883482,\n",
       "  'fear': 0.0006938545266166329,\n",
       "  'anger': 0.0005797261255793273,\n",
       "  'disgust': 0.00018845629529096186},\n",
       " {'neutral': 0.005898027680814266,\n",
       "  'happiness': 0.1245698556303978,\n",
       "  'sadness': 0.0021516229026019573,\n",
       "  'enthusiasm': 0.8175562620162964,\n",
       "  'fear': 0.026514651253819466,\n",
       "  'anger': 0.018280602991580963,\n",
       "  'disgust': 0.005028989166021347},\n",
       " {'neutral': 0.0027997286524623632,\n",
       "  'happiness': 0.9564735889434814,\n",
       "  'sadness': 0.0022042677737772465,\n",
       "  'enthusiasm': 0.0027398683596402407,\n",
       "  'fear': 0.023736029863357544,\n",
       "  'anger': 0.010580161586403847,\n",
       "  'disgust': 0.0014663109323009849},\n",
       " {'neutral': 0.020137742161750793,\n",
       "  'happiness': 0.03114611841738224,\n",
       "  'sadness': 0.011362402699887753,\n",
       "  'enthusiasm': 0.02719346061348915,\n",
       "  'fear': 0.13194096088409424,\n",
       "  'anger': 0.7693009376525879,\n",
       "  'disgust': 0.008918392471969128},\n",
       " {'neutral': 0.014389250427484512,\n",
       "  'happiness': 0.017682159319519997,\n",
       "  'sadness': 0.1244027316570282,\n",
       "  'enthusiasm': 0.00908521469682455,\n",
       "  'fear': 0.18412835896015167,\n",
       "  'anger': 0.6383660435676575,\n",
       "  'disgust': 0.011946255341172218},\n",
       " {'neutral': 0.05010091885924339,\n",
       "  'happiness': 0.1689288467168808,\n",
       "  'sadness': 0.09126649796962738,\n",
       "  'enthusiasm': 0.016246289014816284,\n",
       "  'fear': 0.10995305329561234,\n",
       "  'anger': 0.5501053929328918,\n",
       "  'disgust': 0.013399009592831135},\n",
       " {'neutral': 0.5688719749450684,\n",
       "  'happiness': 0.015690334141254425,\n",
       "  'sadness': 0.014444202184677124,\n",
       "  'enthusiasm': 0.016817787662148476,\n",
       "  'fear': 0.10110554844141006,\n",
       "  'anger': 0.27494826912879944,\n",
       "  'disgust': 0.008121827617287636},\n",
       " {'neutral': 0.11176832020282745,\n",
       "  'happiness': 0.014997115358710289,\n",
       "  'sadness': 0.022426731884479523,\n",
       "  'enthusiasm': 0.0061431690119206905,\n",
       "  'fear': 0.12604118883609772,\n",
       "  'anger': 0.7081441283226013,\n",
       "  'disgust': 0.010479304008185863},\n",
       " {'neutral': 0.0005747018731199205,\n",
       "  'happiness': 0.9958945512771606,\n",
       "  'sadness': 0.0002774338936433196,\n",
       "  'enthusiasm': 0.0013054226292297244,\n",
       "  'fear': 0.0009828975889831781,\n",
       "  'anger': 0.0007124667754396796,\n",
       "  'disgust': 0.0002525592572055757},\n",
       " {'neutral': 0.997623860836029,\n",
       "  'happiness': 0.0002980851859319955,\n",
       "  'sadness': 0.00013968041457701474,\n",
       "  'enthusiasm': 0.0008577247499488294,\n",
       "  'fear': 0.00031835728441365063,\n",
       "  'anger': 0.0006063987384550273,\n",
       "  'disgust': 0.00015597045421600342},\n",
       " {'neutral': 0.03198671340942383,\n",
       "  'happiness': 0.011182382702827454,\n",
       "  'sadness': 0.014441856183111668,\n",
       "  'enthusiasm': 0.0061028930358588696,\n",
       "  'fear': 0.26993006467819214,\n",
       "  'anger': 0.6564449071884155,\n",
       "  'disgust': 0.009911194443702698},\n",
       " {'neutral': 0.999531626701355,\n",
       "  'happiness': 8.587525371694937e-05,\n",
       "  'sadness': 8.520030678482726e-05,\n",
       "  'enthusiasm': 8.246312063420191e-05,\n",
       "  'fear': 6.791089253965765e-05,\n",
       "  'anger': 0.00010144878615392372,\n",
       "  'disgust': 4.546122363535687e-05},\n",
       " {'neutral': 0.013261749409139156,\n",
       "  'happiness': 0.057804569602012634,\n",
       "  'sadness': 0.010558628477156162,\n",
       "  'enthusiasm': 0.08367928862571716,\n",
       "  'fear': 0.0399574339389801,\n",
       "  'anger': 0.783515214920044,\n",
       "  'disgust': 0.011223106645047665},\n",
       " {'neutral': 0.0016506515676155686,\n",
       "  'happiness': 0.01126792561262846,\n",
       "  'sadness': 0.9732345938682556,\n",
       "  'enthusiasm': 0.0010186316212639213,\n",
       "  'fear': 0.005442640278488398,\n",
       "  'anger': 0.005801196210086346,\n",
       "  'disgust': 0.001584345125593245},\n",
       " {'neutral': 0.0019348245114088058,\n",
       "  'happiness': 0.0023607690818607807,\n",
       "  'sadness': 0.0018462154548615217,\n",
       "  'enthusiasm': 0.9854326844215393,\n",
       "  'fear': 0.001928341225720942,\n",
       "  'anger': 0.005125288851559162,\n",
       "  'disgust': 0.0013718018308281898},\n",
       " {'neutral': 0.9864757657051086,\n",
       "  'happiness': 0.0008522052085027099,\n",
       "  'sadness': 0.0004322074237279594,\n",
       "  'enthusiasm': 0.004710448905825615,\n",
       "  'fear': 0.0006943016778677702,\n",
       "  'anger': 0.006236532237380743,\n",
       "  'disgust': 0.0005985232419334352},\n",
       " {'neutral': 0.00755757512524724,\n",
       "  'happiness': 0.8629224300384521,\n",
       "  'sadness': 0.04609343037009239,\n",
       "  'enthusiasm': 0.0022686037700623274,\n",
       "  'fear': 0.020967349410057068,\n",
       "  'anger': 0.055820055305957794,\n",
       "  'disgust': 0.004370519891381264},\n",
       " {'neutral': 0.5063955187797546,\n",
       "  'happiness': 0.00716585386544466,\n",
       "  'sadness': 0.005226850043982267,\n",
       "  'enthusiasm': 0.026181424036622047,\n",
       "  'fear': 0.007617470342665911,\n",
       "  'anger': 0.4400017559528351,\n",
       "  'disgust': 0.0074111646972596645},\n",
       " {'neutral': 0.0040360367856919765,\n",
       "  'happiness': 0.0036989031359553337,\n",
       "  'sadness': 0.08727942407131195,\n",
       "  'enthusiasm': 0.003328831633552909,\n",
       "  'fear': 0.8652368783950806,\n",
       "  'anger': 0.031449027359485626,\n",
       "  'disgust': 0.004970923997461796},\n",
       " {'neutral': 0.05574873834848404,\n",
       "  'happiness': 0.008815949782729149,\n",
       "  'sadness': 0.055222101509571075,\n",
       "  'enthusiasm': 0.0739891305565834,\n",
       "  'fear': 0.4189966917037964,\n",
       "  'anger': 0.3756764233112335,\n",
       "  'disgust': 0.011550898663699627},\n",
       " {'neutral': 0.0005717346793971956,\n",
       "  'happiness': 0.9970797896385193,\n",
       "  'sadness': 0.0003491798706818372,\n",
       "  'enthusiasm': 0.0005371652077883482,\n",
       "  'fear': 0.0006938545266166329,\n",
       "  'anger': 0.0005797261255793273,\n",
       "  'disgust': 0.00018845629529096186},\n",
       " {'neutral': 0.005898027680814266,\n",
       "  'happiness': 0.1245698556303978,\n",
       "  'sadness': 0.0021516229026019573,\n",
       "  'enthusiasm': 0.8175562620162964,\n",
       "  'fear': 0.026514651253819466,\n",
       "  'anger': 0.018280602991580963,\n",
       "  'disgust': 0.005028989166021347},\n",
       " {'neutral': 0.05574873834848404,\n",
       "  'happiness': 0.008815949782729149,\n",
       "  'sadness': 0.055222101509571075,\n",
       "  'enthusiasm': 0.0739891305565834,\n",
       "  'fear': 0.4189966917037964,\n",
       "  'anger': 0.3756764233112335,\n",
       "  'disgust': 0.011550898663699627},\n",
       " {'neutral': 0.0005717346793971956,\n",
       "  'happiness': 0.9970797896385193,\n",
       "  'sadness': 0.0003491798706818372,\n",
       "  'enthusiasm': 0.0005371652077883482,\n",
       "  'fear': 0.0006938545266166329,\n",
       "  'anger': 0.0005797261255793273,\n",
       "  'disgust': 0.00018845629529096186},\n",
       " {'neutral': 0.005898027680814266,\n",
       "  'happiness': 0.1245698556303978,\n",
       "  'sadness': 0.0021516229026019573,\n",
       "  'enthusiasm': 0.8175562620162964,\n",
       "  'fear': 0.026514651253819466,\n",
       "  'anger': 0.018280602991580963,\n",
       "  'disgust': 0.005028989166021347},\n",
       " {'neutral': 0.0027997286524623632,\n",
       "  'happiness': 0.9564735889434814,\n",
       "  'sadness': 0.0022042677737772465,\n",
       "  'enthusiasm': 0.0027398683596402407,\n",
       "  'fear': 0.023736029863357544,\n",
       "  'anger': 0.010580161586403847,\n",
       "  'disgust': 0.0014663109323009849},\n",
       " {'neutral': 0.03140454366803169,\n",
       "  'happiness': 0.02027008682489395,\n",
       "  'sadness': 0.011714738793671131,\n",
       "  'enthusiasm': 0.031730569899082184,\n",
       "  'fear': 0.2819522023200989,\n",
       "  'anger': 0.6126235127449036,\n",
       "  'disgust': 0.010304393246769905},\n",
       " {'neutral': 0.014389250427484512,\n",
       "  'happiness': 0.017682159319519997,\n",
       "  'sadness': 0.1244027316570282,\n",
       "  'enthusiasm': 0.00908521469682455,\n",
       "  'fear': 0.18412835896015167,\n",
       "  'anger': 0.6383660435676575,\n",
       "  'disgust': 0.011946255341172218},\n",
       " {'neutral': 0.05574873834848404,\n",
       "  'happiness': 0.008815949782729149,\n",
       "  'sadness': 0.055222101509571075,\n",
       "  'enthusiasm': 0.0739891305565834,\n",
       "  'fear': 0.4189966917037964,\n",
       "  'anger': 0.3756764233112335,\n",
       "  'disgust': 0.011550898663699627},\n",
       " {'neutral': 0.0005717346793971956,\n",
       "  'happiness': 0.9970797896385193,\n",
       "  'sadness': 0.0003491798706818372,\n",
       "  'enthusiasm': 0.0005371652077883482,\n",
       "  'fear': 0.0006938545266166329,\n",
       "  'anger': 0.0005797261255793273,\n",
       "  'disgust': 0.00018845629529096186},\n",
       " {'neutral': 0.06891302764415741,\n",
       "  'happiness': 0.008536889217793941,\n",
       "  'sadness': 0.06337197124958038,\n",
       "  'enthusiasm': 0.08334962278604507,\n",
       "  'fear': 0.3579932153224945,\n",
       "  'anger': 0.4058319330215454,\n",
       "  'disgust': 0.012003295123577118},\n",
       " {'neutral': 0.05574873834848404,\n",
       "  'happiness': 0.008815949782729149,\n",
       "  'sadness': 0.055222101509571075,\n",
       "  'enthusiasm': 0.0739891305565834,\n",
       "  'fear': 0.4189966917037964,\n",
       "  'anger': 0.3756764233112335,\n",
       "  'disgust': 0.011550898663699627},\n",
       " {'neutral': 0.0005717346793971956,\n",
       "  'happiness': 0.9970797896385193,\n",
       "  'sadness': 0.0003491798706818372,\n",
       "  'enthusiasm': 0.0005371652077883482,\n",
       "  'fear': 0.0006938545266166329,\n",
       "  'anger': 0.0005797261255793273,\n",
       "  'disgust': 0.00018845629529096186},\n",
       " {'neutral': 0.005898027680814266,\n",
       "  'happiness': 0.1245698556303978,\n",
       "  'sadness': 0.0021516229026019573,\n",
       "  'enthusiasm': 0.8175562620162964,\n",
       "  'fear': 0.026514651253819466,\n",
       "  'anger': 0.018280602991580963,\n",
       "  'disgust': 0.005028989166021347},\n",
       " {'neutral': 0.0027997286524623632,\n",
       "  'happiness': 0.9564735889434814,\n",
       "  'sadness': 0.0022042677737772465,\n",
       "  'enthusiasm': 0.0027398683596402407,\n",
       "  'fear': 0.023736029863357544,\n",
       "  'anger': 0.010580161586403847,\n",
       "  'disgust': 0.0014663109323009849},\n",
       " {'neutral': 0.03140454366803169,\n",
       "  'happiness': 0.02027008682489395,\n",
       "  'sadness': 0.011714738793671131,\n",
       "  'enthusiasm': 0.031730569899082184,\n",
       "  'fear': 0.2819522023200989,\n",
       "  'anger': 0.6126235127449036,\n",
       "  'disgust': 0.010304393246769905},\n",
       " {'neutral': 0.014389250427484512,\n",
       "  'happiness': 0.017682159319519997,\n",
       "  'sadness': 0.1244027316570282,\n",
       "  'enthusiasm': 0.00908521469682455,\n",
       "  'fear': 0.18412835896015167,\n",
       "  'anger': 0.6383660435676575,\n",
       "  'disgust': 0.011946255341172218},\n",
       " {'neutral': 0.05010091885924339,\n",
       "  'happiness': 0.1689288467168808,\n",
       "  'sadness': 0.09126649796962738,\n",
       "  'enthusiasm': 0.016246289014816284,\n",
       "  'fear': 0.10995305329561234,\n",
       "  'anger': 0.5501053929328918,\n",
       "  'disgust': 0.013399009592831135},\n",
       " {'neutral': 0.5688719749450684,\n",
       "  'happiness': 0.015690334141254425,\n",
       "  'sadness': 0.014444202184677124,\n",
       "  'enthusiasm': 0.016817787662148476,\n",
       "  'fear': 0.10110554844141006,\n",
       "  'anger': 0.27494826912879944,\n",
       "  'disgust': 0.008121827617287636},\n",
       " {'neutral': 0.08539605885744095,\n",
       "  'happiness': 0.006930279545485973,\n",
       "  'sadness': 0.003044161247089505,\n",
       "  'enthusiasm': 0.024571087211370468,\n",
       "  'fear': 0.015999846160411835,\n",
       "  'anger': 0.8571430444717407,\n",
       "  'disgust': 0.0069154612720012665},\n",
       " {'neutral': 0.0005747018731199205,\n",
       "  'happiness': 0.9958945512771606,\n",
       "  'sadness': 0.0002774338936433196,\n",
       "  'enthusiasm': 0.0013054226292297244,\n",
       "  'fear': 0.0009828975889831781,\n",
       "  'anger': 0.0007124667754396796,\n",
       "  'disgust': 0.0002525592572055757},\n",
       " {'neutral': 0.997623860836029,\n",
       "  'happiness': 0.0002980851859319955,\n",
       "  'sadness': 0.00013968041457701474,\n",
       "  'enthusiasm': 0.0008577247499488294,\n",
       "  'fear': 0.00031835728441365063,\n",
       "  'anger': 0.0006063987384550273,\n",
       "  'disgust': 0.00015597045421600342},\n",
       " {'neutral': 0.03198671340942383,\n",
       "  'happiness': 0.011182382702827454,\n",
       "  'sadness': 0.014441856183111668,\n",
       "  'enthusiasm': 0.0061028930358588696,\n",
       "  'fear': 0.26993006467819214,\n",
       "  'anger': 0.6564449071884155,\n",
       "  'disgust': 0.009911194443702698},\n",
       " {'neutral': 0.02969212457537651,\n",
       "  'happiness': 0.07334710657596588,\n",
       "  'sadness': 0.13899317383766174,\n",
       "  'enthusiasm': 0.008001948706805706,\n",
       "  'fear': 0.04407235234975815,\n",
       "  'anger': 0.6932225823402405,\n",
       "  'disgust': 0.012670686468482018},\n",
       " {'neutral': 0.013261749409139156,\n",
       "  'happiness': 0.057804569602012634,\n",
       "  'sadness': 0.010558628477156162,\n",
       "  'enthusiasm': 0.08367928862571716,\n",
       "  'fear': 0.0399574339389801,\n",
       "  'anger': 0.783515214920044,\n",
       "  'disgust': 0.011223106645047665},\n",
       " {'neutral': 0.0011897453805431724,\n",
       "  'happiness': 0.004061669111251831,\n",
       "  'sadness': 0.9847091436386108,\n",
       "  'enthusiasm': 0.0006131309201009572,\n",
       "  'fear': 0.004160876851528883,\n",
       "  'anger': 0.004106499254703522,\n",
       "  'disgust': 0.0011589431669563055},\n",
       " {'neutral': 0.0019348245114088058,\n",
       "  'happiness': 0.0023607690818607807,\n",
       "  'sadness': 0.0018462154548615217,\n",
       "  'enthusiasm': 0.9854326844215393,\n",
       "  'fear': 0.001928341225720942,\n",
       "  'anger': 0.005125288851559162,\n",
       "  'disgust': 0.0013718018308281898},\n",
       " {'neutral': 0.9864757657051086,\n",
       "  'happiness': 0.0008522052085027099,\n",
       "  'sadness': 0.0004322074237279594,\n",
       "  'enthusiasm': 0.004710448905825615,\n",
       "  'fear': 0.0006943016778677702,\n",
       "  'anger': 0.006236532237380743,\n",
       "  'disgust': 0.0005985232419334352},\n",
       " {'neutral': 0.00755757512524724,\n",
       "  'happiness': 0.8629224300384521,\n",
       "  'sadness': 0.04609343037009239,\n",
       "  'enthusiasm': 0.0022686037700623274,\n",
       "  'fear': 0.020967349410057068,\n",
       "  'anger': 0.055820055305957794,\n",
       "  'disgust': 0.004370519891381264},\n",
       " {'neutral': 0.5063955187797546,\n",
       "  'happiness': 0.00716585386544466,\n",
       "  'sadness': 0.005226850043982267,\n",
       "  'enthusiasm': 0.026181424036622047,\n",
       "  'fear': 0.007617470342665911,\n",
       "  'anger': 0.4400017559528351,\n",
       "  'disgust': 0.0074111646972596645},\n",
       " {'neutral': 0.9986264705657959,\n",
       "  'happiness': 0.00017754508007783443,\n",
       "  'sadness': 0.00013793600373901427,\n",
       "  'enthusiasm': 0.0005136097897775471,\n",
       "  'fear': 0.00016656356456223875,\n",
       "  'anger': 0.0002790604194160551,\n",
       "  'disgust': 9.896291157929227e-05},\n",
       " {'neutral': 0.05574873834848404,\n",
       "  'happiness': 0.008815949782729149,\n",
       "  'sadness': 0.055222101509571075,\n",
       "  'enthusiasm': 0.0739891305565834,\n",
       "  'fear': 0.4189966917037964,\n",
       "  'anger': 0.3756764233112335,\n",
       "  'disgust': 0.011550898663699627},\n",
       " {'neutral': 0.05574873834848404,\n",
       "  'happiness': 0.008815949782729149,\n",
       "  'sadness': 0.055222101509571075,\n",
       "  'enthusiasm': 0.0739891305565834,\n",
       "  'fear': 0.4189966917037964,\n",
       "  'anger': 0.3756764233112335,\n",
       "  'disgust': 0.011550898663699627},\n",
       " {'neutral': 0.05574873834848404,\n",
       "  'happiness': 0.008815949782729149,\n",
       "  'sadness': 0.055222101509571075,\n",
       "  'enthusiasm': 0.0739891305565834,\n",
       "  'fear': 0.4189966917037964,\n",
       "  'anger': 0.3756764233112335,\n",
       "  'disgust': 0.011550898663699627},\n",
       " {'neutral': 0.05574873834848404,\n",
       "  'happiness': 0.008815949782729149,\n",
       "  'sadness': 0.055222101509571075,\n",
       "  'enthusiasm': 0.0739891305565834,\n",
       "  'fear': 0.4189966917037964,\n",
       "  'anger': 0.3756764233112335,\n",
       "  'disgust': 0.011550898663699627},\n",
       " {'neutral': 0.0005717346793971956,\n",
       "  'happiness': 0.9970797896385193,\n",
       "  'sadness': 0.0003491798706818372,\n",
       "  'enthusiasm': 0.0005371652077883482,\n",
       "  'fear': 0.0006938545266166329,\n",
       "  'anger': 0.0005797261255793273,\n",
       "  'disgust': 0.00018845629529096186},\n",
       " {'neutral': 0.005898027680814266,\n",
       "  'happiness': 0.1245698556303978,\n",
       "  'sadness': 0.0021516229026019573,\n",
       "  'enthusiasm': 0.8175562620162964,\n",
       "  'fear': 0.026514651253819466,\n",
       "  'anger': 0.018280602991580963,\n",
       "  'disgust': 0.005028989166021347},\n",
       " {'neutral': 0.08600090444087982,\n",
       "  'happiness': 0.003971532452851534,\n",
       "  'sadness': 0.21248723566532135,\n",
       "  'enthusiasm': 0.04374828189611435,\n",
       "  'fear': 0.08184821158647537,\n",
       "  'anger': 0.5599607825279236,\n",
       "  'disgust': 0.011983034200966358},\n",
       " {'neutral': 0.0005717346793971956,\n",
       "  'happiness': 0.9970797896385193,\n",
       "  'sadness': 0.0003491798706818372,\n",
       "  'enthusiasm': 0.0005371652077883482,\n",
       "  'fear': 0.0006938545266166329,\n",
       "  'anger': 0.0005797261255793273,\n",
       "  'disgust': 0.00018845629529096186},\n",
       " {'neutral': 0.005898027680814266,\n",
       "  'happiness': 0.1245698556303978,\n",
       "  'sadness': 0.0021516229026019573,\n",
       "  'enthusiasm': 0.8175562620162964,\n",
       "  'fear': 0.026514651253819466,\n",
       "  'anger': 0.018280602991580963,\n",
       "  'disgust': 0.005028989166021347},\n",
       " {'neutral': 0.0027997286524623632,\n",
       "  'happiness': 0.9564735889434814,\n",
       "  'sadness': 0.0022042677737772465,\n",
       "  'enthusiasm': 0.0027398683596402407,\n",
       "  'fear': 0.023736029863357544,\n",
       "  'anger': 0.010580161586403847,\n",
       "  'disgust': 0.0014663109323009849},\n",
       " {'neutral': 0.03140454366803169,\n",
       "  'happiness': 0.02027008682489395,\n",
       "  'sadness': 0.011714738793671131,\n",
       "  'enthusiasm': 0.031730569899082184,\n",
       "  'fear': 0.2819522023200989,\n",
       "  'anger': 0.6126235127449036,\n",
       "  'disgust': 0.010304393246769905},\n",
       " {'neutral': 0.014173598028719425,\n",
       "  'happiness': 0.01744173653423786,\n",
       "  'sadness': 0.122747041285038,\n",
       "  'enthusiasm': 0.008801145479083061,\n",
       "  'fear': 0.17514534294605255,\n",
       "  'anger': 0.6498377323150635,\n",
       "  'disgust': 0.011853417381644249},\n",
       " {'neutral': 0.05010091885924339,\n",
       "  'happiness': 0.1689288467168808,\n",
       "  'sadness': 0.09126649796962738,\n",
       "  'enthusiasm': 0.016246289014816284,\n",
       "  'fear': 0.10995305329561234,\n",
       "  'anger': 0.5501053929328918,\n",
       "  'disgust': 0.013399009592831135},\n",
       " {'neutral': 0.5688719749450684,\n",
       "  'happiness': 0.015690334141254425,\n",
       "  'sadness': 0.014444202184677124,\n",
       "  'enthusiasm': 0.016817787662148476,\n",
       "  'fear': 0.10110554844141006,\n",
       "  'anger': 0.27494826912879944,\n",
       "  'disgust': 0.008121827617287636},\n",
       " {'neutral': 0.11176832020282745,\n",
       "  'happiness': 0.014997115358710289,\n",
       "  'sadness': 0.022426731884479523,\n",
       "  'enthusiasm': 0.0061431690119206905,\n",
       "  'fear': 0.12604118883609772,\n",
       "  'anger': 0.7081441283226013,\n",
       "  'disgust': 0.010479304008185863},\n",
       " {'neutral': 0.0005747018731199205,\n",
       "  'happiness': 0.9958945512771606,\n",
       "  'sadness': 0.0002774338936433196,\n",
       "  'enthusiasm': 0.0013054226292297244,\n",
       "  'fear': 0.0009828975889831781,\n",
       "  'anger': 0.0007124667754396796,\n",
       "  'disgust': 0.0002525592572055757},\n",
       " {'neutral': 0.997623860836029,\n",
       "  'happiness': 0.0002980851859319955,\n",
       "  'sadness': 0.00013968041457701474,\n",
       "  'enthusiasm': 0.0008577247499488294,\n",
       "  'fear': 0.00031835728441365063,\n",
       "  'anger': 0.0006063987384550273,\n",
       "  'disgust': 0.00015597045421600342},\n",
       " {'neutral': 0.03198671340942383,\n",
       "  'happiness': 0.011182382702827454,\n",
       "  'sadness': 0.014441856183111668,\n",
       "  'enthusiasm': 0.0061028930358588696,\n",
       "  'fear': 0.26993006467819214,\n",
       "  'anger': 0.6564449071884155,\n",
       "  'disgust': 0.009911194443702698},\n",
       " {'neutral': 0.02969212457537651,\n",
       "  'happiness': 0.07334710657596588,\n",
       "  'sadness': 0.13899317383766174,\n",
       "  'enthusiasm': 0.008001948706805706,\n",
       "  'fear': 0.04407235234975815,\n",
       "  'anger': 0.6932225823402405,\n",
       "  'disgust': 0.012670686468482018},\n",
       " {'neutral': 0.013261749409139156,\n",
       "  'happiness': 0.057804569602012634,\n",
       "  'sadness': 0.010558628477156162,\n",
       "  'enthusiasm': 0.08367928862571716,\n",
       "  'fear': 0.0399574339389801,\n",
       "  'anger': 0.783515214920044,\n",
       "  'disgust': 0.011223106645047665},\n",
       " {'neutral': 0.0011897453805431724,\n",
       "  'happiness': 0.004061669111251831,\n",
       "  'sadness': 0.9847091436386108,\n",
       "  'enthusiasm': 0.0006131309201009572,\n",
       "  'fear': 0.004160876851528883,\n",
       "  'anger': 0.004106499254703522,\n",
       "  'disgust': 0.0011589431669563055},\n",
       " {'neutral': 0.0019348245114088058,\n",
       "  'happiness': 0.0023607690818607807,\n",
       "  'sadness': 0.0018462154548615217,\n",
       "  'enthusiasm': 0.9854326844215393,\n",
       "  'fear': 0.001928341225720942,\n",
       "  'anger': 0.005125288851559162,\n",
       "  'disgust': 0.0013718018308281898},\n",
       " {'neutral': 0.9864757657051086,\n",
       "  'happiness': 0.0008522052085027099,\n",
       "  'sadness': 0.0004322074237279594,\n",
       "  'enthusiasm': 0.004710448905825615,\n",
       "  'fear': 0.0006943016778677702,\n",
       "  'anger': 0.006236532237380743,\n",
       "  'disgust': 0.0005985232419334352},\n",
       " {'neutral': 0.00755757512524724,\n",
       "  'happiness': 0.8629224300384521,\n",
       "  'sadness': 0.04609343037009239,\n",
       "  'enthusiasm': 0.0022686037700623274,\n",
       "  'fear': 0.020967349410057068,\n",
       "  'anger': 0.055820055305957794,\n",
       "  'disgust': 0.004370519891381264},\n",
       " {'neutral': 0.5063955187797546,\n",
       "  'happiness': 0.00716585386544466,\n",
       "  'sadness': 0.005226850043982267,\n",
       "  'enthusiasm': 0.026181424036622047,\n",
       "  'fear': 0.007617470342665911,\n",
       "  'anger': 0.4400017559528351,\n",
       "  'disgust': 0.0074111646972596645},\n",
       " {'neutral': 0.0038136248476803303,\n",
       "  'happiness': 0.016089990735054016,\n",
       "  'sadness': 0.0575333796441555,\n",
       "  'enthusiasm': 0.00309285637922585,\n",
       "  'fear': 0.8793801069259644,\n",
       "  'anger': 0.03465847298502922,\n",
       "  'disgust': 0.005431544501334429},\n",
       " {'neutral': 0.0019172134343534708,\n",
       "  'happiness': 0.955141007900238,\n",
       "  'sadness': 0.003960623871535063,\n",
       "  'enthusiasm': 0.004865292459726334,\n",
       "  'fear': 0.029621073976159096,\n",
       "  'anger': 0.0032226925250142813,\n",
       "  'disgust': 0.001271990593522787},\n",
       " {'neutral': 0.0004142174730077386,\n",
       "  'happiness': 0.9968562126159668,\n",
       "  'sadness': 0.0004553486069198698,\n",
       "  'enthusiasm': 0.00047239704872481525,\n",
       "  'fear': 0.001102725393138826,\n",
       "  'anger': 0.0005079708062112331,\n",
       "  'disgust': 0.00019097763288300484},\n",
       " {'neutral': 0.07408694922924042,\n",
       "  'happiness': 0.004129394423216581,\n",
       "  'sadness': 0.47993844747543335,\n",
       "  'enthusiasm': 0.024036338552832603,\n",
       "  'fear': 0.014142907224595547,\n",
       "  'anger': 0.3930256962776184,\n",
       "  'disgust': 0.010640225373208523},\n",
       " {'neutral': 0.0006140792975202203,\n",
       "  'happiness': 0.9813816547393799,\n",
       "  'sadness': 0.007230838760733604,\n",
       "  'enthusiasm': 0.001125088194385171,\n",
       "  'fear': 0.007220199331641197,\n",
       "  'anger': 0.0016986565897241235,\n",
       "  'disgust': 0.0007296054973267019},\n",
       " {'neutral': 0.01897808536887169,\n",
       "  'happiness': 0.059643179178237915,\n",
       "  'sadness': 0.0025515591260045767,\n",
       "  'enthusiasm': 0.7613895535469055,\n",
       "  'fear': 0.03110479936003685,\n",
       "  'anger': 0.1178809106349945,\n",
       "  'disgust': 0.008451944217085838},\n",
       " {'neutral': 0.0040007890202105045,\n",
       "  'happiness': 0.00847205426543951,\n",
       "  'sadness': 0.024176008999347687,\n",
       "  'enthusiasm': 0.014582439325749874,\n",
       "  'fear': 0.9030917286872864,\n",
       "  'anger': 0.04036850482225418,\n",
       "  'disgust': 0.005308371502906084},\n",
       " {'neutral': 0.008767727762460709,\n",
       "  'happiness': 0.09696005284786224,\n",
       "  'sadness': 0.04394616559147835,\n",
       "  'enthusiasm': 0.008496737107634544,\n",
       "  'fear': 0.7535935044288635,\n",
       "  'anger': 0.0798879861831665,\n",
       "  'disgust': 0.008347841911017895},\n",
       " {'neutral': 0.0014369967393577099,\n",
       "  'happiness': 0.9630125761032104,\n",
       "  'sadness': 0.012174274772405624,\n",
       "  'enthusiasm': 0.0015172283165156841,\n",
       "  'fear': 0.01660274900496006,\n",
       "  'anger': 0.004017942119389772,\n",
       "  'disgust': 0.0012382949935272336},\n",
       " {'neutral': 0.7508640289306641,\n",
       "  'happiness': 0.005779245402663946,\n",
       "  'sadness': 0.001971413381397724,\n",
       "  'enthusiasm': 0.007875962182879448,\n",
       "  'fear': 0.020983215421438217,\n",
       "  'anger': 0.20801326632499695,\n",
       "  'disgust': 0.00451281201094389},\n",
       " {'neutral': 0.012862623669207096,\n",
       "  'happiness': 0.16147585213184357,\n",
       "  'sadness': 0.005169609095901251,\n",
       "  'enthusiasm': 0.17463187873363495,\n",
       "  'fear': 0.5159187912940979,\n",
       "  'anger': 0.11740003526210785,\n",
       "  'disgust': 0.012541227042675018},\n",
       " {'neutral': 0.6796346306800842,\n",
       "  'happiness': 0.006515366956591606,\n",
       "  'sadness': 0.00456517469137907,\n",
       "  'enthusiasm': 0.0164017453789711,\n",
       "  'fear': 0.1096576452255249,\n",
       "  'anger': 0.1769777089357376,\n",
       "  'disgust': 0.00624771136790514},\n",
       " {'neutral': 0.033898111432790756,\n",
       "  'happiness': 0.08148568123579025,\n",
       "  'sadness': 0.040495891124010086,\n",
       "  'enthusiasm': 0.17810854315757751,\n",
       "  'fear': 0.038817573338747025,\n",
       "  'anger': 0.6132730841636658,\n",
       "  'disgust': 0.013921139761805534},\n",
       " {'neutral': 0.985039234161377,\n",
       "  'happiness': 0.0008459527743980289,\n",
       "  'sadness': 0.00046543910866603255,\n",
       "  'enthusiasm': 0.0018729534931480885,\n",
       "  'fear': 0.0034644075203686953,\n",
       "  'anger': 0.007678651250898838,\n",
       "  'disgust': 0.0006332401535473764},\n",
       " {'neutral': 0.05574873834848404,\n",
       "  'happiness': 0.008815949782729149,\n",
       "  'sadness': 0.055222101509571075,\n",
       "  'enthusiasm': 0.0739891305565834,\n",
       "  'fear': 0.4189966917037964,\n",
       "  'anger': 0.3756764233112335,\n",
       "  'disgust': 0.011550898663699627},\n",
       " {'neutral': 0.05574873834848404,\n",
       "  'happiness': 0.008815949782729149,\n",
       "  'sadness': 0.055222101509571075,\n",
       "  'enthusiasm': 0.0739891305565834,\n",
       "  'fear': 0.4189966917037964,\n",
       "  'anger': 0.3756764233112335,\n",
       "  'disgust': 0.011550898663699627},\n",
       " {'neutral': 0.05574873834848404,\n",
       "  'happiness': 0.008815949782729149,\n",
       "  'sadness': 0.055222101509571075,\n",
       "  'enthusiasm': 0.0739891305565834,\n",
       "  'fear': 0.4189966917037964,\n",
       "  'anger': 0.3756764233112335,\n",
       "  'disgust': 0.011550898663699627},\n",
       " {'neutral': 0.05574873834848404,\n",
       "  'happiness': 0.008815949782729149,\n",
       "  'sadness': 0.055222101509571075,\n",
       "  'enthusiasm': 0.0739891305565834,\n",
       "  'fear': 0.4189966917037964,\n",
       "  'anger': 0.3756764233112335,\n",
       "  'disgust': 0.011550898663699627},\n",
       " {'neutral': 0.0005717346793971956,\n",
       "  'happiness': 0.9970797896385193,\n",
       "  'sadness': 0.0003491798706818372,\n",
       "  'enthusiasm': 0.0005371652077883482,\n",
       "  'fear': 0.0006938545266166329,\n",
       "  'anger': 0.0005797261255793273,\n",
       "  'disgust': 0.00018845629529096186},\n",
       " {'neutral': 0.005898027680814266,\n",
       "  'happiness': 0.1245698556303978,\n",
       "  'sadness': 0.0021516229026019573,\n",
       "  'enthusiasm': 0.8175562620162964,\n",
       "  'fear': 0.026514651253819466,\n",
       "  'anger': 0.018280602991580963,\n",
       "  'disgust': 0.005028989166021347},\n",
       " {'neutral': 0.0027997286524623632,\n",
       "  'happiness': 0.9564735889434814,\n",
       "  'sadness': 0.0022042677737772465,\n",
       "  'enthusiasm': 0.0027398683596402407,\n",
       "  'fear': 0.023736029863357544,\n",
       "  'anger': 0.010580161586403847,\n",
       "  'disgust': 0.0014663109323009849},\n",
       " {'neutral': 0.9983634352684021,\n",
       "  'happiness': 0.00020038084767293185,\n",
       "  'sadness': 0.0001643629075260833,\n",
       "  'enthusiasm': 0.0006216428591869771,\n",
       "  'fear': 0.0001858609466580674,\n",
       "  'anger': 0.0003529864188749343,\n",
       "  'disgust': 0.00011126580648124218},\n",
       " {'neutral': 0.0005678439629264176,\n",
       "  'happiness': 0.9969199895858765,\n",
       "  'sadness': 0.00040817150147631764,\n",
       "  'enthusiasm': 0.0005572380032390356,\n",
       "  'fear': 0.0006736192153766751,\n",
       "  'anger': 0.000673403381370008,\n",
       "  'disgust': 0.00019975843315478414},\n",
       " {'neutral': 0.0067272731103003025,\n",
       "  'happiness': 0.368214875459671,\n",
       "  'sadness': 0.002385138999670744,\n",
       "  'enthusiasm': 0.5719739198684692,\n",
       "  'fear': 0.028007391840219498,\n",
       "  'anger': 0.01719767041504383,\n",
       "  'disgust': 0.005493790842592716},\n",
       " {'neutral': 0.0027997286524623632,\n",
       "  'happiness': 0.9564735889434814,\n",
       "  'sadness': 0.0022042677737772465,\n",
       "  'enthusiasm': 0.0027398683596402407,\n",
       "  'fear': 0.023736029863357544,\n",
       "  'anger': 0.010580161586403847,\n",
       "  'disgust': 0.0014663109323009849},\n",
       " {'neutral': 0.03140454366803169,\n",
       "  'happiness': 0.02027008682489395,\n",
       "  'sadness': 0.011714738793671131,\n",
       "  'enthusiasm': 0.031730569899082184,\n",
       "  'fear': 0.2819522023200989,\n",
       "  'anger': 0.6126235127449036,\n",
       "  'disgust': 0.010304393246769905},\n",
       " {'neutral': 0.014389250427484512,\n",
       "  'happiness': 0.017682159319519997,\n",
       "  'sadness': 0.1244027316570282,\n",
       "  'enthusiasm': 0.00908521469682455,\n",
       "  'fear': 0.18412835896015167,\n",
       "  'anger': 0.6383660435676575,\n",
       "  'disgust': 0.011946255341172218},\n",
       " {'neutral': 0.05010091885924339,\n",
       "  'happiness': 0.1689288467168808,\n",
       "  'sadness': 0.09126649796962738,\n",
       "  'enthusiasm': 0.016246289014816284,\n",
       "  'fear': 0.10995305329561234,\n",
       "  'anger': 0.5501053929328918,\n",
       "  'disgust': 0.013399009592831135},\n",
       " {'neutral': 0.5688719749450684,\n",
       "  'happiness': 0.015690334141254425,\n",
       "  'sadness': 0.014444202184677124,\n",
       "  'enthusiasm': 0.016817787662148476,\n",
       "  'fear': 0.10110554844141006,\n",
       "  'anger': 0.27494826912879944,\n",
       "  'disgust': 0.008121827617287636},\n",
       " {'neutral': 0.11176832020282745,\n",
       "  'happiness': 0.014997115358710289,\n",
       "  'sadness': 0.022426731884479523,\n",
       "  'enthusiasm': 0.0061431690119206905,\n",
       "  'fear': 0.12604118883609772,\n",
       "  'anger': 0.7081441283226013,\n",
       "  'disgust': 0.010479304008185863},\n",
       " {'neutral': 0.0005747018731199205,\n",
       "  'happiness': 0.9958945512771606,\n",
       "  'sadness': 0.0002774338936433196,\n",
       "  'enthusiasm': 0.0013054226292297244,\n",
       "  'fear': 0.0009828975889831781,\n",
       "  'anger': 0.0007124667754396796,\n",
       "  'disgust': 0.0002525592572055757},\n",
       " {'neutral': 0.997623860836029,\n",
       "  'happiness': 0.0002980851859319955,\n",
       "  'sadness': 0.00013968041457701474,\n",
       "  'enthusiasm': 0.0008577247499488294,\n",
       "  'fear': 0.00031835728441365063,\n",
       "  'anger': 0.0006063987384550273,\n",
       "  'disgust': 0.00015597045421600342},\n",
       " {'neutral': 0.03198671340942383,\n",
       "  'happiness': 0.011182382702827454,\n",
       "  'sadness': 0.014441856183111668,\n",
       "  'enthusiasm': 0.0061028930358588696,\n",
       "  'fear': 0.26993006467819214,\n",
       "  'anger': 0.6564449071884155,\n",
       "  'disgust': 0.009911194443702698},\n",
       " {'neutral': 0.02969212457537651,\n",
       "  'happiness': 0.07334710657596588,\n",
       "  'sadness': 0.13899317383766174,\n",
       "  'enthusiasm': 0.008001948706805706,\n",
       "  'fear': 0.04407235234975815,\n",
       "  'anger': 0.6932225823402405,\n",
       "  'disgust': 0.012670686468482018},\n",
       " {'neutral': 0.013261749409139156,\n",
       "  'happiness': 0.057804569602012634,\n",
       "  'sadness': 0.010558628477156162,\n",
       "  'enthusiasm': 0.08367928862571716,\n",
       "  'fear': 0.0399574339389801,\n",
       "  'anger': 0.783515214920044,\n",
       "  'disgust': 0.011223106645047665},\n",
       " {'neutral': 0.0011897453805431724,\n",
       "  'happiness': 0.004061669111251831,\n",
       "  'sadness': 0.9847091436386108,\n",
       "  'enthusiasm': 0.0006131309201009572,\n",
       "  'fear': 0.004160876851528883,\n",
       "  'anger': 0.004106499254703522,\n",
       "  'disgust': 0.0011589431669563055},\n",
       " {'neutral': 0.0019348245114088058,\n",
       "  'happiness': 0.0023607690818607807,\n",
       "  'sadness': 0.0018462154548615217,\n",
       "  'enthusiasm': 0.9854326844215393,\n",
       "  'fear': 0.001928341225720942,\n",
       "  'anger': 0.005125288851559162,\n",
       "  'disgust': 0.0013718018308281898},\n",
       " {'neutral': 0.9864757657051086,\n",
       "  'happiness': 0.0008522052085027099,\n",
       "  'sadness': 0.0004322074237279594,\n",
       "  'enthusiasm': 0.004710448905825615,\n",
       "  'fear': 0.0006943016778677702,\n",
       "  'anger': 0.006236532237380743,\n",
       "  'disgust': 0.0005985232419334352},\n",
       " {'neutral': 0.00755757512524724,\n",
       "  'happiness': 0.8629224300384521,\n",
       "  'sadness': 0.04609343037009239,\n",
       "  'enthusiasm': 0.0022686037700623274,\n",
       "  'fear': 0.020967349410057068,\n",
       "  'anger': 0.055820055305957794,\n",
       "  'disgust': 0.004370519891381264},\n",
       " {'neutral': 0.5063955187797546,\n",
       "  'happiness': 0.00716585386544466,\n",
       "  'sadness': 0.005226850043982267,\n",
       "  'enthusiasm': 0.026181424036622047,\n",
       "  'fear': 0.007617470342665911,\n",
       "  'anger': 0.4400017559528351,\n",
       "  'disgust': 0.0074111646972596645},\n",
       " {'neutral': 0.003672241000458598,\n",
       "  'happiness': 0.022378863766789436,\n",
       "  'sadness': 0.0029412114527076483,\n",
       "  'enthusiasm': 0.028739212080836296,\n",
       "  'fear': 0.8969645500183105,\n",
       "  'anger': 0.03968990594148636,\n",
       "  'disgust': 0.005613937973976135},\n",
       " {'neutral': 0.0019172134343534708,\n",
       "  'happiness': 0.955141007900238,\n",
       "  'sadness': 0.003960623871535063,\n",
       "  'enthusiasm': 0.004865292459726334,\n",
       "  'fear': 0.029621073976159096,\n",
       "  'anger': 0.0032226925250142813,\n",
       "  'disgust': 0.001271990593522787},\n",
       " {'neutral': 0.0004142174730077386,\n",
       "  'happiness': 0.9968562126159668,\n",
       "  'sadness': 0.0004553486069198698,\n",
       "  'enthusiasm': 0.00047239704872481525,\n",
       "  'fear': 0.001102725393138826,\n",
       "  'anger': 0.0005079708062112331,\n",
       "  'disgust': 0.00019097763288300484},\n",
       " {'neutral': 0.0016782499151304364,\n",
       "  'happiness': 0.9647430777549744,\n",
       "  'sadness': 0.010869150049984455,\n",
       "  'enthusiasm': 0.0011756030144169927,\n",
       "  'fear': 0.01352674700319767,\n",
       "  'anger': 0.006660457234829664,\n",
       "  'disgust': 0.001346740173175931},\n",
       " {'neutral': 0.0006140792975202203,\n",
       "  'happiness': 0.9813816547393799,\n",
       "  'sadness': 0.007230838760733604,\n",
       "  'enthusiasm': 0.001125088194385171,\n",
       "  'fear': 0.007220199331641197,\n",
       "  'anger': 0.0016986565897241235,\n",
       "  'disgust': 0.0007296054973267019},\n",
       " {'neutral': 0.007299191318452358,\n",
       "  'happiness': 0.011251172050833702,\n",
       "  'sadness': 0.002434252994135022,\n",
       "  'enthusiasm': 0.8990857005119324,\n",
       "  'fear': 0.016381673514842987,\n",
       "  'anger': 0.05862665921449661,\n",
       "  'disgust': 0.004921252839267254},\n",
       " {'neutral': 0.0040007890202105045,\n",
       "  'happiness': 0.00847205426543951,\n",
       "  'sadness': 0.024176008999347687,\n",
       "  'enthusiasm': 0.014582439325749874,\n",
       "  'fear': 0.9030917286872864,\n",
       "  'anger': 0.04036850482225418,\n",
       "  'disgust': 0.005308371502906084},\n",
       " {'neutral': 0.008767727762460709,\n",
       "  'happiness': 0.09696005284786224,\n",
       "  'sadness': 0.04394616559147835,\n",
       "  'enthusiasm': 0.008496737107634544,\n",
       "  'fear': 0.7535935044288635,\n",
       "  'anger': 0.0798879861831665,\n",
       "  'disgust': 0.008347841911017895},\n",
       " {'neutral': 0.0014369967393577099,\n",
       "  'happiness': 0.9630125761032104,\n",
       "  'sadness': 0.012174274772405624,\n",
       "  'enthusiasm': 0.0015172283165156841,\n",
       "  'fear': 0.01660274900496006,\n",
       "  'anger': 0.004017942119389772,\n",
       "  'disgust': 0.0012382949935272336},\n",
       " {'neutral': 0.7508640289306641,\n",
       "  'happiness': 0.005779245402663946,\n",
       "  'sadness': 0.001971413381397724,\n",
       "  'enthusiasm': 0.007875962182879448,\n",
       "  'fear': 0.020983215421438217,\n",
       "  'anger': 0.20801326632499695,\n",
       "  'disgust': 0.00451281201094389},\n",
       " {'neutral': 0.012862623669207096,\n",
       "  'happiness': 0.16147585213184357,\n",
       "  'sadness': 0.005169609095901251,\n",
       "  'enthusiasm': 0.17463187873363495,\n",
       "  'fear': 0.5159187912940979,\n",
       "  'anger': 0.11740003526210785,\n",
       "  'disgust': 0.012541227042675018},\n",
       " {'neutral': 0.6796346306800842,\n",
       "  'happiness': 0.006515366956591606,\n",
       "  'sadness': 0.00456517469137907,\n",
       "  'enthusiasm': 0.0164017453789711,\n",
       "  'fear': 0.1096576452255249,\n",
       "  'anger': 0.1769777089357376,\n",
       "  'disgust': 0.00624771136790514},\n",
       " {'neutral': 0.029132550582289696,\n",
       "  'happiness': 0.06604643166065216,\n",
       "  'sadness': 0.03434409946203232,\n",
       "  'enthusiasm': 0.23384946584701538,\n",
       "  'fear': 0.03245512396097183,\n",
       "  'anger': 0.5905466079711914,\n",
       "  'disgust': 0.013625767081975937},\n",
       " {'neutral': 0.9959046244621277,\n",
       "  'happiness': 0.0003577576426323503,\n",
       "  'sadness': 0.0002290592237841338,\n",
       "  'enthusiasm': 0.0005231924587860703,\n",
       "  'fear': 0.0009525984642095864,\n",
       "  'anger': 0.0017912046751007438,\n",
       "  'disgust': 0.0002416080387774855},\n",
       " {'neutral': 0.0010456155287101865,\n",
       "  'happiness': 0.9891824126243591,\n",
       "  'sadness': 0.0003019784635398537,\n",
       "  'enthusiasm': 0.006375738885253668,\n",
       "  'fear': 0.000669164233841002,\n",
       "  'anger': 0.0019044926157221198,\n",
       "  'disgust': 0.0005206704954616725},\n",
       " {'neutral': 0.0016377167776226997,\n",
       "  'happiness': 0.9698188304901123,\n",
       "  'sadness': 0.000928947061765939,\n",
       "  'enthusiasm': 0.007069793529808521,\n",
       "  'fear': 0.015648476779460907,\n",
       "  'anger': 0.0038453657180070877,\n",
       "  'disgust': 0.001050941296853125},\n",
       " {'neutral': 0.00032902645762078464,\n",
       "  'happiness': 0.9982616305351257,\n",
       "  'sadness': 0.0002388025022810325,\n",
       "  'enthusiasm': 0.00039308282430283725,\n",
       "  'fear': 0.0003106197982560843,\n",
       "  'anger': 0.00034044578205794096,\n",
       "  'disgust': 0.0001263929734705016},\n",
       " {'neutral': 0.005725881550461054,\n",
       "  'happiness': 0.092379130423069,\n",
       "  'sadness': 0.05355699732899666,\n",
       "  'enthusiasm': 0.005777894053608179,\n",
       "  'fear': 0.7655280828475952,\n",
       "  'anger': 0.06917470693588257,\n",
       "  'disgust': 0.007857302203774452},\n",
       " {'neutral': 0.008197006769478321,\n",
       "  'happiness': 0.042386412620544434,\n",
       "  'sadness': 0.005943821277469397,\n",
       "  'enthusiasm': 0.005605289712548256,\n",
       "  'fear': 0.08479490131139755,\n",
       "  'anger': 0.8449219465255737,\n",
       "  'disgust': 0.008150683715939522},\n",
       " {'neutral': 0.2538139224052429,\n",
       "  'happiness': 0.29609718918800354,\n",
       "  'sadness': 0.008904716931283474,\n",
       "  'enthusiasm': 0.016656750813126564,\n",
       "  'fear': 0.10931909084320068,\n",
       "  'anger': 0.30373576283454895,\n",
       "  'disgust': 0.011472647078335285},\n",
       " {'neutral': 0.017336390912532806,\n",
       "  'happiness': 0.019907496869564056,\n",
       "  'sadness': 0.009916864335536957,\n",
       "  'enthusiasm': 0.05129546672105789,\n",
       "  'fear': 0.04302113130688667,\n",
       "  'anger': 0.8494725823402405,\n",
       "  'disgust': 0.009050029329955578},\n",
       " {'neutral': 0.00872117467224598,\n",
       "  'happiness': 0.025564298033714294,\n",
       "  'sadness': 0.5407718420028687,\n",
       "  'enthusiasm': 0.0018181342165917158,\n",
       "  'fear': 0.33413898944854736,\n",
       "  'anger': 0.08004333823919296,\n",
       "  'disgust': 0.0089422557502985},\n",
       " {'neutral': 0.0005027307779528201,\n",
       "  'happiness': 0.9956315755844116,\n",
       "  'sadness': 0.0005260043544694781,\n",
       "  'enthusiasm': 0.0006998921744525433,\n",
       "  'fear': 0.0015384829603135586,\n",
       "  'anger': 0.0008415775955654681,\n",
       "  'disgust': 0.0002596671401988715},\n",
       " {'neutral': 0.01003494206815958,\n",
       "  'happiness': 0.0661945641040802,\n",
       "  'sadness': 0.6040730476379395,\n",
       "  'enthusiasm': 0.004940780345350504,\n",
       "  'fear': 0.07657940685749054,\n",
       "  'anger': 0.2275327891111374,\n",
       "  'disgust': 0.010644447058439255},\n",
       " {'neutral': 0.024036379531025887,\n",
       "  'happiness': 0.005475555546581745,\n",
       "  'sadness': 0.3098275363445282,\n",
       "  'enthusiasm': 0.0030122764874249697,\n",
       "  'fear': 0.5581536293029785,\n",
       "  'anger': 0.09116606414318085,\n",
       "  'disgust': 0.008328580297529697},\n",
       " {'neutral': 0.003907018341124058,\n",
       "  'happiness': 0.6456954479217529,\n",
       "  'sadness': 0.3223523199558258,\n",
       "  'enthusiasm': 0.0028939039912074804,\n",
       "  'fear': 0.007283586543053389,\n",
       "  'anger': 0.014272373169660568,\n",
       "  'disgust': 0.003595382208004594},\n",
       " {'neutral': 0.00045277661411091685,\n",
       "  'happiness': 0.9959985017776489,\n",
       "  'sadness': 0.00031620150548405945,\n",
       "  'enthusiasm': 0.0004605195135809481,\n",
       "  'fear': 0.0014632766833528876,\n",
       "  'anger': 0.0010492822621017694,\n",
       "  'disgust': 0.0002595454570837319},\n",
       " {'neutral': 0.00827827025204897,\n",
       "  'happiness': 0.050627775490283966,\n",
       "  'sadness': 0.05069930851459503,\n",
       "  'enthusiasm': 0.03160877898335457,\n",
       "  'fear': 0.3431098759174347,\n",
       "  'anger': 0.5028864741325378,\n",
       "  'disgust': 0.01278949249535799},\n",
       " {'neutral': 0.014916902408003807,\n",
       "  'happiness': 0.010984945110976696,\n",
       "  'sadness': 0.19780400395393372,\n",
       "  'enthusiasm': 0.23279261589050293,\n",
       "  'fear': 0.11281242221593857,\n",
       "  'anger': 0.4126344621181488,\n",
       "  'disgust': 0.01805463805794716},\n",
       " {'neutral': 0.005114088766276836,\n",
       "  'happiness': 0.9459463953971863,\n",
       "  'sadness': 0.001522970269434154,\n",
       "  'enthusiasm': 0.01080335583537817,\n",
       "  'fear': 0.00330667314119637,\n",
       "  'anger': 0.03122708387672901,\n",
       "  'disgust': 0.0020795343443751335},\n",
       " {'neutral': 0.06570515781641006,\n",
       "  'happiness': 0.009272860363125801,\n",
       "  'sadness': 0.006704246159642935,\n",
       "  'enthusiasm': 0.3392419219017029,\n",
       "  'fear': 0.020439298823475838,\n",
       "  'anger': 0.5469629168510437,\n",
       "  'disgust': 0.011673674918711185},\n",
       " {'neutral': 0.10427707433700562,\n",
       "  'happiness': 0.056879620999097824,\n",
       "  'sadness': 0.04019385576248169,\n",
       "  'enthusiasm': 0.013456849381327629,\n",
       "  'fear': 0.6682763695716858,\n",
       "  'anger': 0.10642366111278534,\n",
       "  'disgust': 0.010492533445358276},\n",
       " {'neutral': 0.05399341508746147,\n",
       "  'happiness': 0.007434799335896969,\n",
       "  'sadness': 0.013843961991369724,\n",
       "  'enthusiasm': 0.019031958654522896,\n",
       "  'fear': 0.25976312160491943,\n",
       "  'anger': 0.6364893913269043,\n",
       "  'disgust': 0.009443411603569984},\n",
       " {'neutral': 0.9988150596618652,\n",
       "  'happiness': 0.0001691318757366389,\n",
       "  'sadness': 0.0001223882136400789,\n",
       "  'enthusiasm': 0.0002484506112523377,\n",
       "  'fear': 0.0002766865654848516,\n",
       "  'anger': 0.0002767440746538341,\n",
       "  'disgust': 9.159707406070083e-05},\n",
       " {'neutral': 0.05574873834848404,\n",
       "  'happiness': 0.008815949782729149,\n",
       "  'sadness': 0.055222101509571075,\n",
       "  'enthusiasm': 0.0739891305565834,\n",
       "  'fear': 0.4189966917037964,\n",
       "  'anger': 0.3756764233112335,\n",
       "  'disgust': 0.011550898663699627},\n",
       " {'neutral': 0.0005717346793971956,\n",
       "  'happiness': 0.9970797896385193,\n",
       "  'sadness': 0.0003491798706818372,\n",
       "  'enthusiasm': 0.0005371652077883482,\n",
       "  'fear': 0.0006938545266166329,\n",
       "  'anger': 0.0005797261255793273,\n",
       "  'disgust': 0.00018845629529096186},\n",
       " {'neutral': 0.007172105833888054,\n",
       "  'happiness': 0.3299902379512787,\n",
       "  'sadness': 0.0022141512017697096,\n",
       "  'enthusiasm': 0.6118454933166504,\n",
       "  'fear': 0.02666054479777813,\n",
       "  'anger': 0.016679048538208008,\n",
       "  'disgust': 0.005438420921564102},\n",
       " {'neutral': 0.0027997286524623632,\n",
       "  'happiness': 0.9564735889434814,\n",
       "  'sadness': 0.0022042677737772465,\n",
       "  'enthusiasm': 0.0027398683596402407,\n",
       "  'fear': 0.023736029863357544,\n",
       "  'anger': 0.010580161586403847,\n",
       "  'disgust': 0.0014663109323009849},\n",
       " {'neutral': 0.03140454366803169,\n",
       "  'happiness': 0.02027008682489395,\n",
       "  'sadness': 0.011714738793671131,\n",
       "  'enthusiasm': 0.031730569899082184,\n",
       "  'fear': 0.2819522023200989,\n",
       "  'anger': 0.6126235127449036,\n",
       "  'disgust': 0.010304393246769905},\n",
       " {'neutral': 0.014389250427484512,\n",
       "  'happiness': 0.017682159319519997,\n",
       "  'sadness': 0.1244027316570282,\n",
       "  'enthusiasm': 0.00908521469682455,\n",
       "  'fear': 0.18412835896015167,\n",
       "  'anger': 0.6383660435676575,\n",
       "  'disgust': 0.011946255341172218},\n",
       " {'neutral': 0.05010091885924339,\n",
       "  'happiness': 0.1689288467168808,\n",
       "  'sadness': 0.09126649796962738,\n",
       "  'enthusiasm': 0.016246289014816284,\n",
       "  'fear': 0.10995305329561234,\n",
       "  'anger': 0.5501053929328918,\n",
       "  'disgust': 0.013399009592831135},\n",
       " {'neutral': 0.5688719749450684,\n",
       "  'happiness': 0.015690334141254425,\n",
       "  'sadness': 0.014444202184677124,\n",
       "  'enthusiasm': 0.016817787662148476,\n",
       "  'fear': 0.10110554844141006,\n",
       "  'anger': 0.27494826912879944,\n",
       "  'disgust': 0.008121827617287636},\n",
       " {'neutral': 0.07217881828546524,\n",
       "  'happiness': 0.013631617650389671,\n",
       "  'sadness': 0.002774645807221532,\n",
       "  'enthusiasm': 0.0276968814432621,\n",
       "  'fear': 0.030825091525912285,\n",
       "  'anger': 0.8443079590797424,\n",
       "  'disgust': 0.008585006929934025},\n",
       " {'neutral': 0.0005747018731199205,\n",
       "  'happiness': 0.9958945512771606,\n",
       "  'sadness': 0.0002774338936433196,\n",
       "  'enthusiasm': 0.0013054226292297244,\n",
       "  'fear': 0.0009828975889831781,\n",
       "  'anger': 0.0007124667754396796,\n",
       "  'disgust': 0.0002525592572055757},\n",
       " {'neutral': 0.997623860836029,\n",
       "  'happiness': 0.0002980851859319955,\n",
       "  'sadness': 0.00013968041457701474,\n",
       "  'enthusiasm': 0.0008577247499488294,\n",
       "  'fear': 0.00031835728441365063,\n",
       "  'anger': 0.0006063987384550273,\n",
       "  'disgust': 0.00015597045421600342},\n",
       " {'neutral': 0.03198671340942383,\n",
       "  'happiness': 0.011182382702827454,\n",
       "  'sadness': 0.014441856183111668,\n",
       "  'enthusiasm': 0.0061028930358588696,\n",
       "  'fear': 0.26993006467819214,\n",
       "  'anger': 0.6564449071884155,\n",
       "  'disgust': 0.009911194443702698},\n",
       " {'neutral': 0.02969212457537651,\n",
       "  'happiness': 0.07334710657596588,\n",
       "  'sadness': 0.13899317383766174,\n",
       "  'enthusiasm': 0.008001948706805706,\n",
       "  'fear': 0.04407235234975815,\n",
       "  'anger': 0.6932225823402405,\n",
       "  'disgust': 0.012670686468482018},\n",
       " {'neutral': 0.013261749409139156,\n",
       "  'happiness': 0.057804569602012634,\n",
       "  'sadness': 0.010558628477156162,\n",
       "  'enthusiasm': 0.08367928862571716,\n",
       "  'fear': 0.0399574339389801,\n",
       "  'anger': 0.783515214920044,\n",
       "  'disgust': 0.011223106645047665},\n",
       " {'neutral': 0.0011897453805431724,\n",
       "  'happiness': 0.004061669111251831,\n",
       "  'sadness': 0.9847091436386108,\n",
       "  'enthusiasm': 0.0006131309201009572,\n",
       "  'fear': 0.004160876851528883,\n",
       "  'anger': 0.004106499254703522,\n",
       "  'disgust': 0.0011589431669563055},\n",
       " {'neutral': 0.001925403717905283,\n",
       "  'happiness': 0.001921110088005662,\n",
       "  'sadness': 0.0019947655964642763,\n",
       "  'enthusiasm': 0.9872796535491943,\n",
       "  'fear': 0.001702152076177299,\n",
       "  'anger': 0.003902862314134836,\n",
       "  'disgust': 0.0012740453239530325},\n",
       " {'neutral': 0.9864757657051086,\n",
       "  'happiness': 0.0008522052085027099,\n",
       "  'sadness': 0.0004322074237279594,\n",
       "  'enthusiasm': 0.004710448905825615,\n",
       "  'fear': 0.0006943016778677702,\n",
       "  'anger': 0.006236532237380743,\n",
       "  'disgust': 0.0005985232419334352},\n",
       " {'neutral': 0.015481512062251568,\n",
       "  'happiness': 0.2232852578163147,\n",
       "  'sadness': 0.46730661392211914,\n",
       "  'enthusiasm': 0.004975076764822006,\n",
       "  'fear': 0.0395410880446434,\n",
       "  'anger': 0.2380117028951645,\n",
       "  'disgust': 0.011398669332265854},\n",
       " {'neutral': 0.5063955187797546,\n",
       "  'happiness': 0.00716585386544466,\n",
       "  'sadness': 0.005226850043982267,\n",
       "  'enthusiasm': 0.026181424036622047,\n",
       "  'fear': 0.007617470342665911,\n",
       "  'anger': 0.4400017559528351,\n",
       "  'disgust': 0.0074111646972596645},\n",
       " {'neutral': 0.0038136248476803303,\n",
       "  'happiness': 0.016089990735054016,\n",
       "  'sadness': 0.0575333796441555,\n",
       "  'enthusiasm': 0.00309285637922585,\n",
       "  'fear': 0.8793801069259644,\n",
       "  'anger': 0.03465847298502922,\n",
       "  'disgust': 0.005431544501334429},\n",
       " {'neutral': 0.0019172134343534708,\n",
       "  'happiness': 0.955141007900238,\n",
       "  'sadness': 0.003960623871535063,\n",
       "  'enthusiasm': 0.004865292459726334,\n",
       "  'fear': 0.029621073976159096,\n",
       "  'anger': 0.0032226925250142813,\n",
       "  'disgust': 0.001271990593522787},\n",
       " {'neutral': 0.05574873834848404,\n",
       "  'happiness': 0.008815949782729149,\n",
       "  'sadness': 0.055222101509571075,\n",
       "  'enthusiasm': 0.0739891305565834,\n",
       "  'fear': 0.4189966917037964,\n",
       "  'anger': 0.3756764233112335,\n",
       "  'disgust': 0.011550898663699627},\n",
       " {'neutral': 0.0005717346793971956,\n",
       "  'happiness': 0.9970797896385193,\n",
       "  'sadness': 0.0003491798706818372,\n",
       "  'enthusiasm': 0.0005371652077883482,\n",
       "  'fear': 0.0006938545266166329,\n",
       "  'anger': 0.0005797261255793273,\n",
       "  'disgust': 0.00018845629529096186},\n",
       " {'neutral': 0.007335095666348934,\n",
       "  'happiness': 0.3164859414100647,\n",
       "  'sadness': 0.0021986868232488632,\n",
       "  'enthusiasm': 0.6242399215698242,\n",
       "  'fear': 0.027067430317401886,\n",
       "  'anger': 0.01718018390238285,\n",
       "  'disgust': 0.0054927971214056015},\n",
       " {'neutral': 0.0027997286524623632,\n",
       "  'happiness': 0.9564735889434814,\n",
       "  'sadness': 0.0022042677737772465,\n",
       "  'enthusiasm': 0.0027398683596402407,\n",
       "  'fear': 0.023736029863357544,\n",
       "  'anger': 0.010580161586403847,\n",
       "  'disgust': 0.0014663109323009849},\n",
       " {'neutral': 0.05574873834848404,\n",
       "  'happiness': 0.008815949782729149,\n",
       "  'sadness': 0.055222101509571075,\n",
       "  'enthusiasm': 0.0739891305565834,\n",
       "  'fear': 0.4189966917037964,\n",
       "  'anger': 0.3756764233112335,\n",
       "  'disgust': 0.011550898663699627},\n",
       " {'neutral': 0.0005717346793971956,\n",
       "  'happiness': 0.9970797896385193,\n",
       "  'sadness': 0.0003491798706818372,\n",
       "  'enthusiasm': 0.0005371652077883482,\n",
       "  'fear': 0.0006938545266166329,\n",
       "  'anger': 0.0005797261255793273,\n",
       "  'disgust': 0.00018845629529096186},\n",
       " {'neutral': 0.05574873834848404,\n",
       "  'happiness': 0.008815949782729149,\n",
       "  'sadness': 0.055222101509571075,\n",
       "  'enthusiasm': 0.0739891305565834,\n",
       "  'fear': 0.4189966917037964,\n",
       "  'anger': 0.3756764233112335,\n",
       "  'disgust': 0.011550898663699627},\n",
       " {'neutral': 0.05574873834848404,\n",
       "  'happiness': 0.008815949782729149,\n",
       "  'sadness': 0.055222101509571075,\n",
       "  'enthusiasm': 0.0739891305565834,\n",
       "  'fear': 0.4189966917037964,\n",
       "  'anger': 0.3756764233112335,\n",
       "  'disgust': 0.011550898663699627},\n",
       " {'neutral': 0.0005717346793971956,\n",
       "  'happiness': 0.9970797896385193,\n",
       "  'sadness': 0.0003491798706818372,\n",
       "  'enthusiasm': 0.0005371652077883482,\n",
       "  'fear': 0.0006938545266166329,\n",
       "  'anger': 0.0005797261255793273,\n",
       "  'disgust': 0.00018845629529096186},\n",
       " {'neutral': 0.0066359518095850945,\n",
       "  'happiness': 0.3518541753292084,\n",
       "  'sadness': 0.002454947680234909,\n",
       "  'enthusiasm': 0.5876445770263672,\n",
       "  'fear': 0.0284036286175251,\n",
       "  'anger': 0.017473749816417694,\n",
       "  'disgust': 0.005532961338758469},\n",
       " {'neutral': 0.0027997286524623632,\n",
       "  'happiness': 0.9564735889434814,\n",
       "  'sadness': 0.0022042677737772465,\n",
       "  'enthusiasm': 0.0027398683596402407,\n",
       "  'fear': 0.023736029863357544,\n",
       "  'anger': 0.010580161586403847,\n",
       "  'disgust': 0.0014663109323009849},\n",
       " {'neutral': 0.21089407801628113,\n",
       "  'happiness': 0.006317690014839172,\n",
       "  'sadness': 0.0728844404220581,\n",
       "  'enthusiasm': 0.42719021439552307,\n",
       "  'fear': 0.016001738607883453,\n",
       "  'anger': 0.25424206256866455,\n",
       "  'disgust': 0.012469732202589512},\n",
       " {'neutral': 0.014389250427484512,\n",
       "  'happiness': 0.017682159319519997,\n",
       "  'sadness': 0.1244027316570282,\n",
       "  'enthusiasm': 0.00908521469682455,\n",
       "  'fear': 0.18412835896015167,\n",
       "  'anger': 0.6383660435676575,\n",
       "  'disgust': 0.011946255341172218},\n",
       " {'neutral': 0.05010091885924339,\n",
       "  'happiness': 0.1689288467168808,\n",
       "  'sadness': 0.09126649796962738,\n",
       "  'enthusiasm': 0.016246289014816284,\n",
       "  'fear': 0.10995305329561234,\n",
       "  'anger': 0.5501053929328918,\n",
       "  'disgust': 0.013399009592831135},\n",
       " {'neutral': 0.5688719749450684,\n",
       "  'happiness': 0.015690334141254425,\n",
       "  'sadness': 0.014444202184677124,\n",
       "  'enthusiasm': 0.016817787662148476,\n",
       "  'fear': 0.10110554844141006,\n",
       "  'anger': 0.27494826912879944,\n",
       "  'disgust': 0.008121827617287636},\n",
       " {'neutral': 0.11176832020282745,\n",
       "  'happiness': 0.014997115358710289,\n",
       "  'sadness': 0.022426731884479523,\n",
       "  'enthusiasm': 0.0061431690119206905,\n",
       "  'fear': 0.12604118883609772,\n",
       "  'anger': 0.7081441283226013,\n",
       "  'disgust': 0.010479304008185863},\n",
       " {'neutral': 0.0005747018731199205,\n",
       "  'happiness': 0.9958945512771606,\n",
       "  'sadness': 0.0002774338936433196,\n",
       "  'enthusiasm': 0.0013054226292297244,\n",
       "  'fear': 0.0009828975889831781,\n",
       "  'anger': 0.0007124667754396796,\n",
       "  'disgust': 0.0002525592572055757},\n",
       " {'neutral': 0.997623860836029,\n",
       "  'happiness': 0.0002980851859319955,\n",
       "  'sadness': 0.00013968041457701474,\n",
       "  'enthusiasm': 0.0008577247499488294,\n",
       "  'fear': 0.00031835728441365063,\n",
       "  'anger': 0.0006063987384550273,\n",
       "  'disgust': 0.00015597045421600342},\n",
       " {'neutral': 0.03198671340942383,\n",
       "  'happiness': 0.011182382702827454,\n",
       "  'sadness': 0.014441856183111668,\n",
       "  'enthusiasm': 0.0061028930358588696,\n",
       "  'fear': 0.26993006467819214,\n",
       "  'anger': 0.6564449071884155,\n",
       "  'disgust': 0.009911194443702698},\n",
       " {'neutral': 0.02969212457537651,\n",
       "  'happiness': 0.07334710657596588,\n",
       "  'sadness': 0.13899317383766174,\n",
       "  'enthusiasm': 0.008001948706805706,\n",
       "  'fear': 0.04407235234975815,\n",
       "  'anger': 0.6932225823402405,\n",
       "  'disgust': 0.012670686468482018},\n",
       " {'neutral': 0.013261749409139156,\n",
       "  'happiness': 0.057804569602012634,\n",
       "  'sadness': 0.010558628477156162,\n",
       "  'enthusiasm': 0.08367928862571716,\n",
       "  'fear': 0.0399574339389801,\n",
       "  'anger': 0.783515214920044,\n",
       "  'disgust': 0.011223106645047665},\n",
       " {'neutral': 0.0011897453805431724,\n",
       "  'happiness': 0.004061669111251831,\n",
       "  'sadness': 0.9847091436386108,\n",
       "  'enthusiasm': 0.0006131309201009572,\n",
       "  'fear': 0.004160876851528883,\n",
       "  'anger': 0.004106499254703522,\n",
       "  'disgust': 0.0011589431669563055},\n",
       " {'neutral': 0.0024799974635243416,\n",
       "  'happiness': 0.0019394049886614084,\n",
       "  'sadness': 0.0017862129025161266,\n",
       "  'enthusiasm': 0.985912024974823,\n",
       "  'fear': 0.0017053040210157633,\n",
       "  'anger': 0.004835907835513353,\n",
       "  'disgust': 0.0013411144027486444},\n",
       " {'neutral': 0.9864757657051086,\n",
       "  'happiness': 0.0008522052085027099,\n",
       "  'sadness': 0.0004322074237279594,\n",
       "  'enthusiasm': 0.004710448905825615,\n",
       "  'fear': 0.0006943016778677702,\n",
       "  'anger': 0.006236532237380743,\n",
       "  'disgust': 0.0005985232419334352},\n",
       " {'neutral': 0.018480004742741585,\n",
       "  'happiness': 0.18540140986442566,\n",
       "  'sadness': 0.536064624786377,\n",
       "  'enthusiasm': 0.0047510177828371525,\n",
       "  'fear': 0.02578827738761902,\n",
       "  'anger': 0.21884799003601074,\n",
       "  'disgust': 0.010666711255908012},\n",
       " {'neutral': 0.5063955187797546,\n",
       "  'happiness': 0.00716585386544466,\n",
       "  'sadness': 0.005226850043982267,\n",
       "  'enthusiasm': 0.026181424036622047,\n",
       "  'fear': 0.007617470342665911,\n",
       "  'anger': 0.4400017559528351,\n",
       "  'disgust': 0.0074111646972596645},\n",
       " {'neutral': 0.0038136248476803303,\n",
       "  'happiness': 0.016089990735054016,\n",
       "  'sadness': 0.0575333796441555,\n",
       "  'enthusiasm': 0.00309285637922585,\n",
       "  'fear': 0.8793801069259644,\n",
       "  'anger': 0.03465847298502922,\n",
       "  'disgust': 0.005431544501334429},\n",
       " {'neutral': 0.0019172134343534708,\n",
       "  'happiness': 0.955141007900238,\n",
       "  'sadness': 0.003960623871535063,\n",
       "  'enthusiasm': 0.004865292459726334,\n",
       "  'fear': 0.029621073976159096,\n",
       "  'anger': 0.0032226925250142813,\n",
       "  'disgust': 0.001271990593522787},\n",
       " {'neutral': 0.0004142174730077386,\n",
       "  'happiness': 0.9968562126159668,\n",
       "  'sadness': 0.0004553486069198698,\n",
       "  'enthusiasm': 0.00047239704872481525,\n",
       "  'fear': 0.001102725393138826,\n",
       "  'anger': 0.0005079708062112331,\n",
       "  'disgust': 0.00019097763288300484},\n",
       " {'neutral': 0.0016782499151304364,\n",
       "  'happiness': 0.9647430777549744,\n",
       "  'sadness': 0.010869150049984455,\n",
       "  'enthusiasm': 0.0011756030144169927,\n",
       "  'fear': 0.01352674700319767,\n",
       "  'anger': 0.006660457234829664,\n",
       "  'disgust': 0.001346740173175931},\n",
       " {'neutral': 0.0006140792975202203,\n",
       "  'happiness': 0.9813816547393799,\n",
       "  'sadness': 0.007230838760733604,\n",
       "  'enthusiasm': 0.001125088194385171,\n",
       "  'fear': 0.007220199331641197,\n",
       "  'anger': 0.0016986565897241235,\n",
       "  'disgust': 0.0007296054973267019},\n",
       " {'neutral': 0.026008956134319305,\n",
       "  'happiness': 0.012632451951503754,\n",
       "  'sadness': 0.005636133719235659,\n",
       "  'enthusiasm': 0.7643866539001465,\n",
       "  'fear': 0.017846904695034027,\n",
       "  'anger': 0.16564257442951202,\n",
       "  'disgust': 0.00784633494913578},\n",
       " {'neutral': 0.0040007890202105045,\n",
       "  'happiness': 0.00847205426543951,\n",
       "  'sadness': 0.024176008999347687,\n",
       "  'enthusiasm': 0.014582439325749874,\n",
       "  'fear': 0.9030917286872864,\n",
       "  'anger': 0.04036850482225418,\n",
       "  'disgust': 0.005308371502906084},\n",
       " {'neutral': 0.010149584151804447,\n",
       "  'happiness': 0.0771428644657135,\n",
       "  'sadness': 0.5800784230232239,\n",
       "  'enthusiasm': 0.004693802446126938,\n",
       "  'fear': 0.2692091166973114,\n",
       "  'anger': 0.04976743459701538,\n",
       "  'disgust': 0.008958740159869194},\n",
       " {'neutral': 0.0014369967393577099,\n",
       "  'happiness': 0.9630125761032104,\n",
       "  'sadness': 0.012174274772405624,\n",
       "  'enthusiasm': 0.0015172283165156841,\n",
       "  'fear': 0.01660274900496006,\n",
       "  'anger': 0.004017942119389772,\n",
       "  'disgust': 0.0012382949935272336},\n",
       " {'neutral': 0.7508640289306641,\n",
       "  'happiness': 0.005779245402663946,\n",
       "  'sadness': 0.001971413381397724,\n",
       "  'enthusiasm': 0.007875962182879448,\n",
       "  'fear': 0.020983215421438217,\n",
       "  'anger': 0.20801326632499695,\n",
       "  'disgust': 0.00451281201094389},\n",
       " {'neutral': 0.012862623669207096,\n",
       "  'happiness': 0.16147585213184357,\n",
       "  'sadness': 0.005169609095901251,\n",
       "  'enthusiasm': 0.17463187873363495,\n",
       "  'fear': 0.5159187912940979,\n",
       "  'anger': 0.11740003526210785,\n",
       "  'disgust': 0.012541227042675018},\n",
       " {'neutral': 0.6796346306800842,\n",
       "  'happiness': 0.006515366956591606,\n",
       "  'sadness': 0.00456517469137907,\n",
       "  'enthusiasm': 0.0164017453789711,\n",
       "  'fear': 0.1096576452255249,\n",
       "  'anger': 0.1769777089357376,\n",
       "  'disgust': 0.00624771136790514},\n",
       " {'neutral': 0.033009640872478485,\n",
       "  'happiness': 0.08087486028671265,\n",
       "  'sadness': 0.03684202581644058,\n",
       "  'enthusiasm': 0.1825762540102005,\n",
       "  'fear': 0.03711812570691109,\n",
       "  'anger': 0.6158470511436462,\n",
       "  'disgust': 0.013732044026255608},\n",
       " {'neutral': 0.985039234161377,\n",
       "  'happiness': 0.0008459527743980289,\n",
       "  'sadness': 0.00046543910866603255,\n",
       "  'enthusiasm': 0.0018729534931480885,\n",
       "  'fear': 0.0034644075203686953,\n",
       "  'anger': 0.007678651250898838,\n",
       "  'disgust': 0.0006332401535473764},\n",
       " {'neutral': 0.0010456155287101865,\n",
       "  'happiness': 0.9891824126243591,\n",
       "  'sadness': 0.0003019784635398537,\n",
       "  'enthusiasm': 0.006375738885253668,\n",
       "  'fear': 0.000669164233841002,\n",
       "  'anger': 0.0019044926157221198,\n",
       "  'disgust': 0.0005206704954616725},\n",
       " {'neutral': 0.0016377167776226997,\n",
       "  'happiness': 0.9698188304901123,\n",
       "  'sadness': 0.000928947061765939,\n",
       "  'enthusiasm': 0.007069793529808521,\n",
       "  'fear': 0.015648476779460907,\n",
       "  'anger': 0.0038453657180070877,\n",
       "  'disgust': 0.001050941296853125},\n",
       " {'neutral': 0.05574873834848404,\n",
       "  'happiness': 0.008815949782729149,\n",
       "  'sadness': 0.055222101509571075,\n",
       "  'enthusiasm': 0.0739891305565834,\n",
       "  'fear': 0.4189966917037964,\n",
       "  'anger': 0.3756764233112335,\n",
       "  'disgust': 0.011550898663699627},\n",
       " {'neutral': 0.0005717346793971956,\n",
       "  'happiness': 0.9970797896385193,\n",
       "  'sadness': 0.0003491798706818372,\n",
       "  'enthusiasm': 0.0005371652077883482,\n",
       "  'fear': 0.0006938545266166329,\n",
       "  'anger': 0.0005797261255793273,\n",
       "  'disgust': 0.00018845629529096186},\n",
       " {'neutral': 0.005898027680814266,\n",
       "  'happiness': 0.1245698556303978,\n",
       "  'sadness': 0.0021516229026019573,\n",
       "  'enthusiasm': 0.8175562620162964,\n",
       "  'fear': 0.026514651253819466,\n",
       "  'anger': 0.018280602991580963,\n",
       "  'disgust': 0.005028989166021347},\n",
       " {'neutral': 0.0027997286524623632,\n",
       "  'happiness': 0.9564735889434814,\n",
       "  'sadness': 0.0022042677737772465,\n",
       "  'enthusiasm': 0.0027398683596402407,\n",
       "  'fear': 0.023736029863357544,\n",
       "  'anger': 0.010580161586403847,\n",
       "  'disgust': 0.0014663109323009849},\n",
       " {'neutral': 0.9983634352684021,\n",
       "  'happiness': 0.00020038084767293185,\n",
       "  'sadness': 0.0001643629075260833,\n",
       "  'enthusiasm': 0.0006216428591869771,\n",
       "  'fear': 0.0001858609466580674,\n",
       "  'anger': 0.0003529864188749343,\n",
       "  'disgust': 0.00011126580648124218},\n",
       " {'neutral': 0.05574873834848404,\n",
       "  'happiness': 0.008815949782729149,\n",
       "  'sadness': 0.055222101509571075,\n",
       "  'enthusiasm': 0.0739891305565834,\n",
       "  'fear': 0.4189966917037964,\n",
       "  'anger': 0.3756764233112335,\n",
       "  'disgust': 0.011550898663699627},\n",
       " {'neutral': 0.0005717346793971956,\n",
       "  'happiness': 0.9970797896385193,\n",
       "  'sadness': 0.0003491798706818372,\n",
       "  'enthusiasm': 0.0005371652077883482,\n",
       "  'fear': 0.0006938545266166329,\n",
       "  'anger': 0.0005797261255793273,\n",
       "  'disgust': 0.00018845629529096186},\n",
       " {'neutral': 0.005898027680814266,\n",
       "  'happiness': 0.1245698556303978,\n",
       "  'sadness': 0.0021516229026019573,\n",
       "  'enthusiasm': 0.8175562620162964,\n",
       "  'fear': 0.026514651253819466,\n",
       "  'anger': 0.018280602991580963,\n",
       "  'disgust': 0.005028989166021347},\n",
       " {'neutral': 0.05574873834848404,\n",
       "  'happiness': 0.008815949782729149,\n",
       "  'sadness': 0.055222101509571075,\n",
       "  'enthusiasm': 0.0739891305565834,\n",
       "  'fear': 0.4189966917037964,\n",
       "  'anger': 0.3756764233112335,\n",
       "  'disgust': 0.011550898663699627},\n",
       " {'neutral': 0.0005717346793971956,\n",
       "  'happiness': 0.9970797896385193,\n",
       "  'sadness': 0.0003491798706818372,\n",
       "  'enthusiasm': 0.0005371652077883482,\n",
       "  'fear': 0.0006938545266166329,\n",
       "  'anger': 0.0005797261255793273,\n",
       "  'disgust': 0.00018845629529096186},\n",
       " {'neutral': 0.0067272731103003025,\n",
       "  'happiness': 0.368214875459671,\n",
       "  'sadness': 0.002385138999670744,\n",
       "  'enthusiasm': 0.5719739198684692,\n",
       "  'fear': 0.028007391840219498,\n",
       "  'anger': 0.01719767041504383,\n",
       "  'disgust': 0.005493790842592716},\n",
       " {'neutral': 0.0027997286524623632,\n",
       "  'happiness': 0.9564735889434814,\n",
       "  'sadness': 0.0022042677737772465,\n",
       "  'enthusiasm': 0.0027398683596402407,\n",
       "  'fear': 0.023736029863357544,\n",
       "  'anger': 0.010580161586403847,\n",
       "  'disgust': 0.0014663109323009849},\n",
       " {'neutral': 0.03140454366803169,\n",
       "  'happiness': 0.02027008682489395,\n",
       "  'sadness': 0.011714738793671131,\n",
       "  'enthusiasm': 0.031730569899082184,\n",
       "  'fear': 0.2819522023200989,\n",
       "  'anger': 0.6126235127449036,\n",
       "  'disgust': 0.010304393246769905},\n",
       " {'neutral': 0.05574873834848404,\n",
       "  'happiness': 0.008815949782729149,\n",
       "  'sadness': 0.055222101509571075,\n",
       "  'enthusiasm': 0.0739891305565834,\n",
       "  'fear': 0.4189966917037964,\n",
       "  'anger': 0.3756764233112335,\n",
       "  'disgust': 0.011550898663699627},\n",
       " {'neutral': 0.05574873834848404,\n",
       "  'happiness': 0.008815949782729149,\n",
       "  'sadness': 0.055222101509571075,\n",
       "  'enthusiasm': 0.0739891305565834,\n",
       "  'fear': 0.4189966917037964,\n",
       "  'anger': 0.3756764233112335,\n",
       "  'disgust': 0.011550898663699627},\n",
       " {'neutral': 0.0005717346793971956,\n",
       "  'happiness': 0.9970797896385193,\n",
       "  'sadness': 0.0003491798706818372,\n",
       "  'enthusiasm': 0.0005371652077883482,\n",
       "  'fear': 0.0006938545266166329,\n",
       "  'anger': 0.0005797261255793273,\n",
       "  'disgust': 0.00018845629529096186},\n",
       " {'neutral': 0.00807605218142271,\n",
       "  'happiness': 0.32261165976524353,\n",
       "  'sadness': 0.002165537327528,\n",
       "  'enthusiasm': 0.6147717237472534,\n",
       "  'fear': 0.027702659368515015,\n",
       "  'anger': 0.01892217993736267,\n",
       "  'disgust': 0.005750173702836037},\n",
       " {'neutral': 0.0027997286524623632,\n",
       "  'happiness': 0.9564735889434814,\n",
       "  'sadness': 0.0022042677737772465,\n",
       "  'enthusiasm': 0.0027398683596402407,\n",
       "  'fear': 0.023736029863357544,\n",
       "  'anger': 0.010580161586403847,\n",
       "  'disgust': 0.0014663109323009849},\n",
       " {'neutral': 0.0351204052567482,\n",
       "  'happiness': 0.007671184837818146,\n",
       "  'sadness': 0.20037873089313507,\n",
       "  'enthusiasm': 0.26209181547164917,\n",
       "  'fear': 0.010805373080074787,\n",
       "  'anger': 0.4697595536708832,\n",
       "  'disgust': 0.01417300384491682},\n",
       " {'neutral': 0.014389250427484512,\n",
       "  'happiness': 0.017682159319519997,\n",
       "  'sadness': 0.1244027316570282,\n",
       "  'enthusiasm': 0.00908521469682455,\n",
       "  'fear': 0.18412835896015167,\n",
       "  'anger': 0.6383660435676575,\n",
       "  'disgust': 0.011946255341172218},\n",
       " {'neutral': 0.05010091885924339,\n",
       "  'happiness': 0.1689288467168808,\n",
       "  'sadness': 0.09126649796962738,\n",
       "  'enthusiasm': 0.016246289014816284,\n",
       "  'fear': 0.10995305329561234,\n",
       "  'anger': 0.5501053929328918,\n",
       "  'disgust': 0.013399009592831135},\n",
       " {'neutral': 0.5688719749450684,\n",
       "  'happiness': 0.015690334141254425,\n",
       "  'sadness': 0.014444202184677124,\n",
       "  'enthusiasm': 0.016817787662148476,\n",
       "  'fear': 0.10110554844141006,\n",
       "  'anger': 0.27494826912879944,\n",
       "  'disgust': 0.008121827617287636},\n",
       " {'neutral': 0.11176832020282745,\n",
       "  'happiness': 0.014997115358710289,\n",
       "  'sadness': 0.022426731884479523,\n",
       "  'enthusiasm': 0.0061431690119206905,\n",
       "  'fear': 0.12604118883609772,\n",
       "  'anger': 0.7081441283226013,\n",
       "  'disgust': 0.010479304008185863},\n",
       " {'neutral': 0.0005747018731199205,\n",
       "  'happiness': 0.9958945512771606,\n",
       "  'sadness': 0.0002774338936433196,\n",
       "  'enthusiasm': 0.0013054226292297244,\n",
       "  'fear': 0.0009828975889831781,\n",
       "  'anger': 0.0007124667754396796,\n",
       "  'disgust': 0.0002525592572055757},\n",
       " {'neutral': 0.997623860836029,\n",
       "  'happiness': 0.0002980851859319955,\n",
       "  'sadness': 0.00013968041457701474,\n",
       "  'enthusiasm': 0.0008577247499488294,\n",
       "  'fear': 0.00031835728441365063,\n",
       "  'anger': 0.0006063987384550273,\n",
       "  'disgust': 0.00015597045421600342},\n",
       " {'neutral': 0.03198671340942383,\n",
       "  'happiness': 0.011182382702827454,\n",
       "  'sadness': 0.014441856183111668,\n",
       "  'enthusiasm': 0.0061028930358588696,\n",
       "  'fear': 0.26993006467819214,\n",
       "  'anger': 0.6564449071884155,\n",
       "  'disgust': 0.009911194443702698},\n",
       " {'neutral': 0.02969212457537651,\n",
       "  'happiness': 0.07334710657596588,\n",
       "  'sadness': 0.13899317383766174,\n",
       "  'enthusiasm': 0.008001948706805706,\n",
       "  'fear': 0.04407235234975815,\n",
       "  'anger': 0.6932225823402405,\n",
       "  'disgust': 0.012670686468482018},\n",
       " {'neutral': 0.013261749409139156,\n",
       "  'happiness': 0.057804569602012634,\n",
       "  'sadness': 0.010558628477156162,\n",
       "  'enthusiasm': 0.08367928862571716,\n",
       "  'fear': 0.0399574339389801,\n",
       "  'anger': 0.783515214920044,\n",
       "  'disgust': 0.011223106645047665},\n",
       " {'neutral': 0.0011897453805431724,\n",
       "  'happiness': 0.004061669111251831,\n",
       "  'sadness': 0.9847091436386108,\n",
       "  'enthusiasm': 0.0006131309201009572,\n",
       "  'fear': 0.004160876851528883,\n",
       "  'anger': 0.004106499254703522,\n",
       "  'disgust': 0.0011589431669563055},\n",
       " {'neutral': 0.0024799974635243416,\n",
       "  'happiness': 0.0019394049886614084,\n",
       "  'sadness': 0.0017862129025161266,\n",
       "  'enthusiasm': 0.985912024974823,\n",
       "  'fear': 0.0017053040210157633,\n",
       "  'anger': 0.004835907835513353,\n",
       "  'disgust': 0.0013411144027486444},\n",
       " {'neutral': 0.9864757657051086,\n",
       "  'happiness': 0.0008522052085027099,\n",
       "  'sadness': 0.0004322074237279594,\n",
       "  'enthusiasm': 0.004710448905825615,\n",
       "  'fear': 0.0006943016778677702,\n",
       "  'anger': 0.006236532237380743,\n",
       "  'disgust': 0.0005985232419334352},\n",
       " {'neutral': 0.018480004742741585,\n",
       "  'happiness': 0.18540140986442566,\n",
       "  'sadness': 0.536064624786377,\n",
       "  'enthusiasm': 0.0047510177828371525,\n",
       "  'fear': 0.02578827738761902,\n",
       "  'anger': 0.21884799003601074,\n",
       "  'disgust': 0.010666711255908012},\n",
       " {'neutral': 0.5063955187797546,\n",
       "  'happiness': 0.00716585386544466,\n",
       "  'sadness': 0.005226850043982267,\n",
       "  'enthusiasm': 0.026181424036622047,\n",
       "  'fear': 0.007617470342665911,\n",
       "  'anger': 0.4400017559528351,\n",
       "  'disgust': 0.0074111646972596645},\n",
       " {'neutral': 0.0038136248476803303,\n",
       "  'happiness': 0.016089990735054016,\n",
       "  'sadness': 0.0575333796441555,\n",
       "  'enthusiasm': 0.00309285637922585,\n",
       "  'fear': 0.8793801069259644,\n",
       "  'anger': 0.03465847298502922,\n",
       "  'disgust': 0.005431544501334429},\n",
       " {'neutral': 0.0019172134343534708,\n",
       "  'happiness': 0.955141007900238,\n",
       "  'sadness': 0.003960623871535063,\n",
       "  'enthusiasm': 0.004865292459726334,\n",
       "  'fear': 0.029621073976159096,\n",
       "  'anger': 0.0032226925250142813,\n",
       "  'disgust': 0.001271990593522787},\n",
       " {'neutral': 0.0004142174730077386,\n",
       "  'happiness': 0.9968562126159668,\n",
       "  'sadness': 0.0004553486069198698,\n",
       "  'enthusiasm': 0.00047239704872481525,\n",
       "  'fear': 0.001102725393138826,\n",
       "  'anger': 0.0005079708062112331,\n",
       "  'disgust': 0.00019097763288300484},\n",
       " {'neutral': 0.0016782499151304364,\n",
       "  'happiness': 0.9647430777549744,\n",
       "  'sadness': 0.010869150049984455,\n",
       "  'enthusiasm': 0.0011756030144169927,\n",
       "  'fear': 0.01352674700319767,\n",
       "  'anger': 0.006660457234829664,\n",
       "  'disgust': 0.001346740173175931},\n",
       " {'neutral': 0.0006140792975202203,\n",
       "  'happiness': 0.9813816547393799,\n",
       "  'sadness': 0.007230838760733604,\n",
       "  'enthusiasm': 0.001125088194385171,\n",
       "  'fear': 0.007220199331641197,\n",
       "  'anger': 0.0016986565897241235,\n",
       "  'disgust': 0.0007296054973267019},\n",
       " {'neutral': 0.026008956134319305,\n",
       "  'happiness': 0.012632451951503754,\n",
       "  'sadness': 0.005636133719235659,\n",
       "  'enthusiasm': 0.7643866539001465,\n",
       "  'fear': 0.017846904695034027,\n",
       "  'anger': 0.16564257442951202,\n",
       "  'disgust': 0.00784633494913578},\n",
       " {'neutral': 0.0040007890202105045,\n",
       "  'happiness': 0.00847205426543951,\n",
       "  'sadness': 0.024176008999347687,\n",
       "  'enthusiasm': 0.014582439325749874,\n",
       "  'fear': 0.9030917286872864,\n",
       "  'anger': 0.04036850482225418,\n",
       "  'disgust': 0.005308371502906084},\n",
       " {'neutral': 0.010149584151804447,\n",
       "  'happiness': 0.0771428644657135,\n",
       "  'sadness': 0.5800784230232239,\n",
       "  'enthusiasm': 0.004693802446126938,\n",
       "  'fear': 0.2692091166973114,\n",
       "  'anger': 0.04976743459701538,\n",
       "  'disgust': 0.008958740159869194},\n",
       " {'neutral': 0.0014369967393577099,\n",
       "  'happiness': 0.9630125761032104,\n",
       "  'sadness': 0.012174274772405624,\n",
       "  'enthusiasm': 0.0015172283165156841,\n",
       "  'fear': 0.01660274900496006,\n",
       "  'anger': 0.004017942119389772,\n",
       "  'disgust': 0.0012382949935272336},\n",
       " {'neutral': 0.7508640289306641,\n",
       "  'happiness': 0.005779245402663946,\n",
       "  'sadness': 0.001971413381397724,\n",
       "  'enthusiasm': 0.007875962182879448,\n",
       "  'fear': 0.020983215421438217,\n",
       "  'anger': 0.20801326632499695,\n",
       "  'disgust': 0.00451281201094389},\n",
       " {'neutral': 0.012862623669207096,\n",
       "  'happiness': 0.16147585213184357,\n",
       "  'sadness': 0.005169609095901251,\n",
       "  'enthusiasm': 0.17463187873363495,\n",
       "  'fear': 0.5159187912940979,\n",
       "  'anger': 0.11740003526210785,\n",
       "  'disgust': 0.012541227042675018},\n",
       " {'neutral': 0.6796346306800842,\n",
       "  'happiness': 0.006515366956591606,\n",
       "  'sadness': 0.00456517469137907,\n",
       "  'enthusiasm': 0.0164017453789711,\n",
       "  'fear': 0.1096576452255249,\n",
       "  'anger': 0.1769777089357376,\n",
       "  'disgust': 0.00624771136790514},\n",
       " {'neutral': 0.033009640872478485,\n",
       "  'happiness': 0.08087486028671265,\n",
       "  'sadness': 0.03684202581644058,\n",
       "  'enthusiasm': 0.1825762540102005,\n",
       "  'fear': 0.03711812570691109,\n",
       "  'anger': 0.6158470511436462,\n",
       "  'disgust': 0.013732044026255608},\n",
       " {'neutral': 0.985039234161377,\n",
       "  'happiness': 0.0008459527743980289,\n",
       "  'sadness': 0.00046543910866603255,\n",
       "  'enthusiasm': 0.0018729534931480885,\n",
       "  'fear': 0.0034644075203686953,\n",
       "  'anger': 0.007678651250898838,\n",
       "  'disgust': 0.0006332401535473764},\n",
       " {'neutral': 0.0010456155287101865,\n",
       "  'happiness': 0.9891824126243591,\n",
       "  'sadness': 0.0003019784635398537,\n",
       "  'enthusiasm': 0.006375738885253668,\n",
       "  'fear': 0.000669164233841002,\n",
       "  'anger': 0.0019044926157221198,\n",
       "  'disgust': 0.0005206704954616725},\n",
       " {'neutral': 0.0016377167776226997,\n",
       "  'happiness': 0.9698188304901123,\n",
       "  'sadness': 0.000928947061765939,\n",
       "  'enthusiasm': 0.007069793529808521,\n",
       "  'fear': 0.015648476779460907,\n",
       "  'anger': 0.0038453657180070877,\n",
       "  'disgust': 0.001050941296853125},\n",
       " {'neutral': 0.00032902645762078464,\n",
       "  'happiness': 0.9982616305351257,\n",
       "  'sadness': 0.0002388025022810325,\n",
       "  'enthusiasm': 0.00039308282430283725,\n",
       "  'fear': 0.0003106197982560843,\n",
       "  'anger': 0.00034044578205794096,\n",
       "  'disgust': 0.0001263929734705016},\n",
       " {'neutral': 0.005725881550461054,\n",
       "  'happiness': 0.092379130423069,\n",
       "  'sadness': 0.05355699732899666,\n",
       "  'enthusiasm': 0.005777894053608179,\n",
       "  'fear': 0.7655280828475952,\n",
       "  'anger': 0.06917470693588257,\n",
       "  'disgust': 0.007857302203774452},\n",
       " {'neutral': 0.008662816137075424,\n",
       "  'happiness': 0.01958589069545269,\n",
       "  'sadness': 0.0016921216156333685,\n",
       "  'enthusiasm': 0.020924706012010574,\n",
       "  'fear': 0.0163562074303627,\n",
       "  'anger': 0.9263449311256409,\n",
       "  'disgust': 0.006433404982089996},\n",
       " {'neutral': 0.2538139224052429,\n",
       "  'happiness': 0.29609718918800354,\n",
       "  'sadness': 0.008904716931283474,\n",
       "  'enthusiasm': 0.016656750813126564,\n",
       "  'fear': 0.10931909084320068,\n",
       "  'anger': 0.30373576283454895,\n",
       "  'disgust': 0.011472647078335285},\n",
       " {'neutral': 0.049323998391628265,\n",
       "  'happiness': 0.0053941127844154835,\n",
       "  'sadness': 0.0170553270727396,\n",
       "  'enthusiasm': 0.06404024362564087,\n",
       "  'fear': 0.015150058083236217,\n",
       "  'anger': 0.8400529026985168,\n",
       "  'disgust': 0.008983353152871132},\n",
       " {'neutral': 0.05574873834848404,\n",
       "  'happiness': 0.008815949782729149,\n",
       "  'sadness': 0.055222101509571075,\n",
       "  'enthusiasm': 0.0739891305565834,\n",
       "  'fear': 0.4189966917037964,\n",
       "  'anger': 0.3756764233112335,\n",
       "  'disgust': 0.011550898663699627},\n",
       " {'neutral': 0.05574873834848404,\n",
       "  'happiness': 0.008815949782729149,\n",
       "  'sadness': 0.055222101509571075,\n",
       "  'enthusiasm': 0.0739891305565834,\n",
       "  'fear': 0.4189966917037964,\n",
       "  'anger': 0.3756764233112335,\n",
       "  'disgust': 0.011550898663699627},\n",
       " {'neutral': 0.0005717346793971956,\n",
       "  'happiness': 0.9970797896385193,\n",
       "  'sadness': 0.0003491798706818372,\n",
       "  'enthusiasm': 0.0005371652077883482,\n",
       "  'fear': 0.0006938545266166329,\n",
       "  'anger': 0.0005797261255793273,\n",
       "  'disgust': 0.00018845629529096186},\n",
       " {'neutral': 0.05574873834848404,\n",
       "  'happiness': 0.008815949782729149,\n",
       "  'sadness': 0.055222101509571075,\n",
       "  'enthusiasm': 0.0739891305565834,\n",
       "  'fear': 0.4189966917037964,\n",
       "  'anger': 0.3756764233112335,\n",
       "  'disgust': 0.011550898663699627},\n",
       " {'neutral': 0.05574873834848404,\n",
       "  'happiness': 0.008815949782729149,\n",
       "  'sadness': 0.055222101509571075,\n",
       "  'enthusiasm': 0.0739891305565834,\n",
       "  'fear': 0.4189966917037964,\n",
       "  'anger': 0.3756764233112335,\n",
       "  'disgust': 0.011550898663699627},\n",
       " {'neutral': 0.0005717346793971956,\n",
       "  'happiness': 0.9970797896385193,\n",
       "  'sadness': 0.0003491798706818372,\n",
       "  'enthusiasm': 0.0005371652077883482,\n",
       "  'fear': 0.0006938545266166329,\n",
       "  'anger': 0.0005797261255793273,\n",
       "  'disgust': 0.00018845629529096186},\n",
       " {'neutral': 0.006633207201957703,\n",
       "  'happiness': 0.3811038136482239,\n",
       "  'sadness': 0.0023173142690211535,\n",
       "  'enthusiasm': 0.5608540177345276,\n",
       "  'fear': 0.027248239144682884,\n",
       "  'anger': 0.0164230577647686,\n",
       "  'disgust': 0.005420357454568148},\n",
       " {'neutral': 0.05574873834848404,\n",
       "  'happiness': 0.008815949782729149,\n",
       "  'sadness': 0.055222101509571075,\n",
       "  'enthusiasm': 0.0739891305565834,\n",
       "  'fear': 0.4189966917037964,\n",
       "  'anger': 0.3756764233112335,\n",
       "  'disgust': 0.011550898663699627},\n",
       " {'neutral': 0.0005717346793971956,\n",
       "  'happiness': 0.9970797896385193,\n",
       "  'sadness': 0.0003491798706818372,\n",
       "  'enthusiasm': 0.0005371652077883482,\n",
       "  'fear': 0.0006938545266166329,\n",
       "  'anger': 0.0005797261255793273,\n",
       "  'disgust': 0.00018845629529096186},\n",
       " {'neutral': 0.05574873834848404,\n",
       "  'happiness': 0.008815949782729149,\n",
       "  'sadness': 0.055222101509571075,\n",
       "  'enthusiasm': 0.0739891305565834,\n",
       "  'fear': 0.4189966917037964,\n",
       "  'anger': 0.3756764233112335,\n",
       "  'disgust': 0.011550898663699627},\n",
       " {'neutral': 0.0006118121673353016,\n",
       "  'happiness': 0.9963120818138123,\n",
       "  'sadness': 0.0006041350425221026,\n",
       "  'enthusiasm': 0.0005975694512017071,\n",
       "  'fear': 0.0006968999514356256,\n",
       "  'anger': 0.0009374023065902293,\n",
       "  'disgust': 0.000240027264226228},\n",
       " {'neutral': 0.005898027680814266,\n",
       "  'happiness': 0.1245698556303978,\n",
       "  'sadness': 0.0021516229026019573,\n",
       "  'enthusiasm': 0.8175562620162964,\n",
       "  'fear': 0.026514651253819466,\n",
       "  'anger': 0.018280602991580963,\n",
       "  'disgust': 0.005028989166021347},\n",
       " {'neutral': 0.05574873834848404,\n",
       "  'happiness': 0.008815949782729149,\n",
       "  'sadness': 0.055222101509571075,\n",
       "  'enthusiasm': 0.0739891305565834,\n",
       "  'fear': 0.4189966917037964,\n",
       "  'anger': 0.3756764233112335,\n",
       "  'disgust': 0.011550898663699627},\n",
       " {'neutral': 0.05574873834848404,\n",
       "  'happiness': 0.008815949782729149,\n",
       "  'sadness': 0.055222101509571075,\n",
       "  'enthusiasm': 0.0739891305565834,\n",
       "  'fear': 0.4189966917037964,\n",
       "  'anger': 0.3756764233112335,\n",
       "  'disgust': 0.011550898663699627},\n",
       " {'neutral': 0.05574873834848404,\n",
       "  'happiness': 0.008815949782729149,\n",
       "  'sadness': 0.055222101509571075,\n",
       "  'enthusiasm': 0.0739891305565834,\n",
       "  'fear': 0.4189966917037964,\n",
       "  'anger': 0.3756764233112335,\n",
       "  'disgust': 0.011550898663699627},\n",
       " {'neutral': 0.05574873834848404,\n",
       "  'happiness': 0.008815949782729149,\n",
       "  'sadness': 0.055222101509571075,\n",
       "  'enthusiasm': 0.0739891305565834,\n",
       "  'fear': 0.4189966917037964,\n",
       "  'anger': 0.3756764233112335,\n",
       "  'disgust': 0.011550898663699627},\n",
       " {'neutral': 0.0005717346793971956,\n",
       "  'happiness': 0.9970797896385193,\n",
       "  'sadness': 0.0003491798706818372,\n",
       "  'enthusiasm': 0.0005371652077883482,\n",
       "  'fear': 0.0006938545266166329,\n",
       "  'anger': 0.0005797261255793273,\n",
       "  'disgust': 0.00018845629529096186},\n",
       " {'neutral': 0.005898027680814266,\n",
       "  'happiness': 0.1245698556303978,\n",
       "  'sadness': 0.0021516229026019573,\n",
       "  'enthusiasm': 0.8175562620162964,\n",
       "  'fear': 0.026514651253819466,\n",
       "  'anger': 0.018280602991580963,\n",
       "  'disgust': 0.005028989166021347},\n",
       " {'neutral': 0.0027997286524623632,\n",
       "  'happiness': 0.9564735889434814,\n",
       "  'sadness': 0.0022042677737772465,\n",
       "  'enthusiasm': 0.0027398683596402407,\n",
       "  'fear': 0.023736029863357544,\n",
       "  'anger': 0.010580161586403847,\n",
       "  'disgust': 0.0014663109323009849},\n",
       " {'neutral': 0.03140454366803169,\n",
       "  'happiness': 0.02027008682489395,\n",
       "  'sadness': 0.011714738793671131,\n",
       "  'enthusiasm': 0.031730569899082184,\n",
       "  'fear': 0.2819522023200989,\n",
       "  'anger': 0.6126235127449036,\n",
       "  'disgust': 0.010304393246769905},\n",
       " {'neutral': 0.014389250427484512,\n",
       "  'happiness': 0.017682159319519997,\n",
       "  'sadness': 0.1244027316570282,\n",
       "  'enthusiasm': 0.00908521469682455,\n",
       "  'fear': 0.18412835896015167,\n",
       "  'anger': 0.6383660435676575,\n",
       "  'disgust': 0.011946255341172218},\n",
       " {'neutral': 0.05010091885924339,\n",
       "  'happiness': 0.1689288467168808,\n",
       "  'sadness': 0.09126649796962738,\n",
       "  'enthusiasm': 0.016246289014816284,\n",
       "  'fear': 0.10995305329561234,\n",
       "  'anger': 0.5501053929328918,\n",
       "  'disgust': 0.013399009592831135},\n",
       " {'neutral': 0.05574873834848404,\n",
       "  'happiness': 0.008815949782729149,\n",
       "  'sadness': 0.055222101509571075,\n",
       "  'enthusiasm': 0.0739891305565834,\n",
       "  'fear': 0.4189966917037964,\n",
       "  'anger': 0.3756764233112335,\n",
       "  'disgust': 0.011550898663699627},\n",
       " {'neutral': 0.0005717346793971956,\n",
       "  'happiness': 0.9970797896385193,\n",
       "  'sadness': 0.0003491798706818372,\n",
       "  'enthusiasm': 0.0005371652077883482,\n",
       "  'fear': 0.0006938545266166329,\n",
       "  'anger': 0.0005797261255793273,\n",
       "  'disgust': 0.00018845629529096186},\n",
       " {'neutral': 0.05145665630698204,\n",
       "  'happiness': 0.003717143088579178,\n",
       "  'sadness': 0.12351782619953156,\n",
       "  'enthusiasm': 0.028967255726456642,\n",
       "  'fear': 0.0962638109922409,\n",
       "  'anger': 0.6854908466339111,\n",
       "  'disgust': 0.010586408898234367},\n",
       " {'neutral': 0.0005717346793971956,\n",
       "  'happiness': 0.9970797896385193,\n",
       "  'sadness': 0.0003491798706818372,\n",
       "  'enthusiasm': 0.0005371652077883482,\n",
       "  'fear': 0.0006938545266166329,\n",
       "  'anger': 0.0005797261255793273,\n",
       "  'disgust': 0.00018845629529096186},\n",
       " {'neutral': 0.05574873834848404,\n",
       "  'happiness': 0.008815949782729149,\n",
       "  'sadness': 0.055222101509571075,\n",
       "  'enthusiasm': 0.0739891305565834,\n",
       "  'fear': 0.4189966917037964,\n",
       "  'anger': 0.3756764233112335,\n",
       "  'disgust': 0.011550898663699627},\n",
       " {'neutral': 0.0005717346793971956,\n",
       "  'happiness': 0.9970797896385193,\n",
       "  'sadness': 0.0003491798706818372,\n",
       "  'enthusiasm': 0.0005371652077883482,\n",
       "  'fear': 0.0006938545266166329,\n",
       "  'anger': 0.0005797261255793273,\n",
       "  'disgust': 0.00018845629529096186},\n",
       " {'neutral': 0.005766155198216438,\n",
       "  'happiness': 0.27464380860328674,\n",
       "  'sadness': 0.0020927931182086468,\n",
       "  'enthusiasm': 0.6963030099868774,\n",
       "  'fear': 0.012245966121554375,\n",
       "  'anger': 0.005005892366170883,\n",
       "  'disgust': 0.00394242350012064},\n",
       " {'neutral': 0.0027997286524623632,\n",
       "  'happiness': 0.9564735889434814,\n",
       "  'sadness': 0.0022042677737772465,\n",
       "  'enthusiasm': 0.0027398683596402407,\n",
       "  'fear': 0.023736029863357544,\n",
       "  'anger': 0.010580161586403847,\n",
       "  'disgust': 0.0014663109323009849},\n",
       " {'neutral': 0.03140454366803169,\n",
       "  'happiness': 0.02027008682489395,\n",
       "  'sadness': 0.011714738793671131,\n",
       "  'enthusiasm': 0.031730569899082184,\n",
       "  'fear': 0.2819522023200989,\n",
       "  'anger': 0.6126235127449036,\n",
       "  'disgust': 0.010304393246769905},\n",
       " {'neutral': 0.014389250427484512,\n",
       "  'happiness': 0.017682159319519997,\n",
       "  'sadness': 0.1244027316570282,\n",
       "  'enthusiasm': 0.00908521469682455,\n",
       "  'fear': 0.18412835896015167,\n",
       "  'anger': 0.6383660435676575,\n",
       "  'disgust': 0.011946255341172218},\n",
       " {'neutral': 0.05010091885924339,\n",
       "  'happiness': 0.1689288467168808,\n",
       "  'sadness': 0.09126649796962738,\n",
       "  'enthusiasm': 0.016246289014816284,\n",
       "  'fear': 0.10995305329561234,\n",
       "  'anger': 0.5501053929328918,\n",
       "  'disgust': 0.013399009592831135},\n",
       " {'neutral': 0.5688719749450684,\n",
       "  'happiness': 0.015690334141254425,\n",
       "  'sadness': 0.014444202184677124,\n",
       "  'enthusiasm': 0.016817787662148476,\n",
       "  'fear': 0.10110554844141006,\n",
       "  'anger': 0.27494826912879944,\n",
       "  'disgust': 0.008121827617287636},\n",
       " {'neutral': 0.11176832020282745,\n",
       "  'happiness': 0.014997115358710289,\n",
       "  'sadness': 0.022426731884479523,\n",
       "  'enthusiasm': 0.0061431690119206905,\n",
       "  'fear': 0.12604118883609772,\n",
       "  'anger': 0.7081441283226013,\n",
       "  'disgust': 0.010479304008185863},\n",
       " {'neutral': 0.0005747018731199205,\n",
       "  'happiness': 0.9958945512771606,\n",
       "  'sadness': 0.0002774338936433196,\n",
       "  'enthusiasm': 0.0013054226292297244,\n",
       "  'fear': 0.0009828975889831781,\n",
       "  'anger': 0.0007124667754396796,\n",
       "  'disgust': 0.0002525592572055757},\n",
       " {'neutral': 0.997623860836029,\n",
       "  'happiness': 0.0002980851859319955,\n",
       "  'sadness': 0.00013968041457701474,\n",
       "  'enthusiasm': 0.0008577247499488294,\n",
       "  'fear': 0.00031835728441365063,\n",
       "  'anger': 0.0006063987384550273,\n",
       "  'disgust': 0.00015597045421600342},\n",
       " {'neutral': 0.03198671340942383,\n",
       "  'happiness': 0.011182382702827454,\n",
       "  'sadness': 0.014441856183111668,\n",
       "  'enthusiasm': 0.0061028930358588696,\n",
       "  'fear': 0.26993006467819214,\n",
       "  'anger': 0.6564449071884155,\n",
       "  'disgust': 0.009911194443702698},\n",
       " {'neutral': 0.02969212457537651,\n",
       "  'happiness': 0.07334710657596588,\n",
       "  'sadness': 0.13899317383766174,\n",
       "  'enthusiasm': 0.008001948706805706,\n",
       "  'fear': 0.04407235234975815,\n",
       "  'anger': 0.6932225823402405,\n",
       "  'disgust': 0.012670686468482018},\n",
       " {'neutral': 0.013261749409139156,\n",
       "  'happiness': 0.057804569602012634,\n",
       "  'sadness': 0.010558628477156162,\n",
       "  'enthusiasm': 0.08367928862571716,\n",
       "  'fear': 0.0399574339389801,\n",
       "  'anger': 0.783515214920044,\n",
       "  'disgust': 0.011223106645047665},\n",
       " {'neutral': 0.0011897453805431724,\n",
       "  'happiness': 0.004061669111251831,\n",
       "  'sadness': 0.9847091436386108,\n",
       "  'enthusiasm': 0.0006131309201009572,\n",
       "  'fear': 0.004160876851528883,\n",
       "  'anger': 0.004106499254703522,\n",
       "  'disgust': 0.0011589431669563055},\n",
       " {'neutral': 0.05574873834848404,\n",
       "  'happiness': 0.008815949782729149,\n",
       "  'sadness': 0.055222101509571075,\n",
       "  'enthusiasm': 0.0739891305565834,\n",
       "  'fear': 0.4189966917037964,\n",
       "  'anger': 0.3756764233112335,\n",
       "  'disgust': 0.011550898663699627},\n",
       " {'neutral': 0.05574873834848404,\n",
       "  'happiness': 0.008815949782729149,\n",
       "  'sadness': 0.055222101509571075,\n",
       "  'enthusiasm': 0.0739891305565834,\n",
       "  'fear': 0.4189966917037964,\n",
       "  'anger': 0.3756764233112335,\n",
       "  'disgust': 0.011550898663699627},\n",
       " {'neutral': 0.08127791434526443,\n",
       "  'happiness': 0.004057079087942839,\n",
       "  'sadness': 0.18263162672519684,\n",
       "  'enthusiasm': 0.045931462198495865,\n",
       "  'fear': 0.08338190615177155,\n",
       "  'anger': 0.590871274471283,\n",
       "  'disgust': 0.011848686262965202},\n",
       " {'neutral': 0.0005562160513363779,\n",
       "  'happiness': 0.9967537522315979,\n",
       "  'sadness': 0.0004886371316388249,\n",
       "  'enthusiasm': 0.0005264772335067391,\n",
       "  'fear': 0.0007207246962934732,\n",
       "  'anger': 0.0007423682836815715,\n",
       "  'disgust': 0.00021168372768443078},\n",
       " {'neutral': 0.007000893820077181,\n",
       "  'happiness': 0.20034562051296234,\n",
       "  'sadness': 0.0018128007650375366,\n",
       "  'enthusiasm': 0.7443293333053589,\n",
       "  'fear': 0.02309524640440941,\n",
       "  'anger': 0.018154244869947433,\n",
       "  'disgust': 0.005261871498078108},\n",
       " {'neutral': 0.0027997286524623632,\n",
       "  'happiness': 0.9564735889434814,\n",
       "  'sadness': 0.0022042677737772465,\n",
       "  'enthusiasm': 0.0027398683596402407,\n",
       "  'fear': 0.023736029863357544,\n",
       "  'anger': 0.010580161586403847,\n",
       "  'disgust': 0.0014663109323009849},\n",
       " {'neutral': 0.03140454366803169,\n",
       "  'happiness': 0.02027008682489395,\n",
       "  'sadness': 0.011714738793671131,\n",
       "  'enthusiasm': 0.031730569899082184,\n",
       "  'fear': 0.2819522023200989,\n",
       "  'anger': 0.6126235127449036,\n",
       "  'disgust': 0.010304393246769905},\n",
       " {'neutral': 0.01473180204629898,\n",
       "  'happiness': 0.017183084040880203,\n",
       "  'sadness': 0.09468597918748856,\n",
       "  'enthusiasm': 0.008824133314192295,\n",
       "  'fear': 0.1340295523405075,\n",
       "  'anger': 0.7193251848220825,\n",
       "  'disgust': 0.011220231652259827},\n",
       " {'neutral': 0.05010091885924339,\n",
       "  'happiness': 0.1689288467168808,\n",
       "  'sadness': 0.09126649796962738,\n",
       "  'enthusiasm': 0.016246289014816284,\n",
       "  'fear': 0.10995305329561234,\n",
       "  'anger': 0.5501053929328918,\n",
       "  'disgust': 0.013399009592831135},\n",
       " {'neutral': 0.05574873834848404,\n",
       "  'happiness': 0.008815949782729149,\n",
       "  'sadness': 0.055222101509571075,\n",
       "  'enthusiasm': 0.0739891305565834,\n",
       "  'fear': 0.4189966917037964,\n",
       "  'anger': 0.3756764233112335,\n",
       "  'disgust': 0.011550898663699627},\n",
       " {'neutral': 0.0005717346793971956,\n",
       "  'happiness': 0.9970797896385193,\n",
       "  'sadness': 0.0003491798706818372,\n",
       "  'enthusiasm': 0.0005371652077883482,\n",
       "  'fear': 0.0006938545266166329,\n",
       "  'anger': 0.0005797261255793273,\n",
       "  'disgust': 0.00018845629529096186},\n",
       " {'neutral': 0.005898027680814266,\n",
       "  'happiness': 0.1245698556303978,\n",
       "  'sadness': 0.0021516229026019573,\n",
       "  'enthusiasm': 0.8175562620162964,\n",
       "  'fear': 0.026514651253819466,\n",
       "  'anger': 0.018280602991580963,\n",
       "  'disgust': 0.005028989166021347},\n",
       " {'neutral': 0.0027997286524623632,\n",
       "  'happiness': 0.9564735889434814,\n",
       "  'sadness': 0.0022042677737772465,\n",
       "  'enthusiasm': 0.0027398683596402407,\n",
       "  'fear': 0.023736029863357544,\n",
       "  'anger': 0.010580161586403847,\n",
       "  'disgust': 0.0014663109323009849},\n",
       " {'neutral': 0.03140454366803169,\n",
       "  'happiness': 0.02027008682489395,\n",
       "  'sadness': 0.011714738793671131,\n",
       "  'enthusiasm': 0.031730569899082184,\n",
       "  'fear': 0.2819522023200989,\n",
       "  'anger': 0.6126235127449036,\n",
       "  'disgust': 0.010304393246769905},\n",
       " {'neutral': 0.014389250427484512,\n",
       "  'happiness': 0.017682159319519997,\n",
       "  'sadness': 0.1244027316570282,\n",
       "  'enthusiasm': 0.00908521469682455,\n",
       "  'fear': 0.18412835896015167,\n",
       "  'anger': 0.6383660435676575,\n",
       "  'disgust': 0.011946255341172218},\n",
       " {'neutral': 0.05010091885924339,\n",
       "  'happiness': 0.1689288467168808,\n",
       "  'sadness': 0.09126649796962738,\n",
       "  'enthusiasm': 0.016246289014816284,\n",
       "  'fear': 0.10995305329561234,\n",
       "  'anger': 0.5501053929328918,\n",
       "  'disgust': 0.013399009592831135},\n",
       " {'neutral': 0.5688719749450684,\n",
       "  'happiness': 0.015690334141254425,\n",
       "  'sadness': 0.014444202184677124,\n",
       "  'enthusiasm': 0.016817787662148476,\n",
       "  'fear': 0.10110554844141006,\n",
       "  'anger': 0.27494826912879944,\n",
       "  'disgust': 0.008121827617287636},\n",
       " {'neutral': 0.08757750689983368,\n",
       "  'happiness': 0.009388353675603867,\n",
       "  'sadness': 0.002538141794502735,\n",
       "  'enthusiasm': 0.030811218544840813,\n",
       "  'fear': 0.014187440276145935,\n",
       "  'anger': 0.8482270240783691,\n",
       "  'disgust': 0.007270397152751684},\n",
       " {'neutral': 0.0005747018731199205,\n",
       "  'happiness': 0.9958945512771606,\n",
       "  'sadness': 0.0002774338936433196,\n",
       "  'enthusiasm': 0.0013054226292297244,\n",
       "  'fear': 0.0009828975889831781,\n",
       "  'anger': 0.0007124667754396796,\n",
       "  'disgust': 0.0002525592572055757},\n",
       " {'neutral': 0.997623860836029,\n",
       "  'happiness': 0.0002980851859319955,\n",
       "  'sadness': 0.00013968041457701474,\n",
       "  'enthusiasm': 0.0008577247499488294,\n",
       "  'fear': 0.00031835728441365063,\n",
       "  'anger': 0.0006063987384550273,\n",
       "  'disgust': 0.00015597045421600342},\n",
       " {'neutral': 0.03198671340942383,\n",
       "  'happiness': 0.011182382702827454,\n",
       "  'sadness': 0.014441856183111668,\n",
       "  'enthusiasm': 0.0061028930358588696,\n",
       "  'fear': 0.26993006467819214,\n",
       "  'anger': 0.6564449071884155,\n",
       "  'disgust': 0.009911194443702698},\n",
       " {'neutral': 0.01253404002636671,\n",
       "  'happiness': 0.016866410151124,\n",
       "  'sadness': 0.00775018148124218,\n",
       "  'enthusiasm': 0.030335895717144012,\n",
       "  'fear': 0.018039019778370857,\n",
       "  'anger': 0.9070606827735901,\n",
       "  'disgust': 0.007413757499307394},\n",
       " {'neutral': 0.013261749409139156,\n",
       "  'happiness': 0.057804569602012634,\n",
       "  'sadness': 0.010558628477156162,\n",
       "  'enthusiasm': 0.08367928862571716,\n",
       "  'fear': 0.0399574339389801,\n",
       "  'anger': 0.783515214920044,\n",
       "  'disgust': 0.011223106645047665},\n",
       " {'neutral': 0.0011897453805431724,\n",
       "  'happiness': 0.004061669111251831,\n",
       "  'sadness': 0.9847091436386108,\n",
       "  'enthusiasm': 0.0006131309201009572,\n",
       "  'fear': 0.004160876851528883,\n",
       "  'anger': 0.004106499254703522,\n",
       "  'disgust': 0.0011589431669563055},\n",
       " {'neutral': 0.0019348245114088058,\n",
       "  'happiness': 0.0023607690818607807,\n",
       "  'sadness': 0.0018462154548615217,\n",
       "  'enthusiasm': 0.9854326844215393,\n",
       "  'fear': 0.001928341225720942,\n",
       "  'anger': 0.005125288851559162,\n",
       "  'disgust': 0.0013718018308281898},\n",
       " {'neutral': 0.9864757657051086,\n",
       "  'happiness': 0.0008522052085027099,\n",
       "  'sadness': 0.0004322074237279594,\n",
       "  'enthusiasm': 0.004710448905825615,\n",
       "  'fear': 0.0006943016778677702,\n",
       "  'anger': 0.006236532237380743,\n",
       "  'disgust': 0.0005985232419334352},\n",
       " {'neutral': 0.00755757512524724,\n",
       "  'happiness': 0.8629224300384521,\n",
       "  'sadness': 0.04609343037009239,\n",
       "  'enthusiasm': 0.0022686037700623274,\n",
       "  'fear': 0.020967349410057068,\n",
       "  'anger': 0.055820055305957794,\n",
       "  'disgust': 0.004370519891381264},\n",
       " {'neutral': 0.05574873834848404,\n",
       "  'happiness': 0.008815949782729149,\n",
       "  'sadness': 0.055222101509571075,\n",
       "  'enthusiasm': 0.0739891305565834,\n",
       "  'fear': 0.4189966917037964,\n",
       "  'anger': 0.3756764233112335,\n",
       "  'disgust': 0.011550898663699627},\n",
       " {'neutral': 0.0005717346793971956,\n",
       "  'happiness': 0.9970797896385193,\n",
       "  'sadness': 0.0003491798706818372,\n",
       "  'enthusiasm': 0.0005371652077883482,\n",
       "  'fear': 0.0006938545266166329,\n",
       "  'anger': 0.0005797261255793273,\n",
       "  'disgust': 0.00018845629529096186},\n",
       " {'neutral': 0.005898027680814266,\n",
       "  'happiness': 0.1245698556303978,\n",
       "  'sadness': 0.0021516229026019573,\n",
       "  'enthusiasm': 0.8175562620162964,\n",
       "  'fear': 0.026514651253819466,\n",
       "  'anger': 0.018280602991580963,\n",
       "  'disgust': 0.005028989166021347},\n",
       " {'neutral': 0.0027997286524623632,\n",
       "  'happiness': 0.9564735889434814,\n",
       "  'sadness': 0.0022042677737772465,\n",
       "  'enthusiasm': 0.0027398683596402407,\n",
       "  'fear': 0.023736029863357544,\n",
       "  'anger': 0.010580161586403847,\n",
       "  'disgust': 0.0014663109323009849},\n",
       " {'neutral': 0.03140454366803169,\n",
       "  'happiness': 0.02027008682489395,\n",
       "  'sadness': 0.011714738793671131,\n",
       "  'enthusiasm': 0.031730569899082184,\n",
       "  'fear': 0.2819522023200989,\n",
       "  'anger': 0.6126235127449036,\n",
       "  'disgust': 0.010304393246769905},\n",
       " {'neutral': 0.011218912899494171,\n",
       "  'happiness': 0.01652001030743122,\n",
       "  'sadness': 0.02167263999581337,\n",
       "  'enthusiasm': 0.46991586685180664,\n",
       "  'fear': 0.025851136073470116,\n",
       "  'anger': 0.44252821803092957,\n",
       "  'disgust': 0.012293252162635326},\n",
       " {'neutral': 0.05010091885924339,\n",
       "  'happiness': 0.1689288467168808,\n",
       "  'sadness': 0.09126649796962738,\n",
       "  'enthusiasm': 0.016246289014816284,\n",
       "  'fear': 0.10995305329561234,\n",
       "  'anger': 0.5501053929328918,\n",
       "  'disgust': 0.013399009592831135},\n",
       " {'neutral': 0.5688719749450684,\n",
       "  'happiness': 0.015690334141254425,\n",
       "  'sadness': 0.014444202184677124,\n",
       "  'enthusiasm': 0.016817787662148476,\n",
       "  'fear': 0.10110554844141006,\n",
       "  'anger': 0.27494826912879944,\n",
       "  'disgust': 0.008121827617287636},\n",
       " {'neutral': 0.053045183420181274,\n",
       "  'happiness': 0.008101405575871468,\n",
       "  'sadness': 0.0025518620386719704,\n",
       "  'enthusiasm': 0.023600324988365173,\n",
       "  'fear': 0.014263770543038845,\n",
       "  'anger': 0.8917787075042725,\n",
       "  'disgust': 0.006658777128905058},\n",
       " {'neutral': 0.0005747018731199205,\n",
       "  'happiness': 0.9958945512771606,\n",
       "  'sadness': 0.0002774338936433196,\n",
       "  'enthusiasm': 0.0013054226292297244,\n",
       "  'fear': 0.0009828975889831781,\n",
       "  'anger': 0.0007124667754396796,\n",
       "  'disgust': 0.0002525592572055757},\n",
       " {'neutral': 0.997623860836029,\n",
       "  'happiness': 0.0002980851859319955,\n",
       "  'sadness': 0.00013968041457701474,\n",
       "  'enthusiasm': 0.0008577247499488294,\n",
       "  'fear': 0.00031835728441365063,\n",
       "  'anger': 0.0006063987384550273,\n",
       "  'disgust': 0.00015597045421600342},\n",
       " {'neutral': 0.03198671340942383,\n",
       "  'happiness': 0.011182382702827454,\n",
       "  'sadness': 0.014441856183111668,\n",
       "  'enthusiasm': 0.0061028930358588696,\n",
       "  'fear': 0.26993006467819214,\n",
       "  'anger': 0.6564449071884155,\n",
       "  'disgust': 0.009911194443702698},\n",
       " {'neutral': 0.02969212457537651,\n",
       "  'happiness': 0.07334710657596588,\n",
       "  'sadness': 0.13899317383766174,\n",
       "  'enthusiasm': 0.008001948706805706,\n",
       "  'fear': 0.04407235234975815,\n",
       "  'anger': 0.6932225823402405,\n",
       "  'disgust': 0.012670686468482018},\n",
       " {'neutral': 0.013261749409139156,\n",
       "  'happiness': 0.057804569602012634,\n",
       "  'sadness': 0.010558628477156162,\n",
       "  'enthusiasm': 0.08367928862571716,\n",
       "  'fear': 0.0399574339389801,\n",
       "  'anger': 0.783515214920044,\n",
       "  'disgust': 0.011223106645047665},\n",
       " {'neutral': 0.0011897453805431724,\n",
       "  'happiness': 0.004061669111251831,\n",
       "  'sadness': 0.9847091436386108,\n",
       "  'enthusiasm': 0.0006131309201009572,\n",
       "  'fear': 0.004160876851528883,\n",
       "  'anger': 0.004106499254703522,\n",
       "  'disgust': 0.0011589431669563055},\n",
       " {'neutral': 0.0019348245114088058,\n",
       "  'happiness': 0.0023607690818607807,\n",
       "  'sadness': 0.0018462154548615217,\n",
       "  'enthusiasm': 0.9854326844215393,\n",
       "  'fear': 0.001928341225720942,\n",
       "  'anger': 0.005125288851559162,\n",
       "  'disgust': 0.0013718018308281898},\n",
       " {'neutral': 0.9864757657051086,\n",
       "  'happiness': 0.0008522052085027099,\n",
       "  'sadness': 0.0004322074237279594,\n",
       "  'enthusiasm': 0.004710448905825615,\n",
       "  'fear': 0.0006943016778677702,\n",
       "  'anger': 0.006236532237380743,\n",
       "  'disgust': 0.0005985232419334352},\n",
       " {'neutral': 0.009561536833643913,\n",
       "  'happiness': 0.012839347124099731,\n",
       "  'sadness': 0.06984767317771912,\n",
       "  'enthusiasm': 0.037229254841804504,\n",
       "  'fear': 0.027108879759907722,\n",
       "  'anger': 0.8332228660583496,\n",
       "  'disgust': 0.010190465487539768},\n",
       " {'neutral': 0.05574873834848404,\n",
       "  'happiness': 0.008815949782729149,\n",
       "  'sadness': 0.055222101509571075,\n",
       "  'enthusiasm': 0.0739891305565834,\n",
       "  'fear': 0.4189966917037964,\n",
       "  'anger': 0.3756764233112335,\n",
       "  'disgust': 0.011550898663699627},\n",
       " {'neutral': 0.05574873834848404,\n",
       "  'happiness': 0.008815949782729149,\n",
       "  'sadness': 0.055222101509571075,\n",
       "  'enthusiasm': 0.0739891305565834,\n",
       "  'fear': 0.4189966917037964,\n",
       "  'anger': 0.3756764233112335,\n",
       "  'disgust': 0.011550898663699627},\n",
       " {'neutral': 0.0005717346793971956,\n",
       "  'happiness': 0.9970797896385193,\n",
       "  'sadness': 0.0003491798706818372,\n",
       "  'enthusiasm': 0.0005371652077883482,\n",
       "  'fear': 0.0006938545266166329,\n",
       "  'anger': 0.0005797261255793273,\n",
       "  'disgust': 0.00018845629529096186},\n",
       " {'neutral': 0.0066359518095850945,\n",
       "  'happiness': 0.3518541753292084,\n",
       "  'sadness': 0.002454947680234909,\n",
       "  'enthusiasm': 0.5876445770263672,\n",
       "  'fear': 0.0284036286175251,\n",
       "  'anger': 0.017473749816417694,\n",
       "  'disgust': 0.005532961338758469},\n",
       " {'neutral': 0.0027997286524623632,\n",
       "  'happiness': 0.9564735889434814,\n",
       "  'sadness': 0.0022042677737772465,\n",
       "  'enthusiasm': 0.0027398683596402407,\n",
       "  'fear': 0.023736029863357544,\n",
       "  'anger': 0.010580161586403847,\n",
       "  'disgust': 0.0014663109323009849},\n",
       " {'neutral': 0.21089407801628113,\n",
       "  'happiness': 0.006317690014839172,\n",
       "  'sadness': 0.0728844404220581,\n",
       "  'enthusiasm': 0.42719021439552307,\n",
       "  'fear': 0.016001738607883453,\n",
       "  'anger': 0.25424206256866455,\n",
       "  'disgust': 0.012469732202589512},\n",
       " {'neutral': 0.014389250427484512,\n",
       "  'happiness': 0.017682159319519997,\n",
       "  'sadness': 0.1244027316570282,\n",
       "  'enthusiasm': 0.00908521469682455,\n",
       "  'fear': 0.18412835896015167,\n",
       "  'anger': 0.6383660435676575,\n",
       "  'disgust': 0.011946255341172218},\n",
       " {'neutral': 0.05010091885924339,\n",
       "  'happiness': 0.1689288467168808,\n",
       "  'sadness': 0.09126649796962738,\n",
       "  'enthusiasm': 0.016246289014816284,\n",
       "  'fear': 0.10995305329561234,\n",
       "  'anger': 0.5501053929328918,\n",
       "  'disgust': 0.013399009592831135},\n",
       " {'neutral': 0.5688719749450684,\n",
       "  'happiness': 0.015690334141254425,\n",
       "  'sadness': 0.014444202184677124,\n",
       "  'enthusiasm': 0.016817787662148476,\n",
       "  'fear': 0.10110554844141006,\n",
       "  'anger': 0.27494826912879944,\n",
       "  'disgust': 0.008121827617287636},\n",
       " {'neutral': 0.11176832020282745,\n",
       "  'happiness': 0.014997115358710289,\n",
       "  'sadness': 0.022426731884479523,\n",
       "  'enthusiasm': 0.0061431690119206905,\n",
       "  'fear': 0.12604118883609772,\n",
       "  'anger': 0.7081441283226013,\n",
       "  'disgust': 0.010479304008185863},\n",
       " {'neutral': 0.0005747018731199205,\n",
       "  'happiness': 0.9958945512771606,\n",
       "  'sadness': 0.0002774338936433196,\n",
       "  'enthusiasm': 0.0013054226292297244,\n",
       "  'fear': 0.0009828975889831781,\n",
       "  'anger': 0.0007124667754396796,\n",
       "  'disgust': 0.0002525592572055757},\n",
       " {'neutral': 0.997623860836029,\n",
       "  'happiness': 0.0002980851859319955,\n",
       "  'sadness': 0.00013968041457701474,\n",
       "  'enthusiasm': 0.0008577247499488294,\n",
       "  'fear': 0.00031835728441365063,\n",
       "  'anger': 0.0006063987384550273,\n",
       "  'disgust': 0.00015597045421600342},\n",
       " {'neutral': 0.03198671340942383,\n",
       "  'happiness': 0.011182382702827454,\n",
       "  'sadness': 0.014441856183111668,\n",
       "  'enthusiasm': 0.0061028930358588696,\n",
       "  'fear': 0.26993006467819214,\n",
       "  'anger': 0.6564449071884155,\n",
       "  'disgust': 0.009911194443702698},\n",
       " {'neutral': 0.02969212457537651,\n",
       "  'happiness': 0.07334710657596588,\n",
       "  'sadness': 0.13899317383766174,\n",
       "  'enthusiasm': 0.008001948706805706,\n",
       "  'fear': 0.04407235234975815,\n",
       "  'anger': 0.6932225823402405,\n",
       "  'disgust': 0.012670686468482018},\n",
       " {'neutral': 0.013261749409139156,\n",
       "  'happiness': 0.057804569602012634,\n",
       "  'sadness': 0.010558628477156162,\n",
       "  'enthusiasm': 0.08367928862571716,\n",
       "  'fear': 0.0399574339389801,\n",
       "  'anger': 0.783515214920044,\n",
       "  'disgust': 0.011223106645047665},\n",
       " {'neutral': 0.0011897453805431724,\n",
       "  'happiness': 0.004061669111251831,\n",
       "  'sadness': 0.9847091436386108,\n",
       "  'enthusiasm': 0.0006131309201009572,\n",
       "  'fear': 0.004160876851528883,\n",
       "  'anger': 0.004106499254703522,\n",
       "  'disgust': 0.0011589431669563055},\n",
       " {'neutral': 0.0024799974635243416,\n",
       "  'happiness': 0.0019394049886614084,\n",
       "  'sadness': 0.0017862129025161266,\n",
       "  'enthusiasm': 0.985912024974823,\n",
       "  'fear': 0.0017053040210157633,\n",
       "  'anger': 0.004835907835513353,\n",
       "  'disgust': 0.0013411144027486444},\n",
       " {'neutral': 0.9864757657051086,\n",
       "  'happiness': 0.0008522052085027099,\n",
       "  'sadness': 0.0004322074237279594,\n",
       "  'enthusiasm': 0.004710448905825615,\n",
       "  'fear': 0.0006943016778677702,\n",
       "  'anger': 0.006236532237380743,\n",
       "  'disgust': 0.0005985232419334352},\n",
       " {'neutral': 0.018480004742741585,\n",
       "  'happiness': 0.18540140986442566,\n",
       "  'sadness': 0.536064624786377,\n",
       "  'enthusiasm': 0.0047510177828371525,\n",
       "  'fear': 0.02578827738761902,\n",
       "  'anger': 0.21884799003601074,\n",
       "  'disgust': 0.010666711255908012},\n",
       " {'neutral': 0.5063955187797546,\n",
       "  'happiness': 0.00716585386544466,\n",
       "  'sadness': 0.005226850043982267,\n",
       "  'enthusiasm': 0.026181424036622047,\n",
       "  'fear': 0.007617470342665911,\n",
       "  'anger': 0.4400017559528351,\n",
       "  'disgust': 0.0074111646972596645},\n",
       " {'neutral': 0.0038136248476803303,\n",
       "  'happiness': 0.016089990735054016,\n",
       "  'sadness': 0.0575333796441555,\n",
       "  'enthusiasm': 0.00309285637922585,\n",
       "  'fear': 0.8793801069259644,\n",
       "  'anger': 0.03465847298502922,\n",
       "  'disgust': 0.005431544501334429},\n",
       " {'neutral': 0.0019172134343534708,\n",
       "  'happiness': 0.955141007900238,\n",
       "  'sadness': 0.003960623871535063,\n",
       "  'enthusiasm': 0.004865292459726334,\n",
       "  'fear': 0.029621073976159096,\n",
       "  'anger': 0.0032226925250142813,\n",
       "  'disgust': 0.001271990593522787},\n",
       " {'neutral': 0.0004142174730077386,\n",
       "  'happiness': 0.9968562126159668,\n",
       "  'sadness': 0.0004553486069198698,\n",
       "  'enthusiasm': 0.00047239704872481525,\n",
       "  'fear': 0.001102725393138826,\n",
       "  'anger': 0.0005079708062112331,\n",
       "  'disgust': 0.00019097763288300484},\n",
       " {'neutral': 0.0016782499151304364,\n",
       "  'happiness': 0.9647430777549744,\n",
       "  'sadness': 0.010869150049984455,\n",
       "  'enthusiasm': 0.0011756030144169927,\n",
       "  'fear': 0.01352674700319767,\n",
       "  'anger': 0.006660457234829664,\n",
       "  'disgust': 0.001346740173175931},\n",
       " {'neutral': 0.0006140792975202203,\n",
       "  'happiness': 0.9813816547393799,\n",
       "  'sadness': 0.007230838760733604,\n",
       "  'enthusiasm': 0.001125088194385171,\n",
       "  'fear': 0.007220199331641197,\n",
       "  'anger': 0.0016986565897241235,\n",
       "  'disgust': 0.0007296054973267019},\n",
       " {'neutral': 0.026008956134319305,\n",
       "  'happiness': 0.012632451951503754,\n",
       "  'sadness': 0.005636133719235659,\n",
       "  'enthusiasm': 0.7643866539001465,\n",
       "  'fear': 0.017846904695034027,\n",
       "  'anger': 0.16564257442951202,\n",
       "  'disgust': 0.00784633494913578},\n",
       " {'neutral': 0.0040007890202105045,\n",
       "  'happiness': 0.00847205426543951,\n",
       "  'sadness': 0.024176008999347687,\n",
       "  'enthusiasm': 0.014582439325749874,\n",
       "  'fear': 0.9030917286872864,\n",
       "  'anger': 0.04036850482225418,\n",
       "  'disgust': 0.005308371502906084},\n",
       " {'neutral': 0.010149584151804447,\n",
       "  'happiness': 0.0771428644657135,\n",
       "  'sadness': 0.5800784230232239,\n",
       "  'enthusiasm': 0.004693802446126938,\n",
       "  'fear': 0.2692091166973114,\n",
       "  'anger': 0.04976743459701538,\n",
       "  'disgust': 0.008958740159869194},\n",
       " {'neutral': 0.0014369967393577099,\n",
       "  'happiness': 0.9630125761032104,\n",
       "  'sadness': 0.012174274772405624,\n",
       "  'enthusiasm': 0.0015172283165156841,\n",
       "  'fear': 0.01660274900496006,\n",
       "  'anger': 0.004017942119389772,\n",
       "  'disgust': 0.0012382949935272336},\n",
       " {'neutral': 0.7508640289306641,\n",
       "  'happiness': 0.005779245402663946,\n",
       "  'sadness': 0.001971413381397724,\n",
       "  'enthusiasm': 0.007875962182879448,\n",
       "  'fear': 0.020983215421438217,\n",
       "  'anger': 0.20801326632499695,\n",
       "  'disgust': 0.00451281201094389},\n",
       " {'neutral': 0.012862623669207096,\n",
       "  'happiness': 0.16147585213184357,\n",
       "  'sadness': 0.005169609095901251,\n",
       "  'enthusiasm': 0.17463187873363495,\n",
       "  'fear': 0.5159187912940979,\n",
       "  'anger': 0.11740003526210785,\n",
       "  'disgust': 0.012541227042675018},\n",
       " {'neutral': 0.6796346306800842,\n",
       "  'happiness': 0.006515366956591606,\n",
       "  'sadness': 0.00456517469137907,\n",
       "  'enthusiasm': 0.0164017453789711,\n",
       "  'fear': 0.1096576452255249,\n",
       "  'anger': 0.1769777089357376,\n",
       "  'disgust': 0.00624771136790514},\n",
       " {'neutral': 0.033009640872478485,\n",
       "  'happiness': 0.08087486028671265,\n",
       "  'sadness': 0.03684202581644058,\n",
       "  'enthusiasm': 0.1825762540102005,\n",
       "  'fear': 0.03711812570691109,\n",
       "  'anger': 0.6158470511436462,\n",
       "  'disgust': 0.013732044026255608},\n",
       " {'neutral': 0.985039234161377,\n",
       "  'happiness': 0.0008459527743980289,\n",
       "  'sadness': 0.00046543910866603255,\n",
       "  'enthusiasm': 0.0018729534931480885,\n",
       "  'fear': 0.0034644075203686953,\n",
       "  'anger': 0.007678651250898838,\n",
       "  'disgust': 0.0006332401535473764},\n",
       " {'neutral': 0.0010456155287101865,\n",
       "  'happiness': 0.9891824126243591,\n",
       "  'sadness': 0.0003019784635398537,\n",
       "  'enthusiasm': 0.006375738885253668,\n",
       "  'fear': 0.000669164233841002,\n",
       "  'anger': 0.0019044926157221198,\n",
       "  'disgust': 0.0005206704954616725},\n",
       " {'neutral': 0.0016377167776226997,\n",
       "  'happiness': 0.9698188304901123,\n",
       "  'sadness': 0.000928947061765939,\n",
       "  'enthusiasm': 0.007069793529808521,\n",
       "  'fear': 0.015648476779460907,\n",
       "  'anger': 0.0038453657180070877,\n",
       "  'disgust': 0.001050941296853125},\n",
       " {'neutral': 0.00032902645762078464,\n",
       "  'happiness': 0.9982616305351257,\n",
       "  'sadness': 0.0002388025022810325,\n",
       "  'enthusiasm': 0.00039308282430283725,\n",
       "  'fear': 0.0003106197982560843,\n",
       "  'anger': 0.00034044578205794096,\n",
       "  'disgust': 0.0001263929734705016},\n",
       " {'neutral': 0.005725881550461054,\n",
       "  'happiness': 0.092379130423069,\n",
       "  'sadness': 0.05355699732899666,\n",
       "  'enthusiasm': 0.005777894053608179,\n",
       "  'fear': 0.7655280828475952,\n",
       "  'anger': 0.06917470693588257,\n",
       "  'disgust': 0.007857302203774452},\n",
       " {'neutral': 0.008662816137075424,\n",
       "  'happiness': 0.01958589069545269,\n",
       "  'sadness': 0.0016921216156333685,\n",
       "  'enthusiasm': 0.020924706012010574,\n",
       "  'fear': 0.0163562074303627,\n",
       "  'anger': 0.9263449311256409,\n",
       "  'disgust': 0.006433404982089996},\n",
       " {'neutral': 0.2538139224052429,\n",
       "  'happiness': 0.29609718918800354,\n",
       "  'sadness': 0.008904716931283474,\n",
       "  'enthusiasm': 0.016656750813126564,\n",
       "  'fear': 0.10931909084320068,\n",
       "  'anger': 0.30373576283454895,\n",
       "  'disgust': 0.011472647078335285},\n",
       " {'neutral': 0.049323998391628265,\n",
       "  'happiness': 0.0053941127844154835,\n",
       "  'sadness': 0.0170553270727396,\n",
       "  'enthusiasm': 0.06404024362564087,\n",
       "  'fear': 0.015150058083236217,\n",
       "  'anger': 0.8400529026985168,\n",
       "  'disgust': 0.008983353152871132},\n",
       " {'neutral': 0.00872117467224598,\n",
       "  'happiness': 0.025564298033714294,\n",
       "  'sadness': 0.5407718420028687,\n",
       "  'enthusiasm': 0.0018181342165917158,\n",
       "  'fear': 0.33413898944854736,\n",
       "  'anger': 0.08004333823919296,\n",
       "  'disgust': 0.0089422557502985},\n",
       " {'neutral': 0.0024028944317251444,\n",
       "  'happiness': 0.9143189191818237,\n",
       "  'sadness': 0.009973474778234959,\n",
       "  'enthusiasm': 0.0034429130610078573,\n",
       "  'fear': 0.06320374459028244,\n",
       "  'anger': 0.004645032808184624,\n",
       "  'disgust': 0.0020128756295889616},\n",
       " {'neutral': 0.01085328683257103,\n",
       "  'happiness': 0.04363641142845154,\n",
       "  'sadness': 0.6921517848968506,\n",
       "  'enthusiasm': 0.0036672696005553007,\n",
       "  'fear': 0.05815063416957855,\n",
       "  'anger': 0.18225519359111786,\n",
       "  'disgust': 0.009285473264753819},\n",
       " {'neutral': 0.024036379531025887,\n",
       "  'happiness': 0.005475555546581745,\n",
       "  'sadness': 0.3098275363445282,\n",
       "  'enthusiasm': 0.0030122764874249697,\n",
       "  'fear': 0.5581536293029785,\n",
       "  'anger': 0.09116606414318085,\n",
       "  'disgust': 0.008328580297529697},\n",
       " {'neutral': 0.0015014291275292635,\n",
       "  'happiness': 0.0032076584175229073,\n",
       "  'sadness': 0.9848750233650208,\n",
       "  'enthusiasm': 0.0008073332719504833,\n",
       "  'fear': 0.0016961790388450027,\n",
       "  'anger': 0.006712482310831547,\n",
       "  'disgust': 0.0012000075075775385},\n",
       " {'neutral': 0.0076430016197264194,\n",
       "  'happiness': 0.6048275232315063,\n",
       "  'sadness': 0.005498397629708052,\n",
       "  'enthusiasm': 0.005341667681932449,\n",
       "  'fear': 0.29002776741981506,\n",
       "  'anger': 0.08000001311302185,\n",
       "  'disgust': 0.006661667488515377},\n",
       " {'neutral': 0.00827827025204897,\n",
       "  'happiness': 0.050627775490283966,\n",
       "  'sadness': 0.05069930851459503,\n",
       "  'enthusiasm': 0.03160877898335457,\n",
       "  'fear': 0.3431098759174347,\n",
       "  'anger': 0.5028864741325378,\n",
       "  'disgust': 0.01278949249535799},\n",
       " {'neutral': 0.014916902408003807,\n",
       "  'happiness': 0.010984945110976696,\n",
       "  'sadness': 0.19780400395393372,\n",
       "  'enthusiasm': 0.23279261589050293,\n",
       "  'fear': 0.11281242221593857,\n",
       "  'anger': 0.4126344621181488,\n",
       "  'disgust': 0.01805463805794716},\n",
       " {'neutral': 0.003634913358837366,\n",
       "  'happiness': 0.9535183310508728,\n",
       "  'sadness': 0.0019346033222973347,\n",
       "  'enthusiasm': 0.012501231394708157,\n",
       "  'fear': 0.0028151923324912786,\n",
       "  'anger': 0.023702573031187057,\n",
       "  'disgust': 0.0018931697122752666},\n",
       " {'neutral': 0.06570515781641006,\n",
       "  'happiness': 0.009272860363125801,\n",
       "  'sadness': 0.006704246159642935,\n",
       "  'enthusiasm': 0.3392419219017029,\n",
       "  'fear': 0.020439298823475838,\n",
       "  'anger': 0.5469629168510437,\n",
       "  'disgust': 0.011673674918711185},\n",
       " {'neutral': 0.10427707433700562,\n",
       "  'happiness': 0.056879620999097824,\n",
       "  'sadness': 0.04019385576248169,\n",
       "  'enthusiasm': 0.013456849381327629,\n",
       "  'fear': 0.6682763695716858,\n",
       "  'anger': 0.10642366111278534,\n",
       "  'disgust': 0.010492533445358276},\n",
       " {'neutral': 0.05574873834848404,\n",
       "  'happiness': 0.008815949782729149,\n",
       "  'sadness': 0.055222101509571075,\n",
       "  'enthusiasm': 0.0739891305565834,\n",
       "  'fear': 0.4189966917037964,\n",
       "  'anger': 0.3756764233112335,\n",
       "  'disgust': 0.011550898663699627},\n",
       " {'neutral': 0.0005717346793971956,\n",
       "  'happiness': 0.9970797896385193,\n",
       "  'sadness': 0.0003491798706818372,\n",
       "  'enthusiasm': 0.0005371652077883482,\n",
       "  'fear': 0.0006938545266166329,\n",
       "  'anger': 0.0005797261255793273,\n",
       "  'disgust': 0.00018845629529096186},\n",
       " {'neutral': 0.005898027680814266,\n",
       "  'happiness': 0.1245698556303978,\n",
       "  'sadness': 0.0021516229026019573,\n",
       "  'enthusiasm': 0.8175562620162964,\n",
       "  'fear': 0.026514651253819466,\n",
       "  'anger': 0.018280602991580963,\n",
       "  'disgust': 0.005028989166021347},\n",
       " {'neutral': 0.0027997286524623632,\n",
       "  'happiness': 0.9564735889434814,\n",
       "  'sadness': 0.0022042677737772465,\n",
       "  'enthusiasm': 0.0027398683596402407,\n",
       "  'fear': 0.023736029863357544,\n",
       "  'anger': 0.010580161586403847,\n",
       "  'disgust': 0.0014663109323009849},\n",
       " {'neutral': 0.020415613427758217,\n",
       "  'happiness': 0.03493398427963257,\n",
       "  'sadness': 0.013495524413883686,\n",
       "  'enthusiasm': 0.02417786791920662,\n",
       "  'fear': 0.1376114785671234,\n",
       "  'anger': 0.7603206038475037,\n",
       "  'disgust': 0.009044995531439781},\n",
       " {'neutral': 0.014389250427484512,\n",
       "  'happiness': 0.017682159319519997,\n",
       "  'sadness': 0.1244027316570282,\n",
       "  'enthusiasm': 0.00908521469682455,\n",
       "  'fear': 0.18412835896015167,\n",
       "  'anger': 0.6383660435676575,\n",
       "  'disgust': 0.011946255341172218},\n",
       " {'neutral': 0.05010091885924339,\n",
       "  'happiness': 0.1689288467168808,\n",
       "  'sadness': 0.09126649796962738,\n",
       "  'enthusiasm': 0.016246289014816284,\n",
       "  'fear': 0.10995305329561234,\n",
       "  'anger': 0.5501053929328918,\n",
       "  'disgust': 0.013399009592831135},\n",
       " {'neutral': 0.5688719749450684,\n",
       "  'happiness': 0.015690334141254425,\n",
       "  'sadness': 0.014444202184677124,\n",
       "  'enthusiasm': 0.016817787662148476,\n",
       "  'fear': 0.10110554844141006,\n",
       "  'anger': 0.27494826912879944,\n",
       "  'disgust': 0.008121827617287636},\n",
       " {'neutral': 0.11176832020282745,\n",
       "  'happiness': 0.014997115358710289,\n",
       "  'sadness': 0.022426731884479523,\n",
       "  'enthusiasm': 0.0061431690119206905,\n",
       "  'fear': 0.12604118883609772,\n",
       "  'anger': 0.7081441283226013,\n",
       "  'disgust': 0.010479304008185863},\n",
       " {'neutral': 0.0005747018731199205,\n",
       "  'happiness': 0.9958945512771606,\n",
       "  'sadness': 0.0002774338936433196,\n",
       "  'enthusiasm': 0.0013054226292297244,\n",
       "  'fear': 0.0009828975889831781,\n",
       "  'anger': 0.0007124667754396796,\n",
       "  'disgust': 0.0002525592572055757},\n",
       " {'neutral': 0.9650064706802368,\n",
       "  'happiness': 0.0015974310226738453,\n",
       "  'sadness': 0.0005330707062967122,\n",
       "  'enthusiasm': 0.014477374032139778,\n",
       "  'fear': 0.005901664029806852,\n",
       "  'anger': 0.011255443096160889,\n",
       "  'disgust': 0.0012286113342270255},\n",
       " {'neutral': 0.03198671340942383,\n",
       "  'happiness': 0.011182382702827454,\n",
       "  'sadness': 0.014441856183111668,\n",
       "  'enthusiasm': 0.0061028930358588696,\n",
       "  'fear': 0.26993006467819214,\n",
       "  'anger': 0.6564449071884155,\n",
       "  'disgust': 0.009911194443702698},\n",
       " {'neutral': 0.02969212457537651,\n",
       "  'happiness': 0.07334710657596588,\n",
       "  'sadness': 0.13899317383766174,\n",
       "  'enthusiasm': 0.008001948706805706,\n",
       "  'fear': 0.04407235234975815,\n",
       "  'anger': 0.6932225823402405,\n",
       "  'disgust': 0.012670686468482018},\n",
       " {'neutral': 0.013261749409139156,\n",
       "  'happiness': 0.057804569602012634,\n",
       "  'sadness': 0.010558628477156162,\n",
       "  'enthusiasm': 0.08367928862571716,\n",
       "  'fear': 0.0399574339389801,\n",
       "  'anger': 0.783515214920044,\n",
       "  'disgust': 0.011223106645047665},\n",
       " {'neutral': 0.0011897453805431724,\n",
       "  'happiness': 0.004061669111251831,\n",
       "  'sadness': 0.9847091436386108,\n",
       "  'enthusiasm': 0.0006131309201009572,\n",
       "  'fear': 0.004160876851528883,\n",
       "  'anger': 0.004106499254703522,\n",
       "  'disgust': 0.0011589431669563055},\n",
       " {'neutral': 0.0019616642966866493,\n",
       "  'happiness': 0.001979364547878504,\n",
       "  'sadness': 0.0019886507652699947,\n",
       "  'enthusiasm': 0.9870845675468445,\n",
       "  'fear': 0.0016771387308835983,\n",
       "  'anger': 0.004026680253446102,\n",
       "  'disgust': 0.0012818773975595832},\n",
       " {'neutral': 0.9864757657051086,\n",
       "  'happiness': 0.0008522052085027099,\n",
       "  'sadness': 0.0004322074237279594,\n",
       "  'enthusiasm': 0.004710448905825615,\n",
       "  'fear': 0.0006943016778677702,\n",
       "  'anger': 0.006236532237380743,\n",
       "  'disgust': 0.0005985232419334352},\n",
       " {'neutral': 0.01723848655819893,\n",
       "  'happiness': 0.2277587652206421,\n",
       "  'sadness': 0.3997896611690521,\n",
       "  'enthusiasm': 0.005703465547412634,\n",
       "  'fear': 0.04164562001824379,\n",
       "  'anger': 0.2956898808479309,\n",
       "  'disgust': 0.012174206785857677},\n",
       " {'neutral': 0.5063955187797546,\n",
       "  'happiness': 0.00716585386544466,\n",
       "  'sadness': 0.005226850043982267,\n",
       "  'enthusiasm': 0.026181424036622047,\n",
       "  'fear': 0.007617470342665911,\n",
       "  'anger': 0.4400017559528351,\n",
       "  'disgust': 0.0074111646972596645},\n",
       " {'neutral': 0.004418150056153536,\n",
       "  'happiness': 0.10098284482955933,\n",
       "  'sadness': 0.009828538633883,\n",
       "  'enthusiasm': 0.01740584522485733,\n",
       "  'fear': 0.7692681550979614,\n",
       "  'anger': 0.0900123193860054,\n",
       "  'disgust': 0.008084103465080261},\n",
       " {'neutral': 0.0019172134343534708,\n",
       "  'happiness': 0.955141007900238,\n",
       "  'sadness': 0.003960623871535063,\n",
       "  'enthusiasm': 0.004865292459726334,\n",
       "  'fear': 0.029621073976159096,\n",
       "  'anger': 0.0032226925250142813,\n",
       "  'disgust': 0.001271990593522787},\n",
       " {'neutral': 0.0004142174730077386,\n",
       "  'happiness': 0.9968562126159668,\n",
       "  'sadness': 0.0004553486069198698,\n",
       "  'enthusiasm': 0.00047239704872481525,\n",
       "  'fear': 0.001102725393138826,\n",
       "  'anger': 0.0005079708062112331,\n",
       "  'disgust': 0.00019097763288300484},\n",
       " {'neutral': 0.4937211573123932,\n",
       "  'happiness': 0.003597741248086095,\n",
       "  'sadness': 0.3608267605304718,\n",
       "  'enthusiasm': 0.011090165004134178,\n",
       "  'fear': 0.01029724720865488,\n",
       "  'anger': 0.1137724295258522,\n",
       "  'disgust': 0.0066944146528840065},\n",
       " {'neutral': 0.0006140792975202203,\n",
       "  'happiness': 0.9813816547393799,\n",
       "  'sadness': 0.007230838760733604,\n",
       "  'enthusiasm': 0.001125088194385171,\n",
       "  'fear': 0.007220199331641197,\n",
       "  'anger': 0.0016986565897241235,\n",
       "  'disgust': 0.0007296054973267019},\n",
       " {'neutral': 0.016965767368674278,\n",
       "  'happiness': 0.041336704045534134,\n",
       "  'sadness': 0.0029796783346682787,\n",
       "  'enthusiasm': 0.7680647373199463,\n",
       "  'fear': 0.03328359127044678,\n",
       "  'anger': 0.12898963689804077,\n",
       "  'disgust': 0.008379925973713398},\n",
       " {'neutral': 0.0040007890202105045,\n",
       "  'happiness': 0.00847205426543951,\n",
       "  'sadness': 0.024176008999347687,\n",
       "  'enthusiasm': 0.014582439325749874,\n",
       "  'fear': 0.9030917286872864,\n",
       "  'anger': 0.04036850482225418,\n",
       "  'disgust': 0.005308371502906084},\n",
       " {'neutral': 0.012192964553833008,\n",
       "  'happiness': 0.17053140699863434,\n",
       "  'sadness': 0.12721680104732513,\n",
       "  'enthusiasm': 0.010358480736613274,\n",
       "  'fear': 0.6049076914787292,\n",
       "  'anger': 0.0647466629743576,\n",
       "  'disgust': 0.010045922361314297},\n",
       " {'neutral': 0.0014369967393577099,\n",
       "  'happiness': 0.9630125761032104,\n",
       "  'sadness': 0.012174274772405624,\n",
       "  'enthusiasm': 0.0015172283165156841,\n",
       "  'fear': 0.01660274900496006,\n",
       "  'anger': 0.004017942119389772,\n",
       "  'disgust': 0.0012382949935272336},\n",
       " {'neutral': 0.7508640289306641,\n",
       "  'happiness': 0.005779245402663946,\n",
       "  'sadness': 0.001971413381397724,\n",
       "  'enthusiasm': 0.007875962182879448,\n",
       "  'fear': 0.020983215421438217,\n",
       "  'anger': 0.20801326632499695,\n",
       "  'disgust': 0.00451281201094389},\n",
       " {'neutral': 0.012862623669207096,\n",
       "  'happiness': 0.16147585213184357,\n",
       "  'sadness': 0.005169609095901251,\n",
       "  'enthusiasm': 0.17463187873363495,\n",
       "  'fear': 0.5159187912940979,\n",
       "  'anger': 0.11740003526210785,\n",
       "  'disgust': 0.012541227042675018},\n",
       " {'neutral': 0.6796346306800842,\n",
       "  'happiness': 0.006515366956591606,\n",
       "  'sadness': 0.00456517469137907,\n",
       "  'enthusiasm': 0.0164017453789711,\n",
       "  'fear': 0.1096576452255249,\n",
       "  'anger': 0.1769777089357376,\n",
       "  'disgust': 0.00624771136790514},\n",
       " {'neutral': 0.030465636402368546,\n",
       "  'happiness': 0.0973135381937027,\n",
       "  'sadness': 0.03845715895295143,\n",
       "  'enthusiasm': 0.29756098985671997,\n",
       "  'fear': 0.037615664303302765,\n",
       "  'anger': 0.4842836260795593,\n",
       "  'disgust': 0.014303387142717838},\n",
       " {'neutral': 0.9946474432945251,\n",
       "  'happiness': 0.0004222575225867331,\n",
       "  'sadness': 0.0002712321584112942,\n",
       "  'enthusiasm': 0.0007723163580521941,\n",
       "  'fear': 0.0012051083613187075,\n",
       "  'anger': 0.002388371853157878,\n",
       "  'disgust': 0.0002930708578787744},\n",
       " {'neutral': 0.05574873834848404,\n",
       "  'happiness': 0.008815949782729149,\n",
       "  'sadness': 0.055222101509571075,\n",
       "  'enthusiasm': 0.0739891305565834,\n",
       "  'fear': 0.4189966917037964,\n",
       "  'anger': 0.3756764233112335,\n",
       "  'disgust': 0.011550898663699627},\n",
       " {'neutral': 0.0005717346793971956,\n",
       "  'happiness': 0.9970797896385193,\n",
       "  'sadness': 0.0003491798706818372,\n",
       "  'enthusiasm': 0.0005371652077883482,\n",
       "  'fear': 0.0006938545266166329,\n",
       "  'anger': 0.0005797261255793273,\n",
       "  'disgust': 0.00018845629529096186},\n",
       " {'neutral': 0.0066359518095850945,\n",
       "  'happiness': 0.3518541753292084,\n",
       "  'sadness': 0.002454947680234909,\n",
       "  'enthusiasm': 0.5876445770263672,\n",
       "  'fear': 0.0284036286175251,\n",
       "  'anger': 0.017473749816417694,\n",
       "  'disgust': 0.005532961338758469},\n",
       " {'neutral': 0.0027997286524623632,\n",
       "  'happiness': 0.9564735889434814,\n",
       "  'sadness': 0.0022042677737772465,\n",
       "  'enthusiasm': 0.0027398683596402407,\n",
       "  'fear': 0.023736029863357544,\n",
       "  'anger': 0.010580161586403847,\n",
       "  'disgust': 0.0014663109323009849},\n",
       " {'neutral': 0.21089407801628113,\n",
       "  'happiness': 0.006317690014839172,\n",
       "  'sadness': 0.0728844404220581,\n",
       "  'enthusiasm': 0.42719021439552307,\n",
       "  'fear': 0.016001738607883453,\n",
       "  'anger': 0.25424206256866455,\n",
       "  'disgust': 0.012469732202589512},\n",
       " {'neutral': 0.014389250427484512,\n",
       "  'happiness': 0.017682159319519997,\n",
       "  'sadness': 0.1244027316570282,\n",
       "  'enthusiasm': 0.00908521469682455,\n",
       "  'fear': 0.18412835896015167,\n",
       "  'anger': 0.6383660435676575,\n",
       "  'disgust': 0.011946255341172218},\n",
       " {'neutral': 0.05010091885924339,\n",
       "  'happiness': 0.1689288467168808,\n",
       "  'sadness': 0.09126649796962738,\n",
       "  'enthusiasm': 0.016246289014816284,\n",
       "  'fear': 0.10995305329561234,\n",
       "  'anger': 0.5501053929328918,\n",
       "  'disgust': 0.013399009592831135},\n",
       " {'neutral': 0.5688719749450684,\n",
       "  'happiness': 0.015690334141254425,\n",
       "  'sadness': 0.014444202184677124,\n",
       "  'enthusiasm': 0.016817787662148476,\n",
       "  'fear': 0.10110554844141006,\n",
       "  'anger': 0.27494826912879944,\n",
       "  'disgust': 0.008121827617287636},\n",
       " {'neutral': 0.11176832020282745,\n",
       "  'happiness': 0.014997115358710289,\n",
       "  'sadness': 0.022426731884479523,\n",
       "  'enthusiasm': 0.0061431690119206905,\n",
       "  'fear': 0.12604118883609772,\n",
       "  'anger': 0.7081441283226013,\n",
       "  'disgust': 0.010479304008185863},\n",
       " {'neutral': 0.0005747018731199205,\n",
       "  'happiness': 0.9958945512771606,\n",
       "  'sadness': 0.0002774338936433196,\n",
       "  'enthusiasm': 0.0013054226292297244,\n",
       "  'fear': 0.0009828975889831781,\n",
       "  'anger': 0.0007124667754396796,\n",
       "  'disgust': 0.0002525592572055757},\n",
       " {'neutral': 0.997623860836029,\n",
       "  'happiness': 0.0002980851859319955,\n",
       "  'sadness': 0.00013968041457701474,\n",
       "  'enthusiasm': 0.0008577247499488294,\n",
       "  'fear': 0.00031835728441365063,\n",
       "  'anger': 0.0006063987384550273,\n",
       "  'disgust': 0.00015597045421600342},\n",
       " {'neutral': 0.03198671340942383,\n",
       "  'happiness': 0.011182382702827454,\n",
       "  'sadness': 0.014441856183111668,\n",
       "  'enthusiasm': 0.0061028930358588696,\n",
       "  'fear': 0.26993006467819214,\n",
       "  'anger': 0.6564449071884155,\n",
       "  'disgust': 0.009911194443702698},\n",
       " {'neutral': 0.02969212457537651,\n",
       "  'happiness': 0.07334710657596588,\n",
       "  'sadness': 0.13899317383766174,\n",
       "  'enthusiasm': 0.008001948706805706,\n",
       "  'fear': 0.04407235234975815,\n",
       "  'anger': 0.6932225823402405,\n",
       "  'disgust': 0.012670686468482018},\n",
       " {'neutral': 0.013261749409139156,\n",
       "  'happiness': 0.057804569602012634,\n",
       "  'sadness': 0.010558628477156162,\n",
       "  'enthusiasm': 0.08367928862571716,\n",
       "  'fear': 0.0399574339389801,\n",
       "  'anger': 0.783515214920044,\n",
       "  'disgust': 0.011223106645047665},\n",
       " {'neutral': 0.0011897453805431724,\n",
       "  'happiness': 0.004061669111251831,\n",
       "  'sadness': 0.9847091436386108,\n",
       "  'enthusiasm': 0.0006131309201009572,\n",
       "  'fear': 0.004160876851528883,\n",
       "  'anger': 0.004106499254703522,\n",
       "  'disgust': 0.0011589431669563055},\n",
       " {'neutral': 0.0024799974635243416,\n",
       "  'happiness': 0.0019394049886614084,\n",
       "  'sadness': 0.0017862129025161266,\n",
       "  'enthusiasm': 0.985912024974823,\n",
       "  'fear': 0.0017053040210157633,\n",
       "  'anger': 0.004835907835513353,\n",
       "  'disgust': 0.0013411144027486444},\n",
       " {'neutral': 0.9864757657051086,\n",
       "  'happiness': 0.0008522052085027099,\n",
       "  'sadness': 0.0004322074237279594,\n",
       "  'enthusiasm': 0.004710448905825615,\n",
       "  'fear': 0.0006943016778677702,\n",
       "  'anger': 0.006236532237380743,\n",
       "  'disgust': 0.0005985232419334352},\n",
       " {'neutral': 0.018480004742741585,\n",
       "  'happiness': 0.18540140986442566,\n",
       "  'sadness': 0.536064624786377,\n",
       "  'enthusiasm': 0.0047510177828371525,\n",
       "  'fear': 0.02578827738761902,\n",
       "  'anger': 0.21884799003601074,\n",
       "  'disgust': 0.010666711255908012},\n",
       " {'neutral': 0.5063955187797546,\n",
       "  'happiness': 0.00716585386544466,\n",
       "  'sadness': 0.005226850043982267,\n",
       "  'enthusiasm': 0.026181424036622047,\n",
       "  'fear': 0.007617470342665911,\n",
       "  'anger': 0.4400017559528351,\n",
       "  'disgust': 0.0074111646972596645},\n",
       " {'neutral': 0.0038136248476803303,\n",
       "  'happiness': 0.016089990735054016,\n",
       "  'sadness': 0.0575333796441555,\n",
       "  'enthusiasm': 0.00309285637922585,\n",
       "  'fear': 0.8793801069259644,\n",
       "  'anger': 0.03465847298502922,\n",
       "  'disgust': 0.005431544501334429},\n",
       " {'neutral': 0.0019172134343534708,\n",
       "  'happiness': 0.955141007900238,\n",
       "  'sadness': 0.003960623871535063,\n",
       "  'enthusiasm': 0.004865292459726334,\n",
       "  'fear': 0.029621073976159096,\n",
       "  'anger': 0.0032226925250142813,\n",
       "  'disgust': 0.001271990593522787},\n",
       " {'neutral': 0.0004142174730077386,\n",
       "  'happiness': 0.9968562126159668,\n",
       "  'sadness': 0.0004553486069198698,\n",
       "  'enthusiasm': 0.00047239704872481525,\n",
       "  'fear': 0.001102725393138826,\n",
       "  'anger': 0.0005079708062112331,\n",
       "  'disgust': 0.00019097763288300484},\n",
       " {'neutral': 0.0016782499151304364,\n",
       "  'happiness': 0.9647430777549744,\n",
       "  'sadness': 0.010869150049984455,\n",
       "  'enthusiasm': 0.0011756030144169927,\n",
       "  'fear': 0.01352674700319767,\n",
       "  'anger': 0.006660457234829664,\n",
       "  'disgust': 0.001346740173175931},\n",
       " {'neutral': 0.0006140792975202203,\n",
       "  'happiness': 0.9813816547393799,\n",
       "  'sadness': 0.007230838760733604,\n",
       "  'enthusiasm': 0.001125088194385171,\n",
       "  'fear': 0.007220199331641197,\n",
       "  'anger': 0.0016986565897241235,\n",
       "  'disgust': 0.0007296054973267019},\n",
       " {'neutral': 0.026008956134319305,\n",
       "  'happiness': 0.012632451951503754,\n",
       "  'sadness': 0.005636133719235659,\n",
       "  'enthusiasm': 0.7643866539001465,\n",
       "  'fear': 0.017846904695034027,\n",
       "  'anger': 0.16564257442951202,\n",
       "  'disgust': 0.00784633494913578},\n",
       " {'neutral': 0.0040007890202105045,\n",
       "  'happiness': 0.00847205426543951,\n",
       "  'sadness': 0.024176008999347687,\n",
       "  'enthusiasm': 0.014582439325749874,\n",
       "  'fear': 0.9030917286872864,\n",
       "  'anger': 0.04036850482225418,\n",
       "  'disgust': 0.005308371502906084},\n",
       " {'neutral': 0.010149584151804447,\n",
       "  'happiness': 0.0771428644657135,\n",
       "  'sadness': 0.5800784230232239,\n",
       "  'enthusiasm': 0.004693802446126938,\n",
       "  'fear': 0.2692091166973114,\n",
       "  'anger': 0.04976743459701538,\n",
       "  'disgust': 0.008958740159869194},\n",
       " {'neutral': 0.0014369967393577099,\n",
       "  'happiness': 0.9630125761032104,\n",
       "  'sadness': 0.012174274772405624,\n",
       "  'enthusiasm': 0.0015172283165156841,\n",
       "  'fear': 0.01660274900496006,\n",
       "  'anger': 0.004017942119389772,\n",
       "  'disgust': 0.0012382949935272336},\n",
       " {'neutral': 0.7508640289306641,\n",
       "  'happiness': 0.005779245402663946,\n",
       "  'sadness': 0.001971413381397724,\n",
       "  'enthusiasm': 0.007875962182879448,\n",
       "  'fear': 0.020983215421438217,\n",
       "  'anger': 0.20801326632499695,\n",
       "  'disgust': 0.00451281201094389},\n",
       " {'neutral': 0.012862623669207096,\n",
       "  'happiness': 0.16147585213184357,\n",
       "  'sadness': 0.005169609095901251,\n",
       "  'enthusiasm': 0.17463187873363495,\n",
       "  'fear': 0.5159187912940979,\n",
       "  'anger': 0.11740003526210785,\n",
       "  'disgust': 0.012541227042675018},\n",
       " {'neutral': 0.05574873834848404,\n",
       "  'happiness': 0.008815949782729149,\n",
       "  'sadness': 0.055222101509571075,\n",
       "  'enthusiasm': 0.0739891305565834,\n",
       "  'fear': 0.4189966917037964,\n",
       "  'anger': 0.3756764233112335,\n",
       "  'disgust': 0.011550898663699627},\n",
       " {'neutral': 0.0005717346793971956,\n",
       "  'happiness': 0.9970797896385193,\n",
       "  'sadness': 0.0003491798706818372,\n",
       "  'enthusiasm': 0.0005371652077883482,\n",
       "  'fear': 0.0006938545266166329,\n",
       "  'anger': 0.0005797261255793273,\n",
       "  'disgust': 0.00018845629529096186},\n",
       " {'neutral': 0.003981234505772591,\n",
       "  'happiness': 0.8388756513595581,\n",
       "  'sadness': 0.0019797219429165125,\n",
       "  'enthusiasm': 0.1349847912788391,\n",
       "  'fear': 0.011043297126889229,\n",
       "  'anger': 0.006469235755503178,\n",
       "  'disgust': 0.0026660962030291557},\n",
       " {'neutral': 0.0027997286524623632,\n",
       "  'happiness': 0.9564735889434814,\n",
       "  'sadness': 0.0022042677737772465,\n",
       "  'enthusiasm': 0.0027398683596402407,\n",
       "  'fear': 0.023736029863357544,\n",
       "  'anger': 0.010580161586403847,\n",
       "  'disgust': 0.0014663109323009849},\n",
       " {'neutral': 0.03140454366803169,\n",
       "  'happiness': 0.02027008682489395,\n",
       "  'sadness': 0.011714738793671131,\n",
       "  'enthusiasm': 0.031730569899082184,\n",
       "  'fear': 0.2819522023200989,\n",
       "  'anger': 0.6126235127449036,\n",
       "  'disgust': 0.010304393246769905},\n",
       " {'neutral': 0.014389250427484512,\n",
       "  'happiness': 0.017682159319519997,\n",
       "  'sadness': 0.1244027316570282,\n",
       "  'enthusiasm': 0.00908521469682455,\n",
       "  'fear': 0.18412835896015167,\n",
       "  'anger': 0.6383660435676575,\n",
       "  'disgust': 0.011946255341172218},\n",
       " {'neutral': 0.05010091885924339,\n",
       "  'happiness': 0.1689288467168808,\n",
       "  'sadness': 0.09126649796962738,\n",
       "  'enthusiasm': 0.016246289014816284,\n",
       "  'fear': 0.10995305329561234,\n",
       "  'anger': 0.5501053929328918,\n",
       "  'disgust': 0.013399009592831135},\n",
       " {'neutral': 0.5688719749450684,\n",
       "  'happiness': 0.015690334141254425,\n",
       "  'sadness': 0.014444202184677124,\n",
       "  'enthusiasm': 0.016817787662148476,\n",
       "  'fear': 0.10110554844141006,\n",
       "  'anger': 0.27494826912879944,\n",
       "  'disgust': 0.008121827617287636},\n",
       " {'neutral': 0.11176832020282745,\n",
       "  'happiness': 0.014997115358710289,\n",
       "  'sadness': 0.022426731884479523,\n",
       "  'enthusiasm': 0.0061431690119206905,\n",
       "  'fear': 0.12604118883609772,\n",
       "  'anger': 0.7081441283226013,\n",
       "  'disgust': 0.010479304008185863},\n",
       " {'neutral': 0.0005747018731199205,\n",
       "  'happiness': 0.9958945512771606,\n",
       "  'sadness': 0.0002774338936433196,\n",
       "  'enthusiasm': 0.0013054226292297244,\n",
       "  'fear': 0.0009828975889831781,\n",
       "  'anger': 0.0007124667754396796,\n",
       "  'disgust': 0.0002525592572055757},\n",
       " {'neutral': 0.997623860836029,\n",
       "  'happiness': 0.0002980851859319955,\n",
       "  'sadness': 0.00013968041457701474,\n",
       "  'enthusiasm': 0.0008577247499488294,\n",
       "  'fear': 0.00031835728441365063,\n",
       "  'anger': 0.0006063987384550273,\n",
       "  'disgust': 0.00015597045421600342},\n",
       " {'neutral': 0.03198671340942383,\n",
       "  'happiness': 0.011182382702827454,\n",
       "  'sadness': 0.014441856183111668,\n",
       "  'enthusiasm': 0.0061028930358588696,\n",
       "  'fear': 0.26993006467819214,\n",
       "  'anger': 0.6564449071884155,\n",
       "  'disgust': 0.009911194443702698},\n",
       " {'neutral': 0.02969212457537651,\n",
       "  'happiness': 0.07334710657596588,\n",
       "  'sadness': 0.13899317383766174,\n",
       "  'enthusiasm': 0.008001948706805706,\n",
       "  'fear': 0.04407235234975815,\n",
       "  'anger': 0.6932225823402405,\n",
       "  'disgust': 0.012670686468482018},\n",
       " {'neutral': 0.978050708770752,\n",
       "  'happiness': 0.0010003992356359959,\n",
       "  'sadness': 0.0005518902908079326,\n",
       "  'enthusiasm': 0.01430918462574482,\n",
       "  'fear': 0.0014143063453957438,\n",
       "  'anger': 0.003974075894802809,\n",
       "  'disgust': 0.0006995837902650237},\n",
       " {'neutral': 0.0005717346793971956,\n",
       "  'happiness': 0.9970797896385193,\n",
       "  'sadness': 0.0003491798706818372,\n",
       "  'enthusiasm': 0.0005371652077883482,\n",
       "  'fear': 0.0006938545266166329,\n",
       "  'anger': 0.0005797261255793273,\n",
       "  'disgust': 0.00018845629529096186},\n",
       " {'neutral': 0.005898027680814266,\n",
       "  'happiness': 0.1245698556303978,\n",
       "  'sadness': 0.0021516229026019573,\n",
       "  'enthusiasm': 0.8175562620162964,\n",
       "  'fear': 0.026514651253819466,\n",
       "  'anger': 0.018280602991580963,\n",
       "  'disgust': 0.005028989166021347},\n",
       " {'neutral': 0.0027997286524623632,\n",
       "  'happiness': 0.9564735889434814,\n",
       "  'sadness': 0.0022042677737772465,\n",
       "  'enthusiasm': 0.0027398683596402407,\n",
       "  'fear': 0.023736029863357544,\n",
       "  'anger': 0.010580161586403847,\n",
       "  'disgust': 0.0014663109323009849},\n",
       " {'neutral': 0.03140454366803169,\n",
       "  'happiness': 0.02027008682489395,\n",
       "  'sadness': 0.011714738793671131,\n",
       "  'enthusiasm': 0.031730569899082184,\n",
       "  'fear': 0.2819522023200989,\n",
       "  'anger': 0.6126235127449036,\n",
       "  'disgust': 0.010304393246769905},\n",
       " {'neutral': 0.014389250427484512,\n",
       "  'happiness': 0.017682159319519997,\n",
       "  'sadness': 0.1244027316570282,\n",
       "  'enthusiasm': 0.00908521469682455,\n",
       "  'fear': 0.18412835896015167,\n",
       "  'anger': 0.6383660435676575,\n",
       "  'disgust': 0.011946255341172218},\n",
       " {'neutral': 0.05010091885924339,\n",
       "  'happiness': 0.1689288467168808,\n",
       "  'sadness': 0.09126649796962738,\n",
       "  'enthusiasm': 0.016246289014816284,\n",
       "  'fear': 0.10995305329561234,\n",
       "  'anger': 0.5501053929328918,\n",
       "  'disgust': 0.013399009592831135},\n",
       " {'neutral': 0.5688719749450684,\n",
       "  'happiness': 0.015690334141254425,\n",
       "  'sadness': 0.014444202184677124,\n",
       "  'enthusiasm': 0.016817787662148476,\n",
       "  'fear': 0.10110554844141006,\n",
       "  'anger': 0.27494826912879944,\n",
       "  'disgust': 0.008121827617287636},\n",
       " {'neutral': 0.09391173720359802,\n",
       "  'happiness': 0.007095769047737122,\n",
       "  'sadness': 0.003201959189027548,\n",
       "  'enthusiasm': 0.027460439130663872,\n",
       "  'fear': 0.016080498695373535,\n",
       "  'anger': 0.8451617360115051,\n",
       "  'disgust': 0.007087815087288618},\n",
       " {'neutral': 0.0005747018731199205,\n",
       "  'happiness': 0.9958945512771606,\n",
       "  'sadness': 0.0002774338936433196,\n",
       "  'enthusiasm': 0.0013054226292297244,\n",
       "  'fear': 0.0009828975889831781,\n",
       "  'anger': 0.0007124667754396796,\n",
       "  'disgust': 0.0002525592572055757},\n",
       " {'neutral': 0.997623860836029,\n",
       "  'happiness': 0.0002980851859319955,\n",
       "  'sadness': 0.00013968041457701474,\n",
       "  'enthusiasm': 0.0008577247499488294,\n",
       "  'fear': 0.00031835728441365063,\n",
       "  'anger': 0.0006063987384550273,\n",
       "  'disgust': 0.00015597045421600342},\n",
       " {'neutral': 0.03198671340942383,\n",
       "  'happiness': 0.011182382702827454,\n",
       "  'sadness': 0.014441856183111668,\n",
       "  'enthusiasm': 0.0061028930358588696,\n",
       "  'fear': 0.26993006467819214,\n",
       "  'anger': 0.6564449071884155,\n",
       "  'disgust': 0.009911194443702698},\n",
       " {'neutral': 0.02969212457537651,\n",
       "  'happiness': 0.07334710657596588,\n",
       "  'sadness': 0.13899317383766174,\n",
       "  'enthusiasm': 0.008001948706805706,\n",
       "  'fear': 0.04407235234975815,\n",
       "  'anger': 0.6932225823402405,\n",
       "  'disgust': 0.012670686468482018},\n",
       " {'neutral': 0.013261749409139156,\n",
       "  'happiness': 0.057804569602012634,\n",
       "  'sadness': 0.010558628477156162,\n",
       "  'enthusiasm': 0.08367928862571716,\n",
       "  'fear': 0.0399574339389801,\n",
       "  'anger': 0.783515214920044,\n",
       "  'disgust': 0.011223106645047665},\n",
       " {'neutral': 0.0011897453805431724,\n",
       "  'happiness': 0.004061669111251831,\n",
       "  'sadness': 0.9847091436386108,\n",
       "  'enthusiasm': 0.0006131309201009572,\n",
       "  'fear': 0.004160876851528883,\n",
       "  'anger': 0.004106499254703522,\n",
       "  'disgust': 0.0011589431669563055},\n",
       " {'neutral': 0.0024799974635243416,\n",
       "  'happiness': 0.0019394049886614084,\n",
       "  'sadness': 0.0017862129025161266,\n",
       "  'enthusiasm': 0.985912024974823,\n",
       "  'fear': 0.0017053040210157633,\n",
       "  'anger': 0.004835907835513353,\n",
       "  'disgust': 0.0013411144027486444},\n",
       " {'neutral': 0.9864757657051086,\n",
       "  'happiness': 0.0008522052085027099,\n",
       "  'sadness': 0.0004322074237279594,\n",
       "  'enthusiasm': 0.004710448905825615,\n",
       "  'fear': 0.0006943016778677702,\n",
       "  'anger': 0.006236532237380743,\n",
       "  'disgust': 0.0005985232419334352},\n",
       " {'neutral': 0.018480004742741585,\n",
       "  'happiness': 0.18540140986442566,\n",
       "  'sadness': 0.536064624786377,\n",
       "  'enthusiasm': 0.0047510177828371525,\n",
       "  'fear': 0.02578827738761902,\n",
       "  'anger': 0.21884799003601074,\n",
       "  'disgust': 0.010666711255908012},\n",
       " {'neutral': 0.5063955187797546,\n",
       "  'happiness': 0.00716585386544466,\n",
       "  'sadness': 0.005226850043982267,\n",
       "  'enthusiasm': 0.026181424036622047,\n",
       "  'fear': 0.007617470342665911,\n",
       "  'anger': 0.4400017559528351,\n",
       "  'disgust': 0.0074111646972596645},\n",
       " {'neutral': 0.0038136248476803303,\n",
       "  'happiness': 0.016089990735054016,\n",
       "  'sadness': 0.0575333796441555,\n",
       "  'enthusiasm': 0.00309285637922585,\n",
       "  'fear': 0.8793801069259644,\n",
       "  'anger': 0.03465847298502922,\n",
       "  'disgust': 0.005431544501334429},\n",
       " {'neutral': 0.0019172134343534708,\n",
       "  'happiness': 0.955141007900238,\n",
       "  'sadness': 0.003960623871535063,\n",
       "  'enthusiasm': 0.004865292459726334,\n",
       "  'fear': 0.029621073976159096,\n",
       "  'anger': 0.0032226925250142813,\n",
       "  'disgust': 0.001271990593522787},\n",
       " {'neutral': 0.0004142174730077386,\n",
       "  'happiness': 0.9968562126159668,\n",
       "  'sadness': 0.0004553486069198698,\n",
       "  'enthusiasm': 0.00047239704872481525,\n",
       "  'fear': 0.001102725393138826,\n",
       "  'anger': 0.0005079708062112331,\n",
       "  'disgust': 0.00019097763288300484},\n",
       " {'neutral': 0.0016782499151304364,\n",
       "  'happiness': 0.9647430777549744,\n",
       "  'sadness': 0.010869150049984455,\n",
       "  'enthusiasm': 0.0011756030144169927,\n",
       "  'fear': 0.01352674700319767,\n",
       "  'anger': 0.006660457234829664,\n",
       "  'disgust': 0.001346740173175931},\n",
       " {'neutral': 0.0006140792975202203,\n",
       "  'happiness': 0.9813816547393799,\n",
       "  'sadness': 0.007230838760733604,\n",
       "  'enthusiasm': 0.001125088194385171,\n",
       "  'fear': 0.007220199331641197,\n",
       "  'anger': 0.0016986565897241235,\n",
       "  'disgust': 0.0007296054973267019},\n",
       " {'neutral': 0.026008956134319305,\n",
       "  'happiness': 0.012632451951503754,\n",
       "  'sadness': 0.005636133719235659,\n",
       "  'enthusiasm': 0.7643866539001465,\n",
       "  'fear': 0.017846904695034027,\n",
       "  'anger': 0.16564257442951202,\n",
       "  'disgust': 0.00784633494913578},\n",
       " {'neutral': 0.0040007890202105045,\n",
       "  'happiness': 0.00847205426543951,\n",
       "  'sadness': 0.024176008999347687,\n",
       "  'enthusiasm': 0.014582439325749874,\n",
       "  'fear': 0.9030917286872864,\n",
       "  'anger': 0.04036850482225418,\n",
       "  'disgust': 0.005308371502906084},\n",
       " {'neutral': 0.010149584151804447,\n",
       "  'happiness': 0.0771428644657135,\n",
       "  'sadness': 0.5800784230232239,\n",
       "  'enthusiasm': 0.004693802446126938,\n",
       "  'fear': 0.2692091166973114,\n",
       "  'anger': 0.04976743459701538,\n",
       "  'disgust': 0.008958740159869194},\n",
       " {'neutral': 0.0014369967393577099,\n",
       "  'happiness': 0.9630125761032104,\n",
       "  'sadness': 0.012174274772405624,\n",
       "  'enthusiasm': 0.0015172283165156841,\n",
       "  'fear': 0.01660274900496006,\n",
       "  'anger': 0.004017942119389772,\n",
       "  'disgust': 0.0012382949935272336},\n",
       " {'neutral': 0.7508640289306641,\n",
       "  'happiness': 0.005779245402663946,\n",
       "  'sadness': 0.001971413381397724,\n",
       "  'enthusiasm': 0.007875962182879448,\n",
       "  'fear': 0.020983215421438217,\n",
       "  'anger': 0.20801326632499695,\n",
       "  'disgust': 0.00451281201094389},\n",
       " {'neutral': 0.012862623669207096,\n",
       "  'happiness': 0.16147585213184357,\n",
       "  'sadness': 0.005169609095901251,\n",
       "  'enthusiasm': 0.17463187873363495,\n",
       "  'fear': 0.5159187912940979,\n",
       "  'anger': 0.11740003526210785,\n",
       "  'disgust': 0.012541227042675018},\n",
       " {'neutral': 0.6796346306800842,\n",
       "  'happiness': 0.006515366956591606,\n",
       "  'sadness': 0.00456517469137907,\n",
       "  'enthusiasm': 0.0164017453789711,\n",
       "  'fear': 0.1096576452255249,\n",
       "  'anger': 0.1769777089357376,\n",
       "  'disgust': 0.00624771136790514},\n",
       " {'neutral': 0.033009640872478485,\n",
       "  'happiness': 0.08087486028671265,\n",
       "  'sadness': 0.03684202581644058,\n",
       "  'enthusiasm': 0.1825762540102005,\n",
       "  'fear': 0.03711812570691109,\n",
       "  'anger': 0.6158470511436462,\n",
       "  'disgust': 0.013732044026255608},\n",
       " {'neutral': 0.985039234161377,\n",
       "  'happiness': 0.0008459527743980289,\n",
       "  'sadness': 0.00046543910866603255,\n",
       "  'enthusiasm': 0.0018729534931480885,\n",
       "  'fear': 0.0034644075203686953,\n",
       "  'anger': 0.007678651250898838,\n",
       "  'disgust': 0.0006332401535473764},\n",
       " {'neutral': 0.0010456155287101865,\n",
       "  'happiness': 0.9891824126243591,\n",
       "  'sadness': 0.0003019784635398537,\n",
       "  'enthusiasm': 0.006375738885253668,\n",
       "  'fear': 0.000669164233841002,\n",
       "  'anger': 0.0019044926157221198,\n",
       "  'disgust': 0.0005206704954616725},\n",
       " {'neutral': 0.0016377167776226997,\n",
       "  'happiness': 0.9698188304901123,\n",
       "  'sadness': 0.000928947061765939,\n",
       "  'enthusiasm': 0.007069793529808521,\n",
       "  'fear': 0.015648476779460907,\n",
       "  'anger': 0.0038453657180070877,\n",
       "  'disgust': 0.001050941296853125},\n",
       " {'neutral': 0.00032902645762078464,\n",
       "  'happiness': 0.9982616305351257,\n",
       "  'sadness': 0.0002388025022810325,\n",
       "  'enthusiasm': 0.00039308282430283725,\n",
       "  'fear': 0.0003106197982560843,\n",
       "  'anger': 0.00034044578205794096,\n",
       "  'disgust': 0.0001263929734705016},\n",
       " {'neutral': 0.005725881550461054,\n",
       "  'happiness': 0.092379130423069,\n",
       "  'sadness': 0.05355699732899666,\n",
       "  'enthusiasm': 0.005777894053608179,\n",
       "  'fear': 0.7655280828475952,\n",
       "  'anger': 0.06917470693588257,\n",
       "  'disgust': 0.007857302203774452},\n",
       " {'neutral': 0.008662816137075424,\n",
       "  'happiness': 0.01958589069545269,\n",
       "  'sadness': 0.0016921216156333685,\n",
       "  'enthusiasm': 0.020924706012010574,\n",
       "  'fear': 0.0163562074303627,\n",
       "  'anger': 0.9263449311256409,\n",
       "  'disgust': 0.006433404982089996},\n",
       " {'neutral': 0.2538139224052429,\n",
       "  'happiness': 0.29609718918800354,\n",
       "  'sadness': 0.008904716931283474,\n",
       "  'enthusiasm': 0.016656750813126564,\n",
       "  'fear': 0.10931909084320068,\n",
       "  'anger': 0.30373576283454895,\n",
       "  'disgust': 0.011472647078335285},\n",
       " {'neutral': 0.049323998391628265,\n",
       "  'happiness': 0.0053941127844154835,\n",
       "  'sadness': 0.0170553270727396,\n",
       "  'enthusiasm': 0.06404024362564087,\n",
       "  'fear': 0.015150058083236217,\n",
       "  'anger': 0.8400529026985168,\n",
       "  'disgust': 0.008983353152871132},\n",
       " {'neutral': 0.00872117467224598,\n",
       "  'happiness': 0.025564298033714294,\n",
       "  'sadness': 0.5407718420028687,\n",
       "  'enthusiasm': 0.0018181342165917158,\n",
       "  'fear': 0.33413898944854736,\n",
       "  'anger': 0.08004333823919296,\n",
       "  'disgust': 0.0089422557502985},\n",
       " {'neutral': 0.0024028944317251444,\n",
       "  'happiness': 0.9143189191818237,\n",
       "  'sadness': 0.009973474778234959,\n",
       "  'enthusiasm': 0.0034429130610078573,\n",
       "  'fear': 0.06320374459028244,\n",
       "  'anger': 0.004645032808184624,\n",
       "  'disgust': 0.0020128756295889616},\n",
       " {'neutral': 0.01085328683257103,\n",
       "  'happiness': 0.04363641142845154,\n",
       "  'sadness': 0.6921517848968506,\n",
       "  'enthusiasm': 0.0036672696005553007,\n",
       "  'fear': 0.05815063416957855,\n",
       "  'anger': 0.18225519359111786,\n",
       "  'disgust': 0.009285473264753819},\n",
       " {'neutral': 0.024036379531025887,\n",
       "  'happiness': 0.005475555546581745,\n",
       "  'sadness': 0.3098275363445282,\n",
       "  'enthusiasm': 0.0030122764874249697,\n",
       "  'fear': 0.5581536293029785,\n",
       "  'anger': 0.09116606414318085,\n",
       "  'disgust': 0.008328580297529697},\n",
       " {'neutral': 0.0015014291275292635,\n",
       "  'happiness': 0.0032076584175229073,\n",
       "  'sadness': 0.9848750233650208,\n",
       "  'enthusiasm': 0.0008073332719504833,\n",
       "  'fear': 0.0016961790388450027,\n",
       "  'anger': 0.006712482310831547,\n",
       "  'disgust': 0.0012000075075775385},\n",
       " {'neutral': 0.0076430016197264194,\n",
       "  'happiness': 0.6048275232315063,\n",
       "  'sadness': 0.005498397629708052,\n",
       "  'enthusiasm': 0.005341667681932449,\n",
       "  'fear': 0.29002776741981506,\n",
       "  'anger': 0.08000001311302185,\n",
       "  'disgust': 0.006661667488515377},\n",
       " {'neutral': 0.00827827025204897,\n",
       "  'happiness': 0.050627775490283966,\n",
       "  'sadness': 0.05069930851459503,\n",
       "  'enthusiasm': 0.03160877898335457,\n",
       "  'fear': 0.3431098759174347,\n",
       "  'anger': 0.5028864741325378,\n",
       "  'disgust': 0.01278949249535799},\n",
       " {'neutral': 0.014916902408003807,\n",
       "  'happiness': 0.010984945110976696,\n",
       "  'sadness': 0.19780400395393372,\n",
       "  'enthusiasm': 0.23279261589050293,\n",
       "  'fear': 0.11281242221593857,\n",
       "  'anger': 0.4126344621181488,\n",
       "  'disgust': 0.01805463805794716},\n",
       " {'neutral': 0.003634913358837366,\n",
       "  'happiness': 0.9535183310508728,\n",
       "  'sadness': 0.0019346033222973347,\n",
       "  'enthusiasm': 0.012501231394708157,\n",
       "  'fear': 0.0028151923324912786,\n",
       "  'anger': 0.023702573031187057,\n",
       "  'disgust': 0.0018931697122752666},\n",
       " {'neutral': 0.06570515781641006,\n",
       "  'happiness': 0.009272860363125801,\n",
       "  'sadness': 0.006704246159642935,\n",
       "  'enthusiasm': 0.3392419219017029,\n",
       "  'fear': 0.020439298823475838,\n",
       "  'anger': 0.5469629168510437,\n",
       "  'disgust': 0.011673674918711185},\n",
       " {'neutral': 0.10427707433700562,\n",
       "  'happiness': 0.056879620999097824,\n",
       "  'sadness': 0.04019385576248169,\n",
       "  'enthusiasm': 0.013456849381327629,\n",
       "  'fear': 0.6682763695716858,\n",
       "  'anger': 0.10642366111278534,\n",
       "  'disgust': 0.010492533445358276},\n",
       " {'neutral': 0.051575470715761185,\n",
       "  'happiness': 0.032389380037784576,\n",
       "  'sadness': 0.006906955037266016,\n",
       "  'enthusiasm': 0.01867789402604103,\n",
       "  'fear': 0.3802667558193207,\n",
       "  'anger': 0.4993521571159363,\n",
       "  'disgust': 0.010831366293132305},\n",
       " {'neutral': 0.9988247752189636,\n",
       "  'happiness': 0.00016628362936899066,\n",
       "  'sadness': 0.0001223978033522144,\n",
       "  'enthusiasm': 0.00023758818861097097,\n",
       "  'fear': 0.0002767288242466748,\n",
       "  'anger': 0.0002808870340231806,\n",
       "  'disgust': 9.131633123615757e-05},\n",
       " {'neutral': 0.8266966938972473,\n",
       "  'happiness': 0.005738170817494392,\n",
       "  'sadness': 0.003475174540653825,\n",
       "  'enthusiasm': 0.0035852540750056505,\n",
       "  'fear': 0.010540462099015713,\n",
       "  'anger': 0.14625155925750732,\n",
       "  'disgust': 0.0037127186078578234},\n",
       " {'neutral': 0.09336990863084793,\n",
       "  'happiness': 0.011021438054740429,\n",
       "  'sadness': 0.06620714068412781,\n",
       "  'enthusiasm': 0.02921571396291256,\n",
       "  'fear': 0.3899577558040619,\n",
       "  'anger': 0.39879411458969116,\n",
       "  'disgust': 0.011433920823037624},\n",
       " {'neutral': 0.00355343334376812,\n",
       "  'happiness': 0.8815140128135681,\n",
       "  'sadness': 0.0016563994577154517,\n",
       "  'enthusiasm': 0.04187672212719917,\n",
       "  'fear': 0.03900308907032013,\n",
       "  'anger': 0.028720950707793236,\n",
       "  'disgust': 0.00367529783397913},\n",
       " {'neutral': 0.26288846135139465,\n",
       "  'happiness': 0.01640712469816208,\n",
       "  'sadness': 0.0028034544084221125,\n",
       "  'enthusiasm': 0.016631590202450752,\n",
       "  'fear': 0.05585607513785362,\n",
       "  'anger': 0.6363911628723145,\n",
       "  'disgust': 0.009022184647619724},\n",
       " {'neutral': 0.011385118588805199,\n",
       "  'happiness': 0.4067979156970978,\n",
       "  'sadness': 0.014885056763887405,\n",
       "  'enthusiasm': 0.0241968035697937,\n",
       "  'fear': 0.07231137156486511,\n",
       "  'anger': 0.4602225422859192,\n",
       "  'disgust': 0.010201146826148033},\n",
       " {'neutral': 0.00438279053196311,\n",
       "  'happiness': 0.8972432613372803,\n",
       "  'sadness': 0.0007017491734586656,\n",
       "  'enthusiasm': 0.059795498847961426,\n",
       "  'fear': 0.0076264142990112305,\n",
       "  'anger': 0.027027860283851624,\n",
       "  'disgust': 0.003222331404685974},\n",
       " {'neutral': 0.013088533654808998,\n",
       "  'happiness': 0.5325040221214294,\n",
       "  'sadness': 0.006395549979060888,\n",
       "  'enthusiasm': 0.007373029366135597,\n",
       "  'fear': 0.08467911183834076,\n",
       "  'anger': 0.3471828103065491,\n",
       "  'disgust': 0.008777040988206863},\n",
       " {'neutral': 0.0024968262296169996,\n",
       "  'happiness': 0.8930647373199463,\n",
       "  'sadness': 0.0042738113552331924,\n",
       "  'enthusiasm': 0.03409406170248985,\n",
       "  'fear': 0.011359729804098606,\n",
       "  'anger': 0.05135920271277428,\n",
       "  'disgust': 0.0033516574185341597},\n",
       " {'neutral': 0.05888456106185913,\n",
       "  'happiness': 0.011555967852473259,\n",
       "  'sadness': 0.0785658210515976,\n",
       "  'enthusiasm': 0.06340064108371735,\n",
       "  'fear': 0.47855693101882935,\n",
       "  'anger': 0.2975381910800934,\n",
       "  'disgust': 0.01149788685142994},\n",
       " {'neutral': 0.05574873834848404,\n",
       "  'happiness': 0.008815949782729149,\n",
       "  'sadness': 0.055222101509571075,\n",
       "  'enthusiasm': 0.0739891305565834,\n",
       "  'fear': 0.4189966917037964,\n",
       "  'anger': 0.3756764233112335,\n",
       "  'disgust': 0.011550898663699627},\n",
       " {'neutral': 0.0005717346793971956,\n",
       "  'happiness': 0.9970797896385193,\n",
       "  'sadness': 0.0003491798706818372,\n",
       "  'enthusiasm': 0.0005371652077883482,\n",
       "  'fear': 0.0006938545266166329,\n",
       "  'anger': 0.0005797261255793273,\n",
       "  'disgust': 0.00018845629529096186},\n",
       " {'neutral': 0.05574873834848404,\n",
       "  'happiness': 0.008815949782729149,\n",
       "  'sadness': 0.055222101509571075,\n",
       "  'enthusiasm': 0.0739891305565834,\n",
       "  'fear': 0.4189966917037964,\n",
       "  'anger': 0.3756764233112335,\n",
       "  'disgust': 0.011550898663699627},\n",
       " {'neutral': 0.0005717346793971956,\n",
       "  'happiness': 0.9970797896385193,\n",
       "  'sadness': 0.0003491798706818372,\n",
       "  'enthusiasm': 0.0005371652077883482,\n",
       "  'fear': 0.0006938545266166329,\n",
       "  'anger': 0.0005797261255793273,\n",
       "  'disgust': 0.00018845629529096186},\n",
       " {'neutral': 0.005898027680814266,\n",
       "  'happiness': 0.1245698556303978,\n",
       "  'sadness': 0.0021516229026019573,\n",
       "  'enthusiasm': 0.8175562620162964,\n",
       "  'fear': 0.026514651253819466,\n",
       "  'anger': 0.018280602991580963,\n",
       "  'disgust': 0.005028989166021347},\n",
       " {'neutral': 0.0027997286524623632,\n",
       "  'happiness': 0.9564735889434814,\n",
       "  'sadness': 0.0022042677737772465,\n",
       "  'enthusiasm': 0.0027398683596402407,\n",
       "  'fear': 0.023736029863357544,\n",
       "  'anger': 0.010580161586403847,\n",
       "  'disgust': 0.0014663109323009849},\n",
       " {'neutral': 0.03140454366803169,\n",
       "  'happiness': 0.02027008682489395,\n",
       "  'sadness': 0.011714738793671131,\n",
       "  'enthusiasm': 0.031730569899082184,\n",
       "  'fear': 0.2819522023200989,\n",
       "  'anger': 0.6126235127449036,\n",
       "  'disgust': 0.010304393246769905},\n",
       " {'neutral': 0.011218912899494171,\n",
       "  'happiness': 0.01652001030743122,\n",
       "  'sadness': 0.02167263999581337,\n",
       "  'enthusiasm': 0.46991586685180664,\n",
       "  'fear': 0.025851136073470116,\n",
       "  'anger': 0.44252821803092957,\n",
       "  'disgust': 0.012293252162635326},\n",
       " {'neutral': 0.05010091885924339,\n",
       "  'happiness': 0.1689288467168808,\n",
       "  'sadness': 0.09126649796962738,\n",
       "  'enthusiasm': 0.016246289014816284,\n",
       "  'fear': 0.10995305329561234,\n",
       "  'anger': 0.5501053929328918,\n",
       "  'disgust': 0.013399009592831135},\n",
       " {'neutral': 0.5688719749450684,\n",
       "  'happiness': 0.015690334141254425,\n",
       "  'sadness': 0.014444202184677124,\n",
       "  'enthusiasm': 0.016817787662148476,\n",
       "  'fear': 0.10110554844141006,\n",
       "  'anger': 0.27494826912879944,\n",
       "  'disgust': 0.008121827617287636},\n",
       " {'neutral': 0.053045183420181274,\n",
       "  'happiness': 0.008101405575871468,\n",
       "  'sadness': 0.0025518620386719704,\n",
       "  'enthusiasm': 0.023600324988365173,\n",
       "  'fear': 0.014263770543038845,\n",
       "  'anger': 0.8917787075042725,\n",
       "  'disgust': 0.006658777128905058},\n",
       " {'neutral': 0.0005747018731199205,\n",
       "  'happiness': 0.9958945512771606,\n",
       "  'sadness': 0.0002774338936433196,\n",
       "  'enthusiasm': 0.0013054226292297244,\n",
       "  'fear': 0.0009828975889831781,\n",
       "  'anger': 0.0007124667754396796,\n",
       "  'disgust': 0.0002525592572055757},\n",
       " {'neutral': 0.6162669658660889,\n",
       "  'happiness': 0.003167892573401332,\n",
       "  'sadness': 0.05662835016846657,\n",
       "  'enthusiasm': 0.0657857358455658,\n",
       "  'fear': 0.07202192395925522,\n",
       "  'anger': 0.17811046540737152,\n",
       "  'disgust': 0.008018733002245426},\n",
       " {'neutral': 0.0005529464688152075,\n",
       "  'happiness': 0.9968640804290771,\n",
       "  'sadness': 0.0004393368726596236,\n",
       "  'enthusiasm': 0.0005336031899787486,\n",
       "  'fear': 0.0006992202252149582,\n",
       "  'anger': 0.0007056999602355063,\n",
       "  'disgust': 0.00020518872770480812},\n",
       " {'neutral': 0.007269196677953005,\n",
       "  'happiness': 0.39713621139526367,\n",
       "  'sadness': 0.0021828541066497564,\n",
       "  'enthusiasm': 0.5413584113121033,\n",
       "  'fear': 0.028258586302399635,\n",
       "  'anger': 0.018202196806669235,\n",
       "  'disgust': 0.005592531990259886},\n",
       " {'neutral': 0.0027997286524623632,\n",
       "  'happiness': 0.9564735889434814,\n",
       "  'sadness': 0.0022042677737772465,\n",
       "  'enthusiasm': 0.0027398683596402407,\n",
       "  'fear': 0.023736029863357544,\n",
       "  'anger': 0.010580161586403847,\n",
       "  'disgust': 0.0014663109323009849},\n",
       " {'neutral': 0.03140454366803169,\n",
       "  'happiness': 0.02027008682489395,\n",
       "  'sadness': 0.011714738793671131,\n",
       "  'enthusiasm': 0.031730569899082184,\n",
       "  'fear': 0.2819522023200989,\n",
       "  'anger': 0.6126235127449036,\n",
       "  'disgust': 0.010304393246769905},\n",
       " {'neutral': 0.014389250427484512,\n",
       "  'happiness': 0.017682159319519997,\n",
       "  'sadness': 0.1244027316570282,\n",
       "  'enthusiasm': 0.00908521469682455,\n",
       "  'fear': 0.18412835896015167,\n",
       "  'anger': 0.6383660435676575,\n",
       "  'disgust': 0.011946255341172218},\n",
       " {'neutral': 0.05010091885924339,\n",
       "  'happiness': 0.1689288467168808,\n",
       "  'sadness': 0.09126649796962738,\n",
       "  'enthusiasm': 0.016246289014816284,\n",
       "  'fear': 0.10995305329561234,\n",
       "  'anger': 0.5501053929328918,\n",
       "  'disgust': 0.013399009592831135},\n",
       " {'neutral': 0.5688719749450684,\n",
       "  'happiness': 0.015690334141254425,\n",
       "  'sadness': 0.014444202184677124,\n",
       "  'enthusiasm': 0.016817787662148476,\n",
       "  'fear': 0.10110554844141006,\n",
       "  'anger': 0.27494826912879944,\n",
       "  'disgust': 0.008121827617287636},\n",
       " {'neutral': 0.1255919188261032,\n",
       "  'happiness': 0.009582662023603916,\n",
       "  'sadness': 0.002630822593346238,\n",
       "  'enthusiasm': 0.031172731891274452,\n",
       "  'fear': 0.01375966239720583,\n",
       "  'anger': 0.809809684753418,\n",
       "  'disgust': 0.007452547084540129},\n",
       " {'neutral': 0.0005747018731199205,\n",
       "  'happiness': 0.9958945512771606,\n",
       "  'sadness': 0.0002774338936433196,\n",
       "  'enthusiasm': 0.0013054226292297244,\n",
       "  'fear': 0.0009828975889831781,\n",
       "  'anger': 0.0007124667754396796,\n",
       "  'disgust': 0.0002525592572055757},\n",
       " {'neutral': 0.997623860836029,\n",
       "  'happiness': 0.0002980851859319955,\n",
       "  'sadness': 0.00013968041457701474,\n",
       "  'enthusiasm': 0.0008577247499488294,\n",
       "  'fear': 0.00031835728441365063,\n",
       "  'anger': 0.0006063987384550273,\n",
       "  'disgust': 0.00015597045421600342},\n",
       " {'neutral': 0.03198671340942383,\n",
       "  'happiness': 0.011182382702827454,\n",
       "  'sadness': 0.014441856183111668,\n",
       "  'enthusiasm': 0.0061028930358588696,\n",
       "  'fear': 0.26993006467819214,\n",
       "  'anger': 0.6564449071884155,\n",
       "  'disgust': 0.009911194443702698},\n",
       " {'neutral': 0.015522882342338562,\n",
       "  'happiness': 0.011265933513641357,\n",
       "  'sadness': 0.006550546269863844,\n",
       "  'enthusiasm': 0.030503638088703156,\n",
       "  'fear': 0.020013179630041122,\n",
       "  'anger': 0.9090167880058289,\n",
       "  'disgust': 0.0071270582266151905},\n",
       " {'neutral': 0.013261749409139156,\n",
       "  'happiness': 0.057804569602012634,\n",
       "  'sadness': 0.010558628477156162,\n",
       "  'enthusiasm': 0.08367928862571716,\n",
       "  'fear': 0.0399574339389801,\n",
       "  'anger': 0.783515214920044,\n",
       "  'disgust': 0.011223106645047665},\n",
       " {'neutral': 0.001644146628677845,\n",
       "  'happiness': 0.010817364789545536,\n",
       "  'sadness': 0.9737281799316406,\n",
       "  'enthusiasm': 0.0010115214390680194,\n",
       "  'fear': 0.005438060034066439,\n",
       "  'anger': 0.00578890647739172,\n",
       "  'disgust': 0.001571772270835936},\n",
       " {'neutral': 0.0019348245114088058,\n",
       "  'happiness': 0.0023607690818607807,\n",
       "  'sadness': 0.0018462154548615217,\n",
       "  'enthusiasm': 0.9854326844215393,\n",
       "  'fear': 0.001928341225720942,\n",
       "  'anger': 0.005125288851559162,\n",
       "  'disgust': 0.0013718018308281898},\n",
       " {'neutral': 0.9864757657051086,\n",
       "  'happiness': 0.0008522052085027099,\n",
       "  'sadness': 0.0004322074237279594,\n",
       "  'enthusiasm': 0.004710448905825615,\n",
       "  'fear': 0.0006943016778677702,\n",
       "  'anger': 0.006236532237380743,\n",
       "  'disgust': 0.0005985232419334352},\n",
       " {'neutral': 0.00755757512524724,\n",
       "  'happiness': 0.8629224300384521,\n",
       "  'sadness': 0.04609343037009239,\n",
       "  'enthusiasm': 0.0022686037700623274,\n",
       "  'fear': 0.020967349410057068,\n",
       "  'anger': 0.055820055305957794,\n",
       "  'disgust': 0.004370519891381264},\n",
       " {'neutral': 0.5063955187797546,\n",
       "  'happiness': 0.00716585386544466,\n",
       "  'sadness': 0.005226850043982267,\n",
       "  'enthusiasm': 0.026181424036622047,\n",
       "  'fear': 0.007617470342665911,\n",
       "  'anger': 0.4400017559528351,\n",
       "  'disgust': 0.0074111646972596645},\n",
       " {'neutral': 0.004163368139415979,\n",
       "  'happiness': 0.003992277197539806,\n",
       "  'sadness': 0.10321519523859024,\n",
       "  'enthusiasm': 0.0033836292568594217,\n",
       "  'fear': 0.8450152277946472,\n",
       "  'anger': 0.0349283330142498,\n",
       "  'disgust': 0.005302012898027897},\n",
       " {'neutral': 0.0019172134343534708,\n",
       "  'happiness': 0.955141007900238,\n",
       "  'sadness': 0.003960623871535063,\n",
       "  'enthusiasm': 0.004865292459726334,\n",
       "  'fear': 0.029621073976159096,\n",
       "  'anger': 0.0032226925250142813,\n",
       "  'disgust': 0.001271990593522787},\n",
       " {'neutral': 0.0004142174730077386,\n",
       "  'happiness': 0.9968562126159668,\n",
       "  'sadness': 0.0004553486069198698,\n",
       "  'enthusiasm': 0.00047239704872481525,\n",
       "  'fear': 0.001102725393138826,\n",
       "  'anger': 0.0005079708062112331,\n",
       "  'disgust': 0.00019097763288300484},\n",
       " {'neutral': 0.029180705547332764,\n",
       "  'happiness': 0.0023406753316521645,\n",
       "  'sadness': 0.8151203393936157,\n",
       "  'enthusiasm': 0.009597381576895714,\n",
       "  'fear': 0.008421028964221478,\n",
       "  'anger': 0.12926194071769714,\n",
       "  'disgust': 0.006077935453504324},\n",
       " {'neutral': 0.0006140792975202203,\n",
       "  'happiness': 0.9813816547393799,\n",
       "  'sadness': 0.007230838760733604,\n",
       "  'enthusiasm': 0.001125088194385171,\n",
       "  'fear': 0.007220199331641197,\n",
       "  'anger': 0.0016986565897241235,\n",
       "  'disgust': 0.0007296054973267019},\n",
       " {'neutral': 0.017857525497674942,\n",
       "  'happiness': 0.0420353040099144,\n",
       "  'sadness': 0.003116657491773367,\n",
       "  'enthusiasm': 0.757520854473114,\n",
       "  'fear': 0.03323143720626831,\n",
       "  'anger': 0.1376524418592453,\n",
       "  'disgust': 0.008585767820477486},\n",
       " {'neutral': 0.0040007890202105045,\n",
       "  'happiness': 0.00847205426543951,\n",
       "  'sadness': 0.024176008999347687,\n",
       "  'enthusiasm': 0.014582439325749874,\n",
       "  'fear': 0.9030917286872864,\n",
       "  'anger': 0.04036850482225418,\n",
       "  'disgust': 0.005308371502906084},\n",
       " {'neutral': 0.008767727762460709,\n",
       "  'happiness': 0.09696005284786224,\n",
       "  'sadness': 0.04394616559147835,\n",
       "  'enthusiasm': 0.008496737107634544,\n",
       "  'fear': 0.7535935044288635,\n",
       "  'anger': 0.0798879861831665,\n",
       "  'disgust': 0.008347841911017895},\n",
       " {'neutral': 0.0014369967393577099,\n",
       "  'happiness': 0.9630125761032104,\n",
       "  'sadness': 0.012174274772405624,\n",
       "  'enthusiasm': 0.0015172283165156841,\n",
       "  'fear': 0.01660274900496006,\n",
       "  'anger': 0.004017942119389772,\n",
       "  'disgust': 0.0012382949935272336},\n",
       " {'neutral': 0.7508640289306641,\n",
       "  'happiness': 0.005779245402663946,\n",
       "  'sadness': 0.001971413381397724,\n",
       "  'enthusiasm': 0.007875962182879448,\n",
       "  'fear': 0.020983215421438217,\n",
       "  'anger': 0.20801326632499695,\n",
       "  'disgust': 0.00451281201094389},\n",
       " {'neutral': 0.012862623669207096,\n",
       "  'happiness': 0.16147585213184357,\n",
       "  'sadness': 0.005169609095901251,\n",
       "  'enthusiasm': 0.17463187873363495,\n",
       "  'fear': 0.5159187912940979,\n",
       "  'anger': 0.11740003526210785,\n",
       "  'disgust': 0.012541227042675018},\n",
       " {'neutral': 0.6796346306800842,\n",
       "  'happiness': 0.006515366956591606,\n",
       "  'sadness': 0.00456517469137907,\n",
       "  'enthusiasm': 0.0164017453789711,\n",
       "  'fear': 0.1096576452255249,\n",
       "  'anger': 0.1769777089357376,\n",
       "  'disgust': 0.00624771136790514},\n",
       " {'neutral': 0.04688740149140358,\n",
       "  'happiness': 0.09117139875888824,\n",
       "  'sadness': 0.018282495439052582,\n",
       "  'enthusiasm': 0.2274070829153061,\n",
       "  'fear': 0.027247829362750053,\n",
       "  'anger': 0.575968861579895,\n",
       "  'disgust': 0.013034895062446594},\n",
       " {'neutral': 0.9986029267311096,\n",
       "  'happiness': 0.00021112033573444933,\n",
       "  'sadness': 0.00011765653471229598,\n",
       "  'enthusiasm': 0.0003667691198643297,\n",
       "  'fear': 0.0002520442649256438,\n",
       "  'anger': 0.000345844600815326,\n",
       "  'disgust': 0.00010386005305917934},\n",
       " {'neutral': 0.0010456155287101865,\n",
       "  'happiness': 0.9891824126243591,\n",
       "  'sadness': 0.0003019784635398537,\n",
       "  'enthusiasm': 0.006375738885253668,\n",
       "  'fear': 0.000669164233841002,\n",
       "  'anger': 0.0019044926157221198,\n",
       "  'disgust': 0.0005206704954616725},\n",
       " {'neutral': 0.0016377167776226997,\n",
       "  'happiness': 0.9698188304901123,\n",
       "  'sadness': 0.000928947061765939,\n",
       "  'enthusiasm': 0.007069793529808521,\n",
       "  'fear': 0.015648476779460907,\n",
       "  'anger': 0.0038453657180070877,\n",
       "  'disgust': 0.001050941296853125},\n",
       " {'neutral': 0.00032902645762078464,\n",
       "  'happiness': 0.9982616305351257,\n",
       "  'sadness': 0.0002388025022810325,\n",
       "  'enthusiasm': 0.00039308282430283725,\n",
       "  'fear': 0.0003106197982560843,\n",
       "  'anger': 0.00034044578205794096,\n",
       "  'disgust': 0.0001263929734705016},\n",
       " {'neutral': 0.005725881550461054,\n",
       "  'happiness': 0.092379130423069,\n",
       "  'sadness': 0.05355699732899666,\n",
       "  'enthusiasm': 0.005777894053608179,\n",
       "  'fear': 0.7655280828475952,\n",
       "  'anger': 0.06917470693588257,\n",
       "  'disgust': 0.007857302203774452},\n",
       " {'neutral': 0.008526313118636608,\n",
       "  'happiness': 0.10877241939306259,\n",
       "  'sadness': 0.006187902297824621,\n",
       "  'enthusiasm': 0.007292316295206547,\n",
       "  'fear': 0.11447450518608093,\n",
       "  'anger': 0.7452206611633301,\n",
       "  'disgust': 0.009525882080197334},\n",
       " {'neutral': 0.10227164626121521,\n",
       "  'happiness': 0.5192480087280273,\n",
       "  'sadness': 0.012754569761455059,\n",
       "  'enthusiasm': 0.012371706776320934,\n",
       "  'fear': 0.09361245483160019,\n",
       "  'anger': 0.24948692321777344,\n",
       "  'disgust': 0.010254744440317154},\n",
       " {'neutral': 0.017336390912532806,\n",
       "  'happiness': 0.019907496869564056,\n",
       "  'sadness': 0.009916864335536957,\n",
       "  'enthusiasm': 0.05129546672105789,\n",
       "  'fear': 0.04302113130688667,\n",
       "  'anger': 0.8494725823402405,\n",
       "  'disgust': 0.009050029329955578},\n",
       " {'neutral': 0.00872117467224598,\n",
       "  'happiness': 0.025564298033714294,\n",
       "  'sadness': 0.5407718420028687,\n",
       "  'enthusiasm': 0.0018181342165917158,\n",
       "  'fear': 0.33413898944854736,\n",
       "  'anger': 0.08004333823919296,\n",
       "  'disgust': 0.0089422557502985},\n",
       " {'neutral': 0.0005027307779528201,\n",
       "  'happiness': 0.9956315755844116,\n",
       "  'sadness': 0.0005260043544694781,\n",
       "  'enthusiasm': 0.0006998921744525433,\n",
       "  'fear': 0.0015384829603135586,\n",
       "  'anger': 0.0008415775955654681,\n",
       "  'disgust': 0.0002596671401988715},\n",
       " {'neutral': 0.01085328683257103,\n",
       "  'happiness': 0.04363641142845154,\n",
       "  'sadness': 0.6921517848968506,\n",
       "  'enthusiasm': 0.0036672696005553007,\n",
       "  'fear': 0.05815063416957855,\n",
       "  'anger': 0.18225519359111786,\n",
       "  'disgust': 0.009285473264753819},\n",
       " {'neutral': 0.024036379531025887,\n",
       "  'happiness': 0.005475555546581745,\n",
       "  'sadness': 0.3098275363445282,\n",
       "  'enthusiasm': 0.0030122764874249697,\n",
       "  'fear': 0.5581536293029785,\n",
       "  'anger': 0.09116606414318085,\n",
       "  'disgust': 0.008328580297529697},\n",
       " {'neutral': 0.003907018341124058,\n",
       "  'happiness': 0.6456954479217529,\n",
       "  'sadness': 0.3223523199558258,\n",
       "  'enthusiasm': 0.0028939039912074804,\n",
       "  'fear': 0.007283586543053389,\n",
       "  'anger': 0.014272373169660568,\n",
       "  'disgust': 0.003595382208004594},\n",
       " {'neutral': 0.0076430016197264194,\n",
       "  'happiness': 0.6048275232315063,\n",
       "  'sadness': 0.005498397629708052,\n",
       "  'enthusiasm': 0.005341667681932449,\n",
       "  'fear': 0.29002776741981506,\n",
       "  'anger': 0.08000001311302185,\n",
       "  'disgust': 0.006661667488515377},\n",
       " {'neutral': 0.00827827025204897,\n",
       "  'happiness': 0.050627775490283966,\n",
       "  'sadness': 0.05069930851459503,\n",
       "  'enthusiasm': 0.03160877898335457,\n",
       "  'fear': 0.3431098759174347,\n",
       "  'anger': 0.5028864741325378,\n",
       "  'disgust': 0.01278949249535799},\n",
       " {'neutral': 0.014916902408003807,\n",
       "  'happiness': 0.010984945110976696,\n",
       "  'sadness': 0.19780400395393372,\n",
       "  'enthusiasm': 0.23279261589050293,\n",
       "  'fear': 0.11281242221593857,\n",
       "  'anger': 0.4126344621181488,\n",
       "  'disgust': 0.01805463805794716},\n",
       " {'neutral': 0.005114088766276836,\n",
       "  'happiness': 0.9459463953971863,\n",
       "  'sadness': 0.001522970269434154,\n",
       "  'enthusiasm': 0.01080335583537817,\n",
       "  'fear': 0.00330667314119637,\n",
       "  'anger': 0.03122708387672901,\n",
       "  'disgust': 0.0020795343443751335},\n",
       " {'neutral': 0.06570515781641006,\n",
       "  'happiness': 0.009272860363125801,\n",
       "  'sadness': 0.006704246159642935,\n",
       "  'enthusiasm': 0.3392419219017029,\n",
       "  'fear': 0.020439298823475838,\n",
       "  'anger': 0.5469629168510437,\n",
       "  'disgust': 0.011673674918711185},\n",
       " {'neutral': 0.10427707433700562,\n",
       "  'happiness': 0.056879620999097824,\n",
       "  'sadness': 0.04019385576248169,\n",
       "  'enthusiasm': 0.013456849381327629,\n",
       "  'fear': 0.6682763695716858,\n",
       "  'anger': 0.10642366111278534,\n",
       "  'disgust': 0.010492533445358276},\n",
       " {'neutral': 0.04268714040517807,\n",
       "  'happiness': 0.005467751994729042,\n",
       "  'sadness': 0.022927425801753998,\n",
       "  'enthusiasm': 0.011620258912444115,\n",
       "  'fear': 0.67629474401474,\n",
       "  'anger': 0.2330850511789322,\n",
       "  'disgust': 0.007917706854641438},\n",
       " {'neutral': 0.99907386302948,\n",
       "  'happiness': 0.00013807651703245938,\n",
       "  'sadness': 0.00011117818212369457,\n",
       "  'enthusiasm': 0.00018135957361664623,\n",
       "  'fear': 0.00020570280321408063,\n",
       "  'anger': 0.00021399235993158072,\n",
       "  'disgust': 7.586336869280785e-05},\n",
       " {'neutral': 0.8266966938972473,\n",
       "  'happiness': 0.005738170817494392,\n",
       "  'sadness': 0.003475174540653825,\n",
       "  'enthusiasm': 0.0035852540750056505,\n",
       "  'fear': 0.010540462099015713,\n",
       "  'anger': 0.14625155925750732,\n",
       "  'disgust': 0.0037127186078578234},\n",
       " {'neutral': 0.008016402833163738,\n",
       "  'happiness': 0.012267493642866611,\n",
       "  'sadness': 0.013510417193174362,\n",
       "  'enthusiasm': 0.6340211629867554,\n",
       "  'fear': 0.033826347440481186,\n",
       "  'anger': 0.2893940508365631,\n",
       "  'disgust': 0.0089641148224473},\n",
       " {'neutral': 0.00355343334376812,\n",
       "  'happiness': 0.8815140128135681,\n",
       "  'sadness': 0.0016563994577154517,\n",
       "  'enthusiasm': 0.04187672212719917,\n",
       "  'fear': 0.03900308907032013,\n",
       "  'anger': 0.028720950707793236,\n",
       "  'disgust': 0.00367529783397913},\n",
       " {'neutral': 0.26288846135139465,\n",
       "  'happiness': 0.01640712469816208,\n",
       "  'sadness': 0.0028034544084221125,\n",
       "  'enthusiasm': 0.016631590202450752,\n",
       "  'fear': 0.05585607513785362,\n",
       "  'anger': 0.6363911628723145,\n",
       "  'disgust': 0.009022184647619724},\n",
       " {'neutral': 0.011385118588805199,\n",
       "  'happiness': 0.4067979156970978,\n",
       "  'sadness': 0.014885056763887405,\n",
       "  'enthusiasm': 0.0241968035697937,\n",
       "  'fear': 0.07231137156486511,\n",
       "  'anger': 0.4602225422859192,\n",
       "  'disgust': 0.010201146826148033},\n",
       " {'neutral': 0.00438279053196311,\n",
       "  'happiness': 0.8972432613372803,\n",
       "  'sadness': 0.0007017491734586656,\n",
       "  'enthusiasm': 0.059795498847961426,\n",
       "  'fear': 0.0076264142990112305,\n",
       "  'anger': 0.027027860283851624,\n",
       "  'disgust': 0.003222331404685974},\n",
       " {'neutral': 0.013088533654808998,\n",
       "  'happiness': 0.5325040221214294,\n",
       "  'sadness': 0.006395549979060888,\n",
       "  'enthusiasm': 0.007373029366135597,\n",
       "  'fear': 0.08467911183834076,\n",
       "  'anger': 0.3471828103065491,\n",
       "  'disgust': 0.008777040988206863},\n",
       " {'neutral': 0.0024968262296169996,\n",
       "  'happiness': 0.8930647373199463,\n",
       "  'sadness': 0.0042738113552331924,\n",
       "  'enthusiasm': 0.03409406170248985,\n",
       "  'fear': 0.011359729804098606,\n",
       "  'anger': 0.05135920271277428,\n",
       "  'disgust': 0.0033516574185341597},\n",
       " {'neutral': 0.0025307005271315575,\n",
       "  'happiness': 0.9647411108016968,\n",
       "  'sadness': 0.0032809795811772346,\n",
       "  'enthusiasm': 0.001765960711054504,\n",
       "  'fear': 0.0022123847156763077,\n",
       "  'anger': 0.023988300934433937,\n",
       "  'disgust': 0.0014805622631683946},\n",
       " {'neutral': 0.012580911628901958,\n",
       "  'happiness': 0.028486166149377823,\n",
       "  'sadness': 0.030274713411927223,\n",
       "  'enthusiasm': 0.03142483904957771,\n",
       "  'fear': 0.7215187549591064,\n",
       "  'anger': 0.1667739897966385,\n",
       "  'disgust': 0.00894059520214796},\n",
       " {'neutral': 0.8780217170715332,\n",
       "  'happiness': 0.02656860649585724,\n",
       "  'sadness': 0.0084691708907485,\n",
       "  'enthusiasm': 0.04810481518507004,\n",
       "  'fear': 0.0061562578193843365,\n",
       "  'anger': 0.028552284464240074,\n",
       "  'disgust': 0.004127192310988903},\n",
       " {'neutral': 0.06911631673574448,\n",
       "  'happiness': 0.10542160272598267,\n",
       "  'sadness': 0.00531261321157217,\n",
       "  'enthusiasm': 0.1549188643693924,\n",
       "  'fear': 0.3822818696498871,\n",
       "  'anger': 0.2666477859020233,\n",
       "  'disgust': 0.016300929710268974},\n",
       " {'neutral': 0.001013076165691018,\n",
       "  'happiness': 0.0034651020541787148,\n",
       "  'sadness': 0.9872254729270935,\n",
       "  'enthusiasm': 0.00040720251854509115,\n",
       "  'fear': 0.003611342515796423,\n",
       "  'anger': 0.00324981939047575,\n",
       "  'disgust': 0.0010279759299010038},\n",
       " {'neutral': 0.0366554856300354,\n",
       "  'happiness': 0.025535205379128456,\n",
       "  'sadness': 0.0028290869668126106,\n",
       "  'enthusiasm': 0.28034111857414246,\n",
       "  'fear': 0.027052411809563637,\n",
       "  'anger': 0.6162986755371094,\n",
       "  'disgust': 0.011288014240562916},\n",
       " {'neutral': 0.7139356136322021,\n",
       "  'happiness': 0.019545583054423332,\n",
       "  'sadness': 0.001544529222883284,\n",
       "  'enthusiasm': 0.01673850789666176,\n",
       "  'fear': 0.017406057566404343,\n",
       "  'anger': 0.2252083122730255,\n",
       "  'disgust': 0.005621365271508694},\n",
       " {'neutral': 0.010792301036417484,\n",
       "  'happiness': 0.08476775139570236,\n",
       "  'sadness': 0.005982471629977226,\n",
       "  'enthusiasm': 0.4110618531703949,\n",
       "  'fear': 0.0634286105632782,\n",
       "  'anger': 0.41069620847702026,\n",
       "  'disgust': 0.013270795345306396},\n",
       " {'neutral': 0.001037750975228846,\n",
       "  'happiness': 0.9629487991333008,\n",
       "  'sadness': 0.01632787473499775,\n",
       "  'enthusiasm': 0.008590365760028362,\n",
       "  'fear': 0.007283526007086039,\n",
       "  'anger': 0.0024875199887901545,\n",
       "  'disgust': 0.0013241202104836702},\n",
       " {'neutral': 0.02581658400595188,\n",
       "  'happiness': 0.07546573877334595,\n",
       "  'sadness': 0.0045742434449493885,\n",
       "  'enthusiasm': 0.0814959779381752,\n",
       "  'fear': 0.700641930103302,\n",
       "  'anger': 0.10145185887813568,\n",
       "  'disgust': 0.010553720407187939},\n",
       " {'neutral': 0.00482003390789032,\n",
       "  'happiness': 0.04378405585885048,\n",
       "  'sadness': 0.011774665676057339,\n",
       "  'enthusiasm': 0.004558391869068146,\n",
       "  'fear': 0.9199726581573486,\n",
       "  'anger': 0.011481302790343761,\n",
       "  'disgust': 0.003608881728723645},\n",
       " {'neutral': 0.007400847971439362,\n",
       "  'happiness': 0.0027652219869196415,\n",
       "  'sadness': 0.6166209578514099,\n",
       "  'enthusiasm': 0.0023914279881864786,\n",
       "  'fear': 0.3300867974758148,\n",
       "  'anger': 0.03456282988190651,\n",
       "  'disgust': 0.006172036752104759},\n",
       " {'neutral': 0.22716102004051208,\n",
       "  'happiness': 0.027109678834676743,\n",
       "  'sadness': 0.00627386849373579,\n",
       "  'enthusiasm': 0.06014406681060791,\n",
       "  'fear': 0.31733042001724243,\n",
       "  'anger': 0.3485610783100128,\n",
       "  'disgust': 0.013419900089502335},\n",
       " {'neutral': 0.015098508447408676,\n",
       "  'happiness': 0.18161208927631378,\n",
       "  'sadness': 0.00799765158444643,\n",
       "  'enthusiasm': 0.15174415707588196,\n",
       "  'fear': 0.0986427515745163,\n",
       "  'anger': 0.5332851409912109,\n",
       "  'disgust': 0.01161974761635065},\n",
       " {'neutral': 0.0024837192613631487,\n",
       "  'happiness': 0.86234050989151,\n",
       "  'sadness': 0.0038577376399189234,\n",
       "  'enthusiasm': 0.039049264043569565,\n",
       "  'fear': 0.034903544932603836,\n",
       "  'anger': 0.05332547426223755,\n",
       "  'disgust': 0.004039819817990065},\n",
       " {'neutral': 0.0005113664665259421,\n",
       "  'happiness': 0.9951333403587341,\n",
       "  'sadness': 0.0004258052504155785,\n",
       "  'enthusiasm': 0.0020538438111543655,\n",
       "  'fear': 0.0008792432490736246,\n",
       "  'anger': 0.0007057975162751973,\n",
       "  'disgust': 0.0002905151923187077},\n",
       " {'neutral': 0.009714251384139061,\n",
       "  'happiness': 0.3174566626548767,\n",
       "  'sadness': 0.007909328676760197,\n",
       "  'enthusiasm': 0.11679311096668243,\n",
       "  'fear': 0.39134344458580017,\n",
       "  'anger': 0.14640562236309052,\n",
       "  'disgust': 0.010377616621553898},\n",
       " {'neutral': 0.021798165515065193,\n",
       "  'happiness': 0.3044550120830536,\n",
       "  'sadness': 0.01914243772625923,\n",
       "  'enthusiasm': 0.08416050672531128,\n",
       "  'fear': 0.38112276792526245,\n",
       "  'anger': 0.1775902509689331,\n",
       "  'disgust': 0.011730928905308247},\n",
       " {'neutral': 0.00040197797352448106,\n",
       "  'happiness': 0.9964296221733093,\n",
       "  'sadness': 0.0010563564719632268,\n",
       "  'enthusiasm': 0.0003445912152528763,\n",
       "  'fear': 0.0010852711275219917,\n",
       "  'anger': 0.0004654921649489552,\n",
       "  'disgust': 0.0002166732883779332},\n",
       " {'neutral': 0.05228005349636078,\n",
       "  'happiness': 0.009801832027733326,\n",
       "  'sadness': 0.0062731243669986725,\n",
       "  'enthusiasm': 0.06744503974914551,\n",
       "  'fear': 0.40146806836128235,\n",
       "  'anger': 0.4507952928543091,\n",
       "  'disgust': 0.011936663649976254},\n",
       " {'neutral': 0.22545573115348816,\n",
       "  'happiness': 0.0026746471412479877,\n",
       "  'sadness': 0.10249514132738113,\n",
       "  'enthusiasm': 0.009087891317903996,\n",
       "  'fear': 0.6036983132362366,\n",
       "  'anger': 0.04950226470828056,\n",
       "  'disgust': 0.007086055353283882},\n",
       " {'neutral': 0.011483795940876007,\n",
       "  'happiness': 0.322203129529953,\n",
       "  'sadness': 0.181732639670372,\n",
       "  'enthusiasm': 0.019755655899643898,\n",
       "  'fear': 0.3932821452617645,\n",
       "  'anger': 0.06098543852567673,\n",
       "  'disgust': 0.010557159781455994},\n",
       " {'neutral': 0.013971701264381409,\n",
       "  'happiness': 0.6531074643135071,\n",
       "  'sadness': 0.0037542234640568495,\n",
       "  'enthusiasm': 0.03544611856341362,\n",
       "  'fear': 0.25965046882629395,\n",
       "  'anger': 0.028441589325666428,\n",
       "  'disgust': 0.005628371611237526},\n",
       " {'neutral': 0.00925313588231802,\n",
       "  'happiness': 0.006023255176842213,\n",
       "  'sadness': 0.013507944531738758,\n",
       "  'enthusiasm': 0.025173742324113846,\n",
       "  'fear': 0.7089661359786987,\n",
       "  'anger': 0.22881871461868286,\n",
       "  'disgust': 0.00825708732008934},\n",
       " {'neutral': 0.081807442009449,\n",
       "  'happiness': 0.16030791401863098,\n",
       "  'sadness': 0.0013311778893694282,\n",
       "  'enthusiasm': 0.6560747623443604,\n",
       "  'fear': 0.039047978818416595,\n",
       "  'anger': 0.053025126457214355,\n",
       "  'disgust': 0.008405543863773346},\n",
       " {'neutral': 0.0017867173301056027,\n",
       "  'happiness': 0.9850854277610779,\n",
       "  'sadness': 0.0029571098275482655,\n",
       "  'enthusiasm': 0.0005884836427867413,\n",
       "  'fear': 0.004811441991478205,\n",
       "  'anger': 0.003998726140707731,\n",
       "  'disgust': 0.0007720760186202824},\n",
       " {'neutral': 0.004636017140001059,\n",
       "  'happiness': 0.6083045601844788,\n",
       "  'sadness': 0.03296133503317833,\n",
       "  'enthusiasm': 0.005638019647449255,\n",
       "  'fear': 0.31830647587776184,\n",
       "  'anger': 0.024677379056811333,\n",
       "  'disgust': 0.005476194899529219},\n",
       " {'neutral': 0.01284758560359478,\n",
       "  'happiness': 0.2064245343208313,\n",
       "  'sadness': 0.02355629950761795,\n",
       "  'enthusiasm': 0.009895630180835724,\n",
       "  'fear': 0.4085623621940613,\n",
       "  'anger': 0.32689037919044495,\n",
       "  'disgust': 0.01182322297245264},\n",
       " {'neutral': 0.059986308217048645,\n",
       "  'happiness': 0.004311041906476021,\n",
       "  'sadness': 0.01489933393895626,\n",
       "  'enthusiasm': 0.06479424983263016,\n",
       "  'fear': 0.2833046317100525,\n",
       "  'anger': 0.5620434284210205,\n",
       "  'disgust': 0.01066103670746088},\n",
       " {'neutral': 0.005329601000994444,\n",
       "  'happiness': 0.9588668346405029,\n",
       "  'sadness': 0.0011347067775204778,\n",
       "  'enthusiasm': 0.012898189015686512,\n",
       "  'fear': 0.010623788461089134,\n",
       "  'anger': 0.009645692072808743,\n",
       "  'disgust': 0.001501134131103754},\n",
       " {'neutral': 0.05574873834848404,\n",
       "  'happiness': 0.008815949782729149,\n",
       "  'sadness': 0.055222101509571075,\n",
       "  'enthusiasm': 0.0739891305565834,\n",
       "  'fear': 0.4189966917037964,\n",
       "  'anger': 0.3756764233112335,\n",
       "  'disgust': 0.011550898663699627},\n",
       " {'neutral': 0.05574873834848404,\n",
       "  'happiness': 0.008815949782729149,\n",
       "  'sadness': 0.055222101509571075,\n",
       "  'enthusiasm': 0.0739891305565834,\n",
       "  'fear': 0.4189966917037964,\n",
       "  'anger': 0.3756764233112335,\n",
       "  'disgust': 0.011550898663699627},\n",
       " {'neutral': 0.05574873834848404,\n",
       "  'happiness': 0.008815949782729149,\n",
       "  'sadness': 0.055222101509571075,\n",
       "  'enthusiasm': 0.0739891305565834,\n",
       "  'fear': 0.4189966917037964,\n",
       "  'anger': 0.3756764233112335,\n",
       "  'disgust': 0.011550898663699627},\n",
       " {'neutral': 0.05574873834848404,\n",
       "  'happiness': 0.008815949782729149,\n",
       "  'sadness': 0.055222101509571075,\n",
       "  'enthusiasm': 0.0739891305565834,\n",
       "  'fear': 0.4189966917037964,\n",
       "  'anger': 0.3756764233112335,\n",
       "  'disgust': 0.011550898663699627},\n",
       " {'neutral': 0.05574873834848404,\n",
       "  'happiness': 0.008815949782729149,\n",
       "  'sadness': 0.055222101509571075,\n",
       "  'enthusiasm': 0.0739891305565834,\n",
       "  'fear': 0.4189966917037964,\n",
       "  'anger': 0.3756764233112335,\n",
       "  'disgust': 0.011550898663699627},\n",
       " {'neutral': 0.0005717346793971956,\n",
       "  'happiness': 0.9970797896385193,\n",
       "  'sadness': 0.0003491798706818372,\n",
       "  'enthusiasm': 0.0005371652077883482,\n",
       "  'fear': 0.0006938545266166329,\n",
       "  'anger': 0.0005797261255793273,\n",
       "  'disgust': 0.00018845629529096186},\n",
       " {'neutral': 0.005898027680814266,\n",
       "  'happiness': 0.1245698556303978,\n",
       "  'sadness': 0.0021516229026019573,\n",
       "  'enthusiasm': 0.8175562620162964,\n",
       "  'fear': 0.026514651253819466,\n",
       "  'anger': 0.018280602991580963,\n",
       "  'disgust': 0.005028989166021347},\n",
       " {'neutral': 0.0027997286524623632,\n",
       "  'happiness': 0.9564735889434814,\n",
       "  'sadness': 0.0022042677737772465,\n",
       "  'enthusiasm': 0.0027398683596402407,\n",
       "  'fear': 0.023736029863357544,\n",
       "  'anger': 0.010580161586403847,\n",
       "  'disgust': 0.0014663109323009849},\n",
       " {'neutral': 0.03140454366803169,\n",
       "  'happiness': 0.02027008682489395,\n",
       "  'sadness': 0.011714738793671131,\n",
       "  'enthusiasm': 0.031730569899082184,\n",
       "  'fear': 0.2819522023200989,\n",
       "  'anger': 0.6126235127449036,\n",
       "  'disgust': 0.010304393246769905},\n",
       " {'neutral': 0.014389250427484512,\n",
       "  'happiness': 0.017682159319519997,\n",
       "  'sadness': 0.1244027316570282,\n",
       "  'enthusiasm': 0.00908521469682455,\n",
       "  'fear': 0.18412835896015167,\n",
       "  'anger': 0.6383660435676575,\n",
       "  'disgust': 0.011946255341172218},\n",
       " {'neutral': 0.05010091885924339,\n",
       "  'happiness': 0.1689288467168808,\n",
       "  'sadness': 0.09126649796962738,\n",
       "  'enthusiasm': 0.016246289014816284,\n",
       "  'fear': 0.10995305329561234,\n",
       "  'anger': 0.5501053929328918,\n",
       "  'disgust': 0.013399009592831135},\n",
       " {'neutral': 0.5688719749450684,\n",
       "  'happiness': 0.015690334141254425,\n",
       "  'sadness': 0.014444202184677124,\n",
       "  'enthusiasm': 0.016817787662148476,\n",
       "  'fear': 0.10110554844141006,\n",
       "  'anger': 0.27494826912879944,\n",
       "  'disgust': 0.008121827617287636},\n",
       " {'neutral': 0.14226897060871124,\n",
       "  'happiness': 0.009528898634016514,\n",
       "  'sadness': 0.002651892602443695,\n",
       "  'enthusiasm': 0.031221158802509308,\n",
       "  'fear': 0.013665478676557541,\n",
       "  'anger': 0.7931753993034363,\n",
       "  'disgust': 0.007488207425922155},\n",
       " {'neutral': 0.0005747018731199205,\n",
       "  'happiness': 0.9958945512771606,\n",
       "  'sadness': 0.0002774338936433196,\n",
       "  'enthusiasm': 0.0013054226292297244,\n",
       "  'fear': 0.0009828975889831781,\n",
       "  'anger': 0.0007124667754396796,\n",
       "  'disgust': 0.0002525592572055757},\n",
       " {'neutral': 0.05574873834848404,\n",
       "  'happiness': 0.008815949782729149,\n",
       "  'sadness': 0.055222101509571075,\n",
       "  'enthusiasm': 0.0739891305565834,\n",
       "  'fear': 0.4189966917037964,\n",
       "  'anger': 0.3756764233112335,\n",
       "  'disgust': 0.011550898663699627},\n",
       " {'neutral': 0.002678563352674246,\n",
       "  'happiness': 0.9765441417694092,\n",
       "  'sadness': 0.0008722584461793303,\n",
       "  'enthusiasm': 0.008400551974773407,\n",
       "  'fear': 0.002875396516174078,\n",
       "  'anger': 0.007566108833998442,\n",
       "  'disgust': 0.001062907511368394},\n",
       " {'neutral': 0.005898027680814266,\n",
       "  'happiness': 0.1245698556303978,\n",
       "  'sadness': 0.0021516229026019573,\n",
       "  'enthusiasm': 0.8175562620162964,\n",
       "  'fear': 0.026514651253819466,\n",
       "  'anger': 0.018280602991580963,\n",
       "  'disgust': 0.005028989166021347},\n",
       " {'neutral': 0.0027997286524623632,\n",
       "  'happiness': 0.9564735889434814,\n",
       "  'sadness': 0.0022042677737772465,\n",
       "  'enthusiasm': 0.0027398683596402407,\n",
       "  'fear': 0.023736029863357544,\n",
       "  'anger': 0.010580161586403847,\n",
       "  'disgust': 0.0014663109323009849},\n",
       " {'neutral': 0.03140454366803169,\n",
       "  'happiness': 0.02027008682489395,\n",
       "  'sadness': 0.011714738793671131,\n",
       "  'enthusiasm': 0.031730569899082184,\n",
       "  'fear': 0.2819522023200989,\n",
       "  'anger': 0.6126235127449036,\n",
       "  'disgust': 0.010304393246769905},\n",
       " {'neutral': 0.014389250427484512,\n",
       "  'happiness': 0.017682159319519997,\n",
       "  'sadness': 0.1244027316570282,\n",
       "  'enthusiasm': 0.00908521469682455,\n",
       "  'fear': 0.18412835896015167,\n",
       "  'anger': 0.6383660435676575,\n",
       "  'disgust': 0.011946255341172218},\n",
       " {'neutral': 0.005931039806455374,\n",
       "  'happiness': 0.2911440134048462,\n",
       "  'sadness': 0.04737755283713341,\n",
       "  'enthusiasm': 0.028710559010505676,\n",
       "  'fear': 0.03887363150715828,\n",
       "  'anger': 0.5752438306808472,\n",
       "  'disgust': 0.012719376012682915},\n",
       " {'neutral': 0.5688719749450684,\n",
       "  'happiness': 0.015690334141254425,\n",
       "  'sadness': 0.014444202184677124,\n",
       "  'enthusiasm': 0.016817787662148476,\n",
       "  'fear': 0.10110554844141006,\n",
       "  'anger': 0.27494826912879944,\n",
       "  'disgust': 0.008121827617287636},\n",
       " {'neutral': 0.11176832020282745,\n",
       "  'happiness': 0.014997115358710289,\n",
       "  'sadness': 0.022426731884479523,\n",
       "  'enthusiasm': 0.0061431690119206905,\n",
       "  'fear': 0.12604118883609772,\n",
       "  'anger': 0.7081441283226013,\n",
       "  'disgust': 0.010479304008185863},\n",
       " {'neutral': 0.0005747018731199205,\n",
       "  'happiness': 0.9958945512771606,\n",
       "  'sadness': 0.0002774338936433196,\n",
       "  'enthusiasm': 0.0013054226292297244,\n",
       "  'fear': 0.0009828975889831781,\n",
       "  'anger': 0.0007124667754396796,\n",
       "  'disgust': 0.0002525592572055757},\n",
       " {'neutral': 0.05574873834848404,\n",
       "  'happiness': 0.008815949782729149,\n",
       "  'sadness': 0.055222101509571075,\n",
       "  'enthusiasm': 0.0739891305565834,\n",
       "  'fear': 0.4189966917037964,\n",
       "  'anger': 0.3756764233112335,\n",
       "  'disgust': 0.011550898663699627},\n",
       " {'neutral': 0.0005717346793971956,\n",
       "  'happiness': 0.9970797896385193,\n",
       "  'sadness': 0.0003491798706818372,\n",
       "  'enthusiasm': 0.0005371652077883482,\n",
       "  'fear': 0.0006938545266166329,\n",
       "  'anger': 0.0005797261255793273,\n",
       "  'disgust': 0.00018845629529096186},\n",
       " {'neutral': 0.0036128272768110037,\n",
       "  'happiness': 0.05403842777013779,\n",
       "  'sadness': 0.001436829217709601,\n",
       "  'enthusiasm': 0.9275743961334229,\n",
       "  'fear': 0.006480099633336067,\n",
       "  'anger': 0.004219349939376116,\n",
       "  'disgust': 0.0026380913332104683},\n",
       " {'neutral': 0.0027997286524623632,\n",
       "  'happiness': 0.9564735889434814,\n",
       "  'sadness': 0.0022042677737772465,\n",
       "  'enthusiasm': 0.0027398683596402407,\n",
       "  'fear': 0.023736029863357544,\n",
       "  'anger': 0.010580161586403847,\n",
       "  'disgust': 0.0014663109323009849},\n",
       " {'neutral': 0.0351204052567482,\n",
       "  'happiness': 0.007671184837818146,\n",
       "  'sadness': 0.20037873089313507,\n",
       "  'enthusiasm': 0.26209181547164917,\n",
       "  'fear': 0.010805373080074787,\n",
       "  'anger': 0.4697595536708832,\n",
       "  'disgust': 0.01417300384491682},\n",
       " {'neutral': 0.014389250427484512,\n",
       "  'happiness': 0.017682159319519997,\n",
       "  'sadness': 0.1244027316570282,\n",
       "  'enthusiasm': 0.00908521469682455,\n",
       "  'fear': 0.18412835896015167,\n",
       "  'anger': 0.6383660435676575,\n",
       "  'disgust': 0.011946255341172218},\n",
       " {'neutral': 0.05010091885924339,\n",
       "  'happiness': 0.1689288467168808,\n",
       "  'sadness': 0.09126649796962738,\n",
       "  'enthusiasm': 0.016246289014816284,\n",
       "  'fear': 0.10995305329561234,\n",
       "  'anger': 0.5501053929328918,\n",
       "  'disgust': 0.013399009592831135},\n",
       " {'neutral': 0.5688719749450684,\n",
       "  'happiness': 0.015690334141254425,\n",
       "  'sadness': 0.014444202184677124,\n",
       "  'enthusiasm': 0.016817787662148476,\n",
       "  'fear': 0.10110554844141006,\n",
       "  'anger': 0.27494826912879944,\n",
       "  'disgust': 0.008121827617287636},\n",
       " {'neutral': 0.11176832020282745,\n",
       "  'happiness': 0.014997115358710289,\n",
       "  'sadness': 0.022426731884479523,\n",
       "  'enthusiasm': 0.0061431690119206905,\n",
       "  'fear': 0.12604118883609772,\n",
       "  'anger': 0.7081441283226013,\n",
       "  'disgust': 0.010479304008185863},\n",
       " {'neutral': 0.0005747018731199205,\n",
       "  'happiness': 0.9958945512771606,\n",
       "  'sadness': 0.0002774338936433196,\n",
       "  'enthusiasm': 0.0013054226292297244,\n",
       "  'fear': 0.0009828975889831781,\n",
       "  'anger': 0.0007124667754396796,\n",
       "  'disgust': 0.0002525592572055757},\n",
       " {'neutral': 0.997623860836029,\n",
       "  'happiness': 0.0002980851859319955,\n",
       "  'sadness': 0.00013968041457701474,\n",
       "  'enthusiasm': 0.0008577247499488294,\n",
       "  'fear': 0.00031835728441365063,\n",
       "  'anger': 0.0006063987384550273,\n",
       "  'disgust': 0.00015597045421600342},\n",
       " {'neutral': 0.03198671340942383,\n",
       "  'happiness': 0.011182382702827454,\n",
       "  'sadness': 0.014441856183111668,\n",
       "  'enthusiasm': 0.0061028930358588696,\n",
       "  'fear': 0.26993006467819214,\n",
       "  'anger': 0.6564449071884155,\n",
       "  'disgust': 0.009911194443702698},\n",
       " {'neutral': 0.02969212457537651,\n",
       "  'happiness': 0.07334710657596588,\n",
       "  'sadness': 0.13899317383766174,\n",
       "  'enthusiasm': 0.008001948706805706,\n",
       "  'fear': 0.04407235234975815,\n",
       "  'anger': 0.6932225823402405,\n",
       "  'disgust': 0.012670686468482018},\n",
       " {'neutral': 0.013261749409139156,\n",
       "  'happiness': 0.057804569602012634,\n",
       "  'sadness': 0.010558628477156162,\n",
       "  'enthusiasm': 0.08367928862571716,\n",
       "  'fear': 0.0399574339389801,\n",
       "  'anger': 0.783515214920044,\n",
       "  'disgust': 0.011223106645047665},\n",
       " {'neutral': 0.0011897453805431724,\n",
       "  'happiness': 0.004061669111251831,\n",
       "  'sadness': 0.9847091436386108,\n",
       "  'enthusiasm': 0.0006131309201009572,\n",
       "  'fear': 0.004160876851528883,\n",
       "  'anger': 0.004106499254703522,\n",
       "  'disgust': 0.0011589431669563055},\n",
       " {'neutral': 0.0024799974635243416,\n",
       "  'happiness': 0.0019394049886614084,\n",
       "  'sadness': 0.0017862129025161266,\n",
       "  'enthusiasm': 0.985912024974823,\n",
       "  'fear': 0.0017053040210157633,\n",
       "  'anger': 0.004835907835513353,\n",
       "  'disgust': 0.0013411144027486444},\n",
       " {'neutral': 0.9864757657051086,\n",
       "  'happiness': 0.0008522052085027099,\n",
       "  'sadness': 0.0004322074237279594,\n",
       "  'enthusiasm': 0.004710448905825615,\n",
       "  'fear': 0.0006943016778677702,\n",
       "  'anger': 0.006236532237380743,\n",
       "  'disgust': 0.0005985232419334352},\n",
       " {'neutral': 0.018480004742741585,\n",
       "  'happiness': 0.18540140986442566,\n",
       "  'sadness': 0.536064624786377,\n",
       "  'enthusiasm': 0.0047510177828371525,\n",
       "  'fear': 0.02578827738761902,\n",
       "  'anger': 0.21884799003601074,\n",
       "  'disgust': 0.010666711255908012},\n",
       " {'neutral': 0.5063955187797546,\n",
       "  'happiness': 0.00716585386544466,\n",
       "  'sadness': 0.005226850043982267,\n",
       "  'enthusiasm': 0.026181424036622047,\n",
       "  'fear': 0.007617470342665911,\n",
       "  'anger': 0.4400017559528351,\n",
       "  'disgust': 0.0074111646972596645},\n",
       " {'neutral': 0.0038136248476803303,\n",
       "  'happiness': 0.016089990735054016,\n",
       "  'sadness': 0.0575333796441555,\n",
       "  'enthusiasm': 0.00309285637922585,\n",
       "  'fear': 0.8793801069259644,\n",
       "  'anger': 0.03465847298502922,\n",
       "  'disgust': 0.005431544501334429},\n",
       " {'neutral': 0.0019172134343534708,\n",
       "  'happiness': 0.955141007900238,\n",
       "  'sadness': 0.003960623871535063,\n",
       "  'enthusiasm': 0.004865292459726334,\n",
       "  'fear': 0.029621073976159096,\n",
       "  'anger': 0.0032226925250142813,\n",
       "  'disgust': 0.001271990593522787},\n",
       " {'neutral': 0.0004142174730077386,\n",
       "  'happiness': 0.9968562126159668,\n",
       "  'sadness': 0.0004553486069198698,\n",
       "  'enthusiasm': 0.00047239704872481525,\n",
       "  'fear': 0.001102725393138826,\n",
       "  'anger': 0.0005079708062112331,\n",
       "  'disgust': 0.00019097763288300484},\n",
       " {'neutral': 0.05574873834848404,\n",
       "  'happiness': 0.008815949782729149,\n",
       "  'sadness': 0.055222101509571075,\n",
       "  'enthusiasm': 0.0739891305565834,\n",
       "  'fear': 0.4189966917037964,\n",
       "  'anger': 0.3756764233112335,\n",
       "  'disgust': 0.011550898663699627},\n",
       " {'neutral': 0.0005717346793971956,\n",
       "  'happiness': 0.9970797896385193,\n",
       "  'sadness': 0.0003491798706818372,\n",
       "  'enthusiasm': 0.0005371652077883482,\n",
       "  'fear': 0.0006938545266166329,\n",
       "  'anger': 0.0005797261255793273,\n",
       "  'disgust': 0.00018845629529096186},\n",
       " {'neutral': 0.005898027680814266,\n",
       "  'happiness': 0.1245698556303978,\n",
       "  'sadness': 0.0021516229026019573,\n",
       "  'enthusiasm': 0.8175562620162964,\n",
       "  'fear': 0.026514651253819466,\n",
       "  'anger': 0.018280602991580963,\n",
       "  'disgust': 0.005028989166021347},\n",
       " {'neutral': 0.0027997286524623632,\n",
       "  'happiness': 0.9564735889434814,\n",
       "  'sadness': 0.0022042677737772465,\n",
       "  'enthusiasm': 0.0027398683596402407,\n",
       "  'fear': 0.023736029863357544,\n",
       "  'anger': 0.010580161586403847,\n",
       "  'disgust': 0.0014663109323009849},\n",
       " {'neutral': 0.020438358187675476,\n",
       "  'happiness': 0.015353824943304062,\n",
       "  'sadness': 0.0162395890802145,\n",
       "  'enthusiasm': 0.8342127203941345,\n",
       "  'fear': 0.012921956367790699,\n",
       "  'anger': 0.09392176568508148,\n",
       "  'disgust': 0.006911722011864185},\n",
       " {'neutral': 0.014389250427484512,\n",
       "  'happiness': 0.017682159319519997,\n",
       "  'sadness': 0.1244027316570282,\n",
       "  'enthusiasm': 0.00908521469682455,\n",
       "  'fear': 0.18412835896015167,\n",
       "  'anger': 0.6383660435676575,\n",
       "  'disgust': 0.011946255341172218},\n",
       " {'neutral': 0.05010091885924339,\n",
       "  'happiness': 0.1689288467168808,\n",
       "  'sadness': 0.09126649796962738,\n",
       "  'enthusiasm': 0.016246289014816284,\n",
       "  'fear': 0.10995305329561234,\n",
       "  'anger': 0.5501053929328918,\n",
       "  'disgust': 0.013399009592831135},\n",
       " {'neutral': 0.5688719749450684,\n",
       "  'happiness': 0.015690334141254425,\n",
       "  'sadness': 0.014444202184677124,\n",
       "  'enthusiasm': 0.016817787662148476,\n",
       "  'fear': 0.10110554844141006,\n",
       "  'anger': 0.27494826912879944,\n",
       "  'disgust': 0.008121827617287636},\n",
       " {'neutral': 0.11176832020282745,\n",
       "  'happiness': 0.014997115358710289,\n",
       "  'sadness': 0.022426731884479523,\n",
       "  'enthusiasm': 0.0061431690119206905,\n",
       "  'fear': 0.12604118883609772,\n",
       "  'anger': 0.7081441283226013,\n",
       "  'disgust': 0.010479304008185863},\n",
       " {'neutral': 0.0005747018731199205,\n",
       "  'happiness': 0.9958945512771606,\n",
       "  'sadness': 0.0002774338936433196,\n",
       "  'enthusiasm': 0.0013054226292297244,\n",
       "  'fear': 0.0009828975889831781,\n",
       "  'anger': 0.0007124667754396796,\n",
       "  'disgust': 0.0002525592572055757},\n",
       " {'neutral': 0.997623860836029,\n",
       "  'happiness': 0.0002980851859319955,\n",
       "  'sadness': 0.00013968041457701474,\n",
       "  'enthusiasm': 0.0008577247499488294,\n",
       "  'fear': 0.00031835728441365063,\n",
       "  'anger': 0.0006063987384550273,\n",
       "  'disgust': 0.00015597045421600342},\n",
       " {'neutral': 0.03198671340942383,\n",
       "  'happiness': 0.011182382702827454,\n",
       "  'sadness': 0.014441856183111668,\n",
       "  'enthusiasm': 0.0061028930358588696,\n",
       "  'fear': 0.26993006467819214,\n",
       "  'anger': 0.6564449071884155,\n",
       "  'disgust': 0.009911194443702698},\n",
       " {'neutral': 0.02969212457537651,\n",
       "  'happiness': 0.07334710657596588,\n",
       "  'sadness': 0.13899317383766174,\n",
       "  'enthusiasm': 0.008001948706805706,\n",
       "  'fear': 0.04407235234975815,\n",
       "  'anger': 0.6932225823402405,\n",
       "  'disgust': 0.012670686468482018},\n",
       " {'neutral': 0.013261749409139156,\n",
       "  'happiness': 0.057804569602012634,\n",
       "  'sadness': 0.010558628477156162,\n",
       "  'enthusiasm': 0.08367928862571716,\n",
       "  'fear': 0.0399574339389801,\n",
       "  'anger': 0.783515214920044,\n",
       "  'disgust': 0.011223106645047665},\n",
       " {'neutral': 0.0011897453805431724,\n",
       "  'happiness': 0.004061669111251831,\n",
       "  'sadness': 0.9847091436386108,\n",
       "  'enthusiasm': 0.0006131309201009572,\n",
       "  'fear': 0.004160876851528883,\n",
       "  'anger': 0.004106499254703522,\n",
       "  'disgust': 0.0011589431669563055},\n",
       " {'neutral': 0.0019348245114088058,\n",
       "  'happiness': 0.0023607690818607807,\n",
       "  'sadness': 0.0018462154548615217,\n",
       "  'enthusiasm': 0.9854326844215393,\n",
       "  'fear': 0.001928341225720942,\n",
       "  'anger': 0.005125288851559162,\n",
       "  'disgust': 0.0013718018308281898},\n",
       " {'neutral': 0.9864757657051086,\n",
       "  'happiness': 0.0008522052085027099,\n",
       "  'sadness': 0.0004322074237279594,\n",
       "  'enthusiasm': 0.004710448905825615,\n",
       "  'fear': 0.0006943016778677702,\n",
       "  'anger': 0.006236532237380743,\n",
       "  'disgust': 0.0005985232419334352},\n",
       " {'neutral': 0.00755757512524724,\n",
       "  'happiness': 0.8629224300384521,\n",
       "  'sadness': 0.04609343037009239,\n",
       "  'enthusiasm': 0.0022686037700623274,\n",
       "  'fear': 0.020967349410057068,\n",
       "  'anger': 0.055820055305957794,\n",
       "  'disgust': 0.004370519891381264},\n",
       " {'neutral': 0.5063955187797546,\n",
       "  'happiness': 0.00716585386544466,\n",
       "  'sadness': 0.005226850043982267,\n",
       "  'enthusiasm': 0.026181424036622047,\n",
       "  'fear': 0.007617470342665911,\n",
       "  'anger': 0.4400017559528351,\n",
       "  'disgust': 0.0074111646972596645},\n",
       " {'neutral': 0.003672241000458598,\n",
       "  'happiness': 0.022378863766789436,\n",
       "  'sadness': 0.0029412114527076483,\n",
       "  'enthusiasm': 0.028739212080836296,\n",
       "  'fear': 0.8969645500183105,\n",
       "  'anger': 0.03968990594148636,\n",
       "  'disgust': 0.005613937973976135},\n",
       " {'neutral': 0.0019172134343534708,\n",
       "  'happiness': 0.955141007900238,\n",
       "  'sadness': 0.003960623871535063,\n",
       "  'enthusiasm': 0.004865292459726334,\n",
       "  'fear': 0.029621073976159096,\n",
       "  'anger': 0.0032226925250142813,\n",
       "  'disgust': 0.001271990593522787},\n",
       " {'neutral': 0.0004142174730077386,\n",
       "  'happiness': 0.9968562126159668,\n",
       "  'sadness': 0.0004553486069198698,\n",
       "  'enthusiasm': 0.00047239704872481525,\n",
       "  'fear': 0.001102725393138826,\n",
       "  'anger': 0.0005079708062112331,\n",
       "  'disgust': 0.00019097763288300484},\n",
       " {'neutral': 0.0016782499151304364,\n",
       "  'happiness': 0.9647430777549744,\n",
       "  'sadness': 0.010869150049984455,\n",
       "  'enthusiasm': 0.0011756030144169927,\n",
       "  'fear': 0.01352674700319767,\n",
       "  'anger': 0.006660457234829664,\n",
       "  'disgust': 0.001346740173175931},\n",
       " {'neutral': 0.0006140792975202203,\n",
       "  'happiness': 0.9813816547393799,\n",
       "  'sadness': 0.007230838760733604,\n",
       "  'enthusiasm': 0.001125088194385171,\n",
       "  'fear': 0.007220199331641197,\n",
       "  'anger': 0.0016986565897241235,\n",
       "  'disgust': 0.0007296054973267019},\n",
       " {'neutral': 0.007299191318452358,\n",
       "  'happiness': 0.011251172050833702,\n",
       "  'sadness': 0.002434252994135022,\n",
       "  'enthusiasm': 0.8990857005119324,\n",
       "  'fear': 0.016381673514842987,\n",
       "  'anger': 0.05862665921449661,\n",
       "  'disgust': 0.004921252839267254},\n",
       " {'neutral': 0.0040007890202105045,\n",
       "  'happiness': 0.00847205426543951,\n",
       "  'sadness': 0.024176008999347687,\n",
       "  'enthusiasm': 0.014582439325749874,\n",
       "  'fear': 0.9030917286872864,\n",
       "  'anger': 0.04036850482225418,\n",
       "  'disgust': 0.005308371502906084},\n",
       " {'neutral': 0.008767727762460709,\n",
       "  'happiness': 0.09696005284786224,\n",
       "  'sadness': 0.04394616559147835,\n",
       "  'enthusiasm': 0.008496737107634544,\n",
       "  'fear': 0.7535935044288635,\n",
       "  'anger': 0.0798879861831665,\n",
       "  'disgust': 0.008347841911017895},\n",
       " {'neutral': 0.0014369967393577099,\n",
       "  'happiness': 0.9630125761032104,\n",
       "  'sadness': 0.012174274772405624,\n",
       "  'enthusiasm': 0.0015172283165156841,\n",
       "  'fear': 0.01660274900496006,\n",
       "  'anger': 0.004017942119389772,\n",
       "  'disgust': 0.0012382949935272336},\n",
       " {'neutral': 0.7508640289306641,\n",
       "  'happiness': 0.005779245402663946,\n",
       "  'sadness': 0.001971413381397724,\n",
       "  'enthusiasm': 0.007875962182879448,\n",
       "  'fear': 0.020983215421438217,\n",
       "  'anger': 0.20801326632499695,\n",
       "  'disgust': 0.00451281201094389},\n",
       " {'neutral': 0.012862623669207096,\n",
       "  'happiness': 0.16147585213184357,\n",
       "  'sadness': 0.005169609095901251,\n",
       "  'enthusiasm': 0.17463187873363495,\n",
       "  'fear': 0.5159187912940979,\n",
       "  'anger': 0.11740003526210785,\n",
       "  'disgust': 0.012541227042675018},\n",
       " {'neutral': 0.6796346306800842,\n",
       "  'happiness': 0.006515366956591606,\n",
       "  'sadness': 0.00456517469137907,\n",
       "  'enthusiasm': 0.0164017453789711,\n",
       "  'fear': 0.1096576452255249,\n",
       "  'anger': 0.1769777089357376,\n",
       "  'disgust': 0.00624771136790514},\n",
       " {'neutral': 0.029132550582289696,\n",
       "  'happiness': 0.06604643166065216,\n",
       "  'sadness': 0.03434409946203232,\n",
       "  'enthusiasm': 0.23384946584701538,\n",
       "  'fear': 0.03245512396097183,\n",
       "  'anger': 0.5905466079711914,\n",
       "  'disgust': 0.013625767081975937},\n",
       " {'neutral': 0.9959046244621277,\n",
       "  'happiness': 0.0003577576426323503,\n",
       "  'sadness': 0.0002290592237841338,\n",
       "  'enthusiasm': 0.0005231924587860703,\n",
       "  'fear': 0.0009525984642095864,\n",
       "  'anger': 0.0017912046751007438,\n",
       "  'disgust': 0.0002416080387774855},\n",
       " {'neutral': 0.0010456155287101865,\n",
       "  'happiness': 0.9891824126243591,\n",
       "  'sadness': 0.0003019784635398537,\n",
       "  'enthusiasm': 0.006375738885253668,\n",
       "  'fear': 0.000669164233841002,\n",
       "  'anger': 0.0019044926157221198,\n",
       "  'disgust': 0.0005206704954616725},\n",
       " {'neutral': 0.0016377167776226997,\n",
       "  'happiness': 0.9698188304901123,\n",
       "  'sadness': 0.000928947061765939,\n",
       "  'enthusiasm': 0.007069793529808521,\n",
       "  'fear': 0.015648476779460907,\n",
       "  'anger': 0.0038453657180070877,\n",
       "  'disgust': 0.001050941296853125},\n",
       " {'neutral': 0.00032902645762078464,\n",
       "  'happiness': 0.9982616305351257,\n",
       "  'sadness': 0.0002388025022810325,\n",
       "  'enthusiasm': 0.00039308282430283725,\n",
       "  'fear': 0.0003106197982560843,\n",
       "  'anger': 0.00034044578205794096,\n",
       "  'disgust': 0.0001263929734705016},\n",
       " {'neutral': 0.005725881550461054,\n",
       "  'happiness': 0.092379130423069,\n",
       "  'sadness': 0.05355699732899666,\n",
       "  'enthusiasm': 0.005777894053608179,\n",
       "  'fear': 0.7655280828475952,\n",
       "  'anger': 0.06917470693588257,\n",
       "  'disgust': 0.007857302203774452},\n",
       " {'neutral': 0.05574873834848404,\n",
       "  'happiness': 0.008815949782729149,\n",
       "  'sadness': 0.055222101509571075,\n",
       "  'enthusiasm': 0.0739891305565834,\n",
       "  'fear': 0.4189966917037964,\n",
       "  'anger': 0.3756764233112335,\n",
       "  'disgust': 0.011550898663699627},\n",
       " {'neutral': 0.0017273931298404932,\n",
       "  'happiness': 0.9844056963920593,\n",
       "  'sadness': 0.0005162832676433027,\n",
       "  'enthusiasm': 0.0076216235756874084,\n",
       "  'fear': 0.0017962398706004024,\n",
       "  'anger': 0.0032190189231187105,\n",
       "  'disgust': 0.0007136439089663327},\n",
       " {'neutral': 0.05574873834848404,\n",
       "  'happiness': 0.008815949782729149,\n",
       "  'sadness': 0.055222101509571075,\n",
       "  'enthusiasm': 0.0739891305565834,\n",
       "  'fear': 0.4189966917037964,\n",
       "  'anger': 0.3756764233112335,\n",
       "  'disgust': 0.011550898663699627},\n",
       " {'neutral': 0.0005717346793971956,\n",
       "  'happiness': 0.9970797896385193,\n",
       "  'sadness': 0.0003491798706818372,\n",
       "  'enthusiasm': 0.0005371652077883482,\n",
       "  'fear': 0.0006938545266166329,\n",
       "  'anger': 0.0005797261255793273,\n",
       "  'disgust': 0.00018845629529096186},\n",
       " {'neutral': 0.05574873834848404,\n",
       "  'happiness': 0.008815949782729149,\n",
       "  'sadness': 0.055222101509571075,\n",
       "  'enthusiasm': 0.0739891305565834,\n",
       "  'fear': 0.4189966917037964,\n",
       "  'anger': 0.3756764233112335,\n",
       "  'disgust': 0.011550898663699627},\n",
       " {'neutral': 0.05574873834848404,\n",
       "  'happiness': 0.008815949782729149,\n",
       "  'sadness': 0.055222101509571075,\n",
       "  'enthusiasm': 0.0739891305565834,\n",
       "  'fear': 0.4189966917037964,\n",
       "  'anger': 0.3756764233112335,\n",
       "  'disgust': 0.011550898663699627},\n",
       " {'neutral': 0.0005283595528453588,\n",
       "  'happiness': 0.9972019195556641,\n",
       "  'sadness': 0.0003638617636170238,\n",
       "  'enthusiasm': 0.0005053902859799564,\n",
       "  'fear': 0.0006585161318071187,\n",
       "  'anger': 0.0005590475630015135,\n",
       "  'disgust': 0.00018279915093444288},\n",
       " {'neutral': 0.005898027680814266,\n",
       "  'happiness': 0.1245698556303978,\n",
       "  'sadness': 0.0021516229026019573,\n",
       "  'enthusiasm': 0.8175562620162964,\n",
       "  'fear': 0.026514651253819466,\n",
       "  'anger': 0.018280602991580963,\n",
       "  'disgust': 0.005028989166021347},\n",
       " {'neutral': 0.0027997286524623632,\n",
       "  'happiness': 0.9564735889434814,\n",
       "  'sadness': 0.0022042677737772465,\n",
       "  'enthusiasm': 0.0027398683596402407,\n",
       "  'fear': 0.023736029863357544,\n",
       "  'anger': 0.010580161586403847,\n",
       "  'disgust': 0.0014663109323009849},\n",
       " {'neutral': 0.020207704976201057,\n",
       "  'happiness': 0.03121858648955822,\n",
       "  'sadness': 0.01142330002039671,\n",
       "  'enthusiasm': 0.02908199466764927,\n",
       "  'fear': 0.12906742095947266,\n",
       "  'anger': 0.7700657248497009,\n",
       "  'disgust': 0.008935235440731049},\n",
       " {'neutral': 0.014389250427484512,\n",
       "  'happiness': 0.017682159319519997,\n",
       "  'sadness': 0.1244027316570282,\n",
       "  'enthusiasm': 0.00908521469682455,\n",
       "  'fear': 0.18412835896015167,\n",
       "  'anger': 0.6383660435676575,\n",
       "  'disgust': 0.011946255341172218},\n",
       " {'neutral': 0.05010091885924339,\n",
       "  'happiness': 0.1689288467168808,\n",
       "  'sadness': 0.09126649796962738,\n",
       "  'enthusiasm': 0.016246289014816284,\n",
       "  'fear': 0.10995305329561234,\n",
       "  'anger': 0.5501053929328918,\n",
       "  'disgust': 0.013399009592831135},\n",
       " {'neutral': 0.5688719749450684,\n",
       "  'happiness': 0.015690334141254425,\n",
       "  'sadness': 0.014444202184677124,\n",
       "  'enthusiasm': 0.016817787662148476,\n",
       "  'fear': 0.10110554844141006,\n",
       "  'anger': 0.27494826912879944,\n",
       "  'disgust': 0.008121827617287636},\n",
       " {'neutral': 0.11176832020282745,\n",
       "  'happiness': 0.014997115358710289,\n",
       "  'sadness': 0.022426731884479523,\n",
       "  'enthusiasm': 0.0061431690119206905,\n",
       "  'fear': 0.12604118883609772,\n",
       "  'anger': 0.7081441283226013,\n",
       "  'disgust': 0.010479304008185863},\n",
       " {'neutral': 0.0005747018731199205,\n",
       "  'happiness': 0.9958945512771606,\n",
       "  'sadness': 0.0002774338936433196,\n",
       "  'enthusiasm': 0.0013054226292297244,\n",
       "  'fear': 0.0009828975889831781,\n",
       "  'anger': 0.0007124667754396796,\n",
       "  'disgust': 0.0002525592572055757},\n",
       " {'neutral': 0.997623860836029,\n",
       "  'happiness': 0.0002980851859319955,\n",
       "  'sadness': 0.00013968041457701474,\n",
       "  'enthusiasm': 0.0008577247499488294,\n",
       "  'fear': 0.00031835728441365063,\n",
       "  'anger': 0.0006063987384550273,\n",
       "  'disgust': 0.00015597045421600342},\n",
       " {'neutral': 0.03198671340942383,\n",
       "  'happiness': 0.011182382702827454,\n",
       "  'sadness': 0.014441856183111668,\n",
       "  'enthusiasm': 0.0061028930358588696,\n",
       "  'fear': 0.26993006467819214,\n",
       "  'anger': 0.6564449071884155,\n",
       "  'disgust': 0.009911194443702698},\n",
       " {'neutral': 0.02969212457537651,\n",
       "  'happiness': 0.07334710657596588,\n",
       "  'sadness': 0.13899317383766174,\n",
       "  'enthusiasm': 0.008001948706805706,\n",
       "  'fear': 0.04407235234975815,\n",
       "  'anger': 0.6932225823402405,\n",
       "  'disgust': 0.012670686468482018},\n",
       " {'neutral': 0.019181255251169205,\n",
       "  'happiness': 0.02431561052799225,\n",
       "  'sadness': 0.007359817624092102,\n",
       "  'enthusiasm': 0.1926211416721344,\n",
       "  'fear': 0.04174644127488136,\n",
       "  'anger': 0.7030567526817322,\n",
       "  'disgust': 0.011719053611159325},\n",
       " {'neutral': 0.0011897453805431724,\n",
       "  'happiness': 0.004061669111251831,\n",
       "  'sadness': 0.9847091436386108,\n",
       "  'enthusiasm': 0.0006131309201009572,\n",
       "  'fear': 0.004160876851528883,\n",
       "  'anger': 0.004106499254703522,\n",
       "  'disgust': 0.0011589431669563055},\n",
       " {'neutral': 0.0019348245114088058,\n",
       "  'happiness': 0.0023607690818607807,\n",
       "  'sadness': 0.0018462154548615217,\n",
       "  'enthusiasm': 0.9854326844215393,\n",
       "  'fear': 0.001928341225720942,\n",
       "  'anger': 0.005125288851559162,\n",
       "  'disgust': 0.0013718018308281898},\n",
       " {'neutral': 0.9864757657051086,\n",
       "  'happiness': 0.0008522052085027099,\n",
       "  'sadness': 0.0004322074237279594,\n",
       "  'enthusiasm': 0.004710448905825615,\n",
       "  'fear': 0.0006943016778677702,\n",
       "  'anger': 0.006236532237380743,\n",
       "  'disgust': 0.0005985232419334352},\n",
       " {'neutral': 0.00755757512524724,\n",
       "  'happiness': 0.8629224300384521,\n",
       "  'sadness': 0.04609343037009239,\n",
       "  'enthusiasm': 0.0022686037700623274,\n",
       "  'fear': 0.020967349410057068,\n",
       "  'anger': 0.055820055305957794,\n",
       "  'disgust': 0.004370519891381264},\n",
       " {'neutral': 0.5063955187797546,\n",
       "  'happiness': 0.00716585386544466,\n",
       "  'sadness': 0.005226850043982267,\n",
       "  'enthusiasm': 0.026181424036622047,\n",
       "  'fear': 0.007617470342665911,\n",
       "  'anger': 0.4400017559528351,\n",
       "  'disgust': 0.0074111646972596645},\n",
       " {'neutral': 0.0038136248476803303,\n",
       "  'happiness': 0.016089990735054016,\n",
       "  'sadness': 0.0575333796441555,\n",
       "  'enthusiasm': 0.00309285637922585,\n",
       "  'fear': 0.8793801069259644,\n",
       "  'anger': 0.03465847298502922,\n",
       "  'disgust': 0.005431544501334429},\n",
       " {'neutral': 0.0019172134343534708,\n",
       "  'happiness': 0.955141007900238,\n",
       "  'sadness': 0.003960623871535063,\n",
       "  'enthusiasm': 0.004865292459726334,\n",
       "  'fear': 0.029621073976159096,\n",
       "  'anger': 0.0032226925250142813,\n",
       "  'disgust': 0.001271990593522787},\n",
       " {'neutral': 0.0004142174730077386,\n",
       "  'happiness': 0.9968562126159668,\n",
       "  'sadness': 0.0004553486069198698,\n",
       "  'enthusiasm': 0.00047239704872481525,\n",
       "  'fear': 0.001102725393138826,\n",
       "  'anger': 0.0005079708062112331,\n",
       "  'disgust': 0.00019097763288300484},\n",
       " {'neutral': 0.0016782499151304364,\n",
       "  'happiness': 0.9647430777549744,\n",
       "  'sadness': 0.010869150049984455,\n",
       "  'enthusiasm': 0.0011756030144169927,\n",
       "  'fear': 0.01352674700319767,\n",
       "  'anger': 0.006660457234829664,\n",
       "  'disgust': 0.001346740173175931},\n",
       " {'neutral': 0.0006140792975202203,\n",
       "  'happiness': 0.9813816547393799,\n",
       "  'sadness': 0.007230838760733604,\n",
       "  'enthusiasm': 0.001125088194385171,\n",
       "  'fear': 0.007220199331641197,\n",
       "  'anger': 0.0016986565897241235,\n",
       "  'disgust': 0.0007296054973267019},\n",
       " {'neutral': 0.008978497236967087,\n",
       "  'happiness': 0.013399169780313969,\n",
       "  'sadness': 0.0024417610839009285,\n",
       "  'enthusiasm': 0.8812281489372253,\n",
       "  'fear': 0.0196921918541193,\n",
       "  'anger': 0.06880456209182739,\n",
       "  'disgust': 0.005455657374113798},\n",
       " {'neutral': 0.0040007890202105045,\n",
       "  'happiness': 0.00847205426543951,\n",
       "  'sadness': 0.024176008999347687,\n",
       "  'enthusiasm': 0.014582439325749874,\n",
       "  'fear': 0.9030917286872864,\n",
       "  'anger': 0.04036850482225418,\n",
       "  'disgust': 0.005308371502906084},\n",
       " {'neutral': 0.008767727762460709,\n",
       "  'happiness': 0.09696005284786224,\n",
       "  'sadness': 0.04394616559147835,\n",
       "  'enthusiasm': 0.008496737107634544,\n",
       "  'fear': 0.7535935044288635,\n",
       "  'anger': 0.0798879861831665,\n",
       "  'disgust': 0.008347841911017895},\n",
       " {'neutral': 0.0014369967393577099,\n",
       "  'happiness': 0.9630125761032104,\n",
       "  'sadness': 0.012174274772405624,\n",
       "  'enthusiasm': 0.0015172283165156841,\n",
       "  'fear': 0.01660274900496006,\n",
       "  'anger': 0.004017942119389772,\n",
       "  'disgust': 0.0012382949935272336},\n",
       " {'neutral': 0.7508640289306641,\n",
       "  'happiness': 0.005779245402663946,\n",
       "  'sadness': 0.001971413381397724,\n",
       "  'enthusiasm': 0.007875962182879448,\n",
       "  'fear': 0.020983215421438217,\n",
       "  'anger': 0.20801326632499695,\n",
       "  'disgust': 0.00451281201094389},\n",
       " {'neutral': 0.012862623669207096,\n",
       "  'happiness': 0.16147585213184357,\n",
       "  'sadness': 0.005169609095901251,\n",
       "  'enthusiasm': 0.17463187873363495,\n",
       "  'fear': 0.5159187912940979,\n",
       "  'anger': 0.11740003526210785,\n",
       "  'disgust': 0.012541227042675018},\n",
       " {'neutral': 0.6796346306800842,\n",
       "  'happiness': 0.006515366956591606,\n",
       "  'sadness': 0.00456517469137907,\n",
       "  'enthusiasm': 0.0164017453789711,\n",
       "  'fear': 0.1096576452255249,\n",
       "  'anger': 0.1769777089357376,\n",
       "  'disgust': 0.00624771136790514},\n",
       " {'neutral': 0.04688740149140358,\n",
       "  'happiness': 0.09117139875888824,\n",
       "  'sadness': 0.018282495439052582,\n",
       "  'enthusiasm': 0.2274070829153061,\n",
       "  'fear': 0.027247829362750053,\n",
       "  'anger': 0.575968861579895,\n",
       "  'disgust': 0.013034895062446594},\n",
       " {'neutral': 0.985039234161377,\n",
       "  'happiness': 0.0008459527743980289,\n",
       "  'sadness': 0.00046543910866603255,\n",
       "  'enthusiasm': 0.0018729534931480885,\n",
       "  'fear': 0.0034644075203686953,\n",
       "  'anger': 0.007678651250898838,\n",
       "  'disgust': 0.0006332401535473764},\n",
       " {'neutral': 0.0010456155287101865,\n",
       "  'happiness': 0.9891824126243591,\n",
       "  'sadness': 0.0003019784635398537,\n",
       "  'enthusiasm': 0.006375738885253668,\n",
       "  'fear': 0.000669164233841002,\n",
       "  'anger': 0.0019044926157221198,\n",
       "  'disgust': 0.0005206704954616725},\n",
       " {'neutral': 0.0016377167776226997,\n",
       "  'happiness': 0.9698188304901123,\n",
       "  'sadness': 0.000928947061765939,\n",
       "  'enthusiasm': 0.007069793529808521,\n",
       "  'fear': 0.015648476779460907,\n",
       "  'anger': 0.0038453657180070877,\n",
       "  'disgust': 0.001050941296853125},\n",
       " {'neutral': 0.0003289037849754095,\n",
       "  'happiness': 0.9981873631477356,\n",
       "  'sadness': 0.00023310229880735278,\n",
       "  'enthusiasm': 0.0004373457923065871,\n",
       "  'fear': 0.0003354816872160882,\n",
       "  'anger': 0.0003481936582829803,\n",
       "  'disgust': 0.00012974109267815948},\n",
       " {'neutral': 0.005725881550461054,\n",
       "  'happiness': 0.092379130423069,\n",
       "  'sadness': 0.05355699732899666,\n",
       "  'enthusiasm': 0.005777894053608179,\n",
       "  'fear': 0.7655280828475952,\n",
       "  'anger': 0.06917470693588257,\n",
       "  'disgust': 0.007857302203774452},\n",
       " {'neutral': 0.007958716712892056,\n",
       "  'happiness': 0.025837799534201622,\n",
       "  'sadness': 0.0017419918440282345,\n",
       "  'enthusiasm': 0.01720542460680008,\n",
       "  'fear': 0.017611633986234665,\n",
       "  'anger': 0.9232070446014404,\n",
       "  'disgust': 0.006437433883547783},\n",
       " {'neutral': 0.2538139224052429,\n",
       "  'happiness': 0.29609718918800354,\n",
       "  'sadness': 0.008904716931283474,\n",
       "  'enthusiasm': 0.016656750813126564,\n",
       "  'fear': 0.10931909084320068,\n",
       "  'anger': 0.30373576283454895,\n",
       "  'disgust': 0.011472647078335285},\n",
       " {'neutral': 0.017336390912532806,\n",
       "  'happiness': 0.019907496869564056,\n",
       "  'sadness': 0.009916864335536957,\n",
       "  'enthusiasm': 0.05129546672105789,\n",
       "  'fear': 0.04302113130688667,\n",
       "  'anger': 0.8494725823402405,\n",
       "  'disgust': 0.009050029329955578},\n",
       " {'neutral': 0.00872117467224598,\n",
       "  'happiness': 0.025564298033714294,\n",
       "  'sadness': 0.5407718420028687,\n",
       "  'enthusiasm': 0.0018181342165917158,\n",
       "  'fear': 0.33413898944854736,\n",
       "  'anger': 0.08004333823919296,\n",
       "  'disgust': 0.0089422557502985},\n",
       " {'neutral': 0.0005027307779528201,\n",
       "  'happiness': 0.9956315755844116,\n",
       "  'sadness': 0.0005260043544694781,\n",
       "  'enthusiasm': 0.0006998921744525433,\n",
       "  'fear': 0.0015384829603135586,\n",
       "  'anger': 0.0008415775955654681,\n",
       "  'disgust': 0.0002596671401988715},\n",
       " {'neutral': 0.011353029869496822,\n",
       "  'happiness': 0.008985294960439205,\n",
       "  'sadness': 0.2026294767856598,\n",
       "  'enthusiasm': 0.018065638840198517,\n",
       "  'fear': 0.08738572150468826,\n",
       "  'anger': 0.6594887375831604,\n",
       "  'disgust': 0.012092015706002712},\n",
       " {'neutral': 0.024036379531025887,\n",
       "  'happiness': 0.005475555546581745,\n",
       "  'sadness': 0.3098275363445282,\n",
       "  'enthusiasm': 0.0030122764874249697,\n",
       "  'fear': 0.5581536293029785,\n",
       "  'anger': 0.09116606414318085,\n",
       "  'disgust': 0.008328580297529697},\n",
       " {'neutral': 0.003907018341124058,\n",
       "  'happiness': 0.6456954479217529,\n",
       "  'sadness': 0.3223523199558258,\n",
       "  'enthusiasm': 0.0028939039912074804,\n",
       "  'fear': 0.007283586543053389,\n",
       "  'anger': 0.014272373169660568,\n",
       "  'disgust': 0.003595382208004594},\n",
       " {'neutral': 0.0076430016197264194,\n",
       "  'happiness': 0.6048275232315063,\n",
       "  'sadness': 0.005498397629708052,\n",
       "  'enthusiasm': 0.005341667681932449,\n",
       "  'fear': 0.29002776741981506,\n",
       "  'anger': 0.08000001311302185,\n",
       "  'disgust': 0.006661667488515377},\n",
       " {'neutral': 0.00827827025204897,\n",
       "  'happiness': 0.050627775490283966,\n",
       "  'sadness': 0.05069930851459503,\n",
       "  'enthusiasm': 0.03160877898335457,\n",
       "  'fear': 0.3431098759174347,\n",
       "  'anger': 0.5028864741325378,\n",
       "  'disgust': 0.01278949249535799},\n",
       " {'neutral': 0.014916902408003807,\n",
       "  'happiness': 0.010984945110976696,\n",
       "  'sadness': 0.19780400395393372,\n",
       "  'enthusiasm': 0.23279261589050293,\n",
       "  'fear': 0.11281242221593857,\n",
       "  'anger': 0.4126344621181488,\n",
       "  'disgust': 0.01805463805794716},\n",
       " {'neutral': 0.005114088766276836,\n",
       "  'happiness': 0.9459463953971863,\n",
       "  'sadness': 0.001522970269434154,\n",
       "  'enthusiasm': 0.01080335583537817,\n",
       "  'fear': 0.00330667314119637,\n",
       "  'anger': 0.03122708387672901,\n",
       "  'disgust': 0.0020795343443751335},\n",
       " {'neutral': 0.06570515781641006,\n",
       "  'happiness': 0.009272860363125801,\n",
       "  'sadness': 0.006704246159642935,\n",
       "  'enthusiasm': 0.3392419219017029,\n",
       "  'fear': 0.020439298823475838,\n",
       "  'anger': 0.5469629168510437,\n",
       "  'disgust': 0.011673674918711185},\n",
       " {'neutral': 0.10427707433700562,\n",
       "  'happiness': 0.056879620999097824,\n",
       "  'sadness': 0.04019385576248169,\n",
       "  'enthusiasm': 0.013456849381327629,\n",
       "  'fear': 0.6682763695716858,\n",
       "  'anger': 0.10642366111278534,\n",
       "  'disgust': 0.010492533445358276},\n",
       " {'neutral': 0.051575470715761185,\n",
       "  'happiness': 0.032389380037784576,\n",
       "  'sadness': 0.006906955037266016,\n",
       "  'enthusiasm': 0.01867789402604103,\n",
       "  'fear': 0.3802667558193207,\n",
       "  'anger': 0.4993521571159363,\n",
       "  'disgust': 0.010831366293132305},\n",
       " {'neutral': 0.9984751343727112,\n",
       "  'happiness': 0.00020545821462292224,\n",
       "  'sadness': 0.00013673915236722678,\n",
       "  'enthusiasm': 0.00030677596805617213,\n",
       "  'fear': 0.00039205298526212573,\n",
       "  'anger': 0.00037190868170000613,\n",
       "  'disgust': 0.00011185834591742605},\n",
       " {'neutral': 0.8266966938972473,\n",
       "  'happiness': 0.005738170817494392,\n",
       "  'sadness': 0.003475174540653825,\n",
       "  'enthusiasm': 0.0035852540750056505,\n",
       "  'fear': 0.010540462099015713,\n",
       "  'anger': 0.14625155925750732,\n",
       "  'disgust': 0.0037127186078578234},\n",
       " {'neutral': 0.09336990863084793,\n",
       "  'happiness': 0.011021438054740429,\n",
       "  'sadness': 0.06620714068412781,\n",
       "  'enthusiasm': 0.02921571396291256,\n",
       "  'fear': 0.3899577558040619,\n",
       "  'anger': 0.39879411458969116,\n",
       "  'disgust': 0.011433920823037624},\n",
       " {'neutral': 0.00355343334376812,\n",
       "  'happiness': 0.8815140128135681,\n",
       "  'sadness': 0.0016563994577154517,\n",
       "  'enthusiasm': 0.04187672212719917,\n",
       "  'fear': 0.03900308907032013,\n",
       "  'anger': 0.028720950707793236,\n",
       "  'disgust': 0.00367529783397913},\n",
       " {'neutral': 0.26288846135139465,\n",
       "  'happiness': 0.01640712469816208,\n",
       "  'sadness': 0.0028034544084221125,\n",
       "  'enthusiasm': 0.016631590202450752,\n",
       "  'fear': 0.05585607513785362,\n",
       "  'anger': 0.6363911628723145,\n",
       "  'disgust': 0.009022184647619724},\n",
       " {'neutral': 0.011385118588805199,\n",
       "  'happiness': 0.4067979156970978,\n",
       "  'sadness': 0.014885056763887405,\n",
       "  'enthusiasm': 0.0241968035697937,\n",
       "  'fear': 0.07231137156486511,\n",
       "  'anger': 0.4602225422859192,\n",
       "  'disgust': 0.010201146826148033},\n",
       " {'neutral': 0.00438279053196311,\n",
       "  'happiness': 0.8972432613372803,\n",
       "  'sadness': 0.0007017491734586656,\n",
       "  'enthusiasm': 0.059795498847961426,\n",
       "  'fear': 0.0076264142990112305,\n",
       "  'anger': 0.027027860283851624,\n",
       "  'disgust': 0.003222331404685974},\n",
       " {'neutral': 0.013088533654808998,\n",
       "  'happiness': 0.5325040221214294,\n",
       "  'sadness': 0.006395549979060888,\n",
       "  'enthusiasm': 0.007373029366135597,\n",
       "  'fear': 0.08467911183834076,\n",
       "  'anger': 0.3471828103065491,\n",
       "  'disgust': 0.008777040988206863},\n",
       " {'neutral': 0.0024968262296169996,\n",
       "  'happiness': 0.8930647373199463,\n",
       "  'sadness': 0.0042738113552331924,\n",
       "  'enthusiasm': 0.03409406170248985,\n",
       "  'fear': 0.011359729804098606,\n",
       "  'anger': 0.05135920271277428,\n",
       "  'disgust': 0.0033516574185341597},\n",
       " {'neutral': 0.0025307005271315575,\n",
       "  'happiness': 0.9647411108016968,\n",
       "  'sadness': 0.0032809795811772346,\n",
       "  'enthusiasm': 0.001765960711054504,\n",
       "  'fear': 0.0022123847156763077,\n",
       "  'anger': 0.023988300934433937,\n",
       "  'disgust': 0.0014805622631683946},\n",
       " {'neutral': 0.012580911628901958,\n",
       "  'happiness': 0.028486166149377823,\n",
       "  'sadness': 0.030274713411927223,\n",
       "  'enthusiasm': 0.03142483904957771,\n",
       "  'fear': 0.7215187549591064,\n",
       "  'anger': 0.1667739897966385,\n",
       "  'disgust': 0.00894059520214796},\n",
       " {'neutral': 0.39344099164009094,\n",
       "  'happiness': 0.034111473709344864,\n",
       "  'sadness': 0.06080688163638115,\n",
       "  'enthusiasm': 0.12264803797006607,\n",
       "  'fear': 0.01573626510798931,\n",
       "  'anger': 0.3579537272453308,\n",
       "  'disgust': 0.015302639454603195},\n",
       " {'neutral': 0.05735804885625839,\n",
       "  'happiness': 0.11004903167486191,\n",
       "  'sadness': 0.0052745831198990345,\n",
       "  'enthusiasm': 0.14198477566242218,\n",
       "  'fear': 0.43191975355148315,\n",
       "  'anger': 0.23746804893016815,\n",
       "  'disgust': 0.015945836901664734},\n",
       " {'neutral': 0.001013076165691018,\n",
       "  'happiness': 0.0034651020541787148,\n",
       "  'sadness': 0.9872254729270935,\n",
       "  'enthusiasm': 0.00040720251854509115,\n",
       "  'fear': 0.003611342515796423,\n",
       "  'anger': 0.00324981939047575,\n",
       "  'disgust': 0.0010279759299010038},\n",
       " {'neutral': 0.0366554856300354,\n",
       "  'happiness': 0.025535205379128456,\n",
       "  'sadness': 0.0028290869668126106,\n",
       "  'enthusiasm': 0.28034111857414246,\n",
       "  'fear': 0.027052411809563637,\n",
       "  'anger': 0.6162986755371094,\n",
       "  'disgust': 0.011288014240562916},\n",
       " {'neutral': 0.7139356136322021,\n",
       "  'happiness': 0.019545583054423332,\n",
       "  'sadness': 0.001544529222883284,\n",
       "  'enthusiasm': 0.01673850789666176,\n",
       "  'fear': 0.017406057566404343,\n",
       "  'anger': 0.2252083122730255,\n",
       "  'disgust': 0.005621365271508694},\n",
       " {'neutral': 0.010792301036417484,\n",
       "  'happiness': 0.08476775139570236,\n",
       "  'sadness': 0.005982471629977226,\n",
       "  'enthusiasm': 0.4110618531703949,\n",
       "  'fear': 0.0634286105632782,\n",
       "  'anger': 0.41069620847702026,\n",
       "  'disgust': 0.013270795345306396},\n",
       " {'neutral': 0.001037750975228846,\n",
       "  'happiness': 0.9629487991333008,\n",
       "  'sadness': 0.01632787473499775,\n",
       "  'enthusiasm': 0.008590365760028362,\n",
       "  'fear': 0.007283526007086039,\n",
       "  'anger': 0.0024875199887901545,\n",
       "  'disgust': 0.0013241202104836702},\n",
       " {'neutral': 0.02581658400595188,\n",
       "  'happiness': 0.07546573877334595,\n",
       "  'sadness': 0.0045742434449493885,\n",
       "  'enthusiasm': 0.0814959779381752,\n",
       "  'fear': 0.700641930103302,\n",
       "  'anger': 0.10145185887813568,\n",
       "  'disgust': 0.010553720407187939},\n",
       " {'neutral': 0.00482003390789032,\n",
       "  'happiness': 0.04378405585885048,\n",
       "  'sadness': 0.011774665676057339,\n",
       "  'enthusiasm': 0.004558391869068146,\n",
       "  'fear': 0.9199726581573486,\n",
       "  'anger': 0.011481302790343761,\n",
       "  'disgust': 0.003608881728723645},\n",
       " {'neutral': 0.005979347508400679,\n",
       "  'happiness': 0.004288701806217432,\n",
       "  'sadness': 0.7181005477905273,\n",
       "  'enthusiasm': 0.0015218325424939394,\n",
       "  'fear': 0.2499532401561737,\n",
       "  'anger': 0.01510204840451479,\n",
       "  'disgust': 0.005054248962551355},\n",
       " {'neutral': 0.22716102004051208,\n",
       "  'happiness': 0.027109678834676743,\n",
       "  'sadness': 0.00627386849373579,\n",
       "  'enthusiasm': 0.06014406681060791,\n",
       "  'fear': 0.31733042001724243,\n",
       "  'anger': 0.3485610783100128,\n",
       "  'disgust': 0.013419900089502335},\n",
       " {'neutral': 0.015098508447408676,\n",
       "  'happiness': 0.18161208927631378,\n",
       "  'sadness': 0.00799765158444643,\n",
       "  'enthusiasm': 0.15174415707588196,\n",
       "  'fear': 0.0986427515745163,\n",
       "  'anger': 0.5332851409912109,\n",
       "  'disgust': 0.01161974761635065},\n",
       " {'neutral': 0.0024837192613631487,\n",
       "  'happiness': 0.86234050989151,\n",
       "  'sadness': 0.0038577376399189234,\n",
       "  'enthusiasm': 0.039049264043569565,\n",
       "  'fear': 0.034903544932603836,\n",
       "  'anger': 0.05332547426223755,\n",
       "  'disgust': 0.004039819817990065},\n",
       " {'neutral': 0.0150037482380867,\n",
       "  'happiness': 0.717670738697052,\n",
       "  'sadness': 0.03188600763678551,\n",
       "  'enthusiasm': 0.011494963429868221,\n",
       "  'fear': 0.15755589306354523,\n",
       "  'anger': 0.06007229909300804,\n",
       "  'disgust': 0.006316194776445627},\n",
       " {'neutral': 0.009714251384139061,\n",
       "  'happiness': 0.3174566626548767,\n",
       "  'sadness': 0.007909328676760197,\n",
       "  'enthusiasm': 0.11679311096668243,\n",
       "  'fear': 0.39134344458580017,\n",
       "  'anger': 0.14640562236309052,\n",
       "  'disgust': 0.010377616621553898},\n",
       " {'neutral': 0.020891517400741577,\n",
       "  'happiness': 0.23627687990665436,\n",
       "  'sadness': 0.022147228941321373,\n",
       "  'enthusiasm': 0.09680849313735962,\n",
       "  'fear': 0.42394018173217773,\n",
       "  'anger': 0.18772298097610474,\n",
       "  'disgust': 0.012212714180350304},\n",
       " {'neutral': 0.00040197797352448106,\n",
       "  'happiness': 0.9964296221733093,\n",
       "  'sadness': 0.0010563564719632268,\n",
       "  'enthusiasm': 0.0003445912152528763,\n",
       "  'fear': 0.0010852711275219917,\n",
       "  'anger': 0.0004654921649489552,\n",
       "  'disgust': 0.0002166732883779332},\n",
       " {'neutral': 0.05228005349636078,\n",
       "  'happiness': 0.009801832027733326,\n",
       "  'sadness': 0.0062731243669986725,\n",
       "  'enthusiasm': 0.06744503974914551,\n",
       "  'fear': 0.40146806836128235,\n",
       "  'anger': 0.4507952928543091,\n",
       "  'disgust': 0.011936663649976254},\n",
       " {'neutral': 0.22545573115348816,\n",
       "  'happiness': 0.0026746471412479877,\n",
       "  'sadness': 0.10249514132738113,\n",
       "  'enthusiasm': 0.009087891317903996,\n",
       "  'fear': 0.6036983132362366,\n",
       "  'anger': 0.04950226470828056,\n",
       "  'disgust': 0.007086055353283882},\n",
       " {'neutral': 0.011483795940876007,\n",
       "  'happiness': 0.322203129529953,\n",
       "  'sadness': 0.181732639670372,\n",
       "  'enthusiasm': 0.019755655899643898,\n",
       "  'fear': 0.3932821452617645,\n",
       "  'anger': 0.06098543852567673,\n",
       "  'disgust': 0.010557159781455994},\n",
       " {'neutral': 0.013971701264381409,\n",
       "  'happiness': 0.6531074643135071,\n",
       "  'sadness': 0.0037542234640568495,\n",
       "  'enthusiasm': 0.03544611856341362,\n",
       "  'fear': 0.25965046882629395,\n",
       "  'anger': 0.028441589325666428,\n",
       "  'disgust': 0.005628371611237526},\n",
       " {'neutral': 0.00925313588231802,\n",
       "  'happiness': 0.006023255176842213,\n",
       "  'sadness': 0.013507944531738758,\n",
       "  'enthusiasm': 0.025173742324113846,\n",
       "  'fear': 0.7089661359786987,\n",
       "  'anger': 0.22881871461868286,\n",
       "  'disgust': 0.00825708732008934},\n",
       " {'neutral': 0.081807442009449,\n",
       "  'happiness': 0.16030791401863098,\n",
       "  'sadness': 0.0013311778893694282,\n",
       "  'enthusiasm': 0.6560747623443604,\n",
       "  'fear': 0.039047978818416595,\n",
       "  'anger': 0.053025126457214355,\n",
       "  'disgust': 0.008405543863773346},\n",
       " {'neutral': 0.0005854176706634462,\n",
       "  'happiness': 0.9960508942604065,\n",
       "  'sadness': 0.0010586350690573454,\n",
       "  'enthusiasm': 0.00027159671299159527,\n",
       "  'fear': 0.001197443576529622,\n",
       "  'anger': 0.000598337035626173,\n",
       "  'disgust': 0.00023776678426656872},\n",
       " {'neutral': 0.0015377617673948407,\n",
       "  'happiness': 0.945302426815033,\n",
       "  'sadness': 0.007793707307428122,\n",
       "  'enthusiasm': 0.002186776138842106,\n",
       "  'fear': 0.037739213556051254,\n",
       "  'anger': 0.00399054167792201,\n",
       "  'disgust': 0.0014496390940621495},\n",
       " {'neutral': 0.01284758560359478,\n",
       "  'happiness': 0.2064245343208313,\n",
       "  'sadness': 0.02355629950761795,\n",
       "  'enthusiasm': 0.009895630180835724,\n",
       "  'fear': 0.4085623621940613,\n",
       "  'anger': 0.32689037919044495,\n",
       "  'disgust': 0.01182322297245264},\n",
       " {'neutral': 0.059986308217048645,\n",
       "  'happiness': 0.004311041906476021,\n",
       "  'sadness': 0.01489933393895626,\n",
       "  'enthusiasm': 0.06479424983263016,\n",
       "  'fear': 0.2833046317100525,\n",
       "  'anger': 0.5620434284210205,\n",
       "  'disgust': 0.01066103670746088},\n",
       " {'neutral': 0.005329601000994444,\n",
       "  'happiness': 0.9588668346405029,\n",
       "  'sadness': 0.0011347067775204778,\n",
       "  'enthusiasm': 0.012898189015686512,\n",
       "  'fear': 0.010623788461089134,\n",
       "  'anger': 0.009645692072808743,\n",
       "  'disgust': 0.001501134131103754},\n",
       " {'neutral': 0.9220386147499084,\n",
       "  'happiness': 0.0030585655476897955,\n",
       "  'sadness': 0.0010634969221428037,\n",
       "  'enthusiasm': 0.01811208203434944,\n",
       "  'fear': 0.0032795534934848547,\n",
       "  'anger': 0.0503862164914608,\n",
       "  'disgust': 0.0020614597015082836},\n",
       " {'neutral': 0.0013110458385199308,\n",
       "  'happiness': 0.9915106892585754,\n",
       "  'sadness': 0.00025170613662339747,\n",
       "  'enthusiasm': 0.003808648092672229,\n",
       "  'fear': 0.0014734285650774837,\n",
       "  'anger': 0.001191255752928555,\n",
       "  'disgust': 0.0004530003934632987},\n",
       " {'neutral': 0.011438763700425625,\n",
       "  'happiness': 0.006265304517000914,\n",
       "  'sadness': 0.011970693245530128,\n",
       "  'enthusiasm': 0.00808076560497284,\n",
       "  'fear': 0.06483897566795349,\n",
       "  'anger': 0.891237199306488,\n",
       "  'disgust': 0.006168305408209562},\n",
       " {'neutral': 0.00824635848402977,\n",
       "  'happiness': 0.734364926815033,\n",
       "  'sadness': 0.016763249412178993,\n",
       "  'enthusiasm': 0.11135812103748322,\n",
       "  'fear': 0.022639896720647812,\n",
       "  'anger': 0.0989672914147377,\n",
       "  'disgust': 0.007660076953470707},\n",
       " {'neutral': 0.016852695494890213,\n",
       "  'happiness': 0.1902417093515396,\n",
       "  'sadness': 0.0014608007622882724,\n",
       "  'enthusiasm': 0.09100783616304398,\n",
       "  'fear': 0.15967518091201782,\n",
       "  'anger': 0.5266848206520081,\n",
       "  'disgust': 0.014076855033636093},\n",
       " {'neutral': 0.0005754322628490627,\n",
       "  'happiness': 0.9945949912071228,\n",
       "  'sadness': 0.00028411377570591867,\n",
       "  'enthusiasm': 0.0027694390155375004,\n",
       "  'fear': 0.0005763114895671606,\n",
       "  'anger': 0.0008885777788236737,\n",
       "  'disgust': 0.0003112224512733519},\n",
       " {'neutral': 0.0239864569157362,\n",
       "  'happiness': 0.43931904435157776,\n",
       "  'sadness': 0.12118958681821823,\n",
       "  'enthusiasm': 0.1165275052189827,\n",
       "  'fear': 0.012749319896101952,\n",
       "  'anger': 0.2732105255126953,\n",
       "  'disgust': 0.013017657212913036},\n",
       " {'neutral': 0.05574873834848404,\n",
       "  'happiness': 0.008815949782729149,\n",
       "  'sadness': 0.055222101509571075,\n",
       "  'enthusiasm': 0.0739891305565834,\n",
       "  'fear': 0.4189966917037964,\n",
       "  'anger': 0.3756764233112335,\n",
       "  'disgust': 0.011550898663699627},\n",
       " {'neutral': 0.0005717346793971956,\n",
       "  'happiness': 0.9970797896385193,\n",
       "  'sadness': 0.0003491798706818372,\n",
       "  'enthusiasm': 0.0005371652077883482,\n",
       "  'fear': 0.0006938545266166329,\n",
       "  'anger': 0.0005797261255793273,\n",
       "  'disgust': 0.00018845629529096186},\n",
       " {'neutral': 0.005898027680814266,\n",
       "  'happiness': 0.1245698556303978,\n",
       "  'sadness': 0.0021516229026019573,\n",
       "  'enthusiasm': 0.8175562620162964,\n",
       "  'fear': 0.026514651253819466,\n",
       "  'anger': 0.018280602991580963,\n",
       "  'disgust': 0.005028989166021347},\n",
       " {'neutral': 0.0011558400001376867,\n",
       "  'happiness': 0.9921905398368835,\n",
       "  'sadness': 0.00032510029268451035,\n",
       "  'enthusiasm': 0.003931015729904175,\n",
       "  'fear': 0.0008788899285718799,\n",
       "  'anger': 0.0011168861528858542,\n",
       "  'disgust': 0.0004017271858174354},\n",
       " {'neutral': 0.05574873834848404,\n",
       "  'happiness': 0.008815949782729149,\n",
       "  'sadness': 0.055222101509571075,\n",
       "  'enthusiasm': 0.0739891305565834,\n",
       "  'fear': 0.4189966917037964,\n",
       "  'anger': 0.3756764233112335,\n",
       "  'disgust': 0.011550898663699627},\n",
       " {'neutral': 0.0005717346793971956,\n",
       "  'happiness': 0.9970797896385193,\n",
       "  'sadness': 0.0003491798706818372,\n",
       "  'enthusiasm': 0.0005371652077883482,\n",
       "  'fear': 0.0006938545266166329,\n",
       "  'anger': 0.0005797261255793273,\n",
       "  'disgust': 0.00018845629529096186},\n",
       " {'neutral': 0.005898027680814266,\n",
       "  'happiness': 0.1245698556303978,\n",
       "  'sadness': 0.0021516229026019573,\n",
       "  'enthusiasm': 0.8175562620162964,\n",
       "  'fear': 0.026514651253819466,\n",
       "  'anger': 0.018280602991580963,\n",
       "  'disgust': 0.005028989166021347},\n",
       " {'neutral': 0.0027997286524623632,\n",
       "  'happiness': 0.9564735889434814,\n",
       "  'sadness': 0.0022042677737772465,\n",
       "  'enthusiasm': 0.0027398683596402407,\n",
       "  'fear': 0.023736029863357544,\n",
       "  'anger': 0.010580161586403847,\n",
       "  'disgust': 0.0014663109323009849},\n",
       " {'neutral': 0.014137555845081806,\n",
       "  'happiness': 0.01469380408525467,\n",
       "  'sadness': 0.04321997985243797,\n",
       "  'enthusiasm': 0.7832790017127991,\n",
       "  'fear': 0.023692643269896507,\n",
       "  'anger': 0.11207064241170883,\n",
       "  'disgust': 0.00890636071562767},\n",
       " {'neutral': 0.014389250427484512,\n",
       "  'happiness': 0.017682159319519997,\n",
       "  'sadness': 0.1244027316570282,\n",
       "  'enthusiasm': 0.00908521469682455,\n",
       "  'fear': 0.18412835896015167,\n",
       "  'anger': 0.6383660435676575,\n",
       "  'disgust': 0.011946255341172218},\n",
       " {'neutral': 0.05010091885924339,\n",
       "  'happiness': 0.1689288467168808,\n",
       "  'sadness': 0.09126649796962738,\n",
       "  'enthusiasm': 0.016246289014816284,\n",
       "  'fear': 0.10995305329561234,\n",
       "  'anger': 0.5501053929328918,\n",
       "  'disgust': 0.013399009592831135},\n",
       " {'neutral': 0.5688719749450684,\n",
       "  'happiness': 0.015690334141254425,\n",
       "  'sadness': 0.014444202184677124,\n",
       "  'enthusiasm': 0.016817787662148476,\n",
       "  'fear': 0.10110554844141006,\n",
       "  'anger': 0.27494826912879944,\n",
       "  'disgust': 0.008121827617287636},\n",
       " {'neutral': 0.05574873834848404,\n",
       "  'happiness': 0.008815949782729149,\n",
       "  'sadness': 0.055222101509571075,\n",
       "  'enthusiasm': 0.0739891305565834,\n",
       "  'fear': 0.4189966917037964,\n",
       "  'anger': 0.3756764233112335,\n",
       "  'disgust': 0.011550898663699627},\n",
       " {'neutral': 0.910973072052002,\n",
       "  'happiness': 0.002300337888300419,\n",
       "  'sadness': 0.0012791038025170565,\n",
       "  'enthusiasm': 0.06461568176746368,\n",
       "  'fear': 0.0038003951776772738,\n",
       "  'anger': 0.015181566588580608,\n",
       "  'disgust': 0.0018498548306524754},\n",
       " {'neutral': 0.05574873834848404,\n",
       "  'happiness': 0.008815949782729149,\n",
       "  'sadness': 0.055222101509571075,\n",
       "  'enthusiasm': 0.0739891305565834,\n",
       "  'fear': 0.4189966917037964,\n",
       "  'anger': 0.3756764233112335,\n",
       "  'disgust': 0.011550898663699627},\n",
       " {'neutral': 0.0005717346793971956,\n",
       "  'happiness': 0.9970797896385193,\n",
       "  'sadness': 0.0003491798706818372,\n",
       "  'enthusiasm': 0.0005371652077883482,\n",
       "  'fear': 0.0006938545266166329,\n",
       "  'anger': 0.0005797261255793273,\n",
       "  'disgust': 0.00018845629529096186},\n",
       " {'neutral': 0.005898027680814266,\n",
       "  'happiness': 0.1245698556303978,\n",
       "  'sadness': 0.0021516229026019573,\n",
       "  'enthusiasm': 0.8175562620162964,\n",
       "  'fear': 0.026514651253819466,\n",
       "  'anger': 0.018280602991580963,\n",
       "  'disgust': 0.005028989166021347},\n",
       " {'neutral': 0.0027997286524623632,\n",
       "  'happiness': 0.9564735889434814,\n",
       "  'sadness': 0.0022042677737772465,\n",
       "  'enthusiasm': 0.0027398683596402407,\n",
       "  'fear': 0.023736029863357544,\n",
       "  'anger': 0.010580161586403847,\n",
       "  'disgust': 0.0014663109323009849},\n",
       " {'neutral': 0.011270738206803799,\n",
       "  'happiness': 0.015922199934720993,\n",
       "  'sadness': 0.06827559322118759,\n",
       "  'enthusiasm': 0.7591673731803894,\n",
       "  'fear': 0.024829426780343056,\n",
       "  'anger': 0.11084356904029846,\n",
       "  'disgust': 0.009691108949482441},\n",
       " {'neutral': 0.014389250427484512,\n",
       "  'happiness': 0.017682159319519997,\n",
       "  'sadness': 0.1244027316570282,\n",
       "  'enthusiasm': 0.00908521469682455,\n",
       "  'fear': 0.18412835896015167,\n",
       "  'anger': 0.6383660435676575,\n",
       "  'disgust': 0.011946255341172218},\n",
       " {'neutral': 0.05010091885924339,\n",
       "  'happiness': 0.1689288467168808,\n",
       "  'sadness': 0.09126649796962738,\n",
       "  'enthusiasm': 0.016246289014816284,\n",
       "  'fear': 0.10995305329561234,\n",
       "  'anger': 0.5501053929328918,\n",
       "  'disgust': 0.013399009592831135},\n",
       " {'neutral': 0.05574873834848404,\n",
       "  'happiness': 0.008815949782729149,\n",
       "  'sadness': 0.055222101509571075,\n",
       "  'enthusiasm': 0.0739891305565834,\n",
       "  'fear': 0.4189966917037964,\n",
       "  'anger': 0.3756764233112335,\n",
       "  'disgust': 0.011550898663699627},\n",
       " {'neutral': 0.05574873834848404,\n",
       "  'happiness': 0.008815949782729149,\n",
       "  'sadness': 0.055222101509571075,\n",
       "  'enthusiasm': 0.0739891305565834,\n",
       "  'fear': 0.4189966917037964,\n",
       "  'anger': 0.3756764233112335,\n",
       "  'disgust': 0.011550898663699627},\n",
       " {'neutral': 0.05574873834848404,\n",
       "  'happiness': 0.008815949782729149,\n",
       "  'sadness': 0.055222101509571075,\n",
       "  'enthusiasm': 0.0739891305565834,\n",
       "  'fear': 0.4189966917037964,\n",
       "  'anger': 0.3756764233112335,\n",
       "  'disgust': 0.011550898663699627},\n",
       " {'neutral': 0.0005717346793971956,\n",
       "  'happiness': 0.9970797896385193,\n",
       "  'sadness': 0.0003491798706818372,\n",
       "  'enthusiasm': 0.0005371652077883482,\n",
       "  'fear': 0.0006938545266166329,\n",
       "  'anger': 0.0005797261255793273,\n",
       "  'disgust': 0.00018845629529096186},\n",
       " {'neutral': 0.05574873834848404,\n",
       "  'happiness': 0.008815949782729149,\n",
       "  'sadness': 0.055222101509571075,\n",
       "  'enthusiasm': 0.0739891305565834,\n",
       "  'fear': 0.4189966917037964,\n",
       "  'anger': 0.3756764233112335,\n",
       "  'disgust': 0.011550898663699627},\n",
       " {'neutral': 0.05574873834848404,\n",
       "  'happiness': 0.008815949782729149,\n",
       "  'sadness': 0.055222101509571075,\n",
       "  'enthusiasm': 0.0739891305565834,\n",
       "  'fear': 0.4189966917037964,\n",
       "  'anger': 0.3756764233112335,\n",
       "  'disgust': 0.011550898663699627},\n",
       " {'neutral': 0.0005717346793971956,\n",
       "  'happiness': 0.9970797896385193,\n",
       "  'sadness': 0.0003491798706818372,\n",
       "  'enthusiasm': 0.0005371652077883482,\n",
       "  'fear': 0.0006938545266166329,\n",
       "  'anger': 0.0005797261255793273,\n",
       "  'disgust': 0.00018845629529096186},\n",
       " {'neutral': 0.05574873834848404,\n",
       "  'happiness': 0.008815949782729149,\n",
       "  'sadness': 0.055222101509571075,\n",
       "  'enthusiasm': 0.0739891305565834,\n",
       "  'fear': 0.4189966917037964,\n",
       "  'anger': 0.3756764233112335,\n",
       "  'disgust': 0.011550898663699627},\n",
       " {'neutral': 0.0005717346793971956,\n",
       "  'happiness': 0.9970797896385193,\n",
       "  'sadness': 0.0003491798706818372,\n",
       "  'enthusiasm': 0.0005371652077883482,\n",
       "  'fear': 0.0006938545266166329,\n",
       "  'anger': 0.0005797261255793273,\n",
       "  'disgust': 0.00018845629529096186},\n",
       " {'neutral': 0.05574873834848404,\n",
       "  'happiness': 0.008815949782729149,\n",
       "  'sadness': 0.055222101509571075,\n",
       "  'enthusiasm': 0.0739891305565834,\n",
       "  'fear': 0.4189966917037964,\n",
       "  'anger': 0.3756764233112335,\n",
       "  'disgust': 0.011550898663699627},\n",
       " {'neutral': 0.05574873834848404,\n",
       "  'happiness': 0.008815949782729149,\n",
       "  'sadness': 0.055222101509571075,\n",
       "  'enthusiasm': 0.0739891305565834,\n",
       "  'fear': 0.4189966917037964,\n",
       "  'anger': 0.3756764233112335,\n",
       "  'disgust': 0.011550898663699627},\n",
       " {'neutral': 0.0005717346793971956,\n",
       "  'happiness': 0.9970797896385193,\n",
       "  'sadness': 0.0003491798706818372,\n",
       "  'enthusiasm': 0.0005371652077883482,\n",
       "  'fear': 0.0006938545266166329,\n",
       "  'anger': 0.0005797261255793273,\n",
       "  'disgust': 0.00018845629529096186},\n",
       " {'neutral': 0.006633207201957703,\n",
       "  'happiness': 0.3811038136482239,\n",
       "  'sadness': 0.0023173142690211535,\n",
       "  'enthusiasm': 0.5608540177345276,\n",
       "  'fear': 0.027248239144682884,\n",
       "  'anger': 0.0164230577647686,\n",
       "  'disgust': 0.005420357454568148},\n",
       " {'neutral': 0.05574873834848404,\n",
       "  'happiness': 0.008815949782729149,\n",
       "  'sadness': 0.055222101509571075,\n",
       "  'enthusiasm': 0.0739891305565834,\n",
       "  'fear': 0.4189966917037964,\n",
       "  'anger': 0.3756764233112335,\n",
       "  'disgust': 0.011550898663699627},\n",
       " {'neutral': 0.05574873834848404,\n",
       "  'happiness': 0.008815949782729149,\n",
       "  'sadness': 0.055222101509571075,\n",
       "  'enthusiasm': 0.0739891305565834,\n",
       "  'fear': 0.4189966917037964,\n",
       "  'anger': 0.3756764233112335,\n",
       "  'disgust': 0.011550898663699627},\n",
       " {'neutral': 0.0005717346793971956,\n",
       "  'happiness': 0.9970797896385193,\n",
       "  'sadness': 0.0003491798706818372,\n",
       "  'enthusiasm': 0.0005371652077883482,\n",
       "  'fear': 0.0006938545266166329,\n",
       "  'anger': 0.0005797261255793273,\n",
       "  'disgust': 0.00018845629529096186},\n",
       " {'neutral': 0.007167067378759384,\n",
       "  'happiness': 0.34933358430862427,\n",
       "  'sadness': 0.00225208536721766,\n",
       "  'enthusiasm': 0.5913251638412476,\n",
       "  'fear': 0.027905389666557312,\n",
       "  'anger': 0.01652945950627327,\n",
       "  'disgust': 0.005487268324941397},\n",
       " {'neutral': 0.0027997286524623632,\n",
       "  'happiness': 0.9564735889434814,\n",
       "  'sadness': 0.0022042677737772465,\n",
       "  'enthusiasm': 0.0027398683596402407,\n",
       "  'fear': 0.023736029863357544,\n",
       "  'anger': 0.010580161586403847,\n",
       "  'disgust': 0.0014663109323009849},\n",
       " {'neutral': 0.03140454366803169,\n",
       "  'happiness': 0.02027008682489395,\n",
       "  'sadness': 0.011714738793671131,\n",
       "  'enthusiasm': 0.031730569899082184,\n",
       "  'fear': 0.2819522023200989,\n",
       "  'anger': 0.6126235127449036,\n",
       "  'disgust': 0.010304393246769905},\n",
       " {'neutral': 0.014389250427484512,\n",
       "  'happiness': 0.017682159319519997,\n",
       "  'sadness': 0.1244027316570282,\n",
       "  'enthusiasm': 0.00908521469682455,\n",
       "  'fear': 0.18412835896015167,\n",
       "  'anger': 0.6383660435676575,\n",
       "  'disgust': 0.011946255341172218},\n",
       " {'neutral': 0.05010091885924339,\n",
       "  'happiness': 0.1689288467168808,\n",
       "  'sadness': 0.09126649796962738,\n",
       "  'enthusiasm': 0.016246289014816284,\n",
       "  'fear': 0.10995305329561234,\n",
       "  'anger': 0.5501053929328918,\n",
       "  'disgust': 0.013399009592831135},\n",
       " {'neutral': 0.5688719749450684,\n",
       "  'happiness': 0.015690334141254425,\n",
       "  'sadness': 0.014444202184677124,\n",
       "  'enthusiasm': 0.016817787662148476,\n",
       "  'fear': 0.10110554844141006,\n",
       "  'anger': 0.27494826912879944,\n",
       "  'disgust': 0.008121827617287636},\n",
       " {'neutral': 0.11176832020282745,\n",
       "  'happiness': 0.014997115358710289,\n",
       "  'sadness': 0.022426731884479523,\n",
       "  'enthusiasm': 0.0061431690119206905,\n",
       "  'fear': 0.12604118883609772,\n",
       "  'anger': 0.7081441283226013,\n",
       "  'disgust': 0.010479304008185863},\n",
       " {'neutral': 0.0005747018731199205,\n",
       "  'happiness': 0.9958945512771606,\n",
       "  'sadness': 0.0002774338936433196,\n",
       "  'enthusiasm': 0.0013054226292297244,\n",
       "  'fear': 0.0009828975889831781,\n",
       "  'anger': 0.0007124667754396796,\n",
       "  'disgust': 0.0002525592572055757},\n",
       " {'neutral': 0.9837823510169983,\n",
       "  'happiness': 0.0010343670146539807,\n",
       "  'sadness': 0.00033190875547006726,\n",
       "  'enthusiasm': 0.00616833521053195,\n",
       "  'fear': 0.00288751651532948,\n",
       "  'anger': 0.005111140664666891,\n",
       "  'disgust': 0.0006842563743703067},\n",
       " {'neutral': 0.03198671340942383,\n",
       "  'happiness': 0.011182382702827454,\n",
       "  'sadness': 0.014441856183111668,\n",
       "  'enthusiasm': 0.0061028930358588696,\n",
       "  'fear': 0.26993006467819214,\n",
       "  'anger': 0.6564449071884155,\n",
       "  'disgust': 0.009911194443702698},\n",
       " {'neutral': 0.02969212457537651,\n",
       "  'happiness': 0.07334710657596588,\n",
       "  'sadness': 0.13899317383766174,\n",
       "  'enthusiasm': 0.008001948706805706,\n",
       "  'fear': 0.04407235234975815,\n",
       "  'anger': 0.6932225823402405,\n",
       "  'disgust': 0.012670686468482018},\n",
       " {'neutral': 0.013261749409139156,\n",
       "  'happiness': 0.057804569602012634,\n",
       "  'sadness': 0.010558628477156162,\n",
       "  'enthusiasm': 0.08367928862571716,\n",
       "  'fear': 0.0399574339389801,\n",
       "  'anger': 0.783515214920044,\n",
       "  'disgust': 0.011223106645047665},\n",
       " {'neutral': 0.0011897453805431724,\n",
       "  'happiness': 0.004061669111251831,\n",
       "  'sadness': 0.9847091436386108,\n",
       "  'enthusiasm': 0.0006131309201009572,\n",
       "  'fear': 0.004160876851528883,\n",
       "  'anger': 0.004106499254703522,\n",
       "  'disgust': 0.0011589431669563055},\n",
       " {'neutral': 0.0019348245114088058,\n",
       "  'happiness': 0.0023607690818607807,\n",
       "  'sadness': 0.0018462154548615217,\n",
       "  'enthusiasm': 0.9854326844215393,\n",
       "  'fear': 0.001928341225720942,\n",
       "  'anger': 0.005125288851559162,\n",
       "  'disgust': 0.0013718018308281898},\n",
       " {'neutral': 0.9864757657051086,\n",
       "  'happiness': 0.0008522052085027099,\n",
       "  'sadness': 0.0004322074237279594,\n",
       "  'enthusiasm': 0.004710448905825615,\n",
       "  'fear': 0.0006943016778677702,\n",
       "  'anger': 0.006236532237380743,\n",
       "  'disgust': 0.0005985232419334352},\n",
       " {'neutral': 0.01086406409740448,\n",
       "  'happiness': 0.009810344316065311,\n",
       "  'sadness': 0.022919153794646263,\n",
       "  'enthusiasm': 0.03813133388757706,\n",
       "  'fear': 0.01885133795440197,\n",
       "  'anger': 0.8911047577857971,\n",
       "  'disgust': 0.008319065906107426},\n",
       " {'neutral': 0.5063955187797546,\n",
       "  'happiness': 0.00716585386544466,\n",
       "  'sadness': 0.005226850043982267,\n",
       "  'enthusiasm': 0.026181424036622047,\n",
       "  'fear': 0.007617470342665911,\n",
       "  'anger': 0.4400017559528351,\n",
       "  'disgust': 0.0074111646972596645},\n",
       " {'neutral': 0.004791483748704195,\n",
       "  'happiness': 0.1277904361486435,\n",
       "  'sadness': 0.009558615274727345,\n",
       "  'enthusiasm': 0.03186677396297455,\n",
       "  'fear': 0.6921722888946533,\n",
       "  'anger': 0.12439253181219101,\n",
       "  'disgust': 0.009427925571799278},\n",
       " {'neutral': 0.0019172134343534708,\n",
       "  'happiness': 0.955141007900238,\n",
       "  'sadness': 0.003960623871535063,\n",
       "  'enthusiasm': 0.004865292459726334,\n",
       "  'fear': 0.029621073976159096,\n",
       "  'anger': 0.0032226925250142813,\n",
       "  'disgust': 0.001271990593522787},\n",
       " {'neutral': 0.0004142174730077386,\n",
       "  'happiness': 0.9968562126159668,\n",
       "  'sadness': 0.0004553486069198698,\n",
       "  'enthusiasm': 0.00047239704872481525,\n",
       "  'fear': 0.001102725393138826,\n",
       "  'anger': 0.0005079708062112331,\n",
       "  'disgust': 0.00019097763288300484},\n",
       " {'neutral': 0.0016782499151304364,\n",
       "  'happiness': 0.9647430777549744,\n",
       "  'sadness': 0.010869150049984455,\n",
       "  'enthusiasm': 0.0011756030144169927,\n",
       "  'fear': 0.01352674700319767,\n",
       "  'anger': 0.006660457234829664,\n",
       "  'disgust': 0.001346740173175931},\n",
       " {'neutral': 0.0006140792975202203,\n",
       "  'happiness': 0.9813816547393799,\n",
       "  'sadness': 0.007230838760733604,\n",
       "  'enthusiasm': 0.001125088194385171,\n",
       "  'fear': 0.007220199331641197,\n",
       "  'anger': 0.0016986565897241235,\n",
       "  'disgust': 0.0007296054973267019},\n",
       " {'neutral': 0.013456577435135841,\n",
       "  'happiness': 0.018324825912714005,\n",
       "  'sadness': 0.00208046892657876,\n",
       "  'enthusiasm': 0.862246572971344,\n",
       "  'fear': 0.021511157974600792,\n",
       "  'anger': 0.07641970366239548,\n",
       "  'disgust': 0.005960703361779451},\n",
       " {'neutral': 0.05574873834848404,\n",
       "  'happiness': 0.008815949782729149,\n",
       "  'sadness': 0.055222101509571075,\n",
       "  'enthusiasm': 0.0739891305565834,\n",
       "  'fear': 0.4189966917037964,\n",
       "  'anger': 0.3756764233112335,\n",
       "  'disgust': 0.011550898663699627},\n",
       " {'neutral': 0.05574873834848404,\n",
       "  'happiness': 0.008815949782729149,\n",
       "  'sadness': 0.055222101509571075,\n",
       "  'enthusiasm': 0.0739891305565834,\n",
       "  'fear': 0.4189966917037964,\n",
       "  'anger': 0.3756764233112335,\n",
       "  'disgust': 0.011550898663699627},\n",
       " {'neutral': 0.05574873834848404,\n",
       "  'happiness': 0.008815949782729149,\n",
       "  'sadness': 0.055222101509571075,\n",
       "  'enthusiasm': 0.0739891305565834,\n",
       "  'fear': 0.4189966917037964,\n",
       "  'anger': 0.3756764233112335,\n",
       "  'disgust': 0.011550898663699627},\n",
       " {'neutral': 0.0005717346793971956,\n",
       "  'happiness': 0.9970797896385193,\n",
       "  'sadness': 0.0003491798706818372,\n",
       "  'enthusiasm': 0.0005371652077883482,\n",
       "  'fear': 0.0006938545266166329,\n",
       "  'anger': 0.0005797261255793273,\n",
       "  'disgust': 0.00018845629529096186},\n",
       " {'neutral': 0.005898027680814266,\n",
       "  'happiness': 0.1245698556303978,\n",
       "  'sadness': 0.0021516229026019573,\n",
       "  'enthusiasm': 0.8175562620162964,\n",
       "  'fear': 0.026514651253819466,\n",
       "  'anger': 0.018280602991580963,\n",
       "  'disgust': 0.005028989166021347},\n",
       " {'neutral': 0.0027997286524623632,\n",
       "  'happiness': 0.9564735889434814,\n",
       "  'sadness': 0.0022042677737772465,\n",
       "  'enthusiasm': 0.0027398683596402407,\n",
       "  'fear': 0.023736029863357544,\n",
       "  'anger': 0.010580161586403847,\n",
       "  'disgust': 0.0014663109323009849},\n",
       " {'neutral': 0.03140454366803169,\n",
       "  'happiness': 0.02027008682489395,\n",
       "  'sadness': 0.011714738793671131,\n",
       "  'enthusiasm': 0.031730569899082184,\n",
       "  'fear': 0.2819522023200989,\n",
       "  'anger': 0.6126235127449036,\n",
       "  'disgust': 0.010304393246769905},\n",
       " {'neutral': 0.014389250427484512,\n",
       "  'happiness': 0.017682159319519997,\n",
       "  'sadness': 0.1244027316570282,\n",
       "  'enthusiasm': 0.00908521469682455,\n",
       "  'fear': 0.18412835896015167,\n",
       "  'anger': 0.6383660435676575,\n",
       "  'disgust': 0.011946255341172218},\n",
       " {'neutral': 0.05010091885924339,\n",
       "  'happiness': 0.1689288467168808,\n",
       "  'sadness': 0.09126649796962738,\n",
       "  'enthusiasm': 0.016246289014816284,\n",
       "  'fear': 0.10995305329561234,\n",
       "  'anger': 0.5501053929328918,\n",
       "  'disgust': 0.013399009592831135},\n",
       " {'neutral': 0.5688719749450684,\n",
       "  'happiness': 0.015690334141254425,\n",
       "  'sadness': 0.014444202184677124,\n",
       "  'enthusiasm': 0.016817787662148476,\n",
       "  'fear': 0.10110554844141006,\n",
       "  'anger': 0.27494826912879944,\n",
       "  'disgust': 0.008121827617287636},\n",
       " {'neutral': 0.11176832020282745,\n",
       "  'happiness': 0.014997115358710289,\n",
       "  'sadness': 0.022426731884479523,\n",
       "  'enthusiasm': 0.0061431690119206905,\n",
       "  'fear': 0.12604118883609772,\n",
       "  'anger': 0.7081441283226013,\n",
       "  'disgust': 0.010479304008185863},\n",
       " {'neutral': 0.0005747018731199205,\n",
       "  'happiness': 0.9958945512771606,\n",
       "  'sadness': 0.0002774338936433196,\n",
       "  'enthusiasm': 0.0013054226292297244,\n",
       "  'fear': 0.0009828975889831781,\n",
       "  'anger': 0.0007124667754396796,\n",
       "  'disgust': 0.0002525592572055757},\n",
       " {'neutral': 0.997623860836029,\n",
       "  'happiness': 0.0002980851859319955,\n",
       "  'sadness': 0.00013968041457701474,\n",
       "  'enthusiasm': 0.0008577247499488294,\n",
       "  'fear': 0.00031835728441365063,\n",
       "  'anger': 0.0006063987384550273,\n",
       "  'disgust': 0.00015597045421600342},\n",
       " {'neutral': 0.03198671340942383,\n",
       "  'happiness': 0.011182382702827454,\n",
       "  'sadness': 0.014441856183111668,\n",
       "  'enthusiasm': 0.0061028930358588696,\n",
       "  'fear': 0.26993006467819214,\n",
       "  'anger': 0.6564449071884155,\n",
       "  'disgust': 0.009911194443702698},\n",
       " {'neutral': 0.02969212457537651,\n",
       "  'happiness': 0.07334710657596588,\n",
       "  'sadness': 0.13899317383766174,\n",
       "  'enthusiasm': 0.008001948706805706,\n",
       "  'fear': 0.04407235234975815,\n",
       "  'anger': 0.6932225823402405,\n",
       "  'disgust': 0.012670686468482018},\n",
       " {'neutral': 0.013261749409139156,\n",
       "  'happiness': 0.057804569602012634,\n",
       "  'sadness': 0.010558628477156162,\n",
       "  'enthusiasm': 0.08367928862571716,\n",
       "  'fear': 0.0399574339389801,\n",
       "  'anger': 0.783515214920044,\n",
       "  'disgust': 0.011223106645047665},\n",
       " {'neutral': 0.0011897453805431724,\n",
       "  'happiness': 0.004061669111251831,\n",
       "  'sadness': 0.9847091436386108,\n",
       "  'enthusiasm': 0.0006131309201009572,\n",
       "  'fear': 0.004160876851528883,\n",
       "  'anger': 0.004106499254703522,\n",
       "  'disgust': 0.0011589431669563055},\n",
       " {'neutral': 0.0024799974635243416,\n",
       "  'happiness': 0.0019394049886614084,\n",
       "  'sadness': 0.0017862129025161266,\n",
       "  'enthusiasm': 0.985912024974823,\n",
       "  'fear': 0.0017053040210157633,\n",
       "  'anger': 0.004835907835513353,\n",
       "  'disgust': 0.0013411144027486444},\n",
       " {'neutral': 0.9864757657051086,\n",
       "  'happiness': 0.0008522052085027099,\n",
       "  'sadness': 0.0004322074237279594,\n",
       "  'enthusiasm': 0.004710448905825615,\n",
       "  'fear': 0.0006943016778677702,\n",
       "  'anger': 0.006236532237380743,\n",
       "  'disgust': 0.0005985232419334352},\n",
       " {'neutral': 0.018480004742741585,\n",
       "  'happiness': 0.18540140986442566,\n",
       "  'sadness': 0.536064624786377,\n",
       "  'enthusiasm': 0.0047510177828371525,\n",
       "  'fear': 0.02578827738761902,\n",
       "  'anger': 0.21884799003601074,\n",
       "  'disgust': 0.010666711255908012},\n",
       " {'neutral': 0.5063955187797546,\n",
       "  'happiness': 0.00716585386544466,\n",
       "  'sadness': 0.005226850043982267,\n",
       "  'enthusiasm': 0.026181424036622047,\n",
       "  'fear': 0.007617470342665911,\n",
       "  'anger': 0.4400017559528351,\n",
       "  'disgust': 0.0074111646972596645},\n",
       " {'neutral': 0.0038136248476803303,\n",
       "  'happiness': 0.016089990735054016,\n",
       "  'sadness': 0.0575333796441555,\n",
       "  'enthusiasm': 0.00309285637922585,\n",
       "  'fear': 0.8793801069259644,\n",
       "  'anger': 0.03465847298502922,\n",
       "  'disgust': 0.005431544501334429},\n",
       " {'neutral': 0.0019172134343534708,\n",
       "  'happiness': 0.955141007900238,\n",
       "  'sadness': 0.003960623871535063,\n",
       "  'enthusiasm': 0.004865292459726334,\n",
       "  'fear': 0.029621073976159096,\n",
       "  'anger': 0.0032226925250142813,\n",
       "  'disgust': 0.001271990593522787},\n",
       " {'neutral': 0.0004142174730077386,\n",
       "  'happiness': 0.9968562126159668,\n",
       "  'sadness': 0.0004553486069198698,\n",
       "  'enthusiasm': 0.00047239704872481525,\n",
       "  'fear': 0.001102725393138826,\n",
       "  'anger': 0.0005079708062112331,\n",
       "  'disgust': 0.00019097763288300484},\n",
       " {'neutral': 0.0016782499151304364,\n",
       "  'happiness': 0.9647430777549744,\n",
       "  'sadness': 0.010869150049984455,\n",
       "  'enthusiasm': 0.0011756030144169927,\n",
       "  'fear': 0.01352674700319767,\n",
       "  'anger': 0.006660457234829664,\n",
       "  'disgust': 0.001346740173175931},\n",
       " {'neutral': 0.0006140792975202203,\n",
       "  'happiness': 0.9813816547393799,\n",
       "  'sadness': 0.007230838760733604,\n",
       "  'enthusiasm': 0.001125088194385171,\n",
       "  'fear': 0.007220199331641197,\n",
       "  'anger': 0.0016986565897241235,\n",
       "  'disgust': 0.0007296054973267019},\n",
       " {'neutral': 0.026008956134319305,\n",
       "  'happiness': 0.012632451951503754,\n",
       "  'sadness': 0.005636133719235659,\n",
       "  'enthusiasm': 0.7643866539001465,\n",
       "  'fear': 0.017846904695034027,\n",
       "  'anger': 0.16564257442951202,\n",
       "  'disgust': 0.00784633494913578},\n",
       " {'neutral': 0.0040007890202105045,\n",
       "  'happiness': 0.00847205426543951,\n",
       "  'sadness': 0.024176008999347687,\n",
       "  'enthusiasm': 0.014582439325749874,\n",
       "  'fear': 0.9030917286872864,\n",
       "  'anger': 0.04036850482225418,\n",
       "  'disgust': 0.005308371502906084},\n",
       " {'neutral': 0.010149584151804447,\n",
       "  'happiness': 0.0771428644657135,\n",
       "  'sadness': 0.5800784230232239,\n",
       "  'enthusiasm': 0.004693802446126938,\n",
       "  'fear': 0.2692091166973114,\n",
       "  'anger': 0.04976743459701538,\n",
       "  'disgust': 0.008958740159869194},\n",
       " {'neutral': 0.0014369967393577099,\n",
       "  'happiness': 0.9630125761032104,\n",
       "  'sadness': 0.012174274772405624,\n",
       "  'enthusiasm': 0.0015172283165156841,\n",
       "  'fear': 0.01660274900496006,\n",
       "  'anger': 0.004017942119389772,\n",
       "  'disgust': 0.0012382949935272336},\n",
       " {'neutral': 0.7508640289306641,\n",
       "  'happiness': 0.005779245402663946,\n",
       "  'sadness': 0.001971413381397724,\n",
       "  'enthusiasm': 0.007875962182879448,\n",
       "  'fear': 0.020983215421438217,\n",
       "  'anger': 0.20801326632499695,\n",
       "  'disgust': 0.00451281201094389},\n",
       " {'neutral': 0.012862623669207096,\n",
       "  'happiness': 0.16147585213184357,\n",
       "  'sadness': 0.005169609095901251,\n",
       "  'enthusiasm': 0.17463187873363495,\n",
       "  'fear': 0.5159187912940979,\n",
       "  'anger': 0.11740003526210785,\n",
       "  'disgust': 0.012541227042675018},\n",
       " {'neutral': 0.6796346306800842,\n",
       "  'happiness': 0.006515366956591606,\n",
       "  'sadness': 0.00456517469137907,\n",
       "  'enthusiasm': 0.0164017453789711,\n",
       "  'fear': 0.1096576452255249,\n",
       "  'anger': 0.1769777089357376,\n",
       "  'disgust': 0.00624771136790514},\n",
       " {'neutral': 0.033009640872478485,\n",
       "  'happiness': 0.08087486028671265,\n",
       "  'sadness': 0.03684202581644058,\n",
       "  'enthusiasm': 0.1825762540102005,\n",
       "  'fear': 0.03711812570691109,\n",
       "  'anger': 0.6158470511436462,\n",
       "  'disgust': 0.013732044026255608},\n",
       " {'neutral': 0.985039234161377,\n",
       "  'happiness': 0.0008459527743980289,\n",
       "  'sadness': 0.00046543910866603255,\n",
       "  'enthusiasm': 0.0018729534931480885,\n",
       "  'fear': 0.0034644075203686953,\n",
       "  'anger': 0.007678651250898838,\n",
       "  'disgust': 0.0006332401535473764},\n",
       " {'neutral': 0.0010456155287101865,\n",
       "  'happiness': 0.9891824126243591,\n",
       "  'sadness': 0.0003019784635398537,\n",
       "  'enthusiasm': 0.006375738885253668,\n",
       "  'fear': 0.000669164233841002,\n",
       "  'anger': 0.0019044926157221198,\n",
       "  'disgust': 0.0005206704954616725},\n",
       " {'neutral': 0.0016377167776226997,\n",
       "  'happiness': 0.9698188304901123,\n",
       "  'sadness': 0.000928947061765939,\n",
       "  'enthusiasm': 0.007069793529808521,\n",
       "  'fear': 0.015648476779460907,\n",
       "  'anger': 0.0038453657180070877,\n",
       "  'disgust': 0.001050941296853125},\n",
       " {'neutral': 0.00032902645762078464,\n",
       "  'happiness': 0.9982616305351257,\n",
       "  'sadness': 0.0002388025022810325,\n",
       "  'enthusiasm': 0.00039308282430283725,\n",
       "  'fear': 0.0003106197982560843,\n",
       "  'anger': 0.00034044578205794096,\n",
       "  'disgust': 0.0001263929734705016},\n",
       " {'neutral': 0.005725881550461054,\n",
       "  'happiness': 0.092379130423069,\n",
       "  'sadness': 0.05355699732899666,\n",
       "  'enthusiasm': 0.005777894053608179,\n",
       "  'fear': 0.7655280828475952,\n",
       "  'anger': 0.06917470693588257,\n",
       "  'disgust': 0.007857302203774452},\n",
       " {'neutral': 0.008662816137075424,\n",
       "  'happiness': 0.01958589069545269,\n",
       "  'sadness': 0.0016921216156333685,\n",
       "  'enthusiasm': 0.020924706012010574,\n",
       "  'fear': 0.0163562074303627,\n",
       "  'anger': 0.9263449311256409,\n",
       "  'disgust': 0.006433404982089996},\n",
       " {'neutral': 0.2538139224052429,\n",
       "  'happiness': 0.29609718918800354,\n",
       "  'sadness': 0.008904716931283474,\n",
       "  'enthusiasm': 0.016656750813126564,\n",
       "  'fear': 0.10931909084320068,\n",
       "  'anger': 0.30373576283454895,\n",
       "  'disgust': 0.011472647078335285},\n",
       " {'neutral': 0.049323998391628265,\n",
       "  'happiness': 0.0053941127844154835,\n",
       "  'sadness': 0.0170553270727396,\n",
       "  'enthusiasm': 0.06404024362564087,\n",
       "  'fear': 0.015150058083236217,\n",
       "  'anger': 0.8400529026985168,\n",
       "  'disgust': 0.008983353152871132},\n",
       " {'neutral': 0.00872117467224598,\n",
       "  'happiness': 0.025564298033714294,\n",
       "  'sadness': 0.5407718420028687,\n",
       "  'enthusiasm': 0.0018181342165917158,\n",
       "  'fear': 0.33413898944854736,\n",
       "  'anger': 0.08004333823919296,\n",
       "  'disgust': 0.0089422557502985},\n",
       " {'neutral': 0.0024028944317251444,\n",
       "  'happiness': 0.9143189191818237,\n",
       "  'sadness': 0.009973474778234959,\n",
       "  'enthusiasm': 0.0034429130610078573,\n",
       "  'fear': 0.06320374459028244,\n",
       "  'anger': 0.004645032808184624,\n",
       "  'disgust': 0.0020128756295889616},\n",
       " {'neutral': 0.01085328683257103,\n",
       "  'happiness': 0.04363641142845154,\n",
       "  'sadness': 0.6921517848968506,\n",
       "  'enthusiasm': 0.0036672696005553007,\n",
       "  'fear': 0.05815063416957855,\n",
       "  'anger': 0.18225519359111786,\n",
       "  'disgust': 0.009285473264753819},\n",
       " {'neutral': 0.024036379531025887,\n",
       "  'happiness': 0.005475555546581745,\n",
       "  'sadness': 0.3098275363445282,\n",
       "  'enthusiasm': 0.0030122764874249697,\n",
       "  'fear': 0.5581536293029785,\n",
       "  'anger': 0.09116606414318085,\n",
       "  'disgust': 0.008328580297529697},\n",
       " {'neutral': 0.0015014291275292635,\n",
       "  'happiness': 0.0032076584175229073,\n",
       "  'sadness': 0.9848750233650208,\n",
       "  'enthusiasm': 0.0008073332719504833,\n",
       "  'fear': 0.0016961790388450027,\n",
       "  'anger': 0.006712482310831547,\n",
       "  'disgust': 0.0012000075075775385},\n",
       " {'neutral': 0.0076430016197264194,\n",
       "  'happiness': 0.6048275232315063,\n",
       "  'sadness': 0.005498397629708052,\n",
       "  'enthusiasm': 0.005341667681932449,\n",
       "  'fear': 0.29002776741981506,\n",
       "  'anger': 0.08000001311302185,\n",
       "  'disgust': 0.006661667488515377},\n",
       " {'neutral': 0.00827827025204897,\n",
       "  'happiness': 0.050627775490283966,\n",
       "  'sadness': 0.05069930851459503,\n",
       "  'enthusiasm': 0.03160877898335457,\n",
       "  'fear': 0.3431098759174347,\n",
       "  'anger': 0.5028864741325378,\n",
       "  'disgust': 0.01278949249535799},\n",
       " {'neutral': 0.014916902408003807,\n",
       "  'happiness': 0.010984945110976696,\n",
       "  'sadness': 0.19780400395393372,\n",
       "  'enthusiasm': 0.23279261589050293,\n",
       "  'fear': 0.11281242221593857,\n",
       "  'anger': 0.4126344621181488,\n",
       "  'disgust': 0.01805463805794716},\n",
       " {'neutral': 0.003634913358837366,\n",
       "  'happiness': 0.9535183310508728,\n",
       "  'sadness': 0.0019346033222973347,\n",
       "  'enthusiasm': 0.012501231394708157,\n",
       "  'fear': 0.0028151923324912786,\n",
       "  'anger': 0.023702573031187057,\n",
       "  'disgust': 0.0018931697122752666},\n",
       " {'neutral': 0.06570515781641006,\n",
       "  'happiness': 0.009272860363125801,\n",
       "  'sadness': 0.006704246159642935,\n",
       "  'enthusiasm': 0.3392419219017029,\n",
       "  'fear': 0.020439298823475838,\n",
       "  'anger': 0.5469629168510437,\n",
       "  'disgust': 0.011673674918711185},\n",
       " {'neutral': 0.10427707433700562,\n",
       "  'happiness': 0.056879620999097824,\n",
       "  'sadness': 0.04019385576248169,\n",
       "  'enthusiasm': 0.013456849381327629,\n",
       "  'fear': 0.6682763695716858,\n",
       "  'anger': 0.10642366111278534,\n",
       "  'disgust': 0.010492533445358276},\n",
       " {'neutral': 0.051575470715761185,\n",
       "  'happiness': 0.032389380037784576,\n",
       "  'sadness': 0.006906955037266016,\n",
       "  'enthusiasm': 0.01867789402604103,\n",
       "  'fear': 0.3802667558193207,\n",
       "  'anger': 0.4993521571159363,\n",
       "  'disgust': 0.010831366293132305},\n",
       " {'neutral': 0.9988247752189636,\n",
       "  'happiness': 0.00016628362936899066,\n",
       "  'sadness': 0.0001223978033522144,\n",
       "  'enthusiasm': 0.00023758818861097097,\n",
       "  'fear': 0.0002767288242466748,\n",
       "  'anger': 0.0002808870340231806,\n",
       "  'disgust': 9.131633123615757e-05},\n",
       " {'neutral': 0.8266966938972473,\n",
       "  'happiness': 0.005738170817494392,\n",
       "  'sadness': 0.003475174540653825,\n",
       "  'enthusiasm': 0.0035852540750056505,\n",
       "  'fear': 0.010540462099015713,\n",
       "  'anger': 0.14625155925750732,\n",
       "  'disgust': 0.0037127186078578234},\n",
       " {'neutral': 0.09336990863084793,\n",
       "  'happiness': 0.011021438054740429,\n",
       "  'sadness': 0.06620714068412781,\n",
       "  'enthusiasm': 0.02921571396291256,\n",
       "  'fear': 0.3899577558040619,\n",
       "  'anger': 0.39879411458969116,\n",
       "  'disgust': 0.011433920823037624},\n",
       " {'neutral': 0.00355343334376812,\n",
       "  'happiness': 0.8815140128135681,\n",
       "  'sadness': 0.0016563994577154517,\n",
       "  'enthusiasm': 0.04187672212719917,\n",
       "  'fear': 0.03900308907032013,\n",
       "  'anger': 0.028720950707793236,\n",
       "  'disgust': 0.00367529783397913},\n",
       " {'neutral': 0.26288846135139465,\n",
       "  'happiness': 0.01640712469816208,\n",
       "  'sadness': 0.0028034544084221125,\n",
       "  'enthusiasm': 0.016631590202450752,\n",
       "  'fear': 0.05585607513785362,\n",
       "  'anger': 0.6363911628723145,\n",
       "  'disgust': 0.009022184647619724},\n",
       " {'neutral': 0.011385118588805199,\n",
       "  'happiness': 0.4067979156970978,\n",
       "  'sadness': 0.014885056763887405,\n",
       "  'enthusiasm': 0.0241968035697937,\n",
       "  'fear': 0.07231137156486511,\n",
       "  'anger': 0.4602225422859192,\n",
       "  'disgust': 0.010201146826148033},\n",
       " {'neutral': 0.00438279053196311,\n",
       "  'happiness': 0.8972432613372803,\n",
       "  'sadness': 0.0007017491734586656,\n",
       "  'enthusiasm': 0.059795498847961426,\n",
       "  'fear': 0.0076264142990112305,\n",
       "  'anger': 0.027027860283851624,\n",
       "  'disgust': 0.003222331404685974},\n",
       " {'neutral': 0.013088533654808998,\n",
       "  'happiness': 0.5325040221214294,\n",
       "  'sadness': 0.006395549979060888,\n",
       "  'enthusiasm': 0.007373029366135597,\n",
       "  'fear': 0.08467911183834076,\n",
       "  'anger': 0.3471828103065491,\n",
       "  'disgust': 0.008777040988206863},\n",
       " {'neutral': 0.0024968262296169996,\n",
       "  'happiness': 0.8930647373199463,\n",
       "  'sadness': 0.0042738113552331924,\n",
       "  'enthusiasm': 0.03409406170248985,\n",
       "  'fear': 0.011359729804098606,\n",
       "  'anger': 0.05135920271277428,\n",
       "  'disgust': 0.0033516574185341597},\n",
       " {'neutral': 0.05888456106185913,\n",
       "  'happiness': 0.011555967852473259,\n",
       "  'sadness': 0.0785658210515976,\n",
       "  'enthusiasm': 0.06340064108371735,\n",
       "  'fear': 0.47855693101882935,\n",
       "  'anger': 0.2975381910800934,\n",
       "  'disgust': 0.01149788685142994},\n",
       " {'neutral': 0.0005717346793971956,\n",
       "  'happiness': 0.9970797896385193,\n",
       "  'sadness': 0.0003491798706818372,\n",
       "  'enthusiasm': 0.0005371652077883482,\n",
       "  'fear': 0.0006938545266166329,\n",
       "  'anger': 0.0005797261255793273,\n",
       "  'disgust': 0.00018845629529096186},\n",
       " {'neutral': 0.005898027680814266,\n",
       "  'happiness': 0.1245698556303978,\n",
       "  'sadness': 0.0021516229026019573,\n",
       "  'enthusiasm': 0.8175562620162964,\n",
       "  'fear': 0.026514651253819466,\n",
       "  'anger': 0.018280602991580963,\n",
       "  'disgust': 0.005028989166021347},\n",
       " {'neutral': 0.0027997286524623632,\n",
       "  'happiness': 0.9564735889434814,\n",
       "  'sadness': 0.0022042677737772465,\n",
       "  'enthusiasm': 0.0027398683596402407,\n",
       "  'fear': 0.023736029863357544,\n",
       "  'anger': 0.010580161586403847,\n",
       "  'disgust': 0.0014663109323009849},\n",
       " {'neutral': 0.03140454366803169,\n",
       "  'happiness': 0.02027008682489395,\n",
       "  'sadness': 0.011714738793671131,\n",
       "  'enthusiasm': 0.031730569899082184,\n",
       "  'fear': 0.2819522023200989,\n",
       "  'anger': 0.6126235127449036,\n",
       "  'disgust': 0.010304393246769905},\n",
       " {'neutral': 0.014389250427484512,\n",
       "  'happiness': 0.017682159319519997,\n",
       "  'sadness': 0.1244027316570282,\n",
       "  'enthusiasm': 0.00908521469682455,\n",
       "  'fear': 0.18412835896015167,\n",
       "  'anger': 0.6383660435676575,\n",
       "  'disgust': 0.011946255341172218},\n",
       " {'neutral': 0.04761749133467674,\n",
       "  'happiness': 0.03561355173587799,\n",
       "  'sadness': 0.04061431437730789,\n",
       "  'enthusiasm': 0.051157351583242416,\n",
       "  'fear': 0.022830551490187645,\n",
       "  'anger': 0.7916247248649597,\n",
       "  'disgust': 0.010542058385908604},\n",
       " {'neutral': 0.5688719749450684,\n",
       "  'happiness': 0.015690334141254425,\n",
       "  'sadness': 0.014444202184677124,\n",
       "  'enthusiasm': 0.016817787662148476,\n",
       "  'fear': 0.10110554844141006,\n",
       "  'anger': 0.27494826912879944,\n",
       "  'disgust': 0.008121827617287636},\n",
       " {'neutral': 0.11176832020282745,\n",
       "  'happiness': 0.014997115358710289,\n",
       "  'sadness': 0.022426731884479523,\n",
       "  'enthusiasm': 0.0061431690119206905,\n",
       "  'fear': 0.12604118883609772,\n",
       "  'anger': 0.7081441283226013,\n",
       "  'disgust': 0.010479304008185863},\n",
       " {'neutral': 0.0005747018731199205,\n",
       "  'happiness': 0.9958945512771606,\n",
       "  'sadness': 0.0002774338936433196,\n",
       "  'enthusiasm': 0.0013054226292297244,\n",
       "  'fear': 0.0009828975889831781,\n",
       "  'anger': 0.0007124667754396796,\n",
       "  'disgust': 0.0002525592572055757},\n",
       " {'neutral': 0.997623860836029,\n",
       "  'happiness': 0.0002980851859319955,\n",
       "  'sadness': 0.00013968041457701474,\n",
       "  'enthusiasm': 0.0008577247499488294,\n",
       "  'fear': 0.00031835728441365063,\n",
       "  'anger': 0.0006063987384550273,\n",
       "  'disgust': 0.00015597045421600342},\n",
       " {'neutral': 0.03198671340942383,\n",
       "  'happiness': 0.011182382702827454,\n",
       "  'sadness': 0.014441856183111668,\n",
       "  'enthusiasm': 0.0061028930358588696,\n",
       "  'fear': 0.26993006467819214,\n",
       "  'anger': 0.6564449071884155,\n",
       "  'disgust': 0.009911194443702698},\n",
       " {'neutral': 0.9995821118354797,\n",
       "  'happiness': 7.674797961954027e-05,\n",
       "  'sadness': 8.7070839072112e-05,\n",
       "  'enthusiasm': 7.027346146060154e-05,\n",
       "  'fear': 6.300461973296478e-05,\n",
       "  'anger': 7.89436962804757e-05,\n",
       "  'disgust': 4.171744512859732e-05},\n",
       " {'neutral': 0.013261749409139156,\n",
       "  'happiness': 0.057804569602012634,\n",
       "  'sadness': 0.010558628477156162,\n",
       "  'enthusiasm': 0.08367928862571716,\n",
       "  'fear': 0.0399574339389801,\n",
       "  'anger': 0.783515214920044,\n",
       "  'disgust': 0.011223106645047665},\n",
       " {'neutral': 0.0016247497405856848,\n",
       "  'happiness': 0.009172678925096989,\n",
       "  'sadness': 0.9757810235023499,\n",
       "  'enthusiasm': 0.0009390941122546792,\n",
       "  'fear': 0.005275404080748558,\n",
       "  'anger': 0.005696428474038839,\n",
       "  'disgust': 0.0015107239596545696},\n",
       " {'neutral': 0.0019348245114088058,\n",
       "  'happiness': 0.0023607690818607807,\n",
       "  'sadness': 0.0018462154548615217,\n",
       "  'enthusiasm': 0.9854326844215393,\n",
       "  'fear': 0.001928341225720942,\n",
       "  'anger': 0.005125288851559162,\n",
       "  'disgust': 0.0013718018308281898},\n",
       " {'neutral': 0.9864757657051086,\n",
       "  'happiness': 0.0008522052085027099,\n",
       "  'sadness': 0.0004322074237279594,\n",
       "  'enthusiasm': 0.004710448905825615,\n",
       "  'fear': 0.0006943016778677702,\n",
       "  'anger': 0.006236532237380743,\n",
       "  'disgust': 0.0005985232419334352},\n",
       " {'neutral': 0.00755757512524724,\n",
       "  'happiness': 0.8629224300384521,\n",
       "  'sadness': 0.04609343037009239,\n",
       "  'enthusiasm': 0.0022686037700623274,\n",
       "  'fear': 0.020967349410057068,\n",
       "  'anger': 0.055820055305957794,\n",
       "  'disgust': 0.004370519891381264},\n",
       " {'neutral': 0.5063955187797546,\n",
       "  'happiness': 0.00716585386544466,\n",
       "  'sadness': 0.005226850043982267,\n",
       "  'enthusiasm': 0.026181424036622047,\n",
       "  'fear': 0.007617470342665911,\n",
       "  'anger': 0.4400017559528351,\n",
       "  'disgust': 0.0074111646972596645},\n",
       " {'neutral': 0.0038136248476803303,\n",
       "  'happiness': 0.016089990735054016,\n",
       "  'sadness': 0.0575333796441555,\n",
       "  'enthusiasm': 0.00309285637922585,\n",
       "  'fear': 0.8793801069259644,\n",
       "  'anger': 0.03465847298502922,\n",
       "  'disgust': 0.005431544501334429},\n",
       " {'neutral': 0.0019172134343534708,\n",
       "  'happiness': 0.955141007900238,\n",
       "  'sadness': 0.003960623871535063,\n",
       "  'enthusiasm': 0.004865292459726334,\n",
       "  'fear': 0.029621073976159096,\n",
       "  'anger': 0.0032226925250142813,\n",
       "  'disgust': 0.001271990593522787},\n",
       " {'neutral': 0.0004142174730077386,\n",
       "  'happiness': 0.9968562126159668,\n",
       "  'sadness': 0.0004553486069198698,\n",
       "  'enthusiasm': 0.00047239704872481525,\n",
       "  'fear': 0.001102725393138826,\n",
       "  'anger': 0.0005079708062112331,\n",
       "  'disgust': 0.00019097763288300484},\n",
       " {'neutral': 0.0016782499151304364,\n",
       "  'happiness': 0.9647430777549744,\n",
       "  'sadness': 0.010869150049984455,\n",
       "  'enthusiasm': 0.0011756030144169927,\n",
       "  'fear': 0.01352674700319767,\n",
       "  'anger': 0.006660457234829664,\n",
       "  'disgust': 0.001346740173175931},\n",
       " {'neutral': 0.0008166686748154461,\n",
       "  'happiness': 0.9566513895988464,\n",
       "  'sadness': 0.014000891707837582,\n",
       "  'enthusiasm': 0.0043770670890808105,\n",
       "  'fear': 0.01857108809053898,\n",
       "  'anger': 0.004057745449244976,\n",
       "  'disgust': 0.0015252273296937346},\n",
       " {'neutral': 0.026008956134319305,\n",
       "  'happiness': 0.012632451951503754,\n",
       "  'sadness': 0.005636133719235659,\n",
       "  'enthusiasm': 0.7643866539001465,\n",
       "  'fear': 0.017846904695034027,\n",
       "  'anger': 0.16564257442951202,\n",
       "  'disgust': 0.00784633494913578},\n",
       " ...]"
      ]
     },
     "execution_count": 89,
     "metadata": {},
     "output_type": "execute_result"
    }
   ],
   "source": [
    "sentiment_list"
   ]
  },
  {
   "cell_type": "code",
   "execution_count": 90,
   "id": "7d9524ba",
   "metadata": {
    "pycharm": {
     "name": "#%%\n"
    }
   },
   "outputs": [],
   "source": [
    "df_uni['Эмоции все'] = sentiment_list"
   ]
  },
  {
   "cell_type": "code",
   "execution_count": 91,
   "id": "1d5fef6b",
   "metadata": {
    "pycharm": {
     "name": "#%%\n"
    }
   },
   "outputs": [
    {
     "data": {
      "text/html": [
       "<div>\n",
       "<style scoped>\n",
       "    .dataframe tbody tr th:only-of-type {\n",
       "        vertical-align: middle;\n",
       "    }\n",
       "\n",
       "    .dataframe tbody tr th {\n",
       "        vertical-align: top;\n",
       "    }\n",
       "\n",
       "    .dataframe thead th {\n",
       "        text-align: right;\n",
       "    }\n",
       "</style>\n",
       "<table border=\"1\" class=\"dataframe\">\n",
       "  <thead>\n",
       "    <tr style=\"text-align: right;\">\n",
       "      <th></th>\n",
       "      <th>Отзыв</th>\n",
       "      <th>День</th>\n",
       "      <th>Месяц</th>\n",
       "      <th>Год</th>\n",
       "      <th>Университет</th>\n",
       "      <th>Тональность</th>\n",
       "      <th>Токсичность_1</th>\n",
       "      <th>Эмоции все</th>\n",
       "    </tr>\n",
       "  </thead>\n",
       "  <tbody>\n",
       "    <tr>\n",
       "      <th>0</th>\n",
       "      <td>\\n\\n\\nИнформации о этом ВУЗе в интернете нет (...</td>\n",
       "      <td>21</td>\n",
       "      <td>8</td>\n",
       "      <td>2021</td>\n",
       "      <td>АГУ</td>\n",
       "      <td>0.873096</td>\n",
       "      <td>[0.9921262, 0.00023803227, 0.0007774583, 0.006...</td>\n",
       "      <td>{'neutral': 0.0632552057504654, 'happiness': 0...</td>\n",
       "    </tr>\n",
       "    <tr>\n",
       "      <th>1</th>\n",
       "      <td>\\n\\n\\nИнформации о этом ВУЗе в интернете нет (...</td>\n",
       "      <td>12</td>\n",
       "      <td>2</td>\n",
       "      <td>2017</td>\n",
       "      <td>АлтГУ</td>\n",
       "      <td>0.873096</td>\n",
       "      <td>[0.9903632, 0.00025323546, 0.00096872175, 0.00...</td>\n",
       "      <td>{'neutral': 0.05574873834848404, 'happiness': ...</td>\n",
       "    </tr>\n",
       "    <tr>\n",
       "      <th>2</th>\n",
       "      <td>\\n\\n\\nИнформации о этом ВУЗе в интернете нет (...</td>\n",
       "      <td>2</td>\n",
       "      <td>8</td>\n",
       "      <td>2022</td>\n",
       "      <td>Алфёровский университет</td>\n",
       "      <td>0.873096</td>\n",
       "      <td>[0.9903632, 0.00025323546, 0.00096872175, 0.00...</td>\n",
       "      <td>{'neutral': 0.05574873834848404, 'happiness': ...</td>\n",
       "    </tr>\n",
       "    <tr>\n",
       "      <th>3</th>\n",
       "      <td>\\n\\n\\nЗдравствуйте! Меня зовут Александр. Я жи...</td>\n",
       "      <td>1</td>\n",
       "      <td>11</td>\n",
       "      <td>2016</td>\n",
       "      <td>Алфёровский университет</td>\n",
       "      <td>0.740849</td>\n",
       "      <td>[0.99739707, 0.0004277167, 0.00027420663, 0.00...</td>\n",
       "      <td>{'neutral': 0.0005717346793971956, 'happiness'...</td>\n",
       "    </tr>\n",
       "    <tr>\n",
       "      <th>4</th>\n",
       "      <td>\\n\\n\\nИнформации о этом ВУЗе в интернете нет (...</td>\n",
       "      <td>8</td>\n",
       "      <td>6</td>\n",
       "      <td>2022</td>\n",
       "      <td>АмГМА</td>\n",
       "      <td>0.873096</td>\n",
       "      <td>[0.9903632, 0.00025323546, 0.00096872175, 0.00...</td>\n",
       "      <td>{'neutral': 0.05574873834848404, 'happiness': ...</td>\n",
       "    </tr>\n",
       "    <tr>\n",
       "      <th>...</th>\n",
       "      <td>...</td>\n",
       "      <td>...</td>\n",
       "      <td>...</td>\n",
       "      <td>...</td>\n",
       "      <td>...</td>\n",
       "      <td>...</td>\n",
       "      <td>...</td>\n",
       "      <td>...</td>\n",
       "    </tr>\n",
       "    <tr>\n",
       "      <th>1696</th>\n",
       "      <td>\\n\\n\\nЗа 5 лет повидала многого, но по порядку...</td>\n",
       "      <td>8</td>\n",
       "      <td>11</td>\n",
       "      <td>2017</td>\n",
       "      <td>ЮФУ</td>\n",
       "      <td>0.113793</td>\n",
       "      <td>[0.97855365, 0.00027898338, 0.0017375285, 0.01...</td>\n",
       "      <td>{'neutral': 0.015182697214186192, 'happiness':...</td>\n",
       "    </tr>\n",
       "    <tr>\n",
       "      <th>1697</th>\n",
       "      <td>\\n\\n\\nИнформации о этом ВУЗе в интернете нет (...</td>\n",
       "      <td>23</td>\n",
       "      <td>6</td>\n",
       "      <td>2021</td>\n",
       "      <td>ЯГПУ им. Ушинского</td>\n",
       "      <td>0.873096</td>\n",
       "      <td>[0.9903632, 0.00025323546, 0.00096872175, 0.00...</td>\n",
       "      <td>{'neutral': 0.05574873834848404, 'happiness': ...</td>\n",
       "    </tr>\n",
       "    <tr>\n",
       "      <th>1698</th>\n",
       "      <td>\\n\\n\\nЗдравствуйте! Меня зовут Александр. Я жи...</td>\n",
       "      <td>1</td>\n",
       "      <td>3</td>\n",
       "      <td>2021</td>\n",
       "      <td>ЯГПУ им. Ушинского</td>\n",
       "      <td>0.740849</td>\n",
       "      <td>[0.99739707, 0.0004277167, 0.00027420663, 0.00...</td>\n",
       "      <td>{'neutral': 0.0005717346793971956, 'happiness'...</td>\n",
       "    </tr>\n",
       "    <tr>\n",
       "      <th>1699</th>\n",
       "      <td>\\n\\n\\nС удивлением для себя обнаружил, что про...</td>\n",
       "      <td>16</td>\n",
       "      <td>2</td>\n",
       "      <td>2021</td>\n",
       "      <td>ЯГПУ им. Ушинского</td>\n",
       "      <td>0.556827</td>\n",
       "      <td>[0.9961887, 0.0002449723, 0.00038222753, 0.003...</td>\n",
       "      <td>{'neutral': 0.005898027680814266, 'happiness':...</td>\n",
       "    </tr>\n",
       "    <tr>\n",
       "      <th>1700</th>\n",
       "      <td>\\n\\n\\nИнформации о этом ВУЗе в интернете нет (...</td>\n",
       "      <td>20</td>\n",
       "      <td>2</td>\n",
       "      <td>2023</td>\n",
       "      <td>ЯрГУ</td>\n",
       "      <td>0.873096</td>\n",
       "      <td>[0.9903632, 0.00025323546, 0.00096872175, 0.00...</td>\n",
       "      <td>{'neutral': 0.05574873834848404, 'happiness': ...</td>\n",
       "    </tr>\n",
       "  </tbody>\n",
       "</table>\n",
       "<p>1701 rows × 8 columns</p>\n",
       "</div>"
      ],
      "text/plain": [
       "                                                  Отзыв  День  Месяц   Год  \\\n",
       "0     \\n\\n\\nИнформации о этом ВУЗе в интернете нет (...    21      8  2021   \n",
       "1     \\n\\n\\nИнформации о этом ВУЗе в интернете нет (...    12      2  2017   \n",
       "2     \\n\\n\\nИнформации о этом ВУЗе в интернете нет (...     2      8  2022   \n",
       "3     \\n\\n\\nЗдравствуйте! Меня зовут Александр. Я жи...     1     11  2016   \n",
       "4     \\n\\n\\nИнформации о этом ВУЗе в интернете нет (...     8      6  2022   \n",
       "...                                                 ...   ...    ...   ...   \n",
       "1696  \\n\\n\\nЗа 5 лет повидала многого, но по порядку...     8     11  2017   \n",
       "1697  \\n\\n\\nИнформации о этом ВУЗе в интернете нет (...    23      6  2021   \n",
       "1698  \\n\\n\\nЗдравствуйте! Меня зовут Александр. Я жи...     1      3  2021   \n",
       "1699  \\n\\n\\nС удивлением для себя обнаружил, что про...    16      2  2021   \n",
       "1700  \\n\\n\\nИнформации о этом ВУЗе в интернете нет (...    20      2  2023   \n",
       "\n",
       "                  Университет  Тональность  \\\n",
       "0                         АГУ     0.873096   \n",
       "1                       АлтГУ     0.873096   \n",
       "2     Алфёровский университет     0.873096   \n",
       "3     Алфёровский университет     0.740849   \n",
       "4                       АмГМА     0.873096   \n",
       "...                       ...          ...   \n",
       "1696                      ЮФУ     0.113793   \n",
       "1697       ЯГПУ им. Ушинского     0.873096   \n",
       "1698       ЯГПУ им. Ушинского     0.740849   \n",
       "1699       ЯГПУ им. Ушинского     0.556827   \n",
       "1700                     ЯрГУ     0.873096   \n",
       "\n",
       "                                          Токсичность_1  \\\n",
       "0     [0.9921262, 0.00023803227, 0.0007774583, 0.006...   \n",
       "1     [0.9903632, 0.00025323546, 0.00096872175, 0.00...   \n",
       "2     [0.9903632, 0.00025323546, 0.00096872175, 0.00...   \n",
       "3     [0.99739707, 0.0004277167, 0.00027420663, 0.00...   \n",
       "4     [0.9903632, 0.00025323546, 0.00096872175, 0.00...   \n",
       "...                                                 ...   \n",
       "1696  [0.97855365, 0.00027898338, 0.0017375285, 0.01...   \n",
       "1697  [0.9903632, 0.00025323546, 0.00096872175, 0.00...   \n",
       "1698  [0.99739707, 0.0004277167, 0.00027420663, 0.00...   \n",
       "1699  [0.9961887, 0.0002449723, 0.00038222753, 0.003...   \n",
       "1700  [0.9903632, 0.00025323546, 0.00096872175, 0.00...   \n",
       "\n",
       "                                             Эмоции все  \n",
       "0     {'neutral': 0.0632552057504654, 'happiness': 0...  \n",
       "1     {'neutral': 0.05574873834848404, 'happiness': ...  \n",
       "2     {'neutral': 0.05574873834848404, 'happiness': ...  \n",
       "3     {'neutral': 0.0005717346793971956, 'happiness'...  \n",
       "4     {'neutral': 0.05574873834848404, 'happiness': ...  \n",
       "...                                                 ...  \n",
       "1696  {'neutral': 0.015182697214186192, 'happiness':...  \n",
       "1697  {'neutral': 0.05574873834848404, 'happiness': ...  \n",
       "1698  {'neutral': 0.0005717346793971956, 'happiness'...  \n",
       "1699  {'neutral': 0.005898027680814266, 'happiness':...  \n",
       "1700  {'neutral': 0.05574873834848404, 'happiness': ...  \n",
       "\n",
       "[1701 rows x 8 columns]"
      ]
     },
     "execution_count": 91,
     "metadata": {},
     "output_type": "execute_result"
    }
   ],
   "source": [
    "df_uni"
   ]
  },
  {
   "cell_type": "code",
   "execution_count": 92,
   "id": "b75b9d13",
   "metadata": {
    "pycharm": {
     "name": "#%%\n"
    }
   },
   "outputs": [],
   "source": [
    "df_uni.to_excel('Uni_with_emotions.xlsx')"
   ]
  },
  {
   "cell_type": "code",
   "execution_count": 3,
   "id": "c58b119c",
   "metadata": {
    "pycharm": {
     "name": "#%%\n"
    }
   },
   "outputs": [],
   "source": [
    "df = pd.read_excel('Uni_with_emotions.xlsx')"
   ]
  },
  {
   "cell_type": "code",
   "execution_count": 4,
   "id": "3c1a428c",
   "metadata": {
    "pycharm": {
     "name": "#%%\n"
    }
   },
   "outputs": [
    {
     "data": {
      "text/html": [
       "<div>\n",
       "<style scoped>\n",
       "    .dataframe tbody tr th:only-of-type {\n",
       "        vertical-align: middle;\n",
       "    }\n",
       "\n",
       "    .dataframe tbody tr th {\n",
       "        vertical-align: top;\n",
       "    }\n",
       "\n",
       "    .dataframe thead th {\n",
       "        text-align: right;\n",
       "    }\n",
       "</style>\n",
       "<table border=\"1\" class=\"dataframe\">\n",
       "  <thead>\n",
       "    <tr style=\"text-align: right;\">\n",
       "      <th></th>\n",
       "      <th>Unnamed: 0</th>\n",
       "      <th>Отзыв</th>\n",
       "      <th>День</th>\n",
       "      <th>Месяц</th>\n",
       "      <th>Год</th>\n",
       "      <th>Университет</th>\n",
       "      <th>Тональность</th>\n",
       "      <th>Токсичность_1</th>\n",
       "      <th>Эмоции все</th>\n",
       "    </tr>\n",
       "  </thead>\n",
       "  <tbody>\n",
       "    <tr>\n",
       "      <th>0</th>\n",
       "      <td>0</td>\n",
       "      <td>\\n\\n\\nИнформации о этом ВУЗе в интернете нет (...</td>\n",
       "      <td>21</td>\n",
       "      <td>8</td>\n",
       "      <td>2021</td>\n",
       "      <td>АГУ</td>\n",
       "      <td>0.873096</td>\n",
       "      <td>[9.9212623e-01 2.3803227e-04 7.7745831e-04 6.8...</td>\n",
       "      <td>{'neutral': 0.0632552057504654, 'happiness': 0...</td>\n",
       "    </tr>\n",
       "    <tr>\n",
       "      <th>1</th>\n",
       "      <td>1</td>\n",
       "      <td>\\n\\n\\nИнформации о этом ВУЗе в интернете нет (...</td>\n",
       "      <td>12</td>\n",
       "      <td>2</td>\n",
       "      <td>2017</td>\n",
       "      <td>АлтГУ</td>\n",
       "      <td>0.873096</td>\n",
       "      <td>[9.9036318e-01 2.5323546e-04 9.6872175e-04 8.4...</td>\n",
       "      <td>{'neutral': 0.05574873834848404, 'happiness': ...</td>\n",
       "    </tr>\n",
       "    <tr>\n",
       "      <th>2</th>\n",
       "      <td>2</td>\n",
       "      <td>\\n\\n\\nИнформации о этом ВУЗе в интернете нет (...</td>\n",
       "      <td>2</td>\n",
       "      <td>8</td>\n",
       "      <td>2022</td>\n",
       "      <td>Алфёровский университет</td>\n",
       "      <td>0.873096</td>\n",
       "      <td>[9.9036318e-01 2.5323546e-04 9.6872175e-04 8.4...</td>\n",
       "      <td>{'neutral': 0.05574873834848404, 'happiness': ...</td>\n",
       "    </tr>\n",
       "    <tr>\n",
       "      <th>3</th>\n",
       "      <td>3</td>\n",
       "      <td>\\n\\n\\nЗдравствуйте! Меня зовут Александр. Я жи...</td>\n",
       "      <td>1</td>\n",
       "      <td>11</td>\n",
       "      <td>2016</td>\n",
       "      <td>Алфёровский университет</td>\n",
       "      <td>0.740849</td>\n",
       "      <td>[9.9739707e-01 4.2771670e-04 2.7420663e-04 1.9...</td>\n",
       "      <td>{'neutral': 0.0005717346793971956, 'happiness'...</td>\n",
       "    </tr>\n",
       "    <tr>\n",
       "      <th>4</th>\n",
       "      <td>4</td>\n",
       "      <td>\\n\\n\\nИнформации о этом ВУЗе в интернете нет (...</td>\n",
       "      <td>8</td>\n",
       "      <td>6</td>\n",
       "      <td>2022</td>\n",
       "      <td>АмГМА</td>\n",
       "      <td>0.873096</td>\n",
       "      <td>[9.9036318e-01 2.5323546e-04 9.6872175e-04 8.4...</td>\n",
       "      <td>{'neutral': 0.05574873834848404, 'happiness': ...</td>\n",
       "    </tr>\n",
       "  </tbody>\n",
       "</table>\n",
       "</div>"
      ],
      "text/plain": [
       "   Unnamed: 0                                              Отзыв  День  Месяц  \\\n",
       "0           0  \\n\\n\\nИнформации о этом ВУЗе в интернете нет (...    21      8   \n",
       "1           1  \\n\\n\\nИнформации о этом ВУЗе в интернете нет (...    12      2   \n",
       "2           2  \\n\\n\\nИнформации о этом ВУЗе в интернете нет (...     2      8   \n",
       "3           3  \\n\\n\\nЗдравствуйте! Меня зовут Александр. Я жи...     1     11   \n",
       "4           4  \\n\\n\\nИнформации о этом ВУЗе в интернете нет (...     8      6   \n",
       "\n",
       "    Год              Университет  Тональность  \\\n",
       "0  2021                      АГУ     0.873096   \n",
       "1  2017                    АлтГУ     0.873096   \n",
       "2  2022  Алфёровский университет     0.873096   \n",
       "3  2016  Алфёровский университет     0.740849   \n",
       "4  2022                    АмГМА     0.873096   \n",
       "\n",
       "                                       Токсичность_1  \\\n",
       "0  [9.9212623e-01 2.3803227e-04 7.7745831e-04 6.8...   \n",
       "1  [9.9036318e-01 2.5323546e-04 9.6872175e-04 8.4...   \n",
       "2  [9.9036318e-01 2.5323546e-04 9.6872175e-04 8.4...   \n",
       "3  [9.9739707e-01 4.2771670e-04 2.7420663e-04 1.9...   \n",
       "4  [9.9036318e-01 2.5323546e-04 9.6872175e-04 8.4...   \n",
       "\n",
       "                                          Эмоции все  \n",
       "0  {'neutral': 0.0632552057504654, 'happiness': 0...  \n",
       "1  {'neutral': 0.05574873834848404, 'happiness': ...  \n",
       "2  {'neutral': 0.05574873834848404, 'happiness': ...  \n",
       "3  {'neutral': 0.0005717346793971956, 'happiness'...  \n",
       "4  {'neutral': 0.05574873834848404, 'happiness': ...  "
      ]
     },
     "execution_count": 4,
     "metadata": {},
     "output_type": "execute_result"
    }
   ],
   "source": [
    "df.head()"
   ]
  },
  {
   "cell_type": "code",
   "execution_count": 5,
   "id": "1d6af93c",
   "metadata": {
    "pycharm": {
     "name": "#%%\n"
    }
   },
   "outputs": [],
   "source": [
    "df = df.drop('Unnamed: 0', axis = 1)"
   ]
  },
  {
   "cell_type": "code",
   "execution_count": 31,
   "id": "90633209",
   "metadata": {
    "pycharm": {
     "name": "#%%\n"
    }
   },
   "outputs": [
    {
     "data": {
      "text/plain": [
       "['neutral', 'happiness', 'sadness', 'enthusiasm', 'fear', 'anger', 'disgust']"
      ]
     },
     "execution_count": 31,
     "metadata": {},
     "output_type": "execute_result"
    }
   ],
   "source": [
    "list(ast.literal_eval(df.iloc[0, -1]).keys())"
   ]
  },
  {
   "cell_type": "code",
   "execution_count": 26,
   "id": "772daeae",
   "metadata": {
    "pycharm": {
     "name": "#%%\n"
    }
   },
   "outputs": [],
   "source": [
    "neutral = []\n",
    "happiness = []\n",
    "sadness = []\n",
    "enthisiasm = []\n",
    "fear = []\n",
    "anger = []\n",
    "disgust = []"
   ]
  },
  {
   "cell_type": "code",
   "execution_count": 33,
   "id": "d8e6401e",
   "metadata": {
    "pycharm": {
     "name": "#%%\n"
    }
   },
   "outputs": [],
   "source": [
    "import ast\n",
    "for i in range(len(df)):\n",
    "    dic = ast.literal_eval(df.iloc[i, -1])\n",
    "    keys_list = list(dic.keys())\n",
    "    neutral.append(dic[keys_list[0]])\n",
    "    happiness.append(dic[keys_list[1]])\n",
    "    sadness.append(dic[keys_list[2]])\n",
    "    enthisiasm.append(dic[keys_list[3]])\n",
    "    fear.append(dic[keys_list[4]])\n",
    "    anger.append(dic[keys_list[5]])\n",
    "    disgust.append(dic[keys_list[6]])"
   ]
  },
  {
   "cell_type": "code",
   "execution_count": 34,
   "id": "49312aab",
   "metadata": {
    "pycharm": {
     "name": "#%%\n"
    }
   },
   "outputs": [],
   "source": [
    "df['Нейтральность'] =neutral\n",
    "df['Счастье'] =happiness\n",
    "df['Грусть'] =sadness\n",
    "df['Энтузиазм'] =enthisiasm\n",
    "df['Страх'] =fear\n",
    "df['Гнев'] =anger\n",
    "df['Омерзение'] =disgust"
   ]
  },
  {
   "cell_type": "code",
   "execution_count": 36,
   "id": "53151840",
   "metadata": {
    "pycharm": {
     "name": "#%%\n"
    }
   },
   "outputs": [
    {
     "data": {
      "text/html": [
       "<div>\n",
       "<style scoped>\n",
       "    .dataframe tbody tr th:only-of-type {\n",
       "        vertical-align: middle;\n",
       "    }\n",
       "\n",
       "    .dataframe tbody tr th {\n",
       "        vertical-align: top;\n",
       "    }\n",
       "\n",
       "    .dataframe thead th {\n",
       "        text-align: right;\n",
       "    }\n",
       "</style>\n",
       "<table border=\"1\" class=\"dataframe\">\n",
       "  <thead>\n",
       "    <tr style=\"text-align: right;\">\n",
       "      <th></th>\n",
       "      <th>Отзыв</th>\n",
       "      <th>День</th>\n",
       "      <th>Месяц</th>\n",
       "      <th>Год</th>\n",
       "      <th>Университет</th>\n",
       "      <th>Тональность</th>\n",
       "      <th>Токсичность_1</th>\n",
       "      <th>Нейтральность</th>\n",
       "      <th>Счастье</th>\n",
       "      <th>Грусть</th>\n",
       "      <th>Энтузиазм</th>\n",
       "      <th>Страх</th>\n",
       "      <th>Гнев</th>\n",
       "      <th>Омерзение</th>\n",
       "    </tr>\n",
       "  </thead>\n",
       "  <tbody>\n",
       "    <tr>\n",
       "      <th>0</th>\n",
       "      <td>\\n\\n\\nИнформации о этом ВУЗе в интернете нет (...</td>\n",
       "      <td>21</td>\n",
       "      <td>8</td>\n",
       "      <td>2021</td>\n",
       "      <td>АГУ</td>\n",
       "      <td>0.873096</td>\n",
       "      <td>[9.9212623e-01 2.3803227e-04 7.7745831e-04 6.8...</td>\n",
       "      <td>0.063255</td>\n",
       "      <td>0.007993</td>\n",
       "      <td>0.073879</td>\n",
       "      <td>0.075028</td>\n",
       "      <td>0.340905</td>\n",
       "      <td>0.426850</td>\n",
       "      <td>0.012089</td>\n",
       "    </tr>\n",
       "    <tr>\n",
       "      <th>1</th>\n",
       "      <td>\\n\\n\\nИнформации о этом ВУЗе в интернете нет (...</td>\n",
       "      <td>12</td>\n",
       "      <td>2</td>\n",
       "      <td>2017</td>\n",
       "      <td>АлтГУ</td>\n",
       "      <td>0.873096</td>\n",
       "      <td>[9.9036318e-01 2.5323546e-04 9.6872175e-04 8.4...</td>\n",
       "      <td>0.055749</td>\n",
       "      <td>0.008816</td>\n",
       "      <td>0.055222</td>\n",
       "      <td>0.073989</td>\n",
       "      <td>0.418997</td>\n",
       "      <td>0.375676</td>\n",
       "      <td>0.011551</td>\n",
       "    </tr>\n",
       "    <tr>\n",
       "      <th>2</th>\n",
       "      <td>\\n\\n\\nИнформации о этом ВУЗе в интернете нет (...</td>\n",
       "      <td>2</td>\n",
       "      <td>8</td>\n",
       "      <td>2022</td>\n",
       "      <td>Алфёровский университет</td>\n",
       "      <td>0.873096</td>\n",
       "      <td>[9.9036318e-01 2.5323546e-04 9.6872175e-04 8.4...</td>\n",
       "      <td>0.055749</td>\n",
       "      <td>0.008816</td>\n",
       "      <td>0.055222</td>\n",
       "      <td>0.073989</td>\n",
       "      <td>0.418997</td>\n",
       "      <td>0.375676</td>\n",
       "      <td>0.011551</td>\n",
       "    </tr>\n",
       "    <tr>\n",
       "      <th>3</th>\n",
       "      <td>\\n\\n\\nЗдравствуйте! Меня зовут Александр. Я жи...</td>\n",
       "      <td>1</td>\n",
       "      <td>11</td>\n",
       "      <td>2016</td>\n",
       "      <td>Алфёровский университет</td>\n",
       "      <td>0.740849</td>\n",
       "      <td>[9.9739707e-01 4.2771670e-04 2.7420663e-04 1.9...</td>\n",
       "      <td>0.000572</td>\n",
       "      <td>0.997080</td>\n",
       "      <td>0.000349</td>\n",
       "      <td>0.000537</td>\n",
       "      <td>0.000694</td>\n",
       "      <td>0.000580</td>\n",
       "      <td>0.000188</td>\n",
       "    </tr>\n",
       "    <tr>\n",
       "      <th>4</th>\n",
       "      <td>\\n\\n\\nИнформации о этом ВУЗе в интернете нет (...</td>\n",
       "      <td>8</td>\n",
       "      <td>6</td>\n",
       "      <td>2022</td>\n",
       "      <td>АмГМА</td>\n",
       "      <td>0.873096</td>\n",
       "      <td>[9.9036318e-01 2.5323546e-04 9.6872175e-04 8.4...</td>\n",
       "      <td>0.055749</td>\n",
       "      <td>0.008816</td>\n",
       "      <td>0.055222</td>\n",
       "      <td>0.073989</td>\n",
       "      <td>0.418997</td>\n",
       "      <td>0.375676</td>\n",
       "      <td>0.011551</td>\n",
       "    </tr>\n",
       "    <tr>\n",
       "      <th>...</th>\n",
       "      <td>...</td>\n",
       "      <td>...</td>\n",
       "      <td>...</td>\n",
       "      <td>...</td>\n",
       "      <td>...</td>\n",
       "      <td>...</td>\n",
       "      <td>...</td>\n",
       "      <td>...</td>\n",
       "      <td>...</td>\n",
       "      <td>...</td>\n",
       "      <td>...</td>\n",
       "      <td>...</td>\n",
       "      <td>...</td>\n",
       "      <td>...</td>\n",
       "    </tr>\n",
       "    <tr>\n",
       "      <th>1696</th>\n",
       "      <td>\\n\\n\\nЗа 5 лет повидала многого, но по порядку...</td>\n",
       "      <td>8</td>\n",
       "      <td>11</td>\n",
       "      <td>2017</td>\n",
       "      <td>ЮФУ</td>\n",
       "      <td>0.113793</td>\n",
       "      <td>[9.7855365e-01 2.7898338e-04 1.7375285e-03 1.9...</td>\n",
       "      <td>0.015183</td>\n",
       "      <td>0.017380</td>\n",
       "      <td>0.103969</td>\n",
       "      <td>0.009312</td>\n",
       "      <td>0.176968</td>\n",
       "      <td>0.665495</td>\n",
       "      <td>0.011693</td>\n",
       "    </tr>\n",
       "    <tr>\n",
       "      <th>1697</th>\n",
       "      <td>\\n\\n\\nИнформации о этом ВУЗе в интернете нет (...</td>\n",
       "      <td>23</td>\n",
       "      <td>6</td>\n",
       "      <td>2021</td>\n",
       "      <td>ЯГПУ им. Ушинского</td>\n",
       "      <td>0.873096</td>\n",
       "      <td>[9.9036318e-01 2.5323546e-04 9.6872175e-04 8.4...</td>\n",
       "      <td>0.055749</td>\n",
       "      <td>0.008816</td>\n",
       "      <td>0.055222</td>\n",
       "      <td>0.073989</td>\n",
       "      <td>0.418997</td>\n",
       "      <td>0.375676</td>\n",
       "      <td>0.011551</td>\n",
       "    </tr>\n",
       "    <tr>\n",
       "      <th>1698</th>\n",
       "      <td>\\n\\n\\nЗдравствуйте! Меня зовут Александр. Я жи...</td>\n",
       "      <td>1</td>\n",
       "      <td>3</td>\n",
       "      <td>2021</td>\n",
       "      <td>ЯГПУ им. Ушинского</td>\n",
       "      <td>0.740849</td>\n",
       "      <td>[9.9739707e-01 4.2771670e-04 2.7420663e-04 1.9...</td>\n",
       "      <td>0.000572</td>\n",
       "      <td>0.997080</td>\n",
       "      <td>0.000349</td>\n",
       "      <td>0.000537</td>\n",
       "      <td>0.000694</td>\n",
       "      <td>0.000580</td>\n",
       "      <td>0.000188</td>\n",
       "    </tr>\n",
       "    <tr>\n",
       "      <th>1699</th>\n",
       "      <td>\\n\\n\\nС удивлением для себя обнаружил, что про...</td>\n",
       "      <td>16</td>\n",
       "      <td>2</td>\n",
       "      <td>2021</td>\n",
       "      <td>ЯГПУ им. Ушинского</td>\n",
       "      <td>0.556827</td>\n",
       "      <td>[9.9618870e-01 2.4497230e-04 3.8222753e-04 3.1...</td>\n",
       "      <td>0.005898</td>\n",
       "      <td>0.124570</td>\n",
       "      <td>0.002152</td>\n",
       "      <td>0.817556</td>\n",
       "      <td>0.026515</td>\n",
       "      <td>0.018281</td>\n",
       "      <td>0.005029</td>\n",
       "    </tr>\n",
       "    <tr>\n",
       "      <th>1700</th>\n",
       "      <td>\\n\\n\\nИнформации о этом ВУЗе в интернете нет (...</td>\n",
       "      <td>20</td>\n",
       "      <td>2</td>\n",
       "      <td>2023</td>\n",
       "      <td>ЯрГУ</td>\n",
       "      <td>0.873096</td>\n",
       "      <td>[9.9036318e-01 2.5323546e-04 9.6872175e-04 8.4...</td>\n",
       "      <td>0.055749</td>\n",
       "      <td>0.008816</td>\n",
       "      <td>0.055222</td>\n",
       "      <td>0.073989</td>\n",
       "      <td>0.418997</td>\n",
       "      <td>0.375676</td>\n",
       "      <td>0.011551</td>\n",
       "    </tr>\n",
       "  </tbody>\n",
       "</table>\n",
       "<p>1701 rows × 14 columns</p>\n",
       "</div>"
      ],
      "text/plain": [
       "                                                  Отзыв  День  Месяц   Год  \\\n",
       "0     \\n\\n\\nИнформации о этом ВУЗе в интернете нет (...    21      8  2021   \n",
       "1     \\n\\n\\nИнформации о этом ВУЗе в интернете нет (...    12      2  2017   \n",
       "2     \\n\\n\\nИнформации о этом ВУЗе в интернете нет (...     2      8  2022   \n",
       "3     \\n\\n\\nЗдравствуйте! Меня зовут Александр. Я жи...     1     11  2016   \n",
       "4     \\n\\n\\nИнформации о этом ВУЗе в интернете нет (...     8      6  2022   \n",
       "...                                                 ...   ...    ...   ...   \n",
       "1696  \\n\\n\\nЗа 5 лет повидала многого, но по порядку...     8     11  2017   \n",
       "1697  \\n\\n\\nИнформации о этом ВУЗе в интернете нет (...    23      6  2021   \n",
       "1698  \\n\\n\\nЗдравствуйте! Меня зовут Александр. Я жи...     1      3  2021   \n",
       "1699  \\n\\n\\nС удивлением для себя обнаружил, что про...    16      2  2021   \n",
       "1700  \\n\\n\\nИнформации о этом ВУЗе в интернете нет (...    20      2  2023   \n",
       "\n",
       "                  Университет  Тональность  \\\n",
       "0                         АГУ     0.873096   \n",
       "1                       АлтГУ     0.873096   \n",
       "2     Алфёровский университет     0.873096   \n",
       "3     Алфёровский университет     0.740849   \n",
       "4                       АмГМА     0.873096   \n",
       "...                       ...          ...   \n",
       "1696                      ЮФУ     0.113793   \n",
       "1697       ЯГПУ им. Ушинского     0.873096   \n",
       "1698       ЯГПУ им. Ушинского     0.740849   \n",
       "1699       ЯГПУ им. Ушинского     0.556827   \n",
       "1700                     ЯрГУ     0.873096   \n",
       "\n",
       "                                          Токсичность_1  Нейтральность  \\\n",
       "0     [9.9212623e-01 2.3803227e-04 7.7745831e-04 6.8...       0.063255   \n",
       "1     [9.9036318e-01 2.5323546e-04 9.6872175e-04 8.4...       0.055749   \n",
       "2     [9.9036318e-01 2.5323546e-04 9.6872175e-04 8.4...       0.055749   \n",
       "3     [9.9739707e-01 4.2771670e-04 2.7420663e-04 1.9...       0.000572   \n",
       "4     [9.9036318e-01 2.5323546e-04 9.6872175e-04 8.4...       0.055749   \n",
       "...                                                 ...            ...   \n",
       "1696  [9.7855365e-01 2.7898338e-04 1.7375285e-03 1.9...       0.015183   \n",
       "1697  [9.9036318e-01 2.5323546e-04 9.6872175e-04 8.4...       0.055749   \n",
       "1698  [9.9739707e-01 4.2771670e-04 2.7420663e-04 1.9...       0.000572   \n",
       "1699  [9.9618870e-01 2.4497230e-04 3.8222753e-04 3.1...       0.005898   \n",
       "1700  [9.9036318e-01 2.5323546e-04 9.6872175e-04 8.4...       0.055749   \n",
       "\n",
       "       Счастье    Грусть  Энтузиазм     Страх      Гнев  Омерзение  \n",
       "0     0.007993  0.073879   0.075028  0.340905  0.426850   0.012089  \n",
       "1     0.008816  0.055222   0.073989  0.418997  0.375676   0.011551  \n",
       "2     0.008816  0.055222   0.073989  0.418997  0.375676   0.011551  \n",
       "3     0.997080  0.000349   0.000537  0.000694  0.000580   0.000188  \n",
       "4     0.008816  0.055222   0.073989  0.418997  0.375676   0.011551  \n",
       "...        ...       ...        ...       ...       ...        ...  \n",
       "1696  0.017380  0.103969   0.009312  0.176968  0.665495   0.011693  \n",
       "1697  0.008816  0.055222   0.073989  0.418997  0.375676   0.011551  \n",
       "1698  0.997080  0.000349   0.000537  0.000694  0.000580   0.000188  \n",
       "1699  0.124570  0.002152   0.817556  0.026515  0.018281   0.005029  \n",
       "1700  0.008816  0.055222   0.073989  0.418997  0.375676   0.011551  \n",
       "\n",
       "[1701 rows x 14 columns]"
      ]
     },
     "execution_count": 36,
     "metadata": {},
     "output_type": "execute_result"
    }
   ],
   "source": [
    "df = df.drop('Эмоции все', axis = 1)\n",
    "df"
   ]
  },
  {
   "cell_type": "code",
   "execution_count": 39,
   "id": "3bd4240f",
   "metadata": {
    "pycharm": {
     "name": "#%%\n"
    }
   },
   "outputs": [
    {
     "data": {
      "text/plain": [
       "['[9.9212623e-01', '2.3803227e-04', '7.7745831e-04', '6.8582166e-03]']"
      ]
     },
     "execution_count": 39,
     "metadata": {},
     "output_type": "execute_result"
    }
   ],
   "source": [
    "df['Токсичность_1'][0].split()"
   ]
  },
  {
   "cell_type": "code",
   "execution_count": 40,
   "id": "62ce01c2",
   "metadata": {
    "pycharm": {
     "name": "#%%\n"
    }
   },
   "outputs": [],
   "source": [
    "ok_percent = []\n",
    "toxic_percent = []\n",
    "sever_toxic = []\n",
    "risk_toxic = []"
   ]
  },
  {
   "cell_type": "code",
   "execution_count": 41,
   "id": "18c84652",
   "metadata": {
    "pycharm": {
     "name": "#%%\n"
    }
   },
   "outputs": [],
   "source": [
    "for i in df['Токсичность_1']:\n",
    "    toxix_values = i.split()\n",
    "    ok_percent.append(toxix_values[0])\n",
    "    toxic_percent.append(toxix_values[1])\n",
    "    sever_toxic.append(toxix_values[2])\n",
    "    risk_toxic.append(toxix_values[3])"
   ]
  },
  {
   "cell_type": "code",
   "execution_count": 42,
   "id": "d4e030aa",
   "metadata": {
    "pycharm": {
     "name": "#%%\n"
    }
   },
   "outputs": [],
   "source": [
    "df['Токсичность в пределах нормы'] = ok_percent\n",
    "df['Контекстная токсичность'] = toxic_percent\n",
    "df['Серьезная токсичность'] = sever_toxic\n",
    "df['Рискованная токсичность'] = risk_toxic"
   ]
  },
  {
   "cell_type": "code",
   "execution_count": 50,
   "id": "2e284d96",
   "metadata": {
    "pycharm": {
     "name": "#%%\n"
    }
   },
   "outputs": [],
   "source": [
    "df['Контекстная токсичность'] = pd.to_numeric(df['Контекстная токсичность'])"
   ]
  },
  {
   "cell_type": "code",
   "execution_count": 51,
   "id": "d24fa28e",
   "metadata": {
    "pycharm": {
     "name": "#%%\n"
    }
   },
   "outputs": [],
   "source": [
    "df['Серьезная токсичность']= pd.to_numeric(df['Серьезная токсичность'])"
   ]
  },
  {
   "cell_type": "code",
   "execution_count": 62,
   "id": "289b56df",
   "metadata": {
    "pycharm": {
     "name": "#%%\n"
    }
   },
   "outputs": [
    {
     "name": "stderr",
     "output_type": "stream",
     "text": [
      "C:\\Users\\Iljam\\AppData\\Local\\Temp\\ipykernel_8104\\3831276102.py:2: SettingWithCopyWarning: \n",
      "A value is trying to be set on a copy of a slice from a DataFrame\n",
      "\n",
      "See the caveats in the documentation: https://pandas.pydata.org/pandas-docs/stable/user_guide/indexing.html#returning-a-view-versus-a-copy\n",
      "  df['Токсичность в пределах нормы'][i] = element[1:]\n"
     ]
    }
   ],
   "source": [
    "for i, element in enumerate(df['Токсичность в пределах нормы']):\n",
    "    df['Токсичность в пределах нормы'][i] = element[1:]"
   ]
  },
  {
   "cell_type": "code",
   "execution_count": 63,
   "id": "86c18423",
   "metadata": {
    "pycharm": {
     "name": "#%%\n"
    }
   },
   "outputs": [],
   "source": [
    "df['Токсичность в пределах нормы'] = pd.to_numeric(df['Токсичность в пределах нормы'])"
   ]
  },
  {
   "cell_type": "code",
   "execution_count": 64,
   "id": "445cd01a",
   "metadata": {
    "pycharm": {
     "name": "#%%\n"
    }
   },
   "outputs": [
    {
     "data": {
      "text/html": [
       "<div>\n",
       "<style scoped>\n",
       "    .dataframe tbody tr th:only-of-type {\n",
       "        vertical-align: middle;\n",
       "    }\n",
       "\n",
       "    .dataframe tbody tr th {\n",
       "        vertical-align: top;\n",
       "    }\n",
       "\n",
       "    .dataframe thead th {\n",
       "        text-align: right;\n",
       "    }\n",
       "</style>\n",
       "<table border=\"1\" class=\"dataframe\">\n",
       "  <thead>\n",
       "    <tr style=\"text-align: right;\">\n",
       "      <th></th>\n",
       "      <th>Отзыв</th>\n",
       "      <th>День</th>\n",
       "      <th>Месяц</th>\n",
       "      <th>Год</th>\n",
       "      <th>Университет</th>\n",
       "      <th>Тональность</th>\n",
       "      <th>Токсичность_1</th>\n",
       "      <th>Нейтральность</th>\n",
       "      <th>Счастье</th>\n",
       "      <th>Грусть</th>\n",
       "      <th>Энтузиазм</th>\n",
       "      <th>Страх</th>\n",
       "      <th>Гнев</th>\n",
       "      <th>Омерзение</th>\n",
       "      <th>Токсичность в пределах нормы</th>\n",
       "      <th>Контекстная токсичность</th>\n",
       "      <th>Серьезная токсичность</th>\n",
       "      <th>Рискованная токсичность</th>\n",
       "    </tr>\n",
       "  </thead>\n",
       "  <tbody>\n",
       "    <tr>\n",
       "      <th>0</th>\n",
       "      <td>\\n\\n\\nИнформации о этом ВУЗе в интернете нет (...</td>\n",
       "      <td>21</td>\n",
       "      <td>8</td>\n",
       "      <td>2021</td>\n",
       "      <td>АГУ</td>\n",
       "      <td>0.873096</td>\n",
       "      <td>[9.9212623e-01 2.3803227e-04 7.7745831e-04 6.8...</td>\n",
       "      <td>0.063255</td>\n",
       "      <td>0.007993</td>\n",
       "      <td>0.073879</td>\n",
       "      <td>0.075028</td>\n",
       "      <td>0.340905</td>\n",
       "      <td>0.426850</td>\n",
       "      <td>0.012089</td>\n",
       "      <td>0.992126</td>\n",
       "      <td>0.000238</td>\n",
       "      <td>0.000777</td>\n",
       "      <td>6.8582166e-03]</td>\n",
       "    </tr>\n",
       "    <tr>\n",
       "      <th>1</th>\n",
       "      <td>\\n\\n\\nИнформации о этом ВУЗе в интернете нет (...</td>\n",
       "      <td>12</td>\n",
       "      <td>2</td>\n",
       "      <td>2017</td>\n",
       "      <td>АлтГУ</td>\n",
       "      <td>0.873096</td>\n",
       "      <td>[9.9036318e-01 2.5323546e-04 9.6872175e-04 8.4...</td>\n",
       "      <td>0.055749</td>\n",
       "      <td>0.008816</td>\n",
       "      <td>0.055222</td>\n",
       "      <td>0.073989</td>\n",
       "      <td>0.418997</td>\n",
       "      <td>0.375676</td>\n",
       "      <td>0.011551</td>\n",
       "      <td>0.990363</td>\n",
       "      <td>0.000253</td>\n",
       "      <td>0.000969</td>\n",
       "      <td>8.4148953e-03]</td>\n",
       "    </tr>\n",
       "    <tr>\n",
       "      <th>2</th>\n",
       "      <td>\\n\\n\\nИнформации о этом ВУЗе в интернете нет (...</td>\n",
       "      <td>2</td>\n",
       "      <td>8</td>\n",
       "      <td>2022</td>\n",
       "      <td>Алфёровский университет</td>\n",
       "      <td>0.873096</td>\n",
       "      <td>[9.9036318e-01 2.5323546e-04 9.6872175e-04 8.4...</td>\n",
       "      <td>0.055749</td>\n",
       "      <td>0.008816</td>\n",
       "      <td>0.055222</td>\n",
       "      <td>0.073989</td>\n",
       "      <td>0.418997</td>\n",
       "      <td>0.375676</td>\n",
       "      <td>0.011551</td>\n",
       "      <td>0.990363</td>\n",
       "      <td>0.000253</td>\n",
       "      <td>0.000969</td>\n",
       "      <td>8.4148953e-03]</td>\n",
       "    </tr>\n",
       "    <tr>\n",
       "      <th>3</th>\n",
       "      <td>\\n\\n\\nЗдравствуйте! Меня зовут Александр. Я жи...</td>\n",
       "      <td>1</td>\n",
       "      <td>11</td>\n",
       "      <td>2016</td>\n",
       "      <td>Алфёровский университет</td>\n",
       "      <td>0.740849</td>\n",
       "      <td>[9.9739707e-01 4.2771670e-04 2.7420663e-04 1.9...</td>\n",
       "      <td>0.000572</td>\n",
       "      <td>0.997080</td>\n",
       "      <td>0.000349</td>\n",
       "      <td>0.000537</td>\n",
       "      <td>0.000694</td>\n",
       "      <td>0.000580</td>\n",
       "      <td>0.000188</td>\n",
       "      <td>0.997397</td>\n",
       "      <td>0.000428</td>\n",
       "      <td>0.000274</td>\n",
       "      <td>1.9010528e-03]</td>\n",
       "    </tr>\n",
       "    <tr>\n",
       "      <th>4</th>\n",
       "      <td>\\n\\n\\nИнформации о этом ВУЗе в интернете нет (...</td>\n",
       "      <td>8</td>\n",
       "      <td>6</td>\n",
       "      <td>2022</td>\n",
       "      <td>АмГМА</td>\n",
       "      <td>0.873096</td>\n",
       "      <td>[9.9036318e-01 2.5323546e-04 9.6872175e-04 8.4...</td>\n",
       "      <td>0.055749</td>\n",
       "      <td>0.008816</td>\n",
       "      <td>0.055222</td>\n",
       "      <td>0.073989</td>\n",
       "      <td>0.418997</td>\n",
       "      <td>0.375676</td>\n",
       "      <td>0.011551</td>\n",
       "      <td>0.990363</td>\n",
       "      <td>0.000253</td>\n",
       "      <td>0.000969</td>\n",
       "      <td>8.4148953e-03]</td>\n",
       "    </tr>\n",
       "    <tr>\n",
       "      <th>...</th>\n",
       "      <td>...</td>\n",
       "      <td>...</td>\n",
       "      <td>...</td>\n",
       "      <td>...</td>\n",
       "      <td>...</td>\n",
       "      <td>...</td>\n",
       "      <td>...</td>\n",
       "      <td>...</td>\n",
       "      <td>...</td>\n",
       "      <td>...</td>\n",
       "      <td>...</td>\n",
       "      <td>...</td>\n",
       "      <td>...</td>\n",
       "      <td>...</td>\n",
       "      <td>...</td>\n",
       "      <td>...</td>\n",
       "      <td>...</td>\n",
       "      <td>...</td>\n",
       "    </tr>\n",
       "    <tr>\n",
       "      <th>1696</th>\n",
       "      <td>\\n\\n\\nЗа 5 лет повидала многого, но по порядку...</td>\n",
       "      <td>8</td>\n",
       "      <td>11</td>\n",
       "      <td>2017</td>\n",
       "      <td>ЮФУ</td>\n",
       "      <td>0.113793</td>\n",
       "      <td>[9.7855365e-01 2.7898338e-04 1.7375285e-03 1.9...</td>\n",
       "      <td>0.015183</td>\n",
       "      <td>0.017380</td>\n",
       "      <td>0.103969</td>\n",
       "      <td>0.009312</td>\n",
       "      <td>0.176968</td>\n",
       "      <td>0.665495</td>\n",
       "      <td>0.011693</td>\n",
       "      <td>0.978554</td>\n",
       "      <td>0.000279</td>\n",
       "      <td>0.001738</td>\n",
       "      <td>1.9429790e-02]</td>\n",
       "    </tr>\n",
       "    <tr>\n",
       "      <th>1697</th>\n",
       "      <td>\\n\\n\\nИнформации о этом ВУЗе в интернете нет (...</td>\n",
       "      <td>23</td>\n",
       "      <td>6</td>\n",
       "      <td>2021</td>\n",
       "      <td>ЯГПУ им. Ушинского</td>\n",
       "      <td>0.873096</td>\n",
       "      <td>[9.9036318e-01 2.5323546e-04 9.6872175e-04 8.4...</td>\n",
       "      <td>0.055749</td>\n",
       "      <td>0.008816</td>\n",
       "      <td>0.055222</td>\n",
       "      <td>0.073989</td>\n",
       "      <td>0.418997</td>\n",
       "      <td>0.375676</td>\n",
       "      <td>0.011551</td>\n",
       "      <td>0.990363</td>\n",
       "      <td>0.000253</td>\n",
       "      <td>0.000969</td>\n",
       "      <td>8.4148953e-03]</td>\n",
       "    </tr>\n",
       "    <tr>\n",
       "      <th>1698</th>\n",
       "      <td>\\n\\n\\nЗдравствуйте! Меня зовут Александр. Я жи...</td>\n",
       "      <td>1</td>\n",
       "      <td>3</td>\n",
       "      <td>2021</td>\n",
       "      <td>ЯГПУ им. Ушинского</td>\n",
       "      <td>0.740849</td>\n",
       "      <td>[9.9739707e-01 4.2771670e-04 2.7420663e-04 1.9...</td>\n",
       "      <td>0.000572</td>\n",
       "      <td>0.997080</td>\n",
       "      <td>0.000349</td>\n",
       "      <td>0.000537</td>\n",
       "      <td>0.000694</td>\n",
       "      <td>0.000580</td>\n",
       "      <td>0.000188</td>\n",
       "      <td>0.997397</td>\n",
       "      <td>0.000428</td>\n",
       "      <td>0.000274</td>\n",
       "      <td>1.9010528e-03]</td>\n",
       "    </tr>\n",
       "    <tr>\n",
       "      <th>1699</th>\n",
       "      <td>\\n\\n\\nС удивлением для себя обнаружил, что про...</td>\n",
       "      <td>16</td>\n",
       "      <td>2</td>\n",
       "      <td>2021</td>\n",
       "      <td>ЯГПУ им. Ушинского</td>\n",
       "      <td>0.556827</td>\n",
       "      <td>[9.9618870e-01 2.4497230e-04 3.8222753e-04 3.1...</td>\n",
       "      <td>0.005898</td>\n",
       "      <td>0.124570</td>\n",
       "      <td>0.002152</td>\n",
       "      <td>0.817556</td>\n",
       "      <td>0.026515</td>\n",
       "      <td>0.018281</td>\n",
       "      <td>0.005029</td>\n",
       "      <td>0.996189</td>\n",
       "      <td>0.000245</td>\n",
       "      <td>0.000382</td>\n",
       "      <td>3.1840086e-03]</td>\n",
       "    </tr>\n",
       "    <tr>\n",
       "      <th>1700</th>\n",
       "      <td>\\n\\n\\nИнформации о этом ВУЗе в интернете нет (...</td>\n",
       "      <td>20</td>\n",
       "      <td>2</td>\n",
       "      <td>2023</td>\n",
       "      <td>ЯрГУ</td>\n",
       "      <td>0.873096</td>\n",
       "      <td>[9.9036318e-01 2.5323546e-04 9.6872175e-04 8.4...</td>\n",
       "      <td>0.055749</td>\n",
       "      <td>0.008816</td>\n",
       "      <td>0.055222</td>\n",
       "      <td>0.073989</td>\n",
       "      <td>0.418997</td>\n",
       "      <td>0.375676</td>\n",
       "      <td>0.011551</td>\n",
       "      <td>0.990363</td>\n",
       "      <td>0.000253</td>\n",
       "      <td>0.000969</td>\n",
       "      <td>8.4148953e-03]</td>\n",
       "    </tr>\n",
       "  </tbody>\n",
       "</table>\n",
       "<p>1701 rows × 18 columns</p>\n",
       "</div>"
      ],
      "text/plain": [
       "                                                  Отзыв  День  Месяц   Год  \\\n",
       "0     \\n\\n\\nИнформации о этом ВУЗе в интернете нет (...    21      8  2021   \n",
       "1     \\n\\n\\nИнформации о этом ВУЗе в интернете нет (...    12      2  2017   \n",
       "2     \\n\\n\\nИнформации о этом ВУЗе в интернете нет (...     2      8  2022   \n",
       "3     \\n\\n\\nЗдравствуйте! Меня зовут Александр. Я жи...     1     11  2016   \n",
       "4     \\n\\n\\nИнформации о этом ВУЗе в интернете нет (...     8      6  2022   \n",
       "...                                                 ...   ...    ...   ...   \n",
       "1696  \\n\\n\\nЗа 5 лет повидала многого, но по порядку...     8     11  2017   \n",
       "1697  \\n\\n\\nИнформации о этом ВУЗе в интернете нет (...    23      6  2021   \n",
       "1698  \\n\\n\\nЗдравствуйте! Меня зовут Александр. Я жи...     1      3  2021   \n",
       "1699  \\n\\n\\nС удивлением для себя обнаружил, что про...    16      2  2021   \n",
       "1700  \\n\\n\\nИнформации о этом ВУЗе в интернете нет (...    20      2  2023   \n",
       "\n",
       "                  Университет  Тональность  \\\n",
       "0                         АГУ     0.873096   \n",
       "1                       АлтГУ     0.873096   \n",
       "2     Алфёровский университет     0.873096   \n",
       "3     Алфёровский университет     0.740849   \n",
       "4                       АмГМА     0.873096   \n",
       "...                       ...          ...   \n",
       "1696                      ЮФУ     0.113793   \n",
       "1697       ЯГПУ им. Ушинского     0.873096   \n",
       "1698       ЯГПУ им. Ушинского     0.740849   \n",
       "1699       ЯГПУ им. Ушинского     0.556827   \n",
       "1700                     ЯрГУ     0.873096   \n",
       "\n",
       "                                          Токсичность_1  Нейтральность  \\\n",
       "0     [9.9212623e-01 2.3803227e-04 7.7745831e-04 6.8...       0.063255   \n",
       "1     [9.9036318e-01 2.5323546e-04 9.6872175e-04 8.4...       0.055749   \n",
       "2     [9.9036318e-01 2.5323546e-04 9.6872175e-04 8.4...       0.055749   \n",
       "3     [9.9739707e-01 4.2771670e-04 2.7420663e-04 1.9...       0.000572   \n",
       "4     [9.9036318e-01 2.5323546e-04 9.6872175e-04 8.4...       0.055749   \n",
       "...                                                 ...            ...   \n",
       "1696  [9.7855365e-01 2.7898338e-04 1.7375285e-03 1.9...       0.015183   \n",
       "1697  [9.9036318e-01 2.5323546e-04 9.6872175e-04 8.4...       0.055749   \n",
       "1698  [9.9739707e-01 4.2771670e-04 2.7420663e-04 1.9...       0.000572   \n",
       "1699  [9.9618870e-01 2.4497230e-04 3.8222753e-04 3.1...       0.005898   \n",
       "1700  [9.9036318e-01 2.5323546e-04 9.6872175e-04 8.4...       0.055749   \n",
       "\n",
       "       Счастье    Грусть  Энтузиазм     Страх      Гнев  Омерзение  \\\n",
       "0     0.007993  0.073879   0.075028  0.340905  0.426850   0.012089   \n",
       "1     0.008816  0.055222   0.073989  0.418997  0.375676   0.011551   \n",
       "2     0.008816  0.055222   0.073989  0.418997  0.375676   0.011551   \n",
       "3     0.997080  0.000349   0.000537  0.000694  0.000580   0.000188   \n",
       "4     0.008816  0.055222   0.073989  0.418997  0.375676   0.011551   \n",
       "...        ...       ...        ...       ...       ...        ...   \n",
       "1696  0.017380  0.103969   0.009312  0.176968  0.665495   0.011693   \n",
       "1697  0.008816  0.055222   0.073989  0.418997  0.375676   0.011551   \n",
       "1698  0.997080  0.000349   0.000537  0.000694  0.000580   0.000188   \n",
       "1699  0.124570  0.002152   0.817556  0.026515  0.018281   0.005029   \n",
       "1700  0.008816  0.055222   0.073989  0.418997  0.375676   0.011551   \n",
       "\n",
       "      Токсичность в пределах нормы  Контекстная токсичность  \\\n",
       "0                         0.992126                 0.000238   \n",
       "1                         0.990363                 0.000253   \n",
       "2                         0.990363                 0.000253   \n",
       "3                         0.997397                 0.000428   \n",
       "4                         0.990363                 0.000253   \n",
       "...                            ...                      ...   \n",
       "1696                      0.978554                 0.000279   \n",
       "1697                      0.990363                 0.000253   \n",
       "1698                      0.997397                 0.000428   \n",
       "1699                      0.996189                 0.000245   \n",
       "1700                      0.990363                 0.000253   \n",
       "\n",
       "      Серьезная токсичность Рискованная токсичность  \n",
       "0                  0.000777          6.8582166e-03]  \n",
       "1                  0.000969          8.4148953e-03]  \n",
       "2                  0.000969          8.4148953e-03]  \n",
       "3                  0.000274          1.9010528e-03]  \n",
       "4                  0.000969          8.4148953e-03]  \n",
       "...                     ...                     ...  \n",
       "1696               0.001738          1.9429790e-02]  \n",
       "1697               0.000969          8.4148953e-03]  \n",
       "1698               0.000274          1.9010528e-03]  \n",
       "1699               0.000382          3.1840086e-03]  \n",
       "1700               0.000969          8.4148953e-03]  \n",
       "\n",
       "[1701 rows x 18 columns]"
      ]
     },
     "execution_count": 64,
     "metadata": {},
     "output_type": "execute_result"
    }
   ],
   "source": [
    "df"
   ]
  },
  {
   "cell_type": "code",
   "execution_count": 65,
   "id": "6f72f7a5",
   "metadata": {
    "pycharm": {
     "name": "#%%\n"
    }
   },
   "outputs": [
    {
     "name": "stderr",
     "output_type": "stream",
     "text": [
      "C:\\Users\\Iljam\\AppData\\Local\\Temp\\ipykernel_8104\\3957142037.py:2: SettingWithCopyWarning: \n",
      "A value is trying to be set on a copy of a slice from a DataFrame\n",
      "\n",
      "See the caveats in the documentation: https://pandas.pydata.org/pandas-docs/stable/user_guide/indexing.html#returning-a-view-versus-a-copy\n",
      "  df['Рискованная токсичность'][i] = element[:-1]\n"
     ]
    }
   ],
   "source": [
    "for i, element in enumerate(df['Рискованная токсичность']):\n",
    "    df['Рискованная токсичность'][i] = element[:-1]"
   ]
  },
  {
   "cell_type": "code",
   "execution_count": 68,
   "id": "a129f0c9",
   "metadata": {
    "pycharm": {
     "name": "#%%\n"
    }
   },
   "outputs": [],
   "source": [
    "df = df.drop('Токсичность_1', axis = 1)"
   ]
  },
  {
   "cell_type": "code",
   "execution_count": 69,
   "id": "6bdf03f9",
   "metadata": {
    "pycharm": {
     "name": "#%%\n"
    }
   },
   "outputs": [
    {
     "data": {
      "text/html": [
       "<div>\n",
       "<style scoped>\n",
       "    .dataframe tbody tr th:only-of-type {\n",
       "        vertical-align: middle;\n",
       "    }\n",
       "\n",
       "    .dataframe tbody tr th {\n",
       "        vertical-align: top;\n",
       "    }\n",
       "\n",
       "    .dataframe thead th {\n",
       "        text-align: right;\n",
       "    }\n",
       "</style>\n",
       "<table border=\"1\" class=\"dataframe\">\n",
       "  <thead>\n",
       "    <tr style=\"text-align: right;\">\n",
       "      <th></th>\n",
       "      <th>Отзыв</th>\n",
       "      <th>День</th>\n",
       "      <th>Месяц</th>\n",
       "      <th>Год</th>\n",
       "      <th>Университет</th>\n",
       "      <th>Тональность</th>\n",
       "      <th>Нейтральность</th>\n",
       "      <th>Счастье</th>\n",
       "      <th>Грусть</th>\n",
       "      <th>Энтузиазм</th>\n",
       "      <th>Страх</th>\n",
       "      <th>Гнев</th>\n",
       "      <th>Омерзение</th>\n",
       "      <th>Токсичность в пределах нормы</th>\n",
       "      <th>Контекстная токсичность</th>\n",
       "      <th>Серьезная токсичность</th>\n",
       "      <th>Рискованная токсичность</th>\n",
       "    </tr>\n",
       "  </thead>\n",
       "  <tbody>\n",
       "    <tr>\n",
       "      <th>0</th>\n",
       "      <td>\\n\\n\\nИнформации о этом ВУЗе в интернете нет (...</td>\n",
       "      <td>21</td>\n",
       "      <td>8</td>\n",
       "      <td>2021</td>\n",
       "      <td>АГУ</td>\n",
       "      <td>0.873096</td>\n",
       "      <td>0.063255</td>\n",
       "      <td>0.007993</td>\n",
       "      <td>0.073879</td>\n",
       "      <td>0.075028</td>\n",
       "      <td>0.340905</td>\n",
       "      <td>0.426850</td>\n",
       "      <td>0.012089</td>\n",
       "      <td>0.992126</td>\n",
       "      <td>0.000238</td>\n",
       "      <td>0.000777</td>\n",
       "      <td>6.8582166e-03</td>\n",
       "    </tr>\n",
       "    <tr>\n",
       "      <th>1</th>\n",
       "      <td>\\n\\n\\nИнформации о этом ВУЗе в интернете нет (...</td>\n",
       "      <td>12</td>\n",
       "      <td>2</td>\n",
       "      <td>2017</td>\n",
       "      <td>АлтГУ</td>\n",
       "      <td>0.873096</td>\n",
       "      <td>0.055749</td>\n",
       "      <td>0.008816</td>\n",
       "      <td>0.055222</td>\n",
       "      <td>0.073989</td>\n",
       "      <td>0.418997</td>\n",
       "      <td>0.375676</td>\n",
       "      <td>0.011551</td>\n",
       "      <td>0.990363</td>\n",
       "      <td>0.000253</td>\n",
       "      <td>0.000969</td>\n",
       "      <td>8.4148953e-03</td>\n",
       "    </tr>\n",
       "    <tr>\n",
       "      <th>2</th>\n",
       "      <td>\\n\\n\\nИнформации о этом ВУЗе в интернете нет (...</td>\n",
       "      <td>2</td>\n",
       "      <td>8</td>\n",
       "      <td>2022</td>\n",
       "      <td>Алфёровский университет</td>\n",
       "      <td>0.873096</td>\n",
       "      <td>0.055749</td>\n",
       "      <td>0.008816</td>\n",
       "      <td>0.055222</td>\n",
       "      <td>0.073989</td>\n",
       "      <td>0.418997</td>\n",
       "      <td>0.375676</td>\n",
       "      <td>0.011551</td>\n",
       "      <td>0.990363</td>\n",
       "      <td>0.000253</td>\n",
       "      <td>0.000969</td>\n",
       "      <td>8.4148953e-03</td>\n",
       "    </tr>\n",
       "    <tr>\n",
       "      <th>3</th>\n",
       "      <td>\\n\\n\\nЗдравствуйте! Меня зовут Александр. Я жи...</td>\n",
       "      <td>1</td>\n",
       "      <td>11</td>\n",
       "      <td>2016</td>\n",
       "      <td>Алфёровский университет</td>\n",
       "      <td>0.740849</td>\n",
       "      <td>0.000572</td>\n",
       "      <td>0.997080</td>\n",
       "      <td>0.000349</td>\n",
       "      <td>0.000537</td>\n",
       "      <td>0.000694</td>\n",
       "      <td>0.000580</td>\n",
       "      <td>0.000188</td>\n",
       "      <td>0.997397</td>\n",
       "      <td>0.000428</td>\n",
       "      <td>0.000274</td>\n",
       "      <td>1.9010528e-03</td>\n",
       "    </tr>\n",
       "    <tr>\n",
       "      <th>4</th>\n",
       "      <td>\\n\\n\\nИнформации о этом ВУЗе в интернете нет (...</td>\n",
       "      <td>8</td>\n",
       "      <td>6</td>\n",
       "      <td>2022</td>\n",
       "      <td>АмГМА</td>\n",
       "      <td>0.873096</td>\n",
       "      <td>0.055749</td>\n",
       "      <td>0.008816</td>\n",
       "      <td>0.055222</td>\n",
       "      <td>0.073989</td>\n",
       "      <td>0.418997</td>\n",
       "      <td>0.375676</td>\n",
       "      <td>0.011551</td>\n",
       "      <td>0.990363</td>\n",
       "      <td>0.000253</td>\n",
       "      <td>0.000969</td>\n",
       "      <td>8.4148953e-03</td>\n",
       "    </tr>\n",
       "    <tr>\n",
       "      <th>...</th>\n",
       "      <td>...</td>\n",
       "      <td>...</td>\n",
       "      <td>...</td>\n",
       "      <td>...</td>\n",
       "      <td>...</td>\n",
       "      <td>...</td>\n",
       "      <td>...</td>\n",
       "      <td>...</td>\n",
       "      <td>...</td>\n",
       "      <td>...</td>\n",
       "      <td>...</td>\n",
       "      <td>...</td>\n",
       "      <td>...</td>\n",
       "      <td>...</td>\n",
       "      <td>...</td>\n",
       "      <td>...</td>\n",
       "      <td>...</td>\n",
       "    </tr>\n",
       "    <tr>\n",
       "      <th>1696</th>\n",
       "      <td>\\n\\n\\nЗа 5 лет повидала многого, но по порядку...</td>\n",
       "      <td>8</td>\n",
       "      <td>11</td>\n",
       "      <td>2017</td>\n",
       "      <td>ЮФУ</td>\n",
       "      <td>0.113793</td>\n",
       "      <td>0.015183</td>\n",
       "      <td>0.017380</td>\n",
       "      <td>0.103969</td>\n",
       "      <td>0.009312</td>\n",
       "      <td>0.176968</td>\n",
       "      <td>0.665495</td>\n",
       "      <td>0.011693</td>\n",
       "      <td>0.978554</td>\n",
       "      <td>0.000279</td>\n",
       "      <td>0.001738</td>\n",
       "      <td>1.9429790e-02</td>\n",
       "    </tr>\n",
       "    <tr>\n",
       "      <th>1697</th>\n",
       "      <td>\\n\\n\\nИнформации о этом ВУЗе в интернете нет (...</td>\n",
       "      <td>23</td>\n",
       "      <td>6</td>\n",
       "      <td>2021</td>\n",
       "      <td>ЯГПУ им. Ушинского</td>\n",
       "      <td>0.873096</td>\n",
       "      <td>0.055749</td>\n",
       "      <td>0.008816</td>\n",
       "      <td>0.055222</td>\n",
       "      <td>0.073989</td>\n",
       "      <td>0.418997</td>\n",
       "      <td>0.375676</td>\n",
       "      <td>0.011551</td>\n",
       "      <td>0.990363</td>\n",
       "      <td>0.000253</td>\n",
       "      <td>0.000969</td>\n",
       "      <td>8.4148953e-03</td>\n",
       "    </tr>\n",
       "    <tr>\n",
       "      <th>1698</th>\n",
       "      <td>\\n\\n\\nЗдравствуйте! Меня зовут Александр. Я жи...</td>\n",
       "      <td>1</td>\n",
       "      <td>3</td>\n",
       "      <td>2021</td>\n",
       "      <td>ЯГПУ им. Ушинского</td>\n",
       "      <td>0.740849</td>\n",
       "      <td>0.000572</td>\n",
       "      <td>0.997080</td>\n",
       "      <td>0.000349</td>\n",
       "      <td>0.000537</td>\n",
       "      <td>0.000694</td>\n",
       "      <td>0.000580</td>\n",
       "      <td>0.000188</td>\n",
       "      <td>0.997397</td>\n",
       "      <td>0.000428</td>\n",
       "      <td>0.000274</td>\n",
       "      <td>1.9010528e-03</td>\n",
       "    </tr>\n",
       "    <tr>\n",
       "      <th>1699</th>\n",
       "      <td>\\n\\n\\nС удивлением для себя обнаружил, что про...</td>\n",
       "      <td>16</td>\n",
       "      <td>2</td>\n",
       "      <td>2021</td>\n",
       "      <td>ЯГПУ им. Ушинского</td>\n",
       "      <td>0.556827</td>\n",
       "      <td>0.005898</td>\n",
       "      <td>0.124570</td>\n",
       "      <td>0.002152</td>\n",
       "      <td>0.817556</td>\n",
       "      <td>0.026515</td>\n",
       "      <td>0.018281</td>\n",
       "      <td>0.005029</td>\n",
       "      <td>0.996189</td>\n",
       "      <td>0.000245</td>\n",
       "      <td>0.000382</td>\n",
       "      <td>3.1840086e-03</td>\n",
       "    </tr>\n",
       "    <tr>\n",
       "      <th>1700</th>\n",
       "      <td>\\n\\n\\nИнформации о этом ВУЗе в интернете нет (...</td>\n",
       "      <td>20</td>\n",
       "      <td>2</td>\n",
       "      <td>2023</td>\n",
       "      <td>ЯрГУ</td>\n",
       "      <td>0.873096</td>\n",
       "      <td>0.055749</td>\n",
       "      <td>0.008816</td>\n",
       "      <td>0.055222</td>\n",
       "      <td>0.073989</td>\n",
       "      <td>0.418997</td>\n",
       "      <td>0.375676</td>\n",
       "      <td>0.011551</td>\n",
       "      <td>0.990363</td>\n",
       "      <td>0.000253</td>\n",
       "      <td>0.000969</td>\n",
       "      <td>8.4148953e-03</td>\n",
       "    </tr>\n",
       "  </tbody>\n",
       "</table>\n",
       "<p>1701 rows × 17 columns</p>\n",
       "</div>"
      ],
      "text/plain": [
       "                                                  Отзыв  День  Месяц   Год  \\\n",
       "0     \\n\\n\\nИнформации о этом ВУЗе в интернете нет (...    21      8  2021   \n",
       "1     \\n\\n\\nИнформации о этом ВУЗе в интернете нет (...    12      2  2017   \n",
       "2     \\n\\n\\nИнформации о этом ВУЗе в интернете нет (...     2      8  2022   \n",
       "3     \\n\\n\\nЗдравствуйте! Меня зовут Александр. Я жи...     1     11  2016   \n",
       "4     \\n\\n\\nИнформации о этом ВУЗе в интернете нет (...     8      6  2022   \n",
       "...                                                 ...   ...    ...   ...   \n",
       "1696  \\n\\n\\nЗа 5 лет повидала многого, но по порядку...     8     11  2017   \n",
       "1697  \\n\\n\\nИнформации о этом ВУЗе в интернете нет (...    23      6  2021   \n",
       "1698  \\n\\n\\nЗдравствуйте! Меня зовут Александр. Я жи...     1      3  2021   \n",
       "1699  \\n\\n\\nС удивлением для себя обнаружил, что про...    16      2  2021   \n",
       "1700  \\n\\n\\nИнформации о этом ВУЗе в интернете нет (...    20      2  2023   \n",
       "\n",
       "                  Университет  Тональность  Нейтральность   Счастье    Грусть  \\\n",
       "0                         АГУ     0.873096       0.063255  0.007993  0.073879   \n",
       "1                       АлтГУ     0.873096       0.055749  0.008816  0.055222   \n",
       "2     Алфёровский университет     0.873096       0.055749  0.008816  0.055222   \n",
       "3     Алфёровский университет     0.740849       0.000572  0.997080  0.000349   \n",
       "4                       АмГМА     0.873096       0.055749  0.008816  0.055222   \n",
       "...                       ...          ...            ...       ...       ...   \n",
       "1696                      ЮФУ     0.113793       0.015183  0.017380  0.103969   \n",
       "1697       ЯГПУ им. Ушинского     0.873096       0.055749  0.008816  0.055222   \n",
       "1698       ЯГПУ им. Ушинского     0.740849       0.000572  0.997080  0.000349   \n",
       "1699       ЯГПУ им. Ушинского     0.556827       0.005898  0.124570  0.002152   \n",
       "1700                     ЯрГУ     0.873096       0.055749  0.008816  0.055222   \n",
       "\n",
       "      Энтузиазм     Страх      Гнев  Омерзение  Токсичность в пределах нормы  \\\n",
       "0      0.075028  0.340905  0.426850   0.012089                      0.992126   \n",
       "1      0.073989  0.418997  0.375676   0.011551                      0.990363   \n",
       "2      0.073989  0.418997  0.375676   0.011551                      0.990363   \n",
       "3      0.000537  0.000694  0.000580   0.000188                      0.997397   \n",
       "4      0.073989  0.418997  0.375676   0.011551                      0.990363   \n",
       "...         ...       ...       ...        ...                           ...   \n",
       "1696   0.009312  0.176968  0.665495   0.011693                      0.978554   \n",
       "1697   0.073989  0.418997  0.375676   0.011551                      0.990363   \n",
       "1698   0.000537  0.000694  0.000580   0.000188                      0.997397   \n",
       "1699   0.817556  0.026515  0.018281   0.005029                      0.996189   \n",
       "1700   0.073989  0.418997  0.375676   0.011551                      0.990363   \n",
       "\n",
       "      Контекстная токсичность  Серьезная токсичность Рискованная токсичность  \n",
       "0                    0.000238               0.000777           6.8582166e-03  \n",
       "1                    0.000253               0.000969           8.4148953e-03  \n",
       "2                    0.000253               0.000969           8.4148953e-03  \n",
       "3                    0.000428               0.000274           1.9010528e-03  \n",
       "4                    0.000253               0.000969           8.4148953e-03  \n",
       "...                       ...                    ...                     ...  \n",
       "1696                 0.000279               0.001738           1.9429790e-02  \n",
       "1697                 0.000253               0.000969           8.4148953e-03  \n",
       "1698                 0.000428               0.000274           1.9010528e-03  \n",
       "1699                 0.000245               0.000382           3.1840086e-03  \n",
       "1700                 0.000253               0.000969           8.4148953e-03  \n",
       "\n",
       "[1701 rows x 17 columns]"
      ]
     },
     "execution_count": 69,
     "metadata": {},
     "output_type": "execute_result"
    }
   ],
   "source": [
    "df"
   ]
  },
  {
   "cell_type": "code",
   "execution_count": 70,
   "id": "c61e22d5",
   "metadata": {
    "pycharm": {
     "name": "#%%\n"
    }
   },
   "outputs": [],
   "source": [
    "df.to_excel('totally_ready_df_uni.xlsx')"
   ]
  },
  {
   "cell_type": "code",
   "execution_count": null,
   "id": "3d357cc6",
   "metadata": {
    "pycharm": {
     "name": "#%%\n"
    }
   },
   "outputs": [],
   "source": []
  }
 ],
 "metadata": {
  "kernelspec": {
   "display_name": "Python 3",
   "language": "python",
   "name": "python3"
  },
  "language_info": {
   "codemirror_mode": {
    "name": "ipython",
    "version": 3
   },
   "file_extension": ".py",
   "mimetype": "text/x-python",
   "name": "python",
   "nbconvert_exporter": "python",
   "pygments_lexer": "ipython3",
   "version": "3.8.8"
  },
  "toc": {
   "base_numbering": 1,
   "nav_menu": {},
   "number_sections": true,
   "sideBar": true,
   "skip_h1_title": true,
   "title_cell": "Table of Contents",
   "title_sidebar": "Contents",
   "toc_cell": true,
   "toc_position": {},
   "toc_section_display": true,
   "toc_window_display": false
  }
 },
 "nbformat": 4,
 "nbformat_minor": 5
}
