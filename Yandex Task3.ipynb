{
 "cells": [
  {
   "cell_type": "markdown",
   "id": "4c3bb047",
   "metadata": {},
   "source": [
    "# Task 3  Answering student questions"
   ]
  },
  {
   "cell_type": "markdown",
   "id": "3e774327",
   "metadata": {},
   "source": [
    "How would you answer the student's question below? Your task is to get your message across in such a way that a beginner can understand your explanation. You can do this any way you want (pictures, GIFs, metaphors, anything) so long as it makes your explanation clear.\n",
    "Answer the question: \"What is the difference between DataFrame and Series?\"\n",
    "Indicate how much time you spent completing this task."
   ]
  },
  {
   "cell_type": "markdown",
   "id": "b9d85d6f",
   "metadata": {},
   "source": [
    " \"What is the difference between DataFrame and Series?\""
   ]
  },
  {
   "cell_type": "markdown",
   "id": "d18ba3db",
   "metadata": {},
   "source": [
    "The DataFrame object can be best described as a regular table, and this is correct, because the DataFrame is a tabular data structure. There are always rows and columns in any table. "
   ]
  },
  {
   "cell_type": "markdown",
   "id": "44cb4a5f",
   "metadata": {},
   "source": [
    "The columns in the DataFrame object are Series objects, the rows of which are their direct elements."
   ]
  },
  {
   "cell_type": "markdown",
   "id": "4369ff48",
   "metadata": {},
   "source": [
    "Time of finding correct way to explain - about 5-7 minutes. "
   ]
  }
 ],
 "metadata": {
  "kernelspec": {
   "display_name": "Python 3",
   "language": "python",
   "name": "python3"
  },
  "language_info": {
   "codemirror_mode": {
    "name": "ipython",
    "version": 3
   },
   "file_extension": ".py",
   "mimetype": "text/x-python",
   "name": "python",
   "nbconvert_exporter": "python",
   "pygments_lexer": "ipython3",
   "version": "3.8.8"
  }
 },
 "nbformat": 4,
 "nbformat_minor": 5
}
