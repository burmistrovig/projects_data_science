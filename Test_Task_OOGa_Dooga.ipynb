{
 "cells": [
  {
   "cell_type": "markdown",
   "id": "0f4a8ebb",
   "metadata": {
    "toc": true
   },
   "source": [
    "<h1>Table of Contents<span class=\"tocSkip\"></span></h1>\n",
    "<div class=\"toc\"><ul class=\"toc-item\"></ul></div>"
   ]
  },
  {
   "cell_type": "markdown",
   "id": "ed8f8a1b",
   "metadata": {},
   "source": [
    "# Test_Task_OOGa_Dooga"
   ]
  },
  {
   "cell_type": "markdown",
   "id": "78573f94",
   "metadata": {},
   "source": [
    "# Содержание проекта:\n",
    "* [1. Работа с анализом eCPM по ОС.](#1-bullet)\n",
    "* [2. Распределение средних eCPM по пользователям.](#2-bullet)\n",
    "* [3. Рапределение средних eCPM по городам.](#3-bullet)\n",
    "* [4. Суммарные показатели.](#4-bullet)\n",
    "* [5. Суммарные показатели eCPM по городам.](#5-bullet)\n",
    "* [6. По платформам.](#6-bullet)\n",
    "* [7. Зависит ли что-то от времени ?](#7-bullet)\n",
    "* [8. Какой тип рекламы самый эффективный ?](#8-bullet)\n",
    "* [9. Вывод.](#8-bullet)\n",
    "\n"
   ]
  },
  {
   "cell_type": "markdown",
   "id": "273b537f",
   "metadata": {},
   "source": [
    "Приветствую каждого читающего данный Jupyter-Notebook! Желаю получить массу удовольствия от чистоты написанного здесь кода, от качества подбора инструментов визуализации и каждого слова в Markdown'е. А еще желаю, чтобы меня взяли на работу, ибо точно не прогадаете)) "
   ]
  },
  {
   "cell_type": "code",
   "execution_count": 548,
   "id": "edda303e",
   "metadata": {},
   "outputs": [],
   "source": [
    "import pandas as pd\n",
    "import numpy as np\n",
    "import json\n",
    "import time\n",
    "import seaborn as sns\n",
    "import matplotlib.pyplot as plt\n",
    "import plotly.express as px"
   ]
  },
  {
   "cell_type": "markdown",
   "id": "1774b5a8",
   "metadata": {},
   "source": [
    "Начнем с чтения данных. Тут все традиционно и понятно."
   ]
  },
  {
   "cell_type": "code",
   "execution_count": 24,
   "id": "a444bac5",
   "metadata": {},
   "outputs": [],
   "source": [
    "df = pd.read_csv('C:/Users/Iljam/Downloads/us events ad_revenue filtered 03.02-07.02.csv')"
   ]
  },
  {
   "cell_type": "markdown",
   "id": "466622bc",
   "metadata": {},
   "source": [
    "Из любопытного: датафрейм содержит столбец с json объектами, которые точно надо обработать.<br> А еще время задать вопрос - нет ли у нас лишних данных, и сколько у нас недостающих? "
   ]
  },
  {
   "cell_type": "code",
   "execution_count": 25,
   "id": "733384a2",
   "metadata": {},
   "outputs": [
    {
     "data": {
      "text/html": [
       "<div>\n",
       "<style scoped>\n",
       "    .dataframe tbody tr th:only-of-type {\n",
       "        vertical-align: middle;\n",
       "    }\n",
       "\n",
       "    .dataframe tbody tr th {\n",
       "        vertical-align: top;\n",
       "    }\n",
       "\n",
       "    .dataframe thead th {\n",
       "        text-align: right;\n",
       "    }\n",
       "</style>\n",
       "<table border=\"1\" class=\"dataframe\">\n",
       "  <thead>\n",
       "    <tr style=\"text-align: right;\">\n",
       "      <th></th>\n",
       "      <th>profile_id</th>\n",
       "      <th>os_version</th>\n",
       "      <th>device_manufacturer</th>\n",
       "      <th>device_model</th>\n",
       "      <th>device_type</th>\n",
       "      <th>device_locale</th>\n",
       "      <th>event_name</th>\n",
       "      <th>event_json</th>\n",
       "      <th>event_datetime</th>\n",
       "      <th>event_timestamp</th>\n",
       "      <th>event_receive_datetime</th>\n",
       "      <th>event_receive_timestamp</th>\n",
       "      <th>connection_type</th>\n",
       "      <th>operator_name</th>\n",
       "      <th>country_iso_code</th>\n",
       "      <th>city</th>\n",
       "    </tr>\n",
       "  </thead>\n",
       "  <tbody>\n",
       "    <tr>\n",
       "      <th>0</th>\n",
       "      <td>JLjpGzDHBQm</td>\n",
       "      <td>11</td>\n",
       "      <td>Samsung</td>\n",
       "      <td>Galaxy Tab S6</td>\n",
       "      <td>tablet</td>\n",
       "      <td>en_US</td>\n",
       "      <td>c_ad_revenue</td>\n",
       "      <td>{\"ad_type\":\"banner\",\"placement\":\"\",\"view_index...</td>\n",
       "      <td>2022-02-04 20:02:28</td>\n",
       "      <td>1643994148</td>\n",
       "      <td>2022-02-06 17:58:19</td>\n",
       "      <td>1644159499</td>\n",
       "      <td>wifi</td>\n",
       "      <td>NaN</td>\n",
       "      <td>US</td>\n",
       "      <td>Norwalk</td>\n",
       "    </tr>\n",
       "    <tr>\n",
       "      <th>1</th>\n",
       "      <td>JLjpGzDHBQm</td>\n",
       "      <td>11</td>\n",
       "      <td>Samsung</td>\n",
       "      <td>Galaxy Tab S6</td>\n",
       "      <td>tablet</td>\n",
       "      <td>en_US</td>\n",
       "      <td>c_ad_revenue</td>\n",
       "      <td>{\"ad_type\":\"banner\",\"placement\":\"\",\"view_index...</td>\n",
       "      <td>2022-02-04 20:02:45</td>\n",
       "      <td>1643994165</td>\n",
       "      <td>2022-02-06 17:58:19</td>\n",
       "      <td>1644159499</td>\n",
       "      <td>wifi</td>\n",
       "      <td>NaN</td>\n",
       "      <td>US</td>\n",
       "      <td>Norwalk</td>\n",
       "    </tr>\n",
       "    <tr>\n",
       "      <th>2</th>\n",
       "      <td>JLkVacrzHY6</td>\n",
       "      <td>11</td>\n",
       "      <td>Google</td>\n",
       "      <td>Pixel 2</td>\n",
       "      <td>phone</td>\n",
       "      <td>en_US</td>\n",
       "      <td>c_ad_revenue</td>\n",
       "      <td>{\"ad_type\":\"banner\",\"placement\":\"\",\"view_index...</td>\n",
       "      <td>2022-02-05 17:53:05</td>\n",
       "      <td>1644072785</td>\n",
       "      <td>2022-02-06 16:59:29</td>\n",
       "      <td>1644155969</td>\n",
       "      <td>wifi</td>\n",
       "      <td>Verizon</td>\n",
       "      <td>US</td>\n",
       "      <td>Charlotte</td>\n",
       "    </tr>\n",
       "    <tr>\n",
       "      <th>3</th>\n",
       "      <td>JMC6wG3cX0f</td>\n",
       "      <td>10</td>\n",
       "      <td>Samsung</td>\n",
       "      <td>Galaxy S9</td>\n",
       "      <td>phone</td>\n",
       "      <td>en_US</td>\n",
       "      <td>c_ad_revenue</td>\n",
       "      <td>{\"ad_type\":\"int\",\"placement\":\"next_level\",\"vie...</td>\n",
       "      <td>2022-02-06 17:09:01</td>\n",
       "      <td>1644156541</td>\n",
       "      <td>2022-02-06 17:09:24</td>\n",
       "      <td>1644156564</td>\n",
       "      <td>wifi</td>\n",
       "      <td>T-Mobile</td>\n",
       "      <td>US</td>\n",
       "      <td>Cocoa</td>\n",
       "    </tr>\n",
       "    <tr>\n",
       "      <th>4</th>\n",
       "      <td>JLzWWTJfi1b</td>\n",
       "      <td>10</td>\n",
       "      <td>Samsung</td>\n",
       "      <td>Galaxy S9</td>\n",
       "      <td>phone</td>\n",
       "      <td>en_US</td>\n",
       "      <td>c_ad_revenue</td>\n",
       "      <td>{\"ad_type\":\"banner\",\"placement\":\"\",\"view_index...</td>\n",
       "      <td>2022-02-06 17:15:38</td>\n",
       "      <td>1644156938</td>\n",
       "      <td>2022-02-06 17:16:16</td>\n",
       "      <td>1644156976</td>\n",
       "      <td>cell</td>\n",
       "      <td>Verizon</td>\n",
       "      <td>US</td>\n",
       "      <td>NaN</td>\n",
       "    </tr>\n",
       "  </tbody>\n",
       "</table>\n",
       "</div>"
      ],
      "text/plain": [
       "    profile_id os_version device_manufacturer   device_model device_type  \\\n",
       "0  JLjpGzDHBQm         11             Samsung  Galaxy Tab S6      tablet   \n",
       "1  JLjpGzDHBQm         11             Samsung  Galaxy Tab S6      tablet   \n",
       "2  JLkVacrzHY6         11              Google        Pixel 2       phone   \n",
       "3  JMC6wG3cX0f         10             Samsung      Galaxy S9       phone   \n",
       "4  JLzWWTJfi1b         10             Samsung      Galaxy S9       phone   \n",
       "\n",
       "  device_locale    event_name  \\\n",
       "0         en_US  c_ad_revenue   \n",
       "1         en_US  c_ad_revenue   \n",
       "2         en_US  c_ad_revenue   \n",
       "3         en_US  c_ad_revenue   \n",
       "4         en_US  c_ad_revenue   \n",
       "\n",
       "                                          event_json       event_datetime  \\\n",
       "0  {\"ad_type\":\"banner\",\"placement\":\"\",\"view_index...  2022-02-04 20:02:28   \n",
       "1  {\"ad_type\":\"banner\",\"placement\":\"\",\"view_index...  2022-02-04 20:02:45   \n",
       "2  {\"ad_type\":\"banner\",\"placement\":\"\",\"view_index...  2022-02-05 17:53:05   \n",
       "3  {\"ad_type\":\"int\",\"placement\":\"next_level\",\"vie...  2022-02-06 17:09:01   \n",
       "4  {\"ad_type\":\"banner\",\"placement\":\"\",\"view_index...  2022-02-06 17:15:38   \n",
       "\n",
       "   event_timestamp event_receive_datetime  event_receive_timestamp  \\\n",
       "0       1643994148    2022-02-06 17:58:19               1644159499   \n",
       "1       1643994165    2022-02-06 17:58:19               1644159499   \n",
       "2       1644072785    2022-02-06 16:59:29               1644155969   \n",
       "3       1644156541    2022-02-06 17:09:24               1644156564   \n",
       "4       1644156938    2022-02-06 17:16:16               1644156976   \n",
       "\n",
       "  connection_type operator_name country_iso_code       city  \n",
       "0            wifi           NaN               US    Norwalk  \n",
       "1            wifi           NaN               US    Norwalk  \n",
       "2            wifi       Verizon               US  Charlotte  \n",
       "3            wifi      T-Mobile               US      Cocoa  \n",
       "4            cell      Verizon                US        NaN  "
      ]
     },
     "execution_count": 25,
     "metadata": {},
     "output_type": "execute_result"
    }
   ],
   "source": [
    "df.head()"
   ]
  },
  {
   "cell_type": "code",
   "execution_count": 26,
   "id": "fcf6430c",
   "metadata": {},
   "outputs": [
    {
     "name": "stdout",
     "output_type": "stream",
     "text": [
      "<class 'pandas.core.frame.DataFrame'>\n",
      "RangeIndex: 860079 entries, 0 to 860078\n",
      "Data columns (total 16 columns):\n",
      " #   Column                   Non-Null Count   Dtype \n",
      "---  ------                   --------------   ----- \n",
      " 0   profile_id               860065 non-null  object\n",
      " 1   os_version               860079 non-null  object\n",
      " 2   device_manufacturer      860079 non-null  object\n",
      " 3   device_model             860079 non-null  object\n",
      " 4   device_type              860079 non-null  object\n",
      " 5   device_locale            860079 non-null  object\n",
      " 6   event_name               860079 non-null  object\n",
      " 7   event_json               860079 non-null  object\n",
      " 8   event_datetime           860079 non-null  object\n",
      " 9   event_timestamp          860079 non-null  int64 \n",
      " 10  event_receive_datetime   860079 non-null  object\n",
      " 11  event_receive_timestamp  860079 non-null  int64 \n",
      " 12  connection_type          860079 non-null  object\n",
      " 13  operator_name            841200 non-null  object\n",
      " 14  country_iso_code         860079 non-null  object\n",
      " 15  city                     536371 non-null  object\n",
      "dtypes: int64(2), object(14)\n",
      "memory usage: 105.0+ MB\n"
     ]
    }
   ],
   "source": [
    "df.info()"
   ]
  },
  {
   "cell_type": "code",
   "execution_count": 27,
   "id": "76d9d774",
   "metadata": {},
   "outputs": [
    {
     "data": {
      "text/html": [
       "<div>\n",
       "<style scoped>\n",
       "    .dataframe tbody tr th:only-of-type {\n",
       "        vertical-align: middle;\n",
       "    }\n",
       "\n",
       "    .dataframe tbody tr th {\n",
       "        vertical-align: top;\n",
       "    }\n",
       "\n",
       "    .dataframe thead th {\n",
       "        text-align: right;\n",
       "    }\n",
       "</style>\n",
       "<table border=\"1\" class=\"dataframe\">\n",
       "  <thead>\n",
       "    <tr style=\"text-align: right;\">\n",
       "      <th></th>\n",
       "      <th>event_timestamp</th>\n",
       "      <th>event_receive_timestamp</th>\n",
       "    </tr>\n",
       "  </thead>\n",
       "  <tbody>\n",
       "    <tr>\n",
       "      <th>count</th>\n",
       "      <td>8.600790e+05</td>\n",
       "      <td>8.600790e+05</td>\n",
       "    </tr>\n",
       "    <tr>\n",
       "      <th>mean</th>\n",
       "      <td>1.644088e+09</td>\n",
       "      <td>1.644088e+09</td>\n",
       "    </tr>\n",
       "    <tr>\n",
       "      <th>std</th>\n",
       "      <td>1.058604e+05</td>\n",
       "      <td>1.055928e+05</td>\n",
       "    </tr>\n",
       "    <tr>\n",
       "      <th>min</th>\n",
       "      <td>1.643467e+09</td>\n",
       "      <td>1.643836e+09</td>\n",
       "    </tr>\n",
       "    <tr>\n",
       "      <th>25%</th>\n",
       "      <td>1.644017e+09</td>\n",
       "      <td>1.644018e+09</td>\n",
       "    </tr>\n",
       "    <tr>\n",
       "      <th>50%</th>\n",
       "      <td>1.644102e+09</td>\n",
       "      <td>1.644103e+09</td>\n",
       "    </tr>\n",
       "    <tr>\n",
       "      <th>75%</th>\n",
       "      <td>1.644177e+09</td>\n",
       "      <td>1.644177e+09</td>\n",
       "    </tr>\n",
       "    <tr>\n",
       "      <th>max</th>\n",
       "      <td>1.644268e+09</td>\n",
       "      <td>1.644268e+09</td>\n",
       "    </tr>\n",
       "  </tbody>\n",
       "</table>\n",
       "</div>"
      ],
      "text/plain": [
       "       event_timestamp  event_receive_timestamp\n",
       "count     8.600790e+05             8.600790e+05\n",
       "mean      1.644088e+09             1.644088e+09\n",
       "std       1.058604e+05             1.055928e+05\n",
       "min       1.643467e+09             1.643836e+09\n",
       "25%       1.644017e+09             1.644018e+09\n",
       "50%       1.644102e+09             1.644103e+09\n",
       "75%       1.644177e+09             1.644177e+09\n",
       "max       1.644268e+09             1.644268e+09"
      ]
     },
     "execution_count": 27,
     "metadata": {},
     "output_type": "execute_result"
    }
   ],
   "source": [
    "df.describe()"
   ]
  },
  {
   "cell_type": "markdown",
   "id": "b986a96a",
   "metadata": {},
   "source": []
  },
  {
   "cell_type": "markdown",
   "id": "b7e56c45",
   "metadata": {},
   "source": [
    "Мобильная игра зарабатывает на показе рекламы. Есть несколько форматов:\n",
    "int – полноэкранная реклама; banner – горизонтальный баннер, висит внизу\n",
    "экрана пока юзер играет; rv – видео, которое юзер смотрит по желанию и за\n",
    "просмотр получает монетки или др. ресурсы. Информация о каждом показе\n",
    "отправляется в аналитику и содержит доход от показа, формат показанной\n",
    "рекламы, рекламную сеть от которой был показ и др.\n",
    "eCPM – доход за 1000 показов рекламы."
   ]
  },
  {
   "cell_type": "markdown",
   "id": "3878dff1",
   "metadata": {},
   "source": [
    "Столбец profile_id – id юзера\n",
    "Столбец event_json содержит данные о событии показа рекламы:\n",
    "ad_type – формат рекламы (int, banner или rv)\n",
    "placement – когда/где был показ рекламы в игре\n",
    "view_index – номер показа конкретного формата рекламы для юзера (не\n",
    "поддерживается для баннеров)\n",
    "revenue – доход от конкретного показа рекламы (eCPM = revenue * 1000)\n",
    "ads_ltv – накапливающийся доход от рекламы, равен сумме всех revenue\n",
    "юзера\n",
    "network_name – рекламная сеть, от которой был показ\n",
    "Остальные столбцы должны быть интуитивно понятны"
   ]
  },
  {
   "cell_type": "code",
   "execution_count": null,
   "id": "3790ee06",
   "metadata": {},
   "outputs": [],
   "source": []
  },
  {
   "cell_type": "markdown",
   "id": "d0af74cd",
   "metadata": {},
   "source": [
    "Теперь настало время разобраться с json наполнением одного столбца."
   ]
  },
  {
   "cell_type": "code",
   "execution_count": 46,
   "id": "62cefb08",
   "metadata": {},
   "outputs": [],
   "source": [
    "result = json.loads(df.loc[100, 'event_json'])"
   ]
  },
  {
   "cell_type": "code",
   "execution_count": 47,
   "id": "4c21dec2",
   "metadata": {},
   "outputs": [
    {
     "data": {
      "text/plain": [
       "{'ad_type': 'banner',\n",
       " 'placement': '',\n",
       " 'view_index': 1,\n",
       " 'session_view_index': 0,\n",
       " 'cur_ticks': 637797304162092540,\n",
       " 'session_length': 1797.339,\n",
       " 'revenue': 2.6212725e-05,\n",
       " 'ads_ltv': 0.571129981369536,\n",
       " 'ecpm_sma': 0.178478911519051,\n",
       " 'normalized_ecpm_sma': 0.178478911519051,\n",
       " 'value': 2.6212725e-05,\n",
       " 'currency': 'USD',\n",
       " 'ad_country_code': 'US',\n",
       " 'network_name': 'APPLOVIN_EXCHANGE',\n",
       " 'ad_unit_id': '64c6b1114ea8c1cc',\n",
       " 'ad_network_placement': 'banner_regular',\n",
       " 'creativeId': '211303'}"
      ]
     },
     "execution_count": 47,
     "metadata": {},
     "output_type": "execute_result"
    }
   ],
   "source": [
    "result"
   ]
  },
  {
   "cell_type": "markdown",
   "id": "c2fd4cf0",
   "metadata": {},
   "source": [
    "Посмотрели наполнение случайного json'а. Теперь мы знаем что внутри и как этого достичь. Осталось экстраполировать на оставшийся датафрейм"
   ]
  },
  {
   "cell_type": "code",
   "execution_count": 28,
   "id": "1c4a465f",
   "metadata": {},
   "outputs": [],
   "source": [
    "df_from_json = pd.DataFrame()\n",
    "for num in range(10):\n",
    "    for i in range(round(len(df)/10)):\n",
    "        result = json.loads(df.loc[i + num * round(len(df) / 10), 'event_json'])\n",
    "        df_dict = pd.DataFrame.from_dict(result, orient = 'index')\n",
    "        df_dict = df_dict.T\n",
    "        df_from_json = df_from_json.append(df_dict)\n",
    "    display(\"df_from_JSON\", len(df_from_json))\n",
    "display(\"JOSN\", df_from_json)      "
   ]
  },
  {
   "cell_type": "markdown",
   "id": "28b7ec5d",
   "metadata": {},
   "source": [
    "Таким образом, мы получили датафрейм, который сделан из содержимого JSON'ов. Мы победили, но какой ценой..."
   ]
  },
  {
   "cell_type": "markdown",
   "id": "816727a0",
   "metadata": {},
   "source": [
    "Ремарка : так как данный ноутбук делался не за один раз, то я сохранил содержимое JSON в экселевском файле, чтобы не терять лишнего времени."
   ]
  },
  {
   "cell_type": "code",
   "execution_count": 29,
   "id": "7e88f02b",
   "metadata": {},
   "outputs": [],
   "source": [
    "df_from_json = pd.read_excel('C:/Users/Iljam/Downloads/output.xlsx')"
   ]
  },
  {
   "cell_type": "markdown",
   "id": "f166adae",
   "metadata": {},
   "source": [
    "Теперь настало время рассчитать eCPM, несмотря на то, что есть столбец eCPM_SMA, который потенциально содержит фактические значения. Но надо бы и рассчитать по формуле и сравнить эти значения."
   ]
  },
  {
   "cell_type": "code",
   "execution_count": 41,
   "id": "2d0dab42",
   "metadata": {},
   "outputs": [
    {
     "data": {
      "text/html": [
       "<div>\n",
       "<style scoped>\n",
       "    .dataframe tbody tr th:only-of-type {\n",
       "        vertical-align: middle;\n",
       "    }\n",
       "\n",
       "    .dataframe tbody tr th {\n",
       "        vertical-align: top;\n",
       "    }\n",
       "\n",
       "    .dataframe thead th {\n",
       "        text-align: right;\n",
       "    }\n",
       "</style>\n",
       "<table border=\"1\" class=\"dataframe\">\n",
       "  <thead>\n",
       "    <tr style=\"text-align: right;\">\n",
       "      <th></th>\n",
       "      <th>Unnamed: 0</th>\n",
       "      <th>ad_type</th>\n",
       "      <th>placement</th>\n",
       "      <th>view_index</th>\n",
       "      <th>session_view_index</th>\n",
       "      <th>cur_ticks</th>\n",
       "      <th>session_length</th>\n",
       "      <th>revenue</th>\n",
       "      <th>ads_ltv</th>\n",
       "      <th>ecpm_sma</th>\n",
       "      <th>normalized_ecpm_sma</th>\n",
       "      <th>value</th>\n",
       "      <th>currency</th>\n",
       "      <th>ad_country_code</th>\n",
       "      <th>network_name</th>\n",
       "      <th>ad_unit_id</th>\n",
       "      <th>ad_network_placement</th>\n",
       "      <th>creativeId</th>\n",
       "      <th>ecpm</th>\n",
       "    </tr>\n",
       "  </thead>\n",
       "  <tbody>\n",
       "    <tr>\n",
       "      <th>0</th>\n",
       "      <td>0</td>\n",
       "      <td>banner</td>\n",
       "      <td>NaN</td>\n",
       "      <td>1</td>\n",
       "      <td>0</td>\n",
       "      <td>637795729492245120</td>\n",
       "      <td>705.88070</td>\n",
       "      <td>0.000510</td>\n",
       "      <td>0.487877</td>\n",
       "      <td>0.511508</td>\n",
       "      <td>0.511508</td>\n",
       "      <td>0.000510</td>\n",
       "      <td>USD</td>\n",
       "      <td>US</td>\n",
       "      <td>Google AdMob</td>\n",
       "      <td>64c6b1114ea8c1cc</td>\n",
       "      <td>ca-app-pub-7511632782617496/8825263691</td>\n",
       "      <td>CJ3XirfD5vUCFYPnKAUdG3MOYQ</td>\n",
       "      <td>0.510313</td>\n",
       "    </tr>\n",
       "    <tr>\n",
       "      <th>1</th>\n",
       "      <td>0</td>\n",
       "      <td>banner</td>\n",
       "      <td>NaN</td>\n",
       "      <td>1</td>\n",
       "      <td>0</td>\n",
       "      <td>637795729659949824</td>\n",
       "      <td>722.65120</td>\n",
       "      <td>0.000510</td>\n",
       "      <td>0.488387</td>\n",
       "      <td>0.511389</td>\n",
       "      <td>0.511389</td>\n",
       "      <td>0.000510</td>\n",
       "      <td>USD</td>\n",
       "      <td>US</td>\n",
       "      <td>Google AdMob</td>\n",
       "      <td>64c6b1114ea8c1cc</td>\n",
       "      <td>ca-app-pub-7511632782617496/8825263691</td>\n",
       "      <td>CNa-lL_D5vUCFZrpKAUdU2QBDQ</td>\n",
       "      <td>0.510313</td>\n",
       "    </tr>\n",
       "    <tr>\n",
       "      <th>2</th>\n",
       "      <td>0</td>\n",
       "      <td>banner</td>\n",
       "      <td>NaN</td>\n",
       "      <td>1</td>\n",
       "      <td>0</td>\n",
       "      <td>637796515863735936</td>\n",
       "      <td>431.81290</td>\n",
       "      <td>0.002386</td>\n",
       "      <td>0.678479</td>\n",
       "      <td>0.928597</td>\n",
       "      <td>0.928597</td>\n",
       "      <td>0.002386</td>\n",
       "      <td>USD</td>\n",
       "      <td>US</td>\n",
       "      <td>APPLOVIN_EXCHANGE</td>\n",
       "      <td>64c6b1114ea8c1cc</td>\n",
       "      <td>banner_regular</td>\n",
       "      <td>pandora-58</td>\n",
       "      <td>2.386163</td>\n",
       "    </tr>\n",
       "    <tr>\n",
       "      <th>3</th>\n",
       "      <td>0</td>\n",
       "      <td>int</td>\n",
       "      <td>next_level</td>\n",
       "      <td>1</td>\n",
       "      <td>1</td>\n",
       "      <td>637797353426827392</td>\n",
       "      <td>125.94960</td>\n",
       "      <td>0.013894</td>\n",
       "      <td>0.013894</td>\n",
       "      <td>13.782633</td>\n",
       "      <td>13.893784</td>\n",
       "      <td>0.013894</td>\n",
       "      <td>USD</td>\n",
       "      <td>US</td>\n",
       "      <td>AppLovin</td>\n",
       "      <td>3ab7705b07ebb75f</td>\n",
       "      <td>inter_regular</td>\n",
       "      <td>13045364</td>\n",
       "      <td>13.893784</td>\n",
       "    </tr>\n",
       "    <tr>\n",
       "      <th>4</th>\n",
       "      <td>0</td>\n",
       "      <td>banner</td>\n",
       "      <td>NaN</td>\n",
       "      <td>1</td>\n",
       "      <td>0</td>\n",
       "      <td>637797357392197888</td>\n",
       "      <td>12.71129</td>\n",
       "      <td>0.006828</td>\n",
       "      <td>0.060571</td>\n",
       "      <td>1.660282</td>\n",
       "      <td>1.660282</td>\n",
       "      <td>0.006828</td>\n",
       "      <td>USD</td>\n",
       "      <td>US</td>\n",
       "      <td>Google AdMob</td>\n",
       "      <td>64c6b1114ea8c1cc</td>\n",
       "      <td>ca-app-pub-7511632782617496/6197324251</td>\n",
       "      <td>CMTi5e-h6_UCFUdVwQodt9EIMw</td>\n",
       "      <td>6.827570</td>\n",
       "    </tr>\n",
       "  </tbody>\n",
       "</table>\n",
       "</div>"
      ],
      "text/plain": [
       "   Unnamed: 0 ad_type   placement  view_index  session_view_index  \\\n",
       "0           0  banner         NaN           1                   0   \n",
       "1           0  banner         NaN           1                   0   \n",
       "2           0  banner         NaN           1                   0   \n",
       "3           0     int  next_level           1                   1   \n",
       "4           0  banner         NaN           1                   0   \n",
       "\n",
       "            cur_ticks  session_length   revenue   ads_ltv   ecpm_sma  \\\n",
       "0  637795729492245120       705.88070  0.000510  0.487877   0.511508   \n",
       "1  637795729659949824       722.65120  0.000510  0.488387   0.511389   \n",
       "2  637796515863735936       431.81290  0.002386  0.678479   0.928597   \n",
       "3  637797353426827392       125.94960  0.013894  0.013894  13.782633   \n",
       "4  637797357392197888        12.71129  0.006828  0.060571   1.660282   \n",
       "\n",
       "   normalized_ecpm_sma     value currency ad_country_code       network_name  \\\n",
       "0             0.511508  0.000510      USD              US       Google AdMob   \n",
       "1             0.511389  0.000510      USD              US       Google AdMob   \n",
       "2             0.928597  0.002386      USD              US  APPLOVIN_EXCHANGE   \n",
       "3            13.893784  0.013894      USD              US           AppLovin   \n",
       "4             1.660282  0.006828      USD              US       Google AdMob   \n",
       "\n",
       "         ad_unit_id                    ad_network_placement  \\\n",
       "0  64c6b1114ea8c1cc  ca-app-pub-7511632782617496/8825263691   \n",
       "1  64c6b1114ea8c1cc  ca-app-pub-7511632782617496/8825263691   \n",
       "2  64c6b1114ea8c1cc                          banner_regular   \n",
       "3  3ab7705b07ebb75f                           inter_regular   \n",
       "4  64c6b1114ea8c1cc  ca-app-pub-7511632782617496/6197324251   \n",
       "\n",
       "                   creativeId       ecpm  \n",
       "0  CJ3XirfD5vUCFYPnKAUdG3MOYQ   0.510313  \n",
       "1  CNa-lL_D5vUCFZrpKAUdU2QBDQ   0.510313  \n",
       "2                  pandora-58   2.386163  \n",
       "3                    13045364  13.893784  \n",
       "4  CMTi5e-h6_UCFUdVwQodt9EIMw   6.827570  "
      ]
     },
     "execution_count": 41,
     "metadata": {},
     "output_type": "execute_result"
    }
   ],
   "source": [
    "df_from_json['ecpm'] = df_from_json['revenue'] * 1000\n",
    "df_from_json.head()"
   ]
  },
  {
   "cell_type": "markdown",
   "id": "d6c10662",
   "metadata": {},
   "source": [
    "Как и ожидалось, они не сошлись. Что это может значить, загадка .... "
   ]
  },
  {
   "cell_type": "markdown",
   "id": "e9267d6b",
   "metadata": {},
   "source": [
    "Теперь надо совместить датафрейм из \"Дано\" и JSON."
   ]
  },
  {
   "cell_type": "code",
   "execution_count": 69,
   "id": "2b332fbc",
   "metadata": {},
   "outputs": [],
   "source": [
    "df_total = df.join( df_from_json)"
   ]
  },
  {
   "cell_type": "code",
   "execution_count": 632,
   "id": "dc42bee0",
   "metadata": {},
   "outputs": [
    {
     "data": {
      "text/plain": [
       "USD    121638\n",
       "Name: currency, dtype: int64"
      ]
     },
     "execution_count": 632,
     "metadata": {},
     "output_type": "execute_result"
    }
   ],
   "source": [
    "df_total['currency'].value_counts()"
   ]
  },
  {
   "cell_type": "code",
   "execution_count": 637,
   "id": "32e5b7e1",
   "metadata": {},
   "outputs": [],
   "source": [
    "df_total = df_total.drop('Unnamed: 0', axis = 1)"
   ]
  },
  {
   "cell_type": "code",
   "execution_count": 633,
   "id": "5f0e17a4",
   "metadata": {},
   "outputs": [],
   "source": [
    "df_total = df_total.drop(\"currency\", axis = 1)"
   ]
  },
  {
   "cell_type": "markdown",
   "id": "b9eb30d7",
   "metadata": {},
   "source": [
    "Теперь переведем что нужно в разряд datetime"
   ]
  },
  {
   "cell_type": "code",
   "execution_count": null,
   "id": "116e2307",
   "metadata": {},
   "outputs": [],
   "source": [
    "df_total['event_datetime'] = pd.to_datetime(df_total['event_datetime'])"
   ]
  },
  {
   "cell_type": "markdown",
   "id": "6043cb72",
   "metadata": {},
   "source": [
    "<a id='1-bullet'></a>"
   ]
  },
  {
   "cell_type": "markdown",
   "id": "2fec2c88",
   "metadata": {},
   "source": [
    "# Работа с анализом eCPM по ОС"
   ]
  },
  {
   "cell_type": "markdown",
   "id": "4e702fb1",
   "metadata": {},
   "source": [
    "В данном этапе будет рассмотрена зависимость eCPM по операционной системе."
   ]
  },
  {
   "cell_type": "markdown",
   "id": "57296c82",
   "metadata": {},
   "source": [
    "Для начала сделаем сводную таблицу по распределению событий показа рекламы по версиям операционной системы:"
   ]
  },
  {
   "cell_type": "code",
   "execution_count": 525,
   "id": "e4a26029",
   "metadata": {},
   "outputs": [
    {
     "data": {
      "text/html": [
       "<div>\n",
       "<style scoped>\n",
       "    .dataframe tbody tr th:only-of-type {\n",
       "        vertical-align: middle;\n",
       "    }\n",
       "\n",
       "    .dataframe tbody tr th {\n",
       "        vertical-align: top;\n",
       "    }\n",
       "\n",
       "    .dataframe thead th {\n",
       "        text-align: right;\n",
       "    }\n",
       "</style>\n",
       "<table border=\"1\" class=\"dataframe\">\n",
       "  <thead>\n",
       "    <tr style=\"text-align: right;\">\n",
       "      <th></th>\n",
       "      <th>count</th>\n",
       "    </tr>\n",
       "    <tr>\n",
       "      <th>os_version</th>\n",
       "      <th></th>\n",
       "    </tr>\n",
       "  </thead>\n",
       "  <tbody>\n",
       "    <tr>\n",
       "      <th>12</th>\n",
       "      <td>407587</td>\n",
       "    </tr>\n",
       "    <tr>\n",
       "      <th>11</th>\n",
       "      <td>209057</td>\n",
       "    </tr>\n",
       "    <tr>\n",
       "      <th>10</th>\n",
       "      <td>150871</td>\n",
       "    </tr>\n",
       "    <tr>\n",
       "      <th>9</th>\n",
       "      <td>66662</td>\n",
       "    </tr>\n",
       "    <tr>\n",
       "      <th>8.1.0</th>\n",
       "      <td>9249</td>\n",
       "    </tr>\n",
       "    <tr>\n",
       "      <th>8.0.0</th>\n",
       "      <td>8016</td>\n",
       "    </tr>\n",
       "    <tr>\n",
       "      <th>7.0</th>\n",
       "      <td>4057</td>\n",
       "    </tr>\n",
       "    <tr>\n",
       "      <th>7.1.2</th>\n",
       "      <td>1811</td>\n",
       "    </tr>\n",
       "    <tr>\n",
       "      <th>7.1.1</th>\n",
       "      <td>1342</td>\n",
       "    </tr>\n",
       "    <tr>\n",
       "      <th>5.0.2</th>\n",
       "      <td>709</td>\n",
       "    </tr>\n",
       "    <tr>\n",
       "      <th>6.0.1</th>\n",
       "      <td>704</td>\n",
       "    </tr>\n",
       "  </tbody>\n",
       "</table>\n",
       "</div>"
      ],
      "text/plain": [
       "             count\n",
       "os_version        \n",
       "12          407587\n",
       "11          209057\n",
       "10          150871\n",
       "9            66662\n",
       "8.1.0         9249\n",
       "8.0.0         8016\n",
       "7.0           4057\n",
       "7.1.2         1811\n",
       "7.1.1         1342\n",
       "5.0.2          709\n",
       "6.0.1          704"
      ]
     },
     "execution_count": 525,
     "metadata": {},
     "output_type": "execute_result"
    }
   ],
   "source": [
    "pivot_os = df_total.pivot_table(index = \"os_version\",values = \"profile_id\", aggfunc = \"count\").sort_values(by = \"profile_id\", ascending = False)\n",
    "pivot_os.columns  = ['count']\n",
    "pivot_os"
   ]
  },
  {
   "cell_type": "markdown",
   "id": "ad302593",
   "metadata": {},
   "source": [
    "По ней уже можно увидеть, на каких платформах в основном показывается реклама: превалируют 12, 11, 10 и 9 версии с большим отрывом."
   ]
  },
  {
   "cell_type": "markdown",
   "id": "09b0e372",
   "metadata": {},
   "source": [
    "Чтобы не быть голословным, проиллюстируем это с помощью графика: "
   ]
  },
  {
   "cell_type": "code",
   "execution_count": 538,
   "id": "ec235a5c",
   "metadata": {},
   "outputs": [
    {
     "data": {
      "text/plain": [
       "<seaborn.axisgrid.FacetGrid at 0x268dcceea00>"
      ]
     },
     "execution_count": 538,
     "metadata": {},
     "output_type": "execute_result"
    },
    {
     "data": {
      "image/png": "[encoded data removed]",
      "text/plain": [
       "<Figure size 360x360 with 1 Axes>"
      ]
     },
     "metadata": {},
     "output_type": "display_data"
    }
   ],
   "source": [
    "sns.displot(data=df_total, x=\"os_version\", color = \"orange\", label =  \"Распределение событий по различным ОС\")"
   ]
  },
  {
   "cell_type": "code",
   "execution_count": 106,
   "id": "d7788ed9",
   "metadata": {},
   "outputs": [
    {
     "data": {
      "text/plain": [
       "1729"
      ]
     },
     "execution_count": 106,
     "metadata": {},
     "output_type": "execute_result"
    }
   ],
   "source": [
    "len(df_total.query('ecpm > 50'))"
   ]
  },
  {
   "cell_type": "markdown",
   "id": "32012bdb",
   "metadata": {},
   "source": [
    "<a id='2-bullet'></a>"
   ]
  },
  {
   "cell_type": "markdown",
   "id": "3226c58a",
   "metadata": {},
   "source": [
    "# Распределение средних eCPM по пользователям"
   ]
  },
  {
   "cell_type": "markdown",
   "id": "2238cd1c",
   "metadata": {},
   "source": [
    "В данном этапе будут рассмотрены распределение средних показателей доходности от рекламы."
   ]
  },
  {
   "cell_type": "markdown",
   "id": "cef14804",
   "metadata": {},
   "source": [
    "Надо понять типический показ рекламы : для этого надо понять в каких квартилях находится eCPM / пользователя. Для этого построим ящик с усами"
   ]
  },
  {
   "cell_type": "code",
   "execution_count": 528,
   "id": "89b552ca",
   "metadata": {},
   "outputs": [
    {
     "data": {
      "text/plain": [
       "(-0.5, 3.0)"
      ]
     },
     "execution_count": 528,
     "metadata": {},
     "output_type": "execute_result"
    },
    {
     "data": {
      "image/png": "[encoded data removed]",
      "text/plain": [
       "<Figure size 576x576 with 1 Axes>"
      ]
     },
     "metadata": {},
     "output_type": "display_data"
    }
   ],
   "source": [
    "plt.figure(figsize = (8,8))\n",
    "plt.title( \"Ящик с усами,показывающий типический eCPM\")\n",
    "sns.boxplot(data = df_total['ecpm'], palette = \"Set2\")\n",
    "plt.ylim(-0.5, 3)"
   ]
  },
  {
   "cell_type": "markdown",
   "id": "40603a14",
   "metadata": {},
   "source": [
    "Ну, и чтобы не быть голословным, надо рассчитать медиану, как одну из главных величин описательной статистики."
   ]
  },
  {
   "cell_type": "code",
   "execution_count": 539,
   "id": "aa7dda9b",
   "metadata": {},
   "outputs": [
    {
     "data": {
      "text/plain": [
       "0.513935"
      ]
     },
     "execution_count": 539,
     "metadata": {},
     "output_type": "execute_result"
    }
   ],
   "source": [
    "df_total['ecpm'].median()"
   ]
  },
  {
   "cell_type": "markdown",
   "id": "7f51934a",
   "metadata": {},
   "source": [
    "То есть, половина пользователей генерирует 0.51 у.е. за 1000 просмотров. По графику так же можно понять, что 75% квартиль находится в районе 1.25, что следует трактовать, по аналогии. "
   ]
  },
  {
   "cell_type": "markdown",
   "id": "a8423c4c",
   "metadata": {},
   "source": [
    "Теперь следует рассмотреть под другим углом на данную метрику. Построим график распределения, представленный ниже :"
   ]
  },
  {
   "cell_type": "code",
   "execution_count": 541,
   "id": "acd94e94",
   "metadata": {},
   "outputs": [
    {
     "data": {
      "text/plain": [
       "<matplotlib.legend.Legend at 0x268e1fc7910>"
      ]
     },
     "execution_count": 541,
     "metadata": {},
     "output_type": "execute_result"
    },
    {
     "data": {
      "image/png": "[encoded data removed]",
      "text/plain": [
       "<Figure size 1080x576 with 1 Axes>"
      ]
     },
     "metadata": {},
     "output_type": "display_data"
    }
   ],
   "source": [
    "distplot_user = df_total.pivot_table(index = 'profile_id', values = 'ecpm', aggfunc = \"mean\")\n",
    "plt.figure(figsize = (15,8))\n",
    "plt.title(\"Распределение средних значений eCPM по пользователям\")\n",
    "sns.kdeplot(data = distplot_user, multiple=\"stack\", label = \"eCPM по пользователям\")\n",
    "plt.xlim(0,210)\n",
    "plt.legend()"
   ]
  },
  {
   "cell_type": "markdown",
   "id": "9dcee226",
   "metadata": {},
   "source": [
    "Можно сделать следующие выводы : случаи после 75 среднего eCPM следует рассматривать как статистические выбросы, которые конечно, крайне заманчиво выглядят для компании, которая размещает рекламу, но не стоит обольщаться смотря на некоторые цифры, так как в основной массе все выглядит несколько меньше."
   ]
  },
  {
   "cell_type": "markdown",
   "id": "b7db7e9b",
   "metadata": {},
   "source": [
    "<a id='3-bullet'></a>"
   ]
  },
  {
   "cell_type": "markdown",
   "id": "4c437546",
   "metadata": {},
   "source": [
    "#  Рапределение средних eCPM по городам"
   ]
  },
  {
   "cell_type": "markdown",
   "id": "954ecff8",
   "metadata": {},
   "source": [
    "В данном этапе будет произведен анализ, который тоже внесет свою лепту в понимании типического пользователя и в то, что в теории можно попробовать сделать компании (так как это тестовое задание и я не посвящен во внутренние процессы, скажу, что эти предположения могут разбиваться о что-то, что я не учитываю как внешний пользователь данных, но берите на работу, и тогда решения, что предложу не будут столь поверхностны. Ох уж эти намеки ..."
   ]
  },
  {
   "cell_type": "markdown",
   "id": "ebeb86a4",
   "metadata": {},
   "source": [
    "Для начала, следует по традиции сделать сводную таблицу по городам и средним eCPM. Традиции данной тетрадки в студию !"
   ]
  },
  {
   "cell_type": "code",
   "execution_count": 543,
   "id": "10c476ea",
   "metadata": {},
   "outputs": [
    {
     "data": {
      "text/html": [
       "<div>\n",
       "<style scoped>\n",
       "    .dataframe tbody tr th:only-of-type {\n",
       "        vertical-align: middle;\n",
       "    }\n",
       "\n",
       "    .dataframe tbody tr th {\n",
       "        vertical-align: top;\n",
       "    }\n",
       "\n",
       "    .dataframe thead th {\n",
       "        text-align: right;\n",
       "    }\n",
       "</style>\n",
       "<table border=\"1\" class=\"dataframe\">\n",
       "  <thead>\n",
       "    <tr style=\"text-align: right;\">\n",
       "      <th></th>\n",
       "      <th>ecpm</th>\n",
       "    </tr>\n",
       "    <tr>\n",
       "      <th>city</th>\n",
       "      <th></th>\n",
       "    </tr>\n",
       "  </thead>\n",
       "  <tbody>\n",
       "    <tr>\n",
       "      <th>Abilene</th>\n",
       "      <td>191.400000</td>\n",
       "    </tr>\n",
       "    <tr>\n",
       "      <th>Afton</th>\n",
       "      <td>2.581332</td>\n",
       "    </tr>\n",
       "    <tr>\n",
       "      <th>Alamogordo</th>\n",
       "      <td>1.031599</td>\n",
       "    </tr>\n",
       "    <tr>\n",
       "      <th>Albuquerque</th>\n",
       "      <td>3.749385</td>\n",
       "    </tr>\n",
       "    <tr>\n",
       "      <th>Alexandria</th>\n",
       "      <td>1.121769</td>\n",
       "    </tr>\n",
       "  </tbody>\n",
       "</table>\n",
       "</div>"
      ],
      "text/plain": [
       "                   ecpm\n",
       "city                   \n",
       "Abilene      191.400000\n",
       "Afton          2.581332\n",
       "Alamogordo     1.031599\n",
       "Albuquerque    3.749385\n",
       "Alexandria     1.121769"
      ]
     },
     "execution_count": 543,
     "metadata": {},
     "output_type": "execute_result"
    }
   ],
   "source": [
    "distplot_city = df_total.pivot_table(index = 'city', values = 'ecpm', aggfunc = \"mean\")\n",
    "distplot_city.head()"
   ]
  },
  {
   "cell_type": "code",
   "execution_count": 545,
   "id": "1cb95230",
   "metadata": {},
   "outputs": [
    {
     "data": {
      "text/plain": [
       "(0.0, 210.0)"
      ]
     },
     "execution_count": 545,
     "metadata": {},
     "output_type": "execute_result"
    },
    {
     "data": {
      "image/png": "[encoded data removed]",
      "text/plain": [
       "<Figure size 1080x576 with 1 Axes>"
      ]
     },
     "metadata": {},
     "output_type": "display_data"
    }
   ],
   "source": [
    "plt.figure(figsize = (15,8))\n",
    "plt.title(\"Распределение средних значений eCPM по городам\")\n",
    "sns.kdeplot(data = distplot_city, multiple=\"stack\", label = \"eCPM по городам\", palette  = \"Set1\")\n",
    "plt.xlim(0,210)"
   ]
  },
  {
   "cell_type": "markdown",
   "id": "aca1c309",
   "metadata": {},
   "source": [
    "Пока что в контексте ремарки о том, как я \"великолепно\" вывел данные и json файла, я буду делать выводы с соответствующими попущениями. И судя по графику, значени средних eCPM почти что идентичны значениям по пользователям, что говорит о том, что те же пользователи задествованы в этом анализе."
   ]
  },
  {
   "cell_type": "code",
   "execution_count": 546,
   "id": "1d0b574b",
   "metadata": {},
   "outputs": [],
   "source": [
    "pivot_city = df_total.pivot_table(index = 'city',values = 'os_version', aggfunc = 'count').sort_values(by = 'os_version', ascending = False)"
   ]
  },
  {
   "cell_type": "markdown",
   "id": "88e44f10",
   "metadata": {},
   "source": [
    "Соответственно, надо как-то по другому это преподнести и рассмотреть, чтобы сделать определенные выводы: "
   ]
  },
  {
   "cell_type": "code",
   "execution_count": 547,
   "id": "2c5cf63a",
   "metadata": {},
   "outputs": [
    {
     "data": {
      "image/png": "[encoded data removed]",
      "text/plain": [
       "<Figure size 576x864 with 1 Axes>"
      ]
     },
     "metadata": {},
     "output_type": "display_data"
    }
   ],
   "source": [
    "sns.set_theme(style=\"whitegrid\")\n",
    "\n",
    "f, ax = plt.subplots(figsize=(8, 12))\n",
    "sns.set_color_codes(\"bright\")\n",
    "sns.barplot(x=\"os_version\", y=pivot_city.sort_values(by = \"os_version\", ascending = False).head(50).index,\n",
    "            data=pivot_city.sort_values(by = \"os_version\", ascending = False).head(50), label=\"Всего пользователей\", color=\"y\")\n",
    "\n",
    "plt.legend(ncol=2, loc=\"lower right\", frameon=True)\n",
    "sns.despine(left=True, bottom=True)"
   ]
  },
  {
   "cell_type": "markdown",
   "id": "65f63fba",
   "metadata": {},
   "source": [
    "по графику выше видно, какое у нас частота возникновения события рекламы : больше всего с огромным отрывом идет показ по Нью-Йорку, Миннеаполису и прочим, что видны на графике, который отображает топ-50 городов по данной метрике."
   ]
  },
  {
   "cell_type": "markdown",
   "id": "2277bcdd",
   "metadata": {},
   "source": [
    "<a id='4-bullet'></a>"
   ]
  },
  {
   "cell_type": "markdown",
   "id": "bcec7871",
   "metadata": {},
   "source": [
    "# Суммарные показатели"
   ]
  },
  {
   "cell_type": "markdown",
   "id": "1da4df45",
   "metadata": {},
   "source": [
    "В данном этапе будут рассмотрены суммарные показатели по всем рассмотреным показателям выше. Посмотрим, какие выводы можно будет сделать."
   ]
  },
  {
   "cell_type": "markdown",
   "id": "8b9d782f",
   "metadata": {},
   "source": [
    "<a id='5-bullet'></a>"
   ]
  },
  {
   "cell_type": "markdown",
   "id": "1e4f9fef",
   "metadata": {},
   "source": [
    "# Суммарные показатели eCPM по городам"
   ]
  },
  {
   "cell_type": "markdown",
   "id": "432fb63d",
   "metadata": {},
   "source": [
    "Начнем с городских показателей."
   ]
  },
  {
   "cell_type": "code",
   "execution_count": 559,
   "id": "d3a01641",
   "metadata": {},
   "outputs": [],
   "source": [
    "total_city = df_total.pivot_table(index = 'city',values = 'ecpm', aggfunc = 'sum').sort_values(by = 'ecpm', ascending = False)"
   ]
  },
  {
   "cell_type": "code",
   "execution_count": 569,
   "id": "01919f28",
   "metadata": {},
   "outputs": [
    {
     "data": {
      "image/png": "[encoded data removed]",
      "text/plain": [
       "<Figure size 576x864 with 1 Axes>"
      ]
     },
     "metadata": {},
     "output_type": "display_data"
    }
   ],
   "source": [
    "sns.set_theme(style=\"whitegrid\")\n",
    "\n",
    "f, ax = plt.subplots(figsize=(8, 12))\n",
    "sns.set_color_codes(\"bright\")\n",
    "sns.barplot(x=\"ecpm\", y=total_city.sort_values(by = \"ecpm\", ascending = False).head(50).index,\n",
    "            data=total_city.sort_values(by = \"ecpm\", ascending = False).head(50), label=\"Всего eCPM  по городам\", color=\"g\")\n",
    "\n",
    "plt.legend(ncol=2, loc=\"lower right\", frameon=True)\n",
    "sns.despine(left=True, bottom=True)"
   ]
  },
  {
   "cell_type": "markdown",
   "id": "00296ffc",
   "metadata": {},
   "source": [
    "На удивление, не Нью-Йорк и Миннеаполис возглавляют данный топ-50, а Кливленд, который был на 11 месте, значит пользователи там, смотрят не много, но качественно. Над этим стоит подумать"
   ]
  },
  {
   "cell_type": "markdown",
   "id": "eebc876c",
   "metadata": {},
   "source": [
    "<a id='6-bullet'></a>"
   ]
  },
  {
   "cell_type": "markdown",
   "id": "d9bdd7b9",
   "metadata": {},
   "source": [
    "# По платформам"
   ]
  },
  {
   "cell_type": "code",
   "execution_count": 572,
   "id": "5741b920",
   "metadata": {},
   "outputs": [
    {
     "data": {
      "text/html": [
       "<div>\n",
       "<style scoped>\n",
       "    .dataframe tbody tr th:only-of-type {\n",
       "        vertical-align: middle;\n",
       "    }\n",
       "\n",
       "    .dataframe tbody tr th {\n",
       "        vertical-align: top;\n",
       "    }\n",
       "\n",
       "    .dataframe thead th {\n",
       "        text-align: right;\n",
       "    }\n",
       "</style>\n",
       "<table border=\"1\" class=\"dataframe\">\n",
       "  <thead>\n",
       "    <tr style=\"text-align: right;\">\n",
       "      <th></th>\n",
       "      <th>sum_ecpm</th>\n",
       "    </tr>\n",
       "    <tr>\n",
       "      <th>os_version</th>\n",
       "      <th></th>\n",
       "    </tr>\n",
       "  </thead>\n",
       "  <tbody>\n",
       "    <tr>\n",
       "      <th>12</th>\n",
       "      <td>215249.239088</td>\n",
       "    </tr>\n",
       "    <tr>\n",
       "      <th>11</th>\n",
       "      <td>94437.377564</td>\n",
       "    </tr>\n",
       "    <tr>\n",
       "      <th>10</th>\n",
       "      <td>57749.053197</td>\n",
       "    </tr>\n",
       "    <tr>\n",
       "      <th>9</th>\n",
       "      <td>23408.112946</td>\n",
       "    </tr>\n",
       "    <tr>\n",
       "      <th>8.0.0</th>\n",
       "      <td>1985.354246</td>\n",
       "    </tr>\n",
       "    <tr>\n",
       "      <th>7.0</th>\n",
       "      <td>1573.130244</td>\n",
       "    </tr>\n",
       "    <tr>\n",
       "      <th>8.1.0</th>\n",
       "      <td>646.250692</td>\n",
       "    </tr>\n",
       "    <tr>\n",
       "      <th>7.1.1</th>\n",
       "      <td>610.934880</td>\n",
       "    </tr>\n",
       "    <tr>\n",
       "      <th>6.0.1</th>\n",
       "      <td>225.112002</td>\n",
       "    </tr>\n",
       "    <tr>\n",
       "      <th>7.1.2</th>\n",
       "      <td>211.815877</td>\n",
       "    </tr>\n",
       "    <tr>\n",
       "      <th>5.0.2</th>\n",
       "      <td>0.000000</td>\n",
       "    </tr>\n",
       "  </tbody>\n",
       "</table>\n",
       "</div>"
      ],
      "text/plain": [
       "                 sum_ecpm\n",
       "os_version               \n",
       "12          215249.239088\n",
       "11           94437.377564\n",
       "10           57749.053197\n",
       "9            23408.112946\n",
       "8.0.0         1985.354246\n",
       "7.0           1573.130244\n",
       "8.1.0          646.250692\n",
       "7.1.1          610.934880\n",
       "6.0.1          225.112002\n",
       "7.1.2          211.815877\n",
       "5.0.2            0.000000"
      ]
     },
     "execution_count": 572,
     "metadata": {},
     "output_type": "execute_result"
    }
   ],
   "source": [
    "sum_os = df_total.pivot_table(index = \"os_version\",values = \"ecpm\", aggfunc = \"sum\").sort_values(by = \"ecpm\", ascending = False)\n",
    "sum_os.columns  = ['sum_ecpm']\n",
    "sum_os"
   ]
  },
  {
   "cell_type": "code",
   "execution_count": 624,
   "id": "c70da03d",
   "metadata": {
    "scrolled": false
   },
   "outputs": [
    {
     "data": {
      "text/plain": [
       "<AxesSubplot:xlabel='os_version'>"
      ]
     },
     "execution_count": 624,
     "metadata": {},
     "output_type": "execute_result"
    },
    {
     "data": {
      "image/png": "[encoded data removed]",
      "text/plain": [
       "<Figure size 1080x576 with 1 Axes>"
      ]
     },
     "metadata": {},
     "output_type": "display_data"
    }
   ],
   "source": [
    "sum_os.plot(kind = \"bar\", figsize = (15,8), color = \"red\")"
   ]
  },
  {
   "cell_type": "markdown",
   "id": "cd42b721",
   "metadata": {},
   "source": [
    "В целом, тут без сюрпризов, и те же платформы, что возглавляли топы до этого, продолжают это делать... Если бы были данные еще и в динамике для одних и тех же устройств, можно было бы понимать, какими темпами идет прогресс, и пользователи с более старыми платформами переходят на новые, и на основе этих данных понимать, насколько экономически эффективно а) размещать рекламу на устройства с такими параметрами б) насколько рентабельно оставлять в приложении поддержку старой версии ОС. Но это уже совсем другая история...."
   ]
  },
  {
   "cell_type": "markdown",
   "id": "d15a2490",
   "metadata": {},
   "source": [
    "<a id='7-bullet'></a>"
   ]
  },
  {
   "cell_type": "markdown",
   "id": "187e3dd7",
   "metadata": {},
   "source": [
    "# Зависит ли что-то от времени ? "
   ]
  },
  {
   "cell_type": "markdown",
   "id": "ee059464",
   "metadata": {},
   "source": [
    "На данном этапе мы посмотрим, зависит ли что-то от времени. Пользователи смотрят больше или меньше днем ? Когда выгоднее вкидывать рекламу? "
   ]
  },
  {
   "cell_type": "code",
   "execution_count": 584,
   "id": "c0f150be",
   "metadata": {},
   "outputs": [
    {
     "data": {
      "text/plain": [
       "0        2022-02-04 20:02:28\n",
       "1        2022-02-04 20:02:45\n",
       "2        2022-02-05 17:53:05\n",
       "3        2022-02-06 17:09:01\n",
       "4        2022-02-06 17:15:38\n",
       "                 ...        \n",
       "860074   2022-02-03 08:29:27\n",
       "860075   2022-02-03 02:12:51\n",
       "860076   2022-02-03 02:13:06\n",
       "860077   2022-02-03 02:13:17\n",
       "860078   2022-02-03 03:11:44\n",
       "Name: event_datetime, Length: 860079, dtype: datetime64[ns]"
      ]
     },
     "execution_count": 584,
     "metadata": {},
     "output_type": "execute_result"
    }
   ],
   "source": [
    "df_total['event_datetime']"
   ]
  },
  {
   "cell_type": "code",
   "execution_count": 590,
   "id": "7f7c5a44",
   "metadata": {},
   "outputs": [],
   "source": [
    "for hour in range(len(df_total)):\n",
    "    df_total.loc[hour, 'hour'] = df_total.loc[hour, 'event_datetime'].hour"
   ]
  },
  {
   "cell_type": "markdown",
   "id": "de6100d1",
   "metadata": {},
   "source": [
    "Теперь будем анализировать зависимость eCPM от времени дня. Процесс будет выглядеть следующим образом : сначала я распределю на условные 4 группы - ночь - утро - день - вечер, потом посмотрим на группировки средних и суммарны eCPM? а там будет видно что и как."
   ]
  },
  {
   "cell_type": "code",
   "execution_count": 587,
   "id": "cc83af72",
   "metadata": {},
   "outputs": [],
   "source": [
    "df_total['event_datetime'] = pd.to_datetime(df_total['event_datetime'])"
   ]
  },
  {
   "cell_type": "code",
   "execution_count": 594,
   "id": "8f4387ef",
   "metadata": {},
   "outputs": [],
   "source": [
    "daypart = []\n",
    "for i in range(len(df_total)):\n",
    "    if df_total.loc[i , 'hour'] < 6:\n",
    "        daypart.append(\"night\")\n",
    "    elif 6 < df_total.loc[i , 'hour'] < 12:\n",
    "        daypart.append(\"morning\")\n",
    "    elif 12< df_total.loc[i , 'hour'] < 18 :\n",
    "        daypart.append(\"day\")\n",
    "    else:\n",
    "        daypart.append(\"evening\")"
   ]
  },
  {
   "cell_type": "code",
   "execution_count": 595,
   "id": "b69ee0ca",
   "metadata": {},
   "outputs": [],
   "source": [
    "df_total['part_of_day'] = daypart"
   ]
  },
  {
   "cell_type": "code",
   "execution_count": 596,
   "id": "cad48bba",
   "metadata": {},
   "outputs": [],
   "source": [
    "pivot_day = df_total.pivot_table(index = 'part_of_day', values = 'ecpm', aggfunc = \"mean\")"
   ]
  },
  {
   "cell_type": "code",
   "execution_count": 614,
   "id": "a9baf407",
   "metadata": {},
   "outputs": [
    {
     "data": {
      "text/plain": [
       "<AxesSubplot:title={'center':'eCPM по времени дня'}, xlabel='part_of_day'>"
      ]
     },
     "execution_count": 614,
     "metadata": {},
     "output_type": "execute_result"
    },
    {
     "data": {
      "image/png": "[encoded data removed]",
      "text/plain": [
       "<Figure size 1080x576 with 1 Axes>"
      ]
     },
     "metadata": {},
     "output_type": "display_data"
    }
   ],
   "source": [
    "pivot_day.plot(kind = \"bar\", figsize = (15,8), title = \"eCPM по времени дня\", color = )"
   ]
  },
  {
   "cell_type": "markdown",
   "id": "9a320ae8",
   "metadata": {},
   "source": [
    "<a id='8-bullet'></a>"
   ]
  },
  {
   "cell_type": "markdown",
   "id": "59d319dc",
   "metadata": {},
   "source": [
    "# Какой тип рекламы самый эффективный ? "
   ]
  },
  {
   "cell_type": "code",
   "execution_count": 639,
   "id": "080eeca6",
   "metadata": {},
   "outputs": [
    {
     "data": {
      "text/html": [
       "<div>\n",
       "<style scoped>\n",
       "    .dataframe tbody tr th:only-of-type {\n",
       "        vertical-align: middle;\n",
       "    }\n",
       "\n",
       "    .dataframe tbody tr th {\n",
       "        vertical-align: top;\n",
       "    }\n",
       "\n",
       "    .dataframe thead th {\n",
       "        text-align: right;\n",
       "    }\n",
       "</style>\n",
       "<table border=\"1\" class=\"dataframe\">\n",
       "  <thead>\n",
       "    <tr style=\"text-align: right;\">\n",
       "      <th></th>\n",
       "      <th>ecpm</th>\n",
       "    </tr>\n",
       "    <tr>\n",
       "      <th>ad_type</th>\n",
       "      <th></th>\n",
       "    </tr>\n",
       "  </thead>\n",
       "  <tbody>\n",
       "    <tr>\n",
       "      <th>banner</th>\n",
       "      <td>0.818187</td>\n",
       "    </tr>\n",
       "    <tr>\n",
       "      <th>int</th>\n",
       "      <td>41.260614</td>\n",
       "    </tr>\n",
       "    <tr>\n",
       "      <th>rv</th>\n",
       "      <td>73.353143</td>\n",
       "    </tr>\n",
       "  </tbody>\n",
       "</table>\n",
       "</div>"
      ],
      "text/plain": [
       "              ecpm\n",
       "ad_type           \n",
       "banner    0.818187\n",
       "int      41.260614\n",
       "rv       73.353143"
      ]
     },
     "execution_count": 639,
     "metadata": {},
     "output_type": "execute_result"
    }
   ],
   "source": [
    "df_type_ad = df_total.pivot_table(index = \"ad_type\", values = 'ecpm', aggfunc = 'mean')\n",
    "df_type_ad"
   ]
  },
  {
   "cell_type": "code",
   "execution_count": 642,
   "id": "20198bc9",
   "metadata": {},
   "outputs": [
    {
     "data": {
      "image/png": "[encoded data removed]",
      "text/plain": [
       "<Figure size 576x576 with 1 Axes>"
      ]
     },
     "metadata": {},
     "output_type": "display_data"
    }
   ],
   "source": [
    "sns.set_theme(style=\"whitegrid\")\n",
    "\n",
    "f, ax = plt.subplots(figsize=(8, 8))\n",
    "sns.set_color_codes(\"bright\")\n",
    "sns.barplot(x=\"ecpm\", y=df_type_ad.sort_values(by = \"ecpm\", ascending = False).index,\n",
    "            data=df_type_ad.sort_values(by = \"ecpm\", ascending = False), label=\"Всего eCPM  по городам\", color=\"c\")\n",
    "\n",
    "plt.legend(ncol=2, loc=\"lower right\", frameon=True)\n",
    "sns.despine(left=True, bottom=True)"
   ]
  },
  {
   "cell_type": "code",
   "execution_count": 644,
   "id": "f1ad32f0",
   "metadata": {},
   "outputs": [
    {
     "data": {
      "text/html": [
       "<div>\n",
       "<style scoped>\n",
       "    .dataframe tbody tr th:only-of-type {\n",
       "        vertical-align: middle;\n",
       "    }\n",
       "\n",
       "    .dataframe tbody tr th {\n",
       "        vertical-align: top;\n",
       "    }\n",
       "\n",
       "    .dataframe thead th {\n",
       "        text-align: right;\n",
       "    }\n",
       "</style>\n",
       "<table border=\"1\" class=\"dataframe\">\n",
       "  <thead>\n",
       "    <tr style=\"text-align: right;\">\n",
       "      <th></th>\n",
       "      <th>ecpm</th>\n",
       "    </tr>\n",
       "    <tr>\n",
       "      <th>device_type</th>\n",
       "      <th></th>\n",
       "    </tr>\n",
       "  </thead>\n",
       "  <tbody>\n",
       "    <tr>\n",
       "      <th>phone</th>\n",
       "      <td>3.222194</td>\n",
       "    </tr>\n",
       "    <tr>\n",
       "      <th>tablet</th>\n",
       "      <td>4.269100</td>\n",
       "    </tr>\n",
       "  </tbody>\n",
       "</table>\n",
       "</div>"
      ],
      "text/plain": [
       "                 ecpm\n",
       "device_type          \n",
       "phone        3.222194\n",
       "tablet       4.269100"
      ]
     },
     "execution_count": 644,
     "metadata": {},
     "output_type": "execute_result"
    }
   ],
   "source": [
    "pivot_device = df_total.pivot_table(index = 'device_type', values = 'ecpm', aggfunc = \"mean\")\n",
    "pivot_device"
   ]
  },
  {
   "cell_type": "code",
   "execution_count": 648,
   "id": "4a4ecba8",
   "metadata": {},
   "outputs": [
    {
     "data": {
      "text/plain": [
       "<AxesSubplot:xlabel='device_type'>"
      ]
     },
     "execution_count": 648,
     "metadata": {},
     "output_type": "execute_result"
    },
    {
     "data": {
      "image/png": "[encoded data removed]",
      "text/plain": [
       "<Figure size 432x576 with 1 Axes>"
      ]
     },
     "metadata": {},
     "output_type": "display_data"
    }
   ],
   "source": [
    "pivot_device.plot(kind = \"bar\", figsize = (6, 8))"
   ]
  },
  {
   "cell_type": "markdown",
   "id": "ed776693",
   "metadata": {},
   "source": [
    "Судя по всему, на средний планшет выгоднее размещать рекламу, чем на телефоны..."
   ]
  },
  {
   "cell_type": "code",
   "execution_count": 649,
   "id": "3f73a623",
   "metadata": {},
   "outputs": [
    {
     "data": {
      "text/plain": [
       "<AxesSubplot:xlabel='device_type'>"
      ]
     },
     "execution_count": 649,
     "metadata": {},
     "output_type": "execute_result"
    },
    {
     "data": {
      "image/png": "[encoded data removed]",
      "text/plain": [
       "<Figure size 432x288 with 1 Axes>"
      ]
     },
     "metadata": {},
     "output_type": "display_data"
    }
   ],
   "source": [
    "df_total.pivot_table(index = 'device_type', values = 'ecpm', aggfunc = \"sum\").plot(kind = \"bar\")"
   ]
  },
  {
   "cell_type": "markdown",
   "id": "266de4af",
   "metadata": {},
   "source": [
    "Но, как и ожидалось, телефонов все-таки больше...."
   ]
  },
  {
   "cell_type": "markdown",
   "id": "7d384a8a",
   "metadata": {},
   "source": [
    "<a id='9-bullet'></a>"
   ]
  },
  {
   "cell_type": "markdown",
   "id": "abf1e974",
   "metadata": {},
   "source": [
    "# Вывод"
   ]
  },
  {
   "cell_type": "markdown",
   "id": "aa594fc5",
   "metadata": {},
   "source": [
    "По работе можно сделать следующие выводы : <br>\n",
    "1) Типический пользователь (то есть который количественно чаще встречается) характеризуется как сидящий на 12 ОС, из Нью-Йорка<br>\n",
    "2) Пользователь, приносящий больше всего денег - из Кливленда, тоже смотрящий рекламу на 12 ос"
   ]
  },
  {
   "cell_type": "markdown",
   "id": "d1a09a51",
   "metadata": {},
   "source": [
    "Предлагаемые варианты для развития проекта : \n",
    "<font color='green'>\n",
    "1) Акцентировать внимание на развитии приложений под свежие операционные системы, так как переходящих туда пользователей количественно и качественно больше <br>\n",
    "2) Сохранить аудиторию из Нью-Йорка как самую часто потребляющую рекламу посредством возможно её увеличения (возможно с помощью увеличения временной составляющей рекламы, или легонько поднять ее частоту НО ЭТО ГИПОТЕЗЫ КОТОРЫЕ НАДО ПОДТВЕРЖДАТЬ ЭКСПЕРИМЕНТАЛЬНЫМИ ДАННЫМИ НАПРИМЕР С ПОМОЩЬЮ AB ТЕСТИРОВАНИЯ. ЯВЛЯЕТСЯ ПОВЕРХНОСТНОЙ РЕКОМЕНДАЦИЕЙ НА ОСНОВЕ ОГРАНИЧЕННОЙ ИНФОРМАЦИИ<br>\n",
    "3) Предлагать рекламодателям регион Кливленда, Нью-Йорка и прочих из вышепоказанного топа как приоритетные и рекомендованные регионы для показа рекламы.<br>\n",
    "4) С 0 до 12 пользователи больше склонны приносить денег, смотря рекламу. Возможно, в соответствии с этой гипотезой стоит разрабатывать алгоритмы, подсовывающие рекламу.<br>\n",
    "5) Видео и полноэкранная реклама - самые приносящие в среднем форматы рекламы.<br>\n",
    "6) Размещать рекламные объявления судя по всему выгоднее на телефоны, ибо их банально больше."
   ]
  },
  {
   "cell_type": "markdown",
   "id": "5b8d7a7e",
   "metadata": {},
   "source": [
    "Чего избегать : <br>\n",
    "<font color='red'>\n",
    "1) Базово, потери \"лояльности\" аудитории из Кливленда как самой лояльной к рекламе.<br>\n",
    "2) Стараться не выставлять рекламу с 12 до 0. Точнее, делать это иначе, потому что в это время идет меньший рекламный поток.<br>\n",
    "3)Баннеры - экономически неэффективны в том виде, в каком они есть у рекламодателей. Надо что-то с этим делать.\n",
    "4) Развивать рекламу, рассчитанную под планшеты, ее меньше смотрят из-за специфики устройства и не такой распространенности, как телефонов."
   ]
  },
  {
   "cell_type": "code",
   "execution_count": null,
   "id": "817866b4",
   "metadata": {},
   "outputs": [],
   "source": []
  }
 ],
 "metadata": {
  "kernelspec": {
   "display_name": "Python 3",
   "language": "python",
   "name": "python3"
  },
  "language_info": {
   "codemirror_mode": {
    "name": "ipython",
    "version": 3
   },
   "file_extension": ".py",
   "mimetype": "text/x-python",
   "name": "python",
   "nbconvert_exporter": "python",
   "pygments_lexer": "ipython3",
   "version": "3.8.8"
  },
  "toc": {
   "base_numbering": 1,
   "nav_menu": {},
   "number_sections": true,
   "sideBar": true,
   "skip_h1_title": true,
   "title_cell": "Table of Contents",
   "title_sidebar": "Contents",
   "toc_cell": true,
   "toc_position": {},
   "toc_section_display": true,
   "toc_window_display": false
  }
 },
 "nbformat": 4,
 "nbformat_minor": 5
}
