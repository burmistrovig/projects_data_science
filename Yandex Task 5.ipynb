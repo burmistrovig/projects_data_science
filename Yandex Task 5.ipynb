{
 "cells": [
  {
   "cell_type": "markdown",
   "id": "e56967f0",
   "metadata": {},
   "source": [
    "# Task 5"
   ]
  },
  {
   "cell_type": "markdown",
   "id": "0fc86042",
   "metadata": {},
   "source": [
    "Omer trained a linear regression model and tested its performance on a test sample of 500\n",
    "objects. On 400 of those, the model returned a prediction higher than expected by 0.5, and on\n",
    "the remaining 100, the model returned a prediction lower than expected by 0.7.\n",
    "What is the MSE for his model?\n",
    "Limor claims that the linear regression model wasn't trained correctly, and we can do improve\n",
    "it by changing all the answers by a constant value. What will be her MSE?\n",
    "You can assume that Limor found the smallest error under her constraints.\n",
    "Return two values - Omer's and Limor's MSE."
   ]
  },
  {
   "cell_type": "markdown",
   "id": "e754f4ba",
   "metadata": {},
   "source": [
    "#### Our questions / goals :"
   ]
  },
  {
   "cell_type": "markdown",
   "id": "d7556fa5",
   "metadata": {},
   "source": [
    "What is the MSE for his model?"
   ]
  },
  {
   "cell_type": "markdown",
   "id": "24f4d6f0",
   "metadata": {},
   "source": [
    "What will be her MSE?"
   ]
  },
  {
   "cell_type": "markdown",
   "id": "fb620078",
   "metadata": {},
   "source": [
    "Return two values - Omer's and Limor's MSE."
   ]
  },
  {
   "cell_type": "code",
   "execution_count": 1,
   "id": "a04b16f4",
   "metadata": {},
   "outputs": [],
   "source": [
    "import numpy as np\n",
    "import pandas as pd\n",
    "from sklearn.metrics import mean_squared_error"
   ]
  },
  {
   "cell_type": "code",
   "execution_count": 2,
   "id": "33589fa7",
   "metadata": {},
   "outputs": [],
   "source": [
    "quantity_higher = 400\n",
    "quantity_lower = 100\n",
    "quantity_total = 500"
   ]
  },
  {
   "cell_type": "code",
   "execution_count": 3,
   "id": "cfac88f0",
   "metadata": {},
   "outputs": [],
   "source": [
    "y_true = np.random.rand(500,1)"
   ]
  },
  {
   "cell_type": "code",
   "execution_count": 4,
   "id": "36ee0bec",
   "metadata": {},
   "outputs": [],
   "source": [
    "y_pred = []"
   ]
  },
  {
   "cell_type": "code",
   "execution_count": 5,
   "id": "9d7b08e4",
   "metadata": {},
   "outputs": [],
   "source": [
    "for i in range(quantity_higher):\n",
    "    y_pred.append(y_true[i]+0.5)"
   ]
  },
  {
   "cell_type": "code",
   "execution_count": 6,
   "id": "e04e3d3c",
   "metadata": {},
   "outputs": [],
   "source": [
    "for i in range(quantity_lower):\n",
    "    y_pred.append(y_true[400+i] - 0.7)"
   ]
  },
  {
   "cell_type": "markdown",
   "id": "746671e6",
   "metadata": {},
   "source": [
    "### Omer's MSE"
   ]
  },
  {
   "cell_type": "code",
   "execution_count": 7,
   "id": "a5619d2c",
   "metadata": {},
   "outputs": [
    {
     "data": {
      "text/plain": [
       "0.298"
      ]
     },
     "execution_count": 7,
     "metadata": {},
     "output_type": "execute_result"
    }
   ],
   "source": [
    "mean_squared_error(y_true, y_pred)"
   ]
  },
  {
   "cell_type": "code",
   "execution_count": 8,
   "id": "979c56ac",
   "metadata": {},
   "outputs": [],
   "source": [
    "mean = round(y_true.mean(),4)"
   ]
  },
  {
   "cell_type": "code",
   "execution_count": 9,
   "id": "a1603a77",
   "metadata": {},
   "outputs": [],
   "source": [
    "y_constant = []\n",
    "for i in range(500):\n",
    "    y_constant.append(mean)"
   ]
  },
  {
   "cell_type": "markdown",
   "id": "9e0aeb84",
   "metadata": {},
   "source": [
    "### Limor's MSE"
   ]
  },
  {
   "cell_type": "code",
   "execution_count": 10,
   "id": "1979bf08",
   "metadata": {},
   "outputs": [
    {
     "data": {
      "text/plain": [
       "0.08724484140749886"
      ]
     },
     "execution_count": 10,
     "metadata": {},
     "output_type": "execute_result"
    }
   ],
   "source": [
    "mean_squared_error(y_true, y_constant)"
   ]
  },
  {
   "cell_type": "markdown",
   "id": "e4492755",
   "metadata": {},
   "source": [
    "### My opinion about this  curious situation"
   ]
  },
  {
   "cell_type": "markdown",
   "id": "52ec3093",
   "metadata": {},
   "source": [
    "Limor's idea a little bit strange, as I think. Because in this case we can make our MSE as we want to - little or big depending on our wishes. The most problematic is to use model fitted by constant values (or answering constantly same number) in real life. SO, according to my thoughts, I would not recommend Limor's variant. It's syntetic in bad case of this word."
   ]
  }
 ],
 "metadata": {
  "kernelspec": {
   "display_name": "Python 3",
   "language": "python",
   "name": "python3"
  },
  "language_info": {
   "codemirror_mode": {
    "name": "ipython",
    "version": 3
   },
   "file_extension": ".py",
   "mimetype": "text/x-python",
   "name": "python",
   "nbconvert_exporter": "python",
   "pygments_lexer": "ipython3",
   "version": "3.8.8"
  }
 },
 "nbformat": 4,
 "nbformat_minor": 5
}
